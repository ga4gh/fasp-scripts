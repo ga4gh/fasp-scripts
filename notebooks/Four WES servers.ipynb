{
 "cells": [
  {
   "cell_type": "markdown",
   "metadata": {},
   "source": [
    "<img src=\"../fasp/runner/credits/images/Horizontal2.png\" style=\"float: right;\">\n",
    "\n",
    "\n",
    "### Run compute on 4 WES servers - where the Horizontal demo goes next\n",
    "Runs  compute on four different platforms. Three are WES servers and one is Google Cloud.\n",
    "\n",
    "The compute is only MD5 but this example shows the capability to orchestrate a set of servers which show diversity geographically, organizationally and on different technical platforms. \n",
    "\n"
   ]
  },
  {
   "cell_type": "code",
   "execution_count": 7,
   "metadata": {},
   "outputs": [
    {
     "name": "stdout",
     "output_type": "stream",
     "text": [
      "Running <ipython-input-7-b631d6f521c2>\n",
      "Running query\n",
      "\n",
      "    SELECT 'case_'||associated_entities__case_gdc_id , file_id\n",
      "    FROM search_cloud.cshcodeathon.gdc_rel24_filedata_active \n",
      "    where data_format = 'BAM' \n",
      "    and project_disease_type = 'Breast Invasive Carcinoma'\n",
      "    limit 1\n",
      "_Retrieving the query_\n",
      "____Page1_______________\n",
      "____Page2_______________\n",
      "____Page3_______________\n",
      "____Page4_______________\n",
      "____Page5_______________\n",
      "subject=case_1b703058-e596-45bc-80fe-8b98d545c2e2, drsID=030e5e74-6461-4f05-a399-de8e470bc056\n",
      "workflow submitted, run:1c484dfb-95df-4637-a349-ab838a5d3678\n",
      "____________________________________________________________\n",
      "Running query\n",
      "\n",
      "    SELECT 'case_'||associated_entities__case_gdc_id , file_id\n",
      "    FROM search_cloud.cshcodeathon.gdc_rel24_filedata_active \n",
      "    where data_format = 'BAM' \n",
      "    and project_disease_type = 'Breast Invasive Carcinoma'\n",
      "    limit 1\n",
      "_Retrieving the query_\n",
      "____Page1_______________\n",
      "____Page2_______________\n",
      "____Page3_______________\n",
      "____Page4_______________\n",
      "____Page5_______________\n",
      "subject=case_1b703058-e596-45bc-80fe-8b98d545c2e2, drsID=030e5e74-6461-4f05-a399-de8e470bc056\n",
      "workflow submitted, run:11272447383364478729\n",
      "____________________________________________________________\n",
      "Running query\n",
      "\n",
      "    SELECT 'case_'||associated_entities__case_gdc_id , file_id\n",
      "    FROM search_cloud.cshcodeathon.gdc_rel24_filedata_active \n",
      "    where data_format = 'BAM' \n",
      "    and project_disease_type = 'Breast Invasive Carcinoma'\n",
      "    limit 1\n",
      "_Retrieving the query_\n",
      "____Page1_______________\n",
      "____Page2_______________\n",
      "____Page3_______________\n",
      "____Page4_______________\n",
      "____Page5_______________\n",
      "subject=case_1b703058-e596-45bc-80fe-8b98d545c2e2, drsID=030e5e74-6461-4f05-a399-de8e470bc056\n",
      "workflow submitted, run:LIFHXN\n",
      "____________________________________________________________\n",
      "Running query\n",
      "\n",
      "    SELECT 'case_'||associated_entities__case_gdc_id , file_id\n",
      "    FROM search_cloud.cshcodeathon.gdc_rel24_filedata_active \n",
      "    where data_format = 'BAM' \n",
      "    and project_disease_type = 'Breast Invasive Carcinoma'\n",
      "    limit 1\n",
      "_Retrieving the query_\n",
      "____Page1_______________\n",
      "____Page2_______________\n",
      "____Page3_______________\n",
      "____Page4_______________\n",
      "____Page5_______________\n",
      "subject=case_1b703058-e596-45bc-80fe-8b98d545c2e2, drsID=030e5e74-6461-4f05-a399-de8e470bc056\n",
      "workflow submitted, run:1a826a16-daee-465b-a154-e2c5a81e0c0d\n",
      "____________________________________________________________\n"
     ]
    }
   ],
   "source": [
    "from fasp.runner import FASPRunner\n",
    "\n",
    "# The implementations we're using\n",
    "from fasp.loc import crdcDRSClient\n",
    "from fasp.workflow import sbcgcWESClient, GCPLSsamtools, ElixirWESClient, DNAStackWESClient\n",
    "from fasp.search import DataConnectClient\n",
    "\n",
    "faspRunner = FASPRunner(program='Horizontal2')\n",
    "settings = faspRunner.settings\n",
    "\n",
    "sbProject = settings['SevenBridgesProject']\n",
    "\n",
    "# Step 1 - Discovery\n",
    "# query for relevant DRS objects\n",
    "searchClient = DataConnectClient('https://ga4gh-search-adapter-presto-public.prod.dnastack.com/')\n",
    "\n",
    "# Step 3 - set up the classes that runs samtools on the two clouds\n",
    "location = 'projects/{}/locations/{}'.format(settings['GCPProject'], settings['GCPPipelineRegion'])\n",
    "sam2 = GCPLSsamtools(location, settings['GCPOutputBucket'])\n",
    "mysams = {'s3':{'wes':sbcgcWESClient(settings['SevenBridgesProject']), 'access_id' : 's3'},\n",
    "          'gs': {'wes':sam2, 'access_id': 'gs'},\n",
    "         'el' : {'wes':ElixirWESClient('~/.keys/elixir_wes_credentials.json'), 'access_id' : 's3'},\n",
    "         'dn' : {'wes':DNAStackWESClient('~/.keys/dnastack_wes_credentials.json'), 'access_id' : 'gs'}\n",
    "         }\n",
    "\n",
    "\n",
    "query = '''\n",
    "    SELECT 'case_'||associated_entities__case_gdc_id , file_id\n",
    "    FROM search_cloud.cshcodeathon.gdc_rel24_filedata_active \n",
    "    where data_format = 'BAM' \n",
    "    and project_disease_type = 'Breast Invasive Carcinoma'\n",
    "    limit 1'''\n",
    "\n",
    "\n",
    "for sam, samClient in mysams.items():\n",
    "    drsClient = crdcDRSClient('~/.keys/crdc_credentials.json', samClient['access_id'])\n",
    "    faspRunner.configure(searchClient, drsClient, samClient['wes'])\n",
    "    faspRunner.runQuery(query, 'cross cloud SAMTools validation')"
   ]
  },
  {
   "cell_type": "code",
   "execution_count": 8,
   "metadata": {},
   "outputs": [
    {
     "data": {
      "image/png": "[encoded data removed]",
      "text/plain": [
       "<PIL.Image.Image image mode=RGB size=240x60 at 0x1268E2438>"
      ]
     },
     "execution_count": 8,
     "metadata": {},
     "output_type": "execute_result"
    }
   ],
   "source": [
    "faspRunner.getFASPicon()"
   ]
  },
  {
   "cell_type": "code",
   "execution_count": null,
   "metadata": {},
   "outputs": [],
   "source": []
  }
 ],
 "metadata": {
  "kernelspec": {
   "display_name": "Python 3",
   "language": "python",
   "name": "python3"
  },
  "language_info": {
   "codemirror_mode": {
    "name": "ipython",
    "version": 3
   },
   "file_extension": ".py",
   "mimetype": "text/x-python",
   "name": "python",
   "nbconvert_exporter": "python",
   "pygments_lexer": "ipython3",
   "version": "3.7.3"
  }
 },
 "nbformat": 4,
 "nbformat_minor": 4
}
