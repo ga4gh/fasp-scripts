{
 "cells": [
  {
   "cell_type": "markdown",
   "metadata": {},
   "source": [
    "<img src=\"../fasp/runner/credits/images/Horizontal2.png\" style=\"float: right;\">\n",
    "\n",
    "\n",
    "### Run compute on 4 WES servers - where the Horizontal demo goes next\n",
    "Runs  compute on four different platforms. Three are WES servers and one is Google Cloud.\n",
    "\n",
    "The compute is only MD5 but this example shows the capability to orchestrate a set of servers which show diversity geographically, organizationally and on different technical platforms. \n",
    "\n"
   ]
  },
  {
   "cell_type": "code",
   "execution_count": 20,
   "metadata": {},
   "outputs": [],
   "source": [
    "from fasp.runner import FASPRunner\n",
    "\n",
    "# The implementations we're using\n",
    "from fasp.loc import crdcDRSClient\n",
    "from fasp.workflow import sbcgcWESClient, GCPLSsamtools, ElixirWESClient, DNAStackWESClient\n",
    "from fasp.search import DataConnectClient\n",
    "\n",
    "faspRunner = FASPRunner(program='Four WES servers')\n",
    "settings = faspRunner.settings\n",
    "\n",
    "sbProject = settings['SevenBridgesProject']\n",
    "\n",
    "# Step 1 - Discovery\n",
    "# query for relevant DRS objects\n",
    "searchClient = DataConnectClient('https://ga4gh-search-adapter-presto-public.prod.dnastack.com/')\n",
    "\n",
    "# Step 3 - set up the WES clients\n",
    "location = 'projects/{}/locations/{}'.format(settings['GCPProject'], settings['GCPPipelineRegion'])\n",
    "sam2 = GCPLSsamtools(location, settings['GCPOutputBucket'])\n",
    "mysams = {'s3':{'wes':sbcgcWESClient(settings['SevenBridgesProject']), 'access_id' : 's3'},\n",
    "          'gs': {'wes':sam2, 'access_id': 'gs'},\n",
    "         'el' : {'wes':ElixirWESClient('https://wes.rahtiapp.fi/ga4gh/wes/v1'), 'access_id' : 's3'},\n",
    "         'dn' : {'wes':DNAStackWESClient('~/.keys/dnastack_wes_credentials.json'), 'access_id' : 'gs'}\n",
    "         }"
   ]
  },
  {
   "cell_type": "code",
   "execution_count": 21,
   "metadata": {},
   "outputs": [
    {
     "name": "stdout",
     "output_type": "stream",
     "text": [
      "Running query\n",
      "\n",
      "    SELECT 'case_'||associated_entities__case_gdc_id , file_id\n",
      "    FROM search_cloud.cshcodeathon.gdc_rel24_filedata_active \n",
      "    where data_format = 'BAM' \n",
      "    and project_disease_type = 'Breast Invasive Carcinoma'\n",
      "    limit 1\n",
      "_Retrieving the query_\n",
      "____Page1_______________\n",
      "____Page2_______________\n",
      "____Page3_______________\n",
      "____Page4_______________\n",
      "____Page5_______________\n",
      "subject=case_1b703058-e596-45bc-80fe-8b98d545c2e2, drsID=030e5e74-6461-4f05-a399-de8e470bc056\n",
      "https://cgc-ga4gh-api.sbgenomics.com/ga4gh/wes/v1\n",
      "workflow submitted, run:f936fd5d-0c76-4b68-b538-70d2f1553c76\n",
      "____________________________________________________________\n",
      "Running query\n",
      "\n",
      "    SELECT 'case_'||associated_entities__case_gdc_id , file_id\n",
      "    FROM search_cloud.cshcodeathon.gdc_rel24_filedata_active \n",
      "    where data_format = 'BAM' \n",
      "    and project_disease_type = 'Breast Invasive Carcinoma'\n",
      "    limit 1\n",
      "_Retrieving the query_\n",
      "____Page1_______________\n",
      "____Page2_______________\n",
      "____Page3_______________\n",
      "____Page4_______________\n",
      "____Page5_______________\n",
      "subject=case_1b703058-e596-45bc-80fe-8b98d545c2e2, drsID=030e5e74-6461-4f05-a399-de8e470bc056\n",
      "workflow submitted, run:8839409979235364299\n",
      "____________________________________________________________\n",
      "Running query\n",
      "\n",
      "    SELECT 'case_'||associated_entities__case_gdc_id , file_id\n",
      "    FROM search_cloud.cshcodeathon.gdc_rel24_filedata_active \n",
      "    where data_format = 'BAM' \n",
      "    and project_disease_type = 'Breast Invasive Carcinoma'\n",
      "    limit 1\n",
      "_Retrieving the query_\n",
      "____Page1_______________\n",
      "____Page2_______________\n",
      "____Page3_______________\n",
      "____Page4_______________\n",
      "____Page5_______________\n",
      "subject=case_1b703058-e596-45bc-80fe-8b98d545c2e2, drsID=030e5e74-6461-4f05-a399-de8e470bc056\n",
      "workflow submitted, run:SY0MB3\n",
      "____________________________________________________________\n",
      "Running query\n",
      "\n",
      "    SELECT 'case_'||associated_entities__case_gdc_id , file_id\n",
      "    FROM search_cloud.cshcodeathon.gdc_rel24_filedata_active \n",
      "    where data_format = 'BAM' \n",
      "    and project_disease_type = 'Breast Invasive Carcinoma'\n",
      "    limit 1\n",
      "_Retrieving the query_\n",
      "____Page1_______________\n",
      "____Page2_______________\n",
      "____Page3_______________\n",
      "____Page4_______________\n",
      "____Page5_______________\n",
      "subject=case_1b703058-e596-45bc-80fe-8b98d545c2e2, drsID=030e5e74-6461-4f05-a399-de8e470bc056\n",
      "workflow submitted, run:4dcacbfb-78c8-4097-b103-eed8e29b9c89\n",
      "____________________________________________________________\n"
     ]
    }
   ],
   "source": [
    "query = '''\n",
    "    SELECT 'case_'||associated_entities__case_gdc_id , file_id\n",
    "    FROM search_cloud.cshcodeathon.gdc_rel24_filedata_active \n",
    "    where data_format = 'BAM' \n",
    "    and project_disease_type = 'Breast Invasive Carcinoma'\n",
    "    limit 1'''\n",
    "\n",
    "\n",
    "for sam, samClient in mysams.items():\n",
    "    drsClient = crdcDRSClient('~/.keys/crdc_credentials.json', samClient['access_id'])\n",
    "    faspRunner.configure(searchClient, drsClient, samClient['wes'])\n",
    "    faspRunner.runQuery(query, 'Four WES ' + sam)"
   ]
  },
  {
   "cell_type": "code",
   "execution_count": 22,
   "metadata": {
    "scrolled": false
   },
   "outputs": [
    {
     "name": "stdout",
     "output_type": "stream",
     "text": [
      "DataConnectClient\n",
      "crdcDRSClient\n",
      "sbcgcWESClient\n",
      "DataConnectClient\n",
      "crdcDRSClient\n",
      "GCPLSsamtools\n",
      "DataConnectClient\n",
      "crdcDRSClient\n",
      "ElixirWESClient\n",
      "DataConnectClient\n",
      "crdcDRSClient\n",
      "DNAStackWESClient\n"
     ]
    },
    {
     "data": {
      "image/png": "[encoded data removed]",
      "text/plain": [
       "<PIL.Image.Image image mode=RGB size=240x60 at 0x1278930B8>"
      ]
     },
     "execution_count": 22,
     "metadata": {},
     "output_type": "execute_result"
    }
   ],
   "source": [
    "faspRunner.getFASPicon()"
   ]
  },
  {
   "cell_type": "code",
   "execution_count": null,
   "metadata": {},
   "outputs": [],
   "source": []
  }
 ],
 "metadata": {
  "kernelspec": {
   "display_name": "Python 3",
   "language": "python",
   "name": "python3"
  },
  "language_info": {
   "codemirror_mode": {
    "name": "ipython",
    "version": 3
   },
   "file_extension": ".py",
   "mimetype": "text/x-python",
   "name": "python",
   "nbconvert_exporter": "python",
   "pygments_lexer": "ipython3",
   "version": "3.7.3"
  }
 },
 "nbformat": 4,
 "nbformat_minor": 4
}
