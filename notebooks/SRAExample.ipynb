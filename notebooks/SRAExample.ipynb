{
 "cells": [
  {
   "cell_type": "markdown",
   "metadata": {},
   "source": [
    "<img src=\"../fasp/runner/credits/images/FASPNotebook10.jpg\" style=\"float: right;\">\n",
    "\n",
    "## Obtain Thousand Genomes files from SRA DRS and submit to Seven Bridges WES\n",
    "This notebook explores use of the SRA DRS server. It is derived from FASPScript14.py but has been adapted to use a Seven Bridges WES service. \n",
    "\n",
    "The mapping of DRS ids to SRA accessions may be done in different ways and the process to do so is in flux.\n",
    "\n",
    "The approach taken below is using mapping is available through subject and specimen data available through the Search API. In fact in this case the SRR accession shown only for information. The query is formulated in terms of a particular population and that we want mapped bam files. This gives us DRS id's directly. Alternatively a list of SRR accessions could be used."
   ]
  },
  {
   "cell_type": "code",
   "execution_count": 1,
   "metadata": {},
   "outputs": [
    {
     "name": "stdout",
     "output_type": "stream",
     "text": [
      "_Retrieving the query_\n",
      "____Page1_______________\n",
      "____Page2_______________\n",
      "____Page3_______________\n",
      "____Page4_______________\n",
      "____Page5_______________\n",
      "____Page6_______________\n"
     ]
    },
    {
     "data": {
      "text/html": [
       "<div>\n",
       "<style scoped>\n",
       "    .dataframe tbody tr th:only-of-type {\n",
       "        vertical-align: middle;\n",
       "    }\n",
       "\n",
       "    .dataframe tbody tr th {\n",
       "        vertical-align: top;\n",
       "    }\n",
       "\n",
       "    .dataframe thead th {\n",
       "        text-align: right;\n",
       "    }\n",
       "</style>\n",
       "<table border=\"1\" class=\"dataframe\">\n",
       "  <thead>\n",
       "    <tr style=\"text-align: right;\">\n",
       "      <th></th>\n",
       "      <th>sample_name</th>\n",
       "      <th>bam_drs_id</th>\n",
       "      <th>acc</th>\n",
       "    </tr>\n",
       "  </thead>\n",
       "  <tbody>\n",
       "    <tr>\n",
       "      <th>0</th>\n",
       "      <td>NA18948</td>\n",
       "      <td>fb1cfb04d3ef99d07c21f9dbf87ccc68</td>\n",
       "      <td>SRR1601121</td>\n",
       "    </tr>\n",
       "    <tr>\n",
       "      <th>1</th>\n",
       "      <td>NA18945</td>\n",
       "      <td>9327fb44eb81b49a41e38c8d86eb3b3a</td>\n",
       "      <td>SRR1601115</td>\n",
       "    </tr>\n",
       "    <tr>\n",
       "      <th>2</th>\n",
       "      <td>NA18943</td>\n",
       "      <td>9f38253b281c7e9c99e4bdbececd8e2f</td>\n",
       "      <td>SRR1606910</td>\n",
       "    </tr>\n",
       "  </tbody>\n",
       "</table>\n",
       "</div>"
      ],
      "text/plain": [
       "  sample_name                        bam_drs_id         acc\n",
       "0     NA18948  fb1cfb04d3ef99d07c21f9dbf87ccc68  SRR1601121\n",
       "1     NA18945  9327fb44eb81b49a41e38c8d86eb3b3a  SRR1601115\n",
       "2     NA18943  9f38253b281c7e9c99e4bdbececd8e2f  SRR1606910"
      ]
     },
     "execution_count": 1,
     "metadata": {},
     "output_type": "execute_result"
    }
   ],
   "source": [
    "from fasp.search import DiscoverySearchClient\n",
    "\n",
    "# Step 1 - Discovery\n",
    "# query for relevant DRS objects\n",
    "searchClient = DiscoverySearchClient('https://ga4gh-search-adapter-presto-public.prod.dnastack.com/')\n",
    "\n",
    "query = '''SELECT f.sample_name, drs_id bam_drs_id, acc\n",
    "FROM thousand_genomes.onek_genomes.ssd_drs s \n",
    "join thousand_genomes.onek_genomes.sra_drs_files f on f.sample_name = s.su_submitter_id \n",
    "where filetype = 'bam' and mapped = 'mapped' \n",
    "and sequencing_type ='exome' and  population = 'JPT' LIMIT 3'''\n",
    "\n",
    "resultRows = searchClient.runQuery(query, returnType='dataframe')\n",
    "resultRows"
   ]
  },
  {
   "cell_type": "markdown",
   "metadata": {},
   "source": [
    "The method of calling the Search client above returns a dataframe. This is convenient for many purposes, including listing the results as above. The default return type from the runQuery gives a list of lists."
   ]
  },
  {
   "cell_type": "code",
   "execution_count": 8,
   "metadata": {},
   "outputs": [
    {
     "name": "stdout",
     "output_type": "stream",
     "text": [
      "_Retrieving the query_\n",
      "____Page1_______________\n",
      "____Page2_______________\n",
      "____Page3_______________\n",
      "____Page4_______________\n",
      "____Page5_______________\n",
      "____Page6_______________\n"
     ]
    },
    {
     "data": {
      "text/plain": [
       "[['NA18948', 'fb1cfb04d3ef99d07c21f9dbf87ccc68', 'SRR1601121'],\n",
       " ['NA18945', '9327fb44eb81b49a41e38c8d86eb3b3a', 'SRR1601115'],\n",
       " ['NA18943', '9f38253b281c7e9c99e4bdbececd8e2f', 'SRR1606910']]"
      ]
     },
     "execution_count": 8,
     "metadata": {},
     "output_type": "execute_result"
    }
   ],
   "source": [
    "results = searchClient.runQuery(query)\n",
    "results"
   ]
  },
  {
   "cell_type": "markdown",
   "metadata": {},
   "source": [
    "The following shows how the SRA DRS server can be used to determine where the files can be obtained from. The following shows this for the first DRS id from the query results. "
   ]
  },
  {
   "cell_type": "code",
   "execution_count": 33,
   "metadata": {},
   "outputs": [
    {
     "name": "stdout",
     "output_type": "stream",
     "text": [
      "fb1cfb04d3ef99d07c21f9dbf87ccc68\n"
     ]
    },
    {
     "data": {
      "text/plain": [
       "{'access_methods': [{'access_id': 'b5f46aadbcb48d7141104db0440feb63cd4e61c8',\n",
       "   'region': 's3.us-east-1',\n",
       "   'type': 'https'},\n",
       "  {'access_id': '1bc0bc010f0edf4ef18af594acdba5db864db67e',\n",
       "   'region': 'gs.US',\n",
       "   'type': 'https'},\n",
       "  {'access_id': '722d3466edf7ad5f6797f9774e21b368c45ad5b1', 'type': 'https'}],\n",
       " 'checksums': [{'checksum': 'fb1cfb04d3ef99d07c21f9dbf87ccc68',\n",
       "   'type': 'md5'}],\n",
       " 'created_time': '2013-02-25T23:24:10Z',\n",
       " 'id': 'fb1cfb04d3ef99d07c21f9dbf87ccc68',\n",
       " 'name': 'NA18948.mapped.ILLUMINA.bwa.JPT.exome.20121211.bam',\n",
       " 'self_url': 'drs://locate.md-be.ncbi.nlm.nih.gov/fb1cfb04d3ef99d07c21f9dbf87ccc68',\n",
       " 'size': 8752606127}"
      ]
     },
     "execution_count": 33,
     "metadata": {},
     "output_type": "execute_result"
    }
   ],
   "source": [
    "from fasp.loc import DRSClient\n",
    "\n",
    "#drsClient = DRSMetaResolver()\n",
    "drsClient = DRSClient('https://locate.be-md.ncbi.nlm.nih.gov', public=True)\n",
    "test_id = results[0][1]\n",
    "print(test_id)\n",
    "objInfo = drsClient.getObject(test_id)\n",
    "objInfo"
   ]
  },
  {
   "cell_type": "markdown",
   "metadata": {},
   "source": [
    "A second DRS call can be used to obtain a url to access the file from one of the above locations."
   ]
  },
  {
   "cell_type": "code",
   "execution_count": 38,
   "metadata": {},
   "outputs": [
    {
     "name": "stdout",
     "output_type": "stream",
     "text": [
      "access_id:b5f46aadbcb48d7141104db0440feb63cd4e61c8\n",
      "url:https://1000genomes.s3.amazonaws.com/phase3/data/NA18948/exome_alignment/NA18948.mapped.ILLUMINA.bwa.JPT.exome.20121211.bam\n"
     ]
    }
   ],
   "source": [
    "access_id = objDetails['access_methods'][0]['access_id']\n",
    "print('access_id:{}'.format(access_id))\n",
    "url = drsClient.getAccessURL(test_id, access_id=access_id)\n",
    "print('url:{}'.format(url))"
   ]
  },
  {
   "cell_type": "markdown",
   "metadata": {},
   "source": [
    "Generally FASPRunner encapsulates the steps of pbataining DRS ids and submitting a WES task. FASPRunner currently relies on a convention where access_id itself carries meaning e.g. s3 or gs.us. It seems that is a convention rather than part of the spec. It might be a useful convention but it is probably inadequate. It is necessary to specify to DRS the exact region where we want to access the file - not just a system. In fact gs.us is valid as a region. s3 is not. As of today the Seven Bridges DRS server is using the full region name as access_id. I don't believe that was always been the case. Something else in flux.\n",
    "\n",
    "It could be that a useful convention for access_id would be 'region' as it does make things convenient.\n",
    "\n",
    "The SRA DRS server does not follow this convention. The DRS specification does not require it to do so. Instead the SRA DRS Server returns what is to us, the external user, an arbitrary id. In this case we must iterate over the access methods to determine which access method is that which accesses data in the desired region and obtain the corresponding id.\n",
    "\n",
    "Continuing with our example, we still create an instance of FASPRunner, but only for logging purposes, and to access local settings."
   ]
  },
  {
   "cell_type": "code",
   "execution_count": 2,
   "metadata": {},
   "outputs": [],
   "source": [
    "# The program value is used simply to log which script or notebook submitted WES requests via FASPRunner\n",
    "from fasp.runner import FASPRunner\n",
    "faspRunner = FASPRunner(program='SRAExample')\n",
    "settings = faspRunner.settings\n",
    "\n",
    "from fasp.workflow import sbWESClient\n",
    "\n",
    "# Settings for which instance and project to use are stored in settings, or you may enter values directly\n",
    "wesClient = sbWESClient(settings['SevenBridgesInstance'], settings['SevenBridgesProject'],\n",
    "                        '~/.keys/sbcgc_key.json')"
   ]
  },
  {
   "cell_type": "markdown",
   "metadata": {},
   "source": [
    "This is the loop that would normally be within FASPRunner, but because of the different approach to access_id we will write a custom version"
   ]
  },
  {
   "cell_type": "code",
   "execution_count": 39,
   "metadata": {},
   "outputs": [
    {
     "name": "stdout",
     "output_type": "stream",
     "text": [
      "subject=NA18948, drsID=fb1cfb04d3ef99d07c21f9dbf87ccc68\n",
      "Submitted run 966cc432-3b77-448a-8762-24993a4decfe to sbWESClient\n",
      "_________________________________________________________________________\n",
      "subject=NA18945, drsID=9327fb44eb81b49a41e38c8d86eb3b3a\n",
      "Submitted run f898f288-6b87-4ed9-a1b6-cd871ef4e6bb to sbWESClient\n",
      "_________________________________________________________________________\n",
      "subject=NA18943, drsID=9f38253b281c7e9c99e4bdbececd8e2f\n",
      "Submitted run a9f92fad-a515-40c7-a5a5-51a536e142f5 to sbWESClient\n",
      "_________________________________________________________________________\n"
     ]
    }
   ],
   "source": [
    "import datetime\n",
    "\n",
    "# set the region we want to access data from\n",
    "region = 's3.us-east-1'\n",
    "# and some metadata for logging purposes\n",
    "via = 'SB WES'\n",
    "note = 'SRA DRS Thousand Genomes'\n",
    "        \n",
    "# repeat steps 2 and 3 for each row of the query\n",
    "for row in results:\n",
    "\n",
    "    print(\"subject={}, drsID={}\".format(row[0], row[1]))\n",
    "    drs_id = row[1]\n",
    "\n",
    "\n",
    "    objInfo = drsClient.getObject(drs_id)\n",
    "    # Extract the access method for the region where we want to work with the data\n",
    "    # Not sure whether to be in awe of the power of Python, or to fear its obscurity!\n",
    "    # This would probably be better encapsulated (hidden away) in a DRS client\n",
    "    acc_method = [d for d in objInfo['access_methods'] if 'region' in d and d['region'] == region]\n",
    "    access_id = acc_method[0]['access_id']\n",
    "    url = drsClient.getAccessURL(drs_id, access_id = access_id)\n",
    "    fileSize = objInfo['size']\n",
    "\n",
    "    # Step 3 - Run a pipeline on the file at the drs url\n",
    "    if url != None:\n",
    "        outfile = \"{}.txt\".format(row[0])\n",
    "        time = datetime.datetime.now().strftime(\"%m/%d/%Y, %H:%M:%S\")\n",
    "        run_id = wesClient.runWorkflow(url, outfile)\n",
    "        print('Submitted run {} to {}'.format(run_id, wesClient.__class__.__name__))\n",
    "        faspRunner.logRun(time, via, note,  run_id, outfile, fileSize,\n",
    "            searchClient, drsClient, wesClient)\n",
    "        resRow.append('OK')\n",
    "    else:\n",
    "        print('could not get DRS url')\n",
    "        resRow.append('unauthorized')\n",
    "    print('_________________________________________________________________________')\n"
   ]
  },
  {
   "cell_type": "markdown",
   "metadata": {},
   "source": [
    "QED, but this does highlight some considerations about whether any conventions about access_id should be a) hardened and b) made part of the specification.\n",
    "* Hardening likely would mean the convention should be to use region as the access id\n",
    "* That might be sufficient to make the convention part of the specification.\n",
    "\n",
    "It would certainly seem useful to have the capability to ask DRS for the URL that gives access to the data in a specified region. On the other hand, our wishes about which region to use are irrelevant if a particular file is not available in that region. In that case we have to look at where it is available and work with that. In the case of small files that may just consist of downloadign the file to wherever is convenient to work with it. For large files (BAMs, CRAMs, large images) we likely want to use the access information to determine where to run the workflow. \n",
    "\n",
    "For applicability across a broad range of DRS services it's hard to see that it's possible to avoid iterating over access methods and having the code respond to what it finds. Changing the specification to adopt the convention doesn't benefit this scenario. In more contrained use cases, accessing fewer DRS services and with known behavior, the convenience of getSAccessURL(drsid, region) would be of benefit."
   ]
  },
  {
   "cell_type": "markdown",
   "metadata": {},
   "source": [
    "## Getting the results"
   ]
  },
  {
   "cell_type": "code",
   "execution_count": 3,
   "metadata": {},
   "outputs": [
    {
     "data": {
      "text/plain": [
       "{'request': {'tags': {},\n",
       "  'workflow_params': {'name': 'SAMtools Stats 1.8 run - 01-20-21 15:15:06',\n",
       "   'project': 'forei/gecco',\n",
       "   'inputs': {'total_memory_GB': None,\n",
       "    'coverage_limit': None,\n",
       "    'include_only_read_group': None,\n",
       "    'remove_duplicates': None,\n",
       "    'max_insert_size': None,\n",
       "    'reference_file': {'path': 'drs://cgc-ga4gh-api.sbgenomics.com/5bad6c83e4b0abc138917143',\n",
       "     'name': 'references-hs37d5-hs37d5.fasta',\n",
       "     'class': 'File'},\n",
       "    'output_file_path': 'NA18943.txt',\n",
       "    'alignment_file_url': 'https://1000genomes.s3.amazonaws.com/phase3/data/NA18943/exome_alignment/NA18943.mapped.ILLUMINA.bwa.JPT.exome.20121211.bam'}},\n",
       "  'workflow_type': 'CWL',\n",
       "  'workflow_engine_params': {},\n",
       "  'workflow_url': 'sbg://forei/gecco/samtools-stats-1-8-url'},\n",
       " 'state': 'COMPLETE',\n",
       " 'outputs': {'statistics': {'path': 'drs://cgc-ga4gh-api.sbgenomics.com/60084900e4b09cae7234aa83',\n",
       "   'name': '_5_NA18943.txt',\n",
       "   'class': 'File'}},\n",
       " 'run_id': 'a9f92fad-a515-40c7-a5a5-51a536e142f5',\n",
       " 'run_log': {'name': 'SAMtools Stats 1.8 run - 01-20-21 15:15:06',\n",
       "  'cmd': None,\n",
       "  'start_time': '2021-01-20T15:15:07Z',\n",
       "  'end_time': '2021-01-20T15:15:12Z',\n",
       "  'stdout': None,\n",
       "  'stderr': None,\n",
       "  'exit_code': 0},\n",
       " 'task_logs': [{'name': 'samtools-stats-1-8-url',\n",
       "   'cmd': None,\n",
       "   'start_time': '2021-01-20T15:15:11Z',\n",
       "   'end_time': '2021-01-20T15:15:11Z',\n",
       "   'stdout': None,\n",
       "   'stderr': None,\n",
       "   'exit_code': 0}]}"
      ]
     },
     "execution_count": 3,
     "metadata": {},
     "output_type": "execute_result"
    }
   ],
   "source": [
    "runLog = wesClient.GetRunLog('a9f92fad-a515-40c7-a5a5-51a536e142f5')\n",
    "runLog"
   ]
  },
  {
   "cell_type": "markdown",
   "metadata": {},
   "source": [
    "Use the Seven Bridges CGC DRS service to retrieve the output file"
   ]
  },
  {
   "cell_type": "code",
   "execution_count": 11,
   "metadata": {},
   "outputs": [],
   "source": [
    "from  fasp.loc import sbcgcDRSClient\n",
    "resultsDRS = sbcgcDRSClient('~/.keys/sevenbridges_keys.json', 's3')\n",
    "resultsDRSID = '60084900e4b09cae7234aa83'\n",
    "url = resultsDRS.getAccessURL(resultsDRSID)"
   ]
  },
  {
   "cell_type": "code",
   "execution_count": 9,
   "metadata": {},
   "outputs": [],
   "source": [
    "import requests\n",
    "import os\n",
    "def download(url, file_path):\n",
    "    with open(os.path.expanduser(file_path), \"wb\") as file:\n",
    "        response = requests.get(url)\n",
    "        file.write(response.content)\n",
    "\n",
    "fileDetails = resultsDRS.getObject(resultsDRSID)\n",
    "fullPath = './' + fileDetails['name']\n",
    "download(url, fullPath)       "
   ]
  },
  {
   "cell_type": "code",
   "execution_count": null,
   "metadata": {},
   "outputs": [],
   "source": []
  }
 ],
 "metadata": {
  "kernelspec": {
   "display_name": "Python 3",
   "language": "python",
   "name": "python3"
  },
  "language_info": {
   "codemirror_mode": {
    "name": "ipython",
    "version": 3
   },
   "file_extension": ".py",
   "mimetype": "text/x-python",
   "name": "python",
   "nbconvert_exporter": "python",
   "pygments_lexer": "ipython3",
   "version": "3.7.3"
  }
 },
 "nbformat": 4,
 "nbformat_minor": 4
}
