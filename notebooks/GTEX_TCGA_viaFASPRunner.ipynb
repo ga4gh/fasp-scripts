{
 "cells": [
  {
   "cell_type": "markdown",
   "metadata": {},
   "source": [
    "<img src=\"../fasp/runner/credits/images/nb1.jpg\" style=\"float: right;\">\n",
    "\n",
    "### TCGA and GTEx\n",
    "\n",
    "This variant of the GTEX TCGA workflow uses FASPRunner which is simply called twice in succession with the relevant Search and WES clients. As the DRS ids returned by the searches are prefixed with CURIEs, DRSMetaResolver can be used as the DRS Client in both cases.\n",
    "\n"
   ]
  },
  {
   "cell_type": "code",
   "execution_count": 1,
   "metadata": {},
   "outputs": [],
   "source": [
    "from fasp.search import DiscoverySearchClient, Gen3ManifestClient\n",
    "from fasp.loc import DRSMetaResolver\n",
    "\n",
    "\n",
    "from fasp.runner import FASPRunner\n",
    "\n",
    "faspRunner = FASPRunner(program='GTEX_TCGA_viaFASPRunner.ipynb')\n",
    "runNote = 'GTEX and TCGA via FASPRunner'"
   ]
  },
  {
   "cell_type": "markdown",
   "metadata": {},
   "source": [
    "The following sets clients to handle the TCGA data. Note that the DRS ids prefixed with CURIEs (crdc for the Cancer Research Data Commons and anv for Anvil). This indicates which namespace the ids come from and allows the referenced file to be retrieved from the correct DRS server. \n",
    "\n",
    "Note that for the data in the Google Cloud we are using GCPLSsamtools a fasp class which accesses Google Cloud's Life Science Pipeline API. The plan is to replace that with the DNA Stack WES server when that is updated. "
   ]
  },
  {
   "cell_type": "code",
   "execution_count": 3,
   "metadata": {},
   "outputs": [
    {
     "name": "stdout",
     "output_type": "stream",
     "text": [
      "Running query\n",
      "\n",
      "    SELECT 'case_'||associated_entities__case_gdc_id case_id, 'crdc:'||file_id drs_id\n",
      "    FROM search_cloud.cshcodeathon.gdc_rel24_filedata_active \n",
      "    where data_format = 'BAM' \n",
      "    and project_disease_type = 'Breast Invasive Carcinoma'\n",
      "    limit 3\n",
      "_Retrieving the query_\n",
      "____Page1_______________\n",
      "____Page2_______________\n",
      "____Page3_______________\n",
      "____Page4_______________\n",
      "____Page5_______________\n",
      "____Page6_______________\n",
      "subject=case_1b703058-e596-45bc-80fe-8b98d545c2e2, drsID=crdc:030e5e74-6461-4f05-a399-de8e470bc056\n",
      "sending id 030e5e74-6461-4f05-a399-de8e470bc056 to: crdcDRSClient\n",
      "workflow submitted, run:6626509063595843058\n",
      "____________________________________________________________\n",
      "subject=case_a947a945-4721-45cc-bc45-13b8ea41c10e, drsID=crdc:04c68898-ddac-4e15-9f9a-5bf278d55e4a\n",
      "sending id 04c68898-ddac-4e15-9f9a-5bf278d55e4a to: crdcDRSClient\n",
      "workflow submitted, run:9907653859890778715\n",
      "____________________________________________________________\n",
      "subject=case_c462e422-eb8d-4daf-9897-2a9c6cbd783a, drsID=crdc:00589653-5840-4c11-8572-5aa7d00a73f8\n",
      "sending id 00589653-5840-4c11-8572-5aa7d00a73f8 to: crdcDRSClient\n",
      "workflow submitted, run:5970799768218726057\n",
      "____________________________________________________________\n"
     ]
    }
   ],
   "source": [
    "# TCGA Query - CRDC\n",
    "crdcquery = \"\"\"\n",
    "    SELECT 'case_'||associated_entities__case_gdc_id case_id, 'crdc:'||file_id drs_id\n",
    "    FROM search_cloud.cshcodeathon.gdc_rel24_filedata_active \n",
    "    where data_format = 'BAM' \n",
    "    and project_disease_type = 'Breast Invasive Carcinoma'\n",
    "    limit 3\"\"\"\n",
    "\n",
    "searchClient = DiscoverySearchClient('https://ga4gh-search-adapter-presto-public.prod.dnastack.com/')\n",
    "drsClient = DRSMetaResolver()\n",
    "\n",
    "from fasp.workflow import GCPLSsamtools\n",
    "settings = faspRunner.settings\n",
    "gcplocation = 'projects/{}/locations/{}'.format(settings['GCPProject'], settings['GCPPipelineRegion'])\n",
    "wesClient = GCPLSsamtools(gcplocation, settings['GCPOutputBucket'])\n",
    "\n",
    "faspRunner.configure(searchClient, drsClient, wesClient)\n",
    "runList = faspRunner.runQuery(crdcquery, runNote)\n"
   ]
  },
  {
   "cell_type": "markdown",
   "metadata": {},
   "source": [
    "A Search and WES client are then set up to work with the Anvil data\n",
    "\n",
    "The Search client here  is a placeholder to search a local file. That file contains file ids downloaded as a manifest from the Gen3 Anvil portal. That list of files in that manifest had already been filtered to relevant samples. The anv: DRS prefix was added in an edited version of the file.\n",
    "\n",
    "#Todo check what access_ids DRSMetaresolver is using for each run"
   ]
  },
  {
   "cell_type": "code",
   "execution_count": 4,
   "metadata": {},
   "outputs": [
    {
     "name": "stdout",
     "output_type": "stream",
     "text": [
      "Running query\n",
      "3\n",
      "subject=GTEX-1GTWX-0001-SM-7J3A5.cram, drsID=anv:dg.ANV0/76bb893d-12da-41ca-8828-ff89551d3e15\n",
      "sending id dg.ANV0/76bb893d-12da-41ca-8828-ff89551d3e15 to: anvilDRSClient\n",
      "workflow submitted, run:37c14324-4e81-413d-9b86-0eca72c9e24d\n",
      "____________________________________________________________\n",
      "subject=GTEX-14PQA-0003-SM-7DLH4.cram, drsID=anv:dg.ANV0/66352de8-4b50-4cae-881d-b76d03df5ac8\n",
      "sending id dg.ANV0/66352de8-4b50-4cae-881d-b76d03df5ac8 to: anvilDRSClient\n",
      "workflow submitted, run:92d21ed2-53ba-402a-b077-32cb12ac9beb\n",
      "____________________________________________________________\n",
      "subject=GTEX-1B98T-0004-SM-7J38T.cram, drsID=anv:dg.ANV0/ed9ac9ae-02da-4e97-93da-ad86aa77d227\n",
      "sending id dg.ANV0/ed9ac9ae-02da-4e97-93da-ad86aa77d227 to: anvilDRSClient\n",
      "workflow submitted, run:7dc06985-3e58-4466-9b00-a799b99759f0\n",
      "____________________________________________________________\n"
     ]
    }
   ],
   "source": [
    "from fasp.workflow import sbcgcWESClient\n",
    "searchClient = Gen3ManifestClient('../fasp/data/gtex/gtex-cram-manifest_wCuries.json')\n",
    "# drsClient No need to reset this. DRS Metasolver will pick the right client\n",
    "#wesClient = sbWESClient(settings['SevenBridgesInstance'], settings['SevenBridgesProject'],\n",
    "                    #'~/.keys/sbcgc_key.json')\n",
    "\n",
    "wesClient = sbcgcWESClient(settings['SevenBridgesProject'])\n",
    "\n",
    "faspRunner.configure(searchClient, drsClient, wesClient)\n",
    "runList2 = faspRunner.runQuery(3, runNote)\n"
   ]
  },
  {
   "cell_type": "code",
   "execution_count": null,
   "metadata": {},
   "outputs": [],
   "source": []
  }
 ],
 "metadata": {
  "kernelspec": {
   "display_name": "Python 3",
   "language": "python",
   "name": "python3"
  },
  "language_info": {
   "codemirror_mode": {
    "name": "ipython",
    "version": 3
   },
   "file_extension": ".py",
   "mimetype": "text/x-python",
   "name": "python",
   "nbconvert_exporter": "python",
   "pygments_lexer": "ipython3",
   "version": "3.7.3"
  }
 },
 "nbformat": 4,
 "nbformat_minor": 4
}
