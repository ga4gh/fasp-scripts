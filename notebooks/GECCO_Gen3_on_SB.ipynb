{
 "cells": [
  {
   "cell_type": "markdown",
   "metadata": {},
   "source": [
    "<img src=\"../fasp/runner/credits/images/FullHouse.png\" style=\"float: right;\">\n",
    "\n",
    "## Accessing SRA Controlled Access data\n",
    "This notebook explores using GA4GH DRS to access data stored in the cloud for a controlled access dbGaP project - [phs001554](https://www.ncbi.nlm.nih.gov/projects/gap/cgi-bin/study.cgi?study_id=phs001554.v1.p1) \"Detection of Colorectal Cancer Susceptibility Loci Using Genome-Wide Sequencing\".\n",
    "\n",
    "A query using the GA4GH Search API on controlled access subject and file attributes identifies DRS ids. \n",
    "\n",
    ">Note: The subject and sample data searched through the initial query are on a scrambled copy of the data so that no controlled access records remain intact. Please do not attempt to draw meaningful associations between the subject and sample attributes with the genomic data; this would lead to erroneous conclusions. These examples serve only to illustrate future possibilities, in the hope of identifying ways to make those possibilities real.\n",
    ">\n",
    ">The sequence files used in this notebook are also under controlled access. You will not be able to access those files unless you have been granted access through dbGaP to the phs001554 study. If you have that access you will also have access to the non-scrambled subject and sample data. If that is the case, we would be pleased to hear of your interest, and the possibility of collaborating to ensure the GA4GH tools described here enable your studies. Please see [form to register interest](https://docs.google.com/forms/d/e/1FAIpQLSfmmc3VKd6ANdzaVMyelT3c9gIWuoS4ZwT0vsqD-o2ZRxJf7A/viewform)"
   ]
  },
  {
   "cell_type": "code",
   "execution_count": 1,
   "metadata": {},
   "outputs": [
    {
     "name": "stdout",
     "output_type": "stream",
     "text": [
      "Running GECCO_Gen3_on_SB.ipynb\n",
      "_Retrieving the query_\n",
      "____Page1_______________\n",
      "____Page2_______________\n",
      "____Page3_______________\n",
      "____Page4_______________\n",
      "____Page5_______________\n",
      "____Page6_______________\n"
     ]
    },
    {
     "data": {
      "text/html": [
       "<div>\n",
       "<style scoped>\n",
       "    .dataframe tbody tr th:only-of-type {\n",
       "        vertical-align: middle;\n",
       "    }\n",
       "\n",
       "    .dataframe tbody tr th {\n",
       "        vertical-align: top;\n",
       "    }\n",
       "\n",
       "    .dataframe thead th {\n",
       "        text-align: right;\n",
       "    }\n",
       "</style>\n",
       "<table border=\"1\" class=\"dataframe\">\n",
       "  <thead>\n",
       "    <tr style=\"text-align: right;\">\n",
       "      <th></th>\n",
       "      <th>acc</th>\n",
       "      <th>sample_id</th>\n",
       "      <th>drs_id</th>\n",
       "      <th>sex</th>\n",
       "      <th>age</th>\n",
       "    </tr>\n",
       "  </thead>\n",
       "  <tbody>\n",
       "    <tr>\n",
       "      <th>0</th>\n",
       "      <td>SRR7271762</td>\n",
       "      <td>117454</td>\n",
       "      <td>dg.4DFC/89c68e80-0f5b-47de-b01b-8eb789a1061b</td>\n",
       "      <td>Male</td>\n",
       "      <td>54</td>\n",
       "    </tr>\n",
       "    <tr>\n",
       "      <th>1</th>\n",
       "      <td>SRR7271780</td>\n",
       "      <td>117477</td>\n",
       "      <td>dg.4DFC/fea9649e-1750-43c3-9b87-b314219eb840</td>\n",
       "      <td>Female</td>\n",
       "      <td>55</td>\n",
       "    </tr>\n",
       "    <tr>\n",
       "      <th>2</th>\n",
       "      <td>SRR7271789</td>\n",
       "      <td>117486</td>\n",
       "      <td>dg.4DFC/8ff3df8b-671e-42e3-a684-0dfa49c20e35</td>\n",
       "      <td>Male</td>\n",
       "      <td>55</td>\n",
       "    </tr>\n",
       "  </tbody>\n",
       "</table>\n",
       "</div>"
      ],
      "text/plain": [
       "          acc sample_id                                        drs_id     sex  \\\n",
       "0  SRR7271762    117454  dg.4DFC/89c68e80-0f5b-47de-b01b-8eb789a1061b    Male   \n",
       "1  SRR7271780    117477  dg.4DFC/fea9649e-1750-43c3-9b87-b314219eb840  Female   \n",
       "2  SRR7271789    117486  dg.4DFC/8ff3df8b-671e-42e3-a684-0dfa49c20e35    Male   \n",
       "\n",
       "   age  \n",
       "0   54  \n",
       "1   55  \n",
       "2   55  "
      ]
     },
     "execution_count": 1,
     "metadata": {},
     "output_type": "execute_result"
    }
   ],
   "source": [
    "from fasp.search import DataConnectClient\n",
    "from fasp.loc import crdcDRSClient\n",
    "from fasp.workflow import sbcgcWESClient\n",
    "from fasp.runner import FASPRunner\n",
    "\n",
    "faspRunner = FASPRunner()\n",
    "runNote = 'GECCO files retrieved from Gen3 DRS and computed on SB'\n",
    "\n",
    "searchClient = DataConnectClient('https://ga4gh-search-adapter-presto-public.prod.dnastack.com/')\n",
    "query = '''select acc, sa.sample_id, drs_id, sex, age\n",
    "from search_cloud.cshcodeathon.gecco_gen3_drs_index i\n",
    "join dbgap_demo.scr_gecco_susceptibility.sample_multi sa on sa.sample_id = i.sample_id\n",
    "join dbgap_demo.scr_gecco_susceptibility.subject_phenotypes_multi su on su.dbgap_subject_id = sa.dbgap_subject_id\n",
    "where age between 50 and 55\n",
    "and affection_status = 'Case'\n",
    "and file_type = 'cram' limit 3'''\n",
    "df = searchClient.runQuery(query, returnType='dataframe')\n",
    "df"
   ]
  },
  {
   "cell_type": "code",
   "execution_count": 2,
   "metadata": {},
   "outputs": [
    {
     "name": "stdout",
     "output_type": "stream",
     "text": [
      "Running query\n",
      "select acc, drs_id\n",
      "from search_cloud.cshcodeathon.gecco_gen3_drs_index i\n",
      "join dbgap_demo.scr_gecco_susceptibility.sample_multi sa on sa.sample_id = i.sample_id\n",
      "join dbgap_demo.scr_gecco_susceptibility.subject_phenotypes_multi su on su.dbgap_subject_id = sa.dbgap_subject_id\n",
      "where age between 50 and 55\n",
      "and affection_status = 'Case'\n",
      "and file_type = 'cram' limit 3\n",
      "_Retrieving the query_\n",
      "____Page1_______________\n",
      "____Page2_______________\n",
      "____Page3_______________\n",
      "____Page4_______________\n",
      "____Page5_______________\n",
      "____Page6_______________\n",
      "subject=SRR7271762, drsID=dg.4DFC/89c68e80-0f5b-47de-b01b-8eb789a1061b\n",
      "https://cgc-ga4gh-api.sbgenomics.com/ga4gh/wes/v1\n",
      "workflow submitted, run:3f680012-5633-4b78-af92-334cb41004d1\n",
      "____________________________________________________________\n",
      "subject=SRR7271780, drsID=dg.4DFC/fea9649e-1750-43c3-9b87-b314219eb840\n",
      "https://cgc-ga4gh-api.sbgenomics.com/ga4gh/wes/v1\n",
      "workflow submitted, run:86fb0ebe-03de-4efb-80c2-d1b029bc583c\n",
      "____________________________________________________________\n",
      "subject=SRR7271789, drsID=dg.4DFC/8ff3df8b-671e-42e3-a684-0dfa49c20e35\n",
      "https://cgc-ga4gh-api.sbgenomics.com/ga4gh/wes/v1\n",
      "workflow submitted, run:9f55bf91-e25d-4bfb-9d5c-ae53f94c8451\n",
      "____________________________________________________________\n"
     ]
    },
    {
     "data": {
      "text/html": [
       "<div>\n",
       "<style scoped>\n",
       "    .dataframe tbody tr th:only-of-type {\n",
       "        vertical-align: middle;\n",
       "    }\n",
       "\n",
       "    .dataframe tbody tr th {\n",
       "        vertical-align: top;\n",
       "    }\n",
       "\n",
       "    .dataframe thead th {\n",
       "        text-align: right;\n",
       "    }\n",
       "</style>\n",
       "<table border=\"1\" class=\"dataframe\">\n",
       "  <thead>\n",
       "    <tr style=\"text-align: right;\">\n",
       "      <th></th>\n",
       "      <th>subject</th>\n",
       "      <th>run_id</th>\n",
       "    </tr>\n",
       "  </thead>\n",
       "  <tbody>\n",
       "    <tr>\n",
       "      <th>0</th>\n",
       "      <td>SRR7271762</td>\n",
       "      <td>3f680012-5633-4b78-af92-334cb41004d1</td>\n",
       "    </tr>\n",
       "    <tr>\n",
       "      <th>1</th>\n",
       "      <td>SRR7271780</td>\n",
       "      <td>86fb0ebe-03de-4efb-80c2-d1b029bc583c</td>\n",
       "    </tr>\n",
       "    <tr>\n",
       "      <th>2</th>\n",
       "      <td>SRR7271789</td>\n",
       "      <td>9f55bf91-e25d-4bfb-9d5c-ae53f94c8451</td>\n",
       "    </tr>\n",
       "  </tbody>\n",
       "</table>\n",
       "</div>"
      ],
      "text/plain": [
       "      subject                                run_id\n",
       "0  SRR7271762  3f680012-5633-4b78-af92-334cb41004d1\n",
       "1  SRR7271780  86fb0ebe-03de-4efb-80c2-d1b029bc583c\n",
       "2  SRR7271789  9f55bf91-e25d-4bfb-9d5c-ae53f94c8451"
      ]
     },
     "execution_count": 2,
     "metadata": {},
     "output_type": "execute_result"
    }
   ],
   "source": [
    "drsClient = crdcDRSClient('/Users/forei/.keys/crdc_credentials.json', 's3')\n",
    "\n",
    "settings = faspRunner.settings\n",
    "wesClient = sbcgcWESClient(settings['SevenBridgesProject'])\n",
    "\n",
    "faspRunner.configure(searchClient, drsClient, wesClient)\n",
    "\n",
    "query = '''select acc, drs_id\n",
    "from search_cloud.cshcodeathon.gecco_gen3_drs_index i\n",
    "join dbgap_demo.scr_gecco_susceptibility.sample_multi sa on sa.sample_id = i.sample_id\n",
    "join dbgap_demo.scr_gecco_susceptibility.subject_phenotypes_multi su on su.dbgap_subject_id = sa.dbgap_subject_id\n",
    "where age between 50 and 55\n",
    "and affection_status = 'Case'\n",
    "and file_type = 'cram' limit 3'''\n",
    "\n",
    "\n",
    "run_ids = faspRunner.runQuery(query, runNote)\n",
    "import pandas as pd\n",
    "runs_df = pd.DataFrame(run_ids)\n",
    "runs_df"
   ]
  },
  {
   "cell_type": "code",
   "execution_count": 3,
   "metadata": {},
   "outputs": [
    {
     "data": {
      "text/html": [
       "<div>\n",
       "<style scoped>\n",
       "    .dataframe tbody tr th:only-of-type {\n",
       "        vertical-align: middle;\n",
       "    }\n",
       "\n",
       "    .dataframe tbody tr th {\n",
       "        vertical-align: top;\n",
       "    }\n",
       "\n",
       "    .dataframe thead th {\n",
       "        text-align: right;\n",
       "    }\n",
       "</style>\n",
       "<table border=\"1\" class=\"dataframe\">\n",
       "  <thead>\n",
       "    <tr style=\"text-align: right;\">\n",
       "      <th></th>\n",
       "      <th>acc</th>\n",
       "      <th>sample_id</th>\n",
       "      <th>sex</th>\n",
       "      <th>age</th>\n",
       "      <th>run_id</th>\n",
       "    </tr>\n",
       "  </thead>\n",
       "  <tbody>\n",
       "    <tr>\n",
       "      <th>0</th>\n",
       "      <td>SRR7271762</td>\n",
       "      <td>117454</td>\n",
       "      <td>Male</td>\n",
       "      <td>54</td>\n",
       "      <td>3f680012-5633-4b78-af92-334cb41004d1</td>\n",
       "    </tr>\n",
       "    <tr>\n",
       "      <th>1</th>\n",
       "      <td>SRR7271780</td>\n",
       "      <td>117477</td>\n",
       "      <td>Female</td>\n",
       "      <td>55</td>\n",
       "      <td>86fb0ebe-03de-4efb-80c2-d1b029bc583c</td>\n",
       "    </tr>\n",
       "    <tr>\n",
       "      <th>2</th>\n",
       "      <td>SRR7271789</td>\n",
       "      <td>117486</td>\n",
       "      <td>Male</td>\n",
       "      <td>55</td>\n",
       "      <td>9f55bf91-e25d-4bfb-9d5c-ae53f94c8451</td>\n",
       "    </tr>\n",
       "  </tbody>\n",
       "</table>\n",
       "</div>"
      ],
      "text/plain": [
       "          acc sample_id     sex  age                                run_id\n",
       "0  SRR7271762    117454    Male   54  3f680012-5633-4b78-af92-334cb41004d1\n",
       "1  SRR7271780    117477  Female   55  86fb0ebe-03de-4efb-80c2-d1b029bc583c\n",
       "2  SRR7271789    117486    Male   55  9f55bf91-e25d-4bfb-9d5c-ae53f94c8451"
      ]
     },
     "execution_count": 3,
     "metadata": {},
     "output_type": "execute_result"
    }
   ],
   "source": [
    "merged_df = pd.merge(\n",
    "    df,\n",
    "    runs_df,\n",
    "    how=\"inner\",\n",
    "    left_on='acc',\n",
    "    right_on='subject'\n",
    ")\n",
    "merged_df.drop('subject', axis=1, inplace=True)\n",
    "merged_df.drop('drs_id', axis=1, inplace=True)\n",
    "merged_df.to_csv('~/mywork.csv')\n",
    "merged_df"
   ]
  },
  {
   "cell_type": "code",
   "execution_count": 4,
   "metadata": {},
   "outputs": [
    {
     "data": {
      "image/png": "[encoded data removed]",
      "text/plain": [
       "<PIL.Image.Image image mode=RGB size=60x60 at 0x120400E80>"
      ]
     },
     "execution_count": 4,
     "metadata": {},
     "output_type": "execute_result"
    }
   ],
   "source": [
    "faspRunner.getFASPicon()"
   ]
  },
  {
   "cell_type": "markdown",
   "metadata": {},
   "source": [
    "Update the dataframe with the status of the runs"
   ]
  },
  {
   "cell_type": "code",
   "execution_count": 14,
   "metadata": {},
   "outputs": [
    {
     "data": {
      "text/html": [
       "<div>\n",
       "<style scoped>\n",
       "    .dataframe tbody tr th:only-of-type {\n",
       "        vertical-align: middle;\n",
       "    }\n",
       "\n",
       "    .dataframe tbody tr th {\n",
       "        vertical-align: top;\n",
       "    }\n",
       "\n",
       "    .dataframe thead th {\n",
       "        text-align: right;\n",
       "    }\n",
       "</style>\n",
       "<table border=\"1\" class=\"dataframe\">\n",
       "  <thead>\n",
       "    <tr style=\"text-align: right;\">\n",
       "      <th></th>\n",
       "      <th>acc</th>\n",
       "      <th>sample_id</th>\n",
       "      <th>sex</th>\n",
       "      <th>age</th>\n",
       "      <th>run_id</th>\n",
       "      <th>status</th>\n",
       "    </tr>\n",
       "  </thead>\n",
       "  <tbody>\n",
       "    <tr>\n",
       "      <th>0</th>\n",
       "      <td>SRR7271762</td>\n",
       "      <td>117454</td>\n",
       "      <td>Male</td>\n",
       "      <td>54</td>\n",
       "      <td>3f680012-5633-4b78-af92-334cb41004d1</td>\n",
       "      <td>COMPLETE</td>\n",
       "    </tr>\n",
       "    <tr>\n",
       "      <th>1</th>\n",
       "      <td>SRR7271780</td>\n",
       "      <td>117477</td>\n",
       "      <td>Female</td>\n",
       "      <td>55</td>\n",
       "      <td>86fb0ebe-03de-4efb-80c2-d1b029bc583c</td>\n",
       "      <td>COMPLETE</td>\n",
       "    </tr>\n",
       "    <tr>\n",
       "      <th>2</th>\n",
       "      <td>SRR7271789</td>\n",
       "      <td>117486</td>\n",
       "      <td>Male</td>\n",
       "      <td>55</td>\n",
       "      <td>9f55bf91-e25d-4bfb-9d5c-ae53f94c8451</td>\n",
       "      <td>COMPLETE</td>\n",
       "    </tr>\n",
       "  </tbody>\n",
       "</table>\n",
       "</div>"
      ],
      "text/plain": [
       "          acc sample_id     sex  age                                run_id  \\\n",
       "0  SRR7271762    117454    Male   54  3f680012-5633-4b78-af92-334cb41004d1   \n",
       "1  SRR7271780    117477  Female   55  86fb0ebe-03de-4efb-80c2-d1b029bc583c   \n",
       "2  SRR7271789    117486    Male   55  9f55bf91-e25d-4bfb-9d5c-ae53f94c8451   \n",
       "\n",
       "     status  \n",
       "0  COMPLETE  \n",
       "1  COMPLETE  \n",
       "2  COMPLETE  "
      ]
     },
     "execution_count": 14,
     "metadata": {},
     "output_type": "execute_result"
    }
   ],
   "source": [
    "for index, row in merged_df.iterrows():\n",
    "    status = wesClient.getTaskStatus(row['run_id'])\n",
    "    merged_df.at[index, \"status\"] = status\n",
    "merged_df"
   ]
  },
  {
   "cell_type": "markdown",
   "metadata": {},
   "source": [
    "Once the runs have completed the results can be retrieved.\n",
    "\n",
    "First two convenience functions are defined"
   ]
  },
  {
   "cell_type": "code",
   "execution_count": 15,
   "metadata": {},
   "outputs": [],
   "source": [
    "import requests\n",
    "import os\n",
    "def download(url, file_path):\n",
    "    with open(os.path.expanduser(file_path), \"wb\") as file:\n",
    "        response = requests.get(url)\n",
    "        file.write(response.content)\n",
    "        \n",
    "def getStats(filePath, statsList):\n",
    "    ''' Extract values from a SAMTools Stats results file'''\n",
    "    ### \n",
    "    \n",
    "    retDict = {}\n",
    "    f = open(filePath, \"r\")\n",
    "    for x in f:\n",
    "        if x.startswith('SN'):   \n",
    "            parts = x.split('\\t')\n",
    "            statName = parts[1].split(':')[0]\n",
    "            if statName in statsList:\n",
    "                retDict[statName] = parts[2].rstrip()\n",
    "    return retDict\n",
    "        \n"
   ]
  },
  {
   "cell_type": "code",
   "execution_count": 16,
   "metadata": {},
   "outputs": [
    {
     "name": "stdout",
     "output_type": "stream",
     "text": [
      "Searching the GA4GH registry for org.ga4gh:drs services\n"
     ]
    }
   ],
   "source": [
    "from fasp.loc import DRSMetaResolver\n",
    "mr = DRSMetaResolver()\n",
    "statsList = []\n",
    "for index, row in merged_df.iterrows():\n",
    "    log = wesClient.GetRunLog(row['run_id'])\n",
    "    resultsDRSID = log['outputs']['statistics']['path']\n",
    "    url = mr.getAccessURL2(resultsDRSID,'s3')\n",
    "    fileName = log['outputs']['statistics']['name']\n",
    "    download(url, fileName)\n",
    "    statsRequired = ['insert size average','insert size standard deviation']\n",
    "    stats = getStats(fileName, statsRequired)\n",
    "    stats['acc'] = row['acc']\n",
    "    statsList.append(stats)\n",
    "    os.remove(fileName)\n",
    "stats_df =  pd.DataFrame(statsList)"
   ]
  },
  {
   "cell_type": "code",
   "execution_count": 17,
   "metadata": {},
   "outputs": [
    {
     "data": {
      "text/html": [
       "<div>\n",
       "<style scoped>\n",
       "    .dataframe tbody tr th:only-of-type {\n",
       "        vertical-align: middle;\n",
       "    }\n",
       "\n",
       "    .dataframe tbody tr th {\n",
       "        vertical-align: top;\n",
       "    }\n",
       "\n",
       "    .dataframe thead th {\n",
       "        text-align: right;\n",
       "    }\n",
       "</style>\n",
       "<table border=\"1\" class=\"dataframe\">\n",
       "  <thead>\n",
       "    <tr style=\"text-align: right;\">\n",
       "      <th></th>\n",
       "      <th>insert size average</th>\n",
       "      <th>insert size standard deviation</th>\n",
       "      <th>acc</th>\n",
       "    </tr>\n",
       "  </thead>\n",
       "  <tbody>\n",
       "    <tr>\n",
       "      <th>0</th>\n",
       "      <td>353.2</td>\n",
       "      <td>90.4</td>\n",
       "      <td>SRR7271762</td>\n",
       "    </tr>\n",
       "    <tr>\n",
       "      <th>1</th>\n",
       "      <td>346.4</td>\n",
       "      <td>84.8</td>\n",
       "      <td>SRR7271780</td>\n",
       "    </tr>\n",
       "    <tr>\n",
       "      <th>2</th>\n",
       "      <td>334.9</td>\n",
       "      <td>92.1</td>\n",
       "      <td>SRR7271789</td>\n",
       "    </tr>\n",
       "  </tbody>\n",
       "</table>\n",
       "</div>"
      ],
      "text/plain": [
       "  insert size average insert size standard deviation         acc\n",
       "0               353.2                           90.4  SRR7271762\n",
       "1               346.4                           84.8  SRR7271780\n",
       "2               334.9                           92.1  SRR7271789"
      ]
     },
     "execution_count": 17,
     "metadata": {},
     "output_type": "execute_result"
    }
   ],
   "source": [
    "stats_df"
   ]
  },
  {
   "cell_type": "code",
   "execution_count": 18,
   "metadata": {},
   "outputs": [
    {
     "data": {
      "text/html": [
       "<div>\n",
       "<style scoped>\n",
       "    .dataframe tbody tr th:only-of-type {\n",
       "        vertical-align: middle;\n",
       "    }\n",
       "\n",
       "    .dataframe tbody tr th {\n",
       "        vertical-align: top;\n",
       "    }\n",
       "\n",
       "    .dataframe thead th {\n",
       "        text-align: right;\n",
       "    }\n",
       "</style>\n",
       "<table border=\"1\" class=\"dataframe\">\n",
       "  <thead>\n",
       "    <tr style=\"text-align: right;\">\n",
       "      <th></th>\n",
       "      <th>acc</th>\n",
       "      <th>sample_id</th>\n",
       "      <th>sex</th>\n",
       "      <th>age</th>\n",
       "      <th>insert size average</th>\n",
       "      <th>insert size standard deviation</th>\n",
       "    </tr>\n",
       "  </thead>\n",
       "  <tbody>\n",
       "    <tr>\n",
       "      <th>0</th>\n",
       "      <td>SRR7271762</td>\n",
       "      <td>117454</td>\n",
       "      <td>Male</td>\n",
       "      <td>54</td>\n",
       "      <td>353.2</td>\n",
       "      <td>90.4</td>\n",
       "    </tr>\n",
       "    <tr>\n",
       "      <th>1</th>\n",
       "      <td>SRR7271780</td>\n",
       "      <td>117477</td>\n",
       "      <td>Female</td>\n",
       "      <td>55</td>\n",
       "      <td>346.4</td>\n",
       "      <td>84.8</td>\n",
       "    </tr>\n",
       "    <tr>\n",
       "      <th>2</th>\n",
       "      <td>SRR7271789</td>\n",
       "      <td>117486</td>\n",
       "      <td>Male</td>\n",
       "      <td>55</td>\n",
       "      <td>334.9</td>\n",
       "      <td>92.1</td>\n",
       "    </tr>\n",
       "  </tbody>\n",
       "</table>\n",
       "</div>"
      ],
      "text/plain": [
       "          acc sample_id     sex  age insert size average  \\\n",
       "0  SRR7271762    117454    Male   54               353.2   \n",
       "1  SRR7271780    117477  Female   55               346.4   \n",
       "2  SRR7271789    117486    Male   55               334.9   \n",
       "\n",
       "  insert size standard deviation  \n",
       "0                           90.4  \n",
       "1                           84.8  \n",
       "2                           92.1  "
      ]
     },
     "execution_count": 18,
     "metadata": {},
     "output_type": "execute_result"
    }
   ],
   "source": [
    "final_df = pd.merge(\n",
    "    merged_df,\n",
    "    stats_df,\n",
    "    how=\"inner\",\n",
    "    left_on='acc',\n",
    "    right_on='acc'\n",
    ")\n",
    "final_df.drop('status', axis=1, inplace=True)\n",
    "final_df.drop('run_id', axis=1, inplace=True)\n",
    "\n",
    "final_df"
   ]
  },
  {
   "cell_type": "code",
   "execution_count": null,
   "metadata": {},
   "outputs": [],
   "source": []
  }
 ],
 "metadata": {
  "kernelspec": {
   "display_name": "Python 3",
   "language": "python",
   "name": "python3"
  },
  "language_info": {
   "codemirror_mode": {
    "name": "ipython",
    "version": 3
   },
   "file_extension": ".py",
   "mimetype": "text/x-python",
   "name": "python",
   "nbconvert_exporter": "python",
   "pygments_lexer": "ipython3",
   "version": "3.7.3"
  }
 },
 "nbformat": 4,
 "nbformat_minor": 4
}
