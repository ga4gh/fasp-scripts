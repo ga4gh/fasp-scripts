{
 "cells": [
  {
   "cell_type": "markdown",
   "id": "34e133dc",
   "metadata": {},
   "source": [
    "### Demonstration of Schema Registry - PEPHub\n",
    "\n",
    "This is an initial exploration of the the Schema Registry implementation at https://pephub-api-dev.databio.org/api/v1\n",
    "\n",
    "All implementations are evolving and exploring different needs. All comments are for discussion purposes."
   ]
  },
  {
   "cell_type": "code",
   "execution_count": 4,
   "id": "7ef82172",
   "metadata": {},
   "outputs": [],
   "source": [
    "import requests;\n",
    "\n",
    "import json;\n",
    "\n",
    "def prettyprint(a_dict):\n",
    "    print(json.dumps(a_dict, indent=3))\n",
    "\n",
    "def printline(char=\"_\"):\n",
    "    print(char*80)"
   ]
  },
  {
   "cell_type": "markdown",
   "id": "56886e0a",
   "metadata": {},
   "source": [
    "### Use pephub implementation"
   ]
  },
  {
   "cell_type": "code",
   "execution_count": 25,
   "id": "42f44db9",
   "metadata": {},
   "outputs": [],
   "source": [
    "base = \"https://pephub-api-dev.databio.org/api/v1\""
   ]
  },
  {
   "cell_type": "markdown",
   "id": "15896ca5",
   "metadata": {},
   "source": [
    "### Get namespaces"
   ]
  },
  {
   "cell_type": "code",
   "execution_count": 40,
   "id": "83429c59",
   "metadata": {},
   "outputs": [
    {
     "name": "stdout",
     "output_type": "stream",
     "text": [
      "https://pephub-api-dev.databio.org/api/v1/namespaces\n",
      "<class 'KeyError'>\n",
      "Error: 'namespaces'\n",
      "Response was:\n",
      "{\n",
      "   \"pagination\": {\n",
      "      \"page\": 0,\n",
      "      \"page_size\": 5,\n",
      "      \"total\": 2\n",
      "   },\n",
      "   \"results\": [\n",
      "      {\n",
      "         \"namespace\": \"namespace2\",\n",
      "         \"number_of_projects\": 0,\n",
      "         \"number_of_schemas\": 3\n",
      "      },\n",
      "      {\n",
      "         \"namespace\": \"namespace1\",\n",
      "         \"number_of_projects\": 0,\n",
      "         \"number_of_schemas\": 2\n",
      "      }\n",
      "   ]\n",
      "}\n"
     ]
    }
   ],
   "source": [
    "url = f\"{base}/namespaces\"\n",
    "print(url)\n",
    "response = requests.get(url)\n",
    "try:\n",
    "    namespaces = response.json()['namespaces']\n",
    "    for namespace in namespaces:\n",
    "        print( namespace['namespace_name'])\n",
    "except Exception as err:\n",
    "    print(type(err))\n",
    "    print(\"Error:\", err)\n",
    "    print(\"Response was:\")\n",
    "    prettyprint(response.json())\n"
   ]
  },
  {
   "cell_type": "markdown",
   "id": "5bd812bf",
   "metadata": {},
   "source": [
    "**Relation to spec:** <span style=\"color:red\">modified response</span>"
   ]
  },
  {
   "cell_type": "markdown",
   "id": "785bd6e6",
   "metadata": {},
   "source": [
    "### /schemas"
   ]
  },
  {
   "cell_type": "code",
   "execution_count": 41,
   "id": "f3619e25",
   "metadata": {},
   "outputs": [
    {
     "name": "stdout",
     "output_type": "stream",
     "text": [
      "/schemas\n"
     ]
    },
    {
     "ename": "KeyError",
     "evalue": "'schemas'",
     "output_type": "error",
     "traceback": [
      "\u001b[0;31m---------------------------------------------------------------------------\u001b[0m",
      "\u001b[0;31mKeyError\u001b[0m                                  Traceback (most recent call last)",
      "Input \u001b[0;32mIn [41]\u001b[0m, in \u001b[0;36m<cell line: 4>\u001b[0;34m()\u001b[0m\n\u001b[1;32m      2\u001b[0m \u001b[38;5;28mprint\u001b[39m(endpoint)\n\u001b[1;32m      3\u001b[0m response \u001b[38;5;241m=\u001b[39m requests\u001b[38;5;241m.\u001b[39mget(\u001b[38;5;124mf\u001b[39m\u001b[38;5;124m\"\u001b[39m\u001b[38;5;132;01m{\u001b[39;00mbase\u001b[38;5;132;01m}\u001b[39;00m\u001b[38;5;132;01m{\u001b[39;00mendpoint\u001b[38;5;132;01m}\u001b[39;00m\u001b[38;5;124m\"\u001b[39m)\n\u001b[0;32m----> 4\u001b[0m schemas \u001b[38;5;241m=\u001b[39m \u001b[43mresponse\u001b[49m\u001b[38;5;241;43m.\u001b[39;49m\u001b[43mjson\u001b[49m\u001b[43m(\u001b[49m\u001b[43m)\u001b[49m\u001b[43m[\u001b[49m\u001b[38;5;124;43m'\u001b[39;49m\u001b[38;5;124;43mschemas\u001b[39;49m\u001b[38;5;124;43m'\u001b[39;49m\u001b[43m]\u001b[49m\n\u001b[1;32m      5\u001b[0m \u001b[38;5;28;01mfor\u001b[39;00m schema \u001b[38;5;129;01min\u001b[39;00m schemas:\n\u001b[1;32m      6\u001b[0m     \u001b[38;5;28mprint\u001b[39m( schema[\u001b[38;5;124m'\u001b[39m\u001b[38;5;124mschema_name\u001b[39m\u001b[38;5;124m'\u001b[39m])\n",
      "\u001b[0;31mKeyError\u001b[0m: 'schemas'"
     ]
    }
   ],
   "source": [
    "endpoint = f\"/schemas\"\n",
    "print(endpoint)\n",
    "response = requests.get(f\"{base}{endpoint}\")\n",
    "schemas = response.json()['schemas']\n",
    "for schema in schemas:\n",
    "    print( schema['schema_name'])"
   ]
  },
  {
   "cell_type": "code",
   "execution_count": 42,
   "id": "00b97b3a",
   "metadata": {},
   "outputs": [
    {
     "name": "stdout",
     "output_type": "stream",
     "text": [
      "{\n",
      "   \"pagination\": {\n",
      "      \"page\": 0,\n",
      "      \"page_size\": 100,\n",
      "      \"total\": 5\n",
      "   },\n",
      "   \"results\": [\n",
      "      {\n",
      "         \"namespace\": \"namespace1\",\n",
      "         \"name\": \"2.0.0\",\n",
      "         \"description\": \"\",\n",
      "         \"maintainers\": \"Nathan\",\n",
      "         \"lifecycle_stage\": \"\",\n",
      "         \"latest_version\": \"1.0.0\",\n",
      "         \"private\": false,\n",
      "         \"last_update_date\": \"2025-03-18T20:27:01.669912Z\"\n",
      "      },\n",
      "      {\n",
      "         \"namespace\": \"namespace1\",\n",
      "         \"name\": \"2.1.0\",\n",
      "         \"description\": \"\",\n",
      "         \"maintainers\": \"Donald\",\n",
      "         \"lifecycle_stage\": \"\",\n",
      "         \"latest_version\": \"1.0.0\",\n",
      "         \"private\": false,\n",
      "         \"last_update_date\": \"2025-03-18T20:27:01.602433Z\"\n",
      "      },\n",
      "      {\n",
      "         \"namespace\": \"namespace2\",\n",
      "         \"name\": \"bedbuncher\",\n",
      "         \"description\": \"\",\n",
      "         \"maintainers\": \"John\",\n",
      "         \"lifecycle_stage\": \"\",\n",
      "         \"latest_version\": \"1.0.0\",\n",
      "         \"private\": false,\n",
      "         \"last_update_date\": \"2025-03-18T20:27:01.506602Z\"\n",
      "      },\n",
      "      {\n",
      "         \"namespace\": \"namespace2\",\n",
      "         \"name\": \"bedboss\",\n",
      "         \"description\": \"\",\n",
      "         \"maintainers\": \"Teddy\",\n",
      "         \"lifecycle_stage\": \"\",\n",
      "         \"latest_version\": \"1.0.0\",\n",
      "         \"private\": false,\n",
      "         \"last_update_date\": \"2025-03-18T20:27:01.441300Z\"\n",
      "      },\n",
      "      {\n",
      "         \"namespace\": \"namespace2\",\n",
      "         \"name\": \"bedmaker\",\n",
      "         \"description\": \"\",\n",
      "         \"maintainers\": \"Teddy\",\n",
      "         \"lifecycle_stage\": \"\",\n",
      "         \"latest_version\": \"1.2.1\",\n",
      "         \"private\": false,\n",
      "         \"last_update_date\": \"2025-03-18T20:27:01.356336Z\"\n",
      "      }\n",
      "   ]\n",
      "}\n"
     ]
    }
   ],
   "source": [
    "prettyprint(response.json())"
   ]
  },
  {
   "cell_type": "markdown",
   "id": "a138d319",
   "metadata": {},
   "source": [
    "**Relation to spec:** <span style=\"color:red\">modified response</span>\n",
    "\n",
    "Currently the representation of a schema does not yet match the Schema Registry spec.\n",
    "\n",
    "Looks like there is an implied need for pagination\n",
    "\n",
    "The implementation of pagination seems to be consistent with the [pagination guide recommendations](https://docs.google.com/document/d/1pu2icPEll-vueFcjCuUnjuAwEvtahOf_dyyaP5qqbCs/edit?tab=t.0#heading=h.ofkazvkuciju) recently issued by GA4GH TASC.\n",
    "\n",
    "\n",
    "\n",
    "#### Using pagination\n",
    "Pagination works per the TASC recommendation (note the page size of 2 is used for checking that pagination is working, real page sizes are likely to be larger).\n"
   ]
  },
  {
   "cell_type": "code",
   "execution_count": 43,
   "id": "cc8c9b50",
   "metadata": {},
   "outputs": [
    {
     "name": "stdout",
     "output_type": "stream",
     "text": [
      "/schemas?page_size=2\n",
      "{\n",
      "   \"pagination\": {\n",
      "      \"page\": 0,\n",
      "      \"page_size\": 2,\n",
      "      \"total\": 5\n",
      "   },\n",
      "   \"results\": [\n",
      "      {\n",
      "         \"namespace\": \"namespace1\",\n",
      "         \"name\": \"2.0.0\",\n",
      "         \"description\": \"\",\n",
      "         \"maintainers\": \"Nathan\",\n",
      "         \"lifecycle_stage\": \"\",\n",
      "         \"latest_version\": \"1.0.0\",\n",
      "         \"private\": false,\n",
      "         \"last_update_date\": \"2025-03-18T20:27:01.669912Z\"\n",
      "      },\n",
      "      {\n",
      "         \"namespace\": \"namespace1\",\n",
      "         \"name\": \"2.1.0\",\n",
      "         \"description\": \"\",\n",
      "         \"maintainers\": \"Donald\",\n",
      "         \"lifecycle_stage\": \"\",\n",
      "         \"latest_version\": \"1.0.0\",\n",
      "         \"private\": false,\n",
      "         \"last_update_date\": \"2025-03-18T20:27:01.602433Z\"\n",
      "      }\n",
      "   ]\n",
      "}\n"
     ]
    }
   ],
   "source": [
    "endpoint = f\"/schemas?page_size=2\"\n",
    "print(endpoint)\n",
    "response = requests.get(f\"{base}{endpoint}\")\n",
    "prettyprint(response.json())"
   ]
  },
  {
   "cell_type": "code",
   "execution_count": 44,
   "id": "e78076c9",
   "metadata": {},
   "outputs": [
    {
     "name": "stdout",
     "output_type": "stream",
     "text": [
      "/schemas?page_size=2&page=1\n",
      "{\n",
      "   \"pagination\": {\n",
      "      \"page\": 1,\n",
      "      \"page_size\": 2,\n",
      "      \"total\": 5\n",
      "   },\n",
      "   \"results\": [\n",
      "      {\n",
      "         \"namespace\": \"namespace2\",\n",
      "         \"name\": \"bedbuncher\",\n",
      "         \"description\": \"\",\n",
      "         \"maintainers\": \"John\",\n",
      "         \"lifecycle_stage\": \"\",\n",
      "         \"latest_version\": \"1.0.0\",\n",
      "         \"private\": false,\n",
      "         \"last_update_date\": \"2025-03-18T20:27:01.506602Z\"\n",
      "      },\n",
      "      {\n",
      "         \"namespace\": \"namespace2\",\n",
      "         \"name\": \"bedboss\",\n",
      "         \"description\": \"\",\n",
      "         \"maintainers\": \"Teddy\",\n",
      "         \"lifecycle_stage\": \"\",\n",
      "         \"latest_version\": \"1.0.0\",\n",
      "         \"private\": false,\n",
      "         \"last_update_date\": \"2025-03-18T20:27:01.441300Z\"\n",
      "      }\n",
      "   ]\n",
      "}\n"
     ]
    }
   ],
   "source": [
    "endpoint = f\"/schemas?page_size=2&page=1\"\n",
    "print(endpoint)\n",
    "response = requests.get(f\"{base}{endpoint}\")\n",
    "prettyprint(response.json())"
   ]
  },
  {
   "cell_type": "code",
   "execution_count": 45,
   "id": "4867de23",
   "metadata": {},
   "outputs": [
    {
     "name": "stdout",
     "output_type": "stream",
     "text": [
      "/schemas?page_size=2&page=2\n",
      "{\n",
      "   \"pagination\": {\n",
      "      \"page\": 2,\n",
      "      \"page_size\": 2,\n",
      "      \"total\": 5\n",
      "   },\n",
      "   \"results\": [\n",
      "      {\n",
      "         \"namespace\": \"namespace2\",\n",
      "         \"name\": \"bedmaker\",\n",
      "         \"description\": \"\",\n",
      "         \"maintainers\": \"Teddy\",\n",
      "         \"lifecycle_stage\": \"\",\n",
      "         \"latest_version\": \"1.2.1\",\n",
      "         \"private\": false,\n",
      "         \"last_update_date\": \"2025-03-18T20:27:01.356336Z\"\n",
      "      }\n",
      "   ]\n",
      "}\n"
     ]
    }
   ],
   "source": [
    "endpoint = f\"/schemas?page_size=2&page=2\"\n",
    "print(endpoint)\n",
    "response = requests.get(f\"{base}{endpoint}\")\n",
    "prettyprint(response.json())"
   ]
  },
  {
   "cell_type": "markdown",
   "id": "dfc1a2b9",
   "metadata": {},
   "source": [
    "### Schemas in a namespace"
   ]
  },
  {
   "cell_type": "code",
   "execution_count": 21,
   "id": "db9abcac",
   "metadata": {
    "scrolled": true
   },
   "outputs": [
    {
     "name": "stdout",
     "output_type": "stream",
     "text": [
      "/schemas/namespace2\n",
      "{\n",
      "   \"pagination\": {\n",
      "      \"page\": 0,\n",
      "      \"page_size\": 100,\n",
      "      \"total\": 3\n",
      "   },\n",
      "   \"results\": [\n",
      "      {\n",
      "         \"namespace\": \"namespace2\",\n",
      "         \"name\": \"bedbuncher\",\n",
      "         \"description\": \"\",\n",
      "         \"maintainers\": \"Teddy\",\n",
      "         \"lifecycle_stage\": \"\",\n",
      "         \"private\": false,\n",
      "         \"last_update_date\": \"2025-03-18T17:09:44.752795Z\"\n",
      "      },\n",
      "      {\n",
      "         \"namespace\": \"namespace2\",\n",
      "         \"name\": \"bedboss\",\n",
      "         \"description\": \"\",\n",
      "         \"maintainers\": \"Teddy\",\n",
      "         \"lifecycle_stage\": \"\",\n",
      "         \"private\": false,\n",
      "         \"last_update_date\": \"2025-03-18T17:09:44.694312Z\"\n",
      "      },\n",
      "      {\n",
      "         \"namespace\": \"namespace2\",\n",
      "         \"name\": \"bedmaker\",\n",
      "         \"description\": \"\",\n",
      "         \"maintainers\": \"Teddy\",\n",
      "         \"lifecycle_stage\": \"\",\n",
      "         \"private\": false,\n",
      "         \"last_update_date\": \"2025-03-18T17:09:44.590874Z\"\n",
      "      }\n",
      "   ]\n",
      "}\n"
     ]
    }
   ],
   "source": [
    "endpoint = f\"/schemas/namespace2\"\n",
    "print(endpoint)\n",
    "response = requests.get(f\"{base}{endpoint}\")\n",
    "prettyprint(response.json())"
   ]
  },
  {
   "cell_type": "code",
   "execution_count": 46,
   "id": "87199a45",
   "metadata": {},
   "outputs": [
    {
     "name": "stdout",
     "output_type": "stream",
     "text": [
      "/schemas/namespace2/bedmaker/versions/latest\n",
      "{\n",
      "   \"description\": \"bedmaker2.1.0\",\n",
      "   \"properties\": {\n",
      "      \"samples\": {\n",
      "         \"type\": \"array\",\n",
      "         \"items\": {\n",
      "            \"type\": \"object\",\n",
      "            \"properties\": {\n",
      "               \"sample_name\": {\n",
      "                  \"type\": \"string\",\n",
      "                  \"description\": \"Name of the sample\"\n",
      "               },\n",
      "               \"input_file\": {\n",
      "                  \"type\": \"string\",\n",
      "                  \"description\": \"Absolute path to the input file\"\n",
      "               },\n",
      "               \"input_type\": {\n",
      "                  \"type\": \"string\",\n",
      "                  \"description\": \"file format\",\n",
      "                  \"enum\": [\n",
      "                     \"bigWig\",\n",
      "                     \"bigBed\",\n",
      "                     \"bed\",\n",
      "                     \"wig\",\n",
      "                     \"bedGraph\"\n",
      "                  ]\n",
      "               },\n",
      "               \"genome\": {\n",
      "                  \"type\": \"string\",\n",
      "                  \"description\": \"organism genome code\"\n",
      "               },\n",
      "               \"format_type\": {\n",
      "                  \"type\": \"string\",\n",
      "                  \"description\": \"whether the regions are narrow (transcription factor implies narrow, histone mark implies broad peaks)\",\n",
      "                  \"enum\": [\n",
      "                     \"narrowPeak\",\n",
      "                     \"broadPeak\"\n",
      "                  ]\n",
      "               },\n",
      "               \"description\": {\n",
      "                  \"type\": \"string\",\n",
      "                  \"description\": \"freeform description of the sample\"\n",
      "               },\n",
      "               \"open_signal_matrix\": {\n",
      "                  \"type\": \"string\",\n",
      "                  \"description\": \"A full path to the openSignalMatrix required for the tissue\"\n",
      "               },\n",
      "               \"chrom_sizes\": {\n",
      "                  \"type\": \"string\",\n",
      "                  \"description\": \"A full path to the chrom.sizes required for the bedtobigbed conversion\"\n",
      "               },\n",
      "               \"treatment\": {\n",
      "                  \"type\": \"string\",\n",
      "                  \"description\": \"freeform description of the sample treatment\"\n",
      "               },\n",
      "               \"cell_type\": {\n",
      "                  \"type\": \"string\",\n",
      "                  \"description\": \"cell type code\"\n",
      "               }\n",
      "            },\n",
      "            \"required\": [\n",
      "               \"sample_name\",\n",
      "               \"input_file\",\n",
      "               \"input_type\",\n",
      "               \"genome\"\n",
      "            ]\n",
      "         }\n",
      "      }\n",
      "   },\n",
      "   \"required\": [\n",
      "      \"samples\"\n",
      "   ]\n",
      "}\n"
     ]
    }
   ],
   "source": [
    "endpoint = \"/schemas/namespace2/bedmaker/versions/latest\"\n",
    "print(endpoint)\n",
    "response = requests.get(f\"{base}{endpoint}\")\n",
    "prettyprint(response.json())"
   ]
  },
  {
   "cell_type": "code",
   "execution_count": 57,
   "id": "758db3fd",
   "metadata": {},
   "outputs": [
    {
     "name": "stdout",
     "output_type": "stream",
     "text": [
      "/schemas/namespace2/bedmaker\n",
      "{\n",
      "   \"namespace\": \"namespace2\",\n",
      "   \"name\": \"bedmaker\",\n",
      "   \"description\": \"\",\n",
      "   \"maintainers\": \"Teddy\",\n",
      "   \"lifecycle_stage\": \"\",\n",
      "   \"latest_version\": \"1.2.1\",\n",
      "   \"private\": false,\n",
      "   \"last_update_date\": \"2025-03-18T20:27:01.356336Z\"\n",
      "}\n"
     ]
    }
   ],
   "source": [
    "endpoint = \"/schemas/namespace2/bedmaker\"\n",
    "print(endpoint)\n",
    "response = requests.get(f\"{base}{endpoint}\")\n",
    "prettyprint(response.json())"
   ]
  },
  {
   "cell_type": "code",
   "execution_count": 48,
   "id": "3bd0f095",
   "metadata": {},
   "outputs": [
    {
     "name": "stdout",
     "output_type": "stream",
     "text": [
      "/schemas/namespace2/bedmaker/versions\n",
      "{\n",
      "   \"pagination\": {\n",
      "      \"page\": 0,\n",
      "      \"page_size\": 100,\n",
      "      \"total\": 2\n",
      "   },\n",
      "   \"results\": [\n",
      "      {\n",
      "         \"namespace\": \"namespace2\",\n",
      "         \"name\": \"bedmaker\",\n",
      "         \"version\": \"1.2.1\",\n",
      "         \"contributors\": \"Karlo\",\n",
      "         \"release_notes\": \"First\",\n",
      "         \"tags\": {},\n",
      "         \"release_date\": \"2025-03-18T20:27:01.377386Z\",\n",
      "         \"last_update_date\": \"2025-03-18T20:27:01.377386Z\"\n",
      "      },\n",
      "      {\n",
      "         \"namespace\": \"namespace2\",\n",
      "         \"name\": \"bedmaker\",\n",
      "         \"version\": \"1.0.0\",\n",
      "         \"contributors\": \"Teddy, John\",\n",
      "         \"release_notes\": \"Initial release\",\n",
      "         \"tags\": {\n",
      "            \"maturity_level\": \"trial_use\"\n",
      "         },\n",
      "         \"release_date\": \"2025-03-18T20:27:01.377386Z\",\n",
      "         \"last_update_date\": \"2025-03-18T20:27:01.377390Z\"\n",
      "      }\n",
      "   ]\n",
      "}\n"
     ]
    }
   ],
   "source": [
    "endpoint = \"/schemas/namespace2/bedmaker/versions\"\n",
    "print(endpoint)\n",
    "response = requests.get(f\"{base}{endpoint}\")\n",
    "prettyprint(response.json())"
   ]
  },
  {
   "cell_type": "markdown",
   "id": "c388dc00",
   "metadata": {},
   "source": [
    "### Get a specific schema"
   ]
  },
  {
   "cell_type": "code",
   "execution_count": 58,
   "id": "148fcc7f",
   "metadata": {},
   "outputs": [
    {
     "name": "stdout",
     "output_type": "stream",
     "text": [
      "/schemas/namespace2/bedmaker/versions/1.2.1\n",
      "{\n",
      "   \"description\": \"bedmaker2.1.0\",\n",
      "   \"properties\": {\n",
      "      \"samples\": {\n",
      "         \"type\": \"array\",\n",
      "         \"items\": {\n",
      "            \"type\": \"object\",\n",
      "            \"properties\": {\n",
      "               \"sample_name\": {\n",
      "                  \"type\": \"string\",\n",
      "                  \"description\": \"Name of the sample\"\n",
      "               },\n",
      "               \"input_file\": {\n",
      "                  \"type\": \"string\",\n",
      "                  \"description\": \"Absolute path to the input file\"\n",
      "               },\n",
      "               \"input_type\": {\n",
      "                  \"type\": \"string\",\n",
      "                  \"description\": \"file format\",\n",
      "                  \"enum\": [\n",
      "                     \"bigWig\",\n",
      "                     \"bigBed\",\n",
      "                     \"bed\",\n",
      "                     \"wig\",\n",
      "                     \"bedGraph\"\n",
      "                  ]\n",
      "               },\n",
      "               \"genome\": {\n",
      "                  \"type\": \"string\",\n",
      "                  \"description\": \"organism genome code\"\n",
      "               },\n",
      "               \"format_type\": {\n",
      "                  \"type\": \"string\",\n",
      "                  \"description\": \"whether the regions are narrow (transcription factor implies narrow, histone mark implies broad peaks)\",\n",
      "                  \"enum\": [\n",
      "                     \"narrowPeak\",\n",
      "                     \"broadPeak\"\n",
      "                  ]\n",
      "               },\n",
      "               \"description\": {\n",
      "                  \"type\": \"string\",\n",
      "                  \"description\": \"freeform description of the sample\"\n",
      "               },\n",
      "               \"open_signal_matrix\": {\n",
      "                  \"type\": \"string\",\n",
      "                  \"description\": \"A full path to the openSignalMatrix required for the tissue\"\n",
      "               },\n",
      "               \"chrom_sizes\": {\n",
      "                  \"type\": \"string\",\n",
      "                  \"description\": \"A full path to the chrom.sizes required for the bedtobigbed conversion\"\n",
      "               },\n",
      "               \"treatment\": {\n",
      "                  \"type\": \"string\",\n",
      "                  \"description\": \"freeform description of the sample treatment\"\n",
      "               },\n",
      "               \"cell_type\": {\n",
      "                  \"type\": \"string\",\n",
      "                  \"description\": \"cell type code\"\n",
      "               }\n",
      "            },\n",
      "            \"required\": [\n",
      "               \"sample_name\",\n",
      "               \"input_file\",\n",
      "               \"input_type\",\n",
      "               \"genome\"\n",
      "            ]\n",
      "         }\n",
      "      }\n",
      "   },\n",
      "   \"required\": [\n",
      "      \"samples\"\n",
      "   ]\n",
      "}\n"
     ]
    }
   ],
   "source": [
    "endpoint = \"/schemas/namespace2/bedmaker/versions/1.2.1\"\n",
    "print(endpoint)\n",
    "response = requests.get(f\"{base}{endpoint}\")\n",
    "prettyprint(response.json())"
   ]
  },
  {
   "cell_type": "code",
   "execution_count": null,
   "id": "5f72e61b",
   "metadata": {},
   "outputs": [],
   "source": []
  },
  {
   "cell_type": "code",
   "execution_count": 52,
   "id": "f285c0ed",
   "metadata": {},
   "outputs": [
    {
     "name": "stdout",
     "output_type": "stream",
     "text": [
      "/schemas/namespace2/bedmaker/versions/1.0.0\n",
      "{\n",
      "   \"description\": \"bedmaker PEP schema\",\n",
      "   \"properties\": {\n",
      "      \"samples\": {\n",
      "         \"type\": \"array\",\n",
      "         \"items\": {\n",
      "            \"type\": \"object\",\n",
      "            \"properties\": {\n",
      "               \"sample_name\": {\n",
      "                  \"type\": \"string\",\n",
      "                  \"description\": \"name of the sample, which is the name of the output BED file\"\n",
      "               },\n",
      "               \"input_file_path\": {\n",
      "                  \"type\": \"string\",\n",
      "                  \"description\": \"absolute path the file to convert\"\n",
      "               },\n",
      "               \"output_bed_path\": {\n",
      "                  \"type\": \"string\",\n",
      "                  \"description\": \"absolute path the file to the output BED file (derived attribute)\"\n",
      "               },\n",
      "               \"output_bigbed_path\": {\n",
      "                  \"type\": \"string\",\n",
      "                  \"description\": \"absolute path the file to the output bigBed file (derived attribute)\"\n",
      "               },\n",
      "               \"genome\": {\n",
      "                  \"type\": \"string\",\n",
      "                  \"description\": \"organism genome code\"\n",
      "               },\n",
      "               \"narrowpeak\": {\n",
      "                  \"type\": \"boolean\",\n",
      "                  \"description\": \"whether the regions are narrow (transcription factor implies narrow, histone mark implies broad peaks)\"\n",
      "               },\n",
      "               \"format\": {\n",
      "                  \"type\": \"string\",\n",
      "                  \"description\": \"file format\",\n",
      "                  \"enum\": [\n",
      "                     \"bigWig\",\n",
      "                     \"bigBed\",\n",
      "                     \"bed\",\n",
      "                     \"wig\",\n",
      "                     \"bedGraph\"\n",
      "                  ]\n",
      "               },\n",
      "               \"cell_type\": {\n",
      "                  \"type\": \"string\",\n",
      "                  \"description\": \"cell type code\"\n",
      "               },\n",
      "               \"antibody\": {\n",
      "                  \"type\": \"string\",\n",
      "                  \"description\": \"antibody used if ChIP-seq experiment\"\n",
      "               },\n",
      "               \"description\": {\n",
      "                  \"type\": \"string\",\n",
      "                  \"description\": \"freeform description of the sample\"\n",
      "               },\n",
      "               \"exp_protocol\": {\n",
      "                  \"type\": \"string\",\n",
      "                  \"description\": \"type of the experiment the file was generated in\"\n",
      "               },\n",
      "               \"data_source\": {\n",
      "                  \"type\": \"string\",\n",
      "                  \"description\": \"source of the sample, preferably a GSE* code\"\n",
      "               },\n",
      "               \"treatment\": {\n",
      "                  \"type\": \"string\",\n",
      "                  \"description\": \"freeform description of the sample treatment\"\n",
      "               }\n",
      "            },\n",
      "            \"required_files\": [\n",
      "               \"input_file_path\"\n",
      "            ],\n",
      "            \"required\": [\n",
      "               \"input_file_path\",\n",
      "               \"output_bed_path\",\n",
      "               \"output_bigbed_path\",\n",
      "               \"genome\",\n",
      "               \"narrowpeak\",\n",
      "               \"sample_name\"\n",
      "            ]\n",
      "         }\n",
      "      }\n",
      "   },\n",
      "   \"required\": [\n",
      "      \"samples\"\n",
      "   ]\n",
      "}\n"
     ]
    }
   ],
   "source": [
    "endpoint = \"/schemas/namespace2/bedmaker/versions/1.0.0\"\n",
    "print(endpoint)\n",
    "response = requests.get(f\"{base}{endpoint}\")\n",
    "prettyprint(response.json())"
   ]
  },
  {
   "cell_type": "code",
   "execution_count": 53,
   "id": "6450c157",
   "metadata": {},
   "outputs": [
    {
     "name": "stdout",
     "output_type": "stream",
     "text": [
      "/schemas/namespace2/bedboss/versions\n",
      "{\n",
      "   \"pagination\": {\n",
      "      \"page\": 0,\n",
      "      \"page_size\": 100,\n",
      "      \"total\": 1\n",
      "   },\n",
      "   \"results\": [\n",
      "      {\n",
      "         \"namespace\": \"namespace2\",\n",
      "         \"name\": \"bedboss\",\n",
      "         \"version\": \"1.0.0\",\n",
      "         \"contributors\": \"Teddy, John\",\n",
      "         \"release_notes\": \"Initial release\",\n",
      "         \"tags\": {},\n",
      "         \"release_date\": \"2025-03-18T20:27:01.456797Z\",\n",
      "         \"last_update_date\": \"2025-03-18T20:27:01.456801Z\"\n",
      "      }\n",
      "   ]\n",
      "}\n"
     ]
    }
   ],
   "source": [
    "endpoint = \"/schemas/namespace2/bedboss/versions\"\n",
    "print(endpoint)\n",
    "response = requests.get(f\"{base}{endpoint}\")\n",
    "prettyprint(response.json())"
   ]
  },
  {
   "cell_type": "code",
   "execution_count": 54,
   "id": "bb1e1c13",
   "metadata": {},
   "outputs": [
    {
     "name": "stdout",
     "output_type": "stream",
     "text": [
      "/schemas/namespace2/bedbuncher/versions\n",
      "{\n",
      "   \"pagination\": {\n",
      "      \"page\": 0,\n",
      "      \"page_size\": 100,\n",
      "      \"total\": 1\n",
      "   },\n",
      "   \"results\": [\n",
      "      {\n",
      "         \"namespace\": \"namespace2\",\n",
      "         \"name\": \"bedbuncher\",\n",
      "         \"version\": \"1.0.0\",\n",
      "         \"contributors\": \"Teddy, John\",\n",
      "         \"release_notes\": \"Initial release\",\n",
      "         \"tags\": {},\n",
      "         \"release_date\": \"2025-03-18T20:27:01.522135Z\",\n",
      "         \"last_update_date\": \"2025-03-18T20:27:01.522139Z\"\n",
      "      }\n",
      "   ]\n",
      "}\n"
     ]
    }
   ],
   "source": [
    "endpoint = \"/schemas/namespace2/bedbuncher/versions\"\n",
    "print(endpoint)\n",
    "response = requests.get(f\"{base}{endpoint}\")\n",
    "prettyprint(response.json())"
   ]
  },
  {
   "cell_type": "code",
   "execution_count": 56,
   "id": "37fdc345",
   "metadata": {},
   "outputs": [
    {
     "name": "stdout",
     "output_type": "stream",
     "text": [
      "/schemas/namespace2/bedbuncher/versions/latest\n",
      "{\n",
      "   \"description\": \"bedbuncher PEP schema\",\n",
      "   \"imports\": [\n",
      "      \"http://schema.databio.org/pep/2.0.0.yaml\"\n",
      "   ],\n",
      "   \"properties\": {\n",
      "      \"samples\": {\n",
      "         \"type\": \"array\",\n",
      "         \"items\": {\n",
      "            \"type\": \"object\",\n",
      "            \"properties\": {\n",
      "               \"JSONquery_path\": {\n",
      "                  \"type\": \"string\",\n",
      "                  \"description\": \"path to the JSON file with the Elasticsearch query\"\n",
      "               },\n",
      "               \"bedset_name\": {\n",
      "                  \"type\": \"string\",\n",
      "                  \"pattern\": \"^\\\\S*$\",\n",
      "                  \"description\": \"name of the bedset that will be created\"\n",
      "               },\n",
      "               \"bbconfig_path\": {\n",
      "                  \"type\": \"string\",\n",
      "                  \"description\": \"path to bedbase config file\"\n",
      "               }\n",
      "            },\n",
      "            \"required\": [\n",
      "               \"JSONquery_path\",\n",
      "               \"bedset_name\"\n",
      "            ]\n",
      "         }\n",
      "      }\n",
      "   },\n",
      "   \"required\": [\n",
      "      \"samples\"\n",
      "   ]\n",
      "}\n"
     ]
    }
   ],
   "source": [
    "endpoint = \"/schemas/namespace2/bedbuncher/versions/latest\"\n",
    "print(endpoint)\n",
    "response = requests.get(f\"{base}{endpoint}\")\n",
    "prettyprint(response.json())"
   ]
  },
  {
   "cell_type": "code",
   "execution_count": null,
   "id": "8cde95a3",
   "metadata": {},
   "outputs": [],
   "source": []
  }
 ],
 "metadata": {
  "kernelspec": {
   "display_name": "Python 3 (ipykernel)",
   "language": "python",
   "name": "python3"
  },
  "language_info": {
   "codemirror_mode": {
    "name": "ipython",
    "version": 3
   },
   "file_extension": ".py",
   "mimetype": "text/x-python",
   "name": "python",
   "nbconvert_exporter": "python",
   "pygments_lexer": "ipython3",
   "version": "3.9.12"
  }
 },
 "nbformat": 4,
 "nbformat_minor": 5
}
