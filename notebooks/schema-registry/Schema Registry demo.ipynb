{
 "cells": [
  {
   "cell_type": "markdown",
   "id": "34e133dc",
   "metadata": {},
   "source": [
    "### Demonstration of Schema Registry exploratory implementation\n",
    "\n",
    "See https://github.com/ianfore/ga4gh-starter-schema-repository for the implementation code.\n",
    "\n",
    "The implementation is based on the concept of a SchemaProvider interface. This follows a similar pattern to the DataModelSupplier interface implemented in data-connect-trino. \n",
    "\n",
    "The implementation uses the following SchemaProviders for different sources.\n",
    "\n",
    "* GitHubSchemaProvider - serves json schema from a folder in a GitHub repository. Uses GitHub API to provide versioning and to retrieve schema.\n",
    "* FileDataModelSupplier - serves schema from a folder in a file system available to the server\n",
    "* DbGaPSchemaProvider - serves schema from dbGaP's public ftp site\n"
   ]
  },
  {
   "cell_type": "code",
   "execution_count": 1,
   "id": "7ef82172",
   "metadata": {},
   "outputs": [],
   "source": [
    "import requests;\n",
    "\n",
    "import json;\n",
    "\n",
    "import xml.etree.ElementTree as ET\n",
    "\n",
    "def prettyprint(a_dict):\n",
    "    print(json.dumps(a_dict, indent=3))\n",
    "\n",
    "def printline(char=\"_\"):\n",
    "    print(char*80)"
   ]
  },
  {
   "cell_type": "markdown",
   "id": "56886e0a",
   "metadata": {},
   "source": [
    "### Docker build and deployment to follow\n",
    "This will allow local deployment as follows"
   ]
  },
  {
   "cell_type": "code",
   "execution_count": 21,
   "id": "42f44db9",
   "metadata": {},
   "outputs": [],
   "source": [
    "base = \"http://localhost:8080\""
   ]
  },
  {
   "cell_type": "markdown",
   "id": "15896ca5",
   "metadata": {},
   "source": [
    "### Get namespaces"
   ]
  },
  {
   "cell_type": "code",
   "execution_count": 22,
   "id": "83429c59",
   "metadata": {},
   "outputs": [
    {
     "name": "stdout",
     "output_type": "stream",
     "text": [
      "dbGaP\n",
      "gks-core\n",
      "dataconnect-demo\n",
      "expt-metadata\n",
      "vrs\n"
     ]
    }
   ],
   "source": [
    "url = f\"{base}/namespaces\"\n",
    "response = requests.get(url)\n",
    "namespaces = response.json()['namespaces']\n",
    "for namespace in namespaces:\n",
    "    print( namespace['namespace_name'])"
   ]
  },
  {
   "cell_type": "code",
   "execution_count": 23,
   "id": "b8eeb27e",
   "metadata": {},
   "outputs": [
    {
     "name": "stdout",
     "output_type": "stream",
     "text": [
      "{\n",
      "   \"server\": \"http://localCatalog\",\n",
      "   \"namespaces\": [\n",
      "      {\n",
      "         \"namespace_name\": \"dbGaP\",\n",
      "         \"contact_url\": \"https://ncbi.nlm.gov\"\n",
      "      },\n",
      "      {\n",
      "         \"namespace_name\": \"gks-core\",\n",
      "         \"contact_url\": \"https://github.com/ga4gh/gks-core\"\n",
      "      },\n",
      "      {\n",
      "         \"namespace_name\": \"dataconnect-demo\",\n",
      "         \"contact_url\": \"https://localhost\"\n",
      "      },\n",
      "      {\n",
      "         \"namespace_name\": \"expt-metadata\",\n",
      "         \"contact_url\": \"https://localhost\"\n",
      "      },\n",
      "      {\n",
      "         \"namespace_name\": \"vrs\",\n",
      "         \"contact_url\": \"https://github.com/ga4gh/vrs\"\n",
      "      }\n",
      "   ]\n",
      "}\n"
     ]
    }
   ],
   "source": [
    "prettyprint(response.json())"
   ]
  },
  {
   "cell_type": "code",
   "execution_count": 24,
   "id": "b0f6f153",
   "metadata": {},
   "outputs": [
    {
     "data": {
      "text/plain": [
       "'expt-metadata'"
      ]
     },
     "execution_count": 24,
     "metadata": {},
     "output_type": "execute_result"
    }
   ],
   "source": [
    "namespace = namespaces[3]['namespace_name']\n",
    "namespace"
   ]
  },
  {
   "cell_type": "code",
   "execution_count": 25,
   "id": "fa695aa0",
   "metadata": {},
   "outputs": [
    {
     "name": "stdout",
     "output_type": "stream",
     "text": [
      "/schemas/expt-metadata\n",
      "sra_PRJEB10573\n",
      "sra_PRJEB1985\n",
      "sra_PRJEB37886\n",
      "sra_phs001554\n",
      "sra_scr_icac\n",
      "sra_scr_udn_v5\n"
     ]
    }
   ],
   "source": [
    "endpoint = f\"/schemas/{namespace}\"\n",
    "print(endpoint)\n",
    "response = requests.get(f\"{base}{endpoint}\")\n",
    "schemas = response.json()['schemas']\n",
    "for schema in schemas:\n",
    "    print( schema['schema_name'])"
   ]
  },
  {
   "cell_type": "code",
   "execution_count": 26,
   "id": "48001f79",
   "metadata": {
    "scrolled": true
   },
   "outputs": [
    {
     "name": "stdout",
     "output_type": "stream",
     "text": [
      "{\n",
      "   \"namespace\": \"expt-metadata\",\n",
      "   \"schemas\": [\n",
      "      {\n",
      "         \"schema_name\": \"sra_PRJEB10573\",\n",
      "         \"latest_version\": \"v1\",\n",
      "         \"maintainer\": [\n",
      "            \"local\"\n",
      "         ],\n",
      "         \"lifecycle_stage\": \"released\"\n",
      "      },\n",
      "      {\n",
      "         \"schema_name\": \"sra_PRJEB1985\",\n",
      "         \"latest_version\": \"v1\",\n",
      "         \"maintainer\": [\n",
      "            \"local\"\n",
      "         ],\n",
      "         \"lifecycle_stage\": \"released\"\n",
      "      },\n",
      "      {\n",
      "         \"schema_name\": \"sra_PRJEB37886\",\n",
      "         \"latest_version\": \"v1\",\n",
      "         \"maintainer\": [\n",
      "            \"local\"\n",
      "         ],\n",
      "         \"lifecycle_stage\": \"released\"\n",
      "      },\n",
      "      {\n",
      "         \"schema_name\": \"sra_phs001554\",\n",
      "         \"latest_version\": \"v1\",\n",
      "         \"maintainer\": [\n",
      "            \"local\"\n",
      "         ],\n",
      "         \"lifecycle_stage\": \"released\"\n",
      "      },\n",
      "      {\n",
      "         \"schema_name\": \"sra_scr_icac\",\n",
      "         \"latest_version\": \"v1\",\n",
      "         \"maintainer\": [\n",
      "            \"local\"\n",
      "         ],\n",
      "         \"lifecycle_stage\": \"released\"\n",
      "      },\n",
      "      {\n",
      "         \"schema_name\": \"sra_scr_udn_v5\",\n",
      "         \"latest_version\": \"v1\",\n",
      "         \"maintainer\": [\n",
      "            \"local\"\n",
      "         ],\n",
      "         \"lifecycle_stage\": \"released\"\n",
      "      }\n",
      "   ]\n",
      "}\n"
     ]
    }
   ],
   "source": [
    "prettyprint(response.json())"
   ]
  },
  {
   "cell_type": "markdown",
   "id": "feb2ac2a",
   "metadata": {},
   "source": [
    "### List schemas from two namespaces that contain experimental metadata"
   ]
  },
  {
   "cell_type": "code",
   "execution_count": 27,
   "id": "ece35b00",
   "metadata": {},
   "outputs": [
    {
     "name": "stdout",
     "output_type": "stream",
     "text": [
      "================================================================================\n",
      "getting schema for namespace dataconnect-demo\n",
      "/schemas/dataconnect-demo\n",
      "get the schemas\n",
      "________________________________________________________________________________\n",
      "schema:bigquery_public.covid19_genome_sequence.metadata\n",
      "endpoint: /schemas/dataconnect-demo/bigquery_public.covid19_genome_sequence.metadata/versions/v2\n",
      "fetching schema\n",
      "________________________________________________________________________________\n",
      "schema:nih_sra_datastore.sra.metadata\n",
      "endpoint: /schemas/dataconnect-demo/nih_sra_datastore.sra.metadata/versions/v2\n",
      "fetching schema\n",
      "________________________________________________________________________________\n",
      "schema:sra.sra.metadata\n",
      "endpoint: /schemas/dataconnect-demo/sra.sra.metadata/versions/v2\n",
      "fetching schema\n",
      "________________________________________________________________________________\n",
      "schema:tutorial.phs002409.CAMP_CData\n",
      "endpoint: /schemas/dataconnect-demo/tutorial.phs002409.CAMP_CData/versions/v2\n",
      "fetching schema\n",
      "________________________________________________________________________________\n",
      "schema:xtutorial.onek_genomes.ssd_drs\n",
      "endpoint: /schemas/dataconnect-demo/xtutorial.onek_genomes.ssd_drs/versions/v2\n",
      "fetching schema\n",
      "________________________________________________________________________________\n",
      "================================================================================\n",
      "getting schema for namespace expt-metadata\n",
      "/schemas/expt-metadata\n",
      "get the schemas\n",
      "________________________________________________________________________________\n",
      "schema:sra_PRJEB10573\n",
      "endpoint: /schemas/expt-metadata/sra_PRJEB10573/versions/v2\n",
      "fetching schema\n",
      "________________________________________________________________________________\n",
      "schema:sra_PRJEB1985\n",
      "endpoint: /schemas/expt-metadata/sra_PRJEB1985/versions/v2\n",
      "fetching schema\n",
      "________________________________________________________________________________\n",
      "schema:sra_PRJEB37886\n",
      "endpoint: /schemas/expt-metadata/sra_PRJEB37886/versions/v2\n",
      "fetching schema\n",
      "________________________________________________________________________________\n",
      "schema:sra_phs001554\n",
      "endpoint: /schemas/expt-metadata/sra_phs001554/versions/v2\n",
      "fetching schema\n",
      "________________________________________________________________________________\n",
      "schema:sra_scr_icac\n",
      "endpoint: /schemas/expt-metadata/sra_scr_icac/versions/v2\n",
      "fetching schema\n",
      "________________________________________________________________________________\n",
      "schema:sra_scr_udn_v5\n",
      "endpoint: /schemas/expt-metadata/sra_scr_udn_v5/versions/v2\n",
      "fetching schema\n",
      "________________________________________________________________________________\n"
     ]
    }
   ],
   "source": [
    "namespaces = [\"dataconnect-demo\",\"expt-metadata\"]\n",
    "for namespace in namespaces:\n",
    "    printline(\"=\")\n",
    "    print(f\"getting schema for namespace {namespace}\")\n",
    "    endpoint = f\"/schemas/{namespace}\"\n",
    "    print(endpoint)\n",
    "    response = requests.get(f\"{base}{endpoint}\")\n",
    "    schemas = response.json()['schemas']\n",
    "    print(\"get the schemas\")\n",
    "    printline()\n",
    "    for schema in schemas:\n",
    "        print( f\"schema:{schema['schema_name']}\")\n",
    "        endpoint = f\"/schemas/{namespace}/{schema['schema_name']}/versions/v2\"\n",
    "        print(f\"endpoint: {endpoint}\")\n",
    "        response = requests.get(f\"{base}{endpoint}\")\n",
    "        print(\"fetching schema\")\n",
    "        response = requests.get(url)\n",
    "        schema = response.json()\n",
    "        #prettyprint( schema)\n",
    "        printline()"
   ]
  },
  {
   "cell_type": "markdown",
   "id": "2a4fb059",
   "metadata": {},
   "source": [
    "## dbGaP"
   ]
  },
  {
   "cell_type": "markdown",
   "id": "f4fed92d",
   "metadata": {},
   "source": [
    "### Get schemas for a study"
   ]
  },
  {
   "cell_type": "code",
   "execution_count": 28,
   "id": "533491bc",
   "metadata": {},
   "outputs": [
    {
     "name": "stdout",
     "output_type": "stream",
     "text": [
      "/schemas/dbGaP?study=phs002921&study_version=v2.p1\n",
      "phs002921.v2.pht012614.v1.ICAC_Subject_Phenotypes\n",
      "phs002921.v2.pht012612.v1.ICAC_Subject\n",
      "phs002921.v2.pht012613.v1.ICAC_Sample\n",
      "phs002921.v2.pht012615.v1.ICAC_Sample_Attributes\n"
     ]
    }
   ],
   "source": [
    "namespace = \"dbGaP\"\n",
    "endpoint = f\"/schemas/{namespace}?study=phs002921&study_version=v2.p1\"\n",
    "print(endpoint)\n",
    "response = requests.get(f\"{base}{endpoint}\")\n",
    "schemas = response.json()['schemas']\n",
    "for schema in schemas:\n",
    "    print( schema['schema_name'])"
   ]
  },
  {
   "cell_type": "code",
   "execution_count": 29,
   "id": "1857d523",
   "metadata": {},
   "outputs": [
    {
     "name": "stdout",
     "output_type": "stream",
     "text": [
      "{\n",
      "   \"namespace\": \"dbGaP\",\n",
      "   \"schemas\": [\n",
      "      {\n",
      "         \"schema_name\": \"phs002921.v2.pht012614.v1.ICAC_Subject_Phenotypes\",\n",
      "         \"latest_version\": \"v1\",\n",
      "         \"maintainer\": [\n",
      "            \"dbGaP\"\n",
      "         ],\n",
      "         \"lifecycle_stage\": \"released\"\n",
      "      },\n",
      "      {\n",
      "         \"schema_name\": \"phs002921.v2.pht012612.v1.ICAC_Subject\",\n",
      "         \"latest_version\": \"v1\",\n",
      "         \"maintainer\": [\n",
      "            \"dbGaP\"\n",
      "         ],\n",
      "         \"lifecycle_stage\": \"released\"\n",
      "      },\n",
      "      {\n",
      "         \"schema_name\": \"phs002921.v2.pht012613.v1.ICAC_Sample\",\n",
      "         \"latest_version\": \"v1\",\n",
      "         \"maintainer\": [\n",
      "            \"dbGaP\"\n",
      "         ],\n",
      "         \"lifecycle_stage\": \"released\"\n",
      "      },\n",
      "      {\n",
      "         \"schema_name\": \"phs002921.v2.pht012615.v1.ICAC_Sample_Attributes\",\n",
      "         \"latest_version\": \"v1\",\n",
      "         \"maintainer\": [\n",
      "            \"dbGaP\"\n",
      "         ],\n",
      "         \"lifecycle_stage\": \"released\"\n",
      "      }\n",
      "   ]\n",
      "}\n"
     ]
    }
   ],
   "source": [
    "prettyprint(response.json())"
   ]
  },
  {
   "cell_type": "markdown",
   "id": "6a5ac779",
   "metadata": {},
   "source": [
    "### Get schema as JSON Schema"
   ]
  },
  {
   "cell_type": "code",
   "execution_count": 30,
   "id": "bf0b3b15",
   "metadata": {},
   "outputs": [],
   "source": [
    "schema_name = \"phs001554.v2.pht007609.v1.GECCO_CRC_Susceptibility_Subject_Phenotypes\"\n",
    "url = f\"{base}/schemas/{namespace}/{schema_name}/versions/v2\"\n",
    "response = requests.get(url)"
   ]
  },
  {
   "cell_type": "code",
   "execution_count": 33,
   "id": "0e3cdd17",
   "metadata": {},
   "outputs": [
    {
     "name": "stdout",
     "output_type": "stream",
     "text": [
      "{\n",
      "   \"description\": \"This subject phenotype table contains subject IDs, case control status of the subject for colorectal cancer, sex, age, race, ethnicity, and study acronym.\",\n",
      "   \"$id\": \"dbgap:pht007609.v1\",\n",
      "   \"properties\": {\n",
      "      \"STUDY\": {\n",
      "         \"$id\": \"dbgap:phv00357188.v1\",\n",
      "         \"description\": \"Study acronym\",\n",
      "         \"type\": \"string\",\n",
      "         \"$unit\": null,\n",
      "         \"oneOf\": [\n",
      "            {\n",
      "               \"const\": \"CPS-II\",\n",
      "               \"title\": \"Cancer Prevention Study II\"\n",
      "            },\n",
      "            {\n",
      "               \"const\": \"DACHS\",\n",
      "               \"title\": \"Darmkrebs: Chancen der Verhutung durch Screening\"\n",
      "            },\n",
      "            {\n",
      "               \"const\": \"HPFS\",\n",
      "               \"title\": \"Health Professionals Follow-up Study\"\n",
      "            },\n",
      "            {\n",
      "               \"const\": \"NHS\",\n",
      "               \"title\": \"Nurses Health Study\"\n",
      "            },\n",
      "            {\n",
      "               \"const\": \"PLCO\",\n",
      "               \"title\": \"Prostate, Lung, Colorectal and Ovarian Cancer Screening Trail\"\n",
      "            },\n",
      "            {\n",
      "               \"const\": \"WHI\",\n",
      "               \"title\": \"Women's Health Initiative\"\n",
      "            }\n",
      "         ]\n",
      "      },\n",
      "      \"SUBJECT_ID\": {\n",
      "         \"$id\": \"dbgap:phv00357182.v1\",\n",
      "         \"description\": \"De-identified subject ID\",\n",
      "         \"type\": \"string\",\n",
      "         \"$unit\": null\n",
      "      },\n",
      "      \"SEX\": {\n",
      "         \"$id\": \"dbgap:phv00357184.v1\",\n",
      "         \"description\": \"Sex of participant\",\n",
      "         \"type\": \"string\",\n",
      "         \"$unit\": null,\n",
      "         \"oneOf\": [\n",
      "            {\n",
      "               \"const\": null,\n",
      "               \"title\": \"Female\"\n",
      "            },\n",
      "            {\n",
      "               \"const\": null,\n",
      "               \"title\": \"Male\"\n",
      "            }\n",
      "         ]\n",
      "      },\n",
      "      \"RACE\": {\n",
      "         \"$id\": \"dbgap:phv00357186.v1\",\n",
      "         \"description\": \"Race of participant\",\n",
      "         \"type\": \"string\",\n",
      "         \"$unit\": null,\n",
      "         \"oneOf\": [\n",
      "            {\n",
      "               \"const\": null,\n",
      "               \"title\": \"White\"\n",
      "            }\n",
      "         ]\n",
      "      },\n",
      "      \"ETHNICITY\": {\n",
      "         \"$id\": \"dbgap:phv00357187.v1\",\n",
      "         \"description\": \"Ethnicity of participant\",\n",
      "         \"type\": \"string\",\n",
      "         \"$unit\": null,\n",
      "         \"oneOf\": [\n",
      "            {\n",
      "               \"const\": null,\n",
      "               \"title\": \"Unknown\"\n",
      "            }\n",
      "         ]\n",
      "      },\n",
      "      \"AFFECTION_STATUS\": {\n",
      "         \"$id\": \"dbgap:phv00357183.v1\",\n",
      "         \"description\": \"Case control status of the subject for colorectal cancer\",\n",
      "         \"type\": \"string\",\n",
      "         \"$unit\": null,\n",
      "         \"oneOf\": [\n",
      "            {\n",
      "               \"const\": null,\n",
      "               \"title\": \"Case\"\n",
      "            },\n",
      "            {\n",
      "               \"const\": null,\n",
      "               \"title\": \"Control\"\n",
      "            }\n",
      "         ]\n",
      "      },\n",
      "      \"AGE\": {\n",
      "         \"$id\": \"dbgap:phv00357185.v1\",\n",
      "         \"description\": \"Participant reference age\",\n",
      "         \"type\": \"integer\",\n",
      "         \"$unit\": \"Years\"\n",
      "      }\n",
      "   }\n",
      "}\n"
     ]
    }
   ],
   "source": [
    "prettyprint(response.json())"
   ]
  },
  {
   "cell_type": "markdown",
   "id": "fa98bf82",
   "metadata": {},
   "source": [
    "### Get dbGaP schema as XML data dictionary\n",
    "**Relation to spec:** <span style=\"color:red\">demo endpoint - to be revised to fit spec</span>\n",
    "\n",
    "This is a current implementation of what should likely be achieved through a parameter such as ?format=json\n",
    "\n",
    "It was also discussed that the return type could be specified using a standard W3C header that is commonly used for this purpose."
   ]
  },
  {
   "cell_type": "code",
   "execution_count": 34,
   "id": "855a072c",
   "metadata": {},
   "outputs": [],
   "source": [
    "schema_name = \"phs001554.v2.pht007609.v1.GECCO_CRC_Susceptibility_Subject_Phenotypes\"\n",
    "url = f\"{base}/dicts/{namespace}/{schema_name}/versions/v2\"\n",
    "response = requests.get(url)"
   ]
  },
  {
   "cell_type": "code",
   "execution_count": 35,
   "id": "92554c44",
   "metadata": {},
   "outputs": [
    {
     "name": "stdout",
     "output_type": "stream",
     "text": [
      "<data_table id=\"pht007609.v1\" study_id=\"phs001554.v2\" participant_set=\"1\" date_created=\"Thu Sep 15 11:39:07 2022\">\n",
      "   <description>This subject phenotype table contains subject IDs, case control status of the subject for colorectal cancer, sex, age, race, ethnicity, and study acronym.</description>\n",
      "   <variable id=\"phv00357182.v1\">\n",
      "      <name>SUBJECT_ID</name>\n",
      "      <description>De-identified subject ID</description>\n",
      "      <type>string</type>\n",
      "   </variable>\n",
      "   <variable id=\"phv00357183.v1\">\n",
      "      <name>AFFECTION_STATUS</name>\n",
      "      <description>Case control status of the subject for colorectal cancer</description>\n",
      "      <type>string</type>\n",
      "      <value>Case</value>\n",
      "      <value>Control</value>\n",
      "   </variable>\n",
      "   <variable id=\"phv00357184.v1\">\n",
      "      <name>SEX</name>\n",
      "      <description>Sex of participant</description>\n",
      "      <type>string</type>\n",
      "      <value>Female</value>\n",
      "      <value>Male</value>\n",
      "   </variable>\n",
      "   <variable id=\"phv00357185.v1\">\n",
      "      <name>AGE</name>\n",
      "      <description>Participant reference age</description>\n",
      "      <type>integer</type>\n",
      "      <unit>Years</unit>\n",
      "      <logical_min>37</logical_min>\n",
      "      <logical_max>98</logical_max>\n",
      "   </variable>\n",
      "   <variable id=\"phv00357186.v1\">\n",
      "      <name>RACE</name>\n",
      "      <description>Race of participant</description>\n",
      "      <type>string</type>\n",
      "      <value>White</value>\n",
      "   </variable>\n",
      "   <variable id=\"phv00357187.v1\">\n",
      "      <name>ETHNICITY</name>\n",
      "      <description>Ethnicity of participant</description>\n",
      "      <type>string</type>\n",
      "      <value>Unknown</value>\n",
      "   </variable>\n",
      "   <variable id=\"phv00357188.v1\">\n",
      "      <name>STUDY</name>\n",
      "      <description>Study acronym</description>\n",
      "      <type>string</type>\n",
      "      <value code=\"CPS-II\">Cancer Prevention Study II</value>\n",
      "      <value code=\"DACHS\">Darmkrebs: Chancen der Verhutung durch Screening</value>\n",
      "      <value code=\"HPFS\">Health Professionals Follow-up Study</value>\n",
      "      <value code=\"NHS\">Nurses Health Study</value>\n",
      "      <value code=\"PLCO\">Prostate, Lung, Colorectal and Ovarian Cancer Screening Trail</value>\n",
      "      <value code=\"WHI\">Women's Health Initiative</value>\n",
      "   </variable>\n",
      "</data_table>\n"
     ]
    }
   ],
   "source": [
    "tree = ET.fromstring(response.text)\n",
    "\n",
    "ET.indent(tree, space='   ', level=0)\n",
    "ET.dump(tree)"
   ]
  },
  {
   "cell_type": "markdown",
   "id": "0cc4dade",
   "metadata": {},
   "source": [
    "### Return types available for a namespace\n",
    "\n",
    "**Relation to spec:** <span style=\"color:red\">additional endpoint</span>\n",
    "\n",
    "Given the functionality above, being able to obtain a list of the available formats seems a useful function. Is namespace the right level at which to apply this?\n",
    "\n",
    "#### For the dbGaP namespace"
   ]
  },
  {
   "cell_type": "code",
   "execution_count": 36,
   "id": "8cde95a3",
   "metadata": {
    "scrolled": true
   },
   "outputs": [
    {
     "name": "stdout",
     "output_type": "stream",
     "text": [
      "{\n",
      "   \"namespace\": \"dbGaP\",\n",
      "   \"return_types\": [\n",
      "      \"application/schema+json\",\n",
      "      \"application/xml+data_dict\"\n",
      "   ]\n",
      "}\n"
     ]
    }
   ],
   "source": [
    "response = requests.get(f\"{base}/schematypes/dbGaP\")\n",
    "prettyprint(response.json())"
   ]
  },
  {
   "cell_type": "markdown",
   "id": "ce2f258c",
   "metadata": {},
   "source": [
    "#### For the VRS namespace"
   ]
  },
  {
   "cell_type": "code",
   "execution_count": 37,
   "id": "1a6b4a82",
   "metadata": {},
   "outputs": [
    {
     "name": "stdout",
     "output_type": "stream",
     "text": [
      "{\n",
      "   \"namespace\": \"vrs\",\n",
      "   \"return_types\": [\n",
      "      \"application/schema+json\"\n",
      "   ]\n",
      "}\n"
     ]
    }
   ],
   "source": [
    "url = f\"{base}/schematypes/vrs\"\n",
    "response = requests.get(url)\n",
    "prettyprint(response.json())"
   ]
  },
  {
   "cell_type": "markdown",
   "id": "b347af05",
   "metadata": {},
   "source": [
    "### Service Info\n",
    "**Relation to spec:** <span style=\"color:red\">additional endpoint</span>\n",
    "\n",
    "Adding the standard service-info endpoint used in GA4GH services"
   ]
  },
  {
   "cell_type": "code",
   "execution_count": 38,
   "id": "ba4d45d3",
   "metadata": {},
   "outputs": [
    {
     "name": "stdout",
     "output_type": "stream",
     "text": [
      "{\n",
      "   \"id\": \"org.ga4gh.schema-registry\",\n",
      "   \"name\": \"Experimental GA4GH Schema Registry\",\n",
      "   \"description\": \"An open source, experimental, community-driven implementation of the GA4GH Schema Registry API specification for the purpose of revising the API specification.\",\n",
      "   \"contactUrl\": \"mailto:info@ga4gh.org\",\n",
      "   \"documentationUrl\": \"https://github.com/ga4gh/schema-registry\",\n",
      "   \"createdAt\": \"2025-03-19T12:00:00Z\",\n",
      "   \"updatedAt\": \"2025-03-19T12:00:00Z\",\n",
      "   \"environment\": \"test\",\n",
      "   \"version\": \"0.0.1\",\n",
      "   \"type\": {\n",
      "      \"group\": \"org.ga4gh\",\n",
      "      \"artifact\": \"schema-registry\",\n",
      "      \"version\": \"0.0.1.experimental\"\n",
      "   },\n",
      "   \"organization\": {\n",
      "      \"name\": \"Global Alliance for Genomics and Health\",\n",
      "      \"url\": \"https://ga4gh.org\"\n",
      "   }\n",
      "}\n"
     ]
    }
   ],
   "source": [
    "url = f\"{base}/service-info\"\n",
    "response = requests.get(url)\n",
    "prettyprint(response.json())"
   ]
  }
 ],
 "metadata": {
  "kernelspec": {
   "display_name": "Python 3 (ipykernel)",
   "language": "python",
   "name": "python3"
  },
  "language_info": {
   "codemirror_mode": {
    "name": "ipython",
    "version": 3
   },
   "file_extension": ".py",
   "mimetype": "text/x-python",
   "name": "python",
   "nbconvert_exporter": "python",
   "pygments_lexer": "ipython3",
   "version": "3.9.12"
  }
 },
 "nbformat": 4,
 "nbformat_minor": 5
}
