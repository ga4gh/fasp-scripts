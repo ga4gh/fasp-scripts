{
 "cells": [
  {
   "cell_type": "markdown",
   "id": "34e133dc",
   "metadata": {},
   "source": [
    "### Demonstration of Schema Registry exploratory implementation\n",
    "\n",
    "See https://github.com/ianfore/ga4gh-starter-schema-repository for details of the implementation.\n"
   ]
  },
  {
   "cell_type": "code",
   "execution_count": 229,
   "id": "7ef82172",
   "metadata": {},
   "outputs": [],
   "source": [
    "import requests;\n",
    "\n",
    "import json;\n",
    "\n",
    "import xml.etree.ElementTree as ET\n",
    "\n",
    "def prettyprint(a_dict):\n",
    "    print(json.dumps(a_dict, indent=3))\n",
    "\n",
    "def printline(char=\"_\"):\n",
    "    print(char*80)"
   ]
  },
  {
   "cell_type": "markdown",
   "id": "56886e0a",
   "metadata": {},
   "source": [
    "### Docker build and deployment to follow\n",
    "This will allow local deployment as follows"
   ]
  },
  {
   "cell_type": "code",
   "execution_count": 285,
   "id": "42f44db9",
   "metadata": {},
   "outputs": [],
   "source": [
    "base = \"http://localhost:8080\""
   ]
  },
  {
   "cell_type": "markdown",
   "id": "15896ca5",
   "metadata": {},
   "source": [
    "### Get namespaces"
   ]
  },
  {
   "cell_type": "code",
   "execution_count": 298,
   "id": "83429c59",
   "metadata": {},
   "outputs": [
    {
     "name": "stdout",
     "output_type": "stream",
     "text": [
      "dbGaP\n",
      "dataconnect-demo\n",
      "expt-metadata\n"
     ]
    }
   ],
   "source": [
    "url = f\"{base}/namespaces\"\n",
    "response = requests.get(url)\n",
    "namespaces = response.json()['namespaces']\n",
    "for namespace in namespaces:\n",
    "    print( namespace['namespace_name'])"
   ]
  },
  {
   "cell_type": "code",
   "execution_count": 287,
   "id": "b8eeb27e",
   "metadata": {},
   "outputs": [
    {
     "name": "stdout",
     "output_type": "stream",
     "text": [
      "{\n",
      "   \"server\": \"http://localCatalog\",\n",
      "   \"namespaces\": [\n",
      "      {\n",
      "         \"namespace_name\": \"dbGaP\",\n",
      "         \"latest_version\": \"https://ncbi.nlm.gov\",\n",
      "         \"contact_url\": \"1.0.0\"\n",
      "      },\n",
      "      {\n",
      "         \"namespace_name\": \"dataconnect-demo\",\n",
      "         \"latest_version\": \"https://localhost\",\n",
      "         \"contact_url\": \"1.0.0\"\n",
      "      },\n",
      "      {\n",
      "         \"namespace_name\": \"expt-metadata\",\n",
      "         \"latest_version\": \"https://localhost\",\n",
      "         \"contact_url\": \"1.0.0\"\n",
      "      }\n",
      "   ]\n",
      "}\n"
     ]
    }
   ],
   "source": [
    "prettyprint(response.json())"
   ]
  },
  {
   "cell_type": "code",
   "execution_count": 288,
   "id": "b0f6f153",
   "metadata": {},
   "outputs": [
    {
     "data": {
      "text/plain": [
       "'expt-metadata'"
      ]
     },
     "execution_count": 288,
     "metadata": {},
     "output_type": "execute_result"
    }
   ],
   "source": [
    "namespace = namespaces[2]['namespace_name']\n",
    "namespace"
   ]
  },
  {
   "cell_type": "code",
   "execution_count": 292,
   "id": "fa695aa0",
   "metadata": {},
   "outputs": [
    {
     "name": "stdout",
     "output_type": "stream",
     "text": [
      "/schemas/expt-metadata/\n",
      "sra_PRJEB10573\n",
      "sra_PRJEB1985\n",
      "sra_PRJEB37886\n",
      "sra_phs001554\n",
      "sra_scr_icac\n",
      "sra_scr_udn_v5\n"
     ]
    }
   ],
   "source": [
    "endpoint = f\"/schemas/{namespace}/\"\n",
    "print(endpoint)\n",
    "response = requests.get(f\"{base}{endpoint}\")\n",
    "schemas = response.json()['schemas']\n",
    "for schema in schemas:\n",
    "    print( schema['schema_name'])"
   ]
  },
  {
   "cell_type": "code",
   "execution_count": 274,
   "id": "48001f79",
   "metadata": {
    "scrolled": true
   },
   "outputs": [
    {
     "name": "stdout",
     "output_type": "stream",
     "text": [
      "{\n",
      "   \"namespace\": \"expt-metadata\",\n",
      "   \"schemas\": [\n",
      "      {\n",
      "         \"schema_name\": \"sra_PRJEB10573\",\n",
      "         \"latest_version\": \"v1\",\n",
      "         \"maintainer\": [\n",
      "            \"local\"\n",
      "         ],\n",
      "         \"lifecycle_stage\": \"released\"\n",
      "      },\n",
      "      {\n",
      "         \"schema_name\": \"sra_PRJEB1985\",\n",
      "         \"latest_version\": \"v1\",\n",
      "         \"maintainer\": [\n",
      "            \"local\"\n",
      "         ],\n",
      "         \"lifecycle_stage\": \"released\"\n",
      "      },\n",
      "      {\n",
      "         \"schema_name\": \"sra_PRJEB37886\",\n",
      "         \"latest_version\": \"v1\",\n",
      "         \"maintainer\": [\n",
      "            \"local\"\n",
      "         ],\n",
      "         \"lifecycle_stage\": \"released\"\n",
      "      },\n",
      "      {\n",
      "         \"schema_name\": \"sra_phs001554\",\n",
      "         \"latest_version\": \"v1\",\n",
      "         \"maintainer\": [\n",
      "            \"local\"\n",
      "         ],\n",
      "         \"lifecycle_stage\": \"released\"\n",
      "      },\n",
      "      {\n",
      "         \"schema_name\": \"sra_scr_icac\",\n",
      "         \"latest_version\": \"v1\",\n",
      "         \"maintainer\": [\n",
      "            \"local\"\n",
      "         ],\n",
      "         \"lifecycle_stage\": \"released\"\n",
      "      },\n",
      "      {\n",
      "         \"schema_name\": \"sra_scr_udn_v5\",\n",
      "         \"latest_version\": \"v1\",\n",
      "         \"maintainer\": [\n",
      "            \"local\"\n",
      "         ],\n",
      "         \"lifecycle_stage\": \"released\"\n",
      "      }\n",
      "   ]\n",
      "}\n"
     ]
    }
   ],
   "source": [
    "prettyprint(response.json())"
   ]
  },
  {
   "cell_type": "code",
   "execution_count": 295,
   "id": "ece35b00",
   "metadata": {},
   "outputs": [
    {
     "name": "stdout",
     "output_type": "stream",
     "text": [
      "================================================================================\n",
      "getting schema for namespace dataconnect-demo\n",
      "/schemas/dataconnect-demo/\n",
      "get the schemas\n",
      "________________________________________________________________________________\n",
      "schema:bigquery_public.covid19_genome_sequence.metadata\n",
      "endpoint: /schemas/dataconnect-demo/bigquery_public.covid19_genome_sequence.metadata/versions/v2\n",
      "fetching schema\n",
      "________________________________________________________________________________\n",
      "schema:nih_sra_datastore.sra.metadata\n",
      "endpoint: /schemas/dataconnect-demo/nih_sra_datastore.sra.metadata/versions/v2\n",
      "fetching schema\n",
      "________________________________________________________________________________\n",
      "schema:sra.sra.metadata\n",
      "endpoint: /schemas/dataconnect-demo/sra.sra.metadata/versions/v2\n",
      "fetching schema\n",
      "________________________________________________________________________________\n",
      "schema:tutorial.phs002409.CAMP_CData\n",
      "endpoint: /schemas/dataconnect-demo/tutorial.phs002409.CAMP_CData/versions/v2\n",
      "fetching schema\n",
      "________________________________________________________________________________\n",
      "schema:xtutorial.onek_genomes.ssd_drs\n",
      "endpoint: /schemas/dataconnect-demo/xtutorial.onek_genomes.ssd_drs/versions/v2\n",
      "fetching schema\n",
      "________________________________________________________________________________\n",
      "================================================================================\n",
      "getting schema for namespace expt-metadata\n",
      "/schemas/expt-metadata/\n",
      "get the schemas\n",
      "________________________________________________________________________________\n",
      "schema:sra_PRJEB10573\n",
      "endpoint: /schemas/expt-metadata/sra_PRJEB10573/versions/v2\n",
      "fetching schema\n",
      "________________________________________________________________________________\n",
      "schema:sra_PRJEB1985\n",
      "endpoint: /schemas/expt-metadata/sra_PRJEB1985/versions/v2\n",
      "fetching schema\n",
      "________________________________________________________________________________\n",
      "schema:sra_PRJEB37886\n",
      "endpoint: /schemas/expt-metadata/sra_PRJEB37886/versions/v2\n",
      "fetching schema\n",
      "________________________________________________________________________________\n",
      "schema:sra_phs001554\n",
      "endpoint: /schemas/expt-metadata/sra_phs001554/versions/v2\n",
      "fetching schema\n",
      "________________________________________________________________________________\n",
      "schema:sra_scr_icac\n",
      "endpoint: /schemas/expt-metadata/sra_scr_icac/versions/v2\n",
      "fetching schema\n",
      "________________________________________________________________________________\n",
      "schema:sra_scr_udn_v5\n",
      "endpoint: /schemas/expt-metadata/sra_scr_udn_v5/versions/v2\n",
      "fetching schema\n",
      "________________________________________________________________________________\n"
     ]
    }
   ],
   "source": [
    "namespaces = [\"dataconnect-demo\",\"expt-metadata\"]\n",
    "for namespace in namespaces:\n",
    "    printline(\"=\")\n",
    "    print(f\"getting schema for namespace {namespace}\")\n",
    "    endpoint = f\"/schemas/{namespace}/\"\n",
    "    print(endpoint)\n",
    "    response = requests.get(f\"{base}{endpoint}\")\n",
    "    schemas = response.json()['schemas']\n",
    "    print(\"get the schemas\")\n",
    "    printline()\n",
    "    for schema in schemas:\n",
    "        print( f\"schema:{schema['schema_name']}\")\n",
    "        endpoint = f\"/schemas/{namespace}/{schema['schema_name']}/versions/v2\"\n",
    "        print(f\"endpoint: {endpoint}\")\n",
    "        response = requests.get(f\"{base}{endpoint}\")\n",
    "        print(\"fetching schema\")\n",
    "        response = requests.get(url)\n",
    "        schema = response.json()\n",
    "        #prettyprint( schema)\n",
    "        printline()"
   ]
  },
  {
   "cell_type": "markdown",
   "id": "2a4fb059",
   "metadata": {},
   "source": [
    "## dbGaP"
   ]
  },
  {
   "cell_type": "markdown",
   "id": "f4fed92d",
   "metadata": {},
   "source": [
    "### Get schemas for a study"
   ]
  },
  {
   "cell_type": "code",
   "execution_count": 299,
   "id": "533491bc",
   "metadata": {},
   "outputs": [
    {
     "name": "stdout",
     "output_type": "stream",
     "text": [
      "/schemas/dbGaP/?study=phs002921&study_version=v2.p1\n",
      "phs002921.v2.pht012614.v1.ICAC_Subject_Phenotypes\n",
      "phs002921.v2.pht012612.v1.ICAC_Subject\n",
      "phs002921.v2.pht012613.v1.ICAC_Sample\n",
      "phs002921.v2.pht012615.v1.ICAC_Sample_Attributes\n"
     ]
    }
   ],
   "source": [
    "namespace = \"dbGaP\"\n",
    "endpoint = f\"/schemas/{namespace}/?study=phs002921&study_version=v2.p1\"\n",
    "print(endpoint)\n",
    "response = requests.get(f\"{base}{endpoint}\")\n",
    "schemas = response.json()['schemas']\n",
    "for schema in schemas:\n",
    "    print( schema['schema_name'])"
   ]
  },
  {
   "cell_type": "code",
   "execution_count": 278,
   "id": "1857d523",
   "metadata": {},
   "outputs": [
    {
     "name": "stdout",
     "output_type": "stream",
     "text": [
      "{\n",
      "   \"namespace\": \"dbGaP\",\n",
      "   \"schemas\": [\n",
      "      {\n",
      "         \"schema_name\": \"phs002921.v2.pht012614.v1.ICAC_Subject_Phenotypes\",\n",
      "         \"latest_version\": \"v1\",\n",
      "         \"maintainer\": [\n",
      "            \"dbGaP\"\n",
      "         ],\n",
      "         \"lifecycle_stage\": \"released\"\n",
      "      },\n",
      "      {\n",
      "         \"schema_name\": \"phs002921.v2.pht012612.v1.ICAC_Subject\",\n",
      "         \"latest_version\": \"v1\",\n",
      "         \"maintainer\": [\n",
      "            \"dbGaP\"\n",
      "         ],\n",
      "         \"lifecycle_stage\": \"released\"\n",
      "      },\n",
      "      {\n",
      "         \"schema_name\": \"phs002921.v2.pht012613.v1.ICAC_Sample\",\n",
      "         \"latest_version\": \"v1\",\n",
      "         \"maintainer\": [\n",
      "            \"dbGaP\"\n",
      "         ],\n",
      "         \"lifecycle_stage\": \"released\"\n",
      "      },\n",
      "      {\n",
      "         \"schema_name\": \"phs002921.v2.pht012615.v1.ICAC_Sample_Attributes\",\n",
      "         \"latest_version\": \"v1\",\n",
      "         \"maintainer\": [\n",
      "            \"dbGaP\"\n",
      "         ],\n",
      "         \"lifecycle_stage\": \"released\"\n",
      "      }\n",
      "   ]\n",
      "}\n"
     ]
    }
   ],
   "source": [
    "prettyprint(response.json())"
   ]
  },
  {
   "cell_type": "markdown",
   "id": "fa98bf82",
   "metadata": {},
   "source": [
    "### Get dbGaP schema as XML data dictionary"
   ]
  },
  {
   "cell_type": "code",
   "execution_count": 279,
   "id": "855a072c",
   "metadata": {},
   "outputs": [],
   "source": [
    "schema_name = \"phs001554.v2.pht007609.v1.GECCO_CRC_Susceptibility_Subject_Phenotypes\"\n",
    "url = f\"{base}/dicts/{namespace}/{schema_name}/versions/v2\"\n",
    "response = requests.get(url)"
   ]
  },
  {
   "cell_type": "code",
   "execution_count": 280,
   "id": "9a52e515",
   "metadata": {},
   "outputs": [
    {
     "data": {
      "text/plain": [
       "'<?xml version=\"1.0\" encoding=\"UTF-8\"?>\\n<?xml-stylesheet type=\"text/xsl\" href=\"./datadict_v2.xsl\"?><data_table id=\"pht007609.v1\" study_id=\"phs001554.v2\" participant_set=\"1\" date_created=\"Thu Sep 15 11:39:07 2022\"><description>This subject phenotype table contains subject IDs, case control status of the subject for colorectal cancer, sex, age, race, ethnicity, and study acronym.</description><variable id=\"phv00357182.v1\"><name>SUBJECT_ID</name><description>De-identified subject ID</description><type>string</type></variable><variable id=\"phv00357183.v1\"><name>AFFECTION_STATUS</name><description>Case control status of the subject for colorectal cancer</description><type>string</type><value>Case</value><value>Control</value></variable><variable id=\"phv00357184.v1\"><name>SEX</name><description>Sex of participant</description><type>string</type><value>Female</value><value>Male</value></variable><variable id=\"phv00357185.v1\"><name>AGE</name><description>Participant reference age</description><type>integer</type><unit>Years</unit><logical_min>37</logical_min><logical_max>98</logical_max></variable><variable id=\"phv00357186.v1\"><name>RACE</name><description>Race of participant</description><type>string</type><value>White</value></variable><variable id=\"phv00357187.v1\"><name>ETHNICITY</name><description>Ethnicity of participant</description><type>string</type><value>Unknown</value></variable><variable id=\"phv00357188.v1\"><name>STUDY</name><description>Study acronym</description><type>string</type><value code=\"CPS-II\">Cancer Prevention Study II</value><value code=\"DACHS\">Darmkrebs: Chancen der Verhutung durch Screening</value><value code=\"HPFS\">Health Professionals Follow-up Study</value><value code=\"NHS\">Nurses Health Study</value><value code=\"PLCO\">Prostate, Lung, Colorectal and Ovarian Cancer Screening Trail</value><value code=\"WHI\">Women\\'s Health Initiative</value></variable></data_table>'"
      ]
     },
     "execution_count": 280,
     "metadata": {},
     "output_type": "execute_result"
    }
   ],
   "source": [
    "response.text"
   ]
  },
  {
   "cell_type": "code",
   "execution_count": 281,
   "id": "92554c44",
   "metadata": {},
   "outputs": [
    {
     "name": "stdout",
     "output_type": "stream",
     "text": [
      "<data_table id=\"pht007609.v1\" study_id=\"phs001554.v2\" participant_set=\"1\" date_created=\"Thu Sep 15 11:39:07 2022\">\n",
      "   <description>This subject phenotype table contains subject IDs, case control status of the subject for colorectal cancer, sex, age, race, ethnicity, and study acronym.</description>\n",
      "   <variable id=\"phv00357182.v1\">\n",
      "      <name>SUBJECT_ID</name>\n",
      "      <description>De-identified subject ID</description>\n",
      "      <type>string</type>\n",
      "   </variable>\n",
      "   <variable id=\"phv00357183.v1\">\n",
      "      <name>AFFECTION_STATUS</name>\n",
      "      <description>Case control status of the subject for colorectal cancer</description>\n",
      "      <type>string</type>\n",
      "      <value>Case</value>\n",
      "      <value>Control</value>\n",
      "   </variable>\n",
      "   <variable id=\"phv00357184.v1\">\n",
      "      <name>SEX</name>\n",
      "      <description>Sex of participant</description>\n",
      "      <type>string</type>\n",
      "      <value>Female</value>\n",
      "      <value>Male</value>\n",
      "   </variable>\n",
      "   <variable id=\"phv00357185.v1\">\n",
      "      <name>AGE</name>\n",
      "      <description>Participant reference age</description>\n",
      "      <type>integer</type>\n",
      "      <unit>Years</unit>\n",
      "      <logical_min>37</logical_min>\n",
      "      <logical_max>98</logical_max>\n",
      "   </variable>\n",
      "   <variable id=\"phv00357186.v1\">\n",
      "      <name>RACE</name>\n",
      "      <description>Race of participant</description>\n",
      "      <type>string</type>\n",
      "      <value>White</value>\n",
      "   </variable>\n",
      "   <variable id=\"phv00357187.v1\">\n",
      "      <name>ETHNICITY</name>\n",
      "      <description>Ethnicity of participant</description>\n",
      "      <type>string</type>\n",
      "      <value>Unknown</value>\n",
      "   </variable>\n",
      "   <variable id=\"phv00357188.v1\">\n",
      "      <name>STUDY</name>\n",
      "      <description>Study acronym</description>\n",
      "      <type>string</type>\n",
      "      <value code=\"CPS-II\">Cancer Prevention Study II</value>\n",
      "      <value code=\"DACHS\">Darmkrebs: Chancen der Verhutung durch Screening</value>\n",
      "      <value code=\"HPFS\">Health Professionals Follow-up Study</value>\n",
      "      <value code=\"NHS\">Nurses Health Study</value>\n",
      "      <value code=\"PLCO\">Prostate, Lung, Colorectal and Ovarian Cancer Screening Trail</value>\n",
      "      <value code=\"WHI\">Women's Health Initiative</value>\n",
      "   </variable>\n",
      "</data_table>\n"
     ]
    }
   ],
   "source": [
    "\n",
    "tree = ET.fromstring(response.text)\n",
    "\n",
    "ET.indent(tree, space='   ', level=0)\n",
    "ET.dump(tree)"
   ]
  },
  {
   "cell_type": "code",
   "execution_count": null,
   "id": "91680edc",
   "metadata": {},
   "outputs": [],
   "source": []
  },
  {
   "cell_type": "markdown",
   "id": "6a5ac779",
   "metadata": {},
   "source": [
    "### Get schema as JSON Schema"
   ]
  },
  {
   "cell_type": "code",
   "execution_count": 282,
   "id": "bf0b3b15",
   "metadata": {},
   "outputs": [],
   "source": [
    "schema_name = \"phs001554.v2.pht007609.v1.GECCO_CRC_Susceptibility_Subject_Phenotypes\"\n",
    "url = f\"{base}/schemas/{namespace}/{schema_name}/versions/v2\"\n",
    "response = requests.get(url)"
   ]
  },
  {
   "cell_type": "code",
   "execution_count": 283,
   "id": "f459c034",
   "metadata": {},
   "outputs": [
    {
     "data": {
      "text/plain": [
       "'dbGaP'"
      ]
     },
     "execution_count": 283,
     "metadata": {},
     "output_type": "execute_result"
    }
   ],
   "source": [
    "namespace "
   ]
  },
  {
   "cell_type": "code",
   "execution_count": 284,
   "id": "0e3cdd17",
   "metadata": {},
   "outputs": [
    {
     "name": "stdout",
     "output_type": "stream",
     "text": [
      "{\n",
      "   \"description\": \"This subject phenotype table contains subject IDs, case control status of the subject for colorectal cancer, sex, age, race, ethnicity, and study acronym.\",\n",
      "   \"$id\": \"dbgap:pht007609.v1\",\n",
      "   \"properties\": {\n",
      "      \"STUDY\": {\n",
      "         \"$id\": \"dbgap:phv00357188.v1\",\n",
      "         \"description\": \"Study acronym\",\n",
      "         \"type\": \"string\",\n",
      "         \"$unit\": null,\n",
      "         \"oneOf\": [\n",
      "            {\n",
      "               \"const\": \"CPS-II\",\n",
      "               \"title\": \"Cancer Prevention Study II\"\n",
      "            },\n",
      "            {\n",
      "               \"const\": \"DACHS\",\n",
      "               \"title\": \"Darmkrebs: Chancen der Verhutung durch Screening\"\n",
      "            },\n",
      "            {\n",
      "               \"const\": \"HPFS\",\n",
      "               \"title\": \"Health Professionals Follow-up Study\"\n",
      "            },\n",
      "            {\n",
      "               \"const\": \"NHS\",\n",
      "               \"title\": \"Nurses Health Study\"\n",
      "            },\n",
      "            {\n",
      "               \"const\": \"PLCO\",\n",
      "               \"title\": \"Prostate, Lung, Colorectal and Ovarian Cancer Screening Trail\"\n",
      "            },\n",
      "            {\n",
      "               \"const\": \"WHI\",\n",
      "               \"title\": \"Women's Health Initiative\"\n",
      "            }\n",
      "         ]\n",
      "      },\n",
      "      \"SUBJECT_ID\": {\n",
      "         \"$id\": \"dbgap:phv00357182.v1\",\n",
      "         \"description\": \"De-identified subject ID\",\n",
      "         \"type\": \"string\",\n",
      "         \"$unit\": null\n",
      "      },\n",
      "      \"SEX\": {\n",
      "         \"$id\": \"dbgap:phv00357184.v1\",\n",
      "         \"description\": \"Sex of participant\",\n",
      "         \"type\": \"string\",\n",
      "         \"$unit\": null,\n",
      "         \"oneOf\": [\n",
      "            {\n",
      "               \"const\": null,\n",
      "               \"title\": \"Female\"\n",
      "            },\n",
      "            {\n",
      "               \"const\": null,\n",
      "               \"title\": \"Male\"\n",
      "            }\n",
      "         ]\n",
      "      },\n",
      "      \"RACE\": {\n",
      "         \"$id\": \"dbgap:phv00357186.v1\",\n",
      "         \"description\": \"Race of participant\",\n",
      "         \"type\": \"string\",\n",
      "         \"$unit\": null,\n",
      "         \"oneOf\": [\n",
      "            {\n",
      "               \"const\": null,\n",
      "               \"title\": \"White\"\n",
      "            }\n",
      "         ]\n",
      "      },\n",
      "      \"ETHNICITY\": {\n",
      "         \"$id\": \"dbgap:phv00357187.v1\",\n",
      "         \"description\": \"Ethnicity of participant\",\n",
      "         \"type\": \"string\",\n",
      "         \"$unit\": null,\n",
      "         \"oneOf\": [\n",
      "            {\n",
      "               \"const\": null,\n",
      "               \"title\": \"Unknown\"\n",
      "            }\n",
      "         ]\n",
      "      },\n",
      "      \"AFFECTION_STATUS\": {\n",
      "         \"$id\": \"dbgap:phv00357183.v1\",\n",
      "         \"description\": \"Case control status of the subject for colorectal cancer\",\n",
      "         \"type\": \"string\",\n",
      "         \"$unit\": null,\n",
      "         \"oneOf\": [\n",
      "            {\n",
      "               \"const\": null,\n",
      "               \"title\": \"Case\"\n",
      "            },\n",
      "            {\n",
      "               \"const\": null,\n",
      "               \"title\": \"Control\"\n",
      "            }\n",
      "         ]\n",
      "      },\n",
      "      \"AGE\": {\n",
      "         \"$id\": \"dbgap:phv00357185.v1\",\n",
      "         \"description\": \"Participant reference age\",\n",
      "         \"type\": \"integer\",\n",
      "         \"$unit\": \"Years\"\n",
      "      }\n",
      "   }\n",
      "}\n"
     ]
    }
   ],
   "source": [
    "prettyprint(response.json())"
   ]
  },
  {
   "cell_type": "code",
   "execution_count": null,
   "id": "8cde95a3",
   "metadata": {},
   "outputs": [],
   "source": []
  }
 ],
 "metadata": {
  "kernelspec": {
   "display_name": "Python 3 (ipykernel)",
   "language": "python",
   "name": "python3"
  },
  "language_info": {
   "codemirror_mode": {
    "name": "ipython",
    "version": 3
   },
   "file_extension": ".py",
   "mimetype": "text/x-python",
   "name": "python",
   "nbconvert_exporter": "python",
   "pygments_lexer": "ipython3",
   "version": "3.9.12"
  }
 },
 "nbformat": 4,
 "nbformat_minor": 5
}
