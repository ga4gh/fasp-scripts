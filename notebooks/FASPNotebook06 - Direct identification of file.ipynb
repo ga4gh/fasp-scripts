{
 "cells": [
  {
   "cell_type": "markdown",
   "metadata": {},
   "source": [
    "<img src=\"../fasp/runner/credits/images/FullHouse.png\" style=\"float: right;\">\n",
    "\n",
    "### SRA DRS server - identify specific file via Search\n",
    "\n",
    "Compare this with the other version of FASPNotebook6 which unpacks a DRS bundle"
   ]
  },
  {
   "cell_type": "code",
   "execution_count": 1,
   "metadata": {},
   "outputs": [],
   "source": [
    "#  IMPORTS\n",
    "import sys\n",
    "import datetime\n",
    "\n",
    "# a utility \n",
    "from fasp.runner import FASPRunner\n",
    "\n",
    "# The implementations we're using\n",
    "from fasp.search import DiscoverySearchClient\n",
    "from fasp.loc import SRADRSClient\n",
    "from fasp.workflow import DNAStackWESClient\n",
    "\n",
    "#https://search-presto-public.staging.dnastack.com/table/search_cloud.ncbi_sra.january2021/info\n",
    "# Step 1 - Discovery\n",
    "# query for relevant DRS objects\n",
    "searchClient = DiscoverySearchClient('https://ga4gh-search-adapter-presto-public.prod.dnastack.com/')\n",
    "\n",
    "query = '''SELECT f.sample_name, drs_id bam_drs_id, acc\n",
    "FROM thousand_genomes.onek_genomes.ssd_drs s \n",
    "join thousand_genomes.onek_genomes.sra_drs_files f on f.sample_name = s.su_submitter_id \n",
    "where filetype = 'bam' and mapped = 'mapped' \n",
    "and sequencing_type ='exome' and  population = 'JPT' LIMIT 3'''"
   ]
  },
  {
   "cell_type": "code",
   "execution_count": 4,
   "metadata": {},
   "outputs": [
    {
     "name": "stdout",
     "output_type": "stream",
     "text": [
      "Running query\n",
      "SELECT f.sample_name, drs_id bam_drs_id, acc\n",
      "FROM thousand_genomes.onek_genomes.ssd_drs s \n",
      "join thousand_genomes.onek_genomes.sra_drs_files f on f.sample_name = s.su_submitter_id \n",
      "where filetype = 'bam' and mapped = 'mapped' \n",
      "and sequencing_type ='exome' and  population = 'JPT' LIMIT 3\n",
      "_Retrieving the query_\n",
      "____Page1_______________\n",
      "____Page2_______________\n",
      "____Page3_______________\n",
      "____Page4_______________\n",
      "____Page5_______________\n",
      "____Page6_______________\n",
      "subject=NA18948, drsID=fb1cfb04d3ef99d07c21f9dbf87ccc68\n",
      "s3.us-east-1\n",
      "[{'access_id': 'b5f46aadbcb48d7141104db0440feb63cd4e61c8', 'region': 's3.us-east-1', 'type': 'https'}, {'access_id': '1bc0bc010f0edf4ef18af594acdba5db864db67e', 'region': 'gs.US', 'type': 'https'}, {'access_id': '722d3466edf7ad5f6797f9774e21b368c45ad5b1', 'type': 'https'}]\n",
      "workflow submitted, run:41af061d-4dc9-4d4d-9eb2-d18dbd975e41\n",
      "____________________________________________________________\n",
      "subject=NA18945, drsID=9327fb44eb81b49a41e38c8d86eb3b3a\n",
      "s3.us-east-1\n",
      "[{'access_id': 'f4db2dbd8dc7939ed166d1b9ed5069d47cead0b6', 'region': 's3.us-east-1', 'type': 'https'}, {'access_id': '6b0069e400b4caa2c60dfb7ec5a96a04927287d8', 'region': 'gs.US', 'type': 'https'}, {'access_id': 'fc43b5133a461573fbce52acc05f672cc5d7c942', 'type': 'https'}]\n",
      "workflow submitted, run:810f059b-72dd-4b15-bbd8-41a6c8977e7e\n",
      "____________________________________________________________\n",
      "subject=NA18943, drsID=9f38253b281c7e9c99e4bdbececd8e2f\n",
      "s3.us-east-1\n",
      "[{'access_id': 'de63c224d92cab1ef7c8bf4bf17f78cb5a148851', 'region': 's3.us-east-1', 'type': 'https'}, {'access_id': '7e3bbd637b5f1db322736893228ee61184a42e86', 'region': 'gs.US', 'type': 'https'}, {'access_id': '9386b23ebaec243cd4652cfd815fca252d99649a', 'type': 'https'}]\n",
      "workflow submitted, run:c44f3d05-42ca-4987-8768-e6a3a67d7b98\n",
      "____________________________________________________________\n"
     ]
    },
    {
     "data": {
      "text/plain": [
       "[{'subject': 'NA18948', 'run_id': '41af061d-4dc9-4d4d-9eb2-d18dbd975e41'},\n",
       " {'subject': 'NA18945', 'run_id': '810f059b-72dd-4b15-bbd8-41a6c8977e7e'},\n",
       " {'subject': 'NA18943', 'run_id': 'c44f3d05-42ca-4987-8768-e6a3a67d7b98'}]"
      ]
     },
     "execution_count": 4,
     "metadata": {},
     "output_type": "execute_result"
    }
   ],
   "source": [
    "# Set up a client to access NCBI's  DRS Server for the Sequence Read Archive (SRA)\n",
    "drsClient = SRADRSClient('https://locate.be-md.ncbi.nlm.nih.gov', 's3.us-east-1', public=True)\n",
    "\n",
    "# Step 3 - set up a class that run a compute for us\n",
    "wesClient = DNAStackWESClient('~/.keys/dnastack_wes_credentials.json')\n",
    "\n",
    "# A log is helpful to keep track of the computes we've submitted\n",
    "fasp_runner = FASPRunner(program='FASPNotebook06-copy2')\n",
    "\n",
    "fasp_runner.configure(searchClient, drsClient, wesClient)\n",
    "fasp_runner.runQuery(query, 'SRA DRS 1k Genomes')\n"
   ]
  },
  {
   "cell_type": "code",
   "execution_count": 5,
   "metadata": {},
   "outputs": [
    {
     "data": {
      "image/png": "[encoded data removed]",
      "text/plain": [
       "<PIL.Image.Image image mode=RGB size=60x60 at 0x1261C9438>"
      ]
     },
     "execution_count": 5,
     "metadata": {},
     "output_type": "execute_result"
    }
   ],
   "source": [
    "fasp_runner.getFASPicon()"
   ]
  },
  {
   "cell_type": "code",
   "execution_count": null,
   "metadata": {},
   "outputs": [],
   "source": []
  }
 ],
 "metadata": {
  "kernelspec": {
   "display_name": "Python 3",
   "language": "python",
   "name": "python3"
  },
  "language_info": {
   "codemirror_mode": {
    "name": "ipython",
    "version": 3
   },
   "file_extension": ".py",
   "mimetype": "text/x-python",
   "name": "python",
   "nbconvert_exporter": "python",
   "pygments_lexer": "ipython3",
   "version": "3.7.3"
  }
 },
 "nbformat": 4,
 "nbformat_minor": 4
}
