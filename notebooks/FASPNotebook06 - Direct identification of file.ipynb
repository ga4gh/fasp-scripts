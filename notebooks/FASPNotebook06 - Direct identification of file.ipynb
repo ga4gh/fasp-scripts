{
 "cells": [
  {
   "cell_type": "markdown",
   "metadata": {},
   "source": [
    "<img src=\"../fasp/runner/credits/images/FullHouse.png\" style=\"float: right;\">\n",
    "\n",
    "### SRA DRS server - identify specific file via Search\n",
    "\n",
    "Compare this with the other version of FASPNotebook6 which unpacks a DRS bundle"
   ]
  },
  {
   "cell_type": "code",
   "execution_count": 4,
   "metadata": {},
   "outputs": [],
   "source": [
    "#  IMPORTS\n",
    "import sys\n",
    "import datetime\n",
    "\n",
    "# a utility \n",
    "from fasp.runner import FASPRunner\n",
    "\n",
    "# The implementations we're using\n",
    "from fasp.search import DiscoverySearchClient\n",
    "from fasp.loc import SRADRSClient\n",
    "from fasp.workflow import DNAStackWESClient\n",
    "\n",
    "#https://search-presto-public.staging.dnastack.com/table/search_cloud.ncbi_sra.january2021/info\n",
    "# Step 1 - Discovery\n",
    "# query for relevant DRS objects\n",
    "searchClient = DiscoverySearchClient('https://ga4gh-search-adapter-presto-public.prod.dnastack.com/')\n",
    "\n",
    "query = '''SELECT f.sample_name, drs_id bam_drs_id, acc\n",
    "FROM thousand_genomes.onek_genomes.ssd_drs s \n",
    "join thousand_genomes.onek_genomes.sra_drs_files f on f.sample_name = s.su_submitter_id \n",
    "where filetype = 'bam' and mapped = 'mapped' \n",
    "and sequencing_type ='exome' and  population = 'JPT' LIMIT 3'''"
   ]
  },
  {
   "cell_type": "code",
   "execution_count": 5,
   "metadata": {},
   "outputs": [
    {
     "name": "stdout",
     "output_type": "stream",
     "text": [
      "Running FASPNotebook06 - Direct identification of file.ipynb\n",
      "Running query\n",
      "SELECT f.sample_name, drs_id bam_drs_id, acc\n",
      "FROM thousand_genomes.onek_genomes.ssd_drs s \n",
      "join thousand_genomes.onek_genomes.sra_drs_files f on f.sample_name = s.su_submitter_id \n",
      "where filetype = 'bam' and mapped = 'mapped' \n",
      "and sequencing_type ='exome' and  population = 'JPT' LIMIT 3\n",
      "_Retrieving the query_\n",
      "____Page1_______________\n",
      "____Page2_______________\n",
      "____Page3_______________\n",
      "____Page4_______________\n",
      "____Page5_______________\n",
      "____Page6_______________\n",
      "subject=NA18948, drsID=fb1cfb04d3ef99d07c21f9dbf87ccc68\n",
      "workflow submitted, run:66807ca6-4f4f-46a8-9b00-0a2c48a0118d\n",
      "____________________________________________________________\n",
      "subject=NA18945, drsID=9327fb44eb81b49a41e38c8d86eb3b3a\n",
      "workflow submitted, run:6fdbe621-0bb9-494b-a95d-bb039eac8a63\n",
      "____________________________________________________________\n",
      "subject=NA18943, drsID=9f38253b281c7e9c99e4bdbececd8e2f\n",
      "workflow submitted, run:d01b30af-aae3-4ab7-9b15-ad575934891b\n",
      "____________________________________________________________\n"
     ]
    },
    {
     "data": {
      "text/plain": [
       "[{'subject': 'NA18948', 'run_id': '66807ca6-4f4f-46a8-9b00-0a2c48a0118d'},\n",
       " {'subject': 'NA18945', 'run_id': '6fdbe621-0bb9-494b-a95d-bb039eac8a63'},\n",
       " {'subject': 'NA18943', 'run_id': 'd01b30af-aae3-4ab7-9b15-ad575934891b'}]"
      ]
     },
     "execution_count": 5,
     "metadata": {},
     "output_type": "execute_result"
    }
   ],
   "source": [
    "# Set up a client to access NCBI's  DRS Server for the Sequence Read Archive (SRA)\n",
    "drsClient = SRADRSClient('https://locate.be-md.ncbi.nlm.nih.gov', 's3.us-east-1', public=True)\n",
    "\n",
    "# Step 3 - set up a class that run a compute for us\n",
    "wesClient = DNAStackWESClient('~/.keys/dnastack_wes_credentials.json')\n",
    "\n",
    "# A log is helpful to keep track of the computes we've submitted\n",
    "fasp_runner = FASPRunner()\n",
    "\n",
    "fasp_runner.configure(searchClient, drsClient, wesClient)\n",
    "fasp_runner.runQuery(query, 'SRA DRS 1k Genomes')\n"
   ]
  },
  {
   "cell_type": "code",
   "execution_count": 6,
   "metadata": {},
   "outputs": [
    {
     "data": {
      "image/png": "[encoded data removed]",
      "text/plain": [
       "<PIL.Image.Image image mode=RGB size=60x60 at 0x11A8F9898>"
      ]
     },
     "execution_count": 6,
     "metadata": {},
     "output_type": "execute_result"
    }
   ],
   "source": [
    "fasp_runner.getFASPicon()"
   ]
  },
  {
   "cell_type": "code",
   "execution_count": null,
   "metadata": {},
   "outputs": [],
   "source": []
  }
 ],
 "metadata": {
  "kernelspec": {
   "display_name": "Python 3",
   "language": "python",
   "name": "python3"
  },
  "language_info": {
   "codemirror_mode": {
    "name": "ipython",
    "version": 3
   },
   "file_extension": ".py",
   "mimetype": "text/x-python",
   "name": "python",
   "nbconvert_exporter": "python",
   "pygments_lexer": "ipython3",
   "version": "3.7.3"
  }
 },
 "nbformat": 4,
 "nbformat_minor": 4
}
