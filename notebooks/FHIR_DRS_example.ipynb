{
 "cells": [
  {
   "cell_type": "markdown",
   "metadata": {},
   "source": [
    "Example query for DRS ids from Jim\n",
    "https://ncpi-api-fhir-service-dev.kidsfirstdrc.org/DocumentReference?_format=json&_profile=http://fhir.ncpi-project-forge.io/StructureDefinition/ncpi-drs-document-reference&subject:Patient._has:Condition:patient:code=NCIT:C50715"
   ]
  },
  {
   "cell_type": "code",
   "execution_count": 1,
   "metadata": {},
   "outputs": [
    {
     "name": "stdout",
     "output_type": "stream",
     "text": [
      "# of ids:50\n",
      "drs://data.kidsfirstdrc.org/fdb071ac-d03f-458f-bcf2-c264bff2209c\n",
      "drs://data.kidsfirstdrc.org/cd64541a-a9b1-4484-a488-e409c66ddf0c\n",
      "drs://data.kidsfirstdrc.org/92318b24-fd77-4a83-8519-360cc5fc062d\n",
      "drs://data.kidsfirstdrc.org/3331a1b7-d1e9-422e-9c82-9b80cb9cee52\n",
      "drs://data.kidsfirstdrc.org/4e7f8702-8f1f-40a1-ba3f-a25e867dd245\n",
      "drs://data.kidsfirstdrc.org/2798f972-dc21-4609-bdbc-da6f50c37471\n",
      "drs://data.kidsfirstdrc.org/f6d5ed6b-b708-43fa-92f4-805a0582c97f\n",
      "drs://data.kidsfirstdrc.org/8f999a91-5386-4814-9a68-75fe54ed1947\n",
      "drs://data.kidsfirstdrc.org/f29bf22a-9df3-4877-aa14-da4723575352\n",
      "drs://data.kidsfirstdrc.org/f15244af-cccd-4417-8aed-09e3b8719ad4\n",
      "drs://data.kidsfirstdrc.org/0fa9085f-3f02-4b9a-a876-0b014e43f0ec\n",
      "drs://data.kidsfirstdrc.org/2a2249c5-74af-49f8-be1d-0ec12c9300d1\n",
      "drs://data.kidsfirstdrc.org/f0528a80-9da5-407b-870f-e2de1fa2534e\n",
      "drs://data.kidsfirstdrc.org/7a9e8075-b29d-4128-b13a-61fc76bcfafd\n",
      "drs://data.kidsfirstdrc.org/7b9199ce-09e1-4dc3-ad4a-132f56e3031d\n",
      "drs://data.kidsfirstdrc.org/3590daf0-aef0-460f-9355-24b5d61831ff\n",
      "drs://data.kidsfirstdrc.org/1099a3f7-0b17-422c-a860-342aaff877b1\n",
      "drs://data.kidsfirstdrc.org/64a2e6db-729c-4681-9c13-f34649226736\n",
      "drs://data.kidsfirstdrc.org/5ef01d44-5d80-4236-a498-1792eb86e5ad\n",
      "drs://data.kidsfirstdrc.org/9de77d12-e99b-47a1-a1b6-9b24435aa93d\n",
      "drs://data.kidsfirstdrc.org/e3e89e5d-ad84-490e-88d1-a1efa9ce1502\n",
      "drs://data.kidsfirstdrc.org/2fb9991c-7ea5-4e37-b820-4f33b4d27d24\n",
      "drs://data.kidsfirstdrc.org/8ad0963c-bf7c-45dd-b375-9cd5e7955a36\n",
      "drs://data.kidsfirstdrc.org/a396e934-5773-4d14-bfe5-7bd019aa856b\n",
      "drs://data.kidsfirstdrc.org/0cc1d0ea-134c-4e8a-acea-12455faab8ab\n",
      "drs://data.kidsfirstdrc.org/e4303699-f6f2-4d5e-9f57-6b42acaa4f4d\n",
      "drs://data.kidsfirstdrc.org/6f2a1841-b9d8-4315-a64e-889b3859e2d9\n",
      "drs://data.kidsfirstdrc.org/1fbff4ae-0301-4769-8ce6-4dd4b72c06dd\n",
      "drs://data.kidsfirstdrc.org/c99953ba-d99d-4a79-bdc4-ebb529ae2021\n",
      "drs://data.kidsfirstdrc.org/5a2e52fc-d24d-451c-9c93-bb0533b380e2\n",
      "drs://data.kidsfirstdrc.org/62375ae8-5b0a-4ebc-95dd-dd76a974fbc9\n",
      "drs://data.kidsfirstdrc.org/cb09b435-377b-44c8-8092-ddec223baccf\n",
      "drs://data.kidsfirstdrc.org/0e32e8fe-916b-4a24-9e84-8aae5f940f8c\n",
      "drs://data.kidsfirstdrc.org/05c802b5-4ba0-4457-a51c-98484e88a900\n",
      "drs://data.kidsfirstdrc.org/234f692d-1ffd-41ae-89c9-27e329b0977e\n",
      "drs://data.kidsfirstdrc.org/c2b26e2e-e93a-4364-9070-93d25fff010c\n",
      "drs://data.kidsfirstdrc.org/d871b5b8-50e0-4b88-8127-e032e276c03d\n",
      "drs://data.kidsfirstdrc.org/1b418ae6-9b85-4284-94c5-5496ca8c2b51\n",
      "drs://data.kidsfirstdrc.org/50809bc1-9c1d-443c-973d-da54cb8bcf21\n",
      "drs://data.kidsfirstdrc.org/ca03c0e1-e8bf-4587-813e-b3bd52c87bef\n",
      "drs://data.kidsfirstdrc.org/46feb31d-294d-4edc-8080-8f91af420fd0\n",
      "drs://data.kidsfirstdrc.org/d92ede67-67f0-4fa0-ad5c-0e3790d8b883\n",
      "drs://data.kidsfirstdrc.org/7bb635cf-b61a-4a9a-adef-b39ad49431ae\n",
      "drs://data.kidsfirstdrc.org/f6a93c7c-a1b5-4e82-b0e7-28aa46222839\n",
      "drs://data.kidsfirstdrc.org/cf7f309a-09a4-4321-b268-904a117f28e8\n",
      "drs://data.kidsfirstdrc.org/c0d474a3-a4b6-4f0a-8596-188f4a8a08f1\n",
      "drs://data.kidsfirstdrc.org/3e6e948a-7984-4281-bc84-5524768b4c49\n",
      "drs://data.kidsfirstdrc.org/81740e2d-ca52-491a-83de-2694907905e8\n",
      "drs://data.kidsfirstdrc.org/ffaaf6fd-32e2-4488-b4e6-bd3bfa57eac4\n",
      "drs://data.kidsfirstdrc.org/59277403-4d82-4d6d-b067-0c8f582a970b\n"
     ]
    }
   ],
   "source": [
    "from fhirpy import SyncFHIRClient\n",
    "import os\n",
    "import json\n",
    "\n",
    "endpoint = 'https://ncpi-api-fhir-service-dev.kidsfirstdrc.org'\n",
    "full_cookie_path = os.path.expanduser('~/.keys/ncpi_fhir_cookie.json')\n",
    "with open(full_cookie_path) as f:\n",
    "        cookies = json.load(f)\n",
    "\n",
    "client = SyncFHIRClient(endpoint, extra_headers=cookies)\n",
    "\n",
    "document_references = client.resources(\"DocumentReference\")\n",
    "document_references.search(_profile='http://fhir.ncpi-project-forge.io/StructureDefinition/ncpi-drs-document-reference')\n",
    "drs_ids = document_references.fetch()\n",
    "print(\"# of ids:{}\".format(len(drs_ids)))\n",
    "for d in drs_ids:\n",
    "    print(d['content'][0]['attachment']['url'])"
   ]
  },
  {
   "cell_type": "code",
   "execution_count": 2,
   "metadata": {},
   "outputs": [
    {
     "data": {
      "text/plain": [
       "{'access_methods': [{'access_id': 's3',\n",
       "   'access_url': {'url': 's3://kf-seq-data-broad/fc-417e7cfc-5a7e-437f-9e3d-5d9c768206ab/GMKF_Seidman_CongenitalHeartDisease_WGS/RP-1445/WGS/CG0000-8065/v1/CG0000-8065.cram'},\n",
       "   'region': '',\n",
       "   'type': 's3'}],\n",
       " 'aliases': [],\n",
       " 'checksums': [{'checksum': 'd35483fe2ad6cf9f4f14af0901fe0d1a-2701',\n",
       "   'type': 'etag'}],\n",
       " 'contents': [],\n",
       " 'created_time': '2018-07-03T21:56:05.981918',\n",
       " 'description': None,\n",
       " 'form': 'object',\n",
       " 'id': '2fb9991c-7ea5-4e37-b820-4f33b4d27d24',\n",
       " 'mime_type': 'application/json',\n",
       " 'name': 'CG0000-8065.cram',\n",
       " 'self_uri': 'drs://data.kidsfirstdrc.org/2fb9991c-7ea5-4e37-b820-4f33b4d27d24',\n",
       " 'size': 22654200242,\n",
       " 'updated_time': '2018-07-03T21:56:05.981928',\n",
       " 'version': 'b3feb208'}"
      ]
     },
     "execution_count": 2,
     "metadata": {},
     "output_type": "execute_result"
    }
   ],
   "source": [
    "from fasp.loc import kfDRSClient\n",
    "drsClient = kfDRSClient('~/.keys/kf_credentials.json','s3', debug=False)\n",
    "drsClient.getObject('2fb9991c-7ea5-4e37-b820-4f33b4d27d24')"
   ]
  },
  {
   "cell_type": "code",
   "execution_count": 5,
   "metadata": {},
   "outputs": [
    {
     "name": "stdout",
     "output_type": "stream",
     "text": [
      "Unauthorized for that DRS id\n"
     ]
    }
   ],
   "source": [
    "url = drsClient.getAccessURL('e4303699-f6f2-4d5e-9f57-6b42acaa4f4d')"
   ]
  },
  {
   "cell_type": "code",
   "execution_count": 4,
   "metadata": {},
   "outputs": [
    {
     "name": "stdout",
     "output_type": "stream",
     "text": [
      "None\n"
     ]
    }
   ],
   "source": [
    "print(url)"
   ]
  },
  {
   "cell_type": "code",
   "execution_count": null,
   "metadata": {},
   "outputs": [],
   "source": []
  }
 ],
 "metadata": {
  "kernelspec": {
   "display_name": "Python 3",
   "language": "python",
   "name": "python3"
  },
  "language_info": {
   "codemirror_mode": {
    "name": "ipython",
    "version": 3
   },
   "file_extension": ".py",
   "mimetype": "text/x-python",
   "name": "python",
   "nbconvert_exporter": "python",
   "pygments_lexer": "ipython3",
   "version": "3.7.3"
  }
 },
 "nbformat": 4,
 "nbformat_minor": 4
}
