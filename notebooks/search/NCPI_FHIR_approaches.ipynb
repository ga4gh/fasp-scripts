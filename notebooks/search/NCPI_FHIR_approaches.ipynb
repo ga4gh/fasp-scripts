{
 "cells": [
  {
   "cell_type": "markdown",
   "metadata": {},
   "source": [
    "## Comparisons of methods for searching FHIR\n",
    "\n",
    "This GA4GH Search query searches a copy of the Patient resource from the NCPI FHIR Resource created under Project Forge. The attribute we want to query on, ethnicity, is available as an extension so a level of indirection is necessaey to query on that attribute. The value of ethnicity must then be unpacked."
   ]
  },
  {
   "cell_type": "code",
   "execution_count": 6,
   "metadata": {},
   "outputs": [
    {
     "name": "stdout",
     "output_type": "stream",
     "text": [
      "_Retrieving the query_\n",
      "____Page1_______________\n",
      "____Page2_______________\n",
      "____Page3_______________\n",
      "____Page4_______________\n",
      "____Page5_______________\n",
      "451133 male\n",
      "http://hl7.org/fhir/us/core/StructureDefinition/us-core-ethnicity\n",
      "ombCategory\n",
      "2186-5 Not Hispanic or Latino\n",
      "http://hl7.org/fhir/us/core/StructureDefinition/us-core-race\n",
      "ombCategory\n",
      "2106-3 White\n",
      "451134 female\n",
      "http://hl7.org/fhir/us/core/StructureDefinition/us-core-ethnicity\n",
      "ombCategory\n",
      "2135-2 Hispanic or Latino\n",
      "http://hl7.org/fhir/us/core/StructureDefinition/us-core-race\n",
      "ombCategory\n",
      "2106-3 White\n",
      "451135 female\n",
      "http://hl7.org/fhir/us/core/StructureDefinition/us-core-ethnicity\n",
      "ombCategory\n",
      "2135-2 Hispanic or Latino\n",
      "http://hl7.org/fhir/us/core/StructureDefinition/us-core-race\n",
      "ombCategory\n",
      "2106-3 White\n"
     ]
    }
   ],
   "source": [
    "import json\n",
    "\n",
    "from fasp.search  import DiscoverySearchClient\n",
    "\n",
    "searchClient = DiscoverySearchClient('https://ga4gh-search-adapter-presto-public.prod.dnastack.com')\n",
    "\n",
    "query = \"\"\"select id, patient from kidsfirst.ga4gh_tables.patient \n",
    "where json_extract_scalar(patient, '$.extension[0].url') = \n",
    "'http://hl7.org/fhir/us/core/StructureDefinition/us-core-ethnicity' \n",
    "limit 3\"\"\"\n",
    "#TODO query on the value of ethnicity with AND\n",
    "\n",
    "res = searchClient.runQuery(query)\n",
    "\n",
    "for r in res:\n",
    "    patient = r[1]\n",
    "    print(patient['id'], patient['gender'])\n",
    "    for e in patient['extension']:\n",
    "        print (e['url'])\n",
    "        print(e['extension'][0]['url'])\n",
    "        vc = e['extension'][0]['valueCoding']\n",
    "        print(vc['code'], vc['display'])"
   ]
  },
  {
   "cell_type": "markdown",
   "metadata": {},
   "source": [
    "### Perform the same query directly via FHIR\n",
    "Is it any easier to specify the query and to unpack the results?\n",
    "\n",
    "Using the NIH Cloud Platform Interoperability (NCPI) FHIR server directly.\n",
    "\n",
    "Note the file with the cookie for the NCPI FHIR server should contain the following\n",
    "{\"Cookie\":\"AWSELBAuthSessionCookie-0=your_cookie_here\"}\n",
    "\n",
    "First a basic query to check we can query the FHIR server via the fhir-py library."
   ]
  },
  {
   "cell_type": "code",
   "execution_count": 10,
   "metadata": {},
   "outputs": [
    {
     "name": "stdout",
     "output_type": "stream",
     "text": [
      "# of patients:1074\n"
     ]
    }
   ],
   "source": [
    "from fhirpy import SyncFHIRClient\n",
    "import os\n",
    "import json\n",
    "\n",
    "\n",
    "endpoint = 'https://ncpi-api-fhir-service-dev.kidsfirstdrc.org'\n",
    "full_cookie_path = os.path.expanduser('~/.keys/ncpi_fhir_cookie.json')\n",
    "with open(full_cookie_path) as f:\n",
    "        cookies = json.load(f)\n",
    "\n",
    "client = SyncFHIRClient(endpoint, extra_headers=cookies)\n",
    "\n",
    "# Search for patients by gender\n",
    "resources = client.resources('Patient')  \n",
    "resources = resources.search(gender='female').limit(1000)\n",
    "patients = resources.fetch_all()\n",
    "print(\"# of patients:{}\".format(len(patients)))"
   ]
  },
  {
   "cell_type": "markdown",
   "metadata": {},
   "source": [
    "Working on formulating in fhir-py the query as above"
   ]
  },
  {
   "cell_type": "code",
   "execution_count": 8,
   "metadata": {},
   "outputs": [
    {
     "name": "stdout",
     "output_type": "stream",
     "text": [
      "# of patients:0\n"
     ]
    }
   ],
   "source": [
    "# Search for patients by race\n",
    "resources = client.resources('Patient')  \n",
    "resources = resources.search(race='white').limit(1000)\n",
    "patients = resources.fetch_all()\n",
    "print(\"# of patients:{}\".format(len(patients)))"
   ]
  },
  {
   "cell_type": "code",
   "execution_count": null,
   "metadata": {},
   "outputs": [],
   "source": []
  }
 ],
 "metadata": {
  "kernelspec": {
   "display_name": "Python 3",
   "language": "python",
   "name": "python3"
  },
  "language_info": {
   "codemirror_mode": {
    "name": "ipython",
    "version": 3
   },
   "file_extension": ".py",
   "mimetype": "text/x-python",
   "name": "python",
   "nbconvert_exporter": "python",
   "pygments_lexer": "ipython3",
   "version": "3.7.3"
  }
 },
 "nbformat": 4,
 "nbformat_minor": 4
}
