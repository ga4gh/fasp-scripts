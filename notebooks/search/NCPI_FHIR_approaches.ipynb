{
 "cells": [
  {
   "cell_type": "markdown",
   "metadata": {},
   "source": [
    "## Comparisons of methods for searching FHIR\n",
    "\n",
    "This notebook explores querying Kids First FHIR resources both through native FHIR and through GA4GH Data Connect. The aim is to see how execute phenotypic data queries that researchers might want to do.\n",
    "\n",
    "Staring with Data Connect\n",
    "Patient resource from the NCPI FHIR Resource created under Project Forge were put into a BigQuery table as native FHIR json. These can then be queries through SQL using functions that can search within and/or unpack the nested json in the resource.\n",
    "\n",
    "This is an example of a Patient resource for this Kids First data."
   ]
  },
  {
   "cell_type": "code",
   "execution_count": 4,
   "metadata": {},
   "outputs": [],
   "source": [
    "exampleRecord = {'resourceType': 'Patient',\n",
    " 'id': '451135',\n",
    " 'meta': {'versionId': '1',\n",
    "  'lastUpdated': '2020-11-04T19:07:52.139+00:00',\n",
    "  'source': '#dkai2MIaZ2WetDpt',\n",
    "  'profile': ['http://hl7.org/fhir/StructureDefinition/Patient']},\n",
    " 'extension': [{'url': 'http://hl7.org/fhir/us/core/StructureDefinition/us-core-ethnicity',\n",
    "   'extension': [{'url': 'ombCategory',\n",
    "     'valueCoding': {'system': 'urn:oid:2.16.840.1.113883.6.238',\n",
    "      'code': '2135-2',\n",
    "      'display': 'Hispanic or Latino'}},\n",
    "    {'url': 'text', 'valueString': 'Hispanic or Latino'}]},\n",
    "  {'url': 'http://hl7.org/fhir/us/core/StructureDefinition/us-core-race',\n",
    "   'extension': [{'url': 'ombCategory',\n",
    "     'valueCoding': {'system': 'urn:oid:2.16.840.1.113883.6.238',\n",
    "      'code': '2106-3',\n",
    "      'display': 'White'}},\n",
    "    {'url': 'text', 'valueString': 'White'}]}],\n",
    " 'identifier': [{'system': 'https://kf-api-dataservice.kidsfirstdrc.org/participants?study_id=SD_PREASA7S&external_id=',\n",
    "   'value': '309'},\n",
    "  {'system': 'urn:kids-first:unique-string',\n",
    "   'value': 'Patient|SD_PREASA7S|309'}],\n",
    " 'gender': 'female'}"
   ]
  },
  {
   "cell_type": "markdown",
   "metadata": {},
   "source": [
    "Querying on gender is fairly straightforward as it is not deeply nested. \n",
    "\n",
    "Note: Can we assume that gender uses a standard set of values? Hold that thought."
   ]
  },
  {
   "cell_type": "code",
   "execution_count": 16,
   "metadata": {
    "scrolled": true
   },
   "outputs": [
    {
     "name": "stdout",
     "output_type": "stream",
     "text": [
      "_Retrieving the query_\n",
      "____Page1_______________\n",
      "____Page2_______________\n",
      "____Page3_______________\n",
      "____Page4_______________\n",
      "____Page5_______________\n",
      "Found 1034 female patients\n"
     ]
    }
   ],
   "source": [
    "import json\n",
    "\n",
    "from fasp.search  import DataConnectClient\n",
    "\n",
    "searchClient = DataConnectClient('https://ga4gh-search-adapter-presto-public.prod.dnastack.com')\n",
    "\n",
    "query = \"\"\"select id, patient from kidsfirst.ga4gh_tables.patient \n",
    "where json_extract_scalar(patient, '$.gender') = 'female'\"\"\"\n",
    "\n",
    "res = searchClient.runQuery(query)\n",
    "print(\"Found {} female patients\".format(len(res)))"
   ]
  },
  {
   "cell_type": "markdown",
   "metadata": {},
   "source": [
    "Continuing with a query on what one might also think is a simple, and semantically defined attribute - ethnicity. However, in these resources ethnicity is recorded in an attribute which is an extension to the FHIR model. A level of indirection is necessary to query on that attribute. The value of ethnicity must then be unpacked.\n",
    "\n",
    "Somewhat complex to do. Starting one step at a time\n",
    "\n",
    "The following where clause will select any patient that contains ethnicity. We're not yet filtering on a particular value for ethnicity, but we are going one step at a time.\n",
    "\n",
    "```where json_extract_scalar(patient, '$.extension[0].url') = \n",
    "'http://hl7.org/fhir/us/core/StructureDefinition/us-core-ethnicity'```\n",
    "\n",
    "Running that as follows"
   ]
  },
  {
   "cell_type": "code",
   "execution_count": 17,
   "metadata": {
    "scrolled": true
   },
   "outputs": [
    {
     "name": "stdout",
     "output_type": "stream",
     "text": [
      "_Retrieving the query_\n",
      "____Page1_______________\n",
      "____Page2_______________\n",
      "____Page3_______________\n",
      "____Page4_______________\n",
      "____Page5_______________\n"
     ]
    }
   ],
   "source": [
    "import json\n",
    "\n",
    "from fasp.search  import DataConnectClient\n",
    "\n",
    "searchClient = DataConnectClient('https://ga4gh-search-adapter-presto-public.prod.dnastack.com')\n",
    "\n",
    "query = \"\"\"select id, patient from kidsfirst.ga4gh_tables.patient \n",
    "where json_extract_scalar(patient, '$.extension[0].url') = \n",
    "'http://hl7.org/fhir/us/core/StructureDefinition/us-core-ethnicity' \n",
    "limit 3\"\"\"\n",
    "#TODO query on the value of ethnicity with AND\n",
    "\n",
    "res = searchClient.runQuery(query)"
   ]
  },
  {
   "cell_type": "markdown",
   "metadata": {},
   "source": [
    "We can now unpack the results, which will perhaps give us some clues about how to formulate a query on specific values of ethnicity."
   ]
  },
  {
   "cell_type": "code",
   "execution_count": null,
   "metadata": {},
   "outputs": [],
   "source": [
    "for r in res:\n",
    "    patient = r[1]\n",
    "    print(patient['id'], patient['gender'])\n",
    "    for e in patient['extension']:\n",
    "        print (e['url'])\n",
    "        print(e['extension'][0]['url'])\n",
    "        vc = e['extension'][0]['valueCoding']\n",
    "        print(vc['code'], vc['display'])"
   ]
  },
  {
   "cell_type": "markdown",
   "metadata": {},
   "source": [
    "We can query on the code for ethnicity. Note that we have to rely on the extensions being at a particular index in the array of extensions. \n",
    "\n",
    "Issue: that does not scale."
   ]
  },
  {
   "cell_type": "code",
   "execution_count": 41,
   "metadata": {
    "scrolled": false
   },
   "outputs": [
    {
     "name": "stdout",
     "output_type": "stream",
     "text": [
      "_Retrieving the query_\n",
      "____Page1_______________\n",
      "____Page2_______________\n",
      "____Page3_______________\n",
      "____Page4_______________\n",
      "____Page5_______________\n",
      "451134 female\n",
      "http://hl7.org/fhir/us/core/StructureDefinition/us-core-ethnicity\n",
      "ombCategory\n",
      "2135-2 Hispanic or Latino\n",
      "http://hl7.org/fhir/us/core/StructureDefinition/us-core-race\n",
      "ombCategory\n",
      "2106-3 White\n",
      "_______________________\n",
      "451135 female\n",
      "http://hl7.org/fhir/us/core/StructureDefinition/us-core-ethnicity\n",
      "ombCategory\n",
      "2135-2 Hispanic or Latino\n",
      "http://hl7.org/fhir/us/core/StructureDefinition/us-core-race\n",
      "ombCategory\n",
      "2106-3 White\n",
      "_______________________\n",
      "451136 female\n",
      "http://hl7.org/fhir/us/core/StructureDefinition/us-core-ethnicity\n",
      "ombCategory\n",
      "2135-2 Hispanic or Latino\n",
      "http://hl7.org/fhir/us/core/StructureDefinition/us-core-race\n",
      "ombCategory\n",
      "2106-3 White\n",
      "_______________________\n",
      "451165 female\n",
      "http://hl7.org/fhir/us/core/StructureDefinition/us-core-ethnicity\n",
      "ombCategory\n",
      "2135-2 Hispanic or Latino\n",
      "http://hl7.org/fhir/us/core/StructureDefinition/us-core-race\n",
      "ombCategory\n",
      "2106-3 White\n",
      "_______________________\n",
      "451141 female\n",
      "http://hl7.org/fhir/us/core/StructureDefinition/us-core-ethnicity\n",
      "ombCategory\n",
      "2135-2 Hispanic or Latino\n",
      "http://hl7.org/fhir/us/core/StructureDefinition/us-core-race\n",
      "ombCategory\n",
      "2106-3 White\n",
      "_______________________\n",
      "451231 female\n",
      "http://hl7.org/fhir/us/core/StructureDefinition/us-core-ethnicity\n",
      "ombCategory\n",
      "2135-2 Hispanic or Latino\n",
      "http://hl7.org/fhir/us/core/StructureDefinition/us-core-race\n",
      "ombCategory\n",
      "2054-5 Black or African American\n",
      "_______________________\n",
      "451258 female\n",
      "http://hl7.org/fhir/us/core/StructureDefinition/us-core-ethnicity\n",
      "ombCategory\n",
      "2135-2 Hispanic or Latino\n",
      "http://hl7.org/fhir/us/core/StructureDefinition/us-core-race\n",
      "ombCategory\n",
      "2106-3 White\n",
      "_______________________\n",
      "451280 female\n",
      "http://hl7.org/fhir/us/core/StructureDefinition/us-core-ethnicity\n",
      "ombCategory\n",
      "2135-2 Hispanic or Latino\n",
      "_______________________\n",
      "451304 female\n",
      "http://hl7.org/fhir/us/core/StructureDefinition/us-core-ethnicity\n",
      "ombCategory\n",
      "2135-2 Hispanic or Latino\n",
      "http://hl7.org/fhir/us/core/StructureDefinition/us-core-race\n",
      "ombCategory\n",
      "2106-3 White\n",
      "_______________________\n",
      "451330 female\n",
      "http://hl7.org/fhir/us/core/StructureDefinition/us-core-ethnicity\n",
      "ombCategory\n",
      "2135-2 Hispanic or Latino\n",
      "http://hl7.org/fhir/us/core/StructureDefinition/us-core-race\n",
      "ombCategory\n",
      "2106-3 White\n",
      "_______________________\n",
      "451337 female\n",
      "http://hl7.org/fhir/us/core/StructureDefinition/us-core-ethnicity\n",
      "ombCategory\n",
      "2135-2 Hispanic or Latino\n",
      "http://hl7.org/fhir/us/core/StructureDefinition/us-core-race\n",
      "ombCategory\n",
      "2106-3 White\n",
      "_______________________\n",
      "451391 female\n",
      "http://hl7.org/fhir/us/core/StructureDefinition/us-core-ethnicity\n",
      "ombCategory\n",
      "2135-2 Hispanic or Latino\n",
      "_______________________\n",
      "451420 female\n",
      "http://hl7.org/fhir/us/core/StructureDefinition/us-core-ethnicity\n",
      "ombCategory\n",
      "2135-2 Hispanic or Latino\n",
      "_______________________\n",
      "451428 female\n",
      "http://hl7.org/fhir/us/core/StructureDefinition/us-core-ethnicity\n",
      "ombCategory\n",
      "2135-2 Hispanic or Latino\n",
      "http://hl7.org/fhir/us/core/StructureDefinition/us-core-race\n",
      "ombCategory\n",
      "2106-3 White\n",
      "_______________________\n",
      "451205 female\n",
      "http://hl7.org/fhir/us/core/StructureDefinition/us-core-ethnicity\n",
      "ombCategory\n",
      "2135-2 Hispanic or Latino\n",
      "http://hl7.org/fhir/us/core/StructureDefinition/us-core-race\n",
      "ombCategory\n",
      "2106-3 White\n",
      "_______________________\n",
      "451305 female\n",
      "http://hl7.org/fhir/us/core/StructureDefinition/us-core-ethnicity\n",
      "ombCategory\n",
      "2135-2 Hispanic or Latino\n",
      "http://hl7.org/fhir/us/core/StructureDefinition/us-core-race\n",
      "ombCategory\n",
      "2106-3 White\n",
      "_______________________\n",
      "451286 female\n",
      "http://hl7.org/fhir/us/core/StructureDefinition/us-core-ethnicity\n",
      "ombCategory\n",
      "2135-2 Hispanic or Latino\n",
      "_______________________\n",
      "451299 female\n",
      "http://hl7.org/fhir/us/core/StructureDefinition/us-core-ethnicity\n",
      "ombCategory\n",
      "2135-2 Hispanic or Latino\n",
      "http://hl7.org/fhir/us/core/StructureDefinition/us-core-race\n",
      "ombCategory\n",
      "2106-3 White\n",
      "_______________________\n",
      "451308 female\n",
      "http://hl7.org/fhir/us/core/StructureDefinition/us-core-ethnicity\n",
      "ombCategory\n",
      "2135-2 Hispanic or Latino\n",
      "_______________________\n",
      "451373 female\n",
      "http://hl7.org/fhir/us/core/StructureDefinition/us-core-ethnicity\n",
      "ombCategory\n",
      "2135-2 Hispanic or Latino\n",
      "http://hl7.org/fhir/us/core/StructureDefinition/us-core-race\n",
      "ombCategory\n",
      "2106-3 White\n",
      "_______________________\n"
     ]
    }
   ],
   "source": [
    "import json\n",
    "\n",
    "from fasp.search  import DataConnectClient\n",
    "\n",
    "searchClient = DataConnectClient('https://ga4gh-search-adapter-presto-public.prod.dnastack.com')\n",
    "\n",
    "query = \"\"\"select id, patient from kidsfirst.ga4gh_tables.patient \n",
    "where json_extract_scalar(patient, '$.gender') = 'female'\n",
    "and json_extract_scalar(patient, '$.extension[0].url') = \n",
    "'http://hl7.org/fhir/us/core/StructureDefinition/us-core-ethnicity' \n",
    "and json_extract_scalar(patient, '$.extension[0].extension[0].valueCoding.code') = '2135-2'\n",
    "limit 20\"\"\"\n",
    "\n",
    "\n",
    "res = searchClient.runQuery(query)\n",
    "\n",
    "for r in res:\n",
    "    patient = r[1]\n",
    "    print(patient['id'], patient['gender'])\n",
    "    for e in patient['extension']:\n",
    "        print (e['url'])\n",
    "        print(e['extension'][0]['url'])\n",
    "        vc = e['extension'][0]['valueCoding']\n",
    "        print(vc['code'], vc['display'])\n",
    "    print('_______________________')"
   ]
  },
  {
   "cell_type": "markdown",
   "metadata": {},
   "source": [
    "We might at this point try formulating the SQL query that would make sure we are not relying on ethnicity always being the first attribute in the list of extensions. A subquery or a use of the unnest function and a join will probably do it. However, this is going to involve some fairly advanced querying. Perhaps we might look to see if there are simopler options.\n",
    "\n",
    "Does native FHIR querying make it any easier?\n",
    "\n",
    "We should not one thing here, it's not the SQL that makes this hard it's the underlying way the data is structured. Notably the fact that basic attrubutes have ended up as extensions. Remember the relative simplicity of the gender query in the first example.\n",
    "\n",
    "Using direct FHIR queries will still have to deal with that underlying fact, but perhaps the FHIR python APIs have been written having that complexity in mind."
   ]
  },
  {
   "cell_type": "markdown",
   "metadata": {},
   "source": [
    "### Perform the same query directly via FHIR\n",
    "Is it any easier to specify the query and to unpack the results?\n",
    "\n",
    "Using the NIH Cloud Platform Interoperability (NCPI) FHIR server directly.\n",
    "\n",
    "Note the file with the cookie for the NCPI FHIR server should contain the following\n",
    "{\"Cookie\":\"AWSELBAuthSessionCookie-0=your_cookie_here\"}\n",
    "The following provides instructions on how to get the cookie\n",
    "https://github.com/NIH-NCPI/ncpi-api-fhir-service\n",
    "\n",
    "First a basic query to check we can query the FHIR server via the fhir-py library."
   ]
  },
  {
   "cell_type": "markdown",
   "metadata": {},
   "source": [
    "But before that some preliminaries!\n",
    "\n",
    "This is a way (under development) to get the cookie required for authentication. Until it's completed we save the cookie to ~/.keys/ncpi_fhir_cookie.json"
   ]
  },
  {
   "cell_type": "code",
   "execution_count": 9,
   "metadata": {},
   "outputs": [
    {
     "name": "stdout",
     "output_type": "stream",
     "text": [
      "<RequestsCookieJar[<Cookie _csrf=XfN0sk_Yrg_MTFny2mmOUQ9S for d3b-center.auth0.com/usernamepassword/login>]>\n"
     ]
    }
   ],
   "source": [
    "import requests\n",
    "fhir_server = 'https://ncpi-api-fhir-service-dev.kidsfirstdrc.org'\n",
    "#new_server = 'https://kf-api-fhir-service.kidsfirstdrc.org'\n",
    "x = requests.get(fhir_server)\n",
    "print (x.cookies)"
   ]
  },
  {
   "cell_type": "markdown",
   "metadata": {},
   "source": [
    "This makes use of the FHIR API directly via the requests module. The code here is resued from "
   ]
  },
  {
   "cell_type": "code",
   "execution_count": 1,
   "metadata": {},
   "outputs": [],
   "source": [
    "import sys\n",
    "import os\n",
    "import json\n",
    "import requests\n",
    "\n",
    "#FHIR_SERVER = 'https://kf-api-fhir-service.kidsfirstdrc.org'\n",
    "FHIR_SERVER = 'https://ncpi-api-fhir-service-dev.kidsfirstdrc.org'\n",
    "\n",
    "# Optional: Turn off SSL verification. Useful when dealing with a corporate proxy with self-signed certificates.\n",
    "# This should be set to True unless you actually see certificate errors.\n",
    "VERIFY_SSL = False\n",
    "\n",
    "if not VERIFY_SSL:\n",
    "    requests.packages.urllib3.disable_warnings()\n",
    "\n",
    "\n",
    "\n",
    "# Kids First uses cookie-based authentication\n",
    "# Get my locally saved cookie\n",
    "full_cookie_path = os.path.expanduser('~/.keys/ncpi_fhir_cookie.json')\n",
    "with open(full_cookie_path) as f:\n",
    "        cookies = json.load(f)\n",
    "\n",
    "# We make a requests.Session to ensure consistent headers/cookie across all the requests we make\n",
    "s = requests.Session()\n",
    "s.headers.update({'Accept': 'application/fhir+json'})\n",
    "s.headers.update(cookies)\n",
    "s.verify = VERIFY_SSL\n",
    "\n",
    "\n",
    "# Test out the cookie by querying the server metadata\n",
    "r = s.get(f\"{FHIR_SERVER}/metadata\")\n",
    "\n",
    "if \"<!DOCTYPE html>\" in r.text:\n",
    "    sys.stderr.write('ERROR: Could not authenticate with Kids First. The cookie may need to be updated')"
   ]
  },
  {
   "cell_type": "markdown",
   "metadata": {},
   "source": [
    "Now we have established the basics to access FHIR, back to the gender query.\n",
    "\n",
    "Note that for the following we are ignoring retrieving multiple pages. In a previous version of this notebook a python FHIR client was used which isolated the user from dealing with low level request concerns and issues such as pagination. Clients of that kind can return a stream of results. This is useful for domain level users.\n",
    "\n",
    "For the illustrative purposes of this notebook we will ignore the need for pagination for now. The main objective here is to illustrate how useful phenotypic queries can be formulated in FHIR."
   ]
  },
  {
   "cell_type": "code",
   "execution_count": 14,
   "metadata": {
    "scrolled": false
   },
   "outputs": [
    {
     "name": "stdout",
     "output_type": "stream",
     "text": [
      "Number of Patients included in Bundle: 50\n"
     ]
    }
   ],
   "source": [
    "# Search for patients by gender\n",
    "r = s.get(f\"{FHIR_SERVER}/Patient?gender=female\")\n",
    "patient_bundle = r.json()\n",
    "\n",
    "# In the bundle obtained total is not present\n",
    "#print(f\"Number of matches: {patient_bundle['total']}\")\n",
    "print(f\"Number of Patients included in Bundle: {len(patient_bundle['entry'])}\")\n",
    "\n",
    "# Create list of just the Patient Resources in the Bundle\n",
    "patients = [entry['resource'] for entry in patient_bundle['entry']]\n"
   ]
  },
  {
   "cell_type": "markdown",
   "metadata": {},
   "source": [
    "Look at some of the details of patients"
   ]
  },
  {
   "cell_type": "code",
   "execution_count": 15,
   "metadata": {
    "scrolled": true
   },
   "outputs": [
    {
     "name": "stdout",
     "output_type": "stream",
     "text": [
      "{\"resourceType\": \"Patient\", \"id\": \"539318\", \"meta\": {\"versionId\": \"1\", \"lastUpdated\": \"2021-04-28T23:43:03.678+00:00\", \"source\": \"#Zpvw5NWtHnxvwxWr\", \"profile\": [\"http://hl7.org/fhir/StructureDefinition/Patient\"]}, \"identifier\": [{\"system\": \"https://kf-api-dataservice.kidsfirstdrc.org/participants/\", \"value\": \"PT_RP789F44\"}, {\"system\": \"https://kf-api-dataservice.kidsfirstdrc.org/participants/\", \"value\": \"?study_id=SD_7NQ9151J&external_id=BH3504_2\"}, {\"system\": \"urn:kids-first:unique-string\", \"value\": \"Patient|SD_7NQ9151J|BH3504_2\"}], \"gender\": \"female\"}\n",
      "_____________________\n",
      "{\"resourceType\": \"Patient\", \"id\": \"539310\", \"meta\": {\"versionId\": \"1\", \"lastUpdated\": \"2021-04-28T23:43:03.546+00:00\", \"source\": \"#R8H3r13WvVHAuDkR\", \"profile\": [\"http://hl7.org/fhir/StructureDefinition/Patient\"]}, \"identifier\": [{\"system\": \"https://kf-api-dataservice.kidsfirstdrc.org/participants/\", \"value\": \"PT_XNXCHGGH\"}, {\"system\": \"https://kf-api-dataservice.kidsfirstdrc.org/participants/\", \"value\": \"?study_id=SD_7NQ9151J&external_id=BH10425_2\"}, {\"system\": \"urn:kids-first:unique-string\", \"value\": \"Patient|SD_7NQ9151J|BH10425_2\"}], \"gender\": \"female\"}\n",
      "_____________________\n",
      "{\"resourceType\": \"Patient\", \"id\": \"539314\", \"meta\": {\"versionId\": \"1\", \"lastUpdated\": \"2021-04-28T23:43:03.624+00:00\", \"source\": \"#SptFHwDJuZQHuCqd\", \"profile\": [\"http://hl7.org/fhir/StructureDefinition/Patient\"]}, \"identifier\": [{\"system\": \"https://kf-api-dataservice.kidsfirstdrc.org/participants/\", \"value\": \"PT_CWHAYPV0\"}, {\"system\": \"https://kf-api-dataservice.kidsfirstdrc.org/participants/\", \"value\": \"?study_id=SD_7NQ9151J&external_id=BH10837_1\"}, {\"system\": \"urn:kids-first:unique-string\", \"value\": \"Patient|SD_7NQ9151J|BH10837_1\"}], \"gender\": \"female\"}\n",
      "_____________________\n",
      "{\"resourceType\": \"Patient\", \"id\": \"539320\", \"meta\": {\"versionId\": \"1\", \"lastUpdated\": \"2021-04-28T23:43:03.699+00:00\", \"source\": \"#3rHA6Mm5JHIFo2b9\", \"profile\": [\"http://hl7.org/fhir/StructureDefinition/Patient\"]}, \"identifier\": [{\"system\": \"https://kf-api-dataservice.kidsfirstdrc.org/participants/\", \"value\": \"PT_YH8WXXD1\"}, {\"system\": \"https://kf-api-dataservice.kidsfirstdrc.org/participants/\", \"value\": \"?study_id=SD_7NQ9151J&external_id=BH12383_2\"}, {\"system\": \"urn:kids-first:unique-string\", \"value\": \"Patient|SD_7NQ9151J|BH12383_2\"}], \"gender\": \"female\"}\n",
      "_____________________\n",
      "{\"resourceType\": \"Patient\", \"id\": \"539304\", \"meta\": {\"versionId\": \"1\", \"lastUpdated\": \"2021-04-28T23:43:03.001+00:00\", \"source\": \"#0QQV8VuyE3soShyK\", \"profile\": [\"http://hl7.org/fhir/StructureDefinition/Patient\"]}, \"identifier\": [{\"system\": \"https://kf-api-dataservice.kidsfirstdrc.org/participants/\", \"value\": \"PT_44CNW481\"}, {\"system\": \"https://kf-api-dataservice.kidsfirstdrc.org/participants/\", \"value\": \"?study_id=SD_7NQ9151J&external_id=BH12329_1\"}, {\"system\": \"urn:kids-first:unique-string\", \"value\": \"Patient|SD_7NQ9151J|BH12329_1\"}], \"gender\": \"female\"}\n",
      "_____________________\n",
      "{\"resourceType\": \"Patient\", \"id\": \"539315\", \"meta\": {\"versionId\": \"1\", \"lastUpdated\": \"2021-04-28T23:43:03.632+00:00\", \"source\": \"#Y75t9uytaQSL4AHk\", \"profile\": [\"http://hl7.org/fhir/StructureDefinition/Patient\"]}, \"extension\": [{\"url\": \"http://hl7.org/fhir/us/core/StructureDefinition/us-core-race\", \"extension\": [{\"url\": \"ombCategory\", \"valueCoding\": {\"system\": \"urn:oid:2.16.840.1.113883.6.238\", \"code\": \"2106-3\", \"display\": \"White\"}}, {\"url\": \"text\", \"valueString\": \"White\"}]}, {\"url\": \"http://hl7.org/fhir/us/core/StructureDefinition/us-core-ethnicity\", \"extension\": [{\"url\": \"ombCategory\", \"valueCoding\": {\"system\": \"urn:oid:2.16.840.1.113883.6.238\", \"code\": \"2186-5\", \"display\": \"Not Hispanic or Latino\"}}, {\"url\": \"text\", \"valueString\": \"Not Hispanic or Latino\"}]}], \"identifier\": [{\"system\": \"https://kf-api-dataservice.kidsfirstdrc.org/participants/\", \"value\": \"PT_QE3WW3TR\"}, {\"system\": \"https://kf-api-dataservice.kidsfirstdrc.org/participants/\", \"value\": \"?study_id=SD_7NQ9151J&external_id=BH12841_1\"}, {\"system\": \"urn:kids-first:unique-string\", \"value\": \"Patient|SD_7NQ9151J|BH12841_1\"}], \"gender\": \"female\"}\n",
      "_____________________\n",
      "{\"resourceType\": \"Patient\", \"id\": \"539319\", \"meta\": {\"versionId\": \"1\", \"lastUpdated\": \"2021-04-28T23:43:03.702+00:00\", \"source\": \"#EIPdRahMCYYXYV4A\", \"profile\": [\"http://hl7.org/fhir/StructureDefinition/Patient\"]}, \"identifier\": [{\"system\": \"https://kf-api-dataservice.kidsfirstdrc.org/participants/\", \"value\": \"PT_V1YGBZTK\"}, {\"system\": \"https://kf-api-dataservice.kidsfirstdrc.org/participants/\", \"value\": \"?study_id=SD_7NQ9151J&external_id=BH10133_2\"}, {\"system\": \"urn:kids-first:unique-string\", \"value\": \"Patient|SD_7NQ9151J|BH10133_2\"}], \"gender\": \"female\"}\n",
      "_____________________\n",
      "{\"resourceType\": \"Patient\", \"id\": \"539336\", \"meta\": {\"versionId\": \"1\", \"lastUpdated\": \"2021-04-28T23:43:03.994+00:00\", \"source\": \"#8ZOQsZIeFG6OKfTP\", \"profile\": [\"http://hl7.org/fhir/StructureDefinition/Patient\"]}, \"extension\": [{\"url\": \"http://hl7.org/fhir/us/core/StructureDefinition/us-core-race\", \"extension\": [{\"url\": \"ombCategory\", \"valueCoding\": {\"system\": \"urn:oid:2.16.840.1.113883.6.238\", \"code\": \"2106-3\", \"display\": \"White\"}}, {\"url\": \"text\", \"valueString\": \"White\"}]}, {\"url\": \"http://hl7.org/fhir/us/core/StructureDefinition/us-core-ethnicity\", \"extension\": [{\"url\": \"ombCategory\", \"valueCoding\": {\"system\": \"urn:oid:2.16.840.1.113883.6.238\", \"code\": \"2186-5\", \"display\": \"Not Hispanic or Latino\"}}, {\"url\": \"text\", \"valueString\": \"Not Hispanic or Latino\"}]}], \"identifier\": [{\"system\": \"https://kf-api-dataservice.kidsfirstdrc.org/participants/\", \"value\": \"PT_EDK17M1G\"}, {\"system\": \"https://kf-api-dataservice.kidsfirstdrc.org/participants/\", \"value\": \"?study_id=SD_7NQ9151J&external_id=BH13878_2\"}, {\"system\": \"urn:kids-first:unique-string\", \"value\": \"Patient|SD_7NQ9151J|BH13878_2\"}], \"gender\": \"female\"}\n",
      "_____________________\n"
     ]
    }
   ],
   "source": [
    "for p in patients[2:10]:\n",
    "    print(json.dumps(p))\n",
    "    print('_____________________')"
   ]
  },
  {
   "cell_type": "markdown",
   "metadata": {},
   "source": [
    "#TODO Let's get to querying on ethncity."
   ]
  }
 ],
 "metadata": {
  "kernelspec": {
   "display_name": "Python 3 (ipykernel)",
   "language": "python",
   "name": "python3"
  },
  "language_info": {
   "codemirror_mode": {
    "name": "ipython",
    "version": 3
   },
   "file_extension": ".py",
   "mimetype": "text/x-python",
   "name": "python",
   "nbconvert_exporter": "python",
   "pygments_lexer": "ipython3",
   "version": "3.9.7"
  }
 },
 "nbformat": 4,
 "nbformat_minor": 4
}
