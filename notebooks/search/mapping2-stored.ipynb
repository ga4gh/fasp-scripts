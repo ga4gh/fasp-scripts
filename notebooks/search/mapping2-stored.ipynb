{
 "cells": [
  {
   "cell_type": "code",
   "execution_count": 1,
   "metadata": {},
   "outputs": [],
   "source": [
    "from fasp.search import DiscoverySearchClient\n",
    "from fasp.search import mapping as mp\n",
    "\n",
    "cl = DiscoverySearchClient('https://ga4gh-search-adapter-presto-public.prod.dnastack.com')"
   ]
  },
  {
   "cell_type": "markdown",
   "metadata": {},
   "source": [
    "#### Specify the table to search and run the query, specifying the columns to retrieve\n",
    "\n",
    "The table being searched is a deidentifed (scrambled) version of the data for dbGaP study phs001611. This study is represented in the NCI Genomic Data Commons. \n",
    "\n",
    "A data frame is returned."
   ]
  },
  {
   "cell_type": "code",
   "execution_count": 2,
   "metadata": {},
   "outputs": [
    {
     "name": "stdout",
     "output_type": "stream",
     "text": [
      "_Retrieving the query_\n",
      "____Page1_______________\n",
      "____Page2_______________\n",
      "____Page3_______________\n",
      "____Page4_______________\n",
      "____Page5_______________\n"
     ]
    },
    {
     "data": {
      "text/html": [
       "<div>\n",
       "<style scoped>\n",
       "    .dataframe tbody tr th:only-of-type {\n",
       "        vertical-align: middle;\n",
       "    }\n",
       "\n",
       "    .dataframe tbody tr th {\n",
       "        vertical-align: top;\n",
       "    }\n",
       "\n",
       "    .dataframe thead th {\n",
       "        text-align: right;\n",
       "    }\n",
       "</style>\n",
       "<table border=\"1\" class=\"dataframe\">\n",
       "  <thead>\n",
       "    <tr style=\"text-align: right;\">\n",
       "      <th></th>\n",
       "      <th>dbgap_subject_id</th>\n",
       "      <th>age</th>\n",
       "      <th>race</th>\n",
       "      <th>sex</th>\n",
       "    </tr>\n",
       "  </thead>\n",
       "  <tbody>\n",
       "    <tr>\n",
       "      <th>0</th>\n",
       "      <td>2675511</td>\n",
       "      <td>24</td>\n",
       "      <td>W</td>\n",
       "      <td>F</td>\n",
       "    </tr>\n",
       "    <tr>\n",
       "      <th>1</th>\n",
       "      <td>2675537</td>\n",
       "      <td>43</td>\n",
       "      <td>AA</td>\n",
       "      <td>F</td>\n",
       "    </tr>\n",
       "    <tr>\n",
       "      <th>2</th>\n",
       "      <td>2675497</td>\n",
       "      <td>52</td>\n",
       "      <td>W</td>\n",
       "      <td>F</td>\n",
       "    </tr>\n",
       "    <tr>\n",
       "      <th>3</th>\n",
       "      <td>2675520</td>\n",
       "      <td>55</td>\n",
       "      <td>W</td>\n",
       "      <td>F</td>\n",
       "    </tr>\n",
       "    <tr>\n",
       "      <th>4</th>\n",
       "      <td>2675517</td>\n",
       "      <td>57</td>\n",
       "      <td>AA</td>\n",
       "      <td>F</td>\n",
       "    </tr>\n",
       "    <tr>\n",
       "      <th>5</th>\n",
       "      <td>2675504</td>\n",
       "      <td>57</td>\n",
       "      <td>W</td>\n",
       "      <td>F</td>\n",
       "    </tr>\n",
       "    <tr>\n",
       "      <th>6</th>\n",
       "      <td>2675552</td>\n",
       "      <td>61</td>\n",
       "      <td>W</td>\n",
       "      <td>F</td>\n",
       "    </tr>\n",
       "    <tr>\n",
       "      <th>7</th>\n",
       "      <td>2675502</td>\n",
       "      <td>61</td>\n",
       "      <td>W</td>\n",
       "      <td>F</td>\n",
       "    </tr>\n",
       "    <tr>\n",
       "      <th>8</th>\n",
       "      <td>2675550</td>\n",
       "      <td>62</td>\n",
       "      <td>W</td>\n",
       "      <td>F</td>\n",
       "    </tr>\n",
       "    <tr>\n",
       "      <th>9</th>\n",
       "      <td>2675494</td>\n",
       "      <td>62</td>\n",
       "      <td>N/A</td>\n",
       "      <td>F</td>\n",
       "    </tr>\n",
       "  </tbody>\n",
       "</table>\n",
       "</div>"
      ],
      "text/plain": [
       "  dbgap_subject_id  age race sex\n",
       "0          2675511   24    W   F\n",
       "1          2675537   43   AA   F\n",
       "2          2675497   52    W   F\n",
       "3          2675520   55    W   F\n",
       "4          2675517   57   AA   F\n",
       "5          2675504   57    W   F\n",
       "6          2675552   61    W   F\n",
       "7          2675502   61    W   F\n",
       "8          2675550   62    W   F\n",
       "9          2675494   62  N/A   F"
      ]
     },
     "execution_count": 2,
     "metadata": {},
     "output_type": "execute_result"
    }
   ],
   "source": [
    "table_name = 'search_cloud.cshcodeathon.organoid_profiling_pc_subject_phenotypes_gru'\n",
    "res = cl.runOneTableQuery(column_list=['dbgap_subject_id', 'age', 'race', 'sex'],table=table_name,limit=10)\n",
    "res"
   ]
  },
  {
   "cell_type": "markdown",
   "metadata": {},
   "source": [
    "This indicates codings for race and gender. Relying on column names alone gives minimal information.\n",
    "\n",
    "In this case, reasonable guesses might be made at what those codes mean. The age column too might reasoanbly be guessed at. But what is it's meaning.\n",
    "\n",
    "dbGaP also provides a data dictionary. These are imported by GA4GH and the information provided in JSON Schema, the standard form which is the standard form for describing data in GA4GH."
   ]
  },
  {
   "cell_type": "code",
   "execution_count": 4,
   "metadata": {},
   "outputs": [
    {
     "name": "stdout",
     "output_type": "stream",
     "text": [
      "_Schema for tablesearch_cloud.cshcodeathon.organoid_profiling_pc_subject_phenotypes_gru_\n",
      "{'data_model': {'$id': 'https://ga4gh-search-adapter-presto-public.prod.dnastack.com/table/search_cloud.cshcodeathon.organoid_profiling_pc_subject_phenotypes_gru/info',\n",
      "                '$schema': 'http://json-schema.org/draft-07/schema#',\n",
      "                'description': 'Automatically generated schema',\n",
      "                'properties': {'age': {'$comment': \"Subject's age (Years)\",\n",
      "                                       'format': 'bigint',\n",
      "                                       'type': 'int'},\n",
      "                               'dbgap_subject_id': {'$comment': 'Unique '\n",
      "                                                                'Subject ID in '\n",
      "                                                                'dbGap',\n",
      "                                                    'format': 'varchar',\n",
      "                                                    'type': 'string'},\n",
      "                               'race': {'$comment': 'Race of participant',\n",
      "                                        'format': 'varchar',\n",
      "                                        'type': 'string'},\n",
      "                               'sex': {'$comment': 'Sex of participant',\n",
      "                                       'format': 'varchar',\n",
      "                                       'type': 'string'},\n",
      "                               'subject_id': {'$comment': 'De-identified '\n",
      "                                                          'Subject ID',\n",
      "                                              'format': 'varchar',\n",
      "                                              'type': 'string'}}},\n",
      " 'description': 'Automatically generated schema',\n",
      " 'name': 'search_cloud.cshcodeathon.organoid_profiling_pc_subject_phenotypes_gru'}\n"
     ]
    }
   ],
   "source": [
    "po_schema = cl.listTableInfo(table_name)"
   ]
  },
  {
   "cell_type": "markdown",
   "metadata": {},
   "source": [
    "#### Get a mapping for the sex column in the table queried above "
   ]
  },
  {
   "cell_type": "code",
   "execution_count": null,
   "metadata": {},
   "outputs": [],
   "source": []
  },
  {
   "cell_type": "code",
   "execution_count": 3,
   "metadata": {},
   "outputs": [
    {
     "name": "stdout",
     "output_type": "stream",
     "text": [
      "_Retrieving the query_\n",
      "____Page1_______________\n",
      "____Page2_______________\n",
      "____Page3_______________\n",
      "____Page4_______________\n",
      "____Page5_______________\n",
      "{'F': 'Female', 'N/A': 'N/A', 'M': 'Male'}\n"
     ]
    }
   ],
   "source": [
    "map_col='sex'\n",
    "mapping = mp.getMapping(cl, table_name, map_col)\n",
    "print(mapping)"
   ]
  },
  {
   "cell_type": "code",
   "execution_count": 4,
   "metadata": {},
   "outputs": [
    {
     "name": "stdout",
     "output_type": "stream",
     "text": [
      "_Retrieving the query_\n",
      "____Page1_______________\n",
      "____Page2_______________\n",
      "____Page3_______________\n",
      "____Page4_______________\n",
      "____Page5_______________\n"
     ]
    }
   ],
   "source": [
    "res = cl.runOneTableQuery(column_list=['dbgap_subject_id', 'age', 'race', 'sex'],table=table_name,limit=10)\n"
   ]
  },
  {
   "cell_type": "code",
   "execution_count": 5,
   "metadata": {},
   "outputs": [
    {
     "data": {
      "text/html": [
       "<div>\n",
       "<style scoped>\n",
       "    .dataframe tbody tr th:only-of-type {\n",
       "        vertical-align: middle;\n",
       "    }\n",
       "\n",
       "    .dataframe tbody tr th {\n",
       "        vertical-align: top;\n",
       "    }\n",
       "\n",
       "    .dataframe thead th {\n",
       "        text-align: right;\n",
       "    }\n",
       "</style>\n",
       "<table border=\"1\" class=\"dataframe\">\n",
       "  <thead>\n",
       "    <tr style=\"text-align: right;\">\n",
       "      <th></th>\n",
       "      <th>dbgap_subject_id</th>\n",
       "      <th>age</th>\n",
       "      <th>race</th>\n",
       "      <th>sex</th>\n",
       "    </tr>\n",
       "  </thead>\n",
       "  <tbody>\n",
       "    <tr>\n",
       "      <th>0</th>\n",
       "      <td>2675511</td>\n",
       "      <td>24</td>\n",
       "      <td>W</td>\n",
       "      <td>F</td>\n",
       "    </tr>\n",
       "    <tr>\n",
       "      <th>1</th>\n",
       "      <td>2675537</td>\n",
       "      <td>43</td>\n",
       "      <td>AA</td>\n",
       "      <td>F</td>\n",
       "    </tr>\n",
       "    <tr>\n",
       "      <th>2</th>\n",
       "      <td>2675497</td>\n",
       "      <td>52</td>\n",
       "      <td>W</td>\n",
       "      <td>F</td>\n",
       "    </tr>\n",
       "    <tr>\n",
       "      <th>3</th>\n",
       "      <td>2675520</td>\n",
       "      <td>55</td>\n",
       "      <td>W</td>\n",
       "      <td>F</td>\n",
       "    </tr>\n",
       "    <tr>\n",
       "      <th>4</th>\n",
       "      <td>2675517</td>\n",
       "      <td>57</td>\n",
       "      <td>AA</td>\n",
       "      <td>F</td>\n",
       "    </tr>\n",
       "    <tr>\n",
       "      <th>5</th>\n",
       "      <td>2675504</td>\n",
       "      <td>57</td>\n",
       "      <td>W</td>\n",
       "      <td>F</td>\n",
       "    </tr>\n",
       "    <tr>\n",
       "      <th>6</th>\n",
       "      <td>2675552</td>\n",
       "      <td>61</td>\n",
       "      <td>W</td>\n",
       "      <td>F</td>\n",
       "    </tr>\n",
       "    <tr>\n",
       "      <th>7</th>\n",
       "      <td>2675502</td>\n",
       "      <td>61</td>\n",
       "      <td>W</td>\n",
       "      <td>F</td>\n",
       "    </tr>\n",
       "    <tr>\n",
       "      <th>8</th>\n",
       "      <td>2675550</td>\n",
       "      <td>62</td>\n",
       "      <td>W</td>\n",
       "      <td>F</td>\n",
       "    </tr>\n",
       "    <tr>\n",
       "      <th>9</th>\n",
       "      <td>2675494</td>\n",
       "      <td>62</td>\n",
       "      <td>N/A</td>\n",
       "      <td>F</td>\n",
       "    </tr>\n",
       "  </tbody>\n",
       "</table>\n",
       "</div>"
      ],
      "text/plain": [
       "  dbgap_subject_id  age race sex\n",
       "0          2675511   24    W   F\n",
       "1          2675537   43   AA   F\n",
       "2          2675497   52    W   F\n",
       "3          2675520   55    W   F\n",
       "4          2675517   57   AA   F\n",
       "5          2675504   57    W   F\n",
       "6          2675552   61    W   F\n",
       "7          2675502   61    W   F\n",
       "8          2675550   62    W   F\n",
       "9          2675494   62  N/A   F"
      ]
     },
     "execution_count": 5,
     "metadata": {},
     "output_type": "execute_result"
    }
   ],
   "source": [
    "res"
   ]
  },
  {
   "cell_type": "markdown",
   "metadata": {},
   "source": [
    "#### Transform the column\n",
    "Use the replace function of the dataframe to use the data provided by the mapping"
   ]
  },
  {
   "cell_type": "code",
   "execution_count": 6,
   "metadata": {},
   "outputs": [],
   "source": [
    "res[map_col] = res[map_col].replace(mapping.keys(),mapping.values())"
   ]
  },
  {
   "cell_type": "code",
   "execution_count": 7,
   "metadata": {},
   "outputs": [
    {
     "data": {
      "text/html": [
       "<div>\n",
       "<style scoped>\n",
       "    .dataframe tbody tr th:only-of-type {\n",
       "        vertical-align: middle;\n",
       "    }\n",
       "\n",
       "    .dataframe tbody tr th {\n",
       "        vertical-align: top;\n",
       "    }\n",
       "\n",
       "    .dataframe thead th {\n",
       "        text-align: right;\n",
       "    }\n",
       "</style>\n",
       "<table border=\"1\" class=\"dataframe\">\n",
       "  <thead>\n",
       "    <tr style=\"text-align: right;\">\n",
       "      <th></th>\n",
       "      <th>dbgap_subject_id</th>\n",
       "      <th>age</th>\n",
       "      <th>race</th>\n",
       "      <th>sex</th>\n",
       "    </tr>\n",
       "  </thead>\n",
       "  <tbody>\n",
       "    <tr>\n",
       "      <th>0</th>\n",
       "      <td>2675511</td>\n",
       "      <td>24</td>\n",
       "      <td>W</td>\n",
       "      <td>Female</td>\n",
       "    </tr>\n",
       "    <tr>\n",
       "      <th>1</th>\n",
       "      <td>2675537</td>\n",
       "      <td>43</td>\n",
       "      <td>AA</td>\n",
       "      <td>Female</td>\n",
       "    </tr>\n",
       "    <tr>\n",
       "      <th>2</th>\n",
       "      <td>2675497</td>\n",
       "      <td>52</td>\n",
       "      <td>W</td>\n",
       "      <td>Female</td>\n",
       "    </tr>\n",
       "    <tr>\n",
       "      <th>3</th>\n",
       "      <td>2675520</td>\n",
       "      <td>55</td>\n",
       "      <td>W</td>\n",
       "      <td>Female</td>\n",
       "    </tr>\n",
       "    <tr>\n",
       "      <th>4</th>\n",
       "      <td>2675517</td>\n",
       "      <td>57</td>\n",
       "      <td>AA</td>\n",
       "      <td>Female</td>\n",
       "    </tr>\n",
       "    <tr>\n",
       "      <th>5</th>\n",
       "      <td>2675504</td>\n",
       "      <td>57</td>\n",
       "      <td>W</td>\n",
       "      <td>Female</td>\n",
       "    </tr>\n",
       "    <tr>\n",
       "      <th>6</th>\n",
       "      <td>2675552</td>\n",
       "      <td>61</td>\n",
       "      <td>W</td>\n",
       "      <td>Female</td>\n",
       "    </tr>\n",
       "    <tr>\n",
       "      <th>7</th>\n",
       "      <td>2675502</td>\n",
       "      <td>61</td>\n",
       "      <td>W</td>\n",
       "      <td>Female</td>\n",
       "    </tr>\n",
       "    <tr>\n",
       "      <th>8</th>\n",
       "      <td>2675550</td>\n",
       "      <td>62</td>\n",
       "      <td>W</td>\n",
       "      <td>Female</td>\n",
       "    </tr>\n",
       "    <tr>\n",
       "      <th>9</th>\n",
       "      <td>2675494</td>\n",
       "      <td>62</td>\n",
       "      <td>N/A</td>\n",
       "      <td>Female</td>\n",
       "    </tr>\n",
       "  </tbody>\n",
       "</table>\n",
       "</div>"
      ],
      "text/plain": [
       "  dbgap_subject_id  age race     sex\n",
       "0          2675511   24    W  Female\n",
       "1          2675537   43   AA  Female\n",
       "2          2675497   52    W  Female\n",
       "3          2675520   55    W  Female\n",
       "4          2675517   57   AA  Female\n",
       "5          2675504   57    W  Female\n",
       "6          2675552   61    W  Female\n",
       "7          2675502   61    W  Female\n",
       "8          2675550   62    W  Female\n",
       "9          2675494   62  N/A  Female"
      ]
     },
     "execution_count": 7,
     "metadata": {},
     "output_type": "execute_result"
    }
   ],
   "source": [
    "res"
   ]
  },
  {
   "cell_type": "code",
   "execution_count": null,
   "metadata": {},
   "outputs": [],
   "source": []
  }
 ],
 "metadata": {
  "kernelspec": {
   "display_name": "Python 3",
   "language": "python",
   "name": "python3"
  },
  "language_info": {
   "codemirror_mode": {
    "name": "ipython",
    "version": 3
   },
   "file_extension": ".py",
   "mimetype": "text/x-python",
   "name": "python",
   "nbconvert_exporter": "python",
   "pygments_lexer": "ipython3",
   "version": "3.7.3"
  }
 },
 "nbformat": 4,
 "nbformat_minor": 4
}
