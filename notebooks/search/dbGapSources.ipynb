{
 "cells": [
  {
   "cell_type": "markdown",
   "metadata": {},
   "source": [
    "## Using GA4GH Search with dbGaP data dictionaries\n",
    "\n",
    "The following shows an example of listing the schema for data "
   ]
  },
  {
   "cell_type": "code",
   "execution_count": 1,
   "metadata": {},
   "outputs": [
    {
     "data": {
      "text/plain": [
       "{'name': 'dbgap_demo.scr_gecco_susceptibility.subject_phenotypes_multi',\n",
       " 'description': 'Scrambled version of subject data for phs001554 Colorectal cancer susceptibility study.',\n",
       " 'data_model': {'$id': 'phs001554.v1.pht007609.v1.GECCO_CRC_Susceptibility_Subject_Phenotypes',\n",
       "  'description': 'Scrambled version of subject data for phs001554 Colorectal cancer susceptibility study.',\n",
       "  '$schema': 'http://json-schema.org/draft-07/schema',\n",
       "  'properties': {'age': {'type': 'number',\n",
       "    '$comment': \"UNIT 'Years'\",\n",
       "    'maximum': 98.0,\n",
       "    'minimum': 37.0,\n",
       "    'description': 'Participant reference age'},\n",
       "   'sex': {'type': 'string',\n",
       "    'oneOf': [{'const': 'Female'}, {'const': 'Male'}],\n",
       "    'description': 'Sex of participant'},\n",
       "   'race': {'type': 'string',\n",
       "    'oneOf': [{'const': 'White'}],\n",
       "    'description': 'Race of participant'},\n",
       "   'study': {'type': 'string',\n",
       "    'oneOf': [{'const': 'CPS-II'},\n",
       "     {'const': 'DACHS'},\n",
       "     {'const': 'HPFS'},\n",
       "     {'const': 'NHS'},\n",
       "     {'const': 'PLCO'},\n",
       "     {'const': 'WHI'}],\n",
       "    'description': 'Study acronym'},\n",
       "   'ethnicity': {'type': 'string',\n",
       "    'oneOf': [{'const': 'Unknown'}],\n",
       "    'description': 'Ethnicity of participant'},\n",
       "   'subject_id': {'type': 'string', 'description': 'De-identified subject ID'},\n",
       "   'affection_status': {'type': 'string',\n",
       "    'oneOf': [{'const': 'Case'}, {'const': 'Control'}],\n",
       "    'description': 'Case control status of the subject for colorectal cancer'}},\n",
       "  'type': 'object'}}"
      ]
     },
     "execution_count": 1,
     "metadata": {},
     "output_type": "execute_result"
    }
   ],
   "source": [
    "from fasp.search import DiscoverySearchClient\n",
    "cl = DiscoverySearchClient('https://ga4gh-search-adapter-presto-public.prod.dnastack.com/')\n",
    "cl.listTableInfo('dbgap_demo.scr_gecco_susceptibility.subject_phenotypes_multi')"
   ]
  },
  {
   "cell_type": "code",
   "execution_count": 2,
   "metadata": {},
   "outputs": [
    {
     "name": "stdout",
     "output_type": "stream",
     "text": [
      "age\n",
      "Participant reference age\n",
      "UNIT 'Years'\n",
      "_______________________________________\n",
      "sex\n",
      "Sex of participant\n",
      "_______________________________________\n",
      "race\n",
      "Race of participant\n",
      "_______________________________________\n",
      "study\n",
      "Study acronym\n",
      "_______________________________________\n",
      "ethnicity\n",
      "Ethnicity of participant\n",
      "_______________________________________\n",
      "subject_id\n",
      "De-identified subject ID\n",
      "_______________________________________\n",
      "affection_status\n",
      "Case control status of the subject for colorectal cancer\n",
      "_______________________________________\n"
     ]
    }
   ],
   "source": [
    "cl.listTableColumns('dbgap_demo.scr_gecco_susceptibility.subject_phenotypes_multi',descriptions=True)"
   ]
  },
  {
   "cell_type": "code",
   "execution_count": 3,
   "metadata": {},
   "outputs": [
    {
     "name": "stdout",
     "output_type": "stream",
     "text": [
      "_Retrieving the table list_\n",
      "____Page1_______________\n",
      "dbgap_demo.scr_ega.scr_egapancreatic_files\n",
      "dbgap_demo.scr_ega.scr_egapancreatic_sample_multi\n",
      "dbgap_demo.scr_gecco_susceptibility.sample_attributes_multi\n",
      "dbgap_demo.scr_gecco_susceptibility.sample_multi\n",
      "dbgap_demo.scr_gecco_susceptibility.sb_drs_index\n",
      "dbgap_demo.scr_gecco_susceptibility.subject_multi\n",
      "dbgap_demo.scr_gecco_susceptibility.subject_phenotypes_multi\n"
     ]
    },
    {
     "data": {
      "text/plain": [
       "['dbgap_demo.scr_ega.scr_egapancreatic_files',\n",
       " 'dbgap_demo.scr_ega.scr_egapancreatic_sample_multi',\n",
       " 'dbgap_demo.scr_gecco_susceptibility.sample_attributes_multi',\n",
       " 'dbgap_demo.scr_gecco_susceptibility.sample_multi',\n",
       " 'dbgap_demo.scr_gecco_susceptibility.sb_drs_index',\n",
       " 'dbgap_demo.scr_gecco_susceptibility.subject_multi',\n",
       " 'dbgap_demo.scr_gecco_susceptibility.subject_phenotypes_multi']"
      ]
     },
     "execution_count": 3,
     "metadata": {},
     "output_type": "execute_result"
    }
   ],
   "source": [
    "cl.listTables('dbgap_demo')"
   ]
  },
  {
   "cell_type": "code",
   "execution_count": 4,
   "metadata": {},
   "outputs": [
    {
     "data": {
      "text/plain": [
       "{'name': 'dbgap_demo.scr_gecco_susceptibility.sample_attributes_multi',\n",
       " 'description': 'Scrambled version of sample data for phs001554 Colorectal cancer susceptibility study.',\n",
       " 'data_model': {'$id': 'phs001554.v1.pht007610.v1.GECCO_CRC_Susceptibility_Sample_Attributes',\n",
       "  'description': 'Scrambled version of sample data for phs001554 Colorectal cancer susceptibility study.',\n",
       "  '$schema': 'http://json-schema.org/draft-07/schema',\n",
       "  'properties': {'batch': {'type': 'string',\n",
       "    'description': 'Sequencing batch'},\n",
       "   'is_tumor': {'type': 'string',\n",
       "    'oneOf': [{'const': 'No'}],\n",
       "    'description': 'Tumor status'},\n",
       "   'body_site': {'type': 'string',\n",
       "    'oneOf': [{'const': 'Blood'}],\n",
       "    'description': 'Body site where sample was collected'},\n",
       "   'sample_id': {'type': 'string', 'description': 'De-identified Sample ID'},\n",
       "   'dna_source': {'type': 'string',\n",
       "    'oneOf': [{'const': 'Blood'},\n",
       "     {'const': 'Buffy coat'},\n",
       "     {'const': 'Unknown'},\n",
       "     {'const': 'Whole blood'}],\n",
       "    'description': 'DNA origin'},\n",
       "   'read_depth': {'type': 'number',\n",
       "    '$comment': \"UNIT 'fold coverage'\",\n",
       "    'maximum': 43.82,\n",
       "    'minimum': 3.83,\n",
       "    'description': 'Sequencing coverage'},\n",
       "   'analyte_type': {'type': 'string',\n",
       "    'oneOf': [{'const': 'DNA'}],\n",
       "    'description': 'Analyte Type'},\n",
       "   'sequencing_center': {'type': 'string',\n",
       "    'oneOf': [{'const': '1',\n",
       "      'title': 'University of Washington Sequencing Center (Seattle, WA, USA)'},\n",
       "     {'const': '2', 'title': 'Macrogen USA'}],\n",
       "    'description': 'Name of the center that conducted sequencing'}},\n",
       "  'type': 'object'}}"
      ]
     },
     "execution_count": 4,
     "metadata": {},
     "output_type": "execute_result"
    }
   ],
   "source": [
    "cl.listTableInfo('dbgap_demo.scr_gecco_susceptibility.sample_attributes_multi')"
   ]
  },
  {
   "cell_type": "code",
   "execution_count": 5,
   "metadata": {},
   "outputs": [
    {
     "name": "stdout",
     "output_type": "stream",
     "text": [
      "batch\n",
      "Sequencing batch\n",
      "_______________________________________\n",
      "is_tumor\n",
      "Tumor status\n",
      "_______________________________________\n",
      "body_site\n",
      "Body site where sample was collected\n",
      "_______________________________________\n",
      "sample_id\n",
      "De-identified Sample ID\n",
      "_______________________________________\n",
      "dna_source\n",
      "DNA origin\n",
      "_______________________________________\n",
      "read_depth\n",
      "Sequencing coverage\n",
      "UNIT 'fold coverage'\n",
      "_______________________________________\n",
      "analyte_type\n",
      "Analyte Type\n",
      "_______________________________________\n",
      "sequencing_center\n",
      "Name of the center that conducted sequencing\n",
      "_______________________________________\n"
     ]
    }
   ],
   "source": [
    "cl.listTableColumns('dbgap_demo.scr_gecco_susceptibility.sample_attributes_multi',descriptions=True)"
   ]
  },
  {
   "cell_type": "markdown",
   "metadata": {},
   "source": [
    "### An EGA Table\n",
    "The same format of data dictionary was created for an EGA table"
   ]
  },
  {
   "cell_type": "code",
   "execution_count": 6,
   "metadata": {},
   "outputs": [
    {
     "data": {
      "text/plain": [
       "{'name': 'dbgap_demo.scr_ega.scr_egapancreatic_sample_multi',\n",
       " 'data_model': {'$id': 'scr_EGApancreatic_sample.data_dict.xml.scr_EGApancreatic_sample',\n",
       "  '$schema': 'http://json-schema.org/draft-07/schema',\n",
       "  'properties': {'gender': {'type': 'string',\n",
       "    'oneOf': [{'const': 'female'}, {'const': 'male'}],\n",
       "    'description': 'Sex of participant'},\n",
       "   'bam_file': {'type': 'string',\n",
       "    'description': 'Relative path for alignment file'},\n",
       "   'phenotype': {'type': 'string',\n",
       "    'oneOf': [{'const': 'lung tissue'},\n",
       "     {'const': 'muscle tissue'},\n",
       "     {'const': 'pancreatic adenocarcinoma'},\n",
       "     {'const': 'skin tissue'},\n",
       "     {'const': 'spleen tissue'}],\n",
       "    'description': 'Site independent tissue type'},\n",
       "   'subject_id': {'type': 'string',\n",
       "    'description': 'Subject Id used locally by submitter'},\n",
       "   'disease_site': {'type': 'string',\n",
       "    'oneOf': [{'const': 'Liver_Metastasis'},\n",
       "     {'const': 'Lung_Metastasis'},\n",
       "     {'const': 'Lung_Normal'},\n",
       "     {'const': 'Lymph_Node_Metastasis'},\n",
       "     {'const': 'Muscle_Normal'},\n",
       "     {'const': 'Normal Pancreas'},\n",
       "     {'const': 'Pancreas_Primary_Tumor'},\n",
       "     {'const': 'Peritoneal_Metastasis'},\n",
       "     {'const': 'Skin_Normal'},\n",
       "     {'const': 'Spleen_Normal'}],\n",
       "    'description': 'body site sample was taken from'},\n",
       "   'ena-checklist': {'type': 'string',\n",
       "    'description': 'Minimal information checklist used in this study'},\n",
       "   'sample_primary_id': {'type': 'string',\n",
       "    'description': 'De-identified sample ID'},\n",
       "   'sample_submitter_id': {'type': 'string',\n",
       "    'description': 'Sample id used locally by submitter'}},\n",
       "  'type': 'object'}}"
      ]
     },
     "execution_count": 6,
     "metadata": {},
     "output_type": "execute_result"
    }
   ],
   "source": [
    "cl.listTableInfo('dbgap_demo.scr_ega.scr_egapancreatic_sample_multi')"
   ]
  },
  {
   "cell_type": "code",
   "execution_count": 7,
   "metadata": {},
   "outputs": [
    {
     "name": "stdout",
     "output_type": "stream",
     "text": [
      "gender\n",
      "Sex of participant\n",
      "\t\tfemale\n",
      "\t\tmale\n",
      "_______________________________________\n",
      "bam_file\n",
      "Relative path for alignment file\n",
      "_______________________________________\n",
      "phenotype\n",
      "Site independent tissue type\n",
      "\t\tlung tissue\n",
      "\t\tmuscle tissue\n",
      "\t\tpancreatic adenocarcinoma\n",
      "\t\tskin tissue\n",
      "\t\tspleen tissue\n",
      "_______________________________________\n",
      "subject_id\n",
      "Subject Id used locally by submitter\n",
      "_______________________________________\n",
      "disease_site\n",
      "body site sample was taken from\n",
      "\t\tLiver_Metastasis\n",
      "\t\tLung_Metastasis\n",
      "\t\tLung_Normal\n",
      "\t\tLymph_Node_Metastasis\n",
      "\t\tMuscle_Normal\n",
      "\t\tNormal Pancreas\n",
      "\t\tPancreas_Primary_Tumor\n",
      "\t\tPeritoneal_Metastasis\n",
      "\t\tSkin_Normal\n",
      "\t\tSpleen_Normal\n",
      "_______________________________________\n",
      "ena-checklist\n",
      "Minimal information checklist used in this study\n",
      "_______________________________________\n",
      "sample_primary_id\n",
      "De-identified sample ID\n",
      "_______________________________________\n",
      "sample_submitter_id\n",
      "Sample id used locally by submitter\n",
      "_______________________________________\n"
     ]
    }
   ],
   "source": [
    "cl.listTableColumns('dbgap_demo.scr_ega.scr_egapancreatic_sample_multi', descriptions=True, enums=True)"
   ]
  },
  {
   "cell_type": "code",
   "execution_count": null,
   "metadata": {},
   "outputs": [],
   "source": []
  }
 ],
 "metadata": {
  "kernelspec": {
   "display_name": "Python 3",
   "language": "python",
   "name": "python3"
  },
  "language_info": {
   "codemirror_mode": {
    "name": "ipython",
    "version": 3
   },
   "file_extension": ".py",
   "mimetype": "text/x-python",
   "name": "python",
   "nbconvert_exporter": "python",
   "pygments_lexer": "ipython3",
   "version": "3.7.3"
  }
 },
 "nbformat": 4,
 "nbformat_minor": 4
}
