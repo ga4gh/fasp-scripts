{
 "cells": [
  {
   "cell_type": "markdown",
   "metadata": {},
   "source": [
    "## Using GA4GH Data Connect with dbGaP data dictionaries\n",
    "\n",
    "DataConnectClient provides a number of functions to make use of the schema which describe tables.\n",
    "\n",
    "The following shows listTableInfo which returns directly what the Data Connect API provides as the schema for a table. \n",
    "\n",
    "In this case the schema provides data types and lists of values (enumerations) for the subject phenotypes table from a dbGaP study. The schema is created from the pre-existing data dictionary available for all such tables and is created from data provided by the investigators."
   ]
  },
  {
   "cell_type": "code",
   "execution_count": 1,
   "metadata": {},
   "outputs": [
    {
     "name": "stdout",
     "output_type": "stream",
     "text": [
      "_Schema for tabledbgap_demo.scr_gecco_susceptibility.subject_phenotypes_multi_\n",
      "{\n",
      "   \"name\": \"dbgap_demo.scr_gecco_susceptibility.subject_phenotypes_multi\",\n",
      "   \"description\": \"Scrambled version of subject data for phs001554 Colorectal cancer susceptibility study.\",\n",
      "   \"data_model\": {\n",
      "      \"$id\": \"phs001554.v1.pht007609.v1.GECCO_CRC_Susceptibility_Subject_Phenotypes\",\n",
      "      \"description\": \"Scrambled version of subject data for phs001554 Colorectal cancer susceptibility study.\",\n",
      "      \"$schema\": \"http://json-schema.org/draft-07/schema\",\n",
      "      \"properties\": {\n",
      "         \"age\": {\n",
      "            \"type\": \"number\",\n",
      "            \"$comment\": \"UNIT 'Years'\",\n",
      "            \"maximum\": 98.0,\n",
      "            \"minimum\": 37.0,\n",
      "            \"description\": \"Participant reference age\"\n",
      "         },\n",
      "         \"sex\": {\n",
      "            \"type\": \"string\",\n",
      "            \"oneOf\": [\n",
      "               {\n",
      "                  \"const\": \"Female\"\n",
      "               },\n",
      "               {\n",
      "                  \"const\": \"Male\"\n",
      "               }\n",
      "            ],\n",
      "            \"description\": \"Sex of participant\"\n",
      "         },\n",
      "         \"race\": {\n",
      "            \"type\": \"string\",\n",
      "            \"oneOf\": [\n",
      "               {\n",
      "                  \"const\": \"White\"\n",
      "               }\n",
      "            ],\n",
      "            \"description\": \"Race of participant\"\n",
      "         },\n",
      "         \"study\": {\n",
      "            \"type\": \"string\",\n",
      "            \"oneOf\": [\n",
      "               {\n",
      "                  \"const\": \"CPS-II\"\n",
      "               },\n",
      "               {\n",
      "                  \"const\": \"DACHS\"\n",
      "               },\n",
      "               {\n",
      "                  \"const\": \"HPFS\"\n",
      "               },\n",
      "               {\n",
      "                  \"const\": \"NHS\"\n",
      "               },\n",
      "               {\n",
      "                  \"const\": \"PLCO\"\n",
      "               },\n",
      "               {\n",
      "                  \"const\": \"WHI\"\n",
      "               }\n",
      "            ],\n",
      "            \"description\": \"Study acronym\"\n",
      "         },\n",
      "         \"ethnicity\": {\n",
      "            \"type\": \"string\",\n",
      "            \"oneOf\": [\n",
      "               {\n",
      "                  \"const\": \"Unknown\"\n",
      "               }\n",
      "            ],\n",
      "            \"description\": \"Ethnicity of participant\"\n",
      "         },\n",
      "         \"subject_id\": {\n",
      "            \"type\": \"string\",\n",
      "            \"description\": \"De-identified subject ID\"\n",
      "         },\n",
      "         \"affection_status\": {\n",
      "            \"type\": \"string\",\n",
      "            \"oneOf\": [\n",
      "               {\n",
      "                  \"const\": \"Case\"\n",
      "               },\n",
      "               {\n",
      "                  \"const\": \"Control\"\n",
      "               }\n",
      "            ],\n",
      "            \"description\": \"Case control status of the subject for colorectal cancer\"\n",
      "         }\n",
      "      },\n",
      "      \"type\": \"object\"\n",
      "   }\n",
      "}\n"
     ]
    },
    {
     "data": {
      "text/plain": [
       "<fasp.search.discovery_search_client.SearchSchema at 0x12796f320>"
      ]
     },
     "execution_count": 1,
     "metadata": {},
     "output_type": "execute_result"
    }
   ],
   "source": [
    "from fasp.search import DataConnectClient\n",
    "cl = DataConnectClient('https://ga4gh-search-adapter-presto-public.prod.dnastack.com/')\n",
    "cl.listTableInfo('dbgap_demo.scr_gecco_susceptibility.subject_phenotypes_multi', verbose=True)"
   ]
  },
  {
   "cell_type": "markdown",
   "metadata": {},
   "source": [
    "The listTableColumns function prints a more concise listing"
   ]
  },
  {
   "cell_type": "code",
   "execution_count": 2,
   "metadata": {},
   "outputs": [
    {
     "name": "stdout",
     "output_type": "stream",
     "text": [
      "age\n",
      "Participant reference age\n",
      "UNIT 'Years'\n",
      "_______________________________________\n",
      "sex\n",
      "Sex of participant\n",
      "_______________________________________\n",
      "race\n",
      "Race of participant\n",
      "_______________________________________\n",
      "study\n",
      "Study acronym\n",
      "_______________________________________\n",
      "ethnicity\n",
      "Ethnicity of participant\n",
      "_______________________________________\n",
      "subject_id\n",
      "De-identified subject ID\n",
      "_______________________________________\n",
      "affection_status\n",
      "Case control status of the subject for colorectal cancer\n",
      "_______________________________________\n"
     ]
    }
   ],
   "source": [
    "cl.listTableColumns('dbgap_demo.scr_gecco_susceptibility.subject_phenotypes_multi',descriptions=True)"
   ]
  },
  {
   "cell_type": "code",
   "execution_count": 3,
   "metadata": {},
   "outputs": [
    {
     "name": "stdout",
     "output_type": "stream",
     "text": [
      "_Retrieving the table list_\n",
      "____Page1_______________\n",
      "dbgap_demo.scr_ega.scr_egapancreatic_files\n",
      "dbgap_demo.scr_ega.scr_egapancreatic_sample_multi\n",
      "dbgap_demo.scr_gecco_susceptibility.gecco_sample_acc\n",
      "dbgap_demo.scr_gecco_susceptibility.phs001554_gecco_sddp_manifest\n",
      "dbgap_demo.scr_gecco_susceptibility.sample_attributes_multi\n",
      "dbgap_demo.scr_gecco_susceptibility.sample_multi\n",
      "dbgap_demo.scr_gecco_susceptibility.sb_drs_index\n",
      "dbgap_demo.scr_gecco_susceptibility.subject_multi\n",
      "dbgap_demo.scr_gecco_susceptibility.subject_phenotypes_multi\n"
     ]
    },
    {
     "data": {
      "text/plain": [
       "['dbgap_demo.scr_ega.scr_egapancreatic_files',\n",
       " 'dbgap_demo.scr_ega.scr_egapancreatic_sample_multi',\n",
       " 'dbgap_demo.scr_gecco_susceptibility.gecco_sample_acc',\n",
       " 'dbgap_demo.scr_gecco_susceptibility.phs001554_gecco_sddp_manifest',\n",
       " 'dbgap_demo.scr_gecco_susceptibility.sample_attributes_multi',\n",
       " 'dbgap_demo.scr_gecco_susceptibility.sample_multi',\n",
       " 'dbgap_demo.scr_gecco_susceptibility.sb_drs_index',\n",
       " 'dbgap_demo.scr_gecco_susceptibility.subject_multi',\n",
       " 'dbgap_demo.scr_gecco_susceptibility.subject_phenotypes_multi']"
      ]
     },
     "execution_count": 3,
     "metadata": {},
     "output_type": "execute_result"
    }
   ],
   "source": [
    "cl.listTables('dbgap_demo')"
   ]
  },
  {
   "cell_type": "markdown",
   "metadata": {},
   "source": [
    "This provides the full schema for sample attributes from the same study."
   ]
  },
  {
   "cell_type": "code",
   "execution_count": 4,
   "metadata": {},
   "outputs": [
    {
     "name": "stdout",
     "output_type": "stream",
     "text": [
      "_Schema for tabledbgap_demo.scr_gecco_susceptibility.sample_attributes_multi_\n",
      "{\n",
      "   \"name\": \"dbgap_demo.scr_gecco_susceptibility.sample_attributes_multi\",\n",
      "   \"description\": \"Scrambled version of sample data for phs001554 Colorectal cancer susceptibility study.\",\n",
      "   \"data_model\": {\n",
      "      \"$id\": \"phs001554.v1.pht007610.v1.GECCO_CRC_Susceptibility_Sample_Attributes\",\n",
      "      \"description\": \"Scrambled version of sample data for phs001554 Colorectal cancer susceptibility study.\",\n",
      "      \"$schema\": \"http://json-schema.org/draft-07/schema\",\n",
      "      \"properties\": {\n",
      "         \"batch\": {\n",
      "            \"type\": \"string\",\n",
      "            \"description\": \"Sequencing batch\"\n",
      "         },\n",
      "         \"is_tumor\": {\n",
      "            \"type\": \"string\",\n",
      "            \"oneOf\": [\n",
      "               {\n",
      "                  \"const\": \"No\"\n",
      "               }\n",
      "            ],\n",
      "            \"description\": \"Tumor status\"\n",
      "         },\n",
      "         \"body_site\": {\n",
      "            \"type\": \"string\",\n",
      "            \"oneOf\": [\n",
      "               {\n",
      "                  \"const\": \"Blood\"\n",
      "               }\n",
      "            ],\n",
      "            \"description\": \"Body site where sample was collected\"\n",
      "         },\n",
      "         \"sample_id\": {\n",
      "            \"type\": \"string\",\n",
      "            \"description\": \"De-identified Sample ID\"\n",
      "         },\n",
      "         \"dna_source\": {\n",
      "            \"type\": \"string\",\n",
      "            \"oneOf\": [\n",
      "               {\n",
      "                  \"const\": \"Blood\"\n",
      "               },\n",
      "               {\n",
      "                  \"const\": \"Buffy coat\"\n",
      "               },\n",
      "               {\n",
      "                  \"const\": \"Unknown\"\n",
      "               },\n",
      "               {\n",
      "                  \"const\": \"Whole blood\"\n",
      "               }\n",
      "            ],\n",
      "            \"description\": \"DNA origin\"\n",
      "         },\n",
      "         \"read_depth\": {\n",
      "            \"type\": \"number\",\n",
      "            \"$comment\": \"UNIT 'fold coverage'\",\n",
      "            \"maximum\": 43.82,\n",
      "            \"minimum\": 3.83,\n",
      "            \"description\": \"Sequencing coverage\"\n",
      "         },\n",
      "         \"analyte_type\": {\n",
      "            \"type\": \"string\",\n",
      "            \"oneOf\": [\n",
      "               {\n",
      "                  \"const\": \"DNA\"\n",
      "               }\n",
      "            ],\n",
      "            \"description\": \"Analyte Type\"\n",
      "         },\n",
      "         \"sequencing_center\": {\n",
      "            \"type\": \"string\",\n",
      "            \"oneOf\": [\n",
      "               {\n",
      "                  \"const\": \"1\",\n",
      "                  \"title\": \"University of Washington Sequencing Center (Seattle, WA, USA)\"\n",
      "               },\n",
      "               {\n",
      "                  \"const\": \"2\",\n",
      "                  \"title\": \"Macrogen USA\"\n",
      "               }\n",
      "            ],\n",
      "            \"description\": \"Name of the center that conducted sequencing\"\n",
      "         }\n",
      "      },\n",
      "      \"type\": \"object\"\n",
      "   }\n",
      "}\n"
     ]
    },
    {
     "data": {
      "text/plain": [
       "<fasp.search.discovery_search_client.SearchSchema at 0x1279e6048>"
      ]
     },
     "execution_count": 4,
     "metadata": {},
     "output_type": "execute_result"
    }
   ],
   "source": [
    "cl.listTableInfo('dbgap_demo.scr_gecco_susceptibility.sample_attributes_multi', verbose=True)"
   ]
  },
  {
   "cell_type": "code",
   "execution_count": 5,
   "metadata": {},
   "outputs": [
    {
     "name": "stdout",
     "output_type": "stream",
     "text": [
      "batch\n",
      "Sequencing batch\n",
      "_______________________________________\n",
      "is_tumor\n",
      "Tumor status\n",
      "_______________________________________\n",
      "body_site\n",
      "Body site where sample was collected\n",
      "_______________________________________\n",
      "sample_id\n",
      "De-identified Sample ID\n",
      "_______________________________________\n",
      "dna_source\n",
      "DNA origin\n",
      "_______________________________________\n",
      "read_depth\n",
      "Sequencing coverage\n",
      "UNIT 'fold coverage'\n",
      "_______________________________________\n",
      "analyte_type\n",
      "Analyte Type\n",
      "_______________________________________\n",
      "sequencing_center\n",
      "Name of the center that conducted sequencing\n",
      "_______________________________________\n"
     ]
    }
   ],
   "source": [
    "cl.listTableColumns('dbgap_demo.scr_gecco_susceptibility.sample_attributes_multi',descriptions=True)"
   ]
  },
  {
   "cell_type": "markdown",
   "metadata": {},
   "source": [
    "### An EGA Table\n",
    "The same format of data dictionary was created for an EGA table."
   ]
  },
  {
   "cell_type": "code",
   "execution_count": 7,
   "metadata": {},
   "outputs": [
    {
     "name": "stdout",
     "output_type": "stream",
     "text": [
      "_Schema for tabledbgap_demo.scr_ega.scr_egapancreatic_sample_multi_\n",
      "{\n",
      "   \"name\": \"dbgap_demo.scr_ega.scr_egapancreatic_sample_multi\",\n",
      "   \"data_model\": {\n",
      "      \"$id\": \"scr_EGApancreatic_sample.data_dict.xml.scr_EGApancreatic_sample\",\n",
      "      \"$schema\": \"http://json-schema.org/draft-07/schema\",\n",
      "      \"properties\": {\n",
      "         \"gender\": {\n",
      "            \"type\": \"string\",\n",
      "            \"oneOf\": [\n",
      "               {\n",
      "                  \"const\": \"female\"\n",
      "               },\n",
      "               {\n",
      "                  \"const\": \"male\"\n",
      "               }\n",
      "            ],\n",
      "            \"description\": \"Sex of participant\"\n",
      "         },\n",
      "         \"bam_file\": {\n",
      "            \"type\": \"string\",\n",
      "            \"description\": \"Relative path for alignment file\"\n",
      "         },\n",
      "         \"phenotype\": {\n",
      "            \"type\": \"string\",\n",
      "            \"oneOf\": [\n",
      "               {\n",
      "                  \"const\": \"lung tissue\"\n",
      "               },\n",
      "               {\n",
      "                  \"const\": \"muscle tissue\"\n",
      "               },\n",
      "               {\n",
      "                  \"const\": \"pancreatic adenocarcinoma\"\n",
      "               },\n",
      "               {\n",
      "                  \"const\": \"skin tissue\"\n",
      "               },\n",
      "               {\n",
      "                  \"const\": \"spleen tissue\"\n",
      "               }\n",
      "            ],\n",
      "            \"description\": \"Site independent tissue type\"\n",
      "         },\n",
      "         \"subject_id\": {\n",
      "            \"type\": \"string\",\n",
      "            \"description\": \"Subject Id used locally by submitter\"\n",
      "         },\n",
      "         \"disease_site\": {\n",
      "            \"type\": \"string\",\n",
      "            \"oneOf\": [\n",
      "               {\n",
      "                  \"const\": \"Liver_Metastasis\"\n",
      "               },\n",
      "               {\n",
      "                  \"const\": \"Lung_Metastasis\"\n",
      "               },\n",
      "               {\n",
      "                  \"const\": \"Lung_Normal\"\n",
      "               },\n",
      "               {\n",
      "                  \"const\": \"Lymph_Node_Metastasis\"\n",
      "               },\n",
      "               {\n",
      "                  \"const\": \"Muscle_Normal\"\n",
      "               },\n",
      "               {\n",
      "                  \"const\": \"Normal Pancreas\"\n",
      "               },\n",
      "               {\n",
      "                  \"const\": \"Pancreas_Primary_Tumor\"\n",
      "               },\n",
      "               {\n",
      "                  \"const\": \"Peritoneal_Metastasis\"\n",
      "               },\n",
      "               {\n",
      "                  \"const\": \"Skin_Normal\"\n",
      "               },\n",
      "               {\n",
      "                  \"const\": \"Spleen_Normal\"\n",
      "               }\n",
      "            ],\n",
      "            \"description\": \"body site sample was taken from\"\n",
      "         },\n",
      "         \"ena-checklist\": {\n",
      "            \"type\": \"string\",\n",
      "            \"description\": \"Minimal information checklist used in this study\"\n",
      "         },\n",
      "         \"sample_primary_id\": {\n",
      "            \"type\": \"string\",\n",
      "            \"description\": \"De-identified sample ID\"\n",
      "         },\n",
      "         \"sample_submitter_id\": {\n",
      "            \"type\": \"string\",\n",
      "            \"description\": \"Sample id used locally by submitter\"\n",
      "         }\n",
      "      },\n",
      "      \"type\": \"object\"\n",
      "   }\n",
      "}\n"
     ]
    },
    {
     "data": {
      "text/plain": [
       "<fasp.search.discovery_search_client.SearchSchema at 0x1279e6128>"
      ]
     },
     "execution_count": 7,
     "metadata": {},
     "output_type": "execute_result"
    }
   ],
   "source": [
    "cl.listTableInfo('dbgap_demo.scr_ega.scr_egapancreatic_sample_multi',verbose=True)"
   ]
  },
  {
   "cell_type": "code",
   "execution_count": 8,
   "metadata": {},
   "outputs": [
    {
     "name": "stdout",
     "output_type": "stream",
     "text": [
      "gender\n",
      "Sex of participant\n",
      "\t\tfemale\n",
      "\t\tmale\n",
      "_______________________________________\n",
      "bam_file\n",
      "Relative path for alignment file\n",
      "_______________________________________\n",
      "phenotype\n",
      "Site independent tissue type\n",
      "\t\tlung tissue\n",
      "\t\tmuscle tissue\n",
      "\t\tpancreatic adenocarcinoma\n",
      "\t\tskin tissue\n",
      "\t\tspleen tissue\n",
      "_______________________________________\n",
      "subject_id\n",
      "Subject Id used locally by submitter\n",
      "_______________________________________\n",
      "disease_site\n",
      "body site sample was taken from\n",
      "\t\tLiver_Metastasis\n",
      "\t\tLung_Metastasis\n",
      "\t\tLung_Normal\n",
      "\t\tLymph_Node_Metastasis\n",
      "\t\tMuscle_Normal\n",
      "\t\tNormal Pancreas\n",
      "\t\tPancreas_Primary_Tumor\n",
      "\t\tPeritoneal_Metastasis\n",
      "\t\tSkin_Normal\n",
      "\t\tSpleen_Normal\n",
      "_______________________________________\n",
      "ena-checklist\n",
      "Minimal information checklist used in this study\n",
      "_______________________________________\n",
      "sample_primary_id\n",
      "De-identified sample ID\n",
      "_______________________________________\n",
      "sample_submitter_id\n",
      "Sample id used locally by submitter\n",
      "_______________________________________\n"
     ]
    }
   ],
   "source": [
    "cl.listTableColumns('dbgap_demo.scr_ega.scr_egapancreatic_sample_multi', descriptions=True, enums=True)"
   ]
  },
  {
   "cell_type": "code",
   "execution_count": null,
   "metadata": {},
   "outputs": [],
   "source": []
  }
 ],
 "metadata": {
  "kernelspec": {
   "display_name": "Python 3",
   "language": "python",
   "name": "python3"
  },
  "language_info": {
   "codemirror_mode": {
    "name": "ipython",
    "version": 3
   },
   "file_extension": ".py",
   "mimetype": "text/x-python",
   "name": "python",
   "nbconvert_exporter": "python",
   "pygments_lexer": "ipython3",
   "version": "3.7.3"
  }
 },
 "nbformat": 4,
 "nbformat_minor": 4
}
