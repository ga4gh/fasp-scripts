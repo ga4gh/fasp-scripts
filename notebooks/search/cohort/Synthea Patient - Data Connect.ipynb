{
 "cells": [
  {
   "cell_type": "code",
   "execution_count": 2,
   "id": "bbdd2588",
   "metadata": {},
   "outputs": [],
   "source": [
    "from fasp.search import DataConnectClient\n",
    "cl = DataConnectClient('http://localhost:8089/')"
   ]
  },
  {
   "cell_type": "code",
   "execution_count": 3,
   "id": "24d04e5a",
   "metadata": {},
   "outputs": [
    {
     "name": "stdout",
     "output_type": "stream",
     "text": [
      "_Schema for tablebigquery.synthea.patient_\n",
      "{\n",
      "   \"name\": \"bigquery.synthea.patient\",\n",
      "   \"description\": \"Synthea patient\",\n",
      "   \"data_model\": {\n",
      "      \"$id\": \"\",\n",
      "      \"description\": \"Synthea patient\",\n",
      "      \"$schema\": \"http://json-schema.org/draft-07/schema\",\n",
      "      \"properties\": {\n",
      "         \"disability-adjusted-life-years\": {\n",
      "            \"type\": \"number\",\n",
      "            \"description\": \"\",\n",
      "            \"$unit\": \"years\"\n",
      "         },\n",
      "         \"quality-adjusted-life-years\": {\n",
      "            \"type\": \"number\",\n",
      "            \"description\": \"\",\n",
      "            \"$unit\": \"years\"\n",
      "         },\n",
      "         \"gender\": {\n",
      "            \"allOf\": [\n",
      "               {\n",
      "                  \"description\": \"\"\n",
      "               }\n",
      "            ]\n",
      "         },\n",
      "         \"birthDate\": {\n",
      "            \"type\": \"string\",\n",
      "            \"description\": \"\"\n",
      "         },\n",
      "         \"us-core-ethnicity\": {\n",
      "            \"allOf\": [\n",
      "               {\n",
      "                  \"description\": \"\"\n",
      "               },\n",
      "               {\n",
      "                  \"$coding\": \"http://hl7.org/fhir/us/core/StructureDefinition/us-core-ethnicity\"\n",
      "               }\n",
      "            ]\n",
      "         },\n",
      "         \"maritalStatus\": {\n",
      "            \"allOf\": [\n",
      "               {\n",
      "                  \"description\": \"\"\n",
      "               },\n",
      "               {\n",
      "                  \"$coding\": \"http://terminology.hl7.org/CodeSystem/v3-MaritalStatus\"\n",
      "               }\n",
      "            ]\n",
      "         },\n",
      "         \"multipleBirthBoolean\": {\n",
      "            \"type\": \"boolean\",\n",
      "            \"description\": \"\"\n",
      "         },\n",
      "         \"us-core-race\": {\n",
      "            \"allOf\": [\n",
      "               {\n",
      "                  \"description\": \"\"\n",
      "               },\n",
      "               {\n",
      "                  \"$coding\": \"http://hl7.org/fhir/us/core/StructureDefinition/us-core-race\"\n",
      "               }\n",
      "            ]\n",
      "         },\n",
      "         \"us-core-birthsex\": {\n",
      "            \"allOf\": [\n",
      "               {\n",
      "                  \"description\": \"\"\n",
      "               },\n",
      "               {\n",
      "                  \"$coding\": \"http://hl7.org/fhir/us/core/StructureDefinition/us-core-birthsex\"\n",
      "               }\n",
      "            ]\n",
      "         }\n",
      "      }\n",
      "   }\n",
      "}\n"
     ]
    },
    {
     "data": {
      "text/plain": [
       "<fasp.search.data_connect_client.SearchSchema at 0x12b14ddc0>"
      ]
     },
     "execution_count": 3,
     "metadata": {},
     "output_type": "execute_result"
    }
   ],
   "source": [
    "cl.listTableInfo('bigquery.synthea.patient',verbose=True)"
   ]
  },
  {
   "cell_type": "code",
   "execution_count": 14,
   "id": "0eb472c7",
   "metadata": {},
   "outputs": [
    {
     "name": "stdout",
     "output_type": "stream",
     "text": [
      "_Retrieving the query_\n",
      "____Page1_______________\n",
      "____Page2_______________\n",
      "____Page3_______________\n",
      "____Page4_______________\n",
      "____Page5_______________\n",
      "____Page6_______________\n",
      "____Page7_______________\n",
      "____Page8_______________\n"
     ]
    },
    {
     "data": {
      "text/html": [
       "<div>\n",
       "<style scoped>\n",
       "    .dataframe tbody tr th:only-of-type {\n",
       "        vertical-align: middle;\n",
       "    }\n",
       "\n",
       "    .dataframe tbody tr th {\n",
       "        vertical-align: top;\n",
       "    }\n",
       "\n",
       "    .dataframe thead th {\n",
       "        text-align: right;\n",
       "    }\n",
       "</style>\n",
       "<table border=\"1\" class=\"dataframe\">\n",
       "  <thead>\n",
       "    <tr style=\"text-align: right;\">\n",
       "      <th></th>\n",
       "      <th>multipleBirthBoolean</th>\n",
       "      <th>maritalStatus</th>\n",
       "      <th>mCount</th>\n",
       "    </tr>\n",
       "  </thead>\n",
       "  <tbody>\n",
       "    <tr>\n",
       "      <th>0</th>\n",
       "      <td>False</td>\n",
       "      <td>M</td>\n",
       "      <td>71</td>\n",
       "    </tr>\n",
       "    <tr>\n",
       "      <th>1</th>\n",
       "      <td>False</td>\n",
       "      <td>S</td>\n",
       "      <td>53</td>\n",
       "    </tr>\n",
       "    <tr>\n",
       "      <th>2</th>\n",
       "      <td>None</td>\n",
       "      <td>M</td>\n",
       "      <td>1</td>\n",
       "    </tr>\n",
       "  </tbody>\n",
       "</table>\n",
       "</div>"
      ],
      "text/plain": [
       "  multipleBirthBoolean maritalStatus  mCount\n",
       "0                False             M      71\n",
       "1                False             S      53\n",
       "2                 None             M       1"
      ]
     },
     "execution_count": 14,
     "metadata": {},
     "output_type": "execute_result"
    }
   ],
   "source": [
    "query = \"\"\"select multipleBirthBoolean, maritalStatus, count(*) mCount\n",
    "from bigquery.synthea.patient\n",
    "group by multipleBirthBoolean, maritalStatus\n",
    "\"\"\"\n",
    "res = cl.runQuery(query, returnType='dataframe')\n",
    "res"
   ]
  },
  {
   "cell_type": "code",
   "execution_count": null,
   "id": "6fbd2798",
   "metadata": {},
   "outputs": [],
   "source": []
  }
 ],
 "metadata": {
  "kernelspec": {
   "display_name": "Python 3 (ipykernel)",
   "language": "python",
   "name": "python3"
  },
  "language_info": {
   "codemirror_mode": {
    "name": "ipython",
    "version": 3
   },
   "file_extension": ".py",
   "mimetype": "text/x-python",
   "name": "python",
   "nbconvert_exporter": "python",
   "pygments_lexer": "ipython3",
   "version": "3.9.7"
  }
 },
 "nbformat": 4,
 "nbformat_minor": 5
}
