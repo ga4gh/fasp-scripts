{
 "cells": [
  {
   "cell_type": "markdown",
   "metadata": {},
   "source": [
    "## Use of rich table schema to understand and work with data\n",
    "\n",
    "The aim of this script was  to illustrate the following\n",
    "* A self-sufficient data scientist can use basic capabilities of their day-to-day toolset (pandas dataframes) to easily transform data retrieved via the GA4GH Search\n",
    "* The GA4GH Search schema provides sufficient information in machine readable form to do so\n",
    "* This can be done with no additional curation of data sources\n",
    "* Endorses the value of requiring data submitters to provide a data dictionary\n",
    "\n",
    "First set up a Search client"
   ]
  },
  {
   "cell_type": "code",
   "execution_count": 1,
   "metadata": {},
   "outputs": [],
   "source": [
    "from fasp.search import DiscoverySearchClient\n",
    "cl = DiscoverySearchClient('https://ga4gh-search-adapter-presto-public.prod.dnastack.com')"
   ]
  },
  {
   "cell_type": "markdown",
   "metadata": {},
   "source": [
    "#### Specify the table to search and run the query, specifying the columns to retrieve\n",
    "\n",
    "The table being searched is a deidentifed (scrambled) version of the data for dbGaP study phs001611. This study is represented in the NCI Genomic Data Commons. \n",
    "\n",
    "A data frame is returned."
   ]
  },
  {
   "cell_type": "code",
   "execution_count": 2,
   "metadata": {},
   "outputs": [
    {
     "name": "stdout",
     "output_type": "stream",
     "text": [
      "_Retrieving the query_\n",
      "____Page1_______________\n",
      "____Page2_______________\n",
      "____Page3_______________\n",
      "____Page4_______________\n",
      "____Page5_______________\n"
     ]
    },
    {
     "data": {
      "text/html": [
       "<div>\n",
       "<style scoped>\n",
       "    .dataframe tbody tr th:only-of-type {\n",
       "        vertical-align: middle;\n",
       "    }\n",
       "\n",
       "    .dataframe tbody tr th {\n",
       "        vertical-align: top;\n",
       "    }\n",
       "\n",
       "    .dataframe thead th {\n",
       "        text-align: right;\n",
       "    }\n",
       "</style>\n",
       "<table border=\"1\" class=\"dataframe\">\n",
       "  <thead>\n",
       "    <tr style=\"text-align: right;\">\n",
       "      <th></th>\n",
       "      <th>dbgap_subject_id</th>\n",
       "      <th>age</th>\n",
       "      <th>race</th>\n",
       "      <th>sex</th>\n",
       "    </tr>\n",
       "  </thead>\n",
       "  <tbody>\n",
       "    <tr>\n",
       "      <th>0</th>\n",
       "      <td>2675511</td>\n",
       "      <td>24</td>\n",
       "      <td>W</td>\n",
       "      <td>F</td>\n",
       "    </tr>\n",
       "    <tr>\n",
       "      <th>1</th>\n",
       "      <td>2675537</td>\n",
       "      <td>43</td>\n",
       "      <td>AA</td>\n",
       "      <td>F</td>\n",
       "    </tr>\n",
       "    <tr>\n",
       "      <th>2</th>\n",
       "      <td>2675497</td>\n",
       "      <td>52</td>\n",
       "      <td>W</td>\n",
       "      <td>F</td>\n",
       "    </tr>\n",
       "    <tr>\n",
       "      <th>3</th>\n",
       "      <td>2675520</td>\n",
       "      <td>55</td>\n",
       "      <td>W</td>\n",
       "      <td>F</td>\n",
       "    </tr>\n",
       "    <tr>\n",
       "      <th>4</th>\n",
       "      <td>2675517</td>\n",
       "      <td>57</td>\n",
       "      <td>AA</td>\n",
       "      <td>F</td>\n",
       "    </tr>\n",
       "    <tr>\n",
       "      <th>5</th>\n",
       "      <td>2675504</td>\n",
       "      <td>57</td>\n",
       "      <td>W</td>\n",
       "      <td>F</td>\n",
       "    </tr>\n",
       "    <tr>\n",
       "      <th>6</th>\n",
       "      <td>2675552</td>\n",
       "      <td>61</td>\n",
       "      <td>W</td>\n",
       "      <td>F</td>\n",
       "    </tr>\n",
       "    <tr>\n",
       "      <th>7</th>\n",
       "      <td>2675502</td>\n",
       "      <td>61</td>\n",
       "      <td>W</td>\n",
       "      <td>F</td>\n",
       "    </tr>\n",
       "    <tr>\n",
       "      <th>8</th>\n",
       "      <td>2675550</td>\n",
       "      <td>62</td>\n",
       "      <td>W</td>\n",
       "      <td>F</td>\n",
       "    </tr>\n",
       "    <tr>\n",
       "      <th>9</th>\n",
       "      <td>2675494</td>\n",
       "      <td>62</td>\n",
       "      <td>N/A</td>\n",
       "      <td>F</td>\n",
       "    </tr>\n",
       "  </tbody>\n",
       "</table>\n",
       "</div>"
      ],
      "text/plain": [
       "  dbgap_subject_id  age race sex\n",
       "0          2675511   24    W   F\n",
       "1          2675537   43   AA   F\n",
       "2          2675497   52    W   F\n",
       "3          2675520   55    W   F\n",
       "4          2675517   57   AA   F\n",
       "5          2675504   57    W   F\n",
       "6          2675552   61    W   F\n",
       "7          2675502   61    W   F\n",
       "8          2675550   62    W   F\n",
       "9          2675494   62  N/A   F"
      ]
     },
     "execution_count": 2,
     "metadata": {},
     "output_type": "execute_result"
    }
   ],
   "source": [
    "table_name = 'search_cloud.cshcodeathon.organoid_profiling_pc_subject_phenotypes_gru'\n",
    "res = cl.runOneTableQuery(column_list=['dbgap_subject_id', 'age', 'race', 'sex'],table=table_name,limit=10)\n",
    "res"
   ]
  },
  {
   "cell_type": "markdown",
   "metadata": {},
   "source": [
    "This indicates codings for race and gender. Relying on column names alone gives minimal information.\n",
    "\n",
    "In this case, reasonable guesses might be made at what those codes mean. The age column too might reasonably be guessed at. However, that won't always be the case.\n",
    "\n",
    "dbGaP also provides a data dictionary. These are imported by GA4GH and the information provided in JSON Schema, the standard form for describing data in GA4GH Search.\n",
    "\n",
    "### ToDo\n",
    "Update the table on ga4gh-search-adapter-presto-public, and other tables from the same dataset, to use the dbGaP dictionary representation of the schema."
   ]
  },
  {
   "cell_type": "code",
   "execution_count": 4,
   "metadata": {},
   "outputs": [
    {
     "name": "stdout",
     "output_type": "stream",
     "text": [
      "_Schema for tablesearch_cloud.cshcodeathon.organoid_profiling_pc_subject_phenotypes_gru_\n",
      "{'data_model': {'$id': 'https://ga4gh-search-adapter-presto-public.prod.dnastack.com/table/search_cloud.cshcodeathon.organoid_profiling_pc_subject_phenotypes_gru/info',\n",
      "                '$schema': 'http://json-schema.org/draft-07/schema#',\n",
      "                'description': 'Automatically generated schema',\n",
      "                'properties': {'age': {'$comment': \"Subject's age (Years)\",\n",
      "                                       'format': 'bigint',\n",
      "                                       'type': 'int'},\n",
      "                               'dbgap_subject_id': {'$comment': 'Unique '\n",
      "                                                                'Subject ID in '\n",
      "                                                                'dbGap',\n",
      "                                                    'format': 'varchar',\n",
      "                                                    'type': 'string'},\n",
      "                               'race': {'$comment': 'Race of participant',\n",
      "                                        'format': 'varchar',\n",
      "                                        'type': 'string'},\n",
      "                               'sex': {'$comment': 'Sex of participant',\n",
      "                                       'format': 'varchar',\n",
      "                                       'type': 'string'},\n",
      "                               'subject_id': {'$comment': 'De-identified '\n",
      "                                                          'Subject ID',\n",
      "                                              'format': 'varchar',\n",
      "                                              'type': 'string'}}},\n",
      " 'description': 'Automatically generated schema',\n",
      " 'name': 'search_cloud.cshcodeathon.organoid_profiling_pc_subject_phenotypes_gru'}\n"
     ]
    }
   ],
   "source": [
    "po_schema = cl.listTableInfo(table_name)"
   ]
  },
  {
   "cell_type": "markdown",
   "metadata": {},
   "source": [
    "The information from the data dictionary, makes the data sufficiently well described for a data scientist . That information supplied by the investigators who conducted the study. So the data is sufficiently well-described for useful analysis without any additional harmonization or curation. Note that the existing dbGaP submission process playes a significant role in enabling that.\n",
    "\n",
    "#### Workaround\n",
    "Until the Search server description is updated from the data dictionary we'll look at it directly."
   ]
  },
  {
   "cell_type": "code",
   "execution_count": 7,
   "metadata": {},
   "outputs": [
    {
     "name": "stdout",
     "output_type": "stream",
     "text": [
      "<?xml version=\"1.0\" ?>\n",
      "<?xml-stylesheet type=\"text/xsl\" href=\"./datadict_v2.xsl\"?>\n",
      "<data_table date_created=\"Thu Jun 13 14:30:34 2019\" id=\"pht009160.v1\" participant_set=\"1\" study_id=\"phs001611.v1\">\n",
      "\t<description/>\n",
      "\t<variable id=\"phv00409134.v1\">\n",
      "\t\t<name>SUBJECT_ID</name>\n",
      "\t\t<description>De-identified Subject ID</description>\n",
      "\t\t<type>string</type>\n",
      "\t</variable>\n",
      "\t<variable id=\"phv00409135.v1\">\n",
      "\t\t<name>sex</name>\n",
      "\t\t<description>Sex of participant</description>\n",
      "\t\t<type>encoded value</type>\n",
      "\t\t<value code=\"F\">Female</value>\n",
      "\t\t<value code=\"N/A\">Not Applicable</value>\n",
      "\t\t<value code=\"M\">Male</value>\n",
      "\t</variable>\n",
      "\t<variable id=\"phv00409136.v1\">\n",
      "\t\t<name>age</name>\n",
      "\t\t<description>Subject's age</description>\n",
      "\t\t<type>integer, encoded value</type>\n",
      "\t\t<unit>Years</unit>\n",
      "\t\t<logical_min>24</logical_min>\n",
      "\t\t<logical_max>92</logical_max>\n",
      "\t\t<value code=\"N/A\">Not vailable</value>\n",
      "\t</variable>\n",
      "\t<variable id=\"phv00409137.v1\">\n",
      "\t\t<name>race</name>\n",
      "\t\t<description>Race of participant</description>\n",
      "\t\t<type>encoded value</type>\n",
      "\t\t<value code=\"AA\">African American</value>\n",
      "\t\t<value code=\"A\">Asian</value>\n",
      "\t\t<value code=\"W\">White, Caucasian</value>\n",
      "\t\t<value code=\"H\">Hispanic</value>\n",
      "\t\t<value code=\"N/A\">Not vailable</value>\n",
      "\t</variable>\n",
      "</data_table>\n",
      "\n"
     ]
    }
   ],
   "source": [
    "import xml.dom.minidom\n",
    "# Local copy of Subject_Phenotypes.data_dict.xml for phs001611\n",
    "with open('../../fasp/data/dbgap/phs001611.v1.pht009160.v1.Organoid_Profiling_PC_Subject_Phenotypes.data_dict.xml') as xmldata:\n",
    "    xml = xml.dom.minidom.parseString(xmldata.read())  # or xml.dom.minidom.parseString(xml_string)\n",
    "    xml_pretty_str = xml.toprettyxml()\n",
    "print (xml_pretty_str)"
   ]
  },
  {
   "cell_type": "markdown",
   "metadata": {},
   "source": [
    "Given what the dictionary tells us we can transform the coding using a built in capability of a pandas dataframe."
   ]
  },
  {
   "cell_type": "code",
   "execution_count": 8,
   "metadata": {},
   "outputs": [],
   "source": [
    "transforms = { 'sex':{'F': 'Female', 'N/A': 'N/A', 'M': 'Male'},\n",
    "               'race' : {'AA': 'African American',\n",
    "                   'A': 'Asian',\n",
    "                   'W': 'White',\n",
    "                   'H': 'Hispanic',\n",
    "                   'N/A': 'N/A'}\n",
    "             }"
   ]
  },
  {
   "cell_type": "markdown",
   "metadata": {},
   "source": [
    "#### Transform the column\n",
    "Use the replace function of the dataframe to use the data provided by the mapping"
   ]
  },
  {
   "cell_type": "code",
   "execution_count": 12,
   "metadata": {},
   "outputs": [],
   "source": [
    "for col, mapping in transforms.items():\n",
    "    res[col] = res[col].replace(mapping.keys(),mapping.values())"
   ]
  },
  {
   "cell_type": "code",
   "execution_count": 13,
   "metadata": {},
   "outputs": [
    {
     "data": {
      "text/html": [
       "<div>\n",
       "<style scoped>\n",
       "    .dataframe tbody tr th:only-of-type {\n",
       "        vertical-align: middle;\n",
       "    }\n",
       "\n",
       "    .dataframe tbody tr th {\n",
       "        vertical-align: top;\n",
       "    }\n",
       "\n",
       "    .dataframe thead th {\n",
       "        text-align: right;\n",
       "    }\n",
       "</style>\n",
       "<table border=\"1\" class=\"dataframe\">\n",
       "  <thead>\n",
       "    <tr style=\"text-align: right;\">\n",
       "      <th></th>\n",
       "      <th>dbgap_subject_id</th>\n",
       "      <th>age</th>\n",
       "      <th>race</th>\n",
       "      <th>sex</th>\n",
       "    </tr>\n",
       "  </thead>\n",
       "  <tbody>\n",
       "    <tr>\n",
       "      <th>0</th>\n",
       "      <td>2675511</td>\n",
       "      <td>24</td>\n",
       "      <td>White</td>\n",
       "      <td>Female</td>\n",
       "    </tr>\n",
       "    <tr>\n",
       "      <th>1</th>\n",
       "      <td>2675537</td>\n",
       "      <td>43</td>\n",
       "      <td>African American</td>\n",
       "      <td>Female</td>\n",
       "    </tr>\n",
       "    <tr>\n",
       "      <th>2</th>\n",
       "      <td>2675497</td>\n",
       "      <td>52</td>\n",
       "      <td>White</td>\n",
       "      <td>Female</td>\n",
       "    </tr>\n",
       "    <tr>\n",
       "      <th>3</th>\n",
       "      <td>2675520</td>\n",
       "      <td>55</td>\n",
       "      <td>White</td>\n",
       "      <td>Female</td>\n",
       "    </tr>\n",
       "    <tr>\n",
       "      <th>4</th>\n",
       "      <td>2675517</td>\n",
       "      <td>57</td>\n",
       "      <td>African American</td>\n",
       "      <td>Female</td>\n",
       "    </tr>\n",
       "    <tr>\n",
       "      <th>5</th>\n",
       "      <td>2675504</td>\n",
       "      <td>57</td>\n",
       "      <td>White</td>\n",
       "      <td>Female</td>\n",
       "    </tr>\n",
       "    <tr>\n",
       "      <th>6</th>\n",
       "      <td>2675552</td>\n",
       "      <td>61</td>\n",
       "      <td>White</td>\n",
       "      <td>Female</td>\n",
       "    </tr>\n",
       "    <tr>\n",
       "      <th>7</th>\n",
       "      <td>2675502</td>\n",
       "      <td>61</td>\n",
       "      <td>White</td>\n",
       "      <td>Female</td>\n",
       "    </tr>\n",
       "    <tr>\n",
       "      <th>8</th>\n",
       "      <td>2675550</td>\n",
       "      <td>62</td>\n",
       "      <td>White</td>\n",
       "      <td>Female</td>\n",
       "    </tr>\n",
       "    <tr>\n",
       "      <th>9</th>\n",
       "      <td>2675494</td>\n",
       "      <td>62</td>\n",
       "      <td>N/A</td>\n",
       "      <td>Female</td>\n",
       "    </tr>\n",
       "  </tbody>\n",
       "</table>\n",
       "</div>"
      ],
      "text/plain": [
       "  dbgap_subject_id  age              race     sex\n",
       "0          2675511   24             White  Female\n",
       "1          2675537   43  African American  Female\n",
       "2          2675497   52             White  Female\n",
       "3          2675520   55             White  Female\n",
       "4          2675517   57  African American  Female\n",
       "5          2675504   57             White  Female\n",
       "6          2675552   61             White  Female\n",
       "7          2675502   61             White  Female\n",
       "8          2675550   62             White  Female\n",
       "9          2675494   62               N/A  Female"
      ]
     },
     "execution_count": 13,
     "metadata": {},
     "output_type": "execute_result"
    }
   ],
   "source": [
    "res"
   ]
  },
  {
   "cell_type": "markdown",
   "metadata": {},
   "source": [
    "This illustrates the points listed at the beginning of this workbook.\n",
    "\n",
    "This is still too complex for regular use. A second notebook illustrates how such mappings might be stored and retrieved as needed for more convenient use.\n",
    "\n"
   ]
  },
  {
   "cell_type": "code",
   "execution_count": null,
   "metadata": {},
   "outputs": [],
   "source": []
  }
 ],
 "metadata": {
  "kernelspec": {
   "display_name": "Python 3",
   "language": "python",
   "name": "python3"
  },
  "language_info": {
   "codemirror_mode": {
    "name": "ipython",
    "version": 3
   },
   "file_extension": ".py",
   "mimetype": "text/x-python",
   "name": "python",
   "nbconvert_exporter": "python",
   "pygments_lexer": "ipython3",
   "version": "3.7.3"
  }
 },
 "nbformat": 4,
 "nbformat_minor": 4
}
