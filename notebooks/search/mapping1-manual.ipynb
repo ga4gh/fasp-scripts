{
 "cells": [
  {
   "cell_type": "markdown",
   "metadata": {},
   "source": [
    "## Use of rich table schema to understand and work with data\n",
    "\n",
    "The aim of this script was  to illustrate the following\n",
    "* A self-sufficient data scientist can use basic capabilities of their day-to-day toolset (pandas dataframes) to easily transform data retrieved via the GA4GH Search\n",
    "* The GA4GH Search schema provides sufficient information in machine readable form to do so\n",
    "* This can be done with no additional curation of data sources\n",
    "* Endorses the value of requiring data submitters to provide a data dictionary\n",
    "\n",
    "First set up a Search client"
   ]
  },
  {
   "cell_type": "code",
   "execution_count": 1,
   "metadata": {},
   "outputs": [],
   "source": [
    "from fasp.search import DiscoverySearchClient\n",
    "cl = DiscoverySearchClient('https://ga4gh-search-adapter-presto-public.prod.dnastack.com')"
   ]
  },
  {
   "cell_type": "markdown",
   "metadata": {},
   "source": [
    "#### Specify the table to search and run the query, specifying the columns to retrieve\n",
    "\n",
    "The table being searched is a deidentifed (scrambled) version of the data for dbGaP study phs001611. This study is represented in the NCI Genomic Data Commons. \n",
    "\n",
    "A data frame is returned."
   ]
  },
  {
   "cell_type": "code",
   "execution_count": 2,
   "metadata": {},
   "outputs": [
    {
     "name": "stdout",
     "output_type": "stream",
     "text": [
      "_Retrieving the query_\n",
      "____Page1_______________\n",
      "____Page2_______________\n",
      "____Page3_______________\n",
      "____Page4_______________\n",
      "____Page5_______________\n"
     ]
    },
    {
     "data": {
      "text/html": [
       "<div>\n",
       "<style scoped>\n",
       "    .dataframe tbody tr th:only-of-type {\n",
       "        vertical-align: middle;\n",
       "    }\n",
       "\n",
       "    .dataframe tbody tr th {\n",
       "        vertical-align: top;\n",
       "    }\n",
       "\n",
       "    .dataframe thead th {\n",
       "        text-align: right;\n",
       "    }\n",
       "</style>\n",
       "<table border=\"1\" class=\"dataframe\">\n",
       "  <thead>\n",
       "    <tr style=\"text-align: right;\">\n",
       "      <th></th>\n",
       "      <th>dbgap_subject_id</th>\n",
       "      <th>age</th>\n",
       "      <th>race</th>\n",
       "      <th>sex</th>\n",
       "    </tr>\n",
       "  </thead>\n",
       "  <tbody>\n",
       "    <tr>\n",
       "      <th>0</th>\n",
       "      <td>2675511</td>\n",
       "      <td>24</td>\n",
       "      <td>W</td>\n",
       "      <td>F</td>\n",
       "    </tr>\n",
       "    <tr>\n",
       "      <th>1</th>\n",
       "      <td>2675537</td>\n",
       "      <td>43</td>\n",
       "      <td>AA</td>\n",
       "      <td>F</td>\n",
       "    </tr>\n",
       "    <tr>\n",
       "      <th>2</th>\n",
       "      <td>2675497</td>\n",
       "      <td>52</td>\n",
       "      <td>W</td>\n",
       "      <td>F</td>\n",
       "    </tr>\n",
       "    <tr>\n",
       "      <th>3</th>\n",
       "      <td>2675520</td>\n",
       "      <td>55</td>\n",
       "      <td>W</td>\n",
       "      <td>F</td>\n",
       "    </tr>\n",
       "    <tr>\n",
       "      <th>4</th>\n",
       "      <td>2675517</td>\n",
       "      <td>57</td>\n",
       "      <td>AA</td>\n",
       "      <td>F</td>\n",
       "    </tr>\n",
       "    <tr>\n",
       "      <th>5</th>\n",
       "      <td>2675504</td>\n",
       "      <td>57</td>\n",
       "      <td>W</td>\n",
       "      <td>F</td>\n",
       "    </tr>\n",
       "    <tr>\n",
       "      <th>6</th>\n",
       "      <td>2675552</td>\n",
       "      <td>61</td>\n",
       "      <td>W</td>\n",
       "      <td>F</td>\n",
       "    </tr>\n",
       "    <tr>\n",
       "      <th>7</th>\n",
       "      <td>2675502</td>\n",
       "      <td>61</td>\n",
       "      <td>W</td>\n",
       "      <td>F</td>\n",
       "    </tr>\n",
       "    <tr>\n",
       "      <th>8</th>\n",
       "      <td>2675550</td>\n",
       "      <td>62</td>\n",
       "      <td>W</td>\n",
       "      <td>F</td>\n",
       "    </tr>\n",
       "    <tr>\n",
       "      <th>9</th>\n",
       "      <td>2675494</td>\n",
       "      <td>62</td>\n",
       "      <td>N/A</td>\n",
       "      <td>F</td>\n",
       "    </tr>\n",
       "  </tbody>\n",
       "</table>\n",
       "</div>"
      ],
      "text/plain": [
       "  dbgap_subject_id  age race sex\n",
       "0          2675511   24    W   F\n",
       "1          2675537   43   AA   F\n",
       "2          2675497   52    W   F\n",
       "3          2675520   55    W   F\n",
       "4          2675517   57   AA   F\n",
       "5          2675504   57    W   F\n",
       "6          2675552   61    W   F\n",
       "7          2675502   61    W   F\n",
       "8          2675550   62    W   F\n",
       "9          2675494   62  N/A   F"
      ]
     },
     "execution_count": 2,
     "metadata": {},
     "output_type": "execute_result"
    }
   ],
   "source": [
    "table_name = 'search_cloud.cshcodeathon.organoid_profiling_pc_subject_phenotypes_gru'\n",
    "res = cl.runOneTableQuery(column_list=['dbgap_subject_id', 'age', 'race', 'sex'],table=table_name,limit=10)\n",
    "res"
   ]
  },
  {
   "cell_type": "markdown",
   "metadata": {},
   "source": [
    "This indicates codings for race and gender. Relying on column names alone gives minimal information.\n",
    "\n",
    "In this case, reasonable guesses might be made at what those codes mean. The age column too might reasonably be guessed at. However, that won't always be the case.\n",
    "\n",
    "GA4GH Search provides information about the tables via JSON Schema. In this case that schema was easily populated via the dbGaP data dictionary. "
   ]
  },
  {
   "cell_type": "code",
   "execution_count": 3,
   "metadata": {},
   "outputs": [
    {
     "name": "stdout",
     "output_type": "stream",
     "text": [
      "_Schema for tablesearch_cloud.cshcodeathon.organoid_profiling_pc_subject_phenotypes_gru_\n",
      "{'data_model': {'$id': 'phs001611.v1.pht009160.v1.Organoid_Profiling_PC_Subject_Phenotypes',\n",
      "                '$schema': 'http://json-schema.org/draft-07/schema',\n",
      "                'properties': {'age': {'$comment': \"UNIT 'Years'\",\n",
      "                                       'description': \"Subject's age\",\n",
      "                                       'maximum': 92.0,\n",
      "                                       'minimum': 24.0,\n",
      "                                       'oneOf': [{'const': 'N/A',\n",
      "                                                  'title': 'Not vailable'}],\n",
      "                                       'type': 'integer, encoded value'},\n",
      "                               'race': {'description': 'Race of participant',\n",
      "                                        'oneOf': [{'const': 'AA',\n",
      "                                                   'title': 'African American'},\n",
      "                                                  {'const': 'A',\n",
      "                                                   'title': 'Asian'},\n",
      "                                                  {'const': 'W',\n",
      "                                                   'title': 'White, Caucasian'},\n",
      "                                                  {'const': 'H',\n",
      "                                                   'title': 'Hispanic'},\n",
      "                                                  {'const': 'N/A',\n",
      "                                                   'title': 'Not vailable'}],\n",
      "                                        'type': 'string'},\n",
      "                               'sex': {'description': 'Sex of participant',\n",
      "                                       'oneOf': [{'const': 'F',\n",
      "                                                  'title': 'Female'},\n",
      "                                                 {'const': 'N/A',\n",
      "                                                  'title': 'Not Applicable'},\n",
      "                                                 {'const': 'M',\n",
      "                                                  'title': 'Male'}],\n",
      "                                       'type': 'string'},\n",
      "                               'subject_id': {'description': 'De-identified '\n",
      "                                                             'Subject ID',\n",
      "                                              'type': 'string'}},\n",
      "                'type': 'object'},\n",
      " 'name': 'search_cloud.cshcodeathon.organoid_profiling_pc_subject_phenotypes_gru'}\n"
     ]
    }
   ],
   "source": [
    "po_schema = cl.listTableInfo(table_name, verbose=True)"
   ]
  },
  {
   "cell_type": "markdown",
   "metadata": {},
   "source": [
    "The information from the data dictionary helps describe the data for a data scientist. That information was supplied by the investigators who conducted the study. Thia makes the data available for analysis without any additional harmonization or curation. Note that the existing dbGaP submission process plays a significant role in enabling that."
   ]
  },
  {
   "cell_type": "markdown",
   "metadata": {},
   "source": [
    "Given what the dictionary tells us we can transform the coding using a built in capability of a pandas dataframe. "
   ]
  },
  {
   "cell_type": "code",
   "execution_count": 5,
   "metadata": {},
   "outputs": [],
   "source": [
    "transforms = { 'sex':{'F': 'Female', 'N/A': 'N/A', 'M': 'Male'},\n",
    "               'race' : {'AA': 'African American',\n",
    "                   'A': 'Asian',\n",
    "                   'W': 'White',\n",
    "                   'H': 'Hispanic',\n",
    "                   'N/A': 'N/A'}\n",
    "             }"
   ]
  },
  {
   "cell_type": "markdown",
   "metadata": {},
   "source": [
    "#### Transform the column\n",
    "Use the replace function of the dataframe to use the data provided by the mapping"
   ]
  },
  {
   "cell_type": "code",
   "execution_count": 6,
   "metadata": {},
   "outputs": [],
   "source": [
    "for col, mapping in transforms.items():\n",
    "    res[col] = res[col].replace(mapping.keys(),mapping.values())"
   ]
  },
  {
   "cell_type": "code",
   "execution_count": 7,
   "metadata": {},
   "outputs": [
    {
     "data": {
      "text/html": [
       "<div>\n",
       "<style scoped>\n",
       "    .dataframe tbody tr th:only-of-type {\n",
       "        vertical-align: middle;\n",
       "    }\n",
       "\n",
       "    .dataframe tbody tr th {\n",
       "        vertical-align: top;\n",
       "    }\n",
       "\n",
       "    .dataframe thead th {\n",
       "        text-align: right;\n",
       "    }\n",
       "</style>\n",
       "<table border=\"1\" class=\"dataframe\">\n",
       "  <thead>\n",
       "    <tr style=\"text-align: right;\">\n",
       "      <th></th>\n",
       "      <th>dbgap_subject_id</th>\n",
       "      <th>age</th>\n",
       "      <th>race</th>\n",
       "      <th>sex</th>\n",
       "    </tr>\n",
       "  </thead>\n",
       "  <tbody>\n",
       "    <tr>\n",
       "      <th>0</th>\n",
       "      <td>2675511</td>\n",
       "      <td>24</td>\n",
       "      <td>White</td>\n",
       "      <td>Female</td>\n",
       "    </tr>\n",
       "    <tr>\n",
       "      <th>1</th>\n",
       "      <td>2675537</td>\n",
       "      <td>43</td>\n",
       "      <td>African American</td>\n",
       "      <td>Female</td>\n",
       "    </tr>\n",
       "    <tr>\n",
       "      <th>2</th>\n",
       "      <td>2675497</td>\n",
       "      <td>52</td>\n",
       "      <td>White</td>\n",
       "      <td>Female</td>\n",
       "    </tr>\n",
       "    <tr>\n",
       "      <th>3</th>\n",
       "      <td>2675520</td>\n",
       "      <td>55</td>\n",
       "      <td>White</td>\n",
       "      <td>Female</td>\n",
       "    </tr>\n",
       "    <tr>\n",
       "      <th>4</th>\n",
       "      <td>2675517</td>\n",
       "      <td>57</td>\n",
       "      <td>African American</td>\n",
       "      <td>Female</td>\n",
       "    </tr>\n",
       "    <tr>\n",
       "      <th>5</th>\n",
       "      <td>2675504</td>\n",
       "      <td>57</td>\n",
       "      <td>White</td>\n",
       "      <td>Female</td>\n",
       "    </tr>\n",
       "    <tr>\n",
       "      <th>6</th>\n",
       "      <td>2675552</td>\n",
       "      <td>61</td>\n",
       "      <td>White</td>\n",
       "      <td>Female</td>\n",
       "    </tr>\n",
       "    <tr>\n",
       "      <th>7</th>\n",
       "      <td>2675502</td>\n",
       "      <td>61</td>\n",
       "      <td>White</td>\n",
       "      <td>Female</td>\n",
       "    </tr>\n",
       "    <tr>\n",
       "      <th>8</th>\n",
       "      <td>2675550</td>\n",
       "      <td>62</td>\n",
       "      <td>White</td>\n",
       "      <td>Female</td>\n",
       "    </tr>\n",
       "    <tr>\n",
       "      <th>9</th>\n",
       "      <td>2675494</td>\n",
       "      <td>62</td>\n",
       "      <td>N/A</td>\n",
       "      <td>Female</td>\n",
       "    </tr>\n",
       "  </tbody>\n",
       "</table>\n",
       "</div>"
      ],
      "text/plain": [
       "  dbgap_subject_id  age              race     sex\n",
       "0          2675511   24             White  Female\n",
       "1          2675537   43  African American  Female\n",
       "2          2675497   52             White  Female\n",
       "3          2675520   55             White  Female\n",
       "4          2675517   57  African American  Female\n",
       "5          2675504   57             White  Female\n",
       "6          2675552   61             White  Female\n",
       "7          2675502   61             White  Female\n",
       "8          2675550   62             White  Female\n",
       "9          2675494   62               N/A  Female"
      ]
     },
     "execution_count": 7,
     "metadata": {},
     "output_type": "execute_result"
    }
   ],
   "source": [
    "res"
   ]
  },
  {
   "cell_type": "markdown",
   "metadata": {},
   "source": [
    "This illustrates the points listed at the beginning of this workbook.\n",
    "\n",
    "To help with generating a mapping like that above the DiscoverySearchClient class provides the following function to create a prepopulated template which can be edited to provide the values to which these could be mapped."
   ]
  },
  {
   "cell_type": "code",
   "execution_count": 8,
   "metadata": {},
   "outputs": [
    {
     "data": {
      "text/plain": [
       "{'sex': {'F': 'replaceThis', 'N/A': 'replaceThis', 'M': 'replaceThis'},\n",
       " 'race': {'AA': 'replaceThis',\n",
       "  'A': 'replaceThis',\n",
       "  'W': 'replaceThis',\n",
       "  'H': 'replaceThis',\n",
       "  'N/A': 'replaceThis'}}"
      ]
     },
     "execution_count": 8,
     "metadata": {},
     "output_type": "execute_result"
    }
   ],
   "source": [
    "template = cl.getMappingTemplate(table_name,['sex','race'])\n",
    "template"
   ]
  },
  {
   "cell_type": "markdown",
   "metadata": {},
   "source": [
    "Note that this is base level functionality with regard to mappings, more convenient options are needed. \n",
    "\n",
    "A second notebook illustrates how such mappings might be stored and retrieved as needed for more convenient use.\n",
    "\n",
    "The Search specification is open to more sophisticated examples being provided by third parties. Crowd-sourcing of mappings is encouraged, with information available to allow users to determine if mappings, from any source, are fit for the users purpose."
   ]
  },
  {
   "cell_type": "code",
   "execution_count": null,
   "metadata": {},
   "outputs": [],
   "source": []
  }
 ],
 "metadata": {
  "kernelspec": {
   "display_name": "Python 3",
   "language": "python",
   "name": "python3"
  },
  "language_info": {
   "codemirror_mode": {
    "name": "ipython",
    "version": 3
   },
   "file_extension": ".py",
   "mimetype": "text/x-python",
   "name": "python",
   "nbconvert_exporter": "python",
   "pygments_lexer": "ipython3",
   "version": "3.7.3"
  }
 },
 "nbformat": 4,
 "nbformat_minor": 4
}
