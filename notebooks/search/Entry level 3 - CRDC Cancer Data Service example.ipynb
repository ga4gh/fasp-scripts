{
 "cells": [
  {
   "cell_type": "markdown",
   "metadata": {},
   "source": [
    "## GA4GH Data Connect Level 3 entry point\n",
    "\n",
    "This notebook illustrates what is possible if you want to implement Data Connect and you have a schema or data model which references a semantic standard for your data which resides in some repository of standards and which can be referred to by an id.\n",
    "\n",
    "It is possible that your entire datasource can be defined by reference to an external model. We are working on examples for this. To start with we will look at the situation where properties reference an data element.\n",
    "\n",
    "The following schema lists a subset of the attributes for the CRDC Cancer Data Service Metadata submission template. Three attributes of a subject in that schema are described by Common Data Element identifiers.\n",
    "\n",
    "Note the \"$cde\" key is not standard JSON Schema. The point here is to illustrate the data model (metamodel) required in biomedical use cases where the use of sematic resources such as common data elements is common. "
   ]
  },
  {
   "cell_type": "code",
   "execution_count": 50,
   "metadata": {},
   "outputs": [
    {
     "name": "stdout",
     "output_type": "stream",
     "text": [
      "_Schema for tablebigquery.cds.subject_\n",
      "{\n",
      "   \"name\": \"bigquery.cds.subject\",\n",
      "   \"description\": \"Cancer Data Service (CDS) submission metadata\",\n",
      "   \"data_model\": {\n",
      "      \"$id\": \"\",\n",
      "      \"description\": \"Cancer Data Service (CDS) submission metadata\",\n",
      "      \"$schema\": \"http://json-schema.org/draft-07/schema\",\n",
      "      \"properties\": {\n",
      "         \"sample_age_at_collection\": {\n",
      "            \"type\": \"integer\",\n",
      "            \"description\": \"The number of days from the index date to the date a sample was collected for a specific study or project.\",\n",
      "            \"$unit\": \"days\"\n",
      "         },\n",
      "         \"gender\": {\n",
      "            \"allOf\": [\n",
      "               {\n",
      "                  \"description\": \"Text designations that identify gender. Gender is described as the assemblage of properties that distinguish people on the basis of their societal roles. [Explanatory Comment 1: Identification of gender is based upon self-report and may come from a form, questionnaire, interview, etc.]\"\n",
      "               },\n",
      "               {\n",
      "                  \"$cde\": \"cadsr:2200604\"\n",
      "               }\n",
      "            ]\n",
      "         },\n",
      "         \"ethnicity\": {\n",
      "            \"allOf\": [\n",
      "               {\n",
      "                  \"description\": \"An individual's self-described social and cultural grouping, specifically whether an individual describes themselves as Hispanic or Latino. The provided values are based on the categories defined by the U.S. Office of Management and Business and used by the U.S. Census Bureau.\"\n",
      "               },\n",
      "               {\n",
      "                  \"$cde\": \"cadsr:2192217\"\n",
      "               }\n",
      "            ]\n",
      "         },\n",
      "         \"race\": {\n",
      "            \"allOf\": [\n",
      "               {\n",
      "                  \"description\": \"Race of the subject\"\n",
      "               },\n",
      "               {\n",
      "                  \"$cde\": \"cadsr:2192199\"\n",
      "               }\n",
      "            ]\n",
      "         }\n",
      "      }\n",
      "   }\n",
      "}\n"
     ]
    }
   ],
   "source": [
    "from fasp.search import DataConnectClient\n",
    "cl = DataConnectClient('http://localhost:8089/')\n",
    "cds_schema = cl.listTableInfo('bigquery.cds.subject', verbose=True)"
   ]
  },
  {
   "cell_type": "markdown",
   "metadata": {},
   "source": [
    " We can extract the cde id and property description as follows. "
   ]
  },
  {
   "cell_type": "code",
   "execution_count": 55,
   "metadata": {},
   "outputs": [
    {
     "data": {
      "text/plain": [
       "'cadsr:2192217'"
      ]
     },
     "execution_count": 55,
     "metadata": {},
     "output_type": "execute_result"
    }
   ],
   "source": [
    "prprty = cds_schema.schema['data_model']['properties']['ethnicity']\n",
    "allOf = prprty['allOf']\n",
    "our_cde = [x['$cde'] for x in allOf if \"$cde\" in x][0]\n",
    "prop_desc = [x['description'] for x in allOf if \"description\" in x][0]\n",
    "our_cde"
   ]
  },
  {
   "cell_type": "markdown",
   "metadata": {},
   "source": [
    "One change made from the CDS Excel schema was to change the raw cde public id to a CURIE, by adding the cadsr prefix. We registered that prefix a while back.\n",
    "\n",
    "The use of CURIEs has two benefits.\n",
    "* Their compactness makes the schema less bulky, more easily editable and readable\n",
    "* It means our idenrifiers are independent of specific hosts\n",
    "\n",
    "The use of a metaresolver deals with sending the request to the right location.\n",
    "\n",
    "caDSR provides its CDE details as XML, so we use ElementTree to parse the response into a Python object."
   ]
  },
  {
   "cell_type": "code",
   "execution_count": 46,
   "metadata": {},
   "outputs": [],
   "source": [
    "import requests\n",
    "import xml.etree.ElementTree as ET\n",
    "# Use a metaresolver\n",
    "mr = \"http://identifiers.org\"\n",
    "url = mr +\"/\"+our_cde\n",
    "response = requests.get(url)\n",
    "root = ET.fromstring(response.content)"
   ]
  },
  {
   "cell_type": "markdown",
   "metadata": {},
   "source": [
    "We can then use ElementTree to access specific attributes of the CDE.\n",
    "\n",
    "Note that the CDS schema has a different description than that provided within the CDE."
   ]
  },
  {
   "cell_type": "code",
   "execution_count": 61,
   "metadata": {},
   "outputs": [
    {
     "name": "stdout",
     "output_type": "stream",
     "text": [
      "Property definition: An individual's self-described social and cultural grouping, specifically whether an individual describes themselves as Hispanic or Latino. The provided values are based on the categories defined by the U.S. Office of Management and Business and used by the U.S. Census Bureau.\n",
      "________________________________________________________________________________\n",
      "Version: 1.0\n",
      "CDE, Preferred definition: The text for reporting information about ethnicity based on the Office of Management and Budget (OMB) categories.\n",
      "Value domain: https://cadsrapi.nci.nih.gov/cadsrapi41/GetXML?query=ValueDomain&DataElement[@id=E75F33C5-A502-7433-E034-0003BA3F9857]&roleName=valueDomain\n",
      "________________________________________________________________________________\n",
      "Version: 2.0\n",
      "CDE, Preferred definition: The text for reporting information about ethnicity based on the Office of Management and Budget (OMB) categories.\n",
      "Value domain: https://cadsrapi.nci.nih.gov/cadsrapi41/GetXML?query=ValueDomain&DataElement[@id=F54516A5-2AFB-25D2-E034-0003BA3F9857]&roleName=valueDomain\n"
     ]
    }
   ],
   "source": [
    "print (\"Property definition: {}\".format(prop_desc))\n",
    "for c in root.findall(\"./queryResponse/class\"):\n",
    "    print('_'*80)\n",
    "\n",
    "    cde_version = c.find(\"./field/[@name='version']\")\n",
    "    print(\"Version: {}\".format(cde_version.text))\n",
    "    preferredDefinition = c.find(\"./field/[@name='preferredDefinition']\")\n",
    "    print(\"CDE, Preferred definition: {}\".format(preferredDefinition.text))\n",
    "    val_domain = c.find(\"./field/[@name='valueDomain']\")\n",
    "    val_domain_link = val_domain.attrib['{http://www.w3.org/1999/xlink}href']\n",
    "    print(\"Value domain: {}\".format(val_domain_link))\n",
    "    "
   ]
  },
  {
   "cell_type": "markdown",
   "metadata": {},
   "source": [
    "We could of course then use the URLs for Value Domains to get those details. Pausing for now and reviewing next steps\n",
    "* For illustration probably best to show only the latest version of the CDE.\n",
    "* Production versions would have to say which version of a CDE a dataset uses.\n",
    "* Generating the schema for the full CDS template schema and model. \n",
    " * This will likely include examples where unit is part of the CDE and does not need to be recorded in the JSON schema\n",
    "* Comparing how we get the study attributes \n",
    "* Identifying CDEs that have an enumerated value domain e.g. such as the country list seen in other examples"
   ]
  },
  {
   "cell_type": "code",
   "execution_count": null,
   "metadata": {},
   "outputs": [],
   "source": []
  }
 ],
 "metadata": {
  "kernelspec": {
   "display_name": "Python 3 (ipykernel)",
   "language": "python",
   "name": "python3"
  },
  "language_info": {
   "codemirror_mode": {
    "name": "ipython",
    "version": 3
   },
   "file_extension": ".py",
   "mimetype": "text/x-python",
   "name": "python",
   "nbconvert_exporter": "python",
   "pygments_lexer": "ipython3",
   "version": "3.9.7"
  }
 },
 "nbformat": 4,
 "nbformat_minor": 4
}
