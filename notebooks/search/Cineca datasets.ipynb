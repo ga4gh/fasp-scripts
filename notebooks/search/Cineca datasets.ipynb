{
 "cells": [
  {
   "cell_type": "markdown",
   "id": "d96694d8",
   "metadata": {},
   "source": [
    "### Cineca datasets for Cohort Representation hackathon\n",
    "The following lists CINECA synthetic datasets with data that could be explored as part of the Cohort Representation hackathon. \n",
    "\n",
    "The “CINECA synthetic cohort EUROPE CH SIB” phenotypic has been set up in Data Connect.\n",
    "https://zenodo.org/record/5082689#.Yg_Yhi-B1qs\n",
    "\n"
   ]
  },
  {
   "cell_type": "markdown",
   "id": "4dd7ae45",
   "metadata": {},
   "source": [
    "Get a Data Connect client"
   ]
  },
  {
   "cell_type": "code",
   "execution_count": 2,
   "id": "e3fb7c7b",
   "metadata": {
    "scrolled": true
   },
   "outputs": [
    {
     "name": "stderr",
     "output_type": "stream",
     "text": [
      "/Users/forei/imfenvs/fasp/lib/python3.9/site-packages/pandas/compat/__init__.py:124: UserWarning: Could not import the lzma module. Your installed Python is incomplete. Attempting to use lzma compression will result in a RuntimeError.\n",
      "  warnings.warn(msg)\n"
     ]
    }
   ],
   "source": [
    "from fasp.search import DataConnectClient\n",
    "cl = DataConnectClient('http://localhost:8089/')"
   ]
  },
  {
   "cell_type": "markdown",
   "id": "2c164b6f",
   "metadata": {},
   "source": [
    "### Example Data Connect query for EUROPE CH SIB cohort\n",
    "\n"
   ]
  },
  {
   "cell_type": "markdown",
   "id": "49fa041f",
   "metadata": {},
   "source": [
    "### Schema listing\n",
    "\n",
    "The raw listing of the Data Connect schema for the phenotypic data is as follows. The schema has not yet been updated for all columns in the dataset. (Manual process - no machine readable dictionary was found)."
   ]
  },
  {
   "cell_type": "code",
   "execution_count": 3,
   "id": "810cf40e",
   "metadata": {},
   "outputs": [
    {
     "name": "stdout",
     "output_type": "stream",
     "text": [
      "_Schema for tablebigquery.cineca.syn_Europe_CH_SIB_\n",
      "{\n",
      "   \"name\": \"bigquery.cineca.syn_Europe_CH_SIB\",\n",
      "   \"description\": \"Scrambled version of sample data for phs001554 Colorectal cancer susceptibility study.\",\n",
      "   \"data_model\": {\n",
      "      \"$id\": \"phs001554.v1.pht007610.v1.GECCO_CRC_Susceptibility_Sample_Attributes\",\n",
      "      \"description\": \"Scrambled version of sample data for phs001554 Colorectal cancer susceptibility study.\",\n",
      "      \"$schema\": \"http://json-schema.org/draft-07/schema\",\n",
      "      \"properties\": {\n",
      "         \"pt\": {\n",
      "            \"type\": \"string\",\n",
      "            \"description\": \"Patient identifier\"\n",
      "         },\n",
      "         \"phyact\": {\n",
      "            \"type\": \"string\",\n",
      "            \"oneOf\": [\n",
      "               {\n",
      "                  \"const\": \">3WK\"\n",
      "               },\n",
      "               {\n",
      "                  \"const\": \"1WK\"\n",
      "               },\n",
      "               {\n",
      "                  \"const\": \"2WK\"\n",
      "               },\n",
      "               {\n",
      "                  \"const\": \"K\"\n",
      "               },\n",
      "               {\n",
      "                  \"const\": \"N\"\n",
      "               }\n",
      "            ],\n",
      "            \"description\": \"physical activity\"\n",
      "         },\n",
      "         \"alcfrq\": {\n",
      "            \"type\": \"string\",\n",
      "            \"oneOf\": [\n",
      "               {\n",
      "                  \"const\": \"1D\"\n",
      "               },\n",
      "               {\n",
      "                  \"const\": \"2D\"\n",
      "               },\n",
      "               {\n",
      "                  \"const\": \"2WK\"\n",
      "               },\n",
      "               {\n",
      "                  \"const\": \"3D\"\n",
      "               },\n",
      "               {\n",
      "                  \"const\": \"N\"\n",
      "               },\n",
      "               {\n",
      "                  \"const\": \"R\"\n",
      "               },\n",
      "               {\n",
      "                  \"const\": \"SW\"\n",
      "               }\n",
      "            ],\n",
      "            \"description\": \"alcohol use - frequency\"\n",
      "         },\n",
      "         \"sbsmk\": {\n",
      "            \"type\": \"string\",\n",
      "            \"oneOf\": [\n",
      "               {\n",
      "                  \"const\": \"F\"\n",
      "               },\n",
      "               {\n",
      "                  \"const\": \"N\"\n",
      "               },\n",
      "               {\n",
      "                  \"const\": \"S\"\n",
      "               }\n",
      "            ],\n",
      "            \"description\": \"tobacco  use\"\n",
      "         },\n",
      "         \"ethori_self\": {\n",
      "            \"type\": \"string\",\n",
      "            \"oneOf\": [\n",
      "               {\n",
      "                  \"const\": \"A\"\n",
      "               },\n",
      "               {\n",
      "                  \"const\": \"B\"\n",
      "               },\n",
      "               {\n",
      "                  \"const\": \"K\"\n",
      "               },\n",
      "               {\n",
      "                  \"const\": \"O\"\n",
      "               },\n",
      "               {\n",
      "                  \"const\": \"W\"\n",
      "               },\n",
      "               {\n",
      "                  \"const\": \"X\"\n",
      "               }\n",
      "            ],\n",
      "            \"description\": \"Ethnic origin - self reported\"\n",
      "         },\n",
      "         \"wt\": {\n",
      "            \"type\": \"number\",\n",
      "            \"$unit\": \"kg\",\n",
      "            \"description\": \"weight\"\n",
      "         },\n",
      "         \"ht\": {\n",
      "            \"type\": \"number\",\n",
      "            \"$unit\": \"cm\",\n",
      "            \"description\": \"height\"\n",
      "         },\n",
      "         \"HRTRTE\": {\n",
      "            \"type\": \"number\",\n",
      "            \"unit\": \"bpm\",\n",
      "            \"description\": \"heart rate\"\n",
      "         },\n",
      "         \"SBP\": {\n",
      "            \"type\": \"number\",\n",
      "            \"$unit\": \"mmHg\",\n",
      "            \"description\": \"Systolic Blood Pressure\"\n",
      "         },\n",
      "         \"DBP\": {\n",
      "            \"type\": \"number\",\n",
      "            \"$unit\": \"mmHg\",\n",
      "            \"description\": \"Diastolic Blood Pressure\"\n",
      "         },\n",
      "         \"cmatccd1_2\": {\n",
      "            \"type\": \"string\",\n",
      "            \"description\": \"prescription - ATC code\"\n",
      "         },\n",
      "         \"cmatccd1_3\": {\n",
      "            \"type\": \"string\",\n",
      "            \"description\": \"prescription - ATC code\"\n",
      "         }\n",
      "      },\n",
      "      \"type\": \"object\"\n",
      "   }\n",
      "}\n"
     ]
    },
    {
     "data": {
      "text/plain": [
       "<fasp.search.data_connect_client.SearchSchema at 0x12c840790>"
      ]
     },
     "execution_count": 3,
     "metadata": {},
     "output_type": "execute_result"
    }
   ],
   "source": [
    "cl.listTableInfo('bigquery.cineca.syn_Europe_CH_SIB', verbose=True)"
   ]
  },
  {
   "cell_type": "markdown",
   "id": "015d24f1",
   "metadata": {},
   "source": [
    "#### Example query on blood pressure"
   ]
  },
  {
   "cell_type": "code",
   "execution_count": null,
   "id": "497b58d0",
   "metadata": {},
   "outputs": [],
   "source": [
    "query = '''select pt, sbp, dbp \n",
    "from bigquery.cineca.syn_Europe_CH_SIB\n",
    "where SBP > 200 and dbp > 120'''\n",
    "res = cl.runQuery(query, returnType='dataframe')\n",
    "res\n"
   ]
  },
  {
   "cell_type": "code",
   "execution_count": null,
   "id": "05f749bc",
   "metadata": {},
   "outputs": [],
   "source": []
  }
 ],
 "metadata": {
  "kernelspec": {
   "display_name": "Python 3 (ipykernel)",
   "language": "python",
   "name": "python3"
  },
  "language_info": {
   "codemirror_mode": {
    "name": "ipython",
    "version": 3
   },
   "file_extension": ".py",
   "mimetype": "text/x-python",
   "name": "python",
   "nbconvert_exporter": "python",
   "pygments_lexer": "ipython3",
   "version": "3.9.7"
  }
 },
 "nbformat": 4,
 "nbformat_minor": 5
}
