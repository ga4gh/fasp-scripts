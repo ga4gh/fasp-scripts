{
 "cells": [
  {
   "cell_type": "markdown",
   "metadata": {},
   "source": [
    "## Driving an Jupyter notebook from GA4GH Data Connect schema\n",
    "This notebook explores how the schema available via GA4GH Data Connect can be used to drive a user interface. In this case a Jupyter notebook.\n",
    "\n",
    "\n",
    ">Note: The sequence files used in this notebook are  under controlled access. You will not be able to access those files unless you have been granted access through dbGaP to the phs001554 study. If you have that access you will also have access to the non-scrambled subject and sample data. If that is the case, we would be pleased to hear of your interest, and the possibility of collaborating to ensure the GA4GH tools described here enable your studies. Please see [form to register interest](https://docs.google.com/forms/d/e/1FAIpQLSfmmc3VKd6ANdzaVMyelT3c9gIWuoS4ZwT0vsqD-o2ZRxJf7A/viewform)"
   ]
  },
  {
   "cell_type": "code",
   "execution_count": 11,
   "metadata": {},
   "outputs": [],
   "source": [
    "from fasp.search import DataConnectClient\n",
    "searchClient = DataConnectClient('http://localhost:8089/')"
   ]
  },
  {
   "cell_type": "code",
   "execution_count": 19,
   "metadata": {},
   "outputs": [
    {
     "name": "stdout",
     "output_type": "stream",
     "text": [
      "Retrieving the query\n",
      "____Page1_______________\n",
      "____Page2_______________\n",
      "____Page3_______________\n",
      "____Page4_______________\n",
      "____Page5_______________\n",
      "____Page6_______________\n",
      "____Page7_______________\n",
      "____Page8_______________\n",
      "____Page9_______________\n",
      "____Page10_______________\n"
     ]
    }
   ],
   "source": [
    "query = '''SELECT f.sample_name, drs_id bam_drs_id, acc, population, \n",
    "race, ethnicity, weight\n",
    "FROM tutorial.onek_genomes.ssd_drs s \n",
    "join tutorial.onek_genomes.sra_drs_files f on f.sample_name = s.su_submitter_id \n",
    "where filetype = 'bam' and mapped = 'mapped' \n",
    "and sequencing_type ='exome'  \n",
    " '''\n",
    "df = searchClient.runQuery(query, returnType='dataframe')"
   ]
  },
  {
   "cell_type": "code",
   "execution_count": 20,
   "metadata": {},
   "outputs": [
    {
     "data": {
      "text/html": [
       "<div>\n",
       "<style scoped>\n",
       "    .dataframe tbody tr th:only-of-type {\n",
       "        vertical-align: middle;\n",
       "    }\n",
       "\n",
       "    .dataframe tbody tr th {\n",
       "        vertical-align: top;\n",
       "    }\n",
       "\n",
       "    .dataframe thead th {\n",
       "        text-align: right;\n",
       "    }\n",
       "</style>\n",
       "<table border=\"1\" class=\"dataframe\">\n",
       "  <thead>\n",
       "    <tr style=\"text-align: right;\">\n",
       "      <th></th>\n",
       "      <th>sample_name</th>\n",
       "      <th>bam_drs_id</th>\n",
       "      <th>acc</th>\n",
       "      <th>population</th>\n",
       "      <th>race</th>\n",
       "      <th>ethnicity</th>\n",
       "      <th>weight</th>\n",
       "    </tr>\n",
       "  </thead>\n",
       "  <tbody>\n",
       "    <tr>\n",
       "      <th>0</th>\n",
       "      <td>HG00126</td>\n",
       "      <td>c920c2d573cde0550babb81084d4ca9a</td>\n",
       "      <td>SRR1599309</td>\n",
       "      <td>GBR</td>\n",
       "      <td>None</td>\n",
       "      <td>None</td>\n",
       "      <td>None</td>\n",
       "    </tr>\n",
       "    <tr>\n",
       "      <th>1</th>\n",
       "      <td>HG00129</td>\n",
       "      <td>e52e3b0b68e4820099af23e26f39389b</td>\n",
       "      <td>SRR1600428</td>\n",
       "      <td>GBR</td>\n",
       "      <td>None</td>\n",
       "      <td>None</td>\n",
       "      <td>None</td>\n",
       "    </tr>\n",
       "    <tr>\n",
       "      <th>2</th>\n",
       "      <td>HG00148</td>\n",
       "      <td>f9f929c42759a7a2560f8d1881ff6269</td>\n",
       "      <td>SRR1600444</td>\n",
       "      <td>GBR</td>\n",
       "      <td>None</td>\n",
       "      <td>None</td>\n",
       "      <td>None</td>\n",
       "    </tr>\n",
       "    <tr>\n",
       "      <th>3</th>\n",
       "      <td>HG01280</td>\n",
       "      <td>27f417c7e8efe1e7e2a8ff6d5bf0d601</td>\n",
       "      <td>SRR1606941</td>\n",
       "      <td>CLM</td>\n",
       "      <td>None</td>\n",
       "      <td>None</td>\n",
       "      <td>None</td>\n",
       "    </tr>\n",
       "    <tr>\n",
       "      <th>4</th>\n",
       "      <td>HG03298</td>\n",
       "      <td>21dfd21d80bd593440d2d5a3fe0cdb92</td>\n",
       "      <td>SRR1602396</td>\n",
       "      <td>ESN</td>\n",
       "      <td>None</td>\n",
       "      <td>None</td>\n",
       "      <td>None</td>\n",
       "    </tr>\n",
       "    <tr>\n",
       "      <th>...</th>\n",
       "      <td>...</td>\n",
       "      <td>...</td>\n",
       "      <td>...</td>\n",
       "      <td>...</td>\n",
       "      <td>...</td>\n",
       "      <td>...</td>\n",
       "      <td>...</td>\n",
       "    </tr>\n",
       "    <tr>\n",
       "      <th>2499</th>\n",
       "      <td>NA19095</td>\n",
       "      <td>9b10a7d693344e9f6f69dcac7eeccb64</td>\n",
       "      <td>SRR1604303</td>\n",
       "      <td>YRI</td>\n",
       "      <td>None</td>\n",
       "      <td>None</td>\n",
       "      <td>None</td>\n",
       "    </tr>\n",
       "    <tr>\n",
       "      <th>2500</th>\n",
       "      <td>NA19129</td>\n",
       "      <td>1e686490f1d847d5271e1a134957b15c</td>\n",
       "      <td>SRR1603935</td>\n",
       "      <td>YRI</td>\n",
       "      <td>None</td>\n",
       "      <td>None</td>\n",
       "      <td>None</td>\n",
       "    </tr>\n",
       "    <tr>\n",
       "      <th>2501</th>\n",
       "      <td>NA19093</td>\n",
       "      <td>aaf7ee048af703a0a131cd17eeb94598</td>\n",
       "      <td>SRR1606676</td>\n",
       "      <td>YRI</td>\n",
       "      <td>None</td>\n",
       "      <td>None</td>\n",
       "      <td>None</td>\n",
       "    </tr>\n",
       "    <tr>\n",
       "      <th>2502</th>\n",
       "      <td>NA19201</td>\n",
       "      <td>755339fc875c0ae8bf4a27ff3186c9e5</td>\n",
       "      <td>SRR1603916</td>\n",
       "      <td>YRI</td>\n",
       "      <td>None</td>\n",
       "      <td>None</td>\n",
       "      <td>None</td>\n",
       "    </tr>\n",
       "    <tr>\n",
       "      <th>2503</th>\n",
       "      <td>NA19147</td>\n",
       "      <td>9b12131e82971e8c985ca83362bc9b26</td>\n",
       "      <td>SRR1603613</td>\n",
       "      <td>YRI</td>\n",
       "      <td>None</td>\n",
       "      <td>None</td>\n",
       "      <td>None</td>\n",
       "    </tr>\n",
       "  </tbody>\n",
       "</table>\n",
       "<p>2504 rows × 7 columns</p>\n",
       "</div>"
      ],
      "text/plain": [
       "     sample_name                        bam_drs_id         acc population  \\\n",
       "0        HG00126  c920c2d573cde0550babb81084d4ca9a  SRR1599309        GBR   \n",
       "1        HG00129  e52e3b0b68e4820099af23e26f39389b  SRR1600428        GBR   \n",
       "2        HG00148  f9f929c42759a7a2560f8d1881ff6269  SRR1600444        GBR   \n",
       "3        HG01280  27f417c7e8efe1e7e2a8ff6d5bf0d601  SRR1606941        CLM   \n",
       "4        HG03298  21dfd21d80bd593440d2d5a3fe0cdb92  SRR1602396        ESN   \n",
       "...          ...                               ...         ...        ...   \n",
       "2499     NA19095  9b10a7d693344e9f6f69dcac7eeccb64  SRR1604303        YRI   \n",
       "2500     NA19129  1e686490f1d847d5271e1a134957b15c  SRR1603935        YRI   \n",
       "2501     NA19093  aaf7ee048af703a0a131cd17eeb94598  SRR1606676        YRI   \n",
       "2502     NA19201  755339fc875c0ae8bf4a27ff3186c9e5  SRR1603916        YRI   \n",
       "2503     NA19147  9b12131e82971e8c985ca83362bc9b26  SRR1603613        YRI   \n",
       "\n",
       "      race ethnicity weight  \n",
       "0     None      None   None  \n",
       "1     None      None   None  \n",
       "2     None      None   None  \n",
       "3     None      None   None  \n",
       "4     None      None   None  \n",
       "...    ...       ...    ...  \n",
       "2499  None      None   None  \n",
       "2500  None      None   None  \n",
       "2501  None      None   None  \n",
       "2502  None      None   None  \n",
       "2503  None      None   None  \n",
       "\n",
       "[2504 rows x 7 columns]"
      ]
     },
     "execution_count": 20,
     "metadata": {},
     "output_type": "execute_result"
    }
   ],
   "source": [
    "df"
   ]
  },
  {
   "cell_type": "code",
   "execution_count": 21,
   "metadata": {},
   "outputs": [
    {
     "name": "stdout",
     "output_type": "stream",
     "text": [
      "{'population': ['ACB', 'ASW', 'BEB', 'CDX', 'CEU', 'CHB', 'CHS', 'CLM', 'ESN', 'FIN', 'GBR', 'GIH', 'GWD', 'IBS', 'ITU', 'JPT', 'KHV', 'LWK', 'MSL', 'MXL', 'PEL', 'PJL', 'PUR', 'STU', 'TSI', 'YRI']}\n"
     ]
    }
   ],
   "source": [
    "def getColValues(info, columns):\n",
    "    enumVals = {}\n",
    "    for column in columns:\n",
    "        var = info['data_model']['properties'][column]\n",
    "        valueList = []\n",
    "        for value in var['oneOf']:\n",
    "            valueList.append(value['const'])\n",
    "        enumVals[column] = valueList\n",
    "    return enumVals\n",
    "    \n",
    "info = searchClient.listTableInfo('tutorial.onek_genomes.ssd_drs').schema\n",
    "#enumCols = getColValues(info, ['population', 'sex', 'race', 'study'])\n",
    "enumCols = getColValues(info, ['population'])\n",
    "\n",
    "print(enumCols)"
   ]
  },
  {
   "cell_type": "markdown",
   "metadata": {},
   "source": [
    "### Build a study specific user interface from the information the GA4GH Data Connect Schema\n",
    "Use IPython widgets to filter data from the retrived data frame. the controls of the interface are configured using the schema provided by GA4GH Search."
   ]
  },
  {
   "cell_type": "code",
   "execution_count": 22,
   "metadata": {},
   "outputs": [
    {
     "data": {
      "application/vnd.jupyter.widget-view+json": {
       "model_id": "79b924f43d8b4361b6dd92f8b1a518d9",
       "version_major": 2,
       "version_minor": 0
      },
      "text/plain": [
       "interactive(children=(Dropdown(description='population', options=('ACB', 'ASW', 'BEB', 'CDX', 'CEU', 'CHB', 'C…"
      ]
     },
     "metadata": {},
     "output_type": "display_data"
    }
   ],
   "source": [
    "import ipywidgets as widgets\n",
    "from ipywidgets import interact, interact_manual, IntRangeSlider\n",
    "\n",
    "def filter_gecco(\n",
    "                 population=enumCols['population']\n",
    "                ):\n",
    "    \n",
    "    selected_df = df.loc[ (df['population'] == population) ]\n",
    "    drs_ids = selected_df['bam_drs_id'].tolist()\n",
    "    return drs_ids\n",
    "\n",
    "drs_list = interact(filter_gecco,  \n",
    "\n",
    "                 population=enumCols['population']\n",
    "                )"
   ]
  },
  {
   "cell_type": "markdown",
   "metadata": {},
   "source": [
    "To do: Retrieve the filtered data frame and submit the selected files for compute."
   ]
  },
  {
   "cell_type": "code",
   "execution_count": 4,
   "metadata": {},
   "outputs": [
    {
     "name": "stdout",
     "output_type": "stream",
     "text": [
      "drsID=s\n",
      "{\"msg\":\"No bundle found\",\"status_code\":404}\n",
      "\n"
     ]
    },
    {
     "ename": "TypeError",
     "evalue": "'int' object is not subscriptable",
     "output_type": "error",
     "traceback": [
      "\u001b[0;31m---------------------------------------------------------------------------\u001b[0m",
      "\u001b[0;31mTypeError\u001b[0m                                 Traceback (most recent call last)",
      "\u001b[0;32m/var/folders/wz/jjbxsnr13v7dkw2jkbpmqd_dly65gq/T/ipykernel_71605/2989114030.py\u001b[0m in \u001b[0;36m<module>\u001b[0;34m\u001b[0m\n\u001b[1;32m      5\u001b[0m \u001b[0;34m\u001b[0m\u001b[0m\n\u001b[1;32m      6\u001b[0m \u001b[0mfaspRunner\u001b[0m\u001b[0;34m.\u001b[0m\u001b[0mconfigure\u001b[0m\u001b[0;34m(\u001b[0m\u001b[0msearchClient\u001b[0m\u001b[0;34m,\u001b[0m \u001b[0mdrsClient\u001b[0m\u001b[0;34m,\u001b[0m \u001b[0mwesClient\u001b[0m\u001b[0;34m)\u001b[0m\u001b[0;34m\u001b[0m\u001b[0;34m\u001b[0m\u001b[0m\n\u001b[0;32m----> 7\u001b[0;31m \u001b[0mrun_ids\u001b[0m \u001b[0;34m=\u001b[0m \u001b[0mfaspRunner\u001b[0m\u001b[0;34m.\u001b[0m\u001b[0mrunDRSIDs\u001b[0m\u001b[0;34m(\u001b[0m\u001b[0mquery\u001b[0m\u001b[0;34m,\u001b[0m \u001b[0mrunNote\u001b[0m\u001b[0;34m)\u001b[0m\u001b[0;34m\u001b[0m\u001b[0;34m\u001b[0m\u001b[0m\n\u001b[0m\u001b[1;32m      8\u001b[0m \u001b[0;32mimport\u001b[0m \u001b[0mpandas\u001b[0m \u001b[0;32mas\u001b[0m \u001b[0mpd\u001b[0m\u001b[0;34m\u001b[0m\u001b[0;34m\u001b[0m\u001b[0m\n\u001b[1;32m      9\u001b[0m \u001b[0mruns_df\u001b[0m \u001b[0;34m=\u001b[0m \u001b[0mpd\u001b[0m\u001b[0;34m.\u001b[0m\u001b[0mDataFrame\u001b[0m\u001b[0;34m(\u001b[0m\u001b[0mrun_ids\u001b[0m\u001b[0;34m)\u001b[0m\u001b[0;34m\u001b[0m\u001b[0;34m\u001b[0m\u001b[0m\n",
      "\u001b[0;32m~/imfenvs/fasp/lib/python3.9/site-packages/fasp/runner/fasp_runner.py\u001b[0m in \u001b[0;36mrunDRSIDs\u001b[0;34m(self, idList, note)\u001b[0m\n\u001b[1;32m    126\u001b[0m                         \u001b[0mobjInfo\u001b[0m \u001b[0;34m=\u001b[0m \u001b[0mself\u001b[0m\u001b[0;34m.\u001b[0m\u001b[0mdrsClient\u001b[0m\u001b[0;34m.\u001b[0m\u001b[0mgetObject\u001b[0m\u001b[0;34m(\u001b[0m\u001b[0mdrs_id\u001b[0m\u001b[0;34m)\u001b[0m\u001b[0;34m\u001b[0m\u001b[0;34m\u001b[0m\u001b[0m\n\u001b[1;32m    127\u001b[0m                         \u001b[0mcreditor\u001b[0m\u001b[0;34m.\u001b[0m\u001b[0mcreditClass\u001b[0m\u001b[0;34m(\u001b[0m\u001b[0mself\u001b[0m\u001b[0;34m.\u001b[0m\u001b[0mdrsClient\u001b[0m\u001b[0;34m)\u001b[0m\u001b[0;34m\u001b[0m\u001b[0;34m\u001b[0m\u001b[0m\n\u001b[0;32m--> 128\u001b[0;31m                         \u001b[0mfileSize\u001b[0m \u001b[0;34m=\u001b[0m \u001b[0mobjInfo\u001b[0m\u001b[0;34m[\u001b[0m\u001b[0;34m'size'\u001b[0m\u001b[0;34m]\u001b[0m\u001b[0;34m\u001b[0m\u001b[0;34m\u001b[0m\u001b[0m\n\u001b[0m\u001b[1;32m    129\u001b[0m                         \u001b[0;31m# we've predetermined we want to use the gs copy in this case\u001b[0m\u001b[0;34m\u001b[0m\u001b[0;34m\u001b[0m\u001b[0m\n\u001b[1;32m    130\u001b[0m                         \u001b[0murl\u001b[0m \u001b[0;34m=\u001b[0m \u001b[0mself\u001b[0m\u001b[0;34m.\u001b[0m\u001b[0mdrsClient\u001b[0m\u001b[0;34m.\u001b[0m\u001b[0mgetAccessURL\u001b[0m\u001b[0;34m(\u001b[0m\u001b[0mdrs_id\u001b[0m\u001b[0;34m)\u001b[0m\u001b[0;34m\u001b[0m\u001b[0;34m\u001b[0m\u001b[0m\n",
      "\u001b[0;31mTypeError\u001b[0m: 'int' object is not subscriptable"
     ]
    }
   ],
   "source": [
    "drsClient = crdcDRSClient('/Users/forei/.keys/crdc_credentials.json', 's3')\n",
    "\n",
    "settings = faspRunner.settings\n",
    "wesClient = sbcgcWESClient(settings['SevenBridgesProject'])\n",
    "\n",
    "faspRunner.configure(searchClient, drsClient, wesClient)\n",
    "run_ids = faspRunner.runDRSIDs(query, runNote)\n",
    "import pandas as pd\n",
    "runs_df = pd.DataFrame(run_ids)\n",
    "runs_df"
   ]
  },
  {
   "cell_type": "code",
   "execution_count": 86,
   "metadata": {},
   "outputs": [
    {
     "data": {
      "text/html": [
       "<div>\n",
       "<style scoped>\n",
       "    .dataframe tbody tr th:only-of-type {\n",
       "        vertical-align: middle;\n",
       "    }\n",
       "\n",
       "    .dataframe tbody tr th {\n",
       "        vertical-align: top;\n",
       "    }\n",
       "\n",
       "    .dataframe thead th {\n",
       "        text-align: right;\n",
       "    }\n",
       "</style>\n",
       "<table border=\"1\" class=\"dataframe\">\n",
       "  <thead>\n",
       "    <tr style=\"text-align: right;\">\n",
       "      <th></th>\n",
       "      <th>acc</th>\n",
       "      <th>sample_id</th>\n",
       "      <th>sex</th>\n",
       "      <th>age</th>\n",
       "      <th>run_id</th>\n",
       "    </tr>\n",
       "  </thead>\n",
       "  <tbody>\n",
       "    <tr>\n",
       "      <th>0</th>\n",
       "      <td>SRR7271762</td>\n",
       "      <td>117454</td>\n",
       "      <td>Male</td>\n",
       "      <td>54</td>\n",
       "      <td>95070d33-b4f0-46f9-9aa7-82ee0b0123b4</td>\n",
       "    </tr>\n",
       "    <tr>\n",
       "      <th>1</th>\n",
       "      <td>SRR7271780</td>\n",
       "      <td>117477</td>\n",
       "      <td>Female</td>\n",
       "      <td>55</td>\n",
       "      <td>7bac5691-d9fb-4e05-8d03-8b6979b08ab9</td>\n",
       "    </tr>\n",
       "    <tr>\n",
       "      <th>2</th>\n",
       "      <td>SRR7271789</td>\n",
       "      <td>117486</td>\n",
       "      <td>Male</td>\n",
       "      <td>55</td>\n",
       "      <td>7cf35851-2f16-4b87-94fa-132b54960ba6</td>\n",
       "    </tr>\n",
       "  </tbody>\n",
       "</table>\n",
       "</div>"
      ],
      "text/plain": [
       "          acc sample_id     sex  age                                run_id\n",
       "0  SRR7271762    117454    Male   54  95070d33-b4f0-46f9-9aa7-82ee0b0123b4\n",
       "1  SRR7271780    117477  Female   55  7bac5691-d9fb-4e05-8d03-8b6979b08ab9\n",
       "2  SRR7271789    117486    Male   55  7cf35851-2f16-4b87-94fa-132b54960ba6"
      ]
     },
     "execution_count": 86,
     "metadata": {},
     "output_type": "execute_result"
    }
   ],
   "source": [
    "merged_df = pd.merge(\n",
    "    df,\n",
    "    runs_df,\n",
    "    how=\"inner\",\n",
    "    left_on='acc',\n",
    "    right_on='subject'\n",
    ")\n",
    "merged_df.drop('subject', axis=1, inplace=True)\n",
    "merged_df.drop('drs_id', axis=1, inplace=True)\n",
    "merged_df.to_csv('~/mywork.csv')\n",
    "merged_df"
   ]
  },
  {
   "cell_type": "code",
   "execution_count": 9,
   "metadata": {},
   "outputs": [
    {
     "data": {
      "image/png": "[encoded data removed]",
      "text/plain": [
       "<PIL.Image.Image image mode=RGB size=60x60 at 0x1280BEA90>"
      ]
     },
     "execution_count": 9,
     "metadata": {},
     "output_type": "execute_result"
    }
   ],
   "source": [
    "faspRunner.getFASPicon()"
   ]
  },
  {
   "cell_type": "markdown",
   "metadata": {},
   "source": [
    "Update the dataframe with the status of the runs"
   ]
  },
  {
   "cell_type": "code",
   "execution_count": 92,
   "metadata": {},
   "outputs": [
    {
     "data": {
      "text/html": [
       "<div>\n",
       "<style scoped>\n",
       "    .dataframe tbody tr th:only-of-type {\n",
       "        vertical-align: middle;\n",
       "    }\n",
       "\n",
       "    .dataframe tbody tr th {\n",
       "        vertical-align: top;\n",
       "    }\n",
       "\n",
       "    .dataframe thead th {\n",
       "        text-align: right;\n",
       "    }\n",
       "</style>\n",
       "<table border=\"1\" class=\"dataframe\">\n",
       "  <thead>\n",
       "    <tr style=\"text-align: right;\">\n",
       "      <th></th>\n",
       "      <th>acc</th>\n",
       "      <th>sample_id</th>\n",
       "      <th>sex</th>\n",
       "      <th>age</th>\n",
       "      <th>run_id</th>\n",
       "      <th>status</th>\n",
       "    </tr>\n",
       "  </thead>\n",
       "  <tbody>\n",
       "    <tr>\n",
       "      <th>0</th>\n",
       "      <td>SRR7271762</td>\n",
       "      <td>117454</td>\n",
       "      <td>Male</td>\n",
       "      <td>54</td>\n",
       "      <td>95070d33-b4f0-46f9-9aa7-82ee0b0123b4</td>\n",
       "      <td>COMPLETE</td>\n",
       "    </tr>\n",
       "    <tr>\n",
       "      <th>1</th>\n",
       "      <td>SRR7271780</td>\n",
       "      <td>117477</td>\n",
       "      <td>Female</td>\n",
       "      <td>55</td>\n",
       "      <td>7bac5691-d9fb-4e05-8d03-8b6979b08ab9</td>\n",
       "      <td>COMPLETE</td>\n",
       "    </tr>\n",
       "    <tr>\n",
       "      <th>2</th>\n",
       "      <td>SRR7271789</td>\n",
       "      <td>117486</td>\n",
       "      <td>Male</td>\n",
       "      <td>55</td>\n",
       "      <td>7cf35851-2f16-4b87-94fa-132b54960ba6</td>\n",
       "      <td>COMPLETE</td>\n",
       "    </tr>\n",
       "  </tbody>\n",
       "</table>\n",
       "</div>"
      ],
      "text/plain": [
       "          acc sample_id     sex  age                                run_id  \\\n",
       "0  SRR7271762    117454    Male   54  95070d33-b4f0-46f9-9aa7-82ee0b0123b4   \n",
       "1  SRR7271780    117477  Female   55  7bac5691-d9fb-4e05-8d03-8b6979b08ab9   \n",
       "2  SRR7271789    117486    Male   55  7cf35851-2f16-4b87-94fa-132b54960ba6   \n",
       "\n",
       "     status  \n",
       "0  COMPLETE  \n",
       "1  COMPLETE  \n",
       "2  COMPLETE  "
      ]
     },
     "execution_count": 92,
     "metadata": {},
     "output_type": "execute_result"
    }
   ],
   "source": [
    "for index, row in merged_df.iterrows():\n",
    "    status = wesClient.getTaskStatus(row['run_id'])\n",
    "    merged_df.at[index, \"status\"] = status\n",
    "merged_df"
   ]
  },
  {
   "cell_type": "markdown",
   "metadata": {},
   "source": [
    "Once the runs have completed the results can be retrieved.\n",
    "\n",
    "First two convenience functions are defined"
   ]
  },
  {
   "cell_type": "code",
   "execution_count": 93,
   "metadata": {},
   "outputs": [],
   "source": [
    "import requests\n",
    "import os\n",
    "def download(url, file_path):\n",
    "    with open(os.path.expanduser(file_path), \"wb\") as file:\n",
    "        response = requests.get(url)\n",
    "        file.write(response.content)\n",
    "        \n",
    "def getStats(filePath, statsList):\n",
    "    ''' Extract values from a SAMTools Stats results file'''\n",
    "    ### \n",
    "    \n",
    "    retDict = {}\n",
    "    f = open(filePath, \"r\")\n",
    "    for x in f:\n",
    "        if x.startswith('SN'):   \n",
    "            parts = x.split('\\t')\n",
    "            statName = parts[1].split(':')[0]\n",
    "            if statName in statsList:\n",
    "                retDict[statName] = parts[2].rstrip()\n",
    "    return retDict\n",
    "        \n"
   ]
  },
  {
   "cell_type": "code",
   "execution_count": 97,
   "metadata": {},
   "outputs": [
    {
     "name": "stdout",
     "output_type": "stream",
     "text": [
      "Searching the GA4GH registry for org.ga4gh:drs services\n"
     ]
    }
   ],
   "source": [
    "from fasp.loc import DRSMetaResolver\n",
    "mr = DRSMetaResolver()\n",
    "statsList = []\n",
    "for index, row in merged_df.iterrows():\n",
    "    log = wesClient.GetRunLog(row['run_id'])\n",
    "    resultsDRSID = log['outputs']['statistics']['path']\n",
    "    url = mr.getAccessURL2(resultsDRSID,'s3')\n",
    "    fileName = log['outputs']['statistics']['name']\n",
    "    download(url, fileName)\n",
    "    statsRequired = ['insert size average','insert size standard deviation']\n",
    "    stats = getStats(fileName, statsRequired)\n",
    "    stats['acc'] = row['acc']\n",
    "    statsList.append(stats)\n",
    "    os.remove(fileName)\n",
    "stats_df =  pd.DataFrame(statsList)"
   ]
  },
  {
   "cell_type": "code",
   "execution_count": 98,
   "metadata": {},
   "outputs": [
    {
     "data": {
      "text/html": [
       "<div>\n",
       "<style scoped>\n",
       "    .dataframe tbody tr th:only-of-type {\n",
       "        vertical-align: middle;\n",
       "    }\n",
       "\n",
       "    .dataframe tbody tr th {\n",
       "        vertical-align: top;\n",
       "    }\n",
       "\n",
       "    .dataframe thead th {\n",
       "        text-align: right;\n",
       "    }\n",
       "</style>\n",
       "<table border=\"1\" class=\"dataframe\">\n",
       "  <thead>\n",
       "    <tr style=\"text-align: right;\">\n",
       "      <th></th>\n",
       "      <th>insert size average</th>\n",
       "      <th>insert size standard deviation</th>\n",
       "      <th>acc</th>\n",
       "    </tr>\n",
       "  </thead>\n",
       "  <tbody>\n",
       "    <tr>\n",
       "      <th>0</th>\n",
       "      <td>353.2</td>\n",
       "      <td>90.4</td>\n",
       "      <td>SRR7271762</td>\n",
       "    </tr>\n",
       "    <tr>\n",
       "      <th>1</th>\n",
       "      <td>346.4</td>\n",
       "      <td>84.8</td>\n",
       "      <td>SRR7271780</td>\n",
       "    </tr>\n",
       "    <tr>\n",
       "      <th>2</th>\n",
       "      <td>334.9</td>\n",
       "      <td>92.1</td>\n",
       "      <td>SRR7271789</td>\n",
       "    </tr>\n",
       "  </tbody>\n",
       "</table>\n",
       "</div>"
      ],
      "text/plain": [
       "  insert size average insert size standard deviation         acc\n",
       "0               353.2                           90.4  SRR7271762\n",
       "1               346.4                           84.8  SRR7271780\n",
       "2               334.9                           92.1  SRR7271789"
      ]
     },
     "execution_count": 98,
     "metadata": {},
     "output_type": "execute_result"
    }
   ],
   "source": [
    "stats_df"
   ]
  },
  {
   "cell_type": "code",
   "execution_count": 99,
   "metadata": {},
   "outputs": [
    {
     "data": {
      "text/html": [
       "<div>\n",
       "<style scoped>\n",
       "    .dataframe tbody tr th:only-of-type {\n",
       "        vertical-align: middle;\n",
       "    }\n",
       "\n",
       "    .dataframe tbody tr th {\n",
       "        vertical-align: top;\n",
       "    }\n",
       "\n",
       "    .dataframe thead th {\n",
       "        text-align: right;\n",
       "    }\n",
       "</style>\n",
       "<table border=\"1\" class=\"dataframe\">\n",
       "  <thead>\n",
       "    <tr style=\"text-align: right;\">\n",
       "      <th></th>\n",
       "      <th>acc</th>\n",
       "      <th>sample_id</th>\n",
       "      <th>sex</th>\n",
       "      <th>age</th>\n",
       "      <th>insert size average</th>\n",
       "      <th>insert size standard deviation</th>\n",
       "    </tr>\n",
       "  </thead>\n",
       "  <tbody>\n",
       "    <tr>\n",
       "      <th>0</th>\n",
       "      <td>SRR7271762</td>\n",
       "      <td>117454</td>\n",
       "      <td>Male</td>\n",
       "      <td>54</td>\n",
       "      <td>353.2</td>\n",
       "      <td>90.4</td>\n",
       "    </tr>\n",
       "    <tr>\n",
       "      <th>1</th>\n",
       "      <td>SRR7271780</td>\n",
       "      <td>117477</td>\n",
       "      <td>Female</td>\n",
       "      <td>55</td>\n",
       "      <td>346.4</td>\n",
       "      <td>84.8</td>\n",
       "    </tr>\n",
       "    <tr>\n",
       "      <th>2</th>\n",
       "      <td>SRR7271789</td>\n",
       "      <td>117486</td>\n",
       "      <td>Male</td>\n",
       "      <td>55</td>\n",
       "      <td>334.9</td>\n",
       "      <td>92.1</td>\n",
       "    </tr>\n",
       "  </tbody>\n",
       "</table>\n",
       "</div>"
      ],
      "text/plain": [
       "          acc sample_id     sex  age insert size average  \\\n",
       "0  SRR7271762    117454    Male   54               353.2   \n",
       "1  SRR7271780    117477  Female   55               346.4   \n",
       "2  SRR7271789    117486    Male   55               334.9   \n",
       "\n",
       "  insert size standard deviation  \n",
       "0                           90.4  \n",
       "1                           84.8  \n",
       "2                           92.1  "
      ]
     },
     "execution_count": 99,
     "metadata": {},
     "output_type": "execute_result"
    }
   ],
   "source": [
    "final_df = pd.merge(\n",
    "    merged_df,\n",
    "    stats_df,\n",
    "    how=\"inner\",\n",
    "    left_on='acc',\n",
    "    right_on='acc'\n",
    ")\n",
    "final_df.drop('status', axis=1, inplace=True)\n",
    "final_df.drop('run_id', axis=1, inplace=True)\n",
    "\n",
    "final_df"
   ]
  },
  {
   "cell_type": "code",
   "execution_count": null,
   "metadata": {},
   "outputs": [],
   "source": []
  }
 ],
 "metadata": {
  "kernelspec": {
   "display_name": "Python 3 (ipykernel)",
   "language": "python",
   "name": "python3"
  },
  "language_info": {
   "codemirror_mode": {
    "name": "ipython",
    "version": 3
   },
   "file_extension": ".py",
   "mimetype": "text/x-python",
   "name": "python",
   "nbconvert_exporter": "python",
   "pygments_lexer": "ipython3",
   "version": "3.9.7"
  }
 },
 "nbformat": 4,
 "nbformat_minor": 4
}
