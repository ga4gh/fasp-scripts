{
 "cells": [
  {
   "cell_type": "code",
   "execution_count": 63,
   "id": "7486c77a",
   "metadata": {},
   "outputs": [],
   "source": [
    "from fasp.search import DataConnectClient\n",
    "cl = DataConnectClient('http://localhost:8089/')\n",
    "#schema = cl.listTableInfo('bigquery_public.idc_v9.dicom_all', verbose=True)"
   ]
  },
  {
   "cell_type": "code",
   "execution_count": 58,
   "id": "a8c5f25b",
   "metadata": {
    "scrolled": true
   },
   "outputs": [
    {
     "name": "stdout",
     "output_type": "stream",
     "text": [
      "Retrieving the query\n",
      "____Page1_______________\n",
      "____Page2_______________\n",
      "____Page3_______________\n",
      "____Page4_______________\n",
      "____Page5_______________\n",
      "____Page6_______________\n",
      "____Page7_______________\n",
      "____Page8_______________\n",
      "____Page9_______________\n",
      "____Page10_______________\n",
      "____Page11_______________\n",
      "____Page12_______________\n",
      "____Page13_______________\n",
      "____Page14_______________\n",
      "____Page15_______________\n",
      "____Page16_______________\n",
      "____Page17_______________\n",
      "____Page18_______________\n",
      "____Page19_______________\n",
      "____Page20_______________\n",
      "____Page21_______________\n",
      "____Page22_______________\n",
      "____Page23_______________\n",
      "____Page24_______________\n",
      "____Page25_______________\n",
      "____Page26_______________\n",
      "____Page27_______________\n",
      "____Page28_______________\n",
      "____Page29_______________\n",
      "____Page30_______________\n",
      "____Page31_______________\n",
      "____Page32_______________\n",
      "____Page33_______________\n",
      "____Page34_______________\n",
      "____Page35_______________\n",
      "____Page36_______________\n",
      "____Page37_______________\n",
      "____Page38_______________\n",
      "____Page39_______________\n",
      "____Page40_______________\n",
      "____Page41_______________\n",
      "____Page42_______________\n",
      "____Page43_______________\n",
      "____Page44_______________\n",
      "____Page45_______________\n",
      "____Page46_______________\n",
      "____Page47_______________\n",
      "____Page48_______________\n",
      "____Page49_______________\n",
      "____Page50_______________\n",
      "____Page51_______________\n"
     ]
    },
    {
     "ename": "TypeError",
     "evalue": "'NoneType' object is not iterable",
     "output_type": "error",
     "traceback": [
      "\u001b[0;31m---------------------------------------------------------------------------\u001b[0m",
      "\u001b[0;31mTypeError\u001b[0m                                 Traceback (most recent call last)",
      "\u001b[0;32m/var/folders/wz/jjbxsnr13v7dkw2jkbpmqd_dly65gq/T/ipykernel_6029/2785607225.py\u001b[0m in \u001b[0;36m<module>\u001b[0;34m\u001b[0m\n\u001b[1;32m      2\u001b[0m \u001b[0mwhere\u001b[0m \u001b[0mpatientid\u001b[0m \u001b[0;34m=\u001b[0m \u001b[0;34m'TCGA-13-1504'\u001b[0m\u001b[0;34m\u001b[0m\u001b[0;34m\u001b[0m\u001b[0m\n\u001b[1;32m      3\u001b[0m \"\"\"\n\u001b[0;32m----> 4\u001b[0;31m \u001b[0mcl\u001b[0m\u001b[0;34m.\u001b[0m\u001b[0mrunQuery\u001b[0m\u001b[0;34m(\u001b[0m\u001b[0mquery\u001b[0m\u001b[0;34m,\u001b[0m \u001b[0mreturnType\u001b[0m\u001b[0;34m=\u001b[0m\u001b[0;34m'dataframe'\u001b[0m\u001b[0;34m)\u001b[0m\u001b[0;34m\u001b[0m\u001b[0;34m\u001b[0m\u001b[0m\n\u001b[0m",
      "\u001b[0;32m~/imfenvs/fasp/lib/python3.9/site-packages/fasp/search/data_connect_client.py\u001b[0m in \u001b[0;36mrunQuery\u001b[0;34m(self, query, returnType)\u001b[0m\n\u001b[1;32m    207\u001b[0m                                 \u001b[0mresultRows\u001b[0m \u001b[0;34m+=\u001b[0m \u001b[0mresult\u001b[0m\u001b[0;34m[\u001b[0m\u001b[0;34m'data'\u001b[0m\u001b[0;34m]\u001b[0m\u001b[0;34m\u001b[0m\u001b[0;34m\u001b[0m\u001b[0m\n\u001b[1;32m    208\u001b[0m                         \u001b[0;32melse\u001b[0m\u001b[0;34m:\u001b[0m\u001b[0;34m\u001b[0m\u001b[0;34m\u001b[0m\u001b[0m\n\u001b[0;32m--> 209\u001b[0;31m                                 \u001b[0;32mfor\u001b[0m \u001b[0mr\u001b[0m \u001b[0;32min\u001b[0m \u001b[0mresult\u001b[0m\u001b[0;34m[\u001b[0m\u001b[0;34m'data'\u001b[0m\u001b[0;34m]\u001b[0m\u001b[0;34m:\u001b[0m\u001b[0;34m\u001b[0m\u001b[0;34m\u001b[0m\u001b[0m\n\u001b[0m\u001b[1;32m    210\u001b[0m                                         \u001b[0mresultRows\u001b[0m\u001b[0;34m.\u001b[0m\u001b[0mappend\u001b[0m\u001b[0;34m(\u001b[0m\u001b[0;34m[\u001b[0m\u001b[0;34m*\u001b[0m\u001b[0mr\u001b[0m\u001b[0;34m.\u001b[0m\u001b[0mvalues\u001b[0m\u001b[0;34m(\u001b[0m\u001b[0;34m)\u001b[0m\u001b[0;34m]\u001b[0m\u001b[0;34m)\u001b[0m\u001b[0;34m\u001b[0m\u001b[0;34m\u001b[0m\u001b[0m\n\u001b[1;32m    211\u001b[0m \u001b[0;34m\u001b[0m\u001b[0m\n",
      "\u001b[0;31mTypeError\u001b[0m: 'NoneType' object is not iterable"
     ]
    }
   ],
   "source": [
    "query = \"\"\"SELECT  * FROM bigquery_public.idc_v9.dicom_metadata \n",
    "where patientid = 'TCGA-13-1504' limit 2\n",
    "\"\"\"\n",
    "df = cl.runQuery(query, returnType='dataframe')"
   ]
  },
  {
   "cell_type": "code",
   "execution_count": 65,
   "id": "4618c975",
   "metadata": {},
   "outputs": [
    {
     "data": {
      "text/html": [
       "<div>\n",
       "<style scoped>\n",
       "    .dataframe tbody tr th:only-of-type {\n",
       "        vertical-align: middle;\n",
       "    }\n",
       "\n",
       "    .dataframe tbody tr th {\n",
       "        vertical-align: top;\n",
       "    }\n",
       "\n",
       "    .dataframe thead th {\n",
       "        text-align: right;\n",
       "    }\n",
       "</style>\n",
       "<table border=\"1\" class=\"dataframe\">\n",
       "  <thead>\n",
       "    <tr style=\"text-align: right;\">\n",
       "      <th></th>\n",
       "      <th>instance_uuid</th>\n",
       "    </tr>\n",
       "  </thead>\n",
       "  <tbody>\n",
       "    <tr>\n",
       "      <th>0</th>\n",
       "      <td>131bc115-dff3-44dc-aa9e-295c9726a50f</td>\n",
       "    </tr>\n",
       "    <tr>\n",
       "      <th>1</th>\n",
       "      <td>1cf24e7c-42cf-48b6-bb9f-19743a00ae21</td>\n",
       "    </tr>\n",
       "    <tr>\n",
       "      <th>2</th>\n",
       "      <td>71c6aed5-8504-4432-9de3-be16e850035f</td>\n",
       "    </tr>\n",
       "    <tr>\n",
       "      <th>3</th>\n",
       "      <td>cee2f7d3-987a-4613-b9b8-e6c1b890ce33</td>\n",
       "    </tr>\n",
       "    <tr>\n",
       "      <th>4</th>\n",
       "      <td>019bde45-c4e1-4322-b32a-1fc0f7b70f19</td>\n",
       "    </tr>\n",
       "    <tr>\n",
       "      <th>...</th>\n",
       "      <td>...</td>\n",
       "    </tr>\n",
       "    <tr>\n",
       "      <th>229</th>\n",
       "      <td>d41da605-6f24-41a8-b609-2aefdf306830</td>\n",
       "    </tr>\n",
       "    <tr>\n",
       "      <th>230</th>\n",
       "      <td>f3c83129-936b-4510-b2ef-012f9f00e826</td>\n",
       "    </tr>\n",
       "    <tr>\n",
       "      <th>231</th>\n",
       "      <td>ba75de22-40f8-4b44-af82-453471722d03</td>\n",
       "    </tr>\n",
       "    <tr>\n",
       "      <th>232</th>\n",
       "      <td>2ca61bc4-ea09-428a-a95f-246911a75189</td>\n",
       "    </tr>\n",
       "    <tr>\n",
       "      <th>233</th>\n",
       "      <td>dc1876bf-1042-42ac-ac6f-ff64874f6eab</td>\n",
       "    </tr>\n",
       "  </tbody>\n",
       "</table>\n",
       "<p>234 rows × 1 columns</p>\n",
       "</div>"
      ],
      "text/plain": [
       "                            instance_uuid\n",
       "0    131bc115-dff3-44dc-aa9e-295c9726a50f\n",
       "1    1cf24e7c-42cf-48b6-bb9f-19743a00ae21\n",
       "2    71c6aed5-8504-4432-9de3-be16e850035f\n",
       "3    cee2f7d3-987a-4613-b9b8-e6c1b890ce33\n",
       "4    019bde45-c4e1-4322-b32a-1fc0f7b70f19\n",
       "..                                    ...\n",
       "229  d41da605-6f24-41a8-b609-2aefdf306830\n",
       "230  f3c83129-936b-4510-b2ef-012f9f00e826\n",
       "231  ba75de22-40f8-4b44-af82-453471722d03\n",
       "232  2ca61bc4-ea09-428a-a95f-246911a75189\n",
       "233  dc1876bf-1042-42ac-ac6f-ff64874f6eab\n",
       "\n",
       "[234 rows x 1 columns]"
      ]
     },
     "execution_count": 65,
     "metadata": {},
     "output_type": "execute_result"
    }
   ],
   "source": [
    "df"
   ]
  },
  {
   "cell_type": "code",
   "execution_count": null,
   "id": "e5f53aac",
   "metadata": {},
   "outputs": [],
   "source": [
    "query = \"\"\"SELECT  aux.instance_uuid\n",
    " FROM bigquery_public.idc_v9.auxiliary_metadata as aux \n",
    " join bigquery_public.idc_v9.dicom_metadata as dcm\n",
    " on aux.sopinstanceuid = dcm.sopinstanceuid\n",
    " where dcm.patientid = 'TCGA-13-1504' \n",
    "\"\"\"\n",
    "df = cl.runQuery(query, returnType='dataframe')"
   ]
  },
  {
   "cell_type": "code",
   "execution_count": null,
   "id": "c4592512",
   "metadata": {},
   "outputs": [],
   "source": [
    "df.to_csv()"
   ]
  },
  {
   "cell_type": "code",
   "execution_count": null,
   "id": "9b1d815f",
   "metadata": {
    "scrolled": false
   },
   "outputs": [],
   "source": [
    "%env GOOGLE_APPLICATION_CREDENTIALS=~/.keys/project-47e81a440239.json\n",
    "\n",
    "from google.cloud import bigquery\n",
    "\n",
    "# Construct a BigQuery client object.\n",
    "client = bigquery.Client()\n",
    "\n",
    "# TODO(developer): Set table_id to the ID of the model to fetch.\n",
    "table_id = 'bigquery-public-data.idc_v9.dicom_metadata'\n",
    "\n",
    "table = client.get_table(table_id)  # Make an API request.\n",
    "\n",
    "# View table properties\n",
    "print(\n",
    "    \"Got table '{}.{}.{}'.\".format(table.project, table.dataset_id, table.table_id)\n",
    ")\n",
    "for f in table.schema:\n",
    "    print(\"{} {} {}\".format(f.name, f.field_type, f.description))\n",
    "    "
   ]
  },
  {
   "cell_type": "code",
   "execution_count": null,
   "id": "87d16343",
   "metadata": {},
   "outputs": [],
   "source": []
  }
 ],
 "metadata": {
  "kernelspec": {
   "display_name": "Python 3 (ipykernel)",
   "language": "python",
   "name": "python3"
  },
  "language_info": {
   "codemirror_mode": {
    "name": "ipython",
    "version": 3
   },
   "file_extension": ".py",
   "mimetype": "text/x-python",
   "name": "python",
   "nbconvert_exporter": "python",
   "pygments_lexer": "ipython3",
   "version": "3.9.7"
  }
 },
 "nbformat": 4,
 "nbformat_minor": 5
}
