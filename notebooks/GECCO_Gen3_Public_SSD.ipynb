{
 "cells": [
  {
   "cell_type": "markdown",
   "metadata": {},
   "source": [
    "## Accessing Gecco data via public SRA subject and sample data\n",
    "This notebook explores using GA4GH DRS to access data stored in the cloud for a controlled access dbGaP project - [phs001554](https://www.ncbi.nlm.nih.gov/projects/gap/cgi-bin/study.cgi?study_id=phs001554.v1.p1) \"Detection of Colorectal Cancer Susceptibility Loci Using Genome-Wide Sequencing\".\n",
    "\n",
    "A query using the  data on public subject and sample attributes held in SRA BigQuery. Gen3 DRS ids are accessed in BigQuery uploaded from a Gen3 manifest file. \n",
    "\n",
    ">\n",
    ">The sequence files used in this notebook are  under controlled access. You will not be able to access those files unless you have been granted access through dbGaP to the phs001554 study. If you have that access you will also have access to the non-scrambled subject and sample data. If that is the case, we would be pleased to hear of your interest, and the possibility of collaborating to ensure the GA4GH tools described here enable your studies. Please see [form to register interest](https://docs.google.com/forms/d/e/1FAIpQLSfmmc3VKd6ANdzaVMyelT3c9gIWuoS4ZwT0vsqD-o2ZRxJf7A/viewform)"
   ]
  },
  {
   "cell_type": "code",
   "execution_count": 7,
   "metadata": {},
   "outputs": [
    {
     "data": {
      "text/html": [
       "<div>\n",
       "<style scoped>\n",
       "    .dataframe tbody tr th:only-of-type {\n",
       "        vertical-align: middle;\n",
       "    }\n",
       "\n",
       "    .dataframe tbody tr th {\n",
       "        vertical-align: top;\n",
       "    }\n",
       "\n",
       "    .dataframe thead th {\n",
       "        text-align: right;\n",
       "    }\n",
       "</style>\n",
       "<table border=\"1\" class=\"dataframe\">\n",
       "  <thead>\n",
       "    <tr style=\"text-align: right;\">\n",
       "      <th></th>\n",
       "      <th>acc</th>\n",
       "      <th>drs_id</th>\n",
       "    </tr>\n",
       "  </thead>\n",
       "  <tbody>\n",
       "    <tr>\n",
       "      <th>0</th>\n",
       "      <td>SRR7271807</td>\n",
       "      <td>dg.4DFC/546f87bb-a6d1-4646-b7f0-c364b83bfc6c</td>\n",
       "    </tr>\n",
       "    <tr>\n",
       "      <th>1</th>\n",
       "      <td>SRR7272153</td>\n",
       "      <td>dg.4DFC/7c257b0c-cf3a-4fed-9399-215535feadbc</td>\n",
       "    </tr>\n",
       "    <tr>\n",
       "      <th>2</th>\n",
       "      <td>SRR7272242</td>\n",
       "      <td>dg.4DFC/72234296-5663-4f5b-9948-ebcec69fd798</td>\n",
       "    </tr>\n",
       "  </tbody>\n",
       "</table>\n",
       "</div>"
      ],
      "text/plain": [
       "          acc                                        drs_id\n",
       "0  SRR7271807  dg.4DFC/546f87bb-a6d1-4646-b7f0-c364b83bfc6c\n",
       "1  SRR7272153  dg.4DFC/7c257b0c-cf3a-4fed-9399-215535feadbc\n",
       "2  SRR7272242  dg.4DFC/72234296-5663-4f5b-9948-ebcec69fd798"
      ]
     },
     "execution_count": 7,
     "metadata": {},
     "output_type": "execute_result"
    }
   ],
   "source": [
    "from fasp.search import BigQuerySearchClient\n",
    "from fasp.loc import crdcDRSClient\n",
    "from fasp.workflow import sbcgcWESClient\n",
    "from fasp.runner import FASPRunner\n",
    "\n",
    "faspRunner = FASPRunner(program='GECCO_Gen3_on_SB')\n",
    "runNote = 'GECCO files retrieved from Gen3 DRS and computed on SB'\n",
    "\n",
    "searchClient = BigQuerySearchClient()\n",
    "query = '''select sra.acc,  drs_id\n",
    "from `dnastack-main.cshcodeathon.gecco_gen3_drs_index` i\n",
    "join `nih-sra-datastore.sra.metadata` sra on sra.acc = i.acc\n",
    "CROSS JOIN UNNEST(sra.attributes) AS atts\n",
    "where atts.k = 'subject_is_affected_sam' and atts.v = 'Yes'\n",
    "and sra.consent = 'DS-CC-NPU-GSO'\n",
    "and file_type = 'cram' limit 3'''\n",
    "df = searchClient.runQuery(query, returnType='dataframe')\n",
    "df"
   ]
  },
  {
   "cell_type": "code",
   "execution_count": 8,
   "metadata": {},
   "outputs": [
    {
     "name": "stdout",
     "output_type": "stream",
     "text": [
      "Running query\n",
      "select sra.acc,  drs_id\n",
      "from `dnastack-main.cshcodeathon.gecco_gen3_drs_index` i\n",
      "join `nih-sra-datastore.sra.metadata` sra on sra.acc = i.acc\n",
      "CROSS JOIN UNNEST(sra.attributes) AS atts\n",
      "where atts.k = 'subject_is_affected_sam' and atts.v = 'Yes'\n",
      "and sra.consent = 'DS-CC-NPU-GSO'\n",
      "and file_type = 'cram' limit 3\n",
      "subject=SRR7271807, drsID=dg.4DFC/546f87bb-a6d1-4646-b7f0-c364b83bfc6c\n",
      "workflow submitted, run:54ce39bf-cf99-4f10-af07-e3cdb45b4c85\n",
      "____________________________________________________________\n",
      "subject=SRR7272153, drsID=dg.4DFC/7c257b0c-cf3a-4fed-9399-215535feadbc\n",
      "workflow submitted, run:137c22e7-d88a-4a2b-9039-3dd1f34f4249\n",
      "____________________________________________________________\n",
      "subject=SRR7272242, drsID=dg.4DFC/72234296-5663-4f5b-9948-ebcec69fd798\n",
      "workflow submitted, run:d86b18e9-2603-47bb-96e3-95e194dd6730\n",
      "____________________________________________________________\n"
     ]
    },
    {
     "data": {
      "text/html": [
       "<div>\n",
       "<style scoped>\n",
       "    .dataframe tbody tr th:only-of-type {\n",
       "        vertical-align: middle;\n",
       "    }\n",
       "\n",
       "    .dataframe tbody tr th {\n",
       "        vertical-align: top;\n",
       "    }\n",
       "\n",
       "    .dataframe thead th {\n",
       "        text-align: right;\n",
       "    }\n",
       "</style>\n",
       "<table border=\"1\" class=\"dataframe\">\n",
       "  <thead>\n",
       "    <tr style=\"text-align: right;\">\n",
       "      <th></th>\n",
       "      <th>subject</th>\n",
       "      <th>run_id</th>\n",
       "    </tr>\n",
       "  </thead>\n",
       "  <tbody>\n",
       "    <tr>\n",
       "      <th>0</th>\n",
       "      <td>SRR7271807</td>\n",
       "      <td>54ce39bf-cf99-4f10-af07-e3cdb45b4c85</td>\n",
       "    </tr>\n",
       "    <tr>\n",
       "      <th>1</th>\n",
       "      <td>SRR7272153</td>\n",
       "      <td>137c22e7-d88a-4a2b-9039-3dd1f34f4249</td>\n",
       "    </tr>\n",
       "    <tr>\n",
       "      <th>2</th>\n",
       "      <td>SRR7272242</td>\n",
       "      <td>d86b18e9-2603-47bb-96e3-95e194dd6730</td>\n",
       "    </tr>\n",
       "  </tbody>\n",
       "</table>\n",
       "</div>"
      ],
      "text/plain": [
       "      subject                                run_id\n",
       "0  SRR7271807  54ce39bf-cf99-4f10-af07-e3cdb45b4c85\n",
       "1  SRR7272153  137c22e7-d88a-4a2b-9039-3dd1f34f4249\n",
       "2  SRR7272242  d86b18e9-2603-47bb-96e3-95e194dd6730"
      ]
     },
     "execution_count": 8,
     "metadata": {},
     "output_type": "execute_result"
    }
   ],
   "source": [
    "drsClient = crdcDRSClient('/Users/forei/.keys/crdc_credentials.json', 's3')\n",
    "\n",
    "settings = faspRunner.settings\n",
    "wesClient = sbcgcWESClient(settings['SevenBridgesProject'])\n",
    "\n",
    "faspRunner.configure(searchClient, drsClient, wesClient)\n",
    "\n",
    "run_ids = faspRunner.runQuery(query, runNote)\n",
    "import pandas as pd\n",
    "runs_df = pd.DataFrame(run_ids)\n",
    "runs_df"
   ]
  },
  {
   "cell_type": "code",
   "execution_count": 9,
   "metadata": {},
   "outputs": [
    {
     "data": {
      "text/html": [
       "<div>\n",
       "<style scoped>\n",
       "    .dataframe tbody tr th:only-of-type {\n",
       "        vertical-align: middle;\n",
       "    }\n",
       "\n",
       "    .dataframe tbody tr th {\n",
       "        vertical-align: top;\n",
       "    }\n",
       "\n",
       "    .dataframe thead th {\n",
       "        text-align: right;\n",
       "    }\n",
       "</style>\n",
       "<table border=\"1\" class=\"dataframe\">\n",
       "  <thead>\n",
       "    <tr style=\"text-align: right;\">\n",
       "      <th></th>\n",
       "      <th>acc</th>\n",
       "      <th>run_id</th>\n",
       "    </tr>\n",
       "  </thead>\n",
       "  <tbody>\n",
       "    <tr>\n",
       "      <th>0</th>\n",
       "      <td>SRR7271807</td>\n",
       "      <td>54ce39bf-cf99-4f10-af07-e3cdb45b4c85</td>\n",
       "    </tr>\n",
       "    <tr>\n",
       "      <th>1</th>\n",
       "      <td>SRR7272153</td>\n",
       "      <td>137c22e7-d88a-4a2b-9039-3dd1f34f4249</td>\n",
       "    </tr>\n",
       "    <tr>\n",
       "      <th>2</th>\n",
       "      <td>SRR7272242</td>\n",
       "      <td>d86b18e9-2603-47bb-96e3-95e194dd6730</td>\n",
       "    </tr>\n",
       "  </tbody>\n",
       "</table>\n",
       "</div>"
      ],
      "text/plain": [
       "          acc                                run_id\n",
       "0  SRR7271807  54ce39bf-cf99-4f10-af07-e3cdb45b4c85\n",
       "1  SRR7272153  137c22e7-d88a-4a2b-9039-3dd1f34f4249\n",
       "2  SRR7272242  d86b18e9-2603-47bb-96e3-95e194dd6730"
      ]
     },
     "execution_count": 9,
     "metadata": {},
     "output_type": "execute_result"
    }
   ],
   "source": [
    "merged_df = pd.merge(\n",
    "    df,\n",
    "    runs_df,\n",
    "    how=\"inner\",\n",
    "    left_on='acc',\n",
    "    right_on='subject'\n",
    ")\n",
    "merged_df.drop('subject', axis=1, inplace=True)\n",
    "merged_df.drop('drs_id', axis=1, inplace=True)\n",
    "merged_df.to_csv('~/mywork.csv')\n",
    "merged_df"
   ]
  },
  {
   "cell_type": "code",
   "execution_count": 10,
   "metadata": {},
   "outputs": [
    {
     "data": {
      "image/png": "[encoded data removed]",
      "text/plain": [
       "<PIL.Image.Image image mode=RGB size=60x60 at 0x11FFC2FD0>"
      ]
     },
     "execution_count": 10,
     "metadata": {},
     "output_type": "execute_result"
    }
   ],
   "source": [
    "faspRunner.getFASPicon()"
   ]
  },
  {
   "cell_type": "markdown",
   "metadata": {},
   "source": [
    "Update the dataframe with the status of the runs"
   ]
  },
  {
   "cell_type": "code",
   "execution_count": 18,
   "metadata": {},
   "outputs": [
    {
     "data": {
      "text/html": [
       "<div>\n",
       "<style scoped>\n",
       "    .dataframe tbody tr th:only-of-type {\n",
       "        vertical-align: middle;\n",
       "    }\n",
       "\n",
       "    .dataframe tbody tr th {\n",
       "        vertical-align: top;\n",
       "    }\n",
       "\n",
       "    .dataframe thead th {\n",
       "        text-align: right;\n",
       "    }\n",
       "</style>\n",
       "<table border=\"1\" class=\"dataframe\">\n",
       "  <thead>\n",
       "    <tr style=\"text-align: right;\">\n",
       "      <th></th>\n",
       "      <th>acc</th>\n",
       "      <th>run_id</th>\n",
       "      <th>status</th>\n",
       "    </tr>\n",
       "  </thead>\n",
       "  <tbody>\n",
       "    <tr>\n",
       "      <th>0</th>\n",
       "      <td>SRR7271807</td>\n",
       "      <td>54ce39bf-cf99-4f10-af07-e3cdb45b4c85</td>\n",
       "      <td>COMPLETE</td>\n",
       "    </tr>\n",
       "    <tr>\n",
       "      <th>1</th>\n",
       "      <td>SRR7272153</td>\n",
       "      <td>137c22e7-d88a-4a2b-9039-3dd1f34f4249</td>\n",
       "      <td>COMPLETE</td>\n",
       "    </tr>\n",
       "    <tr>\n",
       "      <th>2</th>\n",
       "      <td>SRR7272242</td>\n",
       "      <td>d86b18e9-2603-47bb-96e3-95e194dd6730</td>\n",
       "      <td>COMPLETE</td>\n",
       "    </tr>\n",
       "  </tbody>\n",
       "</table>\n",
       "</div>"
      ],
      "text/plain": [
       "          acc                                run_id    status\n",
       "0  SRR7271807  54ce39bf-cf99-4f10-af07-e3cdb45b4c85  COMPLETE\n",
       "1  SRR7272153  137c22e7-d88a-4a2b-9039-3dd1f34f4249  COMPLETE\n",
       "2  SRR7272242  d86b18e9-2603-47bb-96e3-95e194dd6730  COMPLETE"
      ]
     },
     "execution_count": 18,
     "metadata": {},
     "output_type": "execute_result"
    }
   ],
   "source": [
    "for index, row in merged_df.iterrows():\n",
    "    status = wesClient.getTaskStatus(row['run_id'])\n",
    "    merged_df.at[index, \"status\"] = status\n",
    "merged_df"
   ]
  },
  {
   "cell_type": "markdown",
   "metadata": {},
   "source": [
    "Once the runs have completed the results can be retrieved."
   ]
  },
  {
   "cell_type": "code",
   "execution_count": 19,
   "metadata": {},
   "outputs": [
    {
     "name": "stdout",
     "output_type": "stream",
     "text": [
      "Searching the GA4GH registry for org.ga4gh:drs services\n"
     ]
    }
   ],
   "source": [
    "statsRequired = ['raw total sequences',\n",
    "                 'sequences',\n",
    "                 'reads mapped',\n",
    "                 'insert size average',\n",
    "                 'insert size standard deviation']\n",
    "statsList = []\n",
    "for index, row in merged_df.iterrows():\n",
    "    stats =  wesClient.getSAMToolsResults(row['run_id'], statsRequired)\n",
    "    stats['acc'] = row['acc']\n",
    "    statsList.append(stats)\n",
    "\n",
    "stats_df =  pd.DataFrame(statsList)"
   ]
  },
  {
   "cell_type": "code",
   "execution_count": 20,
   "metadata": {},
   "outputs": [
    {
     "data": {
      "text/html": [
       "<div>\n",
       "<style scoped>\n",
       "    .dataframe tbody tr th:only-of-type {\n",
       "        vertical-align: middle;\n",
       "    }\n",
       "\n",
       "    .dataframe tbody tr th {\n",
       "        vertical-align: top;\n",
       "    }\n",
       "\n",
       "    .dataframe thead th {\n",
       "        text-align: right;\n",
       "    }\n",
       "</style>\n",
       "<table border=\"1\" class=\"dataframe\">\n",
       "  <thead>\n",
       "    <tr style=\"text-align: right;\">\n",
       "      <th></th>\n",
       "      <th>raw total sequences</th>\n",
       "      <th>sequences</th>\n",
       "      <th>reads mapped</th>\n",
       "      <th>insert size average</th>\n",
       "      <th>insert size standard deviation</th>\n",
       "      <th>acc</th>\n",
       "    </tr>\n",
       "  </thead>\n",
       "  <tbody>\n",
       "    <tr>\n",
       "      <th>0</th>\n",
       "      <td>918535181</td>\n",
       "      <td>918535181</td>\n",
       "      <td>907736629</td>\n",
       "      <td>324.5</td>\n",
       "      <td>83.7</td>\n",
       "      <td>SRR7271807</td>\n",
       "    </tr>\n",
       "    <tr>\n",
       "      <th>1</th>\n",
       "      <td>876816395</td>\n",
       "      <td>876816395</td>\n",
       "      <td>868565288</td>\n",
       "      <td>333.1</td>\n",
       "      <td>82.5</td>\n",
       "      <td>SRR7272153</td>\n",
       "    </tr>\n",
       "    <tr>\n",
       "      <th>2</th>\n",
       "      <td>796938984</td>\n",
       "      <td>796938984</td>\n",
       "      <td>788007106</td>\n",
       "      <td>338.9</td>\n",
       "      <td>86.2</td>\n",
       "      <td>SRR7272242</td>\n",
       "    </tr>\n",
       "  </tbody>\n",
       "</table>\n",
       "</div>"
      ],
      "text/plain": [
       "  raw total sequences  sequences reads mapped insert size average  \\\n",
       "0           918535181  918535181    907736629               324.5   \n",
       "1           876816395  876816395    868565288               333.1   \n",
       "2           796938984  796938984    788007106               338.9   \n",
       "\n",
       "  insert size standard deviation         acc  \n",
       "0                           83.7  SRR7271807  \n",
       "1                           82.5  SRR7272153  \n",
       "2                           86.2  SRR7272242  "
      ]
     },
     "execution_count": 20,
     "metadata": {},
     "output_type": "execute_result"
    }
   ],
   "source": [
    "stats_df"
   ]
  },
  {
   "cell_type": "code",
   "execution_count": 21,
   "metadata": {},
   "outputs": [
    {
     "data": {
      "text/html": [
       "<div>\n",
       "<style scoped>\n",
       "    .dataframe tbody tr th:only-of-type {\n",
       "        vertical-align: middle;\n",
       "    }\n",
       "\n",
       "    .dataframe tbody tr th {\n",
       "        vertical-align: top;\n",
       "    }\n",
       "\n",
       "    .dataframe thead th {\n",
       "        text-align: right;\n",
       "    }\n",
       "</style>\n",
       "<table border=\"1\" class=\"dataframe\">\n",
       "  <thead>\n",
       "    <tr style=\"text-align: right;\">\n",
       "      <th></th>\n",
       "      <th>acc</th>\n",
       "      <th>raw total sequences</th>\n",
       "      <th>sequences</th>\n",
       "      <th>reads mapped</th>\n",
       "      <th>insert size average</th>\n",
       "      <th>insert size standard deviation</th>\n",
       "    </tr>\n",
       "  </thead>\n",
       "  <tbody>\n",
       "    <tr>\n",
       "      <th>0</th>\n",
       "      <td>SRR7271807</td>\n",
       "      <td>918535181</td>\n",
       "      <td>918535181</td>\n",
       "      <td>907736629</td>\n",
       "      <td>324.5</td>\n",
       "      <td>83.7</td>\n",
       "    </tr>\n",
       "    <tr>\n",
       "      <th>1</th>\n",
       "      <td>SRR7272153</td>\n",
       "      <td>876816395</td>\n",
       "      <td>876816395</td>\n",
       "      <td>868565288</td>\n",
       "      <td>333.1</td>\n",
       "      <td>82.5</td>\n",
       "    </tr>\n",
       "    <tr>\n",
       "      <th>2</th>\n",
       "      <td>SRR7272242</td>\n",
       "      <td>796938984</td>\n",
       "      <td>796938984</td>\n",
       "      <td>788007106</td>\n",
       "      <td>338.9</td>\n",
       "      <td>86.2</td>\n",
       "    </tr>\n",
       "  </tbody>\n",
       "</table>\n",
       "</div>"
      ],
      "text/plain": [
       "          acc raw total sequences  sequences reads mapped insert size average  \\\n",
       "0  SRR7271807           918535181  918535181    907736629               324.5   \n",
       "1  SRR7272153           876816395  876816395    868565288               333.1   \n",
       "2  SRR7272242           796938984  796938984    788007106               338.9   \n",
       "\n",
       "  insert size standard deviation  \n",
       "0                           83.7  \n",
       "1                           82.5  \n",
       "2                           86.2  "
      ]
     },
     "execution_count": 21,
     "metadata": {},
     "output_type": "execute_result"
    }
   ],
   "source": [
    "final_df = pd.merge(\n",
    "    merged_df,\n",
    "    stats_df,\n",
    "    how=\"inner\",\n",
    "    left_on='acc',\n",
    "    right_on='acc'\n",
    ")\n",
    "final_df.drop('status', axis=1, inplace=True)\n",
    "final_df.drop('run_id', axis=1, inplace=True)\n",
    "\n",
    "final_df"
   ]
  },
  {
   "cell_type": "code",
   "execution_count": null,
   "metadata": {},
   "outputs": [],
   "source": []
  }
 ],
 "metadata": {
  "kernelspec": {
   "display_name": "Python 3",
   "language": "python",
   "name": "python3"
  },
  "language_info": {
   "codemirror_mode": {
    "name": "ipython",
    "version": 3
   },
   "file_extension": ".py",
   "mimetype": "text/x-python",
   "name": "python",
   "nbconvert_exporter": "python",
   "pygments_lexer": "ipython3",
   "version": "3.7.3"
  }
 },
 "nbformat": 4,
 "nbformat_minor": 4
}
