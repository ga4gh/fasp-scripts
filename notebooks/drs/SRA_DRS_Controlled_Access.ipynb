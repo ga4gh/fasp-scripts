{
 "cells": [
  {
   "cell_type": "markdown",
   "metadata": {},
   "source": [
    "## Accessing SRA Controlled Access data\n",
    "This notebook explores using GA4GH DRS to access data stored in the cloud for a controlled access dbGaP project - [phs001554](https://www.ncbi.nlm.nih.gov/projects/gap/cgi-bin/study.cgi?study_id=phs001554.v1.p1) \"Detection of Colorectal Cancer Susceptibility Loci Using Genome-Wide Sequencing\".\n",
    "\n",
    "A query using the GA4GH Search API on subject and file attributes identifies some DRS ids. \n",
    "\n",
    ">Note: The subject and sample data searched through the initial query are on a scrambled copy of the data so that no controlled access records remain intact. Please do not attempt to draw meaningful associations between the subject and sample attributes with the genomic data; this would lead to erroneous conclusions. These examples serve only to illustrate future possibilities, in the hope of identifying ways to make those possibilities real.\n",
    ">\n",
    ">The sequence files used in this notebook are also under controlled access. You will not be able to access those files unless you have been granted access through dbGaP to the phs001554 study. If you have that access you will also have access to the non-scrambled subject and sample data. If that is the case, we would be pleased to hear of your interest, and the possibility of collaborating to ensure the GA4GH tools described here enable your studies. Please see [form to register interest](https://docs.google.com/forms/d/e/1FAIpQLSfmmc3VKd6ANdzaVMyelT3c9gIWuoS4ZwT0vsqD-o2ZRxJf7A/viewform)"
   ]
  },
  {
   "cell_type": "code",
   "execution_count": 2,
   "metadata": {},
   "outputs": [
    {
     "name": "stdout",
     "output_type": "stream",
     "text": [
      "_Retrieving the query_\n",
      "____Page1_______________\n",
      "____Page2_______________\n",
      "____Page3_______________\n",
      "____Page4_______________\n",
      "____Page5_______________\n",
      "____Page6_______________\n"
     ]
    },
    {
     "data": {
      "text/html": [
       "<div>\n",
       "<style scoped>\n",
       "    .dataframe tbody tr th:only-of-type {\n",
       "        vertical-align: middle;\n",
       "    }\n",
       "\n",
       "    .dataframe tbody tr th {\n",
       "        vertical-align: top;\n",
       "    }\n",
       "\n",
       "    .dataframe thead th {\n",
       "        text-align: right;\n",
       "    }\n",
       "</style>\n",
       "<table border=\"1\" class=\"dataframe\">\n",
       "  <thead>\n",
       "    <tr style=\"text-align: right;\">\n",
       "      <th></th>\n",
       "      <th>acc</th>\n",
       "      <th>sample_id</th>\n",
       "      <th>sra_drs_id</th>\n",
       "      <th>sex</th>\n",
       "      <th>age</th>\n",
       "    </tr>\n",
       "  </thead>\n",
       "  <tbody>\n",
       "    <tr>\n",
       "      <th>0</th>\n",
       "      <td>SRR7271762</td>\n",
       "      <td>117454</td>\n",
       "      <td>4083cc9baac81657edb627635fcfbeb0</td>\n",
       "      <td>Male</td>\n",
       "      <td>54</td>\n",
       "    </tr>\n",
       "    <tr>\n",
       "      <th>1</th>\n",
       "      <td>SRR7271780</td>\n",
       "      <td>117477</td>\n",
       "      <td>eb765677453c85f573d744be63a4530e</td>\n",
       "      <td>Female</td>\n",
       "      <td>55</td>\n",
       "    </tr>\n",
       "    <tr>\n",
       "      <th>2</th>\n",
       "      <td>SRR7271789</td>\n",
       "      <td>117486</td>\n",
       "      <td>2b070565053062762fed8a1f61fd5c91</td>\n",
       "      <td>Male</td>\n",
       "      <td>55</td>\n",
       "    </tr>\n",
       "    <tr>\n",
       "      <th>3</th>\n",
       "      <td>SRR7271798</td>\n",
       "      <td>117497</td>\n",
       "      <td>9324abd1277f50472208dfb6ac15af64</td>\n",
       "      <td>Female</td>\n",
       "      <td>53</td>\n",
       "    </tr>\n",
       "    <tr>\n",
       "      <th>4</th>\n",
       "      <td>SRR7271817</td>\n",
       "      <td>117523</td>\n",
       "      <td>3c6840438950a0cdd0fa072dd35854cf</td>\n",
       "      <td>Female</td>\n",
       "      <td>55</td>\n",
       "    </tr>\n",
       "    <tr>\n",
       "      <th>5</th>\n",
       "      <td>SRR7271822</td>\n",
       "      <td>117529</td>\n",
       "      <td>4ea5d13b1ede2a4c1578b27853df23d5</td>\n",
       "      <td>Male</td>\n",
       "      <td>50</td>\n",
       "    </tr>\n",
       "    <tr>\n",
       "      <th>6</th>\n",
       "      <td>SRR7271837</td>\n",
       "      <td>117546</td>\n",
       "      <td>9e3c1dc17119d6037b14e8269f41f359</td>\n",
       "      <td>Female</td>\n",
       "      <td>55</td>\n",
       "    </tr>\n",
       "    <tr>\n",
       "      <th>7</th>\n",
       "      <td>SRR7271841</td>\n",
       "      <td>117550</td>\n",
       "      <td>b4b831b0d4af57754817ef18bc1d4ab3</td>\n",
       "      <td>Female</td>\n",
       "      <td>55</td>\n",
       "    </tr>\n",
       "    <tr>\n",
       "      <th>8</th>\n",
       "      <td>SRR7271848</td>\n",
       "      <td>117559</td>\n",
       "      <td>650c2f4f184b040497e0822fe4460874</td>\n",
       "      <td>Female</td>\n",
       "      <td>51</td>\n",
       "    </tr>\n",
       "    <tr>\n",
       "      <th>9</th>\n",
       "      <td>SRR7271868</td>\n",
       "      <td>117581</td>\n",
       "      <td>f806c96f31b51747334681a85128eee2</td>\n",
       "      <td>Male</td>\n",
       "      <td>55</td>\n",
       "    </tr>\n",
       "  </tbody>\n",
       "</table>\n",
       "</div>"
      ],
      "text/plain": [
       "          acc sample_id                        sra_drs_id     sex  age\n",
       "0  SRR7271762    117454  4083cc9baac81657edb627635fcfbeb0    Male   54\n",
       "1  SRR7271780    117477  eb765677453c85f573d744be63a4530e  Female   55\n",
       "2  SRR7271789    117486  2b070565053062762fed8a1f61fd5c91    Male   55\n",
       "3  SRR7271798    117497  9324abd1277f50472208dfb6ac15af64  Female   53\n",
       "4  SRR7271817    117523  3c6840438950a0cdd0fa072dd35854cf  Female   55\n",
       "5  SRR7271822    117529  4ea5d13b1ede2a4c1578b27853df23d5    Male   50\n",
       "6  SRR7271837    117546  9e3c1dc17119d6037b14e8269f41f359  Female   55\n",
       "7  SRR7271841    117550  b4b831b0d4af57754817ef18bc1d4ab3  Female   55\n",
       "8  SRR7271848    117559  650c2f4f184b040497e0822fe4460874  Female   51\n",
       "9  SRR7271868    117581  f806c96f31b51747334681a85128eee2    Male   55"
      ]
     },
     "execution_count": 2,
     "metadata": {},
     "output_type": "execute_result"
    }
   ],
   "source": [
    "from fasp.search import DiscoverySearchClient\n",
    "cl = DiscoverySearchClient('https://ga4gh-search-adapter-presto-public.prod.dnastack.com/')\n",
    "query = '''select acc, sa.sample_id, sra_drs_id, sex, age\n",
    "from search_cloud.cshcodeathon.gecco_sra_drs_index i\n",
    "join dbgap_demo.scr_gecco_susceptibility.sample_multi sa on sa.sample_id = i.sample_id\n",
    "join dbgap_demo.scr_gecco_susceptibility.subject_phenotypes_multi su on su.dbgap_subject_id = sa.dbgap_subject_id\n",
    "where age between 50 and 55\n",
    "and affection_status = 'Case'\n",
    "and file_type = 'cram' limit 10'''\n",
    "df = cl.runQuery(query, returnType='dataframe')\n",
    "df"
   ]
  },
  {
   "cell_type": "code",
   "execution_count": 2,
   "metadata": {},
   "outputs": [
    {
     "data": {
      "text/plain": [
       "{'access_methods': [{'access_id': '9debe860de9a336e9a291566a8349e4e668ce72b',\n",
       "   'region': 's3.us-east-1',\n",
       "   'type': 'https'},\n",
       "  {'access_id': 'd97c4f9ef829579d9e59888deec15d66799af278',\n",
       "   'region': 'gs.US',\n",
       "   'type': 'https'}],\n",
       " 'checksums': [{'checksum': '9324abd1277f50472208dfb6ac15af64',\n",
       "   'type': 'md5'}],\n",
       " 'created_time': '2018-06-11T10:26:47Z',\n",
       " 'id': '9324abd1277f50472208dfb6ac15af64',\n",
       " 'name': '117497.recal.cram',\n",
       " 'self_url': 'drs://locate.md-be.ncbi.nlm.nih.gov/9324abd1277f50472208dfb6ac15af64',\n",
       " 'size': 36933985367}"
      ]
     },
     "execution_count": 2,
     "metadata": {},
     "output_type": "execute_result"
    }
   ],
   "source": [
    "from fasp.loc import SRADRSClient\n",
    "drsClient = SRADRSClient('https://locate.be-md.ncbi.nlm.nih.gov', public=True)\n",
    "# extract an example if from the results above\n",
    "example_id = df.at[3,'sra_drs_id']\n",
    "# Use DRS to find locations for the file\n",
    "res_list = drsClient.getObject(example_id)\n",
    "res_list"
   ]
  },
  {
   "cell_type": "markdown",
   "metadata": {},
   "source": [
    "Use custom client method to get a URL to the file in a specified region."
   ]
  },
  {
   "cell_type": "code",
   "execution_count": 3,
   "metadata": {},
   "outputs": [
    {
     "name": "stdout",
     "output_type": "stream",
     "text": [
      "Unauthorized for that DRS id\n"
     ]
    }
   ],
   "source": [
    "drsClient.getAccessURLRegion(example_id, 's3.us-east-1')\n"
   ]
  },
  {
   "cell_type": "code",
   "execution_count": 4,
   "metadata": {},
   "outputs": [
    {
     "name": "stdout",
     "output_type": "stream",
     "text": [
      "Unauthorized for that DRS id\n"
     ]
    }
   ],
   "source": [
    "drsClient.getAccessURL(example_id,'d97c4f9ef829579d9e59888deec15d66799af278')"
   ]
  },
  {
   "cell_type": "markdown",
   "metadata": {},
   "source": [
    "### For interest: Compare the same file on Seven Bridges"
   ]
  },
  {
   "cell_type": "code",
   "execution_count": 3,
   "metadata": {},
   "outputs": [
    {
     "name": "stdout",
     "output_type": "stream",
     "text": [
      "_Retrieving the query_\n",
      "____Page1_______________\n",
      "____Page2_______________\n",
      "____Page3_______________\n",
      "____Page4_______________\n",
      "____Page5_______________\n"
     ]
    },
    {
     "data": {
      "text/plain": [
       "[['117497', 'cram', '5ba922a0e4b0db63859cd973']]"
      ]
     },
     "execution_count": 3,
     "metadata": {},
     "output_type": "execute_result"
    }
   ],
   "source": [
    "query2 = \"select * from dbgap_demo.scr_gecco_susceptibility.sb_drs_index where sample_id = '117497' and file_type = 'cram'\"\n",
    "cl.runQuery(query2)"
   ]
  },
  {
   "cell_type": "code",
   "execution_count": 6,
   "metadata": {},
   "outputs": [
    {
     "data": {
      "text/plain": [
       "{'id': '5ba922a0e4b0db63859cd973',\n",
       " 'name': '117497.recal.cram',\n",
       " 'size': 36933985367,\n",
       " 'checksums': [{'type': 'etag',\n",
       "   'checksum': '3e4e93345c7b74540706416f51959092-4403'}],\n",
       " 'self_uri': 'drs://cgc-ga4gh-api.sbgenomics.com/5ba922a0e4b0db63859cd973',\n",
       " 'created_time': '2018-09-24T17:45:04Z',\n",
       " 'updated_time': '2018-11-09T15:56:37Z',\n",
       " 'mime_type': 'application/json',\n",
       " 'access_methods': [{'type': 's3',\n",
       "   'region': 'us-east-1',\n",
       "   'access_id': 'aws-us-east-1'}]}"
      ]
     },
     "execution_count": 6,
     "metadata": {},
     "output_type": "execute_result"
    }
   ],
   "source": [
    "from fasp.loc import sbcgcDRSClient\n",
    "drsClient = sbcgcDRSClient('/Users/forei/.keys/sevenbridges_keys.json', 's3')\n",
    "drsClient.getObject('5ba922a0e4b0db63859cd973')"
   ]
  },
  {
   "cell_type": "markdown",
   "metadata": {},
   "source": [
    "### For interest: Compare the same file on NCI Data Commons Framework (Gen3)\n",
    "To do."
   ]
  },
  {
   "cell_type": "code",
   "execution_count": null,
   "metadata": {},
   "outputs": [],
   "source": []
  }
 ],
 "metadata": {
  "kernelspec": {
   "display_name": "Python 3",
   "language": "python",
   "name": "python3"
  },
  "language_info": {
   "codemirror_mode": {
    "name": "ipython",
    "version": 3
   },
   "file_extension": ".py",
   "mimetype": "text/x-python",
   "name": "python",
   "nbconvert_exporter": "python",
   "pygments_lexer": "ipython3",
   "version": "3.7.3"
  }
 },
 "nbformat": 4,
 "nbformat_minor": 4
}
