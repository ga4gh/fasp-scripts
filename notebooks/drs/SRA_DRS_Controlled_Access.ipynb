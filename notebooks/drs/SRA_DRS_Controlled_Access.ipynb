{
 "cells": [
  {
   "cell_type": "markdown",
   "metadata": {},
   "source": [
    "## Accessing SRA Controlled Access data\n",
    "This notebook explores using GA4GH DRS to access data stored in the cloud for a controlled access dbGaP project - [phs001554](https://www.ncbi.nlm.nih.gov/projects/gap/cgi-bin/study.cgi?study_id=phs001554.v1.p1) \"Detection of Colorectal Cancer Susceptibility Loci Using Genome-Wide Sequencing\".\n",
    "\n",
    "A query using the GA4GH Search API on subject and file attributes identifies some DRS ids. \n",
    "\n",
    ">Note: The subject and sample data searched through the initial query are on a scrambled copy of the data so that no controlled access records remain intact. Please do not attempt to draw meaningful associations between the subject and sample attributes with the genomic data; this would lead to erroneous conclusions. These examples serve only to illustrate future possibilities, in the hope of identifying ways to make those possibilities real.\n",
    ">\n",
    ">The sequence files used in this notebook are also under controlled access. You will not be able to access those files unless you have been granted access through dbGaP to the phs001554 study. If you have that access you will also have access to the non-scrambled subject and sample data. If that is the case, we would be pleased to hear of your interest, and the possibility of collaborating to ensure the GA4GH tools described here enable your studies. Please see [form to register interest](https://docs.google.com/forms/d/e/1FAIpQLSfmmc3VKd6ANdzaVMyelT3c9gIWuoS4ZwT0vsqD-o2ZRxJf7A/viewform)"
   ]
  },
  {
   "cell_type": "code",
   "execution_count": 1,
   "metadata": {},
   "outputs": [
    {
     "name": "stderr",
     "output_type": "stream",
     "text": [
      "/Users/forei/imfenvs/fasp/lib/python3.9/site-packages/pandas/compat/__init__.py:124: UserWarning: Could not import the lzma module. Your installed Python is incomplete. Attempting to use lzma compression will result in a RuntimeError.\n",
      "  warnings.warn(msg)\n"
     ]
    },
    {
     "name": "stdout",
     "output_type": "stream",
     "text": [
      "_Retrieving the query_\n",
      "____Page1_______________\n",
      "____Page2_______________\n",
      "____Page3_______________\n",
      "____Page4_______________\n",
      "____Page5_______________\n",
      "____Page6_______________\n",
      "____Page7_______________\n",
      "____Page8_______________\n"
     ]
    },
    {
     "data": {
      "text/html": [
       "<div>\n",
       "<style scoped>\n",
       "    .dataframe tbody tr th:only-of-type {\n",
       "        vertical-align: middle;\n",
       "    }\n",
       "\n",
       "    .dataframe tbody tr th {\n",
       "        vertical-align: top;\n",
       "    }\n",
       "\n",
       "    .dataframe thead th {\n",
       "        text-align: right;\n",
       "    }\n",
       "</style>\n",
       "<table border=\"1\" class=\"dataframe\">\n",
       "  <thead>\n",
       "    <tr style=\"text-align: right;\">\n",
       "      <th></th>\n",
       "      <th>acc</th>\n",
       "      <th>sample_id</th>\n",
       "      <th>sra_drs_id</th>\n",
       "      <th>sex</th>\n",
       "      <th>age</th>\n",
       "    </tr>\n",
       "  </thead>\n",
       "  <tbody>\n",
       "    <tr>\n",
       "      <th>0</th>\n",
       "      <td>SRR7271789</td>\n",
       "      <td>117486</td>\n",
       "      <td>2b070565053062762fed8a1f61fd5c91</td>\n",
       "      <td>Male</td>\n",
       "      <td>55</td>\n",
       "    </tr>\n",
       "    <tr>\n",
       "      <th>1</th>\n",
       "      <td>SRR7271937</td>\n",
       "      <td>117674</td>\n",
       "      <td>8e9c797b4355262ffc196c599feaa9a1</td>\n",
       "      <td>Female</td>\n",
       "      <td>52</td>\n",
       "    </tr>\n",
       "    <tr>\n",
       "      <th>2</th>\n",
       "      <td>SRR7271969</td>\n",
       "      <td>117712</td>\n",
       "      <td>f0c0c37b8b86dabbe0e91a7f6992190d</td>\n",
       "      <td>Male</td>\n",
       "      <td>55</td>\n",
       "    </tr>\n",
       "    <tr>\n",
       "      <th>3</th>\n",
       "      <td>SRR7271990</td>\n",
       "      <td>117734</td>\n",
       "      <td>c15f6394b7587f5ce555477b6a01c192</td>\n",
       "      <td>Male</td>\n",
       "      <td>55</td>\n",
       "    </tr>\n",
       "    <tr>\n",
       "      <th>4</th>\n",
       "      <td>SRR7272010</td>\n",
       "      <td>117757</td>\n",
       "      <td>8509c4f03ffc2887eb2ff8e43a08600d</td>\n",
       "      <td>Female</td>\n",
       "      <td>55</td>\n",
       "    </tr>\n",
       "    <tr>\n",
       "      <th>5</th>\n",
       "      <td>SRR7272065</td>\n",
       "      <td>117839</td>\n",
       "      <td>29776be9ed54a784436b85eb3dd83707</td>\n",
       "      <td>Female</td>\n",
       "      <td>54</td>\n",
       "    </tr>\n",
       "    <tr>\n",
       "      <th>6</th>\n",
       "      <td>SRR7272074</td>\n",
       "      <td>117851</td>\n",
       "      <td>8c1ff55db5e9939dc8edeacdf5bbacdc</td>\n",
       "      <td>Male</td>\n",
       "      <td>55</td>\n",
       "    </tr>\n",
       "    <tr>\n",
       "      <th>7</th>\n",
       "      <td>SRR7272075</td>\n",
       "      <td>117852</td>\n",
       "      <td>b0353ec6fa92d9512ac8212c947f935b</td>\n",
       "      <td>Male</td>\n",
       "      <td>50</td>\n",
       "    </tr>\n",
       "    <tr>\n",
       "      <th>8</th>\n",
       "      <td>SRR7272080</td>\n",
       "      <td>117861</td>\n",
       "      <td>4b39f0ae4d472f7a53c59de2a055ced5</td>\n",
       "      <td>Female</td>\n",
       "      <td>53</td>\n",
       "    </tr>\n",
       "    <tr>\n",
       "      <th>9</th>\n",
       "      <td>SRR7272088</td>\n",
       "      <td>117876</td>\n",
       "      <td>81ee4a7ff13793ed914cdd913ca10b45</td>\n",
       "      <td>Male</td>\n",
       "      <td>52</td>\n",
       "    </tr>\n",
       "  </tbody>\n",
       "</table>\n",
       "</div>"
      ],
      "text/plain": [
       "          acc sample_id                        sra_drs_id     sex  age\n",
       "0  SRR7271789    117486  2b070565053062762fed8a1f61fd5c91    Male   55\n",
       "1  SRR7271937    117674  8e9c797b4355262ffc196c599feaa9a1  Female   52\n",
       "2  SRR7271969    117712  f0c0c37b8b86dabbe0e91a7f6992190d    Male   55\n",
       "3  SRR7271990    117734  c15f6394b7587f5ce555477b6a01c192    Male   55\n",
       "4  SRR7272010    117757  8509c4f03ffc2887eb2ff8e43a08600d  Female   55\n",
       "5  SRR7272065    117839  29776be9ed54a784436b85eb3dd83707  Female   54\n",
       "6  SRR7272074    117851  8c1ff55db5e9939dc8edeacdf5bbacdc    Male   55\n",
       "7  SRR7272075    117852  b0353ec6fa92d9512ac8212c947f935b    Male   50\n",
       "8  SRR7272080    117861  4b39f0ae4d472f7a53c59de2a055ced5  Female   53\n",
       "9  SRR7272088    117876  81ee4a7ff13793ed914cdd913ca10b45    Male   52"
      ]
     },
     "execution_count": 1,
     "metadata": {},
     "output_type": "execute_result"
    }
   ],
   "source": [
    "from fasp.search import DataConnectClient\n",
    "cl = DataConnectClient('https://ga4gh-search-adapter-presto-public.prod.dnastack.com/')\n",
    "query = '''select acc, sa.sample_id, sra_drs_id, sex, age\n",
    "from search_cloud.cshcodeathon.gecco_sra_drs_index i\n",
    "join dbgap_demo.scr_gecco_susceptibility.sample_multi sa on sa.sample_id = i.sample_id\n",
    "join dbgap_demo.scr_gecco_susceptibility.subject_phenotypes_multi su on su.dbgap_subject_id = sa.dbgap_subject_id\n",
    "where age between 50 and 55\n",
    "and affection_status = 'Case'\n",
    "and file_type = 'cram' limit 10'''\n",
    "df = cl.runQuery(query, returnType='dataframe')\n",
    "df"
   ]
  },
  {
   "cell_type": "code",
   "execution_count": 2,
   "metadata": {},
   "outputs": [
    {
     "data": {
      "text/plain": [
       "{'access_methods': [{'access_id': 'd8978ce9600021f666e6d69c0c019b61729e919dcd8595961d7af407efad25a7',\n",
       "   'region': 'gs.US',\n",
       "   'type': 'https'},\n",
       "  {'access_id': '86cc5b67877fa4ced634f19b5acb292f5d2213cadb58c46465a1bdbfe12674b9',\n",
       "   'region': 's3.us-east-1',\n",
       "   'type': 'https'}],\n",
       " 'checksums': [{'checksum': 'c15f6394b7587f5ce555477b6a01c192',\n",
       "   'type': 'md5'}],\n",
       " 'created_time': '2018-06-11T10:29:04Z',\n",
       " 'id': 'c15f6394b7587f5ce555477b6a01c192',\n",
       " 'name': '117734.recal.cram',\n",
       " 'self_url': 'drs://locate.be-md.ncbi.nlm.nih.gov/c15f6394b7587f5ce555477b6a01c192',\n",
       " 'size': 37405850269}"
      ]
     },
     "execution_count": 2,
     "metadata": {},
     "output_type": "execute_result"
    }
   ],
   "source": [
    "from fasp.loc import SRADRSClient\n",
    "drsClient = SRADRSClient('https://locate.be-md.ncbi.nlm.nih.gov', public=True)\n",
    "# extract an example if from the results above\n",
    "example_id = df.at[3,'sra_drs_id']\n",
    "# Use DRS to find locations for the file\n",
    "res_list = drsClient.getObject(example_id)\n",
    "res_list"
   ]
  },
  {
   "cell_type": "markdown",
   "metadata": {},
   "source": [
    "Use custom client method to get a URL to the file in a specified region."
   ]
  },
  {
   "cell_type": "code",
   "execution_count": 3,
   "metadata": {},
   "outputs": [
    {
     "name": "stdout",
     "output_type": "stream",
     "text": [
      "Unauthorized for that DRS id\n"
     ]
    }
   ],
   "source": [
    "drsClient.getAccessURLRegion(example_id, 's3.us-east-1')\n"
   ]
  },
  {
   "cell_type": "code",
   "execution_count": 4,
   "metadata": {},
   "outputs": [
    {
     "name": "stdout",
     "output_type": "stream",
     "text": [
      "Unauthorized for that DRS id\n"
     ]
    }
   ],
   "source": [
    "drsClient.getAccessURL(example_id,'d8978ce9600021f666e6d69c0c019b61729e919dcd8595961d7af407efad25a7')"
   ]
  },
  {
   "cell_type": "markdown",
   "metadata": {},
   "source": [
    "### For interest: Compare the same file on Seven Bridges"
   ]
  },
  {
   "cell_type": "code",
   "execution_count": 3,
   "metadata": {},
   "outputs": [
    {
     "name": "stdout",
     "output_type": "stream",
     "text": [
      "_Retrieving the query_\n",
      "____Page1_______________\n",
      "____Page2_______________\n",
      "____Page3_______________\n",
      "____Page4_______________\n",
      "____Page5_______________\n"
     ]
    },
    {
     "data": {
      "text/plain": [
       "[['117497', 'cram', '5ba922a0e4b0db63859cd973']]"
      ]
     },
     "execution_count": 3,
     "metadata": {},
     "output_type": "execute_result"
    }
   ],
   "source": [
    "query2 = \"select * from dbgap_demo.scr_gecco_susceptibility.sb_drs_index where sample_id = '117497' and file_type = 'cram'\"\n",
    "cl.runQuery(query2)"
   ]
  },
  {
   "cell_type": "code",
   "execution_count": 6,
   "metadata": {},
   "outputs": [
    {
     "data": {
      "text/plain": [
       "{'id': '5ba922a0e4b0db63859cd973',\n",
       " 'name': '117497.recal.cram',\n",
       " 'size': 36933985367,\n",
       " 'checksums': [{'type': 'etag',\n",
       "   'checksum': '3e4e93345c7b74540706416f51959092-4403'}],\n",
       " 'self_uri': 'drs://cgc-ga4gh-api.sbgenomics.com/5ba922a0e4b0db63859cd973',\n",
       " 'created_time': '2018-09-24T17:45:04Z',\n",
       " 'updated_time': '2018-11-09T15:56:37Z',\n",
       " 'mime_type': 'application/json',\n",
       " 'access_methods': [{'type': 's3',\n",
       "   'region': 'us-east-1',\n",
       "   'access_id': 'aws-us-east-1'}]}"
      ]
     },
     "execution_count": 6,
     "metadata": {},
     "output_type": "execute_result"
    }
   ],
   "source": [
    "from fasp.loc import sbcgcDRSClient\n",
    "drsClient = sbcgcDRSClient('/Users/forei/.keys/sevenbridges_keys.json', 's3')\n",
    "drsClient.getObject('5ba922a0e4b0db63859cd973')"
   ]
  },
  {
   "cell_type": "markdown",
   "metadata": {},
   "source": [
    "### For interest: Compare the same file on NCI Data Commons Framework (Gen3)\n",
    "To do."
   ]
  },
  {
   "cell_type": "code",
   "execution_count": null,
   "metadata": {},
   "outputs": [],
   "source": []
  }
 ],
 "metadata": {
  "kernelspec": {
   "display_name": "Python 3 (ipykernel)",
   "language": "python",
   "name": "python3"
  },
  "language_info": {
   "codemirror_mode": {
    "name": "ipython",
    "version": 3
   },
   "file_extension": ".py",
   "mimetype": "text/x-python",
   "name": "python",
   "nbconvert_exporter": "python",
   "pygments_lexer": "ipython3",
   "version": "3.9.7"
  }
 },
 "nbformat": 4,
 "nbformat_minor": 4
}
