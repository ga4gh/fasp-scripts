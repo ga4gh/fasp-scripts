{
 "cells": [
  {
   "cell_type": "markdown",
   "metadata": {},
   "source": [
    "## Expanding DRS Bundles -  SRA Example\n",
    "Aside from the question of the schema in a bundle covered in the SRA_IDs_and_bundling example the following looks at the capability in the DRS request to expand a bundle.\n",
    "\n",
    "To ask for a bundle to be expanded a parameter is added to the request, for example for the SRA server:\n",
    "```\n",
    "https://locate.be-md.ncbi.nlm.nih.gov/idx/v1/objects/<id>?expand=true\n",
    "```\n",
    "\n",
    "DRSClient provides a Python binding for that capability and is used in the examples that follow."
   ]
  },
  {
   "cell_type": "markdown",
   "metadata": {},
   "source": [
    "### Bundling at the experiment level. An SRX accession\n",
    "\n",
    "SRA's data model has a number of levels. In descending order they are.\n",
    "* SRP - Project, a project in which sequencing has been done\n",
    "* SRS - Sample, a physical sample from the project. What it represents depnds on scientific investigation in the Project.\n",
    "* SRX - Experiment, the application of a particular sequencing technology to some Sample\n",
    "* SRR - Run, the run, on a sequencer, of material from the Experiment\n",
    "\n",
    "In the following example, SRADRSClient IDentity eXchange service (IDX) is called to get the DRS id which corresponds to a sequencing experiment (SRX). A DRS getObject call with expand=True results in the Run (SRR) nested within the Experiment to be expanded."
   ]
  },
  {
   "cell_type": "code",
   "execution_count": 1,
   "metadata": {},
   "outputs": [
    {
     "name": "stdout",
     "output_type": "stream",
     "text": [
      "Response from IDX for accession SRX719843\n",
      "{'drs-base': 'drs://locate.be-md.ncbi.nlm.nih.gov', 'response': {'SRX719843': {'drs': '16139c5b6f36034eb09768c17a90fd23', 'status_code': 200}}}\n",
      "\n",
      "DRS ID corresponding to accession SRX719843\n",
      "16139c5b6f36034eb09768c17a90fd23\n",
      "\n",
      "SRA DRS response for 16139c5b6f36034eb09768c17a90fd23\n",
      "{\n",
      "   \"checksums\": [\n",
      "      {\n",
      "         \"checksum\": \"16139c5b6f36034eb09768c17a90fd23\",\n",
      "         \"type\": \"md5\"\n",
      "      }\n",
      "   ],\n",
      "   \"contents\": [\n",
      "      {\n",
      "         \"contents\": [\n",
      "            {\n",
      "               \"id\": \"37f0c2a65cc4b89d497d965332fa530b\",\n",
      "               \"name\": \"HG00096.unmapped.ILLUMINA.bwa.GBR.exome.20120522.bam\"\n",
      "            },\n",
      "            {\n",
      "               \"id\": \"5d4ae7a46d470036d99429c363498965\",\n",
      "               \"name\": \"HG00096.mapped.ILLUMINA.bwa.GBR.exome.20120522.bam\"\n",
      "            }\n",
      "         ],\n",
      "         \"id\": \"fd074040842ce8c2e114b4eed7accee0\",\n",
      "         \"name\": \"SRR1596638\"\n",
      "      }\n",
      "   ],\n",
      "   \"created_time\": \"2012-11-19T15:20:25Z\",\n",
      "   \"id\": \"16139c5b6f36034eb09768c17a90fd23\",\n",
      "   \"name\": \"SRX719843\",\n",
      "   \"self_url\": \"drs://locate.be-md.ncbi.nlm.nih.gov/16139c5b6f36034eb09768c17a90fd23\",\n",
      "   \"size\": 9205789476\n",
      "}\n"
     ]
    }
   ],
   "source": [
    "from fasp.loc import SRADRSClient\n",
    "import json\n",
    "\n",
    "# Set up a client to access NCBI's  DRS Server for the Sequence Read Archive (SRA)\n",
    "drsClient = SRADRSClient('https://locate.be-md.ncbi.nlm.nih.gov', public=True)\n",
    "accession= 'SRX719843'\n",
    "res = drsClient.acc2drs(accession)\n",
    "print(\"Response from IDX for accession {}\".format(accession))\n",
    "print(res)\n",
    "drs_id = res['response'][accession]['drs']\n",
    "print(\"\\nDRS ID corresponding to accession {}\".format(accession))\n",
    "print(drs_id)\n",
    "drs_response = drsClient.getObject(drs_id, expand=True)\n",
    "print(\"\\nSRA DRS response for {}\".format(drs_id))\n",
    "print(json.dumps(drs_response, indent=3))"
   ]
  },
  {
   "cell_type": "markdown",
   "metadata": {},
   "source": [
    "As a reminder, the unexpanded call looks like this, with only the DRS id provided for the Run."
   ]
  },
  {
   "cell_type": "code",
   "execution_count": 2,
   "metadata": {},
   "outputs": [
    {
     "data": {
      "text/plain": [
       "{'checksums': [{'checksum': '16139c5b6f36034eb09768c17a90fd23',\n",
       "   'type': 'md5'}],\n",
       " 'contents': [{'id': 'fd074040842ce8c2e114b4eed7accee0',\n",
       "   'name': 'SRR1596638'}],\n",
       " 'created_time': '2012-11-19T15:20:25Z',\n",
       " 'id': '16139c5b6f36034eb09768c17a90fd23',\n",
       " 'name': 'SRX719843',\n",
       " 'self_url': 'drs://locate.be-md.ncbi.nlm.nih.gov/16139c5b6f36034eb09768c17a90fd23',\n",
       " 'size': 9205789476}"
      ]
     },
     "execution_count": 2,
     "metadata": {},
     "output_type": "execute_result"
    }
   ],
   "source": [
    "drsClient.getObject(drs_id)"
   ]
  },
  {
   "cell_type": "markdown",
   "metadata": {},
   "source": [
    "### What is the correct expansion?\n",
    "Note that the SRA DRS Server does not expand the bundle all the way down to the actual files. An additional DRS call with each of the file DRS ids would be needed.  \n",
    "\n",
    "The [DRS 1.1 spec](https://ga4gh.github.io/data-repository-service-schemas/preview/release/drs-1.1.0/docs/) does seems to suggest that one would expect expansion all the way down to the actual objects. It would make sense given the intent of ?expand=true. However, it is possible to see how some readings of the spec might come to the conclusion that expansion is only intended to go to the bundle level.\n",
    "\n",
    "Created issue to address this https://github.com/ga4gh/data-repository-service-schemas/issues/382"
   ]
  },
  {
   "cell_type": "markdown",
   "metadata": {},
   "source": [
    "## Bundling at a higher level. An SRP accession\n",
    "\n",
    "In the SRA_IDs_and_bundling example we saw how to get the DRS id for SRP048601. As of when the notebook was run the DRS id was 5d8b77dd974e1b7c9de4040cbf9a24c7\n",
    "\n",
    "Expanding an SRA project bundle explores the challenges of scaling expansion. \n",
    "\n",
    "Here is the unexpanded version. We should not rely on the previous DRS id for that accession still being valid, so we will call IDX again to get it."
   ]
  },
  {
   "cell_type": "code",
   "execution_count": 3,
   "metadata": {},
   "outputs": [
    {
     "name": "stdout",
     "output_type": "stream",
     "text": [
      "Response from IDX for accession SRP048601\n",
      "{'drs-base': 'drs://locate.be-md.ncbi.nlm.nih.gov', 'response': {'SRP048601': {'drs': '5d8b77dd974e1b7c9de4040cbf9a24c7', 'status_code': 200}}}\n",
      "CPU times: user 16.4 ms, sys: 3.65 ms, total: 20.1 ms\n",
      "Wall time: 22.7 s\n"
     ]
    }
   ],
   "source": [
    "%%time\n",
    "accession= 'SRP048601'\n",
    "res = drsClient.acc2drs(accession)\n",
    "print(\"Response from IDX for accession {}\".format(accession))\n",
    "print(res)"
   ]
  },
  {
   "cell_type": "code",
   "execution_count": 4,
   "metadata": {},
   "outputs": [
    {
     "name": "stdout",
     "output_type": "stream",
     "text": [
      "No of items at top level of bundle: 5070\n",
      "CPU times: user 24.8 ms, sys: 4.96 ms, total: 29.7 ms\n",
      "Wall time: 1.51 s\n"
     ]
    }
   ],
   "source": [
    "%%time\n",
    "drs_id = res['response'][accession]['drs']\n",
    "drsRes = drsClient.getObject(drs_id)\n",
    "print(\"No of items at top level of bundle: {}\".format(len(drsRes['contents'])))"
   ]
  },
  {
   "cell_type": "markdown",
   "metadata": {},
   "source": [
    "The full bundle is not printed here. The following is a truncated example.\n",
    "\n",
    "```json\n",
    "{'checksums': [{'checksum': '5d8b77dd974e1b7c9de4040cbf9a24c7',\n",
    "   'type': 'md5'}],\n",
    " 'contents': [{'id': 'f2b7f3f7c123a38eb904c5412ce48757', 'name': 'SRX719457'},\n",
    "  {'id': '16139c5b6f36034eb09768c17a90fd23', 'name': 'SRX719843'},\n",
    "  {'id': '8fa664d99d3cc9fb701d15e026e14950', 'name': 'SRX719844'},\n",
    "  {'id': 'a4165df1fcea2234c42128bcb1d26cc0', 'name': 'SRX719845'},\n",
    "  {'id': '287a5d73a2ba5abf10d6bbcdb0b4ed42', 'name': 'SRX719846'},\n",
    "  {'id': '4b995cc57ff3d4ebeac9684f2b9f7f7f', 'name': 'SRX719847'},\n",
    "  {'id': 'b488ab01ce3fa83addea057153ec449c', 'name': 'SRX719848'},\n",
    "  {'id': 'b3dd0d947f7e901bedf9f5789565ed07', 'name': 'SRX719849'},\n",
    "  {'id': 'a3bfebcf770157458454986092aeda62', 'name': 'SRX719850'},\n",
    "  {'id': '8165dc2b262ba94fdfd9a14bc7919fd4', 'name': 'SRX719851'},\n",
    " \n",
    "  ...],\n",
    " 'created_time': '2012-11-15T14:00:55Z',\n",
    " 'id': '5d8b77dd974e1b7c9de4040cbf9a24c7',\n",
    " 'name': 'SRP048601',\n",
    " 'self_url': 'drs://locate.md-be.ncbi.nlm.nih.gov/5d8b77dd974e1b7c9de4040cbf9a24c7',\n",
    " 'size': 87447929899239}\n",
    "```"
   ]
  },
  {
   "cell_type": "markdown",
   "metadata": {},
   "source": [
    "### The expanded version of an SRA Project bundle\n",
    "The first thing to note in the following is that it took almost four minutes to expand the bundle, compared with 586 ms without expansion. "
   ]
  },
  {
   "cell_type": "code",
   "execution_count": 5,
   "metadata": {},
   "outputs": [
    {
     "name": "stdout",
     "output_type": "stream",
     "text": [
      "CPU times: user 67.1 ms, sys: 12 ms, total: 79 ms\n",
      "Wall time: 1min 30s\n"
     ]
    }
   ],
   "source": [
    "%%time\n",
    "drsRes = drsClient.getObject(drs_id, expand=True)"
   ]
  },
  {
   "cell_type": "markdown",
   "metadata": {},
   "source": [
    "With the same 5070 sequence experiments in the result it is too verbose to list. The following is sufficient to illustrate. Note the following\n",
    "* Three levels of hierarchy within the expanded bundle\n",
    "* In this SRA project there is only one run per experiment (see code in next step)\n",
    "* The content for a run is of a variable nature. i.e. the data model/schema is different.\n",
    "\n",
    "\n",
    "```json\n",
    "{\n",
    "   \"checksums\": [\n",
    "      {\n",
    "         \"checksum\": \"5d8b77dd974e1b7c9de4040cbf9a24c7\",\n",
    "         \"type\": \"md5\"\n",
    "      }\n",
    "   ],\n",
    "   \"contents\": [\n",
    "      {\n",
    "         \"contents\": [\n",
    "            {\n",
    "               \"contents\": [\n",
    "                  {\n",
    "                     \"id\": \"60a098a596e5a0155043d4eb42833460\",\n",
    "                     \"name\": \"NA20362.mapped.ILLUMINA.bwa.ASW.low_coverage.20130415.bam\"\n",
    "                  },\n",
    "                  {\n",
    "                     \"id\": \"81c5d083909a6fe8e23fc55edb9e0d5a\",\n",
    "                     \"name\": \"NA20362.unmapped.ILLUMINA.bwa.ASW.low_coverage.20130415.bam\"\n",
    "                  }\n",
    "               ],\n",
    "               \"id\": \"662aecc9370a4efa7af7c926ed411a06\",\n",
    "               \"name\": \"SRR1596219\"\n",
    "            }\n",
    "         ],\n",
    "         \"id\": \"f2b7f3f7c123a38eb904c5412ce48757\",\n",
    "         \"name\": \"SRX719457\"\n",
    "      },\n",
    "       ...\n",
    "      {\n",
    "         \"contents\": [\n",
    "            {\n",
    "               \"contents\": [\n",
    "                  {\n",
    "                     \"id\": \"26b441c4bd1909e4303ba409cc6397e3\",\n",
    "                     \"name\": \"HG01170.unmapped.ILLUMINA.bwa.PUR.exome.20120522.bam\"\n",
    "                  },\n",
    "                  {\n",
    "                     \"id\": \"4aa3aef815edb4aa27f1a3ef4ba7499a\",\n",
    "                     \"name\": \"HG01170.mapped.ILLUMINA.bwa.PUR.exome.20120522.bam.bai\"\n",
    "                  },\n",
    "                  {\n",
    "                     \"id\": \"6b31d85cf5416c28bca6bb2f4870b5c8\",\n",
    "                     \"name\": \"HG01170.mapped.ILLUMINA.bwa.PUR.exome.20120522.bam\"\n",
    "                  }\n",
    "               ],\n",
    "               \"id\": \"673cfcfcefe0e55078efd1408a1eb9d8\",\n",
    "               \"name\": \"SRR1597062\"\n",
    "            }\n",
    "         ],\n",
    "         \"id\": \"61205605d1213c6587b310840886f74b\",\n",
    "         \"name\": \"SRX720267\"\n",
    "      },\n",
    "       ...\n",
    "      {\n",
    "         \"contents\": [\n",
    "            {\n",
    "               \"contents\": [\n",
    "                  {\n",
    "                     \"id\": \"27efc8168c68f1cb121e42e857900524\",\n",
    "                     \"name\": \"HG01171.unmapped.ILLUMINA.bwa.PUR.exome.20120522.bam\"\n",
    "                  },\n",
    "                  {\n",
    "                     \"id\": \"eef85d6d50ca6ad75678ee32167628af\",\n",
    "                     \"name\": \"HG01171.mapped.ILLUMINA.bwa.PUR.exome.20120522.bam\"\n",
    "                  }\n",
    "               ],\n",
    "               \"id\": \"601e6c573db750028d189b7429d02dd8\",\n",
    "               \"name\": \"SRR1597064\"\n",
    "            }\n",
    "         ],\n",
    "         \"id\": \"16059c570cc89ccfb69f6a482671863b\",\n",
    "         \"name\": \"SRX720269\"\n",
    "      }\n",
    "   ],\n",
    "   \"created_time\": \"2012-11-15T14:00:55Z\",\n",
    "   \"id\": \"5d8b77dd974e1b7c9de4040cbf9a24c7\",\n",
    "   \"name\": \"SRP048601\",\n",
    "   \"self_url\": \"drs://locate.md-be.ncbi.nlm.nih.gov/5d8b77dd974e1b7c9de4040cbf9a24c7\",\n",
    "   \"size\": 87447929899239\n",
    "}\n",
    "```\n",
    "\n",
    "\n"
   ]
  },
  {
   "cell_type": "markdown",
   "metadata": {},
   "source": [
    "Though it's too verbose to list the whole output we can summarize the fully expanded bundle as follows"
   ]
  },
  {
   "cell_type": "code",
   "execution_count": 6,
   "metadata": {},
   "outputs": [
    {
     "name": "stdout",
     "output_type": "stream",
     "text": [
      "SRP 1\n",
      "SRX 5070\n",
      "SRR 5070\n",
      "bam 10140\n",
      "bai 2173\n"
     ]
    }
   ],
   "source": [
    "from collections import Counter\n",
    "\n",
    "class bundleExpander:\n",
    "    \n",
    "    def __init__(self):\n",
    "        self.typeCounter = Counter()\n",
    "        \n",
    "    def expand(self, node):\n",
    "        if 'contents' in node:\n",
    "            self.typeCounter[node['name'][:3]] +=1\n",
    "            for subnode in node['contents']:\n",
    "                self.expand(subnode)\n",
    "        else:\n",
    "            # the bottom of the hierarchy is a file, so we'll count the file types\n",
    "            self.typeCounter[node['name'][-3:]] +=1\n",
    "            \n",
    "        return(self.typeCounter)\n",
    "\n",
    "e = bundleExpander()\n",
    "counter = e.expand(drsRes)\n",
    "\n",
    "for k,v in counter.items():\n",
    "    print(k,v)"
   ]
  },
  {
   "cell_type": "markdown",
   "metadata": {},
   "source": [
    "We have a bundle with 1 Project, 5070 experiments, 5070 runs, 10140 bam files and 2173 bam indexes"
   ]
  },
  {
   "cell_type": "code",
   "execution_count": 7,
   "metadata": {},
   "outputs": [
    {
     "name": "stdout",
     "output_type": "stream",
     "text": [
      "No of experiments with more than one run: 0\n"
     ]
    }
   ],
   "source": [
    "expts_with_multiple_runs = 0\n",
    "for sr_experiment in drsRes['contents']:\n",
    "    # find any experiments with more than one run\n",
    "    if len(sr_experiment['contents']) > 1:\n",
    "        expts_with_multiple_runs += 1\n",
    "        print(sr_experiment)\n",
    "print (\"No of experiments with more than one run: {}\".format(expts_with_multiple_runs))"
   ]
  },
  {
   "cell_type": "markdown",
   "metadata": {},
   "source": [
    "### In conclusion\n",
    "\n",
    "* If bundles are  to be used (not confirmed) then bundle expansion is a useful capability\n",
    "* The value of that capability would be greatest if expansion were to go to the file (binary object) level. It would help to confirm that was the intent of the spec. \n",
    "* Expanding bundles may not scale well. The SRA server is helpful in providing a working example. It has been suggested that the option should be provided for a server to respond indicating that expansion is not permitted for a given id.\n"
   ]
  },
  {
   "cell_type": "code",
   "execution_count": null,
   "metadata": {},
   "outputs": [],
   "source": []
  }
 ],
 "metadata": {
  "kernelspec": {
   "display_name": "Python 3 (ipykernel)",
   "language": "python",
   "name": "python3"
  },
  "language_info": {
   "codemirror_mode": {
    "name": "ipython",
    "version": 3
   },
   "file_extension": ".py",
   "mimetype": "text/x-python",
   "name": "python",
   "nbconvert_exporter": "python",
   "pygments_lexer": "ipython3",
   "version": "3.9.7"
  }
 },
 "nbformat": 4,
 "nbformat_minor": 4
}
