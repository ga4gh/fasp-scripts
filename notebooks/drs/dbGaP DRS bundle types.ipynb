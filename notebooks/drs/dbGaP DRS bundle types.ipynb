{
 "cells": [
  {
   "cell_type": "markdown",
   "id": "307e3846",
   "metadata": {},
   "source": [
    "### Explore DRS bundle contents for different dbGaP projects\n",
    "\n",
    "This notebook shows that given the study-specific experimental design different studies ienvitably have different file content. This speaks to the need for an external model which provides the study-specific design."
   ]
  },
  {
   "cell_type": "code",
   "execution_count": 1,
   "id": "ad0d83bb",
   "metadata": {},
   "outputs": [],
   "source": [
    "from fasp.search import DataConnectClient\n",
    "tst = \"~/Downloads/task-specific-token.txt\"\n",
    "cl = DataConnectClient('http://localhost:8089/', 100000, passport=tst)\n",
    "\n",
    "\n",
    "import json\n",
    "from fasp.loc import SRADRSClient\n",
    "drsClient = SRADRSClient('https://locate.be-md.ncbi.nlm.nih.gov', debug=False, passp=tst)"
   ]
  },
  {
   "cell_type": "markdown",
   "id": "b8b05517",
   "metadata": {},
   "source": [
    "### bigquery.UDN\n",
    "\n"
   ]
  },
  {
   "cell_type": "code",
   "execution_count": 13,
   "id": "f19ac32c",
   "metadata": {},
   "outputs": [],
   "source": [
    "def summarize_bundle(bundle_drs_id):\n",
    "    bundle = drsClient.get_object(bundle_drs_id)\n",
    "    print(f\"Bundle name: {bundle['name']}\")\n",
    "    for i in bundle['contents']:\n",
    "        #print(i['name'])\n",
    "        print(i)"
   ]
  },
  {
   "cell_type": "code",
   "execution_count": 3,
   "id": "40642de7",
   "metadata": {
    "scrolled": false
   },
   "outputs": [
    {
     "name": "stdout",
     "output_type": "stream",
     "text": [
      "_Schema for tablebigquery.UDN.run_file2_\n",
      "{\n",
      "   \"errors\": [\n",
      "      {\n",
      "         \"status\": 500,\n",
      "         \"title\": \"Encountered an unexpected error\",\n",
      "         \"details\": \"bb3b3a338b0abb2a: java.lang.IllegalStateException\"\n",
      "      }\n",
      "   ]\n",
      "}\n"
     ]
    },
    {
     "data": {
      "text/plain": [
       "<fasp.search.data_connect_client.SearchSchema at 0x11c4c3bb0>"
      ]
     },
     "execution_count": 3,
     "metadata": {},
     "output_type": "execute_result"
    }
   ],
   "source": [
    "cl.list_table_info('bigquery.UDN.run_file2',verbose=True)"
   ]
  },
  {
   "cell_type": "markdown",
   "id": "13e74a13",
   "metadata": {},
   "source": [
    "### Get the file data for the UDN study\n"
   ]
  },
  {
   "cell_type": "code",
   "execution_count": 5,
   "id": "4348fc7e",
   "metadata": {},
   "outputs": [
    {
     "name": "stdout",
     "output_type": "stream",
     "text": [
      "Retrieving the query\n",
      "____Page1_______________\n",
      "____Page2_______________\n",
      "____Page3_______________\n",
      "____Page4_______________\n",
      "____Page5_______________\n",
      "____Page6_______________\n",
      "____Page7_______________\n",
      "____Page8_______________\n",
      "____Page9_______________\n",
      "____Page10_______________\n",
      "____Page11_______________\n",
      "____Page12_______________\n"
     ]
    }
   ],
   "source": [
    "study_files = cl.run_query(\"select * from bigquery.UDN.run_file2 order by sra_run\", return_type='json')"
   ]
  },
  {
   "cell_type": "code",
   "execution_count": 23,
   "id": "e97dbcb9",
   "metadata": {},
   "outputs": [],
   "source": [
    "from collections import Counter\n",
    "import pandas as pd\n",
    "\n",
    "def getBundleTypeStr(bundle_type):\n",
    "    type_str = ''\n",
    "    sorted_exts = sorted(bundle_type.keys())\n",
    "    for k in sorted_exts:\n",
    "        type_str =f'{type_str}{k}[{bundle_type[k]}]'\n",
    "    return type_str\n",
    "\n",
    "def getBundleTypes(study_file_json):\n",
    "    bundle_types = Counter()\n",
    "    bundle_type = Counter()\n",
    "    first_iteration = True\n",
    "    for f in study_file_json:\n",
    "        # if we have a new run - wrap up the last run\n",
    "        if not first_iteration and f['sra_run'] != last_run:\n",
    "            btype_str = getBundleTypeStr(bundle_type)\n",
    "            bundle_types[btype_str] +=1\n",
    "            bundle_type = Counter()\n",
    "        first_iteration = False\n",
    "        \n",
    "        # Process the current file\n",
    "        file_name = f['file_name']\n",
    "        if '.' in file_name:\n",
    "            parts = f['file_name'].split('.')\n",
    "            #parts.pop(0)\n",
    "            #file_ext = '.'.join(parts)\n",
    "            N = min([len(parts)-1, 2])\n",
    "            file_ext = '.'.join(parts[-N:])\n",
    "        else:\n",
    "            file_ext = 'unknown'\n",
    "        bundle_type[file_ext] +=1\n",
    "\n",
    "\n",
    "        last_run = f['sra_run']\n",
    "    # complete the last bundle\n",
    "    btype_str = getBundleTypeStr(bundle_type)\n",
    "    bundle_types[btype_str] +=1\n",
    "    \n",
    "    # print the deatils\n",
    "    #for t, v in bundle_types.items():\n",
    "        #print (t, v)\n",
    "        \n",
    "    df = pd.DataFrame(bundle_types.items(), columns=['bundle type','no of bundles'])\n",
    "    #print (df)\n",
    "        \n",
    "    return df"
   ]
  },
  {
   "cell_type": "markdown",
   "id": "fb44d59f",
   "metadata": {},
   "source": [
    "The function above identifies for each SRA Run (bundle) the number \n",
    "\n",
    "bundle_type indicates the composition of the run. For example, bam[1] indicates that a run has one bam file. There are 6619 runs like this in the study. unknown[2] means a run had two files whose type could not be determined. There were 48 runs like this, etc."
   ]
  },
  {
   "cell_type": "code",
   "execution_count": 24,
   "id": "57cf2cb6",
   "metadata": {
    "scrolled": true
   },
   "outputs": [
    {
     "data": {
      "text/html": [
       "<div>\n",
       "<style scoped>\n",
       "    .dataframe tbody tr th:only-of-type {\n",
       "        vertical-align: middle;\n",
       "    }\n",
       "\n",
       "    .dataframe tbody tr th {\n",
       "        vertical-align: top;\n",
       "    }\n",
       "\n",
       "    .dataframe thead th {\n",
       "        text-align: right;\n",
       "    }\n",
       "</style>\n",
       "<table border=\"1\" class=\"dataframe\">\n",
       "  <thead>\n",
       "    <tr style=\"text-align: right;\">\n",
       "      <th></th>\n",
       "      <th>bundle type</th>\n",
       "      <th>no of bundles</th>\n",
       "    </tr>\n",
       "  </thead>\n",
       "  <tbody>\n",
       "    <tr>\n",
       "      <th>0</th>\n",
       "      <td>bam[1]</td>\n",
       "      <td>6619</td>\n",
       "    </tr>\n",
       "    <tr>\n",
       "      <th>1</th>\n",
       "      <td>unknown[2]</td>\n",
       "      <td>48</td>\n",
       "    </tr>\n",
       "    <tr>\n",
       "      <th>2</th>\n",
       "      <td>unknown[1]</td>\n",
       "      <td>119</td>\n",
       "    </tr>\n",
       "    <tr>\n",
       "      <th>3</th>\n",
       "      <td>unknown[3]</td>\n",
       "      <td>4</td>\n",
       "    </tr>\n",
       "  </tbody>\n",
       "</table>\n",
       "</div>"
      ],
      "text/plain": [
       "  bundle type  no of bundles\n",
       "0      bam[1]           6619\n",
       "1  unknown[2]             48\n",
       "2  unknown[1]            119\n",
       "3  unknown[3]              4"
      ]
     },
     "execution_count": 24,
     "metadata": {},
     "output_type": "execute_result"
    }
   ],
   "source": [
    "getBundleTypes(study_files)"
   ]
  },
  {
   "cell_type": "markdown",
   "id": "85da806b",
   "metadata": {},
   "source": [
    "### What does one of the unknown[2] bundles look like?"
   ]
  },
  {
   "cell_type": "code",
   "execution_count": 25,
   "id": "453dee34",
   "metadata": {
    "scrolled": true
   },
   "outputs": [
    {
     "name": "stdout",
     "output_type": "stream",
     "text": [
      "Bundle name: SRR5031422\n",
      "{'id': '439f0297f35d47fdc5dba9cf34109112', 'name': '8a32fcfc-1099-4f6a-ac7d-c3be03da59e7'}\n",
      "{'id': '4474b747618a3c598e3d6c391f5b4d82', 'name': '7bd91d7e-b1c6-4eaa-b5d0-313b5e2aaa58'}\n"
     ]
    }
   ],
   "source": [
    "summarize_bundle('b490da7405b83cb242198f3b392fcbc1')"
   ]
  },
  {
   "cell_type": "markdown",
   "id": "b323bdb7",
   "metadata": {},
   "source": [
    "## GECCO phs001554\n",
    "Looking at a different study."
   ]
  },
  {
   "cell_type": "code",
   "execution_count": 28,
   "id": "9896c1e3",
   "metadata": {},
   "outputs": [
    {
     "name": "stdout",
     "output_type": "stream",
     "text": [
      "Retrieving the query\n",
      "____Page1_______________\n",
      "____Page2_______________\n",
      "____Page3_______________\n",
      "____Page4_______________\n",
      "____Page5_______________\n",
      "____Page6_______________\n",
      "____Page7_______________\n",
      "____Page8_______________\n",
      "____Page9_______________\n",
      "____Page10_______________\n",
      "____Page11_______________\n",
      "____Page12_______________\n"
     ]
    }
   ],
   "source": [
    "study_files2 = cl.run_query(\"select * from bigquery.GECCO_CRC_Susceptibility.run_file order by sra_run\", return_type='json')"
   ]
  },
  {
   "cell_type": "markdown",
   "id": "1aa17bfe",
   "metadata": {},
   "source": [
    "The runs in this study are more homogenous. All runs contained one cram file and one index (crai) file."
   ]
  },
  {
   "cell_type": "code",
   "execution_count": 29,
   "id": "9424c1e4",
   "metadata": {
    "scrolled": true
   },
   "outputs": [
    {
     "data": {
      "text/html": [
       "<div>\n",
       "<style scoped>\n",
       "    .dataframe tbody tr th:only-of-type {\n",
       "        vertical-align: middle;\n",
       "    }\n",
       "\n",
       "    .dataframe tbody tr th {\n",
       "        vertical-align: top;\n",
       "    }\n",
       "\n",
       "    .dataframe thead th {\n",
       "        text-align: right;\n",
       "    }\n",
       "</style>\n",
       "<table border=\"1\" class=\"dataframe\">\n",
       "  <thead>\n",
       "    <tr style=\"text-align: right;\">\n",
       "      <th></th>\n",
       "      <th>bundle type</th>\n",
       "      <th>no of bundles</th>\n",
       "    </tr>\n",
       "  </thead>\n",
       "  <tbody>\n",
       "    <tr>\n",
       "      <th>0</th>\n",
       "      <td>cram.crai[1]recal.cram[1]</td>\n",
       "      <td>2892</td>\n",
       "    </tr>\n",
       "  </tbody>\n",
       "</table>\n",
       "</div>"
      ],
      "text/plain": [
       "                 bundle type  no of bundles\n",
       "0  cram.crai[1]recal.cram[1]           2892"
      ]
     },
     "execution_count": 29,
     "metadata": {},
     "output_type": "execute_result"
    }
   ],
   "source": [
    "getBundleTypes(study_files2)"
   ]
  },
  {
   "cell_type": "code",
   "execution_count": 30,
   "id": "c4791378",
   "metadata": {},
   "outputs": [
    {
     "name": "stdout",
     "output_type": "stream",
     "text": [
      "Bundle name: SRR7274346\n",
      "{'id': '0a6478a586b2a5378bc3b69bbfed9b52', 'name': '93598.recal.cram'}\n",
      "{'id': 'e4575cbf92732aadb6ace55bb25ffcc4', 'name': '93598.recal.cram.crai'}\n"
     ]
    }
   ],
   "source": [
    "summarize_bundle('e2ee588c6ae07189e7ab89f405ff00cc')"
   ]
  },
  {
   "cell_type": "markdown",
   "id": "9cfe6354",
   "metadata": {},
   "source": [
    "## LCCC-1108 phs001713"
   ]
  },
  {
   "cell_type": "code",
   "execution_count": 32,
   "id": "3a920716",
   "metadata": {},
   "outputs": [
    {
     "name": "stdout",
     "output_type": "stream",
     "text": [
      "Retrieving the query\n",
      "____Page1_______________\n",
      "____Page2_______________\n",
      "____Page3_______________\n",
      "____Page4_______________\n",
      "____Page5_______________\n",
      "____Page6_______________\n",
      "____Page7_______________\n",
      "____Page8_______________\n",
      "____Page9_______________\n",
      "____Page10_______________\n",
      "____Page11_______________\n",
      "Client row limit of 10000 was reached. Reset limit with care!\n"
     ]
    }
   ],
   "source": [
    "study_files3 = cl.run_query(\"select * from bigquery.LCCC_1108.run_file order by sra_run\", return_type='json')"
   ]
  },
  {
   "cell_type": "code",
   "execution_count": 83,
   "id": "d92c7d4c",
   "metadata": {},
   "outputs": [
    {
     "name": "stdout",
     "output_type": "stream",
     "text": [
      "Retrieving the query\n",
      "____Page1_______________\n",
      "____Page2_______________\n",
      "____Page3_______________\n",
      "____Page4_______________\n",
      "____Page5_______________\n",
      "____Page6_______________\n",
      "____Page7_______________\n"
     ]
    },
    {
     "data": {
      "text/plain": [
       "[[11230]]"
      ]
     },
     "execution_count": 83,
     "metadata": {},
     "output_type": "execute_result"
    }
   ],
   "source": [
    "cl.run_query(\"select count(*) from bigquery.LCCC_1108.run_file\")"
   ]
  },
  {
   "cell_type": "code",
   "execution_count": 84,
   "id": "6edc8594",
   "metadata": {},
   "outputs": [
    {
     "data": {
      "text/plain": [
       "11230"
      ]
     },
     "execution_count": 84,
     "metadata": {},
     "output_type": "execute_result"
    }
   ],
   "source": [
    "len(study_files3)"
   ]
  },
  {
   "cell_type": "markdown",
   "id": "80cd79ed",
   "metadata": {},
   "source": [
    "In this study only compressed fastq files were found, but runs contained variable numbers of files. "
   ]
  },
  {
   "cell_type": "code",
   "execution_count": 33,
   "id": "4ee9828e",
   "metadata": {},
   "outputs": [
    {
     "data": {
      "text/html": [
       "<div>\n",
       "<style scoped>\n",
       "    .dataframe tbody tr th:only-of-type {\n",
       "        vertical-align: middle;\n",
       "    }\n",
       "\n",
       "    .dataframe tbody tr th {\n",
       "        vertical-align: top;\n",
       "    }\n",
       "\n",
       "    .dataframe thead th {\n",
       "        text-align: right;\n",
       "    }\n",
       "</style>\n",
       "<table border=\"1\" class=\"dataframe\">\n",
       "  <thead>\n",
       "    <tr style=\"text-align: right;\">\n",
       "      <th></th>\n",
       "      <th>bundle type</th>\n",
       "      <th>no of bundles</th>\n",
       "    </tr>\n",
       "  </thead>\n",
       "  <tbody>\n",
       "    <tr>\n",
       "      <th>0</th>\n",
       "      <td>fastq.gz[4]</td>\n",
       "      <td>2111</td>\n",
       "    </tr>\n",
       "    <tr>\n",
       "      <th>1</th>\n",
       "      <td>fastq.gz[2]</td>\n",
       "      <td>1339</td>\n",
       "    </tr>\n",
       "    <tr>\n",
       "      <th>2</th>\n",
       "      <td>fastq.gz[1]</td>\n",
       "      <td>108</td>\n",
       "    </tr>\n",
       "  </tbody>\n",
       "</table>\n",
       "</div>"
      ],
      "text/plain": [
       "   bundle type  no of bundles\n",
       "0  fastq.gz[4]           2111\n",
       "1  fastq.gz[2]           1339\n",
       "2  fastq.gz[1]            108"
      ]
     },
     "execution_count": 33,
     "metadata": {},
     "output_type": "execute_result"
    }
   ],
   "source": [
    "getBundleTypes(study_files3)"
   ]
  },
  {
   "cell_type": "markdown",
   "id": "1eb92672",
   "metadata": {},
   "source": [
    "### Example bundles\n",
    "\n",
    "Looking at an example bundle..."
   ]
  },
  {
   "cell_type": "code",
   "execution_count": 34,
   "id": "b92372f6",
   "metadata": {},
   "outputs": [
    {
     "name": "stdout",
     "output_type": "stream",
     "text": [
      "Bundle name: SRR10327764\n",
      "{'id': '0f764ed7ef1cd6075a0224a372a2702d', 'name': '130814_UNC17-D00216_0066_AH725CADXX_ACCTCCAA_L001_1.fastq.gz'}\n",
      "{'id': '3d14ec827be54f4c46bd04731a630b94', 'name': '130814_UNC17-D00216_0066_AH725CADXX_ACCTCCAA_L002_1.fastq.gz'}\n",
      "{'id': 'c4d73ba900b6fa50c544c65694f4e97c', 'name': '130814_UNC17-D00216_0066_AH725CADXX_ACCTCCAA_L001_2.fastq.gz'}\n",
      "{'id': 'f4ec3088f0345ce5db58361655d6405c', 'name': '130814_UNC17-D00216_0066_AH725CADXX_ACCTCCAA_L002_2.fastq.gz'}\n"
     ]
    }
   ],
   "source": [
    "summarize_bundle('832cbe2df4027776cabb4270e26be4ba')"
   ]
  },
  {
   "cell_type": "code",
   "execution_count": 106,
   "id": "9d1fda8f",
   "metadata": {},
   "outputs": [
    {
     "name": "stdout",
     "output_type": "stream",
     "text": [
      "Bundle name: SRR10329167\n",
      "151116_NS500270_0070_AHHJH2BGXX_HHJH2BGXX_CCGTGAGA_S1_L001_R2.fastq.gz\n",
      "151116_NS500270_0070_AHHJH2BGXX_HHJH2BGXX_CCGTGAGA_S1_L001_R1.fastq.gz\n"
     ]
    }
   ],
   "source": [
    "summarize_bundle('aea12cd67902679f816aa2bcc2108a7c')"
   ]
  },
  {
   "cell_type": "markdown",
   "id": "4bde3004",
   "metadata": {},
   "source": [
    "There seems to be  a pattern to these files for SRR10327392, but it takes special knowledge and inference to work it out. The SRA database is able to provide some insight to this, but that is not accessed through DRS."
   ]
  },
  {
   "cell_type": "markdown",
   "id": "bbc7f703",
   "metadata": {},
   "source": [
    "### PPTC"
   ]
  },
  {
   "cell_type": "code",
   "execution_count": 38,
   "id": "8e9ed30c",
   "metadata": {},
   "outputs": [
    {
     "name": "stdout",
     "output_type": "stream",
     "text": [
      "Retrieving the query\n",
      "____Page1_______________\n",
      "____Page2_______________\n",
      "____Page3_______________\n",
      "____Page4_______________\n",
      "____Page5_______________\n",
      "____Page6_______________\n",
      "____Page7_______________\n",
      "____Page8_______________\n",
      "____Page9_______________\n",
      "____Page10_______________\n",
      "____Page11_______________\n",
      "____Page12_______________\n"
     ]
    }
   ],
   "source": [
    "study_files4 = cl.run_query(\"select * from bigquery.PPTC.run_file order by sra_run\", return_type='json')"
   ]
  },
  {
   "cell_type": "code",
   "execution_count": 39,
   "id": "78fb2e96",
   "metadata": {},
   "outputs": [
    {
     "data": {
      "text/html": [
       "<div>\n",
       "<style scoped>\n",
       "    .dataframe tbody tr th:only-of-type {\n",
       "        vertical-align: middle;\n",
       "    }\n",
       "\n",
       "    .dataframe tbody tr th {\n",
       "        vertical-align: top;\n",
       "    }\n",
       "\n",
       "    .dataframe thead th {\n",
       "        text-align: right;\n",
       "    }\n",
       "</style>\n",
       "<table border=\"1\" class=\"dataframe\">\n",
       "  <thead>\n",
       "    <tr style=\"text-align: right;\">\n",
       "      <th></th>\n",
       "      <th>bundle type</th>\n",
       "      <th>no of bundles</th>\n",
       "    </tr>\n",
       "  </thead>\n",
       "  <tbody>\n",
       "    <tr>\n",
       "      <th>0</th>\n",
       "      <td>bam[1]</td>\n",
       "      <td>643</td>\n",
       "    </tr>\n",
       "    <tr>\n",
       "      <th>1</th>\n",
       "      <td>recal.bam[1]</td>\n",
       "      <td>7</td>\n",
       "    </tr>\n",
       "    <tr>\n",
       "      <th>2</th>\n",
       "      <td>human.bam[1]</td>\n",
       "      <td>40</td>\n",
       "    </tr>\n",
       "    <tr>\n",
       "      <th>3</th>\n",
       "      <td>PDX.bam[1]</td>\n",
       "      <td>163</td>\n",
       "    </tr>\n",
       "    <tr>\n",
       "      <th>4</th>\n",
       "      <td>bam[2]</td>\n",
       "      <td>116</td>\n",
       "    </tr>\n",
       "  </tbody>\n",
       "</table>\n",
       "</div>"
      ],
      "text/plain": [
       "    bundle type  no of bundles\n",
       "0        bam[1]            643\n",
       "1  recal.bam[1]              7\n",
       "2  human.bam[1]             40\n",
       "3    PDX.bam[1]            163\n",
       "4        bam[2]            116"
      ]
     },
     "execution_count": 39,
     "metadata": {},
     "output_type": "execute_result"
    }
   ],
   "source": [
    "getBundleTypes(study_files4)"
   ]
  },
  {
   "cell_type": "markdown",
   "id": "19365258",
   "metadata": {},
   "source": [
    "### Example bundles"
   ]
  },
  {
   "cell_type": "code",
   "execution_count": 113,
   "id": "69d88f87",
   "metadata": {},
   "outputs": [
    {
     "name": "stdout",
     "output_type": "stream",
     "text": [
      "Bundle name: SRR6226625\n",
      "PPTCOS44-D-human.bam\n",
      "PPTCOS44-D-PDX.bam\n"
     ]
    }
   ],
   "source": [
    "summarize_bundle('52af143ffd75208d311476abc505e5b9')"
   ]
  },
  {
   "cell_type": "code",
   "execution_count": 114,
   "id": "da39eeea",
   "metadata": {},
   "outputs": [
    {
     "name": "stdout",
     "output_type": "stream",
     "text": [
      "Bundle name: SRR6226387\n",
      "PPTCALL42-D-human.bam\n",
      "PPTCALL42-D-PDX.bam\n"
     ]
    }
   ],
   "source": [
    "summarize_bundle('d06e6463579189d7aba7990d85baff56')"
   ]
  },
  {
   "cell_type": "markdown",
   "id": "d69c46f7",
   "metadata": {},
   "source": [
    "The rationale (study design) is not evident from these bundles."
   ]
  },
  {
   "cell_type": "code",
   "execution_count": null,
   "id": "5b2befdb",
   "metadata": {},
   "outputs": [],
   "source": []
  }
 ],
 "metadata": {
  "kernelspec": {
   "display_name": "Python 3 (ipykernel)",
   "language": "python",
   "name": "python3"
  },
  "language_info": {
   "codemirror_mode": {
    "name": "ipython",
    "version": 3
   },
   "file_extension": ".py",
   "mimetype": "text/x-python",
   "name": "python",
   "nbconvert_exporter": "python",
   "pygments_lexer": "ipython3",
   "version": "3.9.7"
  }
 },
 "nbformat": 4,
 "nbformat_minor": 5
}
