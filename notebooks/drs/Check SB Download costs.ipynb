{
 "cells": [
  {
   "cell_type": "markdown",
   "id": "a0acc208",
   "metadata": {},
   "source": [
    "This notebook runs a test to check whether costs are incurred, and by who, for the download of a file from the Seven Bridges CGC instance.\n",
    "\n",
    "The file is a 33GB sam file."
   ]
  },
  {
   "cell_type": "code",
   "execution_count": 1,
   "id": "2b1ae880",
   "metadata": {
    "scrolled": true
   },
   "outputs": [
    {
     "name": "stdout",
     "output_type": "stream",
     "text": [
      "{\n",
      "   \"id\": \"62ac9f0ef08fea477043aa0f\",\n",
      "   \"name\": \"HCC1143_1.sam\",\n",
      "   \"size\": 35671819315,\n",
      "   \"checksums\": [\n",
      "      {\n",
      "         \"type\": \"etag\",\n",
      "         \"checksum\": \"bf036831cd957fa76b2cf8e16258a834-34\"\n",
      "      }\n",
      "   ],\n",
      "   \"self_uri\": \"drs://cgc-ga4gh-api.sbgenomics.com/62ac9f0ef08fea477043aa0f\",\n",
      "   \"created_time\": \"2022-06-17T15:34:38Z\",\n",
      "   \"updated_time\": \"2022-06-17T15:34:38Z\",\n",
      "   \"mime_type\": \"application/json\",\n",
      "   \"access_methods\": [\n",
      "      {\n",
      "         \"type\": \"s3\",\n",
      "         \"region\": \"us-east-1\",\n",
      "         \"access_id\": \"aws-us-east-1\"\n",
      "      }\n",
      "   ]\n",
      "}\n",
      "File size 33.221970605663955 GB\n"
     ]
    }
   ],
   "source": [
    "import json\n",
    "\n",
    "from fasp.loc import sbcgcDRSClient\n",
    "drsClient = sbcgcDRSClient('/Users/forei/.keys/sbcgc_key.json', 's3')\n",
    "drs_id ='62ac9f0ef08fea477043aa0f'\n",
    "drs_object = drsClient.get_object(drs_id)\n",
    "print(json.dumps(drs_object,indent=3))\n",
    "file_size_bytes = drs_object['size']\n",
    "file_size_gb = file_size_bytes/1024**3\n",
    "print(\"File size {} GB\".format(file_size_gb))"
   ]
  },
  {
   "cell_type": "markdown",
   "id": "aa3594cb",
   "metadata": {},
   "source": [
    "#### Download cost and who is charged to\n",
    "Checking the billing on the account before and after download the 33.2 Gb file cost $2.99 to download.\n",
    "\n",
    "In this case it was ambiguous whether it was the owner or the downloader to whom accesa was charged. The same account was used for both. Need a better designed test!"
   ]
  },
  {
   "cell_type": "code",
   "execution_count": null,
   "id": "69522eb8",
   "metadata": {},
   "outputs": [],
   "source": []
  }
 ],
 "metadata": {
  "kernelspec": {
   "display_name": "Python 3 (ipykernel)",
   "language": "python",
   "name": "python3"
  },
  "language_info": {
   "codemirror_mode": {
    "name": "ipython",
    "version": 3
   },
   "file_extension": ".py",
   "mimetype": "text/x-python",
   "name": "python",
   "nbconvert_exporter": "python",
   "pygments_lexer": "ipython3",
   "version": "3.9.7"
  }
 },
 "nbformat": 4,
 "nbformat_minor": 5
}
