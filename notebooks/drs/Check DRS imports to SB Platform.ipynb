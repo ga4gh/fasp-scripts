{
 "cells": [
  {
   "cell_type": "markdown",
   "id": "fbb82829",
   "metadata": {},
   "source": [
    "This notebook explores the various DRS Ids acquired by the same file as it is imported into different Seven Bridges platforms"
   ]
  },
  {
   "cell_type": "code",
   "execution_count": 2,
   "id": "2b1ae880",
   "metadata": {
    "scrolled": true
   },
   "outputs": [
    {
     "name": "stdout",
     "output_type": "stream",
     "text": [
      "{\n",
      "   \"id\": \"62765a94f26c9351737fa8cc\",\n",
      "   \"name\": \"HG00445.test.cram\",\n",
      "   \"size\": 3971394,\n",
      "   \"checksums\": [\n",
      "      {\n",
      "         \"type\": \"etag\",\n",
      "         \"checksum\": \"6d5a0c75eae2b7ff704e61a8d07b931e-1\"\n",
      "      }\n",
      "   ],\n",
      "   \"self_uri\": \"drs://cgc-ga4gh-api.sbgenomics.com/62765a94f26c9351737fa8cc\",\n",
      "   \"created_time\": \"2022-05-07T11:40:04Z\",\n",
      "   \"updated_time\": \"2022-05-07T11:40:04Z\",\n",
      "   \"mime_type\": \"application/json\",\n",
      "   \"access_methods\": [\n",
      "      {\n",
      "         \"type\": \"s3\",\n",
      "         \"region\": \"us-east-1\",\n",
      "         \"access_id\": \"aws-us-east-1\"\n",
      "      }\n",
      "   ]\n",
      "}\n"
     ]
    }
   ],
   "source": [
    "import json\n",
    "\n",
    "from fasp.loc import sbcgcDRSClient\n",
    "drsClient = sbcgcDRSClient('/Users/forei/.keys/sevenbridges_keys.json', 's3')\n",
    "drs_id ='62765a94f26c9351737fa8cc'\n",
    "print(json.dumps(drsClient.getObject(drs_id),indent=3))"
   ]
  },
  {
   "cell_type": "markdown",
   "id": "d095521a",
   "metadata": {},
   "source": [
    "This the same file imported to the CGC via the DRS import capability. Note that it has acquired a different DRS id. That DRS id is used in computes initiated on the file."
   ]
  },
  {
   "cell_type": "code",
   "execution_count": 4,
   "id": "37cc16eb",
   "metadata": {
    "scrolled": true
   },
   "outputs": [
    {
     "ename": "HTTPError",
     "evalue": "401 Client Error: Unauthorized for url: https://cgc-ga4gh-api.sbgenomics.com/ga4gh/drs/v1/objects/626c1775f26c93517368c97c",
     "output_type": "error",
     "traceback": [
      "\u001b[0;31m---------------------------------------------------------------------------\u001b[0m",
      "\u001b[0;31mHTTPError\u001b[0m                                 Traceback (most recent call last)",
      "\u001b[0;32m/var/folders/wz/jjbxsnr13v7dkw2jkbpmqd_dly65gq/T/ipykernel_48595/559356763.py\u001b[0m in \u001b[0;36m<module>\u001b[0;34m\u001b[0m\n\u001b[1;32m      1\u001b[0m \u001b[0msb_imported_drs_drs_id\u001b[0m \u001b[0;34m=\u001b[0m\u001b[0;34m'626c1775f26c93517368c97c'\u001b[0m\u001b[0;34m\u001b[0m\u001b[0;34m\u001b[0m\u001b[0m\n\u001b[0;32m----> 2\u001b[0;31m \u001b[0mresp\u001b[0m \u001b[0;34m=\u001b[0m \u001b[0mdrsClient\u001b[0m\u001b[0;34m.\u001b[0m\u001b[0mgetObject\u001b[0m\u001b[0;34m(\u001b[0m\u001b[0msb_imported_drs_drs_id\u001b[0m\u001b[0;34m)\u001b[0m\u001b[0;34m\u001b[0m\u001b[0;34m\u001b[0m\u001b[0m\n\u001b[0m\u001b[1;32m      3\u001b[0m \u001b[0mprint\u001b[0m\u001b[0;34m(\u001b[0m\u001b[0mjson\u001b[0m\u001b[0;34m.\u001b[0m\u001b[0mdumps\u001b[0m\u001b[0;34m(\u001b[0m\u001b[0mdrsClient\u001b[0m\u001b[0;34m.\u001b[0m\u001b[0mgetObject\u001b[0m\u001b[0;34m(\u001b[0m\u001b[0msb_imported_drs_drs_id\u001b[0m\u001b[0;34m)\u001b[0m\u001b[0;34m,\u001b[0m\u001b[0mindent\u001b[0m\u001b[0;34m=\u001b[0m\u001b[0;36m3\u001b[0m\u001b[0;34m)\u001b[0m\u001b[0;34m)\u001b[0m\u001b[0;34m\u001b[0m\u001b[0;34m\u001b[0m\u001b[0m\n\u001b[1;32m      4\u001b[0m \u001b[0;31m#print(resp.raise_for_status())\u001b[0m\u001b[0;34m\u001b[0m\u001b[0;34m\u001b[0m\u001b[0m\n",
      "\u001b[0;32m~/imfenvs/fasp/lib/python3.9/site-packages/fasp/loc/sbdrsclient.py\u001b[0m in \u001b[0;36mgetObject\u001b[0;34m(self, object_id)\u001b[0m\n\u001b[1;32m     34\u001b[0m                         \u001b[0;32mreturn\u001b[0m \u001b[0mjson\u001b[0m\u001b[0;34m.\u001b[0m\u001b[0mloads\u001b[0m\u001b[0;34m(\u001b[0m\u001b[0mresp\u001b[0m\u001b[0;34m)\u001b[0m\u001b[0;34m\u001b[0m\u001b[0;34m\u001b[0m\u001b[0m\n\u001b[1;32m     35\u001b[0m                 \u001b[0;32melse\u001b[0m\u001b[0;34m:\u001b[0m\u001b[0;34m\u001b[0m\u001b[0;34m\u001b[0m\u001b[0m\n\u001b[0;32m---> 36\u001b[0;31m                         \u001b[0mprint\u001b[0m \u001b[0;34m(\u001b[0m\u001b[0mresponse\u001b[0m\u001b[0;34m.\u001b[0m\u001b[0mraise_for_status\u001b[0m\u001b[0;34m(\u001b[0m\u001b[0;34m)\u001b[0m\u001b[0;34m)\u001b[0m\u001b[0;34m\u001b[0m\u001b[0;34m\u001b[0m\u001b[0m\n\u001b[0m\u001b[1;32m     37\u001b[0m                         \u001b[0;32mreturn\u001b[0m \u001b[0;32mNone\u001b[0m\u001b[0;34m\u001b[0m\u001b[0;34m\u001b[0m\u001b[0m\n\u001b[1;32m     38\u001b[0m \u001b[0;34m\u001b[0m\u001b[0m\n",
      "\u001b[0;32m~/imfenvs/fasp/lib/python3.9/site-packages/requests/models.py\u001b[0m in \u001b[0;36mraise_for_status\u001b[0;34m(self)\u001b[0m\n\u001b[1;32m    951\u001b[0m \u001b[0;34m\u001b[0m\u001b[0m\n\u001b[1;32m    952\u001b[0m         \u001b[0;32mif\u001b[0m \u001b[0mhttp_error_msg\u001b[0m\u001b[0;34m:\u001b[0m\u001b[0;34m\u001b[0m\u001b[0;34m\u001b[0m\u001b[0m\n\u001b[0;32m--> 953\u001b[0;31m             \u001b[0;32mraise\u001b[0m \u001b[0mHTTPError\u001b[0m\u001b[0;34m(\u001b[0m\u001b[0mhttp_error_msg\u001b[0m\u001b[0;34m,\u001b[0m \u001b[0mresponse\u001b[0m\u001b[0;34m=\u001b[0m\u001b[0mself\u001b[0m\u001b[0;34m)\u001b[0m\u001b[0;34m\u001b[0m\u001b[0;34m\u001b[0m\u001b[0m\n\u001b[0m\u001b[1;32m    954\u001b[0m \u001b[0;34m\u001b[0m\u001b[0m\n\u001b[1;32m    955\u001b[0m     \u001b[0;32mdef\u001b[0m \u001b[0mclose\u001b[0m\u001b[0;34m(\u001b[0m\u001b[0mself\u001b[0m\u001b[0;34m)\u001b[0m\u001b[0;34m:\u001b[0m\u001b[0;34m\u001b[0m\u001b[0;34m\u001b[0m\u001b[0m\n",
      "\u001b[0;31mHTTPError\u001b[0m: 401 Client Error: Unauthorized for url: https://cgc-ga4gh-api.sbgenomics.com/ga4gh/drs/v1/objects/626c1775f26c93517368c97c"
     ]
    }
   ],
   "source": [
    "sb_imported_drs_drs_id ='626c1775f26c93517368c97c'\n",
    "resp = drsClient.getObject(sb_imported_drs_drs_id)\n",
    "print(json.dumps(drsClient.getObject(sb_imported_drs_drs_id),indent=3))\n",
    "#print(resp.raise_for_status())"
   ]
  },
  {
   "cell_type": "code",
   "execution_count": 8,
   "id": "60270560",
   "metadata": {},
   "outputs": [
    {
     "ename": "HTTPError",
     "evalue": "421 Client Error:  for url: https://cgc-ga4gh-api.sbgenomics.com/ga4gh/drs/v1/objects/62765a94f26c9351737fa8c",
     "output_type": "error",
     "traceback": [
      "\u001b[0;31m---------------------------------------------------------------------------\u001b[0m",
      "\u001b[0;31mHTTPError\u001b[0m                                 Traceback (most recent call last)",
      "\u001b[0;32m/var/folders/wz/jjbxsnr13v7dkw2jkbpmqd_dly65gq/T/ipykernel_48595/3734413063.py\u001b[0m in \u001b[0;36m<module>\u001b[0;34m\u001b[0m\n\u001b[1;32m      1\u001b[0m \u001b[0mdrs_id\u001b[0m \u001b[0;34m=\u001b[0m\u001b[0;34m'62765a94f26c9351737fa8c'\u001b[0m\u001b[0;34m\u001b[0m\u001b[0;34m\u001b[0m\u001b[0m\n\u001b[0;32m----> 2\u001b[0;31m \u001b[0mprint\u001b[0m\u001b[0;34m(\u001b[0m\u001b[0mjson\u001b[0m\u001b[0;34m.\u001b[0m\u001b[0mdumps\u001b[0m\u001b[0;34m(\u001b[0m\u001b[0mdrsClient\u001b[0m\u001b[0;34m.\u001b[0m\u001b[0mgetObject\u001b[0m\u001b[0;34m(\u001b[0m\u001b[0mdrs_id\u001b[0m\u001b[0;34m)\u001b[0m\u001b[0;34m,\u001b[0m\u001b[0mindent\u001b[0m\u001b[0;34m=\u001b[0m\u001b[0;36m3\u001b[0m\u001b[0;34m)\u001b[0m\u001b[0;34m)\u001b[0m\u001b[0;34m\u001b[0m\u001b[0;34m\u001b[0m\u001b[0m\n\u001b[0m",
      "\u001b[0;32m~/imfenvs/fasp/lib/python3.9/site-packages/fasp/loc/sbdrsclient.py\u001b[0m in \u001b[0;36mgetObject\u001b[0;34m(self, object_id)\u001b[0m\n\u001b[1;32m     34\u001b[0m                         \u001b[0;32mreturn\u001b[0m \u001b[0mjson\u001b[0m\u001b[0;34m.\u001b[0m\u001b[0mloads\u001b[0m\u001b[0;34m(\u001b[0m\u001b[0mresp\u001b[0m\u001b[0;34m)\u001b[0m\u001b[0;34m\u001b[0m\u001b[0;34m\u001b[0m\u001b[0m\n\u001b[1;32m     35\u001b[0m                 \u001b[0;32melse\u001b[0m\u001b[0;34m:\u001b[0m\u001b[0;34m\u001b[0m\u001b[0;34m\u001b[0m\u001b[0m\n\u001b[0;32m---> 36\u001b[0;31m                         \u001b[0mprint\u001b[0m \u001b[0;34m(\u001b[0m\u001b[0mresponse\u001b[0m\u001b[0;34m.\u001b[0m\u001b[0mraise_for_status\u001b[0m\u001b[0;34m(\u001b[0m\u001b[0;34m)\u001b[0m\u001b[0;34m)\u001b[0m\u001b[0;34m\u001b[0m\u001b[0;34m\u001b[0m\u001b[0m\n\u001b[0m\u001b[1;32m     37\u001b[0m                         \u001b[0;32mreturn\u001b[0m \u001b[0;32mNone\u001b[0m\u001b[0;34m\u001b[0m\u001b[0;34m\u001b[0m\u001b[0m\n\u001b[1;32m     38\u001b[0m \u001b[0;34m\u001b[0m\u001b[0m\n",
      "\u001b[0;32m~/imfenvs/fasp/lib/python3.9/site-packages/requests/models.py\u001b[0m in \u001b[0;36mraise_for_status\u001b[0;34m(self)\u001b[0m\n\u001b[1;32m    951\u001b[0m \u001b[0;34m\u001b[0m\u001b[0m\n\u001b[1;32m    952\u001b[0m         \u001b[0;32mif\u001b[0m \u001b[0mhttp_error_msg\u001b[0m\u001b[0;34m:\u001b[0m\u001b[0;34m\u001b[0m\u001b[0;34m\u001b[0m\u001b[0m\n\u001b[0;32m--> 953\u001b[0;31m             \u001b[0;32mraise\u001b[0m \u001b[0mHTTPError\u001b[0m\u001b[0;34m(\u001b[0m\u001b[0mhttp_error_msg\u001b[0m\u001b[0;34m,\u001b[0m \u001b[0mresponse\u001b[0m\u001b[0;34m=\u001b[0m\u001b[0mself\u001b[0m\u001b[0;34m)\u001b[0m\u001b[0;34m\u001b[0m\u001b[0;34m\u001b[0m\u001b[0m\n\u001b[0m\u001b[1;32m    954\u001b[0m \u001b[0;34m\u001b[0m\u001b[0m\n\u001b[1;32m    955\u001b[0m     \u001b[0;32mdef\u001b[0m \u001b[0mclose\u001b[0m\u001b[0;34m(\u001b[0m\u001b[0mself\u001b[0m\u001b[0;34m)\u001b[0m\u001b[0;34m:\u001b[0m\u001b[0;34m\u001b[0m\u001b[0;34m\u001b[0m\u001b[0m\n",
      "\u001b[0;31mHTTPError\u001b[0m: 421 Client Error:  for url: https://cgc-ga4gh-api.sbgenomics.com/ga4gh/drs/v1/objects/62765a94f26c9351737fa8c"
     ]
    }
   ],
   "source": [
    "drs_id ='62765a94f26c9351737fa8c'\n",
    "print(json.dumps(drsClient.getObject(drs_id),indent=3))"
   ]
  },
  {
   "cell_type": "markdown",
   "id": "26a9c280",
   "metadata": {},
   "source": [
    "Show the URL obtained to access the file"
   ]
  },
  {
   "cell_type": "code",
   "execution_count": 19,
   "id": "ab4c5fa5",
   "metadata": {},
   "outputs": [
    {
     "name": "stdout",
     "output_type": "stream",
     "text": [
      "https://nih-nhlbi-biodata-catalyst-1000-genomes-high-coverage.s3.amazonaws.com/CCDG_13607/Project_CCDG_13607_B01_GRM_WGS.cram.2019-02-06/Sample_HG00445/analysis/HG00445.final.cram\n"
     ]
    }
   ],
   "source": [
    "url = drsClient.getAccessURL(sb_imported_drs_drs_id)\n",
    "#print the url without any of the token information\n",
    "print(url.split('?')[0])"
   ]
  },
  {
   "cell_type": "markdown",
   "id": "0198d064",
   "metadata": {},
   "source": [
    "### The same file on the source platform (BioDataCatalyst)\n",
    "What does this file look like on the original platform? TopMed\n",
    "The Biodata Catalyst DRS id for the 'imported' file is 626c079e645ccb7324c671d1\n",
    "\n",
    "We can access it directly from BioDataCatalyst as follows"
   ]
  },
  {
   "cell_type": "code",
   "execution_count": 5,
   "id": "4088b72d",
   "metadata": {},
   "outputs": [
    {
     "ename": "HTTPError",
     "evalue": "403 Client Error: Forbidden for url: https://ga4gh-api.sb.biodatacatalyst.nhlbi.nih.gov/ga4gh/drs/v1/objects/626c079e645ccb7324c671d1",
     "output_type": "error",
     "traceback": [
      "\u001b[0;31m---------------------------------------------------------------------------\u001b[0m",
      "\u001b[0;31mHTTPError\u001b[0m                                 Traceback (most recent call last)",
      "\u001b[0;32m/var/folders/wz/jjbxsnr13v7dkw2jkbpmqd_dly65gq/T/ipykernel_48595/180652048.py\u001b[0m in \u001b[0;36m<module>\u001b[0;34m\u001b[0m\n\u001b[1;32m      2\u001b[0m \u001b[0mbdc_drs_id\u001b[0m \u001b[0;34m=\u001b[0m\u001b[0;34m'626c079e645ccb7324c671d1'\u001b[0m\u001b[0;34m\u001b[0m\u001b[0;34m\u001b[0m\u001b[0m\n\u001b[1;32m      3\u001b[0m \u001b[0mbdc_drsClient\u001b[0m \u001b[0;34m=\u001b[0m \u001b[0msbbdcDRSClient\u001b[0m\u001b[0;34m(\u001b[0m\u001b[0;34m'/Users/forei/.keys/sevenbridges_keys.json'\u001b[0m\u001b[0;34m,\u001b[0m \u001b[0;34m's3'\u001b[0m\u001b[0;34m)\u001b[0m\u001b[0;34m\u001b[0m\u001b[0;34m\u001b[0m\u001b[0m\n\u001b[0;32m----> 4\u001b[0;31m \u001b[0mbdc_drsClient\u001b[0m\u001b[0;34m.\u001b[0m\u001b[0mgetObject\u001b[0m\u001b[0;34m(\u001b[0m\u001b[0mbdc_drs_id\u001b[0m\u001b[0;34m)\u001b[0m\u001b[0;34m\u001b[0m\u001b[0;34m\u001b[0m\u001b[0m\n\u001b[0m",
      "\u001b[0;32m~/imfenvs/fasp/lib/python3.9/site-packages/fasp/loc/sbdrsclient.py\u001b[0m in \u001b[0;36mgetObject\u001b[0;34m(self, object_id)\u001b[0m\n\u001b[1;32m     34\u001b[0m                         \u001b[0;32mreturn\u001b[0m \u001b[0mjson\u001b[0m\u001b[0;34m.\u001b[0m\u001b[0mloads\u001b[0m\u001b[0;34m(\u001b[0m\u001b[0mresp\u001b[0m\u001b[0;34m)\u001b[0m\u001b[0;34m\u001b[0m\u001b[0;34m\u001b[0m\u001b[0m\n\u001b[1;32m     35\u001b[0m                 \u001b[0;32melse\u001b[0m\u001b[0;34m:\u001b[0m\u001b[0;34m\u001b[0m\u001b[0;34m\u001b[0m\u001b[0m\n\u001b[0;32m---> 36\u001b[0;31m                         \u001b[0mprint\u001b[0m \u001b[0;34m(\u001b[0m\u001b[0mresponse\u001b[0m\u001b[0;34m.\u001b[0m\u001b[0mraise_for_status\u001b[0m\u001b[0;34m(\u001b[0m\u001b[0;34m)\u001b[0m\u001b[0;34m)\u001b[0m\u001b[0;34m\u001b[0m\u001b[0;34m\u001b[0m\u001b[0m\n\u001b[0m\u001b[1;32m     37\u001b[0m                         \u001b[0;32mreturn\u001b[0m \u001b[0;32mNone\u001b[0m\u001b[0;34m\u001b[0m\u001b[0;34m\u001b[0m\u001b[0m\n\u001b[1;32m     38\u001b[0m \u001b[0;34m\u001b[0m\u001b[0m\n",
      "\u001b[0;32m~/imfenvs/fasp/lib/python3.9/site-packages/requests/models.py\u001b[0m in \u001b[0;36mraise_for_status\u001b[0;34m(self)\u001b[0m\n\u001b[1;32m    951\u001b[0m \u001b[0;34m\u001b[0m\u001b[0m\n\u001b[1;32m    952\u001b[0m         \u001b[0;32mif\u001b[0m \u001b[0mhttp_error_msg\u001b[0m\u001b[0;34m:\u001b[0m\u001b[0;34m\u001b[0m\u001b[0;34m\u001b[0m\u001b[0m\n\u001b[0;32m--> 953\u001b[0;31m             \u001b[0;32mraise\u001b[0m \u001b[0mHTTPError\u001b[0m\u001b[0;34m(\u001b[0m\u001b[0mhttp_error_msg\u001b[0m\u001b[0;34m,\u001b[0m \u001b[0mresponse\u001b[0m\u001b[0;34m=\u001b[0m\u001b[0mself\u001b[0m\u001b[0;34m)\u001b[0m\u001b[0;34m\u001b[0m\u001b[0;34m\u001b[0m\u001b[0m\n\u001b[0m\u001b[1;32m    954\u001b[0m \u001b[0;34m\u001b[0m\u001b[0m\n\u001b[1;32m    955\u001b[0m     \u001b[0;32mdef\u001b[0m \u001b[0mclose\u001b[0m\u001b[0;34m(\u001b[0m\u001b[0mself\u001b[0m\u001b[0;34m)\u001b[0m\u001b[0;34m:\u001b[0m\u001b[0;34m\u001b[0m\u001b[0;34m\u001b[0m\u001b[0m\n",
      "\u001b[0;31mHTTPError\u001b[0m: 403 Client Error: Forbidden for url: https://ga4gh-api.sb.biodatacatalyst.nhlbi.nih.gov/ga4gh/drs/v1/objects/626c079e645ccb7324c671d1"
     ]
    }
   ],
   "source": [
    "from fasp.loc import sbbdcDRSClient\n",
    "bdc_drs_id ='626c079e645ccb7324c671d1'\n",
    "bdc_drsClient = sbbdcDRSClient('/Users/forei/.keys/sevenbridges_keys.json', 's3')\n",
    "bdc_drsClient.getObject(bdc_drs_id)"
   ]
  },
  {
   "cell_type": "code",
   "execution_count": 15,
   "id": "7b332dc4",
   "metadata": {},
   "outputs": [
    {
     "name": "stdout",
     "output_type": "stream",
     "text": [
      "https://nih-nhlbi-biodata-catalyst-1000-genomes-high-coverage.s3.amazonaws.com/CCDG_13607/Project_CCDG_13607_B01_GRM_WGS.cram.2019-02-06/Sample_HG00445/analysis/HG00445.final.cram\n"
     ]
    }
   ],
   "source": [
    "url = bdc_drsClient.getAccessURL(bdc_drs_id)\n",
    "#print the url without any of the token information\n",
    "print(url.split('?')[0])"
   ]
  },
  {
   "cell_type": "markdown",
   "id": "7fa93eb7",
   "metadata": {},
   "source": [
    "Can we run the compute off CGC using WES and passing the BDC DRS id?\n",
    "Worth checking."
   ]
  },
  {
   "cell_type": "code",
   "execution_count": 24,
   "id": "1f860b38",
   "metadata": {},
   "outputs": [],
   "source": [
    "outpath='/Users/forei/Desktop/txt/test_bam'\n",
    "with open(outpath, 'w') as f:\n",
    "    f.write('Hello World')"
   ]
  },
  {
   "cell_type": "code",
   "execution_count": 6,
   "id": "568e1cbd",
   "metadata": {},
   "outputs": [
    {
     "ename": "HTTPError",
     "evalue": "403 Client Error: Forbidden for url: https://ga4gh-api.sb.biodatacatalyst.nhlbi.nih.gov/ga4gh/drs/v1/objects/617c7ce1e6261a31b6d12f64",
     "output_type": "error",
     "traceback": [
      "\u001b[0;31m---------------------------------------------------------------------------\u001b[0m",
      "\u001b[0;31mHTTPError\u001b[0m                                 Traceback (most recent call last)",
      "\u001b[0;32m/var/folders/wz/jjbxsnr13v7dkw2jkbpmqd_dly65gq/T/ipykernel_48595/969104876.py\u001b[0m in \u001b[0;36m<module>\u001b[0;34m\u001b[0m\n\u001b[1;32m      1\u001b[0m \u001b[0mbdc_drs_id\u001b[0m \u001b[0;34m=\u001b[0m \u001b[0;34m'617c7ce1e6261a31b6d12f64'\u001b[0m\u001b[0;34m\u001b[0m\u001b[0;34m\u001b[0m\u001b[0m\n\u001b[0;32m----> 2\u001b[0;31m \u001b[0mbdc_drsClient\u001b[0m\u001b[0;34m.\u001b[0m\u001b[0mgetObject\u001b[0m\u001b[0;34m(\u001b[0m\u001b[0mbdc_drs_id\u001b[0m\u001b[0;34m)\u001b[0m\u001b[0;34m\u001b[0m\u001b[0;34m\u001b[0m\u001b[0m\n\u001b[0m",
      "\u001b[0;32m~/imfenvs/fasp/lib/python3.9/site-packages/fasp/loc/sbdrsclient.py\u001b[0m in \u001b[0;36mgetObject\u001b[0;34m(self, object_id)\u001b[0m\n\u001b[1;32m     34\u001b[0m                         \u001b[0;32mreturn\u001b[0m \u001b[0mjson\u001b[0m\u001b[0;34m.\u001b[0m\u001b[0mloads\u001b[0m\u001b[0;34m(\u001b[0m\u001b[0mresp\u001b[0m\u001b[0;34m)\u001b[0m\u001b[0;34m\u001b[0m\u001b[0;34m\u001b[0m\u001b[0m\n\u001b[1;32m     35\u001b[0m                 \u001b[0;32melse\u001b[0m\u001b[0;34m:\u001b[0m\u001b[0;34m\u001b[0m\u001b[0;34m\u001b[0m\u001b[0m\n\u001b[0;32m---> 36\u001b[0;31m                         \u001b[0mprint\u001b[0m \u001b[0;34m(\u001b[0m\u001b[0mresponse\u001b[0m\u001b[0;34m.\u001b[0m\u001b[0mraise_for_status\u001b[0m\u001b[0;34m(\u001b[0m\u001b[0;34m)\u001b[0m\u001b[0;34m)\u001b[0m\u001b[0;34m\u001b[0m\u001b[0;34m\u001b[0m\u001b[0m\n\u001b[0m\u001b[1;32m     37\u001b[0m                         \u001b[0;32mreturn\u001b[0m \u001b[0;32mNone\u001b[0m\u001b[0;34m\u001b[0m\u001b[0;34m\u001b[0m\u001b[0m\n\u001b[1;32m     38\u001b[0m \u001b[0;34m\u001b[0m\u001b[0m\n",
      "\u001b[0;32m~/imfenvs/fasp/lib/python3.9/site-packages/requests/models.py\u001b[0m in \u001b[0;36mraise_for_status\u001b[0;34m(self)\u001b[0m\n\u001b[1;32m    951\u001b[0m \u001b[0;34m\u001b[0m\u001b[0m\n\u001b[1;32m    952\u001b[0m         \u001b[0;32mif\u001b[0m \u001b[0mhttp_error_msg\u001b[0m\u001b[0;34m:\u001b[0m\u001b[0;34m\u001b[0m\u001b[0;34m\u001b[0m\u001b[0m\n\u001b[0;32m--> 953\u001b[0;31m             \u001b[0;32mraise\u001b[0m \u001b[0mHTTPError\u001b[0m\u001b[0;34m(\u001b[0m\u001b[0mhttp_error_msg\u001b[0m\u001b[0;34m,\u001b[0m \u001b[0mresponse\u001b[0m\u001b[0;34m=\u001b[0m\u001b[0mself\u001b[0m\u001b[0;34m)\u001b[0m\u001b[0;34m\u001b[0m\u001b[0;34m\u001b[0m\u001b[0m\n\u001b[0m\u001b[1;32m    954\u001b[0m \u001b[0;34m\u001b[0m\u001b[0m\n\u001b[1;32m    955\u001b[0m     \u001b[0;32mdef\u001b[0m \u001b[0mclose\u001b[0m\u001b[0;34m(\u001b[0m\u001b[0mself\u001b[0m\u001b[0;34m)\u001b[0m\u001b[0;34m:\u001b[0m\u001b[0;34m\u001b[0m\u001b[0;34m\u001b[0m\u001b[0m\n",
      "\u001b[0;31mHTTPError\u001b[0m: 403 Client Error: Forbidden for url: https://ga4gh-api.sb.biodatacatalyst.nhlbi.nih.gov/ga4gh/drs/v1/objects/617c7ce1e6261a31b6d12f64"
     ]
    }
   ],
   "source": [
    "bdc_drs_id = '617c7ce1e6261a31b6d12f64'\n",
    "bdc_drsClient.getObject(bdc_drs_id)"
   ]
  },
  {
   "cell_type": "markdown",
   "id": "cdd0ff28",
   "metadata": {},
   "source": [
    "### DRS id without name\n"
   ]
  },
  {
   "cell_type": "markdown",
   "id": "0c024f6e",
   "metadata": {},
   "source": [
    "#### Without the prefix"
   ]
  },
  {
   "cell_type": "code",
   "execution_count": 27,
   "id": "48e2881f",
   "metadata": {},
   "outputs": [
    {
     "name": "stdout",
     "output_type": "stream",
     "text": [
      "https://nci-crdc.datacommons.io/ga4gh/drs/v1/objects/5ecf79b7-9951-4204-8665-12b02e8e1bf9\n",
      "{\n",
      "   \"access_methods\": [\n",
      "      {\n",
      "         \"access_id\": \"s3\",\n",
      "         \"access_url\": {\n",
      "            \"url\": \"s3://pdcdatastore/studies/234/PSM/tsv/09CPTAC_LSCC_W_BI_20190722_KL_f23.psm\"\n",
      "         },\n",
      "         \"region\": \"\",\n",
      "         \"type\": \"s3\"\n",
      "      }\n",
      "   ],\n",
      "   \"aliases\": [],\n",
      "   \"checksums\": [\n",
      "      {\n",
      "         \"checksum\": \"8fce2d87d44b70bde656092fb150ee8e\",\n",
      "         \"type\": \"md5\"\n",
      "      }\n",
      "   ],\n",
      "   \"created_time\": \"2020-09-24T12:57:37.475408\",\n",
      "   \"description\": null,\n",
      "   \"form\": \"object\",\n",
      "   \"id\": \"dg.4DFC/5ecf79b7-9951-4204-8665-12b02e8e1bf9\",\n",
      "   \"mime_type\": \"application/json\",\n",
      "   \"name\": null,\n",
      "   \"self_uri\": \"drs://dg.4DFC:5ecf79b7-9951-4204-8665-12b02e8e1bf9\",\n",
      "   \"size\": 4647227,\n",
      "   \"updated_time\": \"2020-09-24T12:57:37.475414\",\n",
      "   \"version\": \"0daf90ef\"\n",
      "}\n"
     ]
    }
   ],
   "source": [
    "from fasp.loc import crdcDRSClient\n",
    "\n",
    "gen3_drs = crdcDRSClient(api_key_path='~/.keys/crdc_credentials.json', debug=True)\n",
    "no_name_drs_id = '00e02bd9-4135-4086-a868-98e6744570e4'\n",
    "\n",
    "no_name_drs_id = '5ecf79b7-9951-4204-8665-12b02e8e1bf9'\n",
    "\n",
    "print(json.dumps(gen3_drs.getObject(no_name_drs_id),indent=3))"
   ]
  },
  {
   "cell_type": "code",
   "execution_count": 28,
   "id": "f5848e70",
   "metadata": {},
   "outputs": [
    {
     "name": "stdout",
     "output_type": "stream",
     "text": [
      "https://nci-crdc.datacommons.io/ga4gh/drs/v1/objects/9ced10ef-ea70-49bd-ad55-a2be0bbd1258\n",
      "{\n",
      "   \"access_methods\": [\n",
      "      {\n",
      "         \"access_id\": \"gs\",\n",
      "         \"access_url\": {\n",
      "            \"url\": \"gs://public-datasets-idc/9ced10ef-ea70-49bd-ad55-a2be0bbd1258.dcm\"\n",
      "         },\n",
      "         \"region\": \"\",\n",
      "         \"type\": \"gs\"\n",
      "      }\n",
      "   ],\n",
      "   \"aliases\": [],\n",
      "   \"checksums\": [\n",
      "      {\n",
      "         \"checksum\": \"df20524dd1f99ac47f00f9758b6d3096\",\n",
      "         \"type\": \"md5\"\n",
      "      }\n",
      "   ],\n",
      "   \"created_time\": \"2022-04-28T00:11:33.556879\",\n",
      "   \"description\": null,\n",
      "   \"form\": \"{}\",\n",
      "   \"id\": \"dg.4DFC/9ced10ef-ea70-49bd-ad55-a2be0bbd1258\",\n",
      "   \"mime_type\": \"application/json\",\n",
      "   \"name\": null,\n",
      "   \"self_uri\": \"drs://dg.4DFC:9ced10ef-ea70-49bd-ad55-a2be0bbd1258\",\n",
      "   \"size\": 526458,\n",
      "   \"updated_time\": \"2022-04-28T00:11:33.556880\",\n",
      "   \"version\": \"c24ce872\"\n",
      "}\n"
     ]
    }
   ],
   "source": [
    "test3 = '9ced10ef-ea70-49bd-ad55-a2be0bbd1258'\n",
    "print(json.dumps(gen3_drs.getObject(test3),indent=3))"
   ]
  },
  {
   "cell_type": "code",
   "execution_count": null,
   "id": "ff22f108",
   "metadata": {},
   "outputs": [],
   "source": [
    "print((gen3_drs.getAccessURL(test3, access_id='gs')))"
   ]
  },
  {
   "cell_type": "markdown",
   "id": "63ea12a5",
   "metadata": {},
   "source": [
    "#### With the prefix"
   ]
  },
  {
   "cell_type": "code",
   "execution_count": 31,
   "id": "9e5b0bcc",
   "metadata": {},
   "outputs": [
    {
     "name": "stdout",
     "output_type": "stream",
     "text": [
      "https://nci-crdc.datacommons.io/ga4gh/drs/v1/objects/dg.4DFC/9ced10ef-ea70-49bd-ad55-a2be0bbd1258/access/gs\n",
      "<Response [401]>\n",
      "Unauthorized for that DRS id\n",
      "None\n"
     ]
    }
   ],
   "source": [
    "test4 = 'dg.4DFC/9ced10ef-ea70-49bd-ad55-a2be0bbd1258'\n",
    "print((gen3_drs.getAccessURL(test4, access_id='gs')))"
   ]
  },
  {
   "cell_type": "code",
   "execution_count": null,
   "id": "8a9322ad",
   "metadata": {},
   "outputs": [],
   "source": []
  }
 ],
 "metadata": {
  "kernelspec": {
   "display_name": "Python 3 (ipykernel)",
   "language": "python",
   "name": "python3"
  },
  "language_info": {
   "codemirror_mode": {
    "name": "ipython",
    "version": 3
   },
   "file_extension": ".py",
   "mimetype": "text/x-python",
   "name": "python",
   "nbconvert_exporter": "python",
   "pygments_lexer": "ipython3",
   "version": "3.9.7"
  }
 },
 "nbformat": 4,
 "nbformat_minor": 5
}
