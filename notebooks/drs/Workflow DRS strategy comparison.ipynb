{
 "cells": [
  {
   "cell_type": "markdown",
   "id": "62c9a36b",
   "metadata": {},
   "source": [
    "### Comparing methods of accessing DRS files on compute platform\n",
    "\n",
    "The following example run a compute task (samtools view) on the same data - a 15GB cram file. The file is available via DRS under controlled access.\n",
    "\n",
    "The graph below shows the time required to accomplish a number of steps for three different strategies in managing the file and the compute. The compute was run on the Kids First Cavatica platform from Seven Bridges.\n",
    "\n",
    "* Streamed - samtools is provided the URL obtained from DRS. \n",
    "* Local - the file is downloaded from the URL provided by DRS and samtools is provided the path to the local file\n",
    "* Link - the file is in another workspace on the compute platform\n",
    "\n",
    "The following data captures the time in seconds required for different steps under each of the three strategies.\n",
    "\n",
    "* download - download of the file (via DRS provided URL) to platform cloud storage\n",
    "* transfer - within cloud provider/platform transfer of the file from cloud storage to the working directory for the compute task\n",
    "* tool load - retrieval from tool repository, and tool start up time (vm instantiation)\n",
    "* compute - running the tool\n",
    "\n",
    "### Caveat up front\n",
    "There is a missing data point we require for the full picture, but that does not invalidata the analysis. The gap will be mentioned below.\n",
    "\n",
    "This is the raw data extracted from the log files for the three strategies. The numbers are times in seconds."
   ]
  },
  {
   "cell_type": "code",
   "execution_count": 1,
   "id": "7ebf33b7",
   "metadata": {},
   "outputs": [
    {
     "data": {
      "text/html": [
       "<div>\n",
       "<style scoped>\n",
       "    .dataframe tbody tr th:only-of-type {\n",
       "        vertical-align: middle;\n",
       "    }\n",
       "\n",
       "    .dataframe tbody tr th {\n",
       "        vertical-align: top;\n",
       "    }\n",
       "\n",
       "    .dataframe thead th {\n",
       "        text-align: right;\n",
       "    }\n",
       "</style>\n",
       "<table border=\"1\" class=\"dataframe\">\n",
       "  <thead>\n",
       "    <tr style=\"text-align: right;\">\n",
       "      <th></th>\n",
       "      <th>strategy</th>\n",
       "      <th>download</th>\n",
       "      <th>transfer</th>\n",
       "      <th>tool load</th>\n",
       "      <th>compute</th>\n",
       "    </tr>\n",
       "  </thead>\n",
       "  <tbody>\n",
       "    <tr>\n",
       "      <th>0</th>\n",
       "      <td>streamed</td>\n",
       "      <td>NaN</td>\n",
       "      <td>NaN</td>\n",
       "      <td>11</td>\n",
       "      <td>503</td>\n",
       "    </tr>\n",
       "    <tr>\n",
       "      <th>1</th>\n",
       "      <td>local</td>\n",
       "      <td>960.0</td>\n",
       "      <td>164.0</td>\n",
       "      <td>11</td>\n",
       "      <td>285</td>\n",
       "    </tr>\n",
       "    <tr>\n",
       "      <th>2</th>\n",
       "      <td>link</td>\n",
       "      <td>NaN</td>\n",
       "      <td>165.0</td>\n",
       "      <td>9</td>\n",
       "      <td>283</td>\n",
       "    </tr>\n",
       "  </tbody>\n",
       "</table>\n",
       "</div>"
      ],
      "text/plain": [
       "   strategy  download  transfer  tool load  compute\n",
       "0  streamed       NaN       NaN         11      503\n",
       "1     local     960.0     164.0         11      285\n",
       "2      link       NaN     165.0          9      283"
      ]
     },
     "execution_count": 1,
     "metadata": {},
     "output_type": "execute_result"
    }
   ],
   "source": [
    "import pandas as pd\n",
    "import matplotlib.pyplot as plt\n",
    "\n",
    "df = pd.read_csv(\"data/workflow_comparisons.csv\")\n",
    "df"
   ]
  },
  {
   "cell_type": "code",
   "execution_count": 2,
   "id": "ee0dd8b8",
   "metadata": {
    "scrolled": true
   },
   "outputs": [
    {
     "data": {
      "text/plain": [
       "<AxesSubplot: title={'center': 'Total time secs'}, xlabel='strategy'>"
      ]
     },
     "execution_count": 2,
     "metadata": {},
     "output_type": "execute_result"
    },
    {
     "data": {
      "image/png": "[encoded data removed]",
      "text/plain": [
       "<Figure size 432x288 with 1 Axes>"
      ]
     },
     "metadata": {
      "needs_background": "light"
     },
     "output_type": "display_data"
    }
   ],
   "source": [
    "df.plot.bar(x='strategy', stacked=True, title='Total time secs')"
   ]
  },
  {
   "cell_type": "markdown",
   "id": "37cbeeb2",
   "metadata": {},
   "source": [
    "### Comparing  streamed vs local\n",
    "Computing on the file as it is streamed into the compute platform is significantly faster (514s) than downloading the file to local storage and then running the compute (1420s).\n",
    "\n",
    "A hypothesis for this is that samtools can get on with its compute as soon as it starts receiving data. The compute occurs synchronously with the streaming. \n",
    "#### ToDo - validate the above hypothesis with samtools developers/GA4GH LSG team"
   ]
  },
  {
   "cell_type": "markdown",
   "id": "7e09909b",
   "metadata": {},
   "source": [
    "### Avoiding the download\n",
    "Excluding the download and replotting:"
   ]
  },
  {
   "cell_type": "code",
   "execution_count": 4,
   "id": "6f176bfa",
   "metadata": {},
   "outputs": [
    {
     "data": {
      "text/plain": [
       "<AxesSubplot: title={'center': 'Total time secs'}, xlabel='strategy'>"
      ]
     },
     "execution_count": 4,
     "metadata": {},
     "output_type": "execute_result"
    },
    {
     "data": {
      "image/png": "[encoded data removed]",
      "text/plain": [
       "<Figure size 432x288 with 1 Axes>"
      ]
     },
     "metadata": {
      "needs_background": "light"
     },
     "output_type": "display_data"
    }
   ],
   "source": [
    "df2 = df[['strategy','transfer','tool load','compute']]\n",
    "df2.plot.bar(x='strategy', stacked=True, title='Total time secs',\n",
    "            color=['orange', 'green', 'red'])"
   ]
  },
  {
   "cell_type": "markdown",
   "id": "3e4f375b",
   "metadata": {},
   "source": [
    "Under the \"local\" strategy a 164s overhead is incurred in transferring the file from cloud storage into the file system available to the VM. However, once the file is there the compute takes place faster (282s vs 503s). The net time (once the file is on platform) is slightly faster for local than for streamed. The streaming appears to be the rate-limiting step.\n",
    "\n",
    "#### ToDo - Probably a can of worms here in how this would apply when threaded/parallel processing is used. Need the opinion of tool developers, and some experimentation.\n",
    "\n",
    "The link strategy is essentially identical in terms of time taken. To provide a simulation of linking to a cloud bucket the file was pre-downloaded to AWS cloud storage in (Seven Bridges BioData Catalyst). The DRS linking capability in Seven Bridges allows certain DRS ids to be added to a user's 'project' and referred to in a workflow.\n",
    "\n",
    "The observation that the time for 'local' and 'link' is much the same confirms what might be expected; that transfer/copy from another bucket to the file system used for the compute is no different than for a bucket owned by the platform/user.\n",
    "However, in this simulation the bucket is not truly a third-party bucket. The cloud platform is presumably using cloud-provider level access to get to the data.  \n",
    "\n",
    "The missing experiment referred to above is to do this against the true third-party bucket. The NCBI owned AWS bucket. (Note that bucket is already being accessed in the streamed scenario).\n",
    "\n",
    "#### ToDo - how close to this experiment are we?\n",
    "The current approach is presumably that the compute platform (Seven Bridges) takes the DRS id and the users Passport (how does it get that?) and calls DRS to get to the file.\n",
    "\n",
    "If DRS is used cleanly then all the compute platform has access to is the functionality available through the DRS spec. It would be limited to obtaining the signed URL. That puts it in the position of the streamed or download-local scenarios. \n",
    "\n",
    "To do the link scenario, and copy across within cloud provider storage, would require being able to access the third party (NCBI) bucket. This is currently not possible/desirable. There are technical for options on how it could possibly addressed which are worth discussion."
   ]
  },
  {
   "cell_type": "markdown",
   "id": "d0b0885f",
   "metadata": {},
   "source": [
    "### Credits\n",
    "* Science project - [Undiagnosed Disease Network](https://undiagnosed.hms.harvard.edu/)\n",
    "* [NIH Common Fund page on UDN](https://commonfund.nih.gov/Diseases)\n",
    "* Compute platform - Seven Bridges (Cavatica and NCI Cancer Genomics Cloud)\n",
    "* Compute tool - samtools - samtools developers and GA4GH Large Scale Genomics work stream\n",
    "* Passport implementation - NCBI/ NIH CIT\n",
    "* Clearing House - NCBI dbGaP\n",
    "* Cloud Storage - NCBI managed AWS storage\n",
    "* Data Access Committee - NHGRI\n",
    "* Data Access management - NCBI dbGaP\n",
    "* WES and DRS Protocols - GA4GH Cloud workstream\n",
    "* Passport - GA4GH Data Use and Researcher Identity workstream\n",
    "* Secondary Cloud storage for simulation - NHLBI BioDataCatalyst"
   ]
  },
  {
   "cell_type": "code",
   "execution_count": null,
   "id": "903a2289",
   "metadata": {},
   "outputs": [],
   "source": []
  }
 ],
 "metadata": {
  "kernelspec": {
   "display_name": "Python 3 (ipykernel)",
   "language": "python",
   "name": "python3"
  },
  "language_info": {
   "codemirror_mode": {
    "name": "ipython",
    "version": 3
   },
   "file_extension": ".py",
   "mimetype": "text/x-python",
   "name": "python",
   "nbconvert_exporter": "python",
   "pygments_lexer": "ipython3",
   "version": "3.9.7"
  }
 },
 "nbformat": 4,
 "nbformat_minor": 5
}
