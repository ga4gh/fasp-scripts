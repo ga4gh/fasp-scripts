{
 "cells": [
  {
   "cell_type": "markdown",
   "id": "af9344c5",
   "metadata": {},
   "source": [
    "This notebook demonstrates the use of bulk DRS requests as implemented in the Starter Kit DRS implementation. These features implement the changes described in pull request [#365](https://github.com/ga4gh/data-repository-service-schemas/pull/365). The changes in the pull request are not yet an approved part of DRS."
   ]
  },
  {
   "cell_type": "code",
   "execution_count": 1,
   "id": "eba012fa",
   "metadata": {},
   "outputs": [],
   "source": [
    "from fasp.loc import DRSClient\n",
    "import json\n",
    "\n",
    "# requires the StarterKit DRS running \n",
    "\n",
    "drsClient = DRSClient(\"http://localhost:5000\")\n",
    "\n"
   ]
  },
  {
   "cell_type": "code",
   "execution_count": 2,
   "id": "57a3564f",
   "metadata": {},
   "outputs": [
    {
     "data": {
      "text/plain": [
       "{'id': '8e18bfb64168994489bc9e7fda0acd4f',\n",
       " 'description': 'High coverage, downsampled CRAM file for sample HG00449',\n",
       " 'created_time': '2022-06-24T07:41:44Z',\n",
       " 'mime_type': 'application/cram',\n",
       " 'name': 'HG00449 1000 Genomes Downsampled High Coverage CRAM file',\n",
       " 'size': 18977144,\n",
       " 'updated_time': '2022-06-24T07:41:44Z',\n",
       " 'version': '1.0.0',\n",
       " 'aliases': ['HG00449 high coverage downsampled CRAM'],\n",
       " 'checksums': [{'checksum': '232a8379bf238fe0c2b646c03a4b8bd2d83917f3',\n",
       "   'type': 'sha1'},\n",
       "  {'checksum': '44ee4289015c892c442b504ed681532f032de5c09e846be021624815859f82e8',\n",
       "   'type': 'sha256'},\n",
       "  {'checksum': '8e18bfb64168994489bc9e7fda0acd4f', 'type': 'md5'}],\n",
       " 'self_uri': 'drs://localhost:5000/8e18bfb64168994489bc9e7fda0acd4f',\n",
       " 'access_methods': [{'access_url': {'url': 's3://ga4gh-ismb-tutorial-2022/data/1000genomes/cram/highcov/HG00449.final.2400kb.cram'},\n",
       "   'type': 's3',\n",
       "   'region': 'us-east-2'}]}"
      ]
     },
     "execution_count": 2,
     "metadata": {},
     "output_type": "execute_result"
    }
   ],
   "source": [
    "drsClient.get_object(\"8e18bfb64168994489bc9e7fda0acd4f\")"
   ]
  },
  {
   "cell_type": "code",
   "execution_count": 3,
   "id": "20fecab0",
   "metadata": {},
   "outputs": [
    {
     "name": "stdout",
     "output_type": "stream",
     "text": [
      "Sending 19 ids to server\n",
      "Response summary\n",
      "{\n",
      "   \"requested\": 19,\n",
      "   \"resolved\": 19,\n",
      "   \"unresolved\": 0\n",
      "}\n"
     ]
    }
   ],
   "source": [
    "drs_ids = [\n",
    "\"8e18bfb64168994489bc9e7fda0acd4f\",\n",
    "\"ba094cae0da59f27ea82a8a802be34cd\",\n",
    "\"01b0fe13b5c4de28a4ff5a7ee3c15773\",\n",
    "\"156f8e135472a6bc7f481c11da6a9372\",\n",
    "\"336854e9e2cd32476efed80508e522ab\",\n",
    "\"4db2e371cf5f5b4257120f26736f6a1d\",\n",
    "\"77b0f3d65271c4a0064ff7760828dd92\", \n",
    "\"07d36706f15c3af1f1ad1dd595eca188\",\n",
    "\"b60e59cc6b46ed04a3ede78d8c75a6ce\",\n",
    "\"e2d03ee77bc4a7786bf6855da96dcb86\",\n",
    "\"2405a382375763292ea903a6a658ce95\",\n",
    "\"00be9e467ed3986cb2b2b1e2d157a2df\",\n",
    "\"ba094cae0da59f27ea82a8a802be34cd\",\n",
    "\"d5d4dc9bc29d993e5cc057c6c5a05939\",\n",
    "\"9c6ad5209da53a3eeab831445b3c7dc2\",\n",
    "\"f4e33a5535b43f8d3c3baf9ce05893ad\",\n",
    "\"90dc98385d4523b6967299d0b3d0d1e2\",\n",
    "\"f684f723102fc3b20a70ce132ec51ab7\",\n",
    "\"c2ddf71411a1afa4e68a132258d70be7\"\n",
    "]\n",
    "\n",
    "print (f\"Sending {len(drs_ids)} ids to server\")\n",
    "resp = drsClient.get_objects(drs_ids)\n",
    "print (\"Response summary\")\n",
    "print(json.dumps(resp['summary'], indent=3))"
   ]
  },
  {
   "cell_type": "code",
   "execution_count": 4,
   "id": "1983ba1a",
   "metadata": {},
   "outputs": [
    {
     "name": "stdout",
     "output_type": "stream",
     "text": [
      "application/cram\n",
      "s3 us-east-2\n",
      "application/crai\n",
      "s3 us-east-2\n",
      "application/cram\n",
      "s3 us-east-2\n",
      "application/cram\n",
      "s3 us-east-2\n",
      "application/cram\n",
      "s3 us-east-2\n",
      "application/cram\n",
      "s3 us-east-2\n",
      "application/cram\n",
      "s3 us-east-2\n",
      "application/cram\n",
      "s3 us-east-2\n",
      "application/crai\n",
      "s3 us-east-2\n",
      "application/crai\n",
      "s3 us-east-2\n",
      "application/crai\n",
      "s3 us-east-2\n",
      "application/crai\n",
      "s3 us-east-2\n",
      "application/crai\n",
      "s3 us-east-2\n",
      "application/cram\n",
      "s3 us-east-2\n",
      "application/crai\n",
      "s3 us-east-2\n",
      "application/crai\n",
      "s3 us-east-2\n",
      "application/crai\n",
      "s3 us-east-2\n",
      "application/crai\n",
      "s3 us-east-2\n",
      "application/crai\n",
      "s3 us-east-2\n"
     ]
    }
   ],
   "source": [
    "for r in resp['resolved_drs_object']:\n",
    "\tprint(r['mime_type'])\n",
    "\tfor a in r['access_methods']:\n",
    "\t\tprint(a['type'], a['region'])\n",
    "\t"
   ]
  },
  {
   "cell_type": "markdown",
   "id": "df803354",
   "metadata": {},
   "source": [
    "### Testing repeat ids in a bulk request\n",
    "\n",
    "Note the following explores what would happen if the same id was repeated in the request.\n",
    "\n",
    "What the preferred behavior in this situation might bear some discussion.\n",
    "\n",
    "The fact that the server counts the items in the bulk and how many are resolved and provides a summary is interesting. If it does so - is it reasonable to recognize the duplicates."
   ]
  },
  {
   "cell_type": "code",
   "execution_count": 12,
   "id": "7d773f2e",
   "metadata": {},
   "outputs": [
    {
     "name": "stdout",
     "output_type": "stream",
     "text": [
      "\n",
      "Testing same drs id multiple times in same request\n",
      "Sending 3 ids to server\n",
      "Response summary\n",
      "{\n",
      "   \"requested\": 3,\n",
      "   \"resolved\": 3,\n",
      "   \"unresolved\": 0\n",
      "}\n",
      "Item 1\n",
      "The DRS response for item 2 is the same as for item 1\n",
      "The DRS response for item 3 is the same as for item 2\n"
     ]
    }
   ],
   "source": [
    "triplicate_drs_ids = [\n",
    "\"8e18bfb64168994489bc9e7fda0acd4f\",\n",
    "\"8e18bfb64168994489bc9e7fda0acd4f\",\n",
    "\"8e18bfb64168994489bc9e7fda0acd4f\"]\n",
    "\n",
    "print (f\"\\nTesting same drs id multiple times in same request\")\n",
    "print (f\"Sending {len(triplicate_drs_ids)} ids to server\")\n",
    "resp = drsClient.get_objects(triplicate_drs_ids)\n",
    "print (\"Response summary\")\n",
    "print(json.dumps(resp['summary'], indent=3))\n",
    "last_item = None\n",
    "n = 1\n",
    "for i in resp['resolved_drs_object']:\n",
    "    if last_item != None:\n",
    "        if i == last_item:\n",
    "            print (f\"The DRS response for item {n} is the same as for item {n-1}\")\n",
    "        else:\n",
    "            print(\"No it's different\")\n",
    "    else:\n",
    "        print (\"Item 1\")\n",
    "    last_item = i\n",
    "    n+=1\n"
   ]
  },
  {
   "cell_type": "markdown",
   "id": "e8192b77",
   "metadata": {},
   "source": [
    "Is the following a more helpful/accurate response in this circumstance?\n",
    "~~~\n",
    "{\n",
    "   \"requested\": 3,\n",
    "   \"resolved\": 1,\n",
    "   \"unresolved\": 0\n",
    "}\n",
    "~~~"
   ]
  },
  {
   "cell_type": "code",
   "execution_count": null,
   "id": "75c65de6",
   "metadata": {},
   "outputs": [],
   "source": []
  }
 ],
 "metadata": {
  "kernelspec": {
   "display_name": "Python 3 (ipykernel)",
   "language": "python",
   "name": "python3"
  },
  "language_info": {
   "codemirror_mode": {
    "name": "ipython",
    "version": 3
   },
   "file_extension": ".py",
   "mimetype": "text/x-python",
   "name": "python",
   "nbconvert_exporter": "python",
   "pygments_lexer": "ipython3",
   "version": "3.9.7"
  }
 },
 "nbformat": 4,
 "nbformat_minor": 5
}
