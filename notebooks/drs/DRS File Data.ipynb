{
 "cells": [
  {
   "cell_type": "markdown",
   "metadata": {},
   "source": [
    "### Data that DRS might provide about a file\n",
    "\n",
    "Use case: Provide ~~meta~~data* about a file identified by a given DRS id.\n",
    "\n",
    "The realistic scenarios for this use case should be identified. Notably, when does this scenario occur, compared with the scenario where file ids are obtained from some other data driven query which reflects user interest?\n",
    "\n",
    "Key points are that\n",
    "\n",
    "* Search and other APIs already provide data relevant to answering that question\n",
    "* Would expect to use the same schemas that those APIs use \n",
    "* Reusing those schema provides rich functionality\n",
    "\n",
    "i.e. rather than DRS determining what metadata should be provided about a file we should tap into the existing schema that are available.\n",
    "\n",
    "*Note: there is a conscious intent here to avoid the term metadata. For one thing we need to be more specific about which use cases and what data would be useful."
   ]
  },
  {
   "cell_type": "markdown",
   "metadata": {},
   "source": [
    "## Query to get some DRS ids\n"
   ]
  },
  {
   "cell_type": "code",
   "execution_count": 1,
   "metadata": {},
   "outputs": [
    {
     "name": "stdout",
     "output_type": "stream",
     "text": [
      "_Retrieving the query_\n",
      "____Page1_______________\n",
      "____Page2_______________\n",
      "____Page3_______________\n",
      "____Page4_______________\n",
      "____Page5_______________\n"
     ]
    }
   ],
   "source": [
    "from fasp.search import DataConnectClient\n",
    "from fasp.loc import crdcDRSClient\n",
    "\n",
    "import json\n",
    "# TCGA Query - CRDC\n",
    "searchClient = DataConnectClient('https://ga4gh-search-adapter-presto-public.prod.dnastack.com/')\n",
    "\n",
    "query = \"\"\"\n",
    "    SELECT  file_id drs_id\n",
    "    FROM search_cloud.cshcodeathon.gdc_rel24_filedata_active \n",
    "    where data_format = 'BAM'\n",
    "    and project_disease_type = 'Breast Invasive Carcinoma'\n",
    "    limit 1\"\"\"\n",
    "res = searchClient.runQuery(query)"
   ]
  },
  {
   "cell_type": "markdown",
   "metadata": {},
   "source": [
    "### An example of basic data about a file.\n",
    "\n",
    "The data returned is the same data used in the original search. e.g. the data_format 'BAM' returned below is exactly that which is in the query."
   ]
  },
  {
   "cell_type": "code",
   "execution_count": 2,
   "metadata": {},
   "outputs": [
    {
     "name": "stdout",
     "output_type": "stream",
     "text": [
      "{\n",
      "   \"id\": \"030e5e74-6461-4f05-a399-de8e470bc056\",\n",
      "   \"data_format\": \"BAM\",\n",
      "   \"access\": \"controlled\",\n",
      "   \"file_name\": \"46db33a7f2003837e88d0a81b8ebec2c_gdc_realn.bam\",\n",
      "   \"data_type\": \"Aligned Reads\",\n",
      "   \"data_category\": \"Sequencing Reads\",\n",
      "   \"type\": \"aligned_reads\",\n",
      "   \"experimental_strategy\": \"WXS\",\n",
      "   \"platform\": \"Illumina\",\n",
      "   \"created_datetime\": \"2016-05-03T00:35:52.946132-05:00\",\n",
      "   \"file_size\": 23894757370\n",
      "}\n",
      "________________________________________________________________________________\n"
     ]
    }
   ],
   "source": [
    "drsClient = crdcDRSClient()\n",
    "for id in res:\n",
    "    print(json.dumps(drsClient.getFileData(id[0]), indent=3))\n",
    "    print('_'*80)\n",
    "\n",
    "    "
   ]
  },
  {
   "cell_type": "markdown",
   "metadata": {},
   "source": [
    "### The data can be retrieved through Search API itself\n",
    "\n"
   ]
  },
  {
   "cell_type": "code",
   "execution_count": 3,
   "metadata": {},
   "outputs": [
    {
     "name": "stdout",
     "output_type": "stream",
     "text": [
      "_Retrieving the query_\n",
      "____Page1_______________\n",
      "____Page2_______________\n",
      "____Page3_______________\n",
      "____Page4_______________\n",
      "____Page5_______________\n",
      "[\n",
      "   {\n",
      "      \"dbname\": \"active\",\n",
      "      \"file_gdc_id\": \"030e5e74-6461-4f05-a399-de8e470bc056\",\n",
      "      \"access\": \"controlled\",\n",
      "      \"acl\": \"phs000178\",\n",
      "      \"analysis_input_file_gdc_ids\": null,\n",
      "      \"analysis_workflow_link\": \"https://github.com/NCI-GDC/cocleaning-cwl\",\n",
      "      \"analysis_workflow_type\": \"BWA with Mark Duplicates and Cocleaning\",\n",
      "      \"archive_gdc_id\": null,\n",
      "      \"archive_revision\": null,\n",
      "      \"archive_state\": null,\n",
      "      \"archive_submitter_id\": null,\n",
      "      \"associated_entities__case_gdc_id\": \"1b703058-e596-45bc-80fe-8b98d545c2e2\",\n",
      "      \"associated_entities__entity_gdc_id\": \"7b0b60c7-5fa0-440e-937f-8d82119330d6\",\n",
      "      \"associated_entities__entity_submitter_id\": \"TCGA-AR-A2LK-01A-11D-A17W-09\",\n",
      "      \"associated_entities__entity_type\": \"aliquot\",\n",
      "      \"case_gdc_id\": \"1b703058-e596-45bc-80fe-8b98d545c2e2\",\n",
      "      \"project_dbgap_accession_number\": null,\n",
      "      \"project_disease_type\": \"Breast Invasive Carcinoma\",\n",
      "      \"project_name\": \"Breast Invasive Carcinoma\",\n",
      "      \"program_dbgap_accession_number\": \"phs000178\",\n",
      "      \"program_name\": \"TCGA\",\n",
      "      \"project_short_name\": \"TCGA-BRCA\",\n",
      "      \"created_datetime\": \"2016-05-03T00:35:52.946132-05:00\",\n",
      "      \"data_category\": \"Sequencing Reads\",\n",
      "      \"data_format\": \"BAM\",\n",
      "      \"data_type\": \"Aligned Reads\",\n",
      "      \"downstream_analyses__output_file_gdc_ids\": \"b68a22c3-110e-492f-866d-062518d296e5;d1ef3b6c-cce1-408c-85e6-9ca60c93ae28;c29294b1-ce40-4eaa-88e0-ed10c1848834;f0382a48-0f82-494a-9224-7b41103d519b\",\n",
      "      \"downstream_analyses__workflow_link\": \"https://github.com/NCI-GDC/somaticsniper-cwl;https://github.com/NCI-GDC/varscan-cwl;https://github.com/NCI-GDC/mutect-cwl;https://github.com/NCI-GDC/muse-cwl\",\n",
      "      \"downstream_analyses__workflow_type\": \"SomaticSniper;VarScan2;MuTect2;MuSE\",\n",
      "      \"experimental_strategy\": \"WXS\",\n",
      "      \"file_name\": \"46db33a7f2003837e88d0a81b8ebec2c_gdc_realn.bam\",\n",
      "      \"file_size\": 23894757370,\n",
      "      \"file_id\": \"030e5e74-6461-4f05-a399-de8e470bc056\",\n",
      "      \"index_file_gdc_id\": \"55192166-9f11-4271-97d9-ec135a9635e8\",\n",
      "      \"index_file_name\": \"46db33a7f2003837e88d0a81b8ebec2c_gdc_realn.bai\",\n",
      "      \"index_file_size\": 8560432,\n",
      "      \"md5sum\": \"f0cf564932ed0418c08b828a556d6478\",\n",
      "      \"platform\": \"Illumina\",\n",
      "      \"file_state\": \"released\",\n",
      "      \"file_submitter_id\": \"13794022-fe14-45d2-a0cc-21622ef537bf\",\n",
      "      \"file_type\": \"aligned_reads\",\n",
      "      \"updated_datetime\": \"2018-11-15T17:21:45.437138-06:00\"\n",
      "   }\n",
      "]\n"
     ]
    }
   ],
   "source": [
    "query = \"\"\"\n",
    "    SELECT * \n",
    "    FROM search_cloud.cshcodeathon.gdc_rel24_filedata_active \n",
    "    where file_id = '030e5e74-6461-4f05-a399-de8e470bc056' \"\"\"\n",
    "res2 = searchClient.runQuery(query, returnType='json')\n",
    "print(json.dumps(res2,indent=3))"
   ]
  },
  {
   "cell_type": "markdown",
   "metadata": {},
   "source": [
    "### Getting linked objects - Case, Indexes, Downstream Analyses, ...\n",
    "\n",
    "More detailed information is also available.\n",
    "\n",
    "Making use of existing schema means that a DRS id can be a jumping off point into the graph. A user could fulfill any use case that the graph allows. Tapping into the schemas provided by Search provides rich functionality with little additional effort."
   ]
  },
  {
   "cell_type": "code",
   "execution_count": 4,
   "metadata": {},
   "outputs": [
    {
     "name": "stdout",
     "output_type": "stream",
     "text": [
      "{\n",
      "   \"id\": \"030e5e74-6461-4f05-a399-de8e470bc056\",\n",
      "   \"data_format\": \"BAM\",\n",
      "   \"access\": \"controlled\",\n",
      "   \"cases\": [\n",
      "      {\n",
      "         \"case_id\": \"1b703058-e596-45bc-80fe-8b98d545c2e2\"\n",
      "      }\n",
      "   ],\n",
      "   \"associated_entities\": [\n",
      "      {\n",
      "         \"entity_type\": \"aliquot\",\n",
      "         \"entity_id\": \"7b0b60c7-5fa0-440e-937f-8d82119330d6\"\n",
      "      }\n",
      "   ],\n",
      "   \"file_name\": \"46db33a7f2003837e88d0a81b8ebec2c_gdc_realn.bam\",\n",
      "   \"data_category\": \"Sequencing Reads\",\n",
      "   \"downstream_analyses\": [\n",
      "      {\n",
      "         \"analysis_id\": \"e05199a1-d6ad-4d31-a616-dcc6fb057216\"\n",
      "      },\n",
      "      {\n",
      "         \"analysis_id\": \"d0cc7c6d-675c-401e-b751-60c68b4436e5\"\n",
      "      },\n",
      "      {\n",
      "         \"analysis_id\": \"90e83350-f2cf-49bc-910e-5331a2cea795\"\n",
      "      },\n",
      "      {\n",
      "         \"analysis_id\": \"702c782f-ce48-41c4-b7f2-c97ba26bc8a0\"\n",
      "      }\n",
      "   ],\n",
      "   \"type\": \"aligned_reads\",\n",
      "   \"analysis\": {\n",
      "      \"analysis_id\": \"35eb6a6c-76d7-4568-ae0a-45734676c43e\"\n",
      "   },\n",
      "   \"platform\": \"Illumina\",\n",
      "   \"created_datetime\": \"2016-05-03T00:35:52.946132-05:00\",\n",
      "   \"file_size\": 23894757370,\n",
      "   \"index_files\": [\n",
      "      {\n",
      "         \"file_id\": \"55192166-9f11-4271-97d9-ec135a9635e8\"\n",
      "      }\n",
      "   ],\n",
      "   \"data_type\": \"Aligned Reads\",\n",
      "   \"experimental_strategy\": \"WXS\"\n",
      "}\n",
      "________________________________________________________________________________\n"
     ]
    }
   ],
   "source": [
    "for id in res:\n",
    "    fileData = drsClient.getFileData(id[0], expanded=True)\n",
    "    print(json.dumps(fileData, indent=3))\n",
    "    print('_'*80)\n",
    "\n"
   ]
  },
  {
   "cell_type": "markdown",
   "metadata": {},
   "source": []
  },
  {
   "cell_type": "code",
   "execution_count": null,
   "metadata": {
    "scrolled": true
   },
   "outputs": [],
   "source": []
  },
  {
   "cell_type": "markdown",
   "metadata": {},
   "source": [
    "### Getting attributes of related objects\n",
    "\n"
   ]
  },
  {
   "cell_type": "code",
   "execution_count": 5,
   "metadata": {},
   "outputs": [
    {
     "name": "stdout",
     "output_type": "stream",
     "text": [
      "{\n",
      "   \"id\": \"030e5e74-6461-4f05-a399-de8e470bc056\",\n",
      "   \"data_format\": \"BAM\",\n",
      "   \"access\": \"controlled\",\n",
      "   \"cases\": [\n",
      "      {\n",
      "         \"case_id\": \"1b703058-e596-45bc-80fe-8b98d545c2e2\",\n",
      "         \"project\": {\n",
      "            \"disease_type\": \"Breast Invasive Carcinoma\"\n",
      "         },\n",
      "         \"diagnoses\": [\n",
      "            {\n",
      "               \"days_to_recurrence\": null,\n",
      "               \"morphology\": \"8520/3\",\n",
      "               \"tumor_stage\": \"stage iii\",\n",
      "               \"created_datetime\": null,\n",
      "               \"tissue_or_organ_of_origin\": \"Breast, NOS\",\n",
      "               \"primary_diagnosis\": \"Lobular carcinoma, NOS\",\n",
      "               \"age_at_diagnosis\": 22800,\n",
      "               \"classification_of_tumor\": \"not reported\",\n",
      "               \"prior_malignancy\": \"no\",\n",
      "               \"site_of_resection_or_biopsy\": \"Breast, NOS\",\n",
      "               \"days_to_last_known_disease_status\": null,\n",
      "               \"tumor_grade\": \"not reported\",\n",
      "               \"progression_or_recurrence\": \"not reported\"\n",
      "            }\n",
      "         ],\n",
      "         \"demographic\": {\n",
      "            \"race\": \"white\",\n",
      "            \"updated_datetime\": \"2019-07-31T21:33:13.355468-05:00\",\n",
      "            \"submitter_id\": \"TCGA-AR-A2LK_demographic\",\n",
      "            \"state\": \"released\",\n",
      "            \"year_of_death\": null,\n",
      "            \"year_of_birth\": 1945\n",
      "         }\n",
      "      }\n",
      "   ],\n",
      "   \"associated_entities\": [\n",
      "      {\n",
      "         \"entity_type\": \"aliquot\",\n",
      "         \"entity_id\": \"7b0b60c7-5fa0-440e-937f-8d82119330d6\"\n",
      "      }\n",
      "   ],\n",
      "   \"file_name\": \"46db33a7f2003837e88d0a81b8ebec2c_gdc_realn.bam\",\n",
      "   \"data_category\": \"Sequencing Reads\",\n",
      "   \"downstream_analyses\": [\n",
      "      {\n",
      "         \"analysis_id\": \"e05199a1-d6ad-4d31-a616-dcc6fb057216\"\n",
      "      },\n",
      "      {\n",
      "         \"analysis_id\": \"d0cc7c6d-675c-401e-b751-60c68b4436e5\"\n",
      "      },\n",
      "      {\n",
      "         \"analysis_id\": \"90e83350-f2cf-49bc-910e-5331a2cea795\"\n",
      "      },\n",
      "      {\n",
      "         \"analysis_id\": \"702c782f-ce48-41c4-b7f2-c97ba26bc8a0\"\n",
      "      }\n",
      "   ],\n",
      "   \"type\": \"aligned_reads\",\n",
      "   \"analysis\": {\n",
      "      \"analysis_id\": \"35eb6a6c-76d7-4568-ae0a-45734676c43e\"\n",
      "   },\n",
      "   \"platform\": \"Illumina\",\n",
      "   \"created_datetime\": \"2016-05-03T00:35:52.946132-05:00\",\n",
      "   \"file_size\": 23894757370,\n",
      "   \"index_files\": [\n",
      "      {\n",
      "         \"file_id\": \"55192166-9f11-4271-97d9-ec135a9635e8\"\n",
      "      }\n",
      "   ],\n",
      "   \"data_type\": \"Aligned Reads\",\n",
      "   \"experimental_strategy\": \"WXS\"\n",
      "}\n",
      "________________________________________________________________________________\n"
     ]
    }
   ],
   "source": [
    "for id in res:\n",
    "    fileData = drsClient.getFileData(id[0], linked=True)\n",
    "    print(json.dumps(fileData, indent=3))\n",
    "    print('_'*80)"
   ]
  },
  {
   "cell_type": "markdown",
   "metadata": {},
   "source": [
    "### Using the related data\n",
    "\n",
    "In this example the file id for the related Index file can be retrieved through DRS."
   ]
  },
  {
   "cell_type": "code",
   "execution_count": 6,
   "metadata": {},
   "outputs": [
    {
     "data": {
      "text/plain": [
       "{'access_methods': [{'access_id': 'gs',\n",
       "   'access_url': {'url': 'gs://gdc-tcga-phs000178-controlled/18fb79bb-7259-41da-bd76-9dd9f8f84bfc/TCGA-A1-A0SD-01A-11D-A10Y-09_IlluminaGA-DNASeq_exome_gdc_realn.bai'},\n",
       "   'region': '',\n",
       "   'type': 'gs'},\n",
       "  {'access_id': 's3',\n",
       "   'access_url': {'url': 's3://tcga-2-controlled/18fb79bb-7259-41da-bd76-9dd9f8f84bfc/TCGA-A1-A0SD-01A-11D-A10Y-09_IlluminaGA-DNASeq_exome_gdc_realn.bai'},\n",
       "   'region': '',\n",
       "   'type': 's3'}],\n",
       " 'aliases': [],\n",
       " 'checksums': [{'checksum': 'dd3b9e4fa8a85cc18c413e8b5b58e252',\n",
       "   'type': 'md5'}],\n",
       " 'contents': [],\n",
       " 'created_time': '2018-08-08T17:11:24.583780',\n",
       " 'description': None,\n",
       " 'form': 'object',\n",
       " 'id': '18fb79bb-7259-41da-bd76-9dd9f8f84bfc',\n",
       " 'mime_type': 'application/json',\n",
       " 'name': None,\n",
       " 'self_uri': 'drs://nci-crdc.datacommons.io/18fb79bb-7259-41da-bd76-9dd9f8f84bfc',\n",
       " 'size': 6700896,\n",
       " 'updated_time': '2018-08-08T17:11:24.583791',\n",
       " 'version': '3c6bf46f'}"
      ]
     },
     "execution_count": 6,
     "metadata": {},
     "output_type": "execute_result"
    }
   ],
   "source": [
    "drsClient.getObject(\"18fb79bb-7259-41da-bd76-9dd9f8f84bfc\")"
   ]
  },
  {
   "cell_type": "markdown",
   "metadata": {},
   "source": [
    "### Using table info to find out about Age at Diagnosis\n"
   ]
  },
  {
   "cell_type": "code",
   "execution_count": 8,
   "metadata": {},
   "outputs": [
    {
     "name": "stdout",
     "output_type": "stream",
     "text": [
      "{\n",
      "   \"format\": \"bigint\",\n",
      "   \"type\": \"int\",\n",
      "   \"$comment\": \"Age at the time of diagnosis expressed in number of days since birth.\"\n",
      "}\n"
     ]
    }
   ],
   "source": [
    "schema = searchClient.listTableInfo('search_cloud.cshcodeathon.tcga_clinical_gdc_current')\n",
    "schema.getCol('diag__age_at_diagnosis')"
   ]
  },
  {
   "cell_type": "markdown",
   "metadata": {},
   "source": [
    "### Better\n",
    "It would be an improvement if the unit were available in a distinct field as in this case from another source described in Search."
   ]
  },
  {
   "cell_type": "code",
   "execution_count": 9,
   "metadata": {},
   "outputs": [
    {
     "name": "stdout",
     "output_type": "stream",
     "text": [
      "{\n",
      "   \"type\": \"number\",\n",
      "   \"$comment\": \"UNIT 'Years'\",\n",
      "   \"maximum\": 98.0,\n",
      "   \"minimum\": 37.0,\n",
      "   \"description\": \"Participant reference age\"\n",
      "}\n"
     ]
    }
   ],
   "source": [
    "schema2 = searchClient.listTableInfo('dbgap_demo.scr_gecco_susceptibility.subject_phenotypes_multi')\n",
    "schema2.getCol('age')"
   ]
  },
  {
   "cell_type": "markdown",
   "metadata": {},
   "source": [
    "The example above comes from dbGaP which provides machine readable data dictiionaries which are transformed to Search schema."
   ]
  },
  {
   "cell_type": "code",
   "execution_count": 10,
   "metadata": {},
   "outputs": [
    {
     "data": {
      "text/plain": [
       "{'type': 'number',\n",
       " 'unit': 'Days',\n",
       " 'description': 'Age at the time of diagnosis expressed in number of days since birth.'}"
      ]
     },
     "execution_count": 10,
     "metadata": {},
     "output_type": "execute_result"
    }
   ],
   "source": [
    "{'type': 'number',\n",
    "    'unit' : 'Days',\n",
    "    'description': 'Age at the time of diagnosis expressed in number of days since birth.'}"
   ]
  },
  {
   "cell_type": "markdown",
   "metadata": {},
   "source": [
    "### Best?\n",
    "\n",
    "The definition can also use the Search schema capability to reference a resource of semantic standards.\n",
    "\n",
    "For the age at diagnosis in this example a full definition already exists in a Metadata Repository (MDR), in this case the Cancer Data Standards Repository - caDSR. Note that no new curation is required to do establish this connection. The link to the data element id exists in the source data and just needs to be passed through as part of the schema.\n",
    "\n",
    "A better column definition using the semantic resource would be as follows:"
   ]
  },
  {
   "cell_type": "code",
   "execution_count": 11,
   "metadata": {},
   "outputs": [],
   "source": [
    "ageColDefinition = {'type': 'number',\n",
    "    'unit': 'Days',\n",
    "    'description': 'Age at the time of diagnosis expressed in number of days since birth.',\n",
    "        '$ref':'cadsr:2006657'}\n"
   ]
  },
  {
   "cell_type": "code",
   "execution_count": 12,
   "metadata": {},
   "outputs": [
    {
     "name": "stdout",
     "output_type": "stream",
     "text": [
      "cadsr:2006657\n"
     ]
    }
   ],
   "source": [
    "print (ageColDefinition['$ref'])"
   ]
  },
  {
   "cell_type": "markdown",
   "metadata": {},
   "source": [
    "The ID above is a CURIE and can be resolved to a machine readable definition as follows:\n",
    "http://identifiers.org/cadsr:2006657 or http://n2t.net/cadsr:2006657\n",
    "\n",
    "As an example of how the linked semantic resource can be used, the following uses an example function to retrieve the details of the Common Data Element that has been used can be retrieved.\n",
    "\n",
    "The values contain linked resources such as the range of values the element may take (Value Domain) or the formal semantic Concept applied during curation of the semantic element. \n"
   ]
  },
  {
   "cell_type": "code",
   "execution_count": 17,
   "metadata": {},
   "outputs": [
    {
     "name": "stdout",
     "output_type": "stream",
     "text": [
      "{\n",
      "   \"dateCreated\": \"03-03-2003\",\n",
      "   \"dateModified\": \"01-05-2021\",\n",
      "   \"longName\": \"Diagnosis Age\",\n",
      "   \"preferredDefinition\": \"Age at which a condition or disease was first diagnosed.\",\n",
      "   \"preferredName\": \"DX_AGE\",\n",
      "   \"publicID\": \"2006657\",\n",
      "   \"registrationStatus\": \"Qualified\",\n",
      "   \"version\": \"1.0\",\n",
      "   \"valueDomain\": \"https://cadsrapi.nci.nih.gov/cadsrapi41/GetXML?query=ValueDomain&DataElement[@id=B7FF5F20-0AE9-3159-E034-0003BA12F5E7]&roleName=valueDomain\",\n",
      "   \"dataElementConcept\": \"https://cadsrapi.nci.nih.gov/cadsrapi41/GetXML?query=DataElementConcept&DataElement[@id=B7FF5F20-0AE9-3159-E034-0003BA12F5E7]&roleName=dataElementConcept\"\n",
      "}\n"
     ]
    }
   ],
   "source": [
    "cdeDefinition = schema.getcaDSRDefinition(ageColDefinition['$ref'])\n",
    "print(json.dumps(cdeDefinition, indent=3))"
   ]
  },
  {
   "cell_type": "markdown",
   "metadata": {},
   "source": [
    "### Possible changes to Search\n",
    "\n",
    "Embedding unit in $comment does not provide the optimal functionality. See the following issue for a suggested improvement.\n",
    "https://github.com/ga4gh-discovery/ga4gh-search/issues/105\n",
    "\n",
    "Similar consideration might be given to the use of the $ref attribute in JSON-Schema. Suggest that consideration should be worked through in practive in notebooks such as these, or elsewhere, in real code with real data examples."
   ]
  },
  {
   "cell_type": "code",
   "execution_count": null,
   "metadata": {},
   "outputs": [],
   "source": []
  }
 ],
 "metadata": {
  "kernelspec": {
   "display_name": "Python 3",
   "language": "python",
   "name": "python3"
  },
  "language_info": {
   "codemirror_mode": {
    "name": "ipython",
    "version": 3
   },
   "file_extension": ".py",
   "mimetype": "text/x-python",
   "name": "python",
   "nbconvert_exporter": "python",
   "pygments_lexer": "ipython3",
   "version": "3.7.3"
  }
 },
 "nbformat": 4,
 "nbformat_minor": 4
}
