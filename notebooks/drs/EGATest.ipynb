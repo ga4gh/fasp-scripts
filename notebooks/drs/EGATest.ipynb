{
 "cells": [
  {
   "cell_type": "code",
   "execution_count": 1,
   "metadata": {},
   "outputs": [
    {
     "data": {
      "text/plain": [
       "{'access_methods': [{'access_id': 'ega', 'region': '', 'type': 'pyega3'}],\n",
       " 'checksums': [{'checksum': '0e2e241e33e53094ea2ec082d409726f',\n",
       "   'type': 'md5'}],\n",
       " 'created_time': '2020-02-26T18:01:43.252269',\n",
       " 'id': 'EGAF00001554157',\n",
       " 'mime_type': 'application/json',\n",
       " 'description': 'EGAR00001523156/PAM02/SS6004352.bam.cip',\n",
       " 'name': 'SS6004352.bam',\n",
       " 'self_uri': 'drs://egasim/EGAF00001554157',\n",
       " 'size': 194294030053,\n",
       " 'updated_time': '2020-02-26T18:01:43.252275'}"
      ]
     },
     "execution_count": 1,
     "metadata": {},
     "output_type": "execute_result"
    }
   ],
   "source": [
    "from fasp.loc import EGAFileClient\n",
    "\n",
    "cl = EGAFileClient('~/.keys/ega.credentials')\n",
    "cl.getObject('EGAF00001554157')"
   ]
  },
  {
   "cell_type": "code",
   "execution_count": null,
   "metadata": {},
   "outputs": [],
   "source": []
  }
 ],
 "metadata": {
  "kernelspec": {
   "display_name": "Python 3",
   "language": "python",
   "name": "python3"
  },
  "language_info": {
   "codemirror_mode": {
    "name": "ipython",
    "version": 3
   },
   "file_extension": ".py",
   "mimetype": "text/x-python",
   "name": "python",
   "nbconvert_exporter": "python",
   "pygments_lexer": "ipython3",
   "version": "3.7.3"
  }
 },
 "nbformat": 4,
 "nbformat_minor": 4
}
