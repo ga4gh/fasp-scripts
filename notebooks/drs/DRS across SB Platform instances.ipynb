{
 "cells": [
  {
   "cell_type": "markdown",
   "id": "a0acc208",
   "metadata": {},
   "source": [
    "### DRS ids on Seven Bridges platform\n",
    "This notebook explores the various DRS Ids acquired by the same file as it is imported into different instances of the Seven Bridges platform. In this case the NCI Cancer Genomics Cloud (CGC) and BioDataCatalyst are used.\n",
    "\n",
    "These files are loaded to the CNest project."
   ]
  },
  {
   "cell_type": "code",
   "execution_count": 8,
   "id": "2b1ae880",
   "metadata": {
    "scrolled": true
   },
   "outputs": [
    {
     "name": "stdout",
     "output_type": "stream",
     "text": [
      "{\n",
      "   \"id\": \"62765a94f26c9351737fa8cc\",\n",
      "   \"name\": \"HG00445.test.cram\",\n",
      "   \"size\": 3971394,\n",
      "   \"checksums\": [\n",
      "      {\n",
      "         \"type\": \"etag\",\n",
      "         \"checksum\": \"6d5a0c75eae2b7ff704e61a8d07b931e-1\"\n",
      "      }\n",
      "   ],\n",
      "   \"self_uri\": \"drs://cgc-ga4gh-api.sbgenomics.com/62765a94f26c9351737fa8cc\",\n",
      "   \"created_time\": \"2022-05-07T11:40:04Z\",\n",
      "   \"updated_time\": \"2022-05-07T11:40:04Z\",\n",
      "   \"mime_type\": \"application/json\",\n",
      "   \"access_methods\": [\n",
      "      {\n",
      "         \"type\": \"s3\",\n",
      "         \"region\": \"us-east-1\",\n",
      "         \"access_id\": \"aws-us-east-1\"\n",
      "      }\n",
      "   ]\n",
      "}\n"
     ]
    }
   ],
   "source": [
    "import json\n",
    "\n",
    "from fasp.loc import sbcgcDRSClient\n",
    "drsClient = sbcgcDRSClient('/Users/forei/.keys/sbcgc_key.json', 's3')\n",
    "drs_id ='62765a94f26c9351737fa8cc'\n",
    "print(json.dumps(drsClient.get_object(drs_id),indent=3))"
   ]
  },
  {
   "cell_type": "markdown",
   "id": "c87a4881",
   "metadata": {},
   "source": [
    "This the same file imported to the CGC via the DRS import capability. Note that it has acquired a different DRS id. That DRS id is used in computes initiated on the file."
   ]
  },
  {
   "cell_type": "code",
   "execution_count": 20,
   "id": "37cc16eb",
   "metadata": {
    "scrolled": true
   },
   "outputs": [
    {
     "name": "stdout",
     "output_type": "stream",
     "text": [
      "{\n",
      "   \"id\": \"626c1775f26c93517368c97c\",\n",
      "   \"name\": \"HG00445.final.cram\",\n",
      "   \"size\": 18276728210,\n",
      "   \"checksums\": [\n",
      "      {\n",
      "         \"type\": \"etag\",\n",
      "         \"checksum\": \"a06d149487e09844cca481517c9e8108-2179\"\n",
      "      }\n",
      "   ],\n",
      "   \"self_uri\": \"drs://cgc-ga4gh-api.sbgenomics.com/626c1775f26c93517368c97c\",\n",
      "   \"created_time\": \"2022-04-29T16:51:01Z\",\n",
      "   \"updated_time\": \"2022-04-29T16:51:01Z\",\n",
      "   \"mime_type\": \"application/json\",\n",
      "   \"access_methods\": [\n",
      "      {\n",
      "         \"type\": \"s3\",\n",
      "         \"region\": \"us-east-1\",\n",
      "         \"access_id\": \"aws-us-east-1\"\n",
      "      }\n",
      "   ]\n",
      "}\n"
     ]
    }
   ],
   "source": [
    "sb_imported_drs_drs_id ='626c1775f26c93517368c97c'\n",
    "resp = drsClient.get_object(sb_imported_drs_drs_id)\n",
    "print(json.dumps(drsClient.get_object(sb_imported_drs_drs_id),indent=3))\n",
    "#print(resp.raise_for_status())"
   ]
  },
  {
   "cell_type": "markdown",
   "id": "ebb47efb",
   "metadata": {},
   "source": [
    "Show the URL obtained to access the file"
   ]
  },
  {
   "cell_type": "code",
   "execution_count": 25,
   "id": "ab4c5fa5",
   "metadata": {},
   "outputs": [
    {
     "name": "stdout",
     "output_type": "stream",
     "text": [
      "https://nih-nhlbi-biodata-catalyst-1000-genomes-high-coverage.s3.amazonaws.com/CCDG_13607/Project_CCDG_13607_B01_GRM_WGS.cram.2019-02-06/Sample_HG00445/analysis/HG00445.final.cram\n"
     ]
    }
   ],
   "source": [
    "indirect_url = drsClient.get_access_url(sb_imported_drs_drs_id)\n",
    "#print the url without any of the token information\n",
    "print(indirect_url.split('?')[0])"
   ]
  },
  {
   "cell_type": "markdown",
   "id": "0198d064",
   "metadata": {},
   "source": [
    "### The same file on the source platform (BioDataCatalyst)\n",
    "What does this file look like on the original platform? TopMed\n",
    "The Biodata Catalyst DRS id for the 'imported' file is 626c079e645ccb7324c671d1\n",
    "\n",
    "We can access it directly from BioDataCatalyst as follows"
   ]
  },
  {
   "cell_type": "code",
   "execution_count": 26,
   "id": "4088b72d",
   "metadata": {},
   "outputs": [
    {
     "data": {
      "text/plain": [
       "{'id': '626c079e645ccb7324c671d1',\n",
       " 'name': 'HG00445.final.cram',\n",
       " 'size': 18276728210,\n",
       " 'checksums': [{'type': 'etag',\n",
       "   'checksum': 'a06d149487e09844cca481517c9e8108-2179'}],\n",
       " 'self_uri': 'drs://ga4gh-api.sb.biodatacatalyst.nhlbi.nih.gov/626c079e645ccb7324c671d1',\n",
       " 'created_time': '2022-04-29T15:43:26Z',\n",
       " 'updated_time': '2022-10-17T11:50:03Z',\n",
       " 'mime_type': 'application/json',\n",
       " 'access_methods': [{'type': 's3',\n",
       "   'region': 'us-east-1',\n",
       "   'access_id': 'aws-us-east-1'}]}"
      ]
     },
     "execution_count": 26,
     "metadata": {},
     "output_type": "execute_result"
    }
   ],
   "source": [
    "from fasp.loc import sbbdcDRSClient\n",
    "bdc_drs_id ='626c079e645ccb7324c671d1'\n",
    "bdc_drsClient = sbbdcDRSClient('/Users/forei/.keys/sbbdc_key.json', 's3')\n",
    "bdc_drsClient.get_object(bdc_drs_id)"
   ]
  },
  {
   "cell_type": "code",
   "execution_count": 27,
   "id": "7b332dc4",
   "metadata": {},
   "outputs": [
    {
     "name": "stdout",
     "output_type": "stream",
     "text": [
      "URL provided via BioDataCatalyst DRS\n",
      "https://nih-nhlbi-biodata-catalyst-1000-genomes-high-coverage.s3.amazonaws.com/CCDG_13607/Project_CCDG_13607_B01_GRM_WGS.cram.2019-02-06/Sample_HG00445/analysis/HG00445.final.cram\n",
      "URL provided via CGC DRS\n",
      "https://nih-nhlbi-biodata-catalyst-1000-genomes-high-coverage.s3.amazonaws.com/CCDG_13607/Project_CCDG_13607_B01_GRM_WGS.cram.2019-02-06/Sample_HG00445/analysis/HG00445.final.cram\n"
     ]
    }
   ],
   "source": [
    "direct_url = bdc_drsClient.get_access_url(bdc_drs_id)\n",
    "#print the url without any of the token information\n",
    "print(\"URL provided via BioDataCatalyst DRS\")\n",
    "print(direct_url.split('?')[0])\n",
    "print(\"URL provided via CGC DRS\")\n",
    "print(indirect_url.split('?')[0])"
   ]
  },
  {
   "cell_type": "markdown",
   "id": "7fa93eb7",
   "metadata": {},
   "source": [
    "Can we run the compute off CGC using WES and passing the BDC DRS id?\n",
    "Worth checking.\n",
    "\n",
    "This was attempted but CGC could not used the BDC DRS id"
   ]
  }
 ],
 "metadata": {
  "kernelspec": {
   "display_name": "Python 3 (ipykernel)",
   "language": "python",
   "name": "python3"
  },
  "language_info": {
   "codemirror_mode": {
    "name": "ipython",
    "version": 3
   },
   "file_extension": ".py",
   "mimetype": "text/x-python",
   "name": "python",
   "nbconvert_exporter": "python",
   "pygments_lexer": "ipython3",
   "version": "3.9.7"
  }
 },
 "nbformat": 4,
 "nbformat_minor": 5
}
