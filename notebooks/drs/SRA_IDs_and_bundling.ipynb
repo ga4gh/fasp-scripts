{
 "cells": [
  {
   "cell_type": "markdown",
   "metadata": {},
   "source": [
    "## Comparing approaches: Identifying DRS object via query or unpacking DRS Bundles\n",
    "This notebook explores two approaches to getting to specific objects or files via DRS.\n",
    "* Identifying the specific file of interest from attributes of subjects and specimens (sometimes called metadata)\n",
    "* Extracting a specific file of interest from a bundle\n",
    "\n",
    "\n",
    "\n",
    "\n",
    "For context, another notebook shows how the files identified via the approaches here can be submitted for compute via a  WES service. \n",
    "\n",
    "The data and files used are from the Thousand Genomes project. The following query using GA4GH Search shows how, in a single step, the DRS ids for mapped BAM files for whole exome sequencing for subjects from a particular population.\n",
    "\n",
    "This example was worked through in the January 2021 FASP Hackathon."
   ]
  },
  {
   "cell_type": "code",
   "execution_count": 1,
   "metadata": {},
   "outputs": [
    {
     "name": "stderr",
     "output_type": "stream",
     "text": [
      "/Users/forei/imfenvs/fasp/lib/python3.9/site-packages/pandas/compat/__init__.py:124: UserWarning: Could not import the lzma module. Your installed Python is incomplete. Attempting to use lzma compression will result in a RuntimeError.\n",
      "  warnings.warn(msg)\n"
     ]
    },
    {
     "name": "stdout",
     "output_type": "stream",
     "text": [
      "_Retrieving the query_\n",
      "____Page1_______________\n",
      "____Page2_______________\n",
      "____Page3_______________\n",
      "____Page4_______________\n",
      "____Page5_______________\n",
      "____Page6_______________\n",
      "____Page7_______________\n"
     ]
    },
    {
     "data": {
      "text/html": [
       "<div>\n",
       "<style scoped>\n",
       "    .dataframe tbody tr th:only-of-type {\n",
       "        vertical-align: middle;\n",
       "    }\n",
       "\n",
       "    .dataframe tbody tr th {\n",
       "        vertical-align: top;\n",
       "    }\n",
       "\n",
       "    .dataframe thead th {\n",
       "        text-align: right;\n",
       "    }\n",
       "</style>\n",
       "<table border=\"1\" class=\"dataframe\">\n",
       "  <thead>\n",
       "    <tr style=\"text-align: right;\">\n",
       "      <th></th>\n",
       "      <th>sample_name</th>\n",
       "      <th>bam_drs_id</th>\n",
       "      <th>acc</th>\n",
       "    </tr>\n",
       "  </thead>\n",
       "  <tbody>\n",
       "    <tr>\n",
       "      <th>0</th>\n",
       "      <td>NA18945</td>\n",
       "      <td>9327fb44eb81b49a41e38c8d86eb3b3a</td>\n",
       "      <td>SRR1601115</td>\n",
       "    </tr>\n",
       "    <tr>\n",
       "      <th>1</th>\n",
       "      <td>NA18943</td>\n",
       "      <td>9f38253b281c7e9c99e4bdbececd8e2f</td>\n",
       "      <td>SRR1606910</td>\n",
       "    </tr>\n",
       "    <tr>\n",
       "      <th>2</th>\n",
       "      <td>NA18944</td>\n",
       "      <td>5aff9cee759c930666e94e65dbb0af94</td>\n",
       "      <td>SRR1601113</td>\n",
       "    </tr>\n",
       "    <tr>\n",
       "      <th>3</th>\n",
       "      <td>NA18940</td>\n",
       "      <td>333a651b55970c9402db51ebb5e55d09</td>\n",
       "      <td>SRR1607212</td>\n",
       "    </tr>\n",
       "    <tr>\n",
       "      <th>4</th>\n",
       "      <td>NA18952</td>\n",
       "      <td>ac972e5bb3737622e5d0328cee59d724</td>\n",
       "      <td>SRR1604558</td>\n",
       "    </tr>\n",
       "    <tr>\n",
       "      <th>...</th>\n",
       "      <td>...</td>\n",
       "      <td>...</td>\n",
       "      <td>...</td>\n",
       "    </tr>\n",
       "    <tr>\n",
       "      <th>99</th>\n",
       "      <td>NA19001</td>\n",
       "      <td>f23f984cdfdb257a058faedfe9c0d10a</td>\n",
       "      <td>SRR1601170</td>\n",
       "    </tr>\n",
       "    <tr>\n",
       "      <th>100</th>\n",
       "      <td>NA19084</td>\n",
       "      <td>4d8075a1b7115b7fcd242d9d25f8de25</td>\n",
       "      <td>SRR1598088</td>\n",
       "    </tr>\n",
       "    <tr>\n",
       "      <th>101</th>\n",
       "      <td>NA19090</td>\n",
       "      <td>e7a65db7f7b4e7caf65193aa7986e584</td>\n",
       "      <td>SRR1603949</td>\n",
       "    </tr>\n",
       "    <tr>\n",
       "      <th>102</th>\n",
       "      <td>NA19087</td>\n",
       "      <td>b5f9609124241ade815fe49e2eb38c4f</td>\n",
       "      <td>SRR1603951</td>\n",
       "    </tr>\n",
       "    <tr>\n",
       "      <th>103</th>\n",
       "      <td>NA19077</td>\n",
       "      <td>59eb87314f05d99a4ef8cd250353d151</td>\n",
       "      <td>SRR1598075</td>\n",
       "    </tr>\n",
       "  </tbody>\n",
       "</table>\n",
       "<p>104 rows × 3 columns</p>\n",
       "</div>"
      ],
      "text/plain": [
       "    sample_name                        bam_drs_id         acc\n",
       "0       NA18945  9327fb44eb81b49a41e38c8d86eb3b3a  SRR1601115\n",
       "1       NA18943  9f38253b281c7e9c99e4bdbececd8e2f  SRR1606910\n",
       "2       NA18944  5aff9cee759c930666e94e65dbb0af94  SRR1601113\n",
       "3       NA18940  333a651b55970c9402db51ebb5e55d09  SRR1607212\n",
       "4       NA18952  ac972e5bb3737622e5d0328cee59d724  SRR1604558\n",
       "..          ...                               ...         ...\n",
       "99      NA19001  f23f984cdfdb257a058faedfe9c0d10a  SRR1601170\n",
       "100     NA19084  4d8075a1b7115b7fcd242d9d25f8de25  SRR1598088\n",
       "101     NA19090  e7a65db7f7b4e7caf65193aa7986e584  SRR1603949\n",
       "102     NA19087  b5f9609124241ade815fe49e2eb38c4f  SRR1603951\n",
       "103     NA19077  59eb87314f05d99a4ef8cd250353d151  SRR1598075\n",
       "\n",
       "[104 rows x 3 columns]"
      ]
     },
     "execution_count": 1,
     "metadata": {},
     "output_type": "execute_result"
    }
   ],
   "source": [
    "from fasp.search import DataConnectClient\n",
    "\n",
    "# Step 1 - Discovery\n",
    "# query for relevant DRS objects\n",
    "searchClient = DataConnectClient('https://ga4gh-search-adapter-presto-public.prod.dnastack.com/')\n",
    "\n",
    "query = '''SELECT f.sample_name, drs_id bam_drs_id, acc\n",
    "FROM thousand_genomes.onek_genomes.ssd_drs s \n",
    "join thousand_genomes.onek_genomes.sra_drs_files f on f.sample_name = s.su_submitter_id \n",
    "where filetype = 'bam' and mapped = 'mapped' \n",
    "and sequencing_type ='exome' and  population = 'JPT' '''\n",
    "\n",
    "resultRows = searchClient.runQuery(query, returnType='dataframe')\n",
    "resultRows"
   ]
  },
  {
   "cell_type": "markdown",
   "metadata": {},
   "source": [
    "The following shows how the SRA DRS server can be used to determine where the files can be obtained from. The following shows this for the first DRS id from the query results. "
   ]
  },
  {
   "cell_type": "code",
   "execution_count": 5,
   "metadata": {},
   "outputs": [
    {
     "name": "stdout",
     "output_type": "stream",
     "text": [
      "9327fb44eb81b49a41e38c8d86eb3b3a\n"
     ]
    },
    {
     "data": {
      "text/plain": [
       "{'access_methods': [{'access_id': 'd3f48734dd64671ce17675652a4d1d926d49ed0a8bd09b611d06c06416a59b02',\n",
       "   'region': 'gs.US',\n",
       "   'type': 'https'},\n",
       "  {'access_id': '20faac3996cf30269c05837053b49098e098d974e5d8c6cf83b2c1d19587efe7',\n",
       "   'type': 'https'},\n",
       "  {'access_id': '9309d041f3ec70cc9a376c0b5884d9528c943a5606cae7424246260110b4ab80',\n",
       "   'region': 's3.us-east-1',\n",
       "   'type': 'https'}],\n",
       " 'checksums': [{'checksum': '9327fb44eb81b49a41e38c8d86eb3b3a',\n",
       "   'type': 'md5'}],\n",
       " 'created_time': '2013-02-25T23:13:15Z',\n",
       " 'id': '9327fb44eb81b49a41e38c8d86eb3b3a',\n",
       " 'name': 'NA18945.mapped.ILLUMINA.bwa.JPT.exome.20121211.bam',\n",
       " 'self_url': 'drs://locate.be-md.ncbi.nlm.nih.gov/9327fb44eb81b49a41e38c8d86eb3b3a',\n",
       " 'size': 10606854428}"
      ]
     },
     "execution_count": 5,
     "metadata": {},
     "output_type": "execute_result"
    }
   ],
   "source": [
    "from fasp.loc import SRADRSClient\n",
    "\n",
    "# Set up a client to access NCBI's  DRS Server for the Sequence Read Archive (SRA)\n",
    "drsClient = SRADRSClient('https://locate.be-md.ncbi.nlm.nih.gov', public=True)\n",
    "# Get the DRS id from the query results above\n",
    "test_id = resultRows.iloc[0]['bam_drs_id']\n",
    "print(test_id)\n",
    "# Use the DRS GetObject function to find out where the file is availble for access\n",
    "objInfo = drsClient.getObject(test_id)\n",
    "objInfo"
   ]
  },
  {
   "cell_type": "markdown",
   "metadata": {},
   "source": [
    "A second DRS call can be used to obtain a url to access the file from one of the above locations.\n",
    "\n",
    "Note that unlike other DRS servers the SRA DRS server uses arbitrary user_ids (consistent with spec) so our SRA DRS client function to obtain a URL takes the region we want to use rather than the access_id.\n",
    "\n",
    "See issue to resolve practices for access_id https://github.com/ga4gh/data-repository-service-schemas/issues/341"
   ]
  },
  {
   "cell_type": "code",
   "execution_count": 7,
   "metadata": {},
   "outputs": [
    {
     "name": "stdout",
     "output_type": "stream",
     "text": [
      "access_id:d3f48734dd64671ce17675652a4d1d926d49ed0a8bd09b611d06c06416a59b02\n",
      "url:https://storage.googleapis.com/genomics-public-data/ftp-trace.ncbi.nih.gov/1000genomes/ftp/phase3/data/NA18945/exome_alignment/NA18945.mapped.ILLUMINA.bwa.JPT.exome.20121211.bam\n"
     ]
    }
   ],
   "source": [
    "access_id = objInfo['access_methods'][0]['access_id']\n",
    "print('access_id:{}'.format(access_id))\n",
    "#url = drsClient.getAccessURL(test_id, access_id=access_id)\n",
    "url = drsClient.getAccessURL(test_id, region='gs.US')\n",
    "print('url:{}'.format(url))"
   ]
  },
  {
   "cell_type": "markdown",
   "metadata": {},
   "source": [
    "The approach above is that which was used in the full FASP example that runs the compute. Refer to that notebook. \n",
    "\n",
    "### Second approach - unpacking DRS Bundles provided by SRA DRS Server\n",
    "Here we'll continue with the second approach to working with SRA ids.\n",
    "\n",
    "It addresses one aspect of bundling in DRS - namely when the bundle contains a collection of different files related to the provided DRS id. "
   ]
  },
  {
   "cell_type": "markdown",
   "metadata": {},
   "source": [
    "First a query against the data we used above for comparison. "
   ]
  },
  {
   "cell_type": "code",
   "execution_count": 8,
   "metadata": {},
   "outputs": [
    {
     "name": "stdout",
     "output_type": "stream",
     "text": [
      "_Retrieving the query_\n",
      "____Page1_______________\n",
      "____Page2_______________\n",
      "____Page3_______________\n",
      "____Page4_______________\n",
      "____Page5_______________\n",
      "____Page6_______________\n"
     ]
    },
    {
     "data": {
      "text/html": [
       "<div>\n",
       "<style scoped>\n",
       "    .dataframe tbody tr th:only-of-type {\n",
       "        vertical-align: middle;\n",
       "    }\n",
       "\n",
       "    .dataframe tbody tr th {\n",
       "        vertical-align: top;\n",
       "    }\n",
       "\n",
       "    .dataframe thead th {\n",
       "        text-align: right;\n",
       "    }\n",
       "</style>\n",
       "<table border=\"1\" class=\"dataframe\">\n",
       "  <thead>\n",
       "    <tr style=\"text-align: right;\">\n",
       "      <th></th>\n",
       "      <th>filetype</th>\n",
       "      <th>mapped</th>\n",
       "      <th>rowCount</th>\n",
       "    </tr>\n",
       "  </thead>\n",
       "  <tbody>\n",
       "    <tr>\n",
       "      <th>0</th>\n",
       "      <td>bam</td>\n",
       "      <td>mapped</td>\n",
       "      <td>5070</td>\n",
       "    </tr>\n",
       "    <tr>\n",
       "      <th>1</th>\n",
       "      <td>bam</td>\n",
       "      <td>unmapped</td>\n",
       "      <td>5070</td>\n",
       "    </tr>\n",
       "    <tr>\n",
       "      <th>2</th>\n",
       "      <td>bai</td>\n",
       "      <td>mapped</td>\n",
       "      <td>1889</td>\n",
       "    </tr>\n",
       "    <tr>\n",
       "      <th>3</th>\n",
       "      <td>bai</td>\n",
       "      <td>unmapped</td>\n",
       "      <td>284</td>\n",
       "    </tr>\n",
       "  </tbody>\n",
       "</table>\n",
       "</div>"
      ],
      "text/plain": [
       "  filetype    mapped  rowCount\n",
       "0      bam    mapped      5070\n",
       "1      bam  unmapped      5070\n",
       "2      bai    mapped      1889\n",
       "3      bai  unmapped       284"
      ]
     },
     "execution_count": 8,
     "metadata": {},
     "output_type": "execute_result"
    }
   ],
   "source": [
    "searchClient.query2Frame('''select filetype, mapped, count(*) rowCount from thousand_genomes.onek_genomes.sra_drs_files \n",
    "group by filetype, mapped  ''')"
   ]
  },
  {
   "cell_type": "markdown",
   "metadata": {},
   "source": [
    "## The SRA Identity Exchange and DRS services\n",
    "Can we take an SRA accession number from above and see what it looks like through the SRA IDentity eXchange service (IDX), and how that works through in DRS. We'll start with a run accession an SRR?\n",
    "\n",
    "The SRADRSClient has an additional function to access the IDX service with a SRA accession number "
   ]
  },
  {
   "cell_type": "code",
   "execution_count": 9,
   "metadata": {},
   "outputs": [
    {
     "name": "stdout",
     "output_type": "stream",
     "text": [
      "{\n",
      "   \"drs-base\": \"drs://locate.be-md.ncbi.nlm.nih.gov\",\n",
      "   \"response\": {\n",
      "      \"SRR1601121\": {\n",
      "         \"drs\": \"9466d7c1ec8fde019ce630c9bd88582e\",\n",
      "         \"status_code\": 200\n",
      "      }\n",
      "   }\n",
      "}\n",
      "9466d7c1ec8fde019ce630c9bd88582e\n"
     ]
    }
   ],
   "source": [
    "import json\n",
    "from fasp.loc import SRADRSClient\n",
    "drsClient = SRADRSClient('https://locate.be-md.ncbi.nlm.nih.gov', public=True)\n",
    "\n",
    "accession = 'SRR1601121'\n",
    "idx = drsClient.acc2drs(accession)\n",
    "print(json.dumps(idx, indent=3))\n",
    "drsId = idx['response'][accession]['drs']\n",
    "print (drsId)\n",
    "\n"
   ]
  },
  {
   "cell_type": "markdown",
   "metadata": {},
   "source": [
    "<del>Note: the base URI returned in the result above suggests the DRS service could be accessed at the URL https://locate.ncbi.nlm.nih.gov . At present, for performance purposes the SRA DRS service should be accessed at https://locate.be-md.ncbi.nlm.nih.gov. See the example above</del>\n",
    "\n",
    "Now use the DRS service with that id."
   ]
  },
  {
   "cell_type": "code",
   "execution_count": 10,
   "metadata": {},
   "outputs": [
    {
     "data": {
      "text/plain": [
       "{'checksums': [{'checksum': '9466d7c1ec8fde019ce630c9bd88582e',\n",
       "   'type': 'md5'}],\n",
       " 'contents': [{'id': '519de9933298caa8bdf551351426d120',\n",
       "   'name': 'NA18948.unmapped.ILLUMINA.bwa.JPT.exome.20121211.bam'},\n",
       "  {'id': 'a027e7c2a917cba582a9684244ad339d',\n",
       "   'name': 'NA18948.mapped.ILLUMINA.bwa.JPT.exome.20121211.bam.bai'},\n",
       "  {'id': 'fb1cfb04d3ef99d07c21f9dbf87ccc68',\n",
       "   'name': 'NA18948.mapped.ILLUMINA.bwa.JPT.exome.20121211.bam'}],\n",
       " 'created_time': '2013-02-25T23:24:10Z',\n",
       " 'id': '9466d7c1ec8fde019ce630c9bd88582e',\n",
       " 'name': 'SRR1601121',\n",
       " 'self_url': 'drs://locate.be-md.ncbi.nlm.nih.gov/9466d7c1ec8fde019ce630c9bd88582e',\n",
       " 'size': 8763581919}"
      ]
     },
     "execution_count": 10,
     "metadata": {},
     "output_type": "execute_result"
    }
   ],
   "source": [
    "drsClient.getObject(drsId)"
   ]
  },
  {
   "cell_type": "markdown",
   "metadata": {},
   "source": [
    "Our intent as in the first approach is to work with the mapped bam file. We can see visually, from the filename, which file which DRS id we need.\n",
    "#### An issue\n",
    "This highlights the first issue with this approach. The information we need to identify the file we need is in the file name. That would be fine for low throughput situations carried out by human eye. It does not scale to machine actionable larger use cases.\n",
    "\n",
    "#### Moving on\n",
    "We use the manually identified id via DRS to identify how we may get the file of interest. This is identical to how we did this under the first approach."
   ]
  },
  {
   "cell_type": "code",
   "execution_count": 11,
   "metadata": {},
   "outputs": [
    {
     "data": {
      "text/plain": [
       "{'access_methods': [{'access_id': '1e4846c05c81a49f684e7f940ffbd3a98e5f0e335f019ee4d32d85c72096b743',\n",
       "   'region': 'gs.US',\n",
       "   'type': 'https'},\n",
       "  {'access_id': 'b14572d74b5aafe87a0fcc873050d6c3993f27338cdd088b5883aed4b118f0c8',\n",
       "   'type': 'https'},\n",
       "  {'access_id': '0623f9350999297e5fa3a77a05c08b8cf1fbd10ef4e392c0d52dde9a4e469a85',\n",
       "   'region': 's3.us-east-1',\n",
       "   'type': 'https'}],\n",
       " 'checksums': [{'checksum': 'fb1cfb04d3ef99d07c21f9dbf87ccc68',\n",
       "   'type': 'md5'}],\n",
       " 'created_time': '2013-02-25T23:24:10Z',\n",
       " 'id': 'fb1cfb04d3ef99d07c21f9dbf87ccc68',\n",
       " 'name': 'NA18948.mapped.ILLUMINA.bwa.JPT.exome.20121211.bam',\n",
       " 'self_url': 'drs://locate.be-md.ncbi.nlm.nih.gov/fb1cfb04d3ef99d07c21f9dbf87ccc68',\n",
       " 'size': 8752606127}"
      ]
     },
     "execution_count": 11,
     "metadata": {},
     "output_type": "execute_result"
    }
   ],
   "source": [
    "drsClient.getObject('fb1cfb04d3ef99d07c21f9dbf87ccc68')"
   ]
  },
  {
   "cell_type": "markdown",
   "metadata": {},
   "source": [
    "In the first approach we were able to identify the DRS ids in the same step as querying for the other sample and subject attributes of interest.\n",
    "\n",
    "The first approach is common in many other cases. See fasp-scripts notebooks for a range of examples where it is possible to get DRS ids from a query against some external database."
   ]
  },
  {
   "cell_type": "markdown",
   "metadata": {},
   "source": [
    "## Bundling at a higher level. An SRP accession\n",
    "\n",
    "In another application of bundling, a bundle is simply a list of other DRS ids\n",
    "\n",
    "SRA's data model has a number of levels above the Run. In descending order they are.\n",
    "* SRP - Project, a project in which sequencing has been done\n",
    "* SRS - Sample, a physical sample from the project. What it represents depnds on scientific investigation in the Project.\n",
    "* SRX - Experiment, the application of a particular sequencing technology to some Sample\n",
    "* SRR - Run, the run, on a sequencer, of material from the Experiment\n",
    "\n",
    "In the following example, the IDentity eXchange service (IDX) is called to get the DRS id which corresponds to the project. A feature in iPython is used to time how long the response takes.\n",
    "\n",
    "Please be patient for this step to complete, it can take 45-90 seconds."
   ]
  },
  {
   "cell_type": "code",
   "execution_count": 12,
   "metadata": {},
   "outputs": [
    {
     "name": "stdout",
     "output_type": "stream",
     "text": [
      "https://locate.be-md.ncbi.nlm.nih.gov/idx/v1/SRP048601\n",
      "<Response [200]>\n",
      "5d8b77dd974e1b7c9de4040cbf9a24c7\n",
      "CPU times: user 18.8 ms, sys: 4.41 ms, total: 23.2 ms\n",
      "Wall time: 37.4 s\n"
     ]
    }
   ],
   "source": [
    "%%time\n",
    "srp = 'SRP048601'\n",
    "res = drsClient.acc2drs(srp, verbose=True)\n",
    "\n",
    "#SRS000157\n",
    "drsId = res['response'][srp]['drs']\n",
    "print(drsId)"
   ]
  },
  {
   "cell_type": "markdown",
   "metadata": {},
   "source": [
    "The DRS id for the project can now be sent to the DRS server. \n",
    "\n",
    "The response will consists of a bundle of DRS ids for experiments within the project.\n",
    "\n",
    "Note the response time, though it needs to return a list of 5070 ids it does so in less than a second."
   ]
  },
  {
   "cell_type": "code",
   "execution_count": 13,
   "metadata": {},
   "outputs": [
    {
     "name": "stdout",
     "output_type": "stream",
     "text": [
      "5070\n",
      "CPU times: user 27.1 ms, sys: 27 ms, total: 54.1 ms\n",
      "Wall time: 781 ms\n"
     ]
    }
   ],
   "source": [
    "%%time\n",
    "drsRes = drsClient.getObject(drsId)\n",
    "print(len(drsRes['contents']))"
   ]
  },
  {
   "cell_type": "markdown",
   "metadata": {},
   "source": [
    "The full bundle is not printed here. The following is a truncated example.\n",
    "\n",
    "```json\n",
    "{'checksums': [{'checksum': '5d8b77dd974e1b7c9de4040cbf9a24c7',\n",
    "   'type': 'md5'}],\n",
    " 'contents': [{'id': 'f2b7f3f7c123a38eb904c5412ce48757', 'name': 'SRX719457'},\n",
    "  {'id': '16139c5b6f36034eb09768c17a90fd23', 'name': 'SRX719843'},\n",
    "  {'id': '8fa664d99d3cc9fb701d15e026e14950', 'name': 'SRX719844'},\n",
    "  {'id': 'a4165df1fcea2234c42128bcb1d26cc0', 'name': 'SRX719845'},\n",
    "  {'id': '287a5d73a2ba5abf10d6bbcdb0b4ed42', 'name': 'SRX719846'},\n",
    "  {'id': '4b995cc57ff3d4ebeac9684f2b9f7f7f', 'name': 'SRX719847'},\n",
    "  {'id': 'b488ab01ce3fa83addea057153ec449c', 'name': 'SRX719848'},\n",
    "  {'id': 'b3dd0d947f7e901bedf9f5789565ed07', 'name': 'SRX719849'},\n",
    "  {'id': 'a3bfebcf770157458454986092aeda62', 'name': 'SRX719850'},\n",
    "  {'id': '8165dc2b262ba94fdfd9a14bc7919fd4', 'name': 'SRX719851'},\n",
    " \n",
    "  ...],\n",
    " 'created_time': '2012-11-15T14:00:55Z',\n",
    " 'id': '5d8b77dd974e1b7c9de4040cbf9a24c7',\n",
    " 'name': 'SRP048601',\n",
    " 'self_url': 'drs://locate.md-be.ncbi.nlm.nih.gov/5d8b77dd974e1b7c9de4040cbf9a24c7',\n",
    " 'size': 87447929899239}\n",
    "```"
   ]
  },
  {
   "cell_type": "markdown",
   "metadata": {},
   "source": [
    "The objects returned are still not physical files (i.e. a set of bytes) but an id for another logical concept. The 'experiment'.\n",
    "\n",
    "Calling DRS with the DRS id for the experiment."
   ]
  },
  {
   "cell_type": "code",
   "execution_count": 14,
   "metadata": {},
   "outputs": [
    {
     "data": {
      "text/plain": [
       "{'checksums': [{'checksum': '16139c5b6f36034eb09768c17a90fd23',\n",
       "   'type': 'md5'}],\n",
       " 'contents': [{'id': 'fd074040842ce8c2e114b4eed7accee0',\n",
       "   'name': 'SRR1596638'}],\n",
       " 'created_time': '2012-11-19T15:20:25Z',\n",
       " 'id': '16139c5b6f36034eb09768c17a90fd23',\n",
       " 'name': 'SRX719843',\n",
       " 'self_url': 'drs://locate.be-md.ncbi.nlm.nih.gov/16139c5b6f36034eb09768c17a90fd23',\n",
       " 'size': 9205789476}"
      ]
     },
     "execution_count": 14,
     "metadata": {},
     "output_type": "execute_result"
    }
   ],
   "source": [
    "drsClient.getObject('16139c5b6f36034eb09768c17a90fd23')"
   ]
  },
  {
   "cell_type": "markdown",
   "metadata": {},
   "source": [
    "We are now down to a level where we get a single drs id, though it is still an id for a logical level entity - the Run. \n",
    "\n",
    "*Strictly what the DRS ids identify is the particular binary content of the file set corresponding to that logical id on a particular date . Essentially it's a version. But unlike GitHub this doesn't have the characteristics of a versioning system. Those characteristics probably aren't needed - the need supported by DRS is \"give me the same set of bytes that I, or someone else, got for the same id previously\", and that basic need is fulfilled. QED. What it does not support is give me the fileset for this thing that existed on such and such a date. It would not keep the file in sync with the state of the related data at the same point in time. That is an additional requirement not discussed further here, other than to comment that iti could be addressed in a higher level model that deals with versioning as a real world (logical) construct.\n",
    "\n",
    "Returning to the DRS id for the Run. This is familiar from the previous two examples."
   ]
  },
  {
   "cell_type": "code",
   "execution_count": 15,
   "metadata": {},
   "outputs": [
    {
     "data": {
      "text/plain": [
       "{'checksums': [{'checksum': 'fd074040842ce8c2e114b4eed7accee0',\n",
       "   'type': 'md5'}],\n",
       " 'contents': [{'id': '37f0c2a65cc4b89d497d965332fa530b',\n",
       "   'name': 'HG00096.unmapped.ILLUMINA.bwa.GBR.exome.20120522.bam'},\n",
       "  {'id': '5d4ae7a46d470036d99429c363498965',\n",
       "   'name': 'HG00096.mapped.ILLUMINA.bwa.GBR.exome.20120522.bam'}],\n",
       " 'created_time': '2012-11-19T15:20:25Z',\n",
       " 'id': 'fd074040842ce8c2e114b4eed7accee0',\n",
       " 'name': 'SRR1596638',\n",
       " 'self_url': 'drs://locate.be-md.ncbi.nlm.nih.gov/fd074040842ce8c2e114b4eed7accee0',\n",
       " 'size': 9205789476}"
      ]
     },
     "execution_count": 15,
     "metadata": {},
     "output_type": "execute_result"
    }
   ],
   "source": [
    "drsClient.getObject('fd074040842ce8c2e114b4eed7accee0')"
   ]
  },
  {
   "cell_type": "markdown",
   "metadata": {},
   "source": [
    "Things would proceed as with the previous example from here.\n",
    "\n",
    "However one other observation raises a question.\n",
    "\n",
    "### Comparability of checksums for higher level objects\n",
    "Note that sizes and checksums are provided at the higher (logical) levels above the file (physical) level i.e. Run (SRR) Experiment (SRX) and Project (SRP).\n",
    "\n",
    "Is it clear whether the checksum for it's orginally intended purpose checking sums? How would I know what to run MD5 against to get a value to compare with the values reported in the responses (perhaps that explains what the LifeBit team encountered)."
   ]
  },
  {
   "cell_type": "markdown",
   "metadata": {},
   "source": [
    "### In conclusion\n",
    "One of the main conclusions here is to question the value of DRS ids for logical level constructs. The examples above illustrates the problem for the SRA use case, but is likely to have more general applicability. For example, bundling has been talked about for DICOM and pathology imaging.\n",
    "\n",
    "It is suggested that the higher, application level, questions should be dealt with using schemas and models specific to the domain being supported. That follows much existing practice amongst GA4GH participants. \n",
    "\n",
    "This does not exclude that the higher level schemas might be referenced by or even included within DRS bundles. However. \n",
    "\n",
    "Nor does this exclude the appropriate use of bulk operations within DRS and the pagination that would support that. These too should only address the fundamental level, and not be used to handle application/logical level concepts."
   ]
  },
  {
   "cell_type": "code",
   "execution_count": null,
   "metadata": {},
   "outputs": [],
   "source": []
  }
 ],
 "metadata": {
  "kernelspec": {
   "display_name": "Python 3 (ipykernel)",
   "language": "python",
   "name": "python3"
  },
  "language_info": {
   "codemirror_mode": {
    "name": "ipython",
    "version": 3
   },
   "file_extension": ".py",
   "mimetype": "text/x-python",
   "name": "python",
   "nbconvert_exporter": "python",
   "pygments_lexer": "ipython3",
   "version": "3.9.7"
  }
 },
 "nbformat": 4,
 "nbformat_minor": 4
}
