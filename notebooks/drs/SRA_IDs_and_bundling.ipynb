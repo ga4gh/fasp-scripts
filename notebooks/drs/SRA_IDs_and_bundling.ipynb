{
 "cells": [
  {
   "cell_type": "markdown",
   "metadata": {},
   "source": [
    "## Comparing approaches  SRA DRS and submit to Seven Bridges WES\n",
    "This notebook explores two approaches.\n",
    "Extracting a specific file of interest from a bundle\n",
    "Identifying the specific file of interest from the data\n",
    "\n",
    "\n",
    "\n",
    "For context, another notebook shows how the files identified via the approaches here can be submiited for compute via a  WES service. \n",
    "\n",
    "The data is the Thousand Genomes project. The following query using GA4GH Search shows how, in a single step, the DRS ids for mapped BAM files for whole exome sequencing for subjects from a particular population."
   ]
  },
  {
   "cell_type": "code",
   "execution_count": 3,
   "metadata": {},
   "outputs": [
    {
     "name": "stdout",
     "output_type": "stream",
     "text": [
      "_Retrieving the query_\n",
      "____Page1_______________\n",
      "____Page2_______________\n",
      "____Page3_______________\n",
      "____Page4_______________\n",
      "____Page5_______________\n",
      "____Page6_______________\n"
     ]
    },
    {
     "data": {
      "text/html": [
       "<div>\n",
       "<style scoped>\n",
       "    .dataframe tbody tr th:only-of-type {\n",
       "        vertical-align: middle;\n",
       "    }\n",
       "\n",
       "    .dataframe tbody tr th {\n",
       "        vertical-align: top;\n",
       "    }\n",
       "\n",
       "    .dataframe thead th {\n",
       "        text-align: right;\n",
       "    }\n",
       "</style>\n",
       "<table border=\"1\" class=\"dataframe\">\n",
       "  <thead>\n",
       "    <tr style=\"text-align: right;\">\n",
       "      <th></th>\n",
       "      <th>sample_name</th>\n",
       "      <th>bam_drs_id</th>\n",
       "      <th>acc</th>\n",
       "    </tr>\n",
       "  </thead>\n",
       "  <tbody>\n",
       "    <tr>\n",
       "      <th>0</th>\n",
       "      <td>NA18948</td>\n",
       "      <td>fb1cfb04d3ef99d07c21f9dbf87ccc68</td>\n",
       "      <td>SRR1601121</td>\n",
       "    </tr>\n",
       "    <tr>\n",
       "      <th>1</th>\n",
       "      <td>NA18945</td>\n",
       "      <td>9327fb44eb81b49a41e38c8d86eb3b3a</td>\n",
       "      <td>SRR1601115</td>\n",
       "    </tr>\n",
       "    <tr>\n",
       "      <th>2</th>\n",
       "      <td>NA18943</td>\n",
       "      <td>9f38253b281c7e9c99e4bdbececd8e2f</td>\n",
       "      <td>SRR1606910</td>\n",
       "    </tr>\n",
       "    <tr>\n",
       "      <th>3</th>\n",
       "      <td>NA18944</td>\n",
       "      <td>5aff9cee759c930666e94e65dbb0af94</td>\n",
       "      <td>SRR1601113</td>\n",
       "    </tr>\n",
       "    <tr>\n",
       "      <th>4</th>\n",
       "      <td>NA18940</td>\n",
       "      <td>333a651b55970c9402db51ebb5e55d09</td>\n",
       "      <td>SRR1607212</td>\n",
       "    </tr>\n",
       "    <tr>\n",
       "      <th>...</th>\n",
       "      <td>...</td>\n",
       "      <td>...</td>\n",
       "      <td>...</td>\n",
       "    </tr>\n",
       "    <tr>\n",
       "      <th>99</th>\n",
       "      <td>NA19074</td>\n",
       "      <td>0805baa0849485a2a63ea41429b9b37c</td>\n",
       "      <td>SRR1604135</td>\n",
       "    </tr>\n",
       "    <tr>\n",
       "      <th>100</th>\n",
       "      <td>NA19081</td>\n",
       "      <td>cb072733f15565af2790a90efe60b0e1</td>\n",
       "      <td>SRR1598082</td>\n",
       "    </tr>\n",
       "    <tr>\n",
       "      <th>101</th>\n",
       "      <td>NA19080</td>\n",
       "      <td>6f9f1fc52166530ed0568d61451b032f</td>\n",
       "      <td>SRR1598080</td>\n",
       "    </tr>\n",
       "    <tr>\n",
       "      <th>102</th>\n",
       "      <td>NA19087</td>\n",
       "      <td>b5f9609124241ade815fe49e2eb38c4f</td>\n",
       "      <td>SRR1603951</td>\n",
       "    </tr>\n",
       "    <tr>\n",
       "      <th>103</th>\n",
       "      <td>NA19077</td>\n",
       "      <td>59eb87314f05d99a4ef8cd250353d151</td>\n",
       "      <td>SRR1598075</td>\n",
       "    </tr>\n",
       "  </tbody>\n",
       "</table>\n",
       "<p>104 rows × 3 columns</p>\n",
       "</div>"
      ],
      "text/plain": [
       "    sample_name                        bam_drs_id         acc\n",
       "0       NA18948  fb1cfb04d3ef99d07c21f9dbf87ccc68  SRR1601121\n",
       "1       NA18945  9327fb44eb81b49a41e38c8d86eb3b3a  SRR1601115\n",
       "2       NA18943  9f38253b281c7e9c99e4bdbececd8e2f  SRR1606910\n",
       "3       NA18944  5aff9cee759c930666e94e65dbb0af94  SRR1601113\n",
       "4       NA18940  333a651b55970c9402db51ebb5e55d09  SRR1607212\n",
       "..          ...                               ...         ...\n",
       "99      NA19074  0805baa0849485a2a63ea41429b9b37c  SRR1604135\n",
       "100     NA19081  cb072733f15565af2790a90efe60b0e1  SRR1598082\n",
       "101     NA19080  6f9f1fc52166530ed0568d61451b032f  SRR1598080\n",
       "102     NA19087  b5f9609124241ade815fe49e2eb38c4f  SRR1603951\n",
       "103     NA19077  59eb87314f05d99a4ef8cd250353d151  SRR1598075\n",
       "\n",
       "[104 rows x 3 columns]"
      ]
     },
     "execution_count": 3,
     "metadata": {},
     "output_type": "execute_result"
    }
   ],
   "source": [
    "from fasp.search import DiscoverySearchClient\n",
    "\n",
    "# Step 1 - Discovery\n",
    "# query for relevant DRS objects\n",
    "searchClient = DiscoverySearchClient('https://ga4gh-search-adapter-presto-public.prod.dnastack.com/')\n",
    "\n",
    "query = '''SELECT f.sample_name, drs_id bam_drs_id, acc\n",
    "FROM thousand_genomes.onek_genomes.ssd_drs s \n",
    "join thousand_genomes.onek_genomes.sra_drs_files f on f.sample_name = s.su_submitter_id \n",
    "where filetype = 'bam' and mapped = 'mapped' \n",
    "and sequencing_type ='exome' and  population = 'JPT' '''\n",
    "\n",
    "resultRows = searchClient.runQuery(query, returnType='dataframe')\n",
    "resultRows"
   ]
  },
  {
   "cell_type": "code",
   "execution_count": 28,
   "metadata": {},
   "outputs": [
    {
     "name": "stdout",
     "output_type": "stream",
     "text": [
      "_Retrieving the query_\n",
      "____Page1_______________\n",
      "____Page2_______________\n",
      "____Page3_______________\n",
      "____Page4_______________\n",
      "____Page5_______________\n"
     ]
    },
    {
     "data": {
      "text/html": [
       "<div>\n",
       "<style scoped>\n",
       "    .dataframe tbody tr th:only-of-type {\n",
       "        vertical-align: middle;\n",
       "    }\n",
       "\n",
       "    .dataframe tbody tr th {\n",
       "        vertical-align: top;\n",
       "    }\n",
       "\n",
       "    .dataframe thead th {\n",
       "        text-align: right;\n",
       "    }\n",
       "</style>\n",
       "<table border=\"1\" class=\"dataframe\">\n",
       "  <thead>\n",
       "    <tr style=\"text-align: right;\">\n",
       "      <th></th>\n",
       "      <th>rowCount</th>\n",
       "    </tr>\n",
       "  </thead>\n",
       "  <tbody>\n",
       "    <tr>\n",
       "      <th>0</th>\n",
       "      <td>2504</td>\n",
       "    </tr>\n",
       "  </tbody>\n",
       "</table>\n",
       "</div>"
      ],
      "text/plain": [
       "   rowCount\n",
       "0      2504"
      ]
     },
     "execution_count": 28,
     "metadata": {},
     "output_type": "execute_result"
    }
   ],
   "source": [
    "searchClient.query2Frame(\"select count(*) rowCount from thousand_genomes.onek_genomes.ssd_drs\")"
   ]
  },
  {
   "cell_type": "code",
   "execution_count": 29,
   "metadata": {},
   "outputs": [
    {
     "name": "stdout",
     "output_type": "stream",
     "text": [
      "_Retrieving the query_\n",
      "____Page1_______________\n",
      "____Page2_______________\n",
      "____Page3_______________\n",
      "____Page4_______________\n",
      "____Page5_______________\n"
     ]
    },
    {
     "data": {
      "text/html": [
       "<div>\n",
       "<style scoped>\n",
       "    .dataframe tbody tr th:only-of-type {\n",
       "        vertical-align: middle;\n",
       "    }\n",
       "\n",
       "    .dataframe tbody tr th {\n",
       "        vertical-align: top;\n",
       "    }\n",
       "\n",
       "    .dataframe thead th {\n",
       "        text-align: right;\n",
       "    }\n",
       "</style>\n",
       "<table border=\"1\" class=\"dataframe\">\n",
       "  <thead>\n",
       "    <tr style=\"text-align: right;\">\n",
       "      <th></th>\n",
       "      <th>rowCount</th>\n",
       "    </tr>\n",
       "  </thead>\n",
       "  <tbody>\n",
       "    <tr>\n",
       "      <th>0</th>\n",
       "      <td>12313</td>\n",
       "    </tr>\n",
       "  </tbody>\n",
       "</table>\n",
       "</div>"
      ],
      "text/plain": [
       "   rowCount\n",
       "0     12313"
      ]
     },
     "execution_count": 29,
     "metadata": {},
     "output_type": "execute_result"
    }
   ],
   "source": [
    "searchClient.query2Frame(\"select count(*) rowCount from thousand_genomes.onek_genomes.sra_drs_files\")"
   ]
  },
  {
   "cell_type": "markdown",
   "metadata": {},
   "source": [
    "The following shows how the SRA DRS server can be used to determine where the files can be obtained from. The following shows this for the first DRS id from the query results. "
   ]
  },
  {
   "cell_type": "code",
   "execution_count": 9,
   "metadata": {},
   "outputs": [
    {
     "name": "stdout",
     "output_type": "stream",
     "text": [
      "fb1cfb04d3ef99d07c21f9dbf87ccc68\n"
     ]
    },
    {
     "data": {
      "text/plain": [
       "{'access_methods': [{'access_id': 'b5f46aadbcb48d7141104db0440feb63cd4e61c8',\n",
       "   'region': 's3.us-east-1',\n",
       "   'type': 'https'},\n",
       "  {'access_id': '1bc0bc010f0edf4ef18af594acdba5db864db67e',\n",
       "   'region': 'gs.US',\n",
       "   'type': 'https'},\n",
       "  {'access_id': '722d3466edf7ad5f6797f9774e21b368c45ad5b1', 'type': 'https'}],\n",
       " 'checksums': [{'checksum': 'fb1cfb04d3ef99d07c21f9dbf87ccc68',\n",
       "   'type': 'md5'}],\n",
       " 'created_time': '2013-02-25T23:24:10Z',\n",
       " 'id': 'fb1cfb04d3ef99d07c21f9dbf87ccc68',\n",
       " 'name': 'NA18948.mapped.ILLUMINA.bwa.JPT.exome.20121211.bam',\n",
       " 'self_url': 'drs://locate.md-be.ncbi.nlm.nih.gov/fb1cfb04d3ef99d07c21f9dbf87ccc68',\n",
       " 'size': 8752606127}"
      ]
     },
     "execution_count": 9,
     "metadata": {},
     "output_type": "execute_result"
    }
   ],
   "source": [
    "from fasp.loc import SRADRSClient\n",
    "\n",
    "# Set up a client to access NCBI's  DRS Server for the Sequence Read Archive (SRA)\n",
    "drsClient = SRADRSClient('https://locate.be-md.ncbi.nlm.nih.gov', public=True)\n",
    "# Get the DRS id from the query results above\n",
    "test_id = resultRows.iloc[0]['bam_drs_id']\n",
    "print(test_id)\n",
    "# Use the DRS GetObject function to \n",
    "objInfo = drsClient.getObject(test_id)\n",
    "objInfo"
   ]
  },
  {
   "cell_type": "markdown",
   "metadata": {},
   "source": [
    "A second DRS call can be used to obtain a url to access the file from one of the above locations."
   ]
  },
  {
   "cell_type": "code",
   "execution_count": 10,
   "metadata": {},
   "outputs": [
    {
     "name": "stdout",
     "output_type": "stream",
     "text": [
      "access_id:b5f46aadbcb48d7141104db0440feb63cd4e61c8\n",
      "url:https://1000genomes.s3.amazonaws.com/phase3/data/NA18948/exome_alignment/NA18948.mapped.ILLUMINA.bwa.JPT.exome.20121211.bam\n"
     ]
    }
   ],
   "source": [
    "access_id = objInfo['access_methods'][0]['access_id']\n",
    "print('access_id:{}'.format(access_id))\n",
    "url = drsClient.getAccessURL(test_id, access_id=access_id)\n",
    "print('url:{}'.format(url))"
   ]
  },
  {
   "cell_type": "markdown",
   "metadata": {},
   "source": [
    "The approach above is that which was used in the full FASP example that runs the compute. Refer to that notebook. \n",
    "\n",
    "Here we'll continue with the second approach to working with SRA ids.\n",
    "\n",
    "It addresses one aspect of bundling - namely when the bundle contains a collection of different files related to the provided DRS id."
   ]
  },
  {
   "cell_type": "markdown",
   "metadata": {},
   "source": [
    "Use the Seven Bridges CGC DRS service to retrieve the output file"
   ]
  },
  {
   "cell_type": "markdown",
   "metadata": {},
   "source": [
    "## The SRA IDX and DRS services\n",
    "Can we take an id from above and see what it looks like through IDX, and how that works through in DRS. We'll start with a run accession an SRR.\n",
    "\n",
    "The SRADRSClient has an additional function to access the IDX service with a SRA accession number "
   ]
  },
  {
   "cell_type": "code",
   "execution_count": 11,
   "metadata": {},
   "outputs": [
    {
     "name": "stdout",
     "output_type": "stream",
     "text": [
      "{\n",
      "   \"drs-base\": \"drs://locate.ncbi.nlm.nih.gov\",\n",
      "   \"response\": {\n",
      "      \"SRR1601121\": {\n",
      "         \"drs\": \"9466d7c1ec8fde019ce630c9bd88582e\",\n",
      "         \"status_code\": 200\n",
      "      }\n",
      "   }\n",
      "}\n",
      "9466d7c1ec8fde019ce630c9bd88582e\n"
     ]
    }
   ],
   "source": [
    "import json\n",
    "from fasp.loc import SRADRSClient\n",
    "drsClient = SRADRSClient('https://locate.be-md.ncbi.nlm.nih.gov', public=True)\n",
    "\n",
    "accession = 'SRR1601121'\n",
    "idx = drsClient.acc2drs(accession)\n",
    "print(json.dumps(idx, indent=3))\n",
    "drsId = idx['response'][accession]['drs']\n",
    "print (drsId)\n",
    "\n"
   ]
  },
  {
   "cell_type": "markdown",
   "metadata": {},
   "source": [
    "Now use the DRS service with that id.\n",
    "\n",
    "Note: the base URI returned in the result above suggests the DRS service could be accessed at the URL https://locate.ncbi.nlm.nih.gov . At present, for performance purposes the SRA DRS service should be accessed at https://locate.be-md.ncbi.nlm.nih.gov. See the example above"
   ]
  },
  {
   "cell_type": "code",
   "execution_count": 12,
   "metadata": {},
   "outputs": [
    {
     "data": {
      "text/plain": [
       "{'checksums': [{'checksum': '9466d7c1ec8fde019ce630c9bd88582e',\n",
       "   'type': 'md5'}],\n",
       " 'contents': [{'id': '519de9933298caa8bdf551351426d120',\n",
       "   'name': 'NA18948.unmapped.ILLUMINA.bwa.JPT.exome.20121211.bam'},\n",
       "  {'id': 'a027e7c2a917cba582a9684244ad339d',\n",
       "   'name': 'NA18948.mapped.ILLUMINA.bwa.JPT.exome.20121211.bam.bai'},\n",
       "  {'id': 'fb1cfb04d3ef99d07c21f9dbf87ccc68',\n",
       "   'name': 'NA18948.mapped.ILLUMINA.bwa.JPT.exome.20121211.bam'}],\n",
       " 'created_time': '2013-02-25T23:24:10Z',\n",
       " 'id': '9466d7c1ec8fde019ce630c9bd88582e',\n",
       " 'name': 'SRR1601121',\n",
       " 'self_url': 'drs://locate.md-be.ncbi.nlm.nih.gov/9466d7c1ec8fde019ce630c9bd88582e',\n",
       " 'size': 8763581919}"
      ]
     },
     "execution_count": 12,
     "metadata": {},
     "output_type": "execute_result"
    }
   ],
   "source": [
    "drsClient.getObject(drsId)"
   ]
  },
  {
   "cell_type": "markdown",
   "metadata": {},
   "source": [
    "Work with the mapped bam file"
   ]
  },
  {
   "cell_type": "code",
   "execution_count": 13,
   "metadata": {},
   "outputs": [
    {
     "data": {
      "text/plain": [
       "{'access_methods': [{'access_id': 'b5f46aadbcb48d7141104db0440feb63cd4e61c8',\n",
       "   'region': 's3.us-east-1',\n",
       "   'type': 'https'},\n",
       "  {'access_id': '1bc0bc010f0edf4ef18af594acdba5db864db67e',\n",
       "   'region': 'gs.US',\n",
       "   'type': 'https'},\n",
       "  {'access_id': '722d3466edf7ad5f6797f9774e21b368c45ad5b1', 'type': 'https'}],\n",
       " 'checksums': [{'checksum': 'fb1cfb04d3ef99d07c21f9dbf87ccc68',\n",
       "   'type': 'md5'}],\n",
       " 'created_time': '2013-02-25T23:24:10Z',\n",
       " 'id': 'fb1cfb04d3ef99d07c21f9dbf87ccc68',\n",
       " 'name': 'NA18948.mapped.ILLUMINA.bwa.JPT.exome.20121211.bam',\n",
       " 'self_url': 'drs://locate.md-be.ncbi.nlm.nih.gov/fb1cfb04d3ef99d07c21f9dbf87ccc68',\n",
       " 'size': 8752606127}"
      ]
     },
     "execution_count": 13,
     "metadata": {},
     "output_type": "execute_result"
    }
   ],
   "source": [
    "drsClient.getObject('fb1cfb04d3ef99d07c21f9dbf87ccc68')"
   ]
  },
  {
   "cell_type": "markdown",
   "metadata": {},
   "source": [
    "## Bundling at a higher level. An SRP accession\n",
    "\n",
    "SRA's data model has a number of levels above the Run. In descending order they are.\n",
    "* SRP - Project, a project in which sequencing has been done\n",
    "* SRS - Sample, a physical sample from the project. What it represents depnds on scientific investigation in the Project.\n",
    "* SRX - Experiment, the application of a particular sequencing technology to some sample\n",
    "* SRR - Run, the run on a sequencer of material from the Experiment\n",
    "\n",
    "In the following example, the IDentity eXchange service is called to get the DRS id which corresponds to the project. A feature in iPython is used to time how long the response takes.\n",
    "\n",
    "Please be patient for this step to complete, it can take 45-90 seconds."
   ]
  },
  {
   "cell_type": "code",
   "execution_count": 14,
   "metadata": {},
   "outputs": [
    {
     "name": "stdout",
     "output_type": "stream",
     "text": [
      "https://locate.be-md.ncbi.nlm.nih.gov/idx/v1/SRP048601\n",
      "<Response [200]>\n",
      "5d8b77dd974e1b7c9de4040cbf9a24c7\n",
      "CPU times: user 16.6 ms, sys: 4.08 ms, total: 20.7 ms\n",
      "Wall time: 1min 13s\n"
     ]
    }
   ],
   "source": [
    "%%time\n",
    "srp = 'SRP048601'\n",
    "res = drsClient.acc2drs(srp, verbose=True)\n",
    "\n",
    "#SRS000157\n",
    "drsId = res['response'][srp]['drs']\n",
    "print(drsId)"
   ]
  },
  {
   "cell_type": "markdown",
   "metadata": {},
   "source": [
    "The DRS id for the project can now be sent to the DRS server. \n",
    "\n",
    "The response will consists of a bundle of DRS ids for experiments within the project.\n",
    "\n",
    "Note the response time, though it needs to return a list of 5070 ids it does so in less than a second."
   ]
  },
  {
   "cell_type": "code",
   "execution_count": 15,
   "metadata": {},
   "outputs": [
    {
     "name": "stdout",
     "output_type": "stream",
     "text": [
      "5070\n",
      "CPU times: user 18.2 ms, sys: 4.02 ms, total: 22.3 ms\n",
      "Wall time: 473 ms\n"
     ]
    }
   ],
   "source": [
    "%%time\n",
    "drsRes = drsClient.getObject(drsId)\n",
    "print(len(drsRes['contents']))"
   ]
  },
  {
   "cell_type": "markdown",
   "metadata": {},
   "source": [
    "The full bundle is not printed here. The following is a truncated example.\n",
    "\n",
    "```json\n",
    "{'checksums': [{'checksum': '5d8b77dd974e1b7c9de4040cbf9a24c7',\n",
    "   'type': 'md5'}],\n",
    " 'contents': [{'id': 'f2b7f3f7c123a38eb904c5412ce48757', 'name': 'SRX719457'},\n",
    "  {'id': '16139c5b6f36034eb09768c17a90fd23', 'name': 'SRX719843'},\n",
    "  {'id': '8fa664d99d3cc9fb701d15e026e14950', 'name': 'SRX719844'},\n",
    "  {'id': 'a4165df1fcea2234c42128bcb1d26cc0', 'name': 'SRX719845'},\n",
    "  {'id': '287a5d73a2ba5abf10d6bbcdb0b4ed42', 'name': 'SRX719846'},\n",
    "  {'id': '4b995cc57ff3d4ebeac9684f2b9f7f7f', 'name': 'SRX719847'},\n",
    "  {'id': 'b488ab01ce3fa83addea057153ec449c', 'name': 'SRX719848'},\n",
    "  {'id': 'b3dd0d947f7e901bedf9f5789565ed07', 'name': 'SRX719849'},\n",
    "  {'id': 'a3bfebcf770157458454986092aeda62', 'name': 'SRX719850'},\n",
    "  {'id': '8165dc2b262ba94fdfd9a14bc7919fd4', 'name': 'SRX719851'},\n",
    " \n",
    "  ...],\n",
    " 'created_time': '2012-11-15T14:00:55Z',\n",
    " 'id': '5d8b77dd974e1b7c9de4040cbf9a24c7',\n",
    " 'name': 'SRP048601',\n",
    " 'self_url': 'drs://locate.md-be.ncbi.nlm.nih.gov/5d8b77dd974e1b7c9de4040cbf9a24c7',\n",
    " 'size': 87447929899239}\n",
    "```"
   ]
  },
  {
   "cell_type": "markdown",
   "metadata": {},
   "source": []
  },
  {
   "cell_type": "markdown",
   "metadata": {},
   "source": [
    "The objects returned are still not physical files (i.e. a set of bytes) but an id for another logical concept. The 'experiment'.\n",
    "\n",
    "Calling DRS with the DRS id for the experimen."
   ]
  },
  {
   "cell_type": "code",
   "execution_count": 31,
   "metadata": {},
   "outputs": [
    {
     "data": {
      "text/plain": [
       "{'checksums': [{'checksum': '16139c5b6f36034eb09768c17a90fd23',\n",
       "   'type': 'md5'}],\n",
       " 'contents': [{'id': 'fd074040842ce8c2e114b4eed7accee0',\n",
       "   'name': 'SRR1596638'}],\n",
       " 'created_time': '2012-11-19T15:20:25Z',\n",
       " 'id': '16139c5b6f36034eb09768c17a90fd23',\n",
       " 'name': 'SRX719843',\n",
       " 'self_url': 'drs://locate.md-be.ncbi.nlm.nih.gov/16139c5b6f36034eb09768c17a90fd23',\n",
       " 'size': 9205789476}"
      ]
     },
     "execution_count": 31,
     "metadata": {},
     "output_type": "execute_result"
    }
   ],
   "source": [
    "drsClient.getObject('16139c5b6f36034eb09768c17a90fd23')"
   ]
  },
  {
   "cell_type": "markdown",
   "metadata": {},
   "source": [
    "We are now down to a level where we get a single drs id, though it is still an id for a logical level construct.\n",
    "\n",
    "*Strictly what the ids identify is the particular binary content of the file set corresponding to that logical id on a particular date . Essentially it's a version. But unlike GitHub this doesn't have the characteristics of a versioning system, but that probably isn't needed - the need is to say give me the same set of bytes that I, or someone else, got for the same id previously, and that need is fulfilled. What it does not support is give me the fileset for this thing that existed on such and such a date. It would not keep the file in sync with the state of the related data at the saem point in time."
   ]
  },
  {
   "cell_type": "code",
   "execution_count": 32,
   "metadata": {},
   "outputs": [
    {
     "data": {
      "text/plain": [
       "{'checksums': [{'checksum': 'fd074040842ce8c2e114b4eed7accee0',\n",
       "   'type': 'md5'}],\n",
       " 'contents': [{'id': '37f0c2a65cc4b89d497d965332fa530b',\n",
       "   'name': 'HG00096.unmapped.ILLUMINA.bwa.GBR.exome.20120522.bam'},\n",
       "  {'id': '5d4ae7a46d470036d99429c363498965',\n",
       "   'name': 'HG00096.mapped.ILLUMINA.bwa.GBR.exome.20120522.bam'}],\n",
       " 'created_time': '2012-11-19T15:20:25Z',\n",
       " 'id': 'fd074040842ce8c2e114b4eed7accee0',\n",
       " 'name': 'SRR1596638',\n",
       " 'self_url': 'drs://locate.md-be.ncbi.nlm.nih.gov/fd074040842ce8c2e114b4eed7accee0',\n",
       " 'size': 9205789476}"
      ]
     },
     "execution_count": 32,
     "metadata": {},
     "output_type": "execute_result"
    }
   ],
   "source": [
    "drsClient.getObject('fd074040842ce8c2e114b4eed7accee0')"
   ]
  },
  {
   "cell_type": "markdown",
   "metadata": {},
   "source": [
    "Note that sizes and checksums are provided at the higher levels.\n",
    "\n",
    "Is it clear whether I could use the checksum for it's orginally intended purpose? How would I know what to run MD5 against to get a value to compare with the (perhaps that explains what the LifeBit team encountered)."
   ]
  },
  {
   "cell_type": "code",
   "execution_count": 35,
   "metadata": {},
   "outputs": [
    {
     "data": {
      "text/plain": [
       "{'access_methods': [{'access_id': '32d4fc6b0f98ffe8711871d4c58b30359987ef47',\n",
       "   'region': 's3.us-east-1',\n",
       "   'type': 'https'},\n",
       "  {'access_id': '7fb9cd8b87cb926ead5f1f4ddb3a2b13b19ecd02',\n",
       "   'region': 'gs.US',\n",
       "   'type': 'https'},\n",
       "  {'access_id': 'ebb5fafbf402dd6b4e55557d2c6e1e494a682826', 'type': 'https'}],\n",
       " 'checksums': [{'checksum': '37f0c2a65cc4b89d497d965332fa530b',\n",
       "   'type': 'md5'}],\n",
       " 'created_time': '2012-11-19T15:20:25Z',\n",
       " 'id': '37f0c2a65cc4b89d497d965332fa530b',\n",
       " 'name': 'HG00096.unmapped.ILLUMINA.bwa.GBR.exome.20120522.bam',\n",
       " 'self_url': 'drs://locate.md-be.ncbi.nlm.nih.gov/37f0c2a65cc4b89d497d965332fa530b',\n",
       " 'size': 8838568}"
      ]
     },
     "execution_count": 35,
     "metadata": {},
     "output_type": "execute_result"
    }
   ],
   "source": [
    "runDRS = drsClient.getObject('37f0c2a65cc4b89d497d965332fa530b')\n",
    "runDRS"
   ]
  },
  {
   "cell_type": "code",
   "execution_count": 39,
   "metadata": {},
   "outputs": [
    {
     "name": "stdout",
     "output_type": "stream",
     "text": [
      "https://1000genomes.s3.amazonaws.com/phase3/data/HG00096/exome_alignment/HG00096.unmapped.ILLUMINA.bwa.GBR.exome.20120522.bam\n",
      "\n",
      "https://storage.googleapis.com/genomics-public-data/ftp-trace.ncbi.nih.gov/1000genomes/ftp/phase3/data/HG00096/exome_alignment/HG00096.unmapped.ILLUMINA.bwa.GBR.exome.20120522.bam\n",
      "\n",
      "https://ftp-trace.ncbi.nih.gov/1000genomes/ftp/phase3/data/HG00096/exome_alignment/HG00096.unmapped.ILLUMINA.bwa.GBR.exome.20120522.bam\n",
      "\n"
     ]
    }
   ],
   "source": [
    "for am in runDRS['access_methods']:\n",
    "    url = drsClient.getAccessURL('37f0c2a65cc4b89d497d965332fa530b',am['access_id'])\n",
    "    print('{}\\n'.format(url))"
   ]
  },
  {
   "cell_type": "markdown",
   "metadata": {},
   "source": [
    "One of the main conclusions here is to question the value of DRS ids for logical level constructs. This illustrates the problem for the SRA use case, but is likely to have more general applicability. For example, bundling has been talked about "
   ]
  },
  {
   "cell_type": "code",
   "execution_count": null,
   "metadata": {},
   "outputs": [],
   "source": []
  }
 ],
 "metadata": {
  "kernelspec": {
   "display_name": "Python 3",
   "language": "python",
   "name": "python3"
  },
  "language_info": {
   "codemirror_mode": {
    "name": "ipython",
    "version": 3
   },
   "file_extension": ".py",
   "mimetype": "text/x-python",
   "name": "python",
   "nbconvert_exporter": "python",
   "pygments_lexer": "ipython3",
   "version": "3.7.3"
  }
 },
 "nbformat": 4,
 "nbformat_minor": 4
}
