{
 "cells": [
  {
   "cell_type": "markdown",
   "id": "baece41d",
   "metadata": {},
   "source": [
    "### Explore use of the Seven Bridges API to retrieve log files\n",
    "\n",
    "This notebook is an accompaniment to the notebooks exploring different strategies for retrieving files for a workflow run on the Seven Bridges platforms.\n",
    "\n",
    "Those explorations relied on downloading the sbg.worker.log files for each task.\n",
    "\n",
    "It was not possible to access those files via the GA4GH WES API on Seven Bridges.\n",
    "\n",
    "This notebook explores using the Seeven Bridges API to access these logs.\n",
    "\n",
    "Once accessed, these logs would need to be parsed as in the previous notebooks."
   ]
  },
  {
   "cell_type": "code",
   "execution_count": 1,
   "id": "e3310f56-e103-4993-b751-a3625a100bc0",
   "metadata": {},
   "outputs": [],
   "source": [
    "import sevenbridges as sbg"
   ]
  },
  {
   "cell_type": "markdown",
   "id": "c882b364-ec2d-4405-bcf6-a60532427bf7",
   "metadata": {},
   "source": [
    "### Use standard approach to configuring API\n",
    "See Seven Bridges documentation"
   ]
  },
  {
   "cell_type": "code",
   "execution_count": 2,
   "id": "cf59fb13-0795-431d-bc02-2f1596c9e3b5",
   "metadata": {},
   "outputs": [
    {
     "data": {
      "text/plain": [
       "<User: username=forei>"
      ]
     },
     "execution_count": 2,
     "metadata": {},
     "output_type": "execute_result"
    }
   ],
   "source": [
    "config_file = sbg.Config(profile='cavatica')\n",
    "api = sbg.Api(config=config_file)\n",
    "api.users.me()"
   ]
  },
  {
   "cell_type": "markdown",
   "id": "844c331f-3649-4732-a81b-513a52972692",
   "metadata": {},
   "source": [
    "#### Work with an example task from the strategy comparisons\n",
    "Task id is fd13ae7a-05c9-4590-b479-e02e564b4f93"
   ]
  },
  {
   "cell_type": "code",
   "execution_count": 3,
   "id": "53c433f8-7136-4bfc-a48d-3cf2538d0801",
   "metadata": {},
   "outputs": [],
   "source": [
    "task = api.tasks.get(id='fd13ae7a-05c9-4590-b479-e02e564b4f93')"
   ]
  },
  {
   "cell_type": "code",
   "execution_count": 4,
   "id": "0f25215f-38d7-402a-af26-04d2fe3f68f8",
   "metadata": {},
   "outputs": [
    {
     "data": {
      "text/plain": [
       "<Task: id=fd13ae7a-05c9-4590-b479-e02e564b4f93>"
      ]
     },
     "execution_count": 4,
     "metadata": {},
     "output_type": "execute_result"
    }
   ],
   "source": [
    "task"
   ]
  },
  {
   "cell_type": "markdown",
   "id": "82e4a294-84c3-49ae-9d70-28dca00147f3",
   "metadata": {},
   "source": [
    "### Explore some of the task's properties"
   ]
  },
  {
   "cell_type": "code",
   "execution_count": 5,
   "id": "e434d44a-8cdf-4049-b2fb-76fa80cf3a75",
   "metadata": {},
   "outputs": [
    {
     "data": {
      "text/plain": [
       "'COMPLETED'"
      ]
     },
     "execution_count": 5,
     "metadata": {},
     "output_type": "execute_result"
    }
   ],
   "source": [
    "task.status"
   ]
  },
  {
   "cell_type": "markdown",
   "id": "98571b40-80cd-4ea1-8278-ac36c0afc720",
   "metadata": {},
   "source": [
    "#### Knowing was app was run is useful for our comparions"
   ]
  },
  {
   "cell_type": "code",
   "execution_count": 6,
   "id": "d784ffeb-6b22-4706-b5e3-011a71048212",
   "metadata": {},
   "outputs": [
    {
     "data": {
      "text/plain": [
       "'forei/drs-gcp/samtools-view-file/0'"
      ]
     },
     "execution_count": 6,
     "metadata": {},
     "output_type": "execute_result"
    }
   ],
   "source": [
    "task.app"
   ]
  },
  {
   "cell_type": "code",
   "execution_count": 7,
   "id": "38ffc12d-21a0-4774-b016-9cbf848f8c29",
   "metadata": {},
   "outputs": [
    {
     "data": {
      "text/plain": [
       "'One k- SAMtools View - from GCP cold'"
      ]
     },
     "execution_count": 7,
     "metadata": {},
     "output_type": "execute_result"
    }
   ],
   "source": [
    "task.name"
   ]
  },
  {
   "cell_type": "markdown",
   "id": "05674fff-be73-4b59-b711-72ad6000e33d",
   "metadata": {},
   "source": [
    "### It seems the log file details are in the execution details"
   ]
  },
  {
   "cell_type": "code",
   "execution_count": 8,
   "id": "dfd7f9fa-46bd-4e6d-b16a-c06f174e15f5",
   "metadata": {},
   "outputs": [],
   "source": [
    "ex = task.get_execution_details()"
   ]
  },
  {
   "cell_type": "code",
   "execution_count": 9,
   "id": "0a4dd389-0696-464d-a6c6-ba1fc7e20302",
   "metadata": {},
   "outputs": [
    {
     "data": {
      "text/plain": [
       "[<Job: name=samtools-view-file, status=COMPLETED>]"
      ]
     },
     "execution_count": 9,
     "metadata": {},
     "output_type": "execute_result"
    }
   ],
   "source": [
    "ex.jobs"
   ]
  },
  {
   "cell_type": "markdown",
   "id": "9cda6036-01d9-40f3-afe7-f78d9b1a28cd",
   "metadata": {},
   "source": [
    "### Get the first job in the task\n",
    "It's the only one in this case. And show the logs"
   ]
  },
  {
   "cell_type": "code",
   "execution_count": 16,
   "id": "70fc28fd-eddb-432d-a247-7b821f78e5bb",
   "metadata": {},
   "outputs": [
    {
     "data": {
      "text/plain": [
       "{'cwl_output_json': <File: id=673ccb120aa8f306d82600a4>, 'cwl.output.json': <File: id=673ccb120aa8f306d82600a4>, 'job.err.log': <File: id=673ccb120aa8f306d82600a2>, 'sbg.worker.log': <File: id=673ccb150aa8f306d82600ae>, 'job.tree.log': <File: id=673ccb140aa8f306d82600aa>, 'stderr': <File: id=673ccb120aa8f306d82600a2>, 'job_json': <File: id=673ccb120aa8f306d82600a8>}"
      ]
     },
     "execution_count": 16,
     "metadata": {},
     "output_type": "execute_result"
    }
   ],
   "source": [
    "j0 = ex.jobs[0]\n",
    "logs = j0.logs\n",
    "logs = "
   ]
  },
  {
   "cell_type": "code",
   "execution_count": 17,
   "id": "ac263d6e-252d-41ec-a95a-800d0115777a",
   "metadata": {},
   "outputs": [
    {
     "data": {
      "text/plain": [
       "<File: id=673ccb150aa8f306d82600ae>"
      ]
     },
     "execution_count": 17,
     "metadata": {},
     "output_type": "execute_result"
    }
   ],
   "source": [
    "logs['sbg.worker.log']"
   ]
  },
  {
   "cell_type": "markdown",
   "id": "0598df34-9aa2-4635-8f6b-f781f3a2a398",
   "metadata": {},
   "source": [
    "### Get the specific log file\n",
    "We are interested in the sbg.worker.log. It contains the log of download and execution."
   ]
  },
  {
   "cell_type": "code",
   "execution_count": 18,
   "id": "526beb2c-8d91-4108-a34f-9c7d18ce16fc",
   "metadata": {},
   "outputs": [],
   "source": [
    "worker_log_file = logs['sbg.worker.log']"
   ]
  },
  {
   "cell_type": "code",
   "execution_count": 22,
   "id": "b41da284-79b9-4f29-a095-875865fa4532",
   "metadata": {},
   "outputs": [
    {
     "data": {
      "text/plain": [
       "<File: id=673ccb150aa8f306d82600ae>"
      ]
     },
     "execution_count": 22,
     "metadata": {},
     "output_type": "execute_result"
    }
   ],
   "source": [
    "worker_log_file"
   ]
  },
  {
   "cell_type": "markdown",
   "id": "de2cc360-3544-491f-8ead-04d93f7e7db8",
   "metadata": {},
   "source": [
    "### The file could be downloaded for parsing"
   ]
  },
  {
   "cell_type": "code",
   "execution_count": null,
   "id": "98b9a84d-5eae-4fa5-af43-b9303f74ec32",
   "metadata": {},
   "outputs": [],
   "source": [
    "worker_log_file.download('temp_worker.log')"
   ]
  },
  {
   "cell_type": "markdown",
   "id": "15b63d6b-1050-4a7f-b502-301ccef7201c",
   "metadata": {},
   "source": [
    "### Or the content accessed directly via the API"
   ]
  },
  {
   "cell_type": "code",
   "execution_count": null,
   "id": "2af78bbe-4725-4fe5-9744-5a1abcc25474",
   "metadata": {},
   "outputs": [],
   "source": [
    "worker_log_file.content()"
   ]
  }
 ],
 "metadata": {
  "kernelspec": {
   "display_name": "Python 3 (ipykernel)",
   "language": "python",
   "name": "python3"
  },
  "language_info": {
   "codemirror_mode": {
    "name": "ipython",
    "version": 3
   },
   "file_extension": ".py",
   "mimetype": "text/x-python",
   "name": "python",
   "nbconvert_exporter": "python",
   "pygments_lexer": "ipython3",
   "version": "3.9.20"
  }
 },
 "nbformat": 4,
 "nbformat_minor": 5
}
