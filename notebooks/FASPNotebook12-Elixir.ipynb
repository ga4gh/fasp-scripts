{
 "cells": [
  {
   "cell_type": "code",
   "execution_count": 9,
   "metadata": {},
   "outputs": [
    {
     "name": "stdout",
     "output_type": "stream",
     "text": [
      "Running <ipython-input-9-132c77837b4d>\n",
      "_Retrieving the query_\n",
      "____Page1_______________\n",
      "____Page2_______________\n",
      "____Page3_______________\n",
      "____Page4_______________\n",
      "____Page5_______________\n",
      "____Page6_______________\n"
     ]
    }
   ],
   "source": [
    "import os, datetime\n",
    "from fasp.search import DiscoverySearchClient\n",
    "from fasp.loc import EGAFileClient\n",
    "from fasp.runner import FASPRunner\n",
    "\n",
    "#from fasp.workflow import DNAStackWESClient\n",
    "#from fasp.workflow import GCPLSsamtools\n",
    "\n",
    "faspRunner = FASPRunner(pauseSecs=0)\n",
    "creditor = faspRunner.creditor\n",
    "settings = faspRunner.settings\n",
    "\n",
    "# Step 1 - Discovery\n",
    "# query for relevant files\n",
    "searchClient = DiscoverySearchClient('https://ga4gh-search-adapter-presto-public.prod.dnastack.com/')\n",
    "query = '''SELECT sample_submitter_id, fileid, filename \n",
    "FROM dbgap_demo.scr_ega.scr_egapancreatic_sample_multi p join dbgap_demo.scr_ega.scr_egapancreatic_files f on f.sample_primary_id = p.sample_primary_id \n",
    "where phenotype = 'pancreatic adenocarcinoma' limit 3'''\n",
    "query_job = searchClient.runQuery(query)\n",
    "\n",
    "# Step 2 - Use htsget at EGA\n",
    "fileClient = EGAFileClient('~/.keys/ega.credentials')\n",
    "\n",
    "# Step 3 - set up a class that run a compute for us\n",
    "location = 'projects/{}/locations/{}'.format(settings['GCPProject'], settings['GCPPipelineRegion'])\n",
    "#wesClient = GCPLSsamtools(location, settings['GCPOutputBucket'])"
   ]
  },
  {
   "cell_type": "markdown",
   "metadata": {},
   "source": [
    "The EGA dataset used above does not contains index files so the htsget call cannot be used. These lines are commented out.\n",
    "\n",
    "The example does show a simulated DRS response generated using the pyega3 module"
   ]
  },
  {
   "cell_type": "code",
   "execution_count": 11,
   "metadata": {},
   "outputs": [
    {
     "name": "stdout",
     "output_type": "stream",
     "text": [
      "sample=Pam02_LiM7, EGAFileID=EGAF00001554155\n",
      "{'access_methods': [{'access_id': 'ega', 'region': '', 'type': 'pyega3'}], 'checksums': [{'checksum': '9ce6eee848cfff52b73ae341bdadc1c5', 'type': 'md5'}], 'created_time': '2020-02-26T18:01:43.252269', 'id': 'EGAF00001554155', 'mime_type': 'application/json', 'description': 'EGAR00001523154/PAM02/SS6004350.bam.cip', 'name': 'SS6004350.bam', 'self_uri': 'drs://egasim/EGAF00001554155', 'size': 199417133437, 'updated_time': '2020-02-26T18:01:43.252275'}\n",
      "File size:199417133437\n",
      "________________________________________________________________________________\n",
      "sample=Pam02_LiM8, EGAFileID=EGAF00001554156\n",
      "{'access_methods': [{'access_id': 'ega', 'region': '', 'type': 'pyega3'}], 'checksums': [{'checksum': '72f414535f5f4c2fdcd1d34cb55bb9ef', 'type': 'md5'}], 'created_time': '2020-02-26T18:01:43.252269', 'id': 'EGAF00001554156', 'mime_type': 'application/json', 'description': 'EGAR00001523155/PAM02/SS6004351.bam.cip', 'name': 'SS6004351.bam', 'self_uri': 'drs://egasim/EGAF00001554156', 'size': 208185386630, 'updated_time': '2020-02-26T18:01:43.252275'}\n",
      "File size:208185386630\n",
      "________________________________________________________________________________\n",
      "sample=Pam02_PT11, EGAFileID=EGAF00001554157\n",
      "{'access_methods': [{'access_id': 'ega', 'region': '', 'type': 'pyega3'}], 'checksums': [{'checksum': '0e2e241e33e53094ea2ec082d409726f', 'type': 'md5'}], 'created_time': '2020-02-26T18:01:43.252269', 'id': 'EGAF00001554157', 'mime_type': 'application/json', 'description': 'EGAR00001523156/PAM02/SS6004352.bam.cip', 'name': 'SS6004352.bam', 'self_uri': 'drs://egasim/EGAF00001554157', 'size': 194294030053, 'updated_time': '2020-02-26T18:01:43.252275'}\n",
      "File size:194294030053\n",
      "________________________________________________________________________________\n"
     ]
    }
   ],
   "source": [
    "# repeat steps 2 and 3 for each row of the query\n",
    "for row in query_job:\n",
    "\n",
    "    print(\"sample={}, EGAFileID={}\".format(row[0], row[1]))\n",
    "\n",
    "    # Step 2 - Get a simulated DRS response\n",
    "    drsResponse = fileClient.getObject(row[1])\n",
    "    fileSize = drsResponse['size']\n",
    "    print(drsResponse)\n",
    "\n",
    "    print(\"File size:{}\".format(fileSize))\n",
    "    localfile = row[2]\n",
    "    #htsgetClient.htsget(row[1], 'chr1', 100000, 102000, 'BAM', localfile)\n",
    "\n",
    "    # Step 3 - Run a pipeline on the file \n",
    "    outfile = \"{}.txt\".format(row[0])\n",
    "    #pipeline_id = wesClient.runWorkflow(localfile, outfile)\n",
    "    #print('submitted:{}'.format(pipeline_id))\n",
    "\n",
    "    via = 'lsapi'\n",
    "    note = 'samtools on htsget BAM'\n",
    "\n",
    "    time = datetime.datetime.now().strftime(\"%m/%d/%Y, %H:%M:%S\")\n",
    "    #faspRunner.logRun(time, via, note,  pipeline_id, outfile, str(fileSize),\n",
    "    #    searchClient, htsgetClient, wesClient)\n",
    "    print('_'*80)\n",
    "\n"
   ]
  },
  {
   "cell_type": "code",
   "execution_count": null,
   "metadata": {},
   "outputs": [],
   "source": []
  }
 ],
 "metadata": {
  "kernelspec": {
   "display_name": "Python 3",
   "language": "python",
   "name": "python3"
  }
 },
 "nbformat": 4,
 "nbformat_minor": 4
}
