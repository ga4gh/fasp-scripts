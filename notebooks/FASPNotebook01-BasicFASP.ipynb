{
 "cells": [
  {
   "cell_type": "markdown",
   "metadata": {},
   "source": [
    "<img src=\"../fasp/runner/credits/images/FASPNotebook04.png\" style=\"float: right;\">\n",
    "\n",
    "## Thousand Genomes Example - Submit to DNAStack WES\n",
    "\n",
    "This basic example shows the three steps that FASPRunner carries out."
   ]
  },
  {
   "cell_type": "code",
   "execution_count": 1,
   "metadata": {},
   "outputs": [
    {
     "name": "stdout",
     "output_type": "stream",
     "text": [
      "Running FASPNotebook01-BasicFASP.ipynb\n",
      "Running query\n",
      "select submitter_id, read_drs_id drsid \n",
      "from thousand_genomes.onek_genomes.ssd_drs\n",
      "where population = 'ACB' limit 3\n",
      "_Retrieving the query_\n",
      "____Page1_______________\n",
      "____Page2_______________\n",
      "____Page3_______________\n",
      "____Page4_______________\n",
      "____Page5_______________\n",
      "subject=HG01988_demo, drsID=dg.4503/7c7232a4-21d3-4d25-9846-bc0fe0547cee\n",
      "workflow submitted, run:3f77917e-ad4f-46ed-a82d-603e94854ec9\n",
      "____________________________________________________________\n",
      "subject=HG01986_demo, drsID=dg.4503/0e552602-5cec-477e-baa8-f1b1ed6a5bcb\n",
      "workflow submitted, run:fcba6e95-5519-4d78-8c9e-da266b40e783\n",
      "____________________________________________________________\n",
      "subject=HG02317_demo, drsID=dg.4503/732731e4-4ef4-4874-82bd-d6a038ddc81f\n",
      "workflow submitted, run:72405d22-e65e-4149-a2f6-dc7cde841c9f\n",
      "____________________________________________________________\n"
     ]
    },
    {
     "data": {
      "text/plain": [
       "[{'subject': 'HG01988_demo', 'run_id': '3f77917e-ad4f-46ed-a82d-603e94854ec9'},\n",
       " {'subject': 'HG01986_demo', 'run_id': 'fcba6e95-5519-4d78-8c9e-da266b40e783'},\n",
       " {'subject': 'HG02317_demo', 'run_id': '72405d22-e65e-4149-a2f6-dc7cde841c9f'}]"
      ]
     },
     "execution_count": 1,
     "metadata": {},
     "output_type": "execute_result"
    }
   ],
   "source": [
    "from fasp.runner import FASPRunner\n",
    "\n",
    "# The implementations we're using\n",
    "from fasp.loc import bdcDRSClient\n",
    "from fasp.search import DataConnectClient\n",
    "from fasp.workflow import DNAStackWESClient\n",
    "\n",
    "\n",
    "faspRunner = FASPRunner()\n",
    "\n",
    "# Step 1 - Discovery\n",
    "# query for relevant DRS objects\n",
    "searchClient = DataConnectClient('https://ga4gh-search-adapter-presto-public.prod.dnastack.com/')\n",
    "query = '''select submitter_id, read_drs_id drsid \n",
    "from thousand_genomes.onek_genomes.ssd_drs\n",
    "where population = 'ACB' limit 3'''\n",
    "\n",
    "# Step 2 - DRS - set up a DRS Client\n",
    "drsClient = bdcDRSClient('~/.keys/bdc_credentials.json', 'gs')\n",
    "\n",
    "# Step 3 - set up a class that run a compute for us\n",
    "wesClient = DNAStackWESClient('~/.keys/dnastack_wes_credentials.json')\n",
    "\n",
    "faspRunner.configure(searchClient, drsClient, wesClient)\n",
    "\n",
    "faspRunner.runQuery(query, 'One k query using Search and WES')\n"
   ]
  },
  {
   "cell_type": "code",
   "execution_count": 2,
   "metadata": {},
   "outputs": [
    {
     "name": "stdout",
     "output_type": "stream",
     "text": [
      "DataConnectClient\n",
      "bdcDRSClient\n",
      "DNAStackWESClient\n"
     ]
    },
    {
     "data": {
      "image/png": "[encoded data removed]",
      "text/plain": [
       "<PIL.Image.Image image mode=RGB size=60x60 at 0x10DAB98D0>"
      ]
     },
     "execution_count": 2,
     "metadata": {},
     "output_type": "execute_result"
    }
   ],
   "source": [
    "faspRunner.getFASPicon()"
   ]
  },
  {
   "cell_type": "code",
   "execution_count": null,
   "metadata": {},
   "outputs": [],
   "source": []
  }
 ],
 "metadata": {
  "kernelspec": {
   "display_name": "Python 3",
   "language": "python",
   "name": "python3"
  },
  "language_info": {
   "codemirror_mode": {
    "name": "ipython",
    "version": 3
   },
   "file_extension": ".py",
   "mimetype": "text/x-python",
   "name": "python",
   "nbconvert_exporter": "python",
   "pygments_lexer": "ipython3",
   "version": "3.7.3"
  }
 },
 "nbformat": 4,
 "nbformat_minor": 4
}
