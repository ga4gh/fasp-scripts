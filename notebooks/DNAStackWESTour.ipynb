{
 "cells": [
  {
   "cell_type": "markdown",
   "metadata": {},
   "source": [
    "A tour of using the revised DNAStack WES Server.\n",
    "\n",
    "The next steps retrieve details of a run submitted via FASPScript4.py. That script submits a workflow to run an MD5 checksum on a Thousand Genomes bam file. \n",
    "\n",
    "Note: even though the Thousand Genomes bam files are publically available care was taken in the following not to show the whole contents of the run details returned by the WES server. The response contains signed URLs. In other cases that would allow access to controlled access data - albeit for a limited time."
   ]
  },
  {
   "cell_type": "code",
   "execution_count": 22,
   "metadata": {},
   "outputs": [
    {
     "name": "stdout",
     "output_type": "stream",
     "text": [
      "523abb68-44bd-4040-b7b0-bfc2164f8917\n",
      "COMPLETE\n",
      "{'md5Sum.md5': ''}\n"
     ]
    }
   ],
   "source": [
    "from fasp.workflow import DNAStackWESClient\n",
    "wesClient = DNAStackWESClient('~/.keys/dnastack_wes_credentials.json')\n",
    "rundetails = wesClient.GetRunLog('523abb68-44bd-4040-b7b0-bfc2164f8917')\n",
    "print(rundetails['run_id'])\n",
    "print(rundetails['state'])\n",
    "print(rundetails['outputs'])"
   ]
  },
  {
   "cell_type": "markdown",
   "metadata": {},
   "source": [
    "That indicates an empty response. Though the task appeared to complete successfully we have no result. How can we check what happened? Links to stdout and stderr are available in the response."
   ]
  },
  {
   "cell_type": "code",
   "execution_count": 24,
   "metadata": {},
   "outputs": [
    {
     "name": "stdout",
     "output_type": "stream",
     "text": [
      "stdout is at https://workspaces-wes.prod.dnastack.com/ga4gh/wes/v1/runs/523abb68-44bd-4040-b7b0-bfc2164f8917/logs/task/md5Sum.calculateMd5Sum/0/stdout\n",
      "\n",
      "stderr is at https://workspaces-wes.prod.dnastack.com/ga4gh/wes/v1/runs/523abb68-44bd-4040-b7b0-bfc2164f8917/logs/task/md5Sum.calculateMd5Sum/0/stderr\n",
      "\n"
     ]
    }
   ],
   "source": [
    "log = rundetails['task_logs'][0]\n",
    "for stdx in ['stdout','stderr']:\n",
    "    print('{} is at {}\\n'.format(stdx, log[stdx]))\n"
   ]
  },
  {
   "cell_type": "markdown",
   "metadata": {},
   "source": [
    "Following those links downloads empty files. "
   ]
  }
 ],
 "metadata": {
  "kernelspec": {
   "display_name": "Python 3",
   "language": "python",
   "name": "python3"
  },
  "language_info": {
   "codemirror_mode": {
    "name": "ipython",
    "version": 3
   },
   "file_extension": ".py",
   "mimetype": "text/x-python",
   "name": "python",
   "nbconvert_exporter": "python",
   "pygments_lexer": "ipython3",
   "version": "3.7.3"
  }
 },
 "nbformat": 4,
 "nbformat_minor": 4
}
