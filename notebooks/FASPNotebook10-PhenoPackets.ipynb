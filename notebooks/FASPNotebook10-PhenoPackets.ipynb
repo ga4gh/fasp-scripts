{
 "cells": [
  {
   "cell_type": "markdown",
   "metadata": {},
   "source": [
    "<img src=\"../fasp/runner/credits/images/FASPNotebook10.jpg\" style=\"float: right;\">\n",
    "\n",
    "### GECCO PhenoPackets\n",
    "\n",
    "This notebook runs the same work as FASPScript10. In addition to showing how the three FASP steps can be run from a notebook, it uses the Seven Bridges WES Client in place of direct use of the Seven Bridges CGC API. "
   ]
  },
  {
   "cell_type": "code",
   "execution_count": 9,
   "metadata": {},
   "outputs": [],
   "source": [
    "#  IMPORTS\n",
    "\n",
    "from fasp.runner import FASPRunner\n",
    "\n",
    "# The implementations we're using\n",
    "from fasp.search import DiscoverySearchClient\n",
    "from fasp.loc import DRSMetaResolver\n",
    "from fasp.workflow import sbWESClient"
   ]
  },
  {
   "cell_type": "code",
   "execution_count": 10,
   "metadata": {},
   "outputs": [],
   "source": [
    "pp_dbgap_join = \"\"\"SELECT sp.dbGaP_Subject_ID, 'sbcgc:'||sb_drs_id \n",
    "FROM dbgap_demo.scr_gecco_susceptibility.subject_phenotypes_multi sp \n",
    "join dbgap_demo.scr_gecco_susceptibility.sample_multi sm on sm.dbgap_subject_id = sp.dbgap_subject_id \n",
    "join dbgap_demo.scr_gecco_susceptibility.sb_drs_index di on di.sample_id = sm.sample_id \n",
    "join sample_phenopackets.ga4gh_tables.gecco_phenopackets pp on pp.id = sm.biosample_accession \n",
    "where  json_extract_scalar(pp.phenopacket, '$.subject.sex') = 'MALE' and file_type = 'cram' limit 3 \"\"\"\n",
    "\n",
    "# Step 1 - Discovery\n",
    "# query for relevant DRS objects\n",
    "searchClient = DiscoverySearchClient('https://ga4gh-search-adapter-presto-public.prod.dnastack.com/')"
   ]
  },
  {
   "cell_type": "code",
   "execution_count": 11,
   "metadata": {},
   "outputs": [],
   "source": [
    "# Step 2 - DRS - a metaresolver will deal with which drs server is required\n",
    "drsClient = DRSMetaResolver()"
   ]
  },
  {
   "cell_type": "code",
   "execution_count": null,
   "metadata": {},
   "outputs": [],
   "source": []
  },
  {
   "cell_type": "code",
   "execution_count": 4,
   "metadata": {},
   "outputs": [],
   "source": [
    "# Step 3 - set up a class that run a compute for us\n",
    "wesClient = sbWESClient('cgc','forei/gecco','~/.keys/sbcgc_key.json')"
   ]
  },
  {
   "cell_type": "code",
   "execution_count": 5,
   "metadata": {},
   "outputs": [
    {
     "name": "stdout",
     "output_type": "stream",
     "text": [
      "Running query\n",
      "SELECT sp.dbGaP_Subject_ID, 'sbcgc:'||sb_drs_id \n",
      "FROM dbgap_demo.scr_gecco_susceptibility.subject_phenotypes_multi sp \n",
      "join dbgap_demo.scr_gecco_susceptibility.sample_multi sm on sm.dbgap_subject_id = sp.dbgap_subject_id \n",
      "join dbgap_demo.scr_gecco_susceptibility.sb_drs_index di on di.sample_id = sm.sample_id \n",
      "join sample_phenopackets.ga4gh_tables.gecco_phenopackets pp on pp.id = sm.biosample_accession \n",
      "where  json_extract_scalar(pp.phenopacket, '$.subject.sex') = 'MALE' and file_type = 'cram' limit 3 \n",
      "_Retrieving the query_\n",
      "____Page1_______________\n",
      "____Page2_______________\n",
      "____Page3_______________\n",
      "____Page4_______________\n",
      "____Page5_______________\n",
      "____Page6_______________\n",
      "____Page7_______________\n",
      "subject=2474312, drsID=sbcgc:5baa8cece4b0db63859e6590\n",
      "sending id 5baa8cece4b0db63859e6590 to: sbcgcDRSClient\n",
      "workflow submitted, run:0ecaad75-f4fe-4b42-97e5-6159e6237f0e\n",
      "____________________________________________________________\n",
      "subject=2473610, drsID=sbcgc:5baa8d0be4b0db63859e6843\n",
      "sending id 5baa8d0be4b0db63859e6843 to: sbcgcDRSClient\n",
      "workflow submitted, run:087f1240-4eaf-4f8e-8143-c32128dd4e5d\n",
      "____________________________________________________________\n",
      "subject=2472925, drsID=sbcgc:5baa88eee4b0abc1388b6626\n",
      "sending id 5baa88eee4b0abc1388b6626 to: sbcgcDRSClient\n",
      "workflow submitted, run:bd073260-714e-4ea3-b5ea-7f70e4df1471\n",
      "____________________________________________________________\n"
     ]
    },
    {
     "data": {
      "text/plain": [
       "[{'subject': '2474312', 'run_id': '0ecaad75-f4fe-4b42-97e5-6159e6237f0e'},\n",
       " {'subject': '2473610', 'run_id': '087f1240-4eaf-4f8e-8143-c32128dd4e5d'},\n",
       " {'subject': '2472925', 'run_id': 'bd073260-714e-4ea3-b5ea-7f70e4df1471'}]"
      ]
     },
     "execution_count": 5,
     "metadata": {},
     "output_type": "execute_result"
    }
   ],
   "source": [
    "faspRunner = FASPRunner(program='FASPNotebook10')\n",
    "faspRunner.configure(searchClient, drsClient, wesClient)\n",
    "\n",
    "faspRunner.runQuery(pp_dbgap_join, 'Phenopacket Gecco')"
   ]
  },
  {
   "cell_type": "code",
   "execution_count": null,
   "metadata": {},
   "outputs": [],
   "source": []
  }
 ],
 "metadata": {
  "kernelspec": {
   "display_name": "Python 3",
   "language": "python",
   "name": "python3"
  },
  "language_info": {
   "codemirror_mode": {
    "name": "ipython",
    "version": 3
   },
   "file_extension": ".py",
   "mimetype": "text/x-python",
   "name": "python",
   "nbconvert_exporter": "python",
   "pygments_lexer": "ipython3",
   "version": "3.7.3"
  }
 },
 "nbformat": 4,
 "nbformat_minor": 4
}
