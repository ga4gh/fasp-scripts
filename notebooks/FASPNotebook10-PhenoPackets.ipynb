{
 "cells": [
  {
   "cell_type": "markdown",
   "metadata": {},
   "source": [
    "<img src=\"../fasp/runner/credits/images/FASPNotebook10.jpg\" style=\"float: right;\">\n",
    "\n",
    "### GECCO PhenoPackets\n",
    "\n",
    "This notebook runs the same work as FASPScript10. In addition to showing how the three FASP steps can be run from a notebook, it uses the Seven Bridges WES Client in place of direct use of the Seven Bridges CGC API. "
   ]
  },
  {
   "cell_type": "code",
   "execution_count": 9,
   "metadata": {},
   "outputs": [],
   "source": [
    "#  IMPORTS\n",
    "\n",
    "from fasp.runner import FASPRunner\n",
    "\n",
    "# The implementations we're using\n",
    "from fasp.search import DiscoverySearchClient\n",
    "from fasp.loc import DRSMetaResolver\n",
    "from fasp.workflow import sbcgcWESClient"
   ]
  },
  {
   "cell_type": "code",
   "execution_count": 10,
   "metadata": {},
   "outputs": [],
   "source": [
    "pp_dbgap_join = \"\"\"SELECT sp.dbGaP_Subject_ID, 'sbcgc:'||sb_drs_id \n",
    "FROM dbgap_demo.scr_gecco_susceptibility.subject_phenotypes_multi sp \n",
    "join dbgap_demo.scr_gecco_susceptibility.sample_multi sm on sm.dbgap_subject_id = sp.dbgap_subject_id \n",
    "join dbgap_demo.scr_gecco_susceptibility.sb_drs_index di on di.sample_id = sm.sample_id \n",
    "join sample_phenopackets.ga4gh_tables.gecco_phenopackets pp on pp.id = sm.biosample_accession \n",
    "where  json_extract_scalar(pp.phenopacket, '$.subject.sex') = 'MALE' and file_type = 'cram' limit 3 \"\"\"\n",
    "\n",
    "# Step 1 - Discovery\n",
    "# query for relevant DRS objects\n",
    "searchClient = DiscoverySearchClient('https://ga4gh-search-adapter-presto-public.prod.dnastack.com/')"
   ]
  },
  {
   "cell_type": "code",
   "execution_count": 11,
   "metadata": {},
   "outputs": [
    {
     "name": "stdout",
     "output_type": "stream",
     "text": [
      "Searching the GA4GH registry for org.ga4gh:drs services\n"
     ]
    }
   ],
   "source": [
    "# Step 2 - DRS - a metaresolver will deal with which drs server is required\n",
    "drsClient = DRSMetaResolver()"
   ]
  },
  {
   "cell_type": "code",
   "execution_count": null,
   "metadata": {},
   "outputs": [],
   "source": []
  },
  {
   "cell_type": "code",
   "execution_count": 12,
   "metadata": {},
   "outputs": [
    {
     "name": "stdout",
     "output_type": "stream",
     "text": [
      "Running FASPNotebook10-PhenoPackets.ipynb\n"
     ]
    }
   ],
   "source": [
    "# Step 3 - set up a class that run a compute for us\n",
    "faspRunner = FASPRunner()\n",
    "settings = faspRunner.settings\n",
    "wesClient = sbcgcWESClient(settings['SevenBridgesProject'])"
   ]
  },
  {
   "cell_type": "code",
   "execution_count": 13,
   "metadata": {},
   "outputs": [
    {
     "name": "stdout",
     "output_type": "stream",
     "text": [
      "Running query\n",
      "SELECT sp.dbGaP_Subject_ID, 'sbcgc:'||sb_drs_id \n",
      "FROM dbgap_demo.scr_gecco_susceptibility.subject_phenotypes_multi sp \n",
      "join dbgap_demo.scr_gecco_susceptibility.sample_multi sm on sm.dbgap_subject_id = sp.dbgap_subject_id \n",
      "join dbgap_demo.scr_gecco_susceptibility.sb_drs_index di on di.sample_id = sm.sample_id \n",
      "join sample_phenopackets.ga4gh_tables.gecco_phenopackets pp on pp.id = sm.biosample_accession \n",
      "where  json_extract_scalar(pp.phenopacket, '$.subject.sex') = 'MALE' and file_type = 'cram' limit 3 \n",
      "_Retrieving the query_\n",
      "____Page1_______________\n",
      "____Page2_______________\n",
      "____Page3_______________\n",
      "____Page4_______________\n",
      "____Page5_______________\n",
      "____Page6_______________\n",
      "____Page7_______________\n",
      "____Page8_______________\n",
      "subject=2474312, drsID=sbcgc:5baa8cece4b0db63859e6590\n",
      "https://cgc-ga4gh-api.sbgenomics.com/ga4gh/wes/v1\n",
      "workflow submitted, run:16093ce2-e157-4148-9a2f-e2d051c9482a\n",
      "____________________________________________________________\n",
      "subject=2473610, drsID=sbcgc:5baa8d0be4b0db63859e6843\n",
      "https://cgc-ga4gh-api.sbgenomics.com/ga4gh/wes/v1\n",
      "workflow submitted, run:261a7530-a2ed-4cb3-b3a2-d21699f436e5\n",
      "____________________________________________________________\n",
      "subject=2472925, drsID=sbcgc:5baa88eee4b0abc1388b6626\n",
      "https://cgc-ga4gh-api.sbgenomics.com/ga4gh/wes/v1\n",
      "workflow submitted, run:bdd3fb57-769f-4112-b8cf-97b8c4b9bd4a\n",
      "____________________________________________________________\n"
     ]
    },
    {
     "data": {
      "text/plain": [
       "[{'subject': '2474312', 'run_id': '16093ce2-e157-4148-9a2f-e2d051c9482a'},\n",
       " {'subject': '2473610', 'run_id': '261a7530-a2ed-4cb3-b3a2-d21699f436e5'},\n",
       " {'subject': '2472925', 'run_id': 'bdd3fb57-769f-4112-b8cf-97b8c4b9bd4a'}]"
      ]
     },
     "execution_count": 13,
     "metadata": {},
     "output_type": "execute_result"
    }
   ],
   "source": [
    "faspRunner.configure(searchClient, drsClient, wesClient)\n",
    "\n",
    "faspRunner.runQuery(pp_dbgap_join, 'Phenopacket Gecco')"
   ]
  },
  {
   "cell_type": "code",
   "execution_count": null,
   "metadata": {},
   "outputs": [],
   "source": []
  }
 ],
 "metadata": {
  "kernelspec": {
   "display_name": "Python 3",
   "language": "python",
   "name": "python3"
  },
  "language_info": {
   "codemirror_mode": {
    "name": "ipython",
    "version": 3
   },
   "file_extension": ".py",
   "mimetype": "text/x-python",
   "name": "python",
   "nbconvert_exporter": "python",
   "pygments_lexer": "ipython3",
   "version": "3.7.3"
  }
 },
 "nbformat": 4,
 "nbformat_minor": 4
}
