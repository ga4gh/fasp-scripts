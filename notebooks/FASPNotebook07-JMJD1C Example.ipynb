{
 "cells": [
  {
   "cell_type": "markdown",
   "metadata": {},
   "source": [
    "<img src=\"../fasp/runner/credits/images/FASPNotebook07.jpg\" style=\"float: right;\">\n",
    "\n",
    "\n",
    "### Query for a specific variant\n"
   ]
  },
  {
   "cell_type": "code",
   "execution_count": 1,
   "metadata": {},
   "outputs": [
    {
     "name": "stdout",
     "output_type": "stream",
     "text": [
      "Running query\n",
      "\n",
      "SELECT mut.case_barcode subject, meta.file_gdc_id as drs_id, \n",
      "meta.file_gdc_url as tumor_bam_file_path,\n",
      "clin.race, clin.age_at_diagnosis, clin.ethnicity\n",
      "  \n",
      "FROM `isb-cgc.TCGA_hg38_data_v0.Somatic_Mutation` as mut \n",
      "join `isb-cgc.TCGA_bioclin_v0.Clinical` as clin \n",
      "on clin.case_barcode = mut.case_barcode \n",
      "join `isb-cgc.GDC_metadata.rel24_GDCfileID_to_GCSurl` as meta \n",
      "on meta.file_gdc_id = mut.tumor_bam_uuid #OR meta.file_gdc_id = mut.normal_bam_uuid \n",
      "\n",
      "where mut.Hugo_Symbol = \"JMJD1C\" \n",
      "\n",
      "order by meta.file_gdc_id\n",
      "limit 3\n",
      "subject=TCGA-02-2466, drsID=00b7d61d-9169-4b17-899e-edc7a5cd7509\n",
      "workflow submitted, run:fa875768-f4c9-4bbc-8ad9-dddf891f0cce\n",
      "____________________________________________________________\n",
      "subject=TCGA-02-2466, drsID=00b7d61d-9169-4b17-899e-edc7a5cd7509\n",
      "workflow submitted, run:e3676e9c-d9a3-48ec-b417-2e4126567b61\n",
      "____________________________________________________________\n",
      "subject=TCGA-H7-A6C4, drsID=00e1676d-b6c5-4d72-b69c-0110e38f6aef\n",
      "workflow submitted, run:17b8ab74-a22f-4f1c-982b-f6e1df62bf36\n",
      "____________________________________________________________\n"
     ]
    },
    {
     "data": {
      "text/plain": [
       "[{'subject': 'TCGA-02-2466', 'run_id': 'fa875768-f4c9-4bbc-8ad9-dddf891f0cce'},\n",
       " {'subject': 'TCGA-02-2466', 'run_id': 'e3676e9c-d9a3-48ec-b417-2e4126567b61'},\n",
       " {'subject': 'TCGA-H7-A6C4', 'run_id': '17b8ab74-a22f-4f1c-982b-f6e1df62bf36'}]"
      ]
     },
     "execution_count": 1,
     "metadata": {},
     "output_type": "execute_result"
    }
   ],
   "source": [
    "from fasp.runner import FASPRunner\n",
    "\n",
    "# The implementations we're using\n",
    "from fasp.search import BigQuerySearchClient\n",
    "from fasp.loc import crdcDRSClient\n",
    "from fasp.workflow import sbcgcWESClient\n",
    "\n",
    "\n",
    "faspRunner = FASPRunner(program='FASPNotebook07')\n",
    "settings = faspRunner.settings\n",
    "\n",
    "searchClient = BigQuerySearchClient()\n",
    "drsClient = crdcDRSClient('~/.keys/crdc_credentials.json','gs')\n",
    "mysam = sbcgcWESClient(settings['SevenBridgesProject'])\t\n",
    "\n",
    "faspRunner.configure(searchClient, drsClient, mysam)\n",
    "\n",
    "query = \"\"\"\n",
    "SELECT mut.case_barcode subject, meta.file_gdc_id as drs_id, \n",
    "meta.file_gdc_url as tumor_bam_file_path,\n",
    "clin.race, clin.age_at_diagnosis, clin.ethnicity\n",
    "  \n",
    "FROM `isb-cgc.TCGA_hg38_data_v0.Somatic_Mutation` as mut \n",
    "join `isb-cgc.TCGA_bioclin_v0.Clinical` as clin \n",
    "on clin.case_barcode = mut.case_barcode \n",
    "join `isb-cgc.GDC_metadata.rel24_GDCfileID_to_GCSurl` as meta \n",
    "on meta.file_gdc_id = mut.tumor_bam_uuid #OR meta.file_gdc_id = mut.normal_bam_uuid \n",
    "\n",
    "where mut.Hugo_Symbol = \"JMJD1C\" \n",
    "\n",
    "order by meta.file_gdc_id\n",
    "limit 3\"\"\"\n",
    "\n",
    "faspRunner.runQuery(query, 'JMJD1C query ')"
   ]
  },
  {
   "cell_type": "code",
   "execution_count": 4,
   "metadata": {},
   "outputs": [
    {
     "data": {
      "image/png": "[encoded data removed]",
      "text/plain": [
       "<PIL.Image.Image image mode=RGB size=60x60 at 0x119EB0358>"
      ]
     },
     "execution_count": 4,
     "metadata": {},
     "output_type": "execute_result"
    }
   ],
   "source": [
    "faspRunner.getFASPicon()"
   ]
  },
  {
   "cell_type": "code",
   "execution_count": null,
   "metadata": {},
   "outputs": [],
   "source": []
  }
 ],
 "metadata": {
  "kernelspec": {
   "display_name": "Python 3",
   "language": "python",
   "name": "python3"
  },
  "language_info": {
   "codemirror_mode": {
    "name": "ipython",
    "version": 3
   },
   "file_extension": ".py",
   "mimetype": "text/x-python",
   "name": "python",
   "nbconvert_exporter": "python",
   "pygments_lexer": "ipython3",
   "version": "3.7.3"
  }
 },
 "nbformat": 4,
 "nbformat_minor": 4
}
