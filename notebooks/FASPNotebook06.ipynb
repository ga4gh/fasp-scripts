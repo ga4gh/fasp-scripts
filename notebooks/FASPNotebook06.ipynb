{
 "cells": [
  {
   "cell_type": "code",
   "execution_count": 2,
   "metadata": {},
   "outputs": [
    {
     "name": "stdout",
     "output_type": "stream",
     "text": [
      "_Retrieving the query_\n",
      "____Page1_______________\n",
      "____Page2_______________\n",
      "____Page3_______________\n",
      "____Page4_______________\n",
      "____Page5_______________\n"
     ]
    },
    {
     "data": {
      "text/plain": [
       "[['HG01988_demo', 'dg.4503/7c7232a4-21d3-4d25-9846-bc0fe0547cee'],\n",
       " ['HG01986_demo', 'dg.4503/0e552602-5cec-477e-baa8-f1b1ed6a5bcb'],\n",
       " ['HG02317_demo', 'dg.4503/732731e4-4ef4-4874-82bd-d6a038ddc81f']]"
      ]
     },
     "execution_count": 2,
     "metadata": {},
     "output_type": "execute_result"
    }
   ],
   "source": [
    "#  IMPORTS\n",
    "import sys\n",
    "import datetime\n",
    "\n",
    "# a utility \n",
    "from fasp.runner import FASPRunner\n",
    "\n",
    "# The implementations we're using\n",
    "from fasp.search import DiscoverySearchClient\n",
    "from fasp.loc import DRSClient\n",
    "from fasp.workflow import DNAStackWESClient\n",
    "\n",
    "\n",
    "# Step 1 - Discovery\n",
    "# query for relevant DRS objects\n",
    "searchClient = DiscoverySearchClient('https://ga4gh-search-adapter-presto-public.prod.dnastack.com/')\n",
    "query = '''select submitter_id, read_drs_id drsid \n",
    "from thousand_genomes.onek_genomes.ssd_drs \n",
    "where population = 'ACB' limit 3'''\n",
    "query_job = searchClient.runQuery(query)\n",
    "query_job"
   ]
  },
  {
   "cell_type": "code",
   "execution_count": null,
   "metadata": {},
   "outputs": [],
   "source": [
    "# Step 2 - DRS - set up a DRS Client\n",
    "# CRDC\n",
    "drsClient = sdlDRSClient('~/.keys/prj_11218_D17199.ngc')\n",
    "\n",
    "# Step 3 - set up a class that run a compute for us\n",
    "wesClient = DNAStackWESClient('~/.keys/dnastack_wes_credentials.json')\n",
    "\n",
    "# A log is helpful to keep track of the computes we've submitted\n",
    "faspRunner = FASPRunner()\n",
    "\n",
    "# repeat steps 2 and 3 for each row of the query\n",
    "for row in query_job:\n",
    "\n",
    "    print(\"subject={}, drsID={}\".format(row[0], row[1]))\n",
    "\n",
    "    # Step 2 - Use DRS to get the URL\n",
    "    #objInfo = drsClient.getObject(row[1])\n",
    "    # for testing\n",
    "    acc = 'SRR5368359.sra'\n",
    "    objInfo = drsClient.getObject(acc)\n",
    "    fileSize = objInfo['size']\n",
    "    print(fileSize)\n",
    "    # we've predetermined we want to use the gs copy in this case\n",
    "    #url = drsClient.getAccessURL(row[1], 'gs')\n",
    "    res = drsClient.getAccessURL(acc,'gs.us')\n",
    "    url = res['url']\n",
    "    print(url)\n",
    "    # Step 3 - Run a pipeline on the file at the drs url\n",
    "    outfile = \"{}.txt\".format(row[0])\n",
    "    pipeline_id = wesClient.runWorkflow(url, outfile)\n",
    "    print('submitted:{}'.format(pipeline_id))\n",
    "\n",
    "    via = 'WES'\n",
    "    note = 'WES MD5 on NCBI SDL'\n",
    "\n",
    "    time = datetime.datetime.now().strftime(\"%m/%d/%Y, %H:%M:%S\")\n",
    "    faspRunner.logRun(time, via, note,  pipeline_id, outfile, str(fileSize),\n",
    "        searchClient, drsClient, wesClient)\n",
    "\n",
    "\n"
   ]
  }
 ],
 "metadata": {
  "kernelspec": {
   "display_name": "Python 3",
   "language": "python",
   "name": "python3"
  },
  "language_info": {
   "codemirror_mode": {
    "name": "ipython",
    "version": 3
   },
   "file_extension": ".py",
   "mimetype": "text/x-python",
   "name": "python",
   "nbconvert_exporter": "python",
   "pygments_lexer": "ipython3",
   "version": "3.7.3"
  }
 },
 "nbformat": 4,
 "nbformat_minor": 4
}
