{
 "cells": [
  {
   "cell_type": "markdown",
   "metadata": {},
   "source": [
    "<img src=\"../fasp/runner/credits/images/FASPNotebook08.jpg\" style=\"float: right;\">\n",
    "\n",
    "\n",
    "### Validate same compute on AWS and GCP\n",
    "\n",
    "* Query: CRDC - ISB-CGC GDC BigQuery Tables\n",
    "* Locate: CRDC DRS Service\n",
    "* Compute: CRDC - Seven Bridges CGC and ISB-CGC (Google Cloud)\n",
    "\n",
    "\n",
    "\n",
    "\n",
    "Runs the compute on two different platforms to check the same results are obtained on both platforms.\n",
    "This prepares for running a job such as FASP scripts.\n",
    "This script runs the same work as FASPScript8 and uses FASPRunner twice."
   ]
  },
  {
   "cell_type": "code",
   "execution_count": 1,
   "metadata": {},
   "outputs": [
    {
     "name": "stdout",
     "output_type": "stream",
     "text": [
      "Running FASPNotebook08-Validation.ipynb\n",
      "Running query\n",
      "\n",
      "    SELECT 'case_'||associated_entities__case_gdc_id , file_id\n",
      "    FROM search_cloud.cshcodeathon.gdc_rel24_filedata_active \n",
      "    where data_format = 'BAM' \n",
      "    and project_disease_type = 'Breast Invasive Carcinoma'\n",
      "    limit 3\n",
      "_Retrieving the query_\n",
      "____Page1_______________\n",
      "____Page2_______________\n",
      "____Page3_______________\n",
      "____Page4_______________\n",
      "____Page5_______________\n",
      "subject=case_1b703058-e596-45bc-80fe-8b98d545c2e2, drsID=030e5e74-6461-4f05-a399-de8e470bc056\n",
      "https://cgc-ga4gh-api.sbgenomics.com/ga4gh/wes/v1\n",
      "workflow submitted, run:23671e18-9672-48cc-bf1b-95bda8468eda\n",
      "____________________________________________________________\n",
      "subject=case_a947a945-4721-45cc-bc45-13b8ea41c10e, drsID=04c68898-ddac-4e15-9f9a-5bf278d55e4a\n",
      "https://cgc-ga4gh-api.sbgenomics.com/ga4gh/wes/v1\n",
      "workflow submitted, run:5a933a8b-0921-4216-beb8-d85a38a32edd\n",
      "____________________________________________________________\n",
      "subject=case_c462e422-eb8d-4daf-9897-2a9c6cbd783a, drsID=00589653-5840-4c11-8572-5aa7d00a73f8\n",
      "https://cgc-ga4gh-api.sbgenomics.com/ga4gh/wes/v1\n",
      "workflow submitted, run:97ae2f02-827d-45dc-971e-161a527aff0a\n",
      "____________________________________________________________\n",
      "Running query\n",
      "\n",
      "    SELECT 'case_'||associated_entities__case_gdc_id , file_id\n",
      "    FROM search_cloud.cshcodeathon.gdc_rel24_filedata_active \n",
      "    where data_format = 'BAM' \n",
      "    and project_disease_type = 'Breast Invasive Carcinoma'\n",
      "    limit 3\n",
      "_Retrieving the query_\n",
      "____Page1_______________\n",
      "____Page2_______________\n",
      "____Page3_______________\n",
      "____Page4_______________\n",
      "____Page5_______________\n",
      "subject=case_1b703058-e596-45bc-80fe-8b98d545c2e2, drsID=030e5e74-6461-4f05-a399-de8e470bc056\n",
      "workflow submitted, run:12102623343572660942\n",
      "____________________________________________________________\n",
      "subject=case_a947a945-4721-45cc-bc45-13b8ea41c10e, drsID=04c68898-ddac-4e15-9f9a-5bf278d55e4a\n",
      "workflow submitted, run:4760083456518502098\n",
      "____________________________________________________________\n",
      "subject=case_c462e422-eb8d-4daf-9897-2a9c6cbd783a, drsID=00589653-5840-4c11-8572-5aa7d00a73f8\n",
      "workflow submitted, run:4787016709673396655\n",
      "____________________________________________________________\n"
     ]
    }
   ],
   "source": [
    "from fasp.runner import FASPRunner\n",
    "\n",
    "# The implementations we're using\n",
    "from fasp.loc import crdcDRSClient\n",
    "from fasp.workflow import sbcgcWESClient, GCPLSsamtools\n",
    "from fasp.search import DiscoverySearchClient\n",
    "\n",
    "faspRunner = FASPRunner('FASPNotebook08')\n",
    "settings = faspRunner.settings\n",
    "\n",
    "sbProject = settings['SevenBridgesProject']\n",
    "\n",
    "# Step 1 - Discovery\n",
    "# query for relevant DRS objects\n",
    "searchClient = DiscoverySearchClient('https://ga4gh-search-adapter-presto-public.prod.dnastack.com/')\n",
    "\n",
    "# Step 3 - set up the classes that runs samtools on the two clouds\n",
    "location = 'projects/{}/locations/{}'.format(settings['GCPProject'], settings['GCPPipelineRegion'])\n",
    "sam2 = GCPLSsamtools(location, settings['GCPOutputBucket'])\n",
    "mysams = {'s3':sbcgcWESClient(settings['SevenBridgesProject']),\n",
    "          'gs': sam2}\n",
    "\n",
    "query = '''\n",
    "    SELECT 'case_'||associated_entities__case_gdc_id , file_id\n",
    "    FROM search_cloud.cshcodeathon.gdc_rel24_filedata_active \n",
    "    where data_format = 'BAM' \n",
    "    and project_disease_type = 'Breast Invasive Carcinoma'\n",
    "    limit 3'''\n",
    "\n",
    "\n",
    "for sam, samClient in mysams.items():\n",
    "    drsClient = crdcDRSClient('~/.keys/crdc_credentials.json', sam)\n",
    "    samClient = mysams[sam]\n",
    "    faspRunner.configure(searchClient, drsClient, samClient)\n",
    "    faspRunner.runQuery(query, 'cross cloud SAMTools validation')"
   ]
  },
  {
   "cell_type": "code",
   "execution_count": 2,
   "metadata": {},
   "outputs": [
    {
     "data": {
      "image/png": "[encoded data removed]",
      "text/plain": [
       "<PIL.Image.Image image mode=RGB size=120x60 at 0x11EEDE3C8>"
      ]
     },
     "execution_count": 2,
     "metadata": {},
     "output_type": "execute_result"
    }
   ],
   "source": [
    "faspRunner.getFASPicon()"
   ]
  },
  {
   "cell_type": "code",
   "execution_count": 3,
   "metadata": {},
   "outputs": [
    {
     "name": "stdout",
     "output_type": "stream",
     "text": [
      "DiscoverySearchClient    DiscoverySearchClient    \n",
      "crdcDRSClient            crdcDRSClient            \n",
      "sbcgcWESClient           GCPLSsamtools            \n"
     ]
    }
   ],
   "source": [
    "faspRunner.rollCredits()"
   ]
  },
  {
   "cell_type": "code",
   "execution_count": null,
   "metadata": {},
   "outputs": [],
   "source": []
  }
 ],
 "metadata": {
  "kernelspec": {
   "display_name": "Python 3",
   "language": "python",
   "name": "python3"
  },
  "language_info": {
   "codemirror_mode": {
    "name": "ipython",
    "version": 3
   },
   "file_extension": ".py",
   "mimetype": "text/x-python",
   "name": "python",
   "nbconvert_exporter": "python",
   "pygments_lexer": "ipython3",
   "version": "3.7.3"
  }
 },
 "nbformat": 4,
 "nbformat_minor": 4
}
