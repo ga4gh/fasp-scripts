{
 "cells": [
  {
   "cell_type": "markdown",
   "metadata": {},
   "source": [
    "### Reviewing registered WES services\n",
    "The Registry can be searched for WES services as follows"
   ]
  },
  {
   "cell_type": "code",
   "execution_count": 5,
   "metadata": {},
   "outputs": [
    {
     "name": "stdout",
     "output_type": "stream",
     "text": [
      "Searching the GA4GH registry for org.ga4gh:wes services\n"
     ]
    },
    {
     "data": {
      "text/plain": [
       "[{'id': 'com.dnastack.wes.demo',\n",
       "  'name': 'DNAstack Demo WES Service',\n",
       "  'type': {'group': 'org.ga4gh', 'artifact': 'wes', 'version': '1.0.0'},\n",
       "  'organization': {'id': 'com.dnastack',\n",
       "   'name': 'DNAstack',\n",
       "   'url': 'https://dnastack.com'},\n",
       "  'version': '1.0.0',\n",
       "  'url': 'https://ddap-wes-service.prod.dnastack.com/ga4gh/wes/v1',\n",
       "  'description': 'Demo Workflow Execution Service (WES)',\n",
       "  'contactUrl': 'mailto:support@dnastack.com',\n",
       "  'documentationUrl': 'https://github.com/ga4gh/workflow-execution-service-schemas',\n",
       "  'createdAt': '2020-09-14T18:45:21Z',\n",
       "  'updatedAt': '2020-09-14T18:45:21Z',\n",
       "  'environment': 'demo'},\n",
       " {'id': 'com.sbgenomics.cgc-ga4gh-api.wes',\n",
       "  'name': 'CGC GA4GH WES API',\n",
       "  'type': {'group': 'org.ga4gh', 'artifact': 'wes', 'version': '1.0.0'},\n",
       "  'organization': {'id': 'com.sb',\n",
       "   'name': 'Seven Bridges',\n",
       "   'url': 'https://www.sevenbridges.com'},\n",
       "  'version': '1.0.1.4',\n",
       "  'url': 'https://cgc-ga4gh-api.sbgenomics.com/ga4gh/wes/v1/',\n",
       "  'description': 'This service provides a standard way for users to submit workflow requests to workflow execution systems, and to monitor their execution.',\n",
       "  'contactUrl': 'mailto:support@sevenbridges.com',\n",
       "  'documentationUrl': 'https://docs.cancergenomicscloud.org/wes-api-overview',\n",
       "  'createdAt': '2020-11-10T18:45:39Z',\n",
       "  'updatedAt': '2020-11-10T18:45:39Z',\n",
       "  'environment': 'production'}]"
      ]
     },
     "execution_count": 5,
     "metadata": {},
     "output_type": "execute_result"
    }
   ],
   "source": [
    "from fasp.loc import GA4GHRegistryClient\n",
    "cl = GA4GHRegistryClient('https://registry.ga4gh.org/v1')\n",
    "cl.getRegisteredServices('org.ga4gh:wes')"
   ]
  },
  {
   "cell_type": "markdown",
   "metadata": {},
   "source": [
    "Besides the above the following are known to exist and provide the service-info listed."
   ]
  },
  {
   "cell_type": "code",
   "execution_count": 7,
   "metadata": {},
   "outputs": [
    {
     "name": "stdout",
     "output_type": "stream",
     "text": [
      "Get request sent to: https://cgc-ga4gh-api.sbgenomics.com/ga4gh/wes/v1//service-info\n",
      "{\n",
      "  \"id\": \"com.sbgenomics.cgc-ga4gh-api.wes\",\n",
      "  \"name\": \"CGC GA4GH WES API\",\n",
      "  \"type\": {\n",
      "    \"artifact\": \"wes\",\n",
      "    \"version\": \"1.0.1\",\n",
      "    \"group\": \"com.sevenbridges\"\n",
      "  },\n",
      "  \"description\": \"This service provides a standard way for users to submit workflow requests to workflow execution systems, and to monitor their execution.\",\n",
      "  \"organization\": {\n",
      "    \"name\": \"Seven Bridges\",\n",
      "    \"url\": \"https://www.sevenbridges.com\"\n",
      "  },\n",
      "  \"documentationUrl\": \"https://docs.cancergenomicscloud.org/wes-api-overview\",\n",
      "  \"version\": \"1.0.1.4\",\n",
      "  \"workflow_type_versions\": {\n",
      "    \"CWL\": [\n",
      "      \"sbg:draft-2\",\n",
      "      \"v1.0\",\n",
      "      \"v1.1\"\n",
      "    ]\n",
      "  },\n",
      "  \"supported_wes_versions\": [\n",
      "    \"1.0.1\"\n",
      "  ]\n",
      "}\n",
      "Get request sent to: https://cavatica-ga4gh-api.sbgenomics.com/ga4gh/wes/v1/service-info\n",
      "{\n",
      "  \"id\": \"com.sbgenomics.cavatica-ga4gh-api.wes\",\n",
      "  \"name\": \"Cavatica GA4GH WES API\",\n",
      "  \"type\": {\n",
      "    \"artifact\": \"wes\",\n",
      "    \"version\": \"1.0.1\",\n",
      "    \"group\": \"com.sevenbridges\"\n",
      "  },\n",
      "  \"description\": \"This service provides a standard way for users to submit workflow requests to workflow execution systems, and to monitor their execution.\",\n",
      "  \"organization\": {\n",
      "    \"name\": \"Seven Bridges\",\n",
      "    \"url\": \"https://www.sevenbridges.com\"\n",
      "  },\n",
      "  \"documentationUrl\": \"https://docs.cavatica.org/wes-api-overview\",\n",
      "  \"version\": \"1.0.1.4\",\n",
      "  \"workflow_type_versions\": {\n",
      "    \"CWL\": [\n",
      "      \"sbg:draft-2\",\n",
      "      \"v1.0\",\n",
      "      \"v1.1\"\n",
      "    ]\n",
      "  },\n",
      "  \"supported_wes_versions\": [\n",
      "    \"1.0.1\"\n",
      "  ]\n",
      "}\n",
      "Get request sent to: https://ga4gh-api.sb.biodatacatalyst.nhlbi.nih.gov/ga4gh/wes/v1/service-info\n",
      "{\n",
      "  \"id\": \"gov.nih.nhlbi.biodatacatalyst.sb.ga4gh-api.wes\",\n",
      "  \"name\": \"BDC GA4GH WES API\",\n",
      "  \"type\": {\n",
      "    \"artifact\": \"wes\",\n",
      "    \"version\": \"1.0.1\",\n",
      "    \"group\": \"com.sevenbridges\"\n",
      "  },\n",
      "  \"description\": \"This service provides a standard way for users to submit workflow requests to workflow execution systems, and to monitor their execution.\",\n",
      "  \"organization\": {\n",
      "    \"name\": \"Seven Bridges\",\n",
      "    \"url\": \"https://www.sevenbridges.com\"\n",
      "  },\n",
      "  \"documentationUrl\": \"https://sb-biodatacatalyst.readme.io/wes-api-overview\",\n",
      "  \"version\": \"1.0.1.4\",\n",
      "  \"workflow_type_versions\": {\n",
      "    \"CWL\": [\n",
      "      \"sbg:draft-2\",\n",
      "      \"v1.0\",\n",
      "      \"v1.1\"\n",
      "    ]\n",
      "  },\n",
      "  \"supported_wes_versions\": [\n",
      "    \"1.0.1\"\n",
      "  ]\n",
      "}\n"
     ]
    }
   ],
   "source": [
    "wesURLs = ['https://cgc-ga4gh-api.sbgenomics.com/ga4gh/wes/v1/',\n",
    "           'https://cavatica-ga4gh-api.sbgenomics.com/ga4gh/wes/v1',\n",
    "          'https://ga4gh-api.sb.biodatacatalyst.nhlbi.nih.gov/ga4gh/wes/v1']\n",
    "from fasp.workflow import WESClient\n",
    "for base in wesURLs:\n",
    "    wcl = WESClient(base)\n",
    "    wcl.getServiceInfo(verbose=True)"
   ]
  },
  {
   "cell_type": "markdown",
   "metadata": {},
   "source": [
    "Perhaps those new WES services can be submitted via the form created during the Jan 2021 Hackathon.\n",
    "\n",
    "Or; given the structured information is already available from the /service-info endpoint is creating an entry in the Service Registry from that possible."
   ]
  },
  {
   "cell_type": "code",
   "execution_count": null,
   "metadata": {},
   "outputs": [],
   "source": []
  }
 ],
 "metadata": {
  "kernelspec": {
   "display_name": "Python 3",
   "language": "python",
   "name": "python3"
  },
  "language_info": {
   "codemirror_mode": {
    "name": "ipython",
    "version": 3
   },
   "file_extension": ".py",
   "mimetype": "text/x-python",
   "name": "python",
   "nbconvert_exporter": "python",
   "pygments_lexer": "ipython3",
   "version": "3.7.3"
  }
 },
 "nbformat": 4,
 "nbformat_minor": 4
}
