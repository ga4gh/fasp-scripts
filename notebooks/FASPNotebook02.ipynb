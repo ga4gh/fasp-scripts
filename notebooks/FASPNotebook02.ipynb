{
 "cells": [
  {
   "cell_type": "markdown",
   "metadata": {},
   "source": [
    "<img src=\"../fasp/runner/credits/images/FASPNotebook02.jpg\" style=\"float: right;\">\n",
    "\n",
    "### BioDataCatalyst and CRDC Search-Locate-Compute\n",
    "This script runs the same work as FASPScript2, adapted to use FASPRunner and a WES Client."
   ]
  },
  {
   "cell_type": "code",
   "execution_count": 1,
   "metadata": {},
   "outputs": [],
   "source": [
    "from fasp.runner import FASPRunner\n",
    "\n",
    "# The implementations we're using\n",
    "from fasp.loc import DRSMetaResolver\n",
    "from fasp.workflow import GCPLSsamtools, sbcgcWESClient\n",
    "from fasp.search import DiscoverySearchClient, BigQuerySearchClient\n",
    "\n",
    "faspRunner = FASPRunner(program='FASPNotebook02')\n",
    "runNote = 'CRDC and BioDataCatalyst via FASPRunner, GA4GH++'"
   ]
  },
  {
   "cell_type": "markdown",
   "metadata": {},
   "source": [
    "### Step 1 - Discovery\n",
    "Query for relevant sequence files and get theit DRD ids.\n",
    "\n",
    "This example simply explores that we can query from different sources of subject/sample data and get files from two different cloud platforms."
   ]
  },
  {
   "cell_type": "code",
   "execution_count": 2,
   "metadata": {},
   "outputs": [],
   "source": [
    "# TCGA Query - CRDC\n",
    "crdcquery = \"\"\"\n",
    "    SELECT 'case_'||associated_entities__case_gdc_id , 'crdc:'||file_id\n",
    "    FROM search_cloud.cshcodeathon.gdc_rel24_filedata_active \n",
    "    where data_format = 'BAM' \n",
    "    and project_disease_type = 'Breast Invasive Carcinoma'\n",
    "    limit 3\"\"\"\n",
    "\n",
    "#COPD query - BioDataCatalyst\n",
    "bdcquery = \"\"\"\n",
    "    SELECT SUBJECT_ID, 'bdc:'||read_drs_id\n",
    "    FROM `isbcgc-216220.COPDGene.phenotype_drs`\n",
    "    where Weight_KG between 92.5 and 93.0\n",
    "    LIMIT 3\"\"\""
   ]
  },
  {
   "cell_type": "markdown",
   "metadata": {},
   "source": [
    "### Run FASPRunner against NCI Cancer Research Data Commons\t\n",
    "Configure FASPRunner with the three clients needed"
   ]
  },
  {
   "cell_type": "code",
   "execution_count": 3,
   "metadata": {},
   "outputs": [
    {
     "name": "stdout",
     "output_type": "stream",
     "text": [
      "Running query\n",
      "\n",
      "    SELECT 'case_'||associated_entities__case_gdc_id , 'crdc:'||file_id\n",
      "    FROM search_cloud.cshcodeathon.gdc_rel24_filedata_active \n",
      "    where data_format = 'BAM' \n",
      "    and project_disease_type = 'Breast Invasive Carcinoma'\n",
      "    limit 3\n",
      "_Retrieving the query_\n",
      "____Page1_______________\n",
      "____Page2_______________\n",
      "____Page3_______________\n",
      "____Page4_______________\n",
      "____Page5_______________\n",
      "____Page6_______________\n",
      "subject=case_1b703058-e596-45bc-80fe-8b98d545c2e2, drsID=crdc:030e5e74-6461-4f05-a399-de8e470bc056\n",
      "sending id 030e5e74-6461-4f05-a399-de8e470bc056 to: crdcDRSClient\n",
      "workflow submitted, run:22934219-bbde-43bc-8517-7545713e646f\n",
      "____________________________________________________________\n",
      "subject=case_a947a945-4721-45cc-bc45-13b8ea41c10e, drsID=crdc:04c68898-ddac-4e15-9f9a-5bf278d55e4a\n",
      "sending id 04c68898-ddac-4e15-9f9a-5bf278d55e4a to: crdcDRSClient\n",
      "workflow submitted, run:9ff5182a-e8f4-4320-b19e-c10869965085\n",
      "____________________________________________________________\n",
      "subject=case_c462e422-eb8d-4daf-9897-2a9c6cbd783a, drsID=crdc:00589653-5840-4c11-8572-5aa7d00a73f8\n",
      "sending id 00589653-5840-4c11-8572-5aa7d00a73f8 to: crdcDRSClient\n",
      "workflow submitted, run:1dd29071-f245-49f9-924f-843ab7a64f2e\n",
      "____________________________________________________________\n"
     ]
    }
   ],
   "source": [
    "searchClient = DiscoverySearchClient('https://ga4gh-search-adapter-presto-public.prod.dnastack.com/')\n",
    "\n",
    "drsClient = DRSMetaResolver()\n",
    "\n",
    "# Step 3 - set up a class that runs samtools for us\n",
    "# providing the location for the results\n",
    "settings = faspRunner.settings\n",
    "wesClient = sbcgcWESClient(settings['SevenBridgesProject'])\n",
    "faspRunner.configure(searchClient, drsClient, wesClient)\n",
    "runList = faspRunner.runQuery(crdcquery, runNote)"
   ]
  },
  {
   "cell_type": "markdown",
   "metadata": {},
   "source": [
    "### Run FASPRunner against BioDataCatalyst\t\n",
    "Reconfigure and run the FASPClient for the BioDataCatalyst data"
   ]
  },
  {
   "cell_type": "code",
   "execution_count": 4,
   "metadata": {},
   "outputs": [
    {
     "name": "stdout",
     "output_type": "stream",
     "text": [
      "Running query\n",
      "\n",
      "    SELECT SUBJECT_ID, 'bdc:'||read_drs_id\n",
      "    FROM `isbcgc-216220.COPDGene.phenotype_drs`\n",
      "    where Weight_KG between 92.5 and 93.0\n",
      "    LIMIT 3\n",
      "subject=COPDGene_Z31408, drsID=bdc:dg.4503/beada767-e232-4bce-a2d5-dff57012e0be\n",
      "sending id dg.4503/beada767-e232-4bce-a2d5-dff57012e0be to: bdcDRSClient\n",
      "workflow submitted, run:2c1e971f-621d-4e99-86ae-576f12904736\n",
      "____________________________________________________________\n",
      "subject=COPDGene_N95128, drsID=bdc:dg.4503/8739f25c-b1aa-440b-865c-fe727ea34e04\n",
      "sending id dg.4503/8739f25c-b1aa-440b-865c-fe727ea34e04 to: bdcDRSClient\n",
      "workflow submitted, run:4d796341-87c4-4cbc-b7fe-5f7cf2510161\n",
      "____________________________________________________________\n",
      "subject=COPDGene_W85634, drsID=bdc:dg.4503/915c197c-2a63-44c5-9007-9b0c8a797b9a\n",
      "sending id dg.4503/915c197c-2a63-44c5-9007-9b0c8a797b9a to: bdcDRSClient\n",
      "workflow submitted, run:dd5cd9d7-2d32-4073-b932-c0befd1dc59b\n",
      "____________________________________________________________\n"
     ]
    }
   ],
   "source": [
    "searchClient = BigQuerySearchClient()\n",
    "faspRunner.configure(searchClient, drsClient, wesClient)\n",
    "runList = faspRunner.runQuery(bdcquery, runNote)"
   ]
  },
  {
   "cell_type": "code",
   "execution_count": 5,
   "metadata": {},
   "outputs": [
    {
     "data": {
      "image/png": "[encoded data removed]",
      "text/plain": [
       "<PIL.Image.Image image mode=RGB size=120x60 at 0x1188FF518>"
      ]
     },
     "execution_count": 5,
     "metadata": {},
     "output_type": "execute_result"
    }
   ],
   "source": [
    "faspRunner.getFASPicon()"
   ]
  },
  {
   "cell_type": "code",
   "execution_count": null,
   "metadata": {},
   "outputs": [],
   "source": []
  }
 ],
 "metadata": {
  "kernelspec": {
   "display_name": "Python 3",
   "language": "python",
   "name": "python3"
  },
  "language_info": {
   "codemirror_mode": {
    "name": "ipython",
    "version": 3
   },
   "file_extension": ".py",
   "mimetype": "text/x-python",
   "name": "python",
   "nbconvert_exporter": "python",
   "pygments_lexer": "ipython3",
   "version": "3.7.3"
  }
 },
 "nbformat": 4,
 "nbformat_minor": 4
}
