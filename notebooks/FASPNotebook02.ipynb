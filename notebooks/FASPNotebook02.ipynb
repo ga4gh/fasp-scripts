{
 "cells": [
  {
   "cell_type": "markdown",
   "metadata": {},
   "source": [
    "<img src=\"../fasp/runner/credits/images/FASPNotebook02.jpg\" style=\"float: right;\">\n",
    "\n",
    "### BioDataCatalyst and CRDC Search-Locate-Compute\n",
    "This script runs the same work as FASPScript2, adapted to use FASPRunner and a WES Client."
   ]
  },
  {
   "cell_type": "code",
   "execution_count": 1,
   "metadata": {},
   "outputs": [],
   "source": [
    "from fasp.runner import FASPRunner\n",
    "\n",
    "# The implementations we're using\n",
    "from fasp.loc import DRSMetaResolver\n",
    "from fasp.workflow import sbcgcWESClient\n",
    "from fasp.search import DiscoverySearchClient, BigQuerySearchClient\n",
    "\n",
    "faspRunner = FASPRunner(program='FASPNotebook02')\n",
    "runNote = 'CRDC and BioDataCatalyst via FASPRunner, GA4GH++'"
   ]
  },
  {
   "cell_type": "markdown",
   "metadata": {},
   "source": [
    "### Step 1 - Discovery\n",
    "Query for relevant sequence files and get theit DRD ids.\n",
    "\n",
    "This example simply explores that we can query from different sources of subject/sample data and get files from two different cloud platforms."
   ]
  },
  {
   "cell_type": "code",
   "execution_count": 2,
   "metadata": {},
   "outputs": [],
   "source": [
    "# TCGA Query - CRDC\n",
    "crdcquery = \"\"\"\n",
    "    SELECT 'case_'||associated_entities__case_gdc_id , 'crdc:'||file_id\n",
    "    FROM search_cloud.cshcodeathon.gdc_rel24_filedata_active \n",
    "    where data_format = 'BAM' \n",
    "    and project_disease_type = 'Breast Invasive Carcinoma'\n",
    "    limit 3\"\"\"\n",
    "\n",
    "#COPD query - BioDataCatalyst\n",
    "bdcquery = \"\"\"\n",
    "    SELECT SUBJECT_ID, 'bdc:'||read_drs_id\n",
    "    FROM `isbcgc-216220.COPDGene.phenotype_drs`\n",
    "    where Weight_KG between 92.5 and 93.0\n",
    "    LIMIT 3\"\"\""
   ]
  },
  {
   "cell_type": "markdown",
   "metadata": {},
   "source": [
    "### Run FASPRunner against NCI Cancer Research Data Commons\t\n",
    "Configure FASPRunner with the three clients needed"
   ]
  },
  {
   "cell_type": "code",
   "execution_count": 3,
   "metadata": {},
   "outputs": [
    {
     "name": "stdout",
     "output_type": "stream",
     "text": [
      "Invalid access token in /Users/forei/.keys/anvil_credentials.json\n",
      "Searching the GA4GH registry for org.ga4gh:drs services\n",
      "Running query\n",
      "\n",
      "    SELECT 'case_'||associated_entities__case_gdc_id , 'crdc:'||file_id\n",
      "    FROM search_cloud.cshcodeathon.gdc_rel24_filedata_active \n",
      "    where data_format = 'BAM' \n",
      "    and project_disease_type = 'Breast Invasive Carcinoma'\n",
      "    limit 3\n",
      "_Retrieving the query_\n",
      "____Page1_______________\n",
      "____Page2_______________\n",
      "____Page3_______________\n",
      "____Page4_______________\n",
      "____Page5_______________\n",
      "subject=case_1b703058-e596-45bc-80fe-8b98d545c2e2, drsID=crdc:030e5e74-6461-4f05-a399-de8e470bc056\n",
      "workflow submitted, run:3b48bc69-ed82-4c4c-a555-4e0303512813\n",
      "____________________________________________________________\n",
      "subject=case_a947a945-4721-45cc-bc45-13b8ea41c10e, drsID=crdc:04c68898-ddac-4e15-9f9a-5bf278d55e4a\n",
      "workflow submitted, run:cdd1a0d5-2ebc-439c-aded-e4845bbe61a1\n",
      "____________________________________________________________\n",
      "subject=case_c462e422-eb8d-4daf-9897-2a9c6cbd783a, drsID=crdc:00589653-5840-4c11-8572-5aa7d00a73f8\n",
      "workflow submitted, run:d37ac74e-7ddd-4309-ac78-64074b5ac429\n",
      "____________________________________________________________\n"
     ]
    }
   ],
   "source": [
    "searchClient = DiscoverySearchClient('https://ga4gh-search-adapter-presto-public.prod.dnastack.com/')\n",
    "\n",
    "drsClient = DRSMetaResolver()\n",
    "\n",
    "# Step 3 - set up a class that runs samtools for us\n",
    "# providing the location for the results\n",
    "settings = faspRunner.settings\n",
    "wesClient = sbcgcWESClient(settings['SevenBridgesProject'])\n",
    "faspRunner.configure(searchClient, drsClient, wesClient)\n",
    "runList = faspRunner.runQuery(crdcquery, runNote)"
   ]
  },
  {
   "cell_type": "markdown",
   "metadata": {},
   "source": [
    "### Run FASPRunner against BioDataCatalyst\t\n",
    "Reconfigure and run the FASPClient for the BioDataCatalyst data"
   ]
  },
  {
   "cell_type": "code",
   "execution_count": 4,
   "metadata": {},
   "outputs": [
    {
     "name": "stdout",
     "output_type": "stream",
     "text": [
      "Running query\n",
      "\n",
      "    SELECT SUBJECT_ID, 'bdc:'||read_drs_id\n",
      "    FROM `isbcgc-216220.COPDGene.phenotype_drs`\n",
      "    where Weight_KG between 92.5 and 93.0\n",
      "    LIMIT 3\n",
      "subject=COPDGene_G56621, drsID=bdc:dg.4503/763aacdc-ac73-4d0e-9e8e-7f115238a2e8\n",
      "workflow submitted, run:b3abd4b3-2b2f-494d-8381-e7c24bf57dce\n",
      "____________________________________________________________\n",
      "subject=COPDGene_X62605, drsID=bdc:dg.4503/750ea953-bd9e-46e0-8434-df3f6db027de\n",
      "workflow submitted, run:8149c411-7237-430f-9da9-d4d2cc2e66be\n",
      "____________________________________________________________\n",
      "subject=COPDGene_B98456, drsID=bdc:dg.4503/8896427d-7993-4c3f-8463-15a5b0b34ed3\n",
      "workflow submitted, run:29d06287-1b10-46a4-af72-1d40552a25db\n",
      "____________________________________________________________\n"
     ]
    }
   ],
   "source": [
    "searchClient = BigQuerySearchClient()\n",
    "faspRunner.configure(searchClient, drsClient, wesClient)\n",
    "runList = faspRunner.runQuery(bdcquery, runNote)"
   ]
  },
  {
   "cell_type": "code",
   "execution_count": 5,
   "metadata": {},
   "outputs": [
    {
     "data": {
      "image/png": "[encoded data removed]",
      "text/plain": [
       "<PIL.Image.Image image mode=RGB size=120x60 at 0x119785320>"
      ]
     },
     "execution_count": 5,
     "metadata": {},
     "output_type": "execute_result"
    }
   ],
   "source": [
    "faspRunner.getFASPicon()"
   ]
  },
  {
   "cell_type": "code",
   "execution_count": null,
   "metadata": {},
   "outputs": [],
   "source": []
  }
 ],
 "metadata": {
  "kernelspec": {
   "display_name": "Python 3",
   "language": "python",
   "name": "python3"
  },
  "language_info": {
   "codemirror_mode": {
    "name": "ipython",
    "version": 3
   },
   "file_extension": ".py",
   "mimetype": "text/x-python",
   "name": "python",
   "nbconvert_exporter": "python",
   "pygments_lexer": "ipython3",
   "version": "3.7.3"
  }
 },
 "nbformat": 4,
 "nbformat_minor": 4
}
