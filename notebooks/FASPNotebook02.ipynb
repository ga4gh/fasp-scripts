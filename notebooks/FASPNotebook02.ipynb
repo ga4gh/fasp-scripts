{
 "cells": [
  {
   "cell_type": "markdown",
   "metadata": {},
   "source": [
    "<img src=\"../fasp/runner/credits/images/FASPNotebook2.jpg\" style=\"float: right;\">\n",
    "\n",
    "### BioDataCatalyst and CRDC Search-Locate-Compute\n",
    "This script runs the same work as FASPScript2 and uses FASPRunner twice"
   ]
  },
  {
   "cell_type": "code",
   "execution_count": 1,
   "metadata": {},
   "outputs": [],
   "source": [
    "from fasp.runner import FASPRunner\n",
    "\n",
    "# The implementations we're using\n",
    "from fasp.loc import DRSMetaResolver\n",
    "from fasp.workflow import GCPLSsamtools\n",
    "from fasp.search import BigQuerySearchClient\n",
    "\n",
    "faspRunner = FASPRunner(program='GTEX_TCGA_viaFASPRunner.ipynb')\n",
    "runNote = 'CRDC and BioDataCatalyst via FASPRunner'"
   ]
  },
  {
   "cell_type": "markdown",
   "metadata": {},
   "source": [
    "### Step 1 - Discovery\n",
    "Query for relevant DRS objects"
   ]
  },
  {
   "cell_type": "code",
   "execution_count": 2,
   "metadata": {},
   "outputs": [
    {
     "name": "stdout",
     "output_type": "stream",
     "text": [
      "Running query\n",
      "\n",
      "    SELECT 'case_'||associated_entities__case_gdc_id , 'crdc:'||file_id\n",
      "    FROM `isb-cgc.GDC_metadata.rel24_fileData_active` \n",
      "    where data_format = 'BAM' \n",
      "    and project_disease_type = 'Breast Invasive Carcinoma'\n",
      "    limit 3\n",
      "subject=case_1b703058-e596-45bc-80fe-8b98d545c2e2, drsID=crdc:030e5e74-6461-4f05-a399-de8e470bc056\n",
      "sending id 030e5e74-6461-4f05-a399-de8e470bc056 to: crdcDRSClient\n",
      "workflow submitted, run:5069613306116859965\n",
      "____________________________________________________________\n",
      "subject=case_a6edb6ca-ae9f-4da7-8ebe-92d83d2987fb, drsID=crdc:0329fa7e-d768-4bbe-940e-36f0b9829d7c\n",
      "sending id 0329fa7e-d768-4bbe-940e-36f0b9829d7c to: crdcDRSClient\n",
      "workflow submitted, run:13615341895894773455\n",
      "____________________________________________________________\n",
      "subject=case_a947a945-4721-45cc-bc45-13b8ea41c10e, drsID=crdc:04c68898-ddac-4e15-9f9a-5bf278d55e4a\n",
      "sending id 04c68898-ddac-4e15-9f9a-5bf278d55e4a to: crdcDRSClient\n",
      "workflow submitted, run:8358923869779077221\n",
      "____________________________________________________________\n"
     ]
    }
   ],
   "source": [
    "searchClient = BigQuerySearchClient()\n",
    "\n",
    "# TCGA Query - CRDC\n",
    "crdcquery = \"\"\"\n",
    "    SELECT 'case_'||associated_entities__case_gdc_id , 'crdc:'||file_id\n",
    "    FROM `isb-cgc.GDC_metadata.rel24_fileData_active` \n",
    "    where data_format = 'BAM' \n",
    "    and project_disease_type = 'Breast Invasive Carcinoma'\n",
    "    limit 3\"\"\"\n",
    "\n",
    "#COPD query - Topmed\t\n",
    "bdcquery = \"\"\"\n",
    "    SELECT SUBJECT_ID, 'bdc:'||read_drs_id\n",
    "    FROM `isbcgc-216220.COPDGene.phenotype_drs`\n",
    "    where Weight_KG between 92.5 and 93.0\n",
    "    LIMIT 3\"\"\"\n",
    "\n",
    "searchClient = BigQuerySearchClient()\n",
    "drsClient = DRSMetaResolver()\n",
    "\n",
    "# Step 3 - set up a class that runs samtools for us\n",
    "# providing the location for the resultssettings = faspRunner.settings\n",
    "settings = faspRunner.settings\n",
    "gcplocation = 'projects/{}/locations/{}'.format(settings['GCPProject'], settings['GCPPipelineRegion'])\n",
    "wesClient = GCPLSsamtools(gcplocation, settings['GCPOutputBucket'])\n",
    "\n",
    "faspRunner.configure(searchClient, drsClient, wesClient)\n",
    "runList = faspRunner.runQuery(crdcquery, runNote)"
   ]
  },
  {
   "cell_type": "markdown",
   "metadata": {},
   "source": [
    "### Step 2 - DRS - set up DRS Clients\t"
   ]
  },
  {
   "cell_type": "code",
   "execution_count": 3,
   "metadata": {},
   "outputs": [
    {
     "name": "stdout",
     "output_type": "stream",
     "text": [
      "Running query\n",
      "\n",
      "    SELECT SUBJECT_ID, 'bdc:'||read_drs_id\n",
      "    FROM `isbcgc-216220.COPDGene.phenotype_drs`\n",
      "    where Weight_KG between 92.5 and 93.0\n",
      "    LIMIT 3\n",
      "subject=COPDGene_Z31408, drsID=bdc:dg.4503/beada767-e232-4bce-a2d5-dff57012e0be\n",
      "sending id dg.4503/beada767-e232-4bce-a2d5-dff57012e0be to: bdcDRSClient\n",
      "workflow submitted, run:16906289823574202088\n",
      "____________________________________________________________\n",
      "subject=COPDGene_N95128, drsID=bdc:dg.4503/8739f25c-b1aa-440b-865c-fe727ea34e04\n",
      "sending id dg.4503/8739f25c-b1aa-440b-865c-fe727ea34e04 to: bdcDRSClient\n",
      "workflow submitted, run:814008927351374639\n",
      "____________________________________________________________\n",
      "subject=COPDGene_W85634, drsID=bdc:dg.4503/915c197c-2a63-44c5-9007-9b0c8a797b9a\n",
      "sending id dg.4503/915c197c-2a63-44c5-9007-9b0c8a797b9a to: bdcDRSClient\n",
      "workflow submitted, run:18069423379110996385\n",
      "____________________________________________________________\n"
     ]
    }
   ],
   "source": [
    "runList = faspRunner.runQuery(bdcquery, runNote)"
   ]
  },
  {
   "cell_type": "code",
   "execution_count": 4,
   "metadata": {},
   "outputs": [
    {
     "data": {
      "image/png": "[encoded data removed]",
      "text/plain": [
       "<PIL.Image.Image image mode=RGB size=120x60 at 0x11D6B2C18>"
      ]
     },
     "execution_count": 4,
     "metadata": {},
     "output_type": "execute_result"
    }
   ],
   "source": [
    "faspRunner.getFASPicon()"
   ]
  },
  {
   "cell_type": "code",
   "execution_count": null,
   "metadata": {},
   "outputs": [],
   "source": []
  }
 ],
 "metadata": {
  "kernelspec": {
   "display_name": "Python 3",
   "language": "python",
   "name": "python3"
  },
  "language_info": {
   "codemirror_mode": {
    "name": "ipython",
    "version": 3
   },
   "file_extension": ".py",
   "mimetype": "text/x-python",
   "name": "python",
   "nbconvert_exporter": "python",
   "pygments_lexer": "ipython3",
   "version": "3.7.3"
  }
 },
 "nbformat": 4,
 "nbformat_minor": 4
}
