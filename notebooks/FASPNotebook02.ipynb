{
 "cells": [
  {
   "cell_type": "markdown",
   "metadata": {},
   "source": [
    "<img src=\"../fasp/runner/credits/images/FASPNotebook02.jpg\" style=\"float: right;\">\n",
    "\n",
    "### BioDataCatalyst and CRDC Search-Locate-Compute\n",
    "This script runs the same work as FASPScript2, adapted to use FASPRunner and a WES Client."
   ]
  },
  {
   "cell_type": "code",
   "execution_count": 1,
   "metadata": {},
   "outputs": [],
   "source": [
    "from fasp.runner import FASPRunner\n",
    "\n",
    "# The implementations we're using\n",
    "from fasp.loc import DRSMetaResolver\n",
    "from fasp.workflow import sbcgcWESClient\n",
    "from fasp.search import DiscoverySearchClient, BigQuerySearchClient\n",
    "\n",
    "faspRunner = FASPRunner(program='FASPNotebook02')\n",
    "runNote = 'CRDC and BioDataCatalyst via FASPRunner, GA4GH++'"
   ]
  },
  {
   "cell_type": "markdown",
   "metadata": {},
   "source": [
    "### Step 1 - Discovery\n",
    "Query for relevant sequence files and get theit DRD ids.\n",
    "\n",
    "This example simply explores that we can query from different sources of subject/sample data and get files from two different cloud platforms."
   ]
  },
  {
   "cell_type": "code",
   "execution_count": 2,
   "metadata": {},
   "outputs": [],
   "source": [
    "# TCGA Query - CRDC\n",
    "crdcquery = \"\"\"\n",
    "    SELECT 'case_'||associated_entities__case_gdc_id , 'crdc:'||file_id\n",
    "    FROM search_cloud.cshcodeathon.gdc_rel24_filedata_active \n",
    "    where data_format = 'BAM' \n",
    "    and project_disease_type = 'Breast Invasive Carcinoma'\n",
    "    limit 3\"\"\"\n",
    "\n",
    "#COPD query - BioDataCatalyst\n",
    "bdcquery = \"\"\"\n",
    "    SELECT SUBJECT_ID, 'bdc:'||read_drs_id\n",
    "    FROM `isbcgc-216220.COPDGene.phenotype_drs`\n",
    "    where Weight_KG between 92.5 and 93.0\n",
    "    LIMIT 3\"\"\""
   ]
  },
  {
   "cell_type": "markdown",
   "metadata": {},
   "source": [
    "### Run FASPRunner against NCI Cancer Research Data Commons\t\n",
    "Configure FASPRunner with the three clients needed"
   ]
  },
  {
   "cell_type": "code",
   "execution_count": 3,
   "metadata": {},
   "outputs": [
    {
     "name": "stdout",
     "output_type": "stream",
     "text": [
      "Searching the GA4GH registry for org.ga4gh:drs services\n",
      "Running query\n",
      "\n",
      "    SELECT 'case_'||associated_entities__case_gdc_id , 'crdc:'||file_id\n",
      "    FROM search_cloud.cshcodeathon.gdc_rel24_filedata_active \n",
      "    where data_format = 'BAM' \n",
      "    and project_disease_type = 'Breast Invasive Carcinoma'\n",
      "    limit 3\n",
      "_Retrieving the query_\n",
      "____Page1_______________\n",
      "____Page2_______________\n",
      "____Page3_______________\n",
      "____Page4_______________\n",
      "____Page5_______________\n",
      "subject=case_1b703058-e596-45bc-80fe-8b98d545c2e2, drsID=crdc:030e5e74-6461-4f05-a399-de8e470bc056\n",
      "workflow submitted, run:fba58c7d-eb69-458d-a5fd-57f383d24bf4\n",
      "____________________________________________________________\n",
      "subject=case_a947a945-4721-45cc-bc45-13b8ea41c10e, drsID=crdc:04c68898-ddac-4e15-9f9a-5bf278d55e4a\n",
      "workflow submitted, run:8a935f7c-c245-4207-a557-f2f38434af51\n",
      "____________________________________________________________\n",
      "subject=case_c462e422-eb8d-4daf-9897-2a9c6cbd783a, drsID=crdc:00589653-5840-4c11-8572-5aa7d00a73f8\n",
      "workflow submitted, run:cac297bf-28ea-4f4c-91ec-182b50a3bff9\n",
      "____________________________________________________________\n"
     ]
    }
   ],
   "source": [
    "searchClient = DiscoverySearchClient('https://ga4gh-search-adapter-presto-public.prod.dnastack.com/')\n",
    "\n",
    "drsClient = DRSMetaResolver()\n",
    "\n",
    "# Step 3 - set up a class that runs samtools for us\n",
    "# providing the location for the results\n",
    "settings = faspRunner.settings\n",
    "wesClient = sbcgcWESClient(settings['SevenBridgesProject'])\n",
    "faspRunner.configure(searchClient, drsClient, wesClient)\n",
    "runList = faspRunner.runQuery(crdcquery, runNote)"
   ]
  },
  {
   "cell_type": "markdown",
   "metadata": {},
   "source": [
    "### Run FASPRunner against BioDataCatalyst\t\n",
    "Reconfigure and run the FASPClient for the BioDataCatalyst data"
   ]
  },
  {
   "cell_type": "code",
   "execution_count": 4,
   "metadata": {},
   "outputs": [
    {
     "name": "stdout",
     "output_type": "stream",
     "text": [
      "Running query\n",
      "\n",
      "    SELECT SUBJECT_ID, 'bdc:'||read_drs_id\n",
      "    FROM `isbcgc-216220.COPDGene.phenotype_drs`\n",
      "    where Weight_KG between 92.5 and 93.0\n",
      "    LIMIT 3\n",
      "subject=COPDGene_C71930, drsID=bdc:dg.4503/13e60549-3e96-41de-8a16-6791f9e57b22\n",
      "workflow submitted, run:0e4eb689-2a2a-4dab-a6a5-fef457254a14\n",
      "____________________________________________________________\n",
      "subject=COPDGene_T80566, drsID=bdc:dg.4503/a3730574-4252-49e1-abe0-1827a605d11e\n",
      "workflow submitted, run:18297549-4067-4b97-b753-a1fa726c1889\n",
      "____________________________________________________________\n",
      "subject=COPDGene_W77942, drsID=bdc:dg.4503/5414f5f4-e743-4d68-90c1-0a9f30e2eaec\n",
      "workflow submitted, run:53d055ff-9b15-4585-8a23-9cc7cb36967e\n",
      "____________________________________________________________\n"
     ]
    }
   ],
   "source": [
    "searchClient = BigQuerySearchClient()\n",
    "faspRunner.configure(searchClient, drsClient, wesClient)\n",
    "runList = faspRunner.runQuery(bdcquery, runNote)"
   ]
  },
  {
   "cell_type": "code",
   "execution_count": 5,
   "metadata": {},
   "outputs": [
    {
     "data": {
      "image/png": "[encoded data removed]",
      "text/plain": [
       "<PIL.Image.Image image mode=RGB size=120x60 at 0x122C2D860>"
      ]
     },
     "execution_count": 5,
     "metadata": {},
     "output_type": "execute_result"
    }
   ],
   "source": [
    "faspRunner.getFASPicon()"
   ]
  },
  {
   "cell_type": "code",
   "execution_count": null,
   "metadata": {},
   "outputs": [],
   "source": []
  }
 ],
 "metadata": {
  "kernelspec": {
   "display_name": "Python 3",
   "language": "python",
   "name": "python3"
  },
  "language_info": {
   "codemirror_mode": {
    "name": "ipython",
    "version": 3
   },
   "file_extension": ".py",
   "mimetype": "text/x-python",
   "name": "python",
   "nbconvert_exporter": "python",
   "pygments_lexer": "ipython3",
   "version": "3.7.3"
  }
 },
 "nbformat": 4,
 "nbformat_minor": 4
}
