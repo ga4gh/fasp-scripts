{
 "cells": [
  {
   "cell_type": "markdown",
   "metadata": {},
   "source": [
    "##  A tour of using the revised DNAStack WES Server\n",
    "\n",
    "This will work with Thousand Genomes bam files. Even though the Thousand Genomes bam files are publically available care was taken in the following not to show the whole contents of the run details returned by the WES server. The response contains signed URLs. In other cases that would allow access to controlled access data - albeit for a limited time.\n",
    "\n",
    "This function shows some details of the run, but not the possibly sensitive stuff."
   ]
  },
  {
   "cell_type": "code",
   "execution_count": 6,
   "metadata": {},
   "outputs": [],
   "source": [
    "def getMinimalRunLog(wesClient, run_id):\n",
    "    rundetails = wesClient.GetRunLog(run_id, verbose=True)\n",
    "    print(rundetails)\n",
    "    print(rundetails['run_id'])\n",
    "    print(rundetails['state'])\n",
    "    print(rundetails['outputs'])"
   ]
  },
  {
   "cell_type": "markdown",
   "metadata": {},
   "source": [
    "We can now use that function to minimal details of a run submitted via FASPScript4.py. That script submits a workflow to run an MD5 checksum on a Thousand Genomes bam file. It's output should just be that checksum."
   ]
  },
  {
   "cell_type": "code",
   "execution_count": 9,
   "metadata": {},
   "outputs": [
    {
     "name": "stdout",
     "output_type": "stream",
     "text": [
      "Get request sent to: https://workspaces-wes.prod.dnastack.com/ga4gh/wes/v1/runs/1d764abd-5c8f-4c89-ad2b-26a43b2025f1\n",
      "<Response [403]>\n",
      "None\n"
     ]
    },
    {
     "ename": "TypeError",
     "evalue": "'NoneType' object is not subscriptable",
     "output_type": "error",
     "traceback": [
      "\u001b[0;31m---------------------------------------------------------------------------\u001b[0m",
      "\u001b[0;31mTypeError\u001b[0m                                 Traceback (most recent call last)",
      "\u001b[0;32m<ipython-input-9-3f807a1bb3ac>\u001b[0m in \u001b[0;36m<module>\u001b[0;34m\u001b[0m\n\u001b[1;32m      2\u001b[0m \u001b[0mwesClient\u001b[0m \u001b[0;34m=\u001b[0m \u001b[0mDNAStackWESClient\u001b[0m\u001b[0;34m(\u001b[0m\u001b[0;34m'~/.keys/dnastack_wes_credentials.json'\u001b[0m\u001b[0;34m)\u001b[0m\u001b[0;34m\u001b[0m\u001b[0;34m\u001b[0m\u001b[0m\n\u001b[1;32m      3\u001b[0m \u001b[0mrun_id\u001b[0m \u001b[0;34m=\u001b[0m \u001b[0;34m'1d764abd-5c8f-4c89-ad2b-26a43b2025f1'\u001b[0m\u001b[0;34m\u001b[0m\u001b[0;34m\u001b[0m\u001b[0m\n\u001b[0;32m----> 4\u001b[0;31m \u001b[0mgetMinimalRunLog\u001b[0m\u001b[0;34m(\u001b[0m\u001b[0mwesClient\u001b[0m\u001b[0;34m,\u001b[0m \u001b[0mrun_id\u001b[0m\u001b[0;34m)\u001b[0m\u001b[0;34m\u001b[0m\u001b[0;34m\u001b[0m\u001b[0m\n\u001b[0m",
      "\u001b[0;32m<ipython-input-6-2bcd8016dfb7>\u001b[0m in \u001b[0;36mgetMinimalRunLog\u001b[0;34m(wesClient, run_id)\u001b[0m\n\u001b[1;32m      2\u001b[0m     \u001b[0mrundetails\u001b[0m \u001b[0;34m=\u001b[0m \u001b[0mwesClient\u001b[0m\u001b[0;34m.\u001b[0m\u001b[0mGetRunLog\u001b[0m\u001b[0;34m(\u001b[0m\u001b[0mrun_id\u001b[0m\u001b[0;34m,\u001b[0m \u001b[0mverbose\u001b[0m\u001b[0;34m=\u001b[0m\u001b[0;32mTrue\u001b[0m\u001b[0;34m)\u001b[0m\u001b[0;34m\u001b[0m\u001b[0;34m\u001b[0m\u001b[0m\n\u001b[1;32m      3\u001b[0m     \u001b[0mprint\u001b[0m\u001b[0;34m(\u001b[0m\u001b[0mrundetails\u001b[0m\u001b[0;34m)\u001b[0m\u001b[0;34m\u001b[0m\u001b[0;34m\u001b[0m\u001b[0m\n\u001b[0;32m----> 4\u001b[0;31m     \u001b[0mprint\u001b[0m\u001b[0;34m(\u001b[0m\u001b[0mrundetails\u001b[0m\u001b[0;34m[\u001b[0m\u001b[0;34m'run_id'\u001b[0m\u001b[0;34m]\u001b[0m\u001b[0;34m)\u001b[0m\u001b[0;34m\u001b[0m\u001b[0;34m\u001b[0m\u001b[0m\n\u001b[0m\u001b[1;32m      5\u001b[0m     \u001b[0mprint\u001b[0m\u001b[0;34m(\u001b[0m\u001b[0mrundetails\u001b[0m\u001b[0;34m[\u001b[0m\u001b[0;34m'state'\u001b[0m\u001b[0;34m]\u001b[0m\u001b[0;34m)\u001b[0m\u001b[0;34m\u001b[0m\u001b[0;34m\u001b[0m\u001b[0m\n\u001b[1;32m      6\u001b[0m     \u001b[0mprint\u001b[0m\u001b[0;34m(\u001b[0m\u001b[0mrundetails\u001b[0m\u001b[0;34m[\u001b[0m\u001b[0;34m'outputs'\u001b[0m\u001b[0;34m]\u001b[0m\u001b[0;34m)\u001b[0m\u001b[0;34m\u001b[0m\u001b[0;34m\u001b[0m\u001b[0m\n",
      "\u001b[0;31mTypeError\u001b[0m: 'NoneType' object is not subscriptable"
     ]
    }
   ],
   "source": [
    "from fasp.workflow import DNAStackWESClient\n",
    "wesClient = DNAStackWESClient('~/.keys/dnastack_wes_credentials.json')\n",
    "run_id = '1d764abd-5c8f-4c89-ad2b-26a43b2025f1'\n",
    "getMinimalRunLog(wesClient, run_id)"
   ]
  },
  {
   "cell_type": "markdown",
   "metadata": {},
   "source": [
    "That indicates an empty response. Though the task appeared to complete successfully we have no result. How can we check what happened? Links to stdout and stderr are available in the response."
   ]
  },
  {
   "cell_type": "code",
   "execution_count": 3,
   "metadata": {},
   "outputs": [
    {
     "name": "stdout",
     "output_type": "stream",
     "text": [
      "<Response [404]>\n"
     ]
    },
    {
     "ename": "TypeError",
     "evalue": "'NoneType' object is not subscriptable",
     "output_type": "error",
     "traceback": [
      "\u001b[0;31m---------------------------------------------------------------------------\u001b[0m",
      "\u001b[0;31mTypeError\u001b[0m                                 Traceback (most recent call last)",
      "\u001b[0;32m<ipython-input-3-86309cd9df20>\u001b[0m in \u001b[0;36m<module>\u001b[0;34m\u001b[0m\n\u001b[1;32m      1\u001b[0m \u001b[0mrundetails\u001b[0m \u001b[0;34m=\u001b[0m \u001b[0mwesClient\u001b[0m\u001b[0;34m.\u001b[0m\u001b[0mGetRunLog\u001b[0m\u001b[0;34m(\u001b[0m\u001b[0mrun_id\u001b[0m\u001b[0;34m)\u001b[0m\u001b[0;34m\u001b[0m\u001b[0;34m\u001b[0m\u001b[0m\n\u001b[0;32m----> 2\u001b[0;31m \u001b[0mlog\u001b[0m \u001b[0;34m=\u001b[0m \u001b[0mrundetails\u001b[0m\u001b[0;34m[\u001b[0m\u001b[0;34m'task_logs'\u001b[0m\u001b[0;34m]\u001b[0m\u001b[0;34m[\u001b[0m\u001b[0;36m0\u001b[0m\u001b[0;34m]\u001b[0m\u001b[0;34m\u001b[0m\u001b[0;34m\u001b[0m\u001b[0m\n\u001b[0m\u001b[1;32m      3\u001b[0m \u001b[0;32mfor\u001b[0m \u001b[0mstdx\u001b[0m \u001b[0;32min\u001b[0m \u001b[0;34m[\u001b[0m\u001b[0;34m'stdout'\u001b[0m\u001b[0;34m,\u001b[0m\u001b[0;34m'stderr'\u001b[0m\u001b[0;34m]\u001b[0m\u001b[0;34m:\u001b[0m\u001b[0;34m\u001b[0m\u001b[0;34m\u001b[0m\u001b[0m\n\u001b[1;32m      4\u001b[0m     \u001b[0mprint\u001b[0m\u001b[0;34m(\u001b[0m\u001b[0;34m'{} is at {}\\n'\u001b[0m\u001b[0;34m.\u001b[0m\u001b[0mformat\u001b[0m\u001b[0;34m(\u001b[0m\u001b[0mstdx\u001b[0m\u001b[0;34m,\u001b[0m \u001b[0mlog\u001b[0m\u001b[0;34m[\u001b[0m\u001b[0mstdx\u001b[0m\u001b[0;34m]\u001b[0m\u001b[0;34m)\u001b[0m\u001b[0;34m)\u001b[0m\u001b[0;34m\u001b[0m\u001b[0;34m\u001b[0m\u001b[0m\n",
      "\u001b[0;31mTypeError\u001b[0m: 'NoneType' object is not subscriptable"
     ]
    }
   ],
   "source": [
    "rundetails = wesClient.GetRunLog(run_id)\n",
    "log = rundetails['task_logs'][0]\n",
    "for stdx in ['stdout','stderr']:\n",
    "    print('{} is at {}\\n'.format(stdx, log[stdx]))\n"
   ]
  },
  {
   "cell_type": "markdown",
   "metadata": {},
   "source": [
    "Following those links downloads empty files. That is the same as the previous version of the server. It was suggested that DRS would be a suitable way to make the files available.\n",
    "\n",
    "The absence of the files means we don't have access to information that would be useful for troubleshooting. The guess is that it is the same problem as previously.\n",
    "\n",
    "Trying another workflow. \n",
    "\n",
    "The function runGWASWorkflowTest encapsulates the GWAS Workflow from the 2020 GA4GH Plenary. It runs it on files accessed via Google Cloud URIs rather than DRS. This lets us check a known workflow."
   ]
  },
  {
   "cell_type": "code",
   "execution_count": 9,
   "metadata": {},
   "outputs": [
    {
     "data": {
      "text/plain": [
       "'eaf4ff6a-e229-47b9-9e4c-558dbb2c16be'"
      ]
     },
     "execution_count": 9,
     "metadata": {},
     "output_type": "execute_result"
    }
   ],
   "source": [
    "wesClient.runGWASWorkflowTest()"
   ]
  },
  {
   "cell_type": "code",
   "execution_count": 12,
   "metadata": {},
   "outputs": [
    {
     "name": "stdout",
     "output_type": "stream",
     "text": [
      "eaf4ff6a-e229-47b9-9e4c-558dbb2c16be\n",
      "RUNNING\n",
      "{}\n"
     ]
    }
   ],
   "source": [
    "getMinimalRunLog(wesClient, 'eaf4ff6a-e229-47b9-9e4c-558dbb2c16be')"
   ]
  },
  {
   "cell_type": "markdown",
   "metadata": {},
   "source": [
    "In this case the run has produced some output files which look promising. How we access those files is still an open question. See discussion elsewhere about whether a companion DRS server, or even a DRS server accessed via the WES server and accessed under the same credentials would be a useful addition to WES."
   ]
  }
 ],
 "metadata": {
  "kernelspec": {
   "display_name": "Python 3",
   "language": "python",
   "name": "python3"
  },
  "language_info": {
   "codemirror_mode": {
    "name": "ipython",
    "version": 3
   },
   "file_extension": ".py",
   "mimetype": "text/x-python",
   "name": "python",
   "nbconvert_exporter": "python",
   "pygments_lexer": "ipython3",
   "version": "3.7.3"
  }
 },
 "nbformat": 4,
 "nbformat_minor": 4
}
