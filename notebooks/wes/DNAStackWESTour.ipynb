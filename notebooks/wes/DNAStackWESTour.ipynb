{
 "cells": [
  {
   "cell_type": "markdown",
   "metadata": {},
   "source": [
    "##  A tour of using the revised DNAStack WES Server\n",
    "\n",
    "This will work with Thousand Genomes bam files. Even though the Thousand Genomes bam files are publically available care was taken in the following not to show the whole contents of the run details returned by the WES server. The response contains signed URLs. In other cases that would allow access to controlled access data - albeit for a limited time.\n",
    "\n",
    "This function shows some details of the run, but not the possibly sensitive stuff."
   ]
  },
  {
   "cell_type": "code",
   "execution_count": 4,
   "metadata": {},
   "outputs": [],
   "source": [
    "def getMinimalRunLog(wesClient, run_id):\n",
    "    rundetails = wesClient.GetRunLog(run_id)\n",
    "    print(rundetails)\n",
    "    print(rundetails['run_id'])\n",
    "    print(rundetails['state'])\n",
    "    print(rundetails['outputs'])"
   ]
  },
  {
   "cell_type": "markdown",
   "metadata": {},
   "source": [
    "We can now use that function to minimal details of a run submitted via FASPScript4.py. That script submits a workflow to run an MD5 checksum on a Thousand Genomes bam file. It's output should just be that checksum."
   ]
  },
  {
   "cell_type": "code",
   "execution_count": 5,
   "metadata": {},
   "outputs": [
    {
     "name": "stdout",
     "output_type": "stream",
     "text": [
      "{'run_id': '1d764abd-5c8f-4c89-ad2b-26a43b2025f1', 'request': {'workflow_params': {'md5Sum.inputFile': 'https://storage.googleapis.com/fc-secure-ff8156a3-ddf3-42e4-9211-0fd89da62108/GTEx_Analysis_2017-06-05_v8_WGS_CRAM_files/GTEX-1B98T-0004-SM-7J38T.cram?GoogleAccessId=forei-598@anvilprod.iam.gserviceaccount.com&Expires=1611352202&Signature=iBZ0w6x2d0bnZ2n9GvX3rK%2F4dSksgm4%2Bl9KxnZ6q9n3Sv3FobysgIuhuT%2FXVfmfc54hVkz4D2K9EFHv0rGIJe9%2BqRPlaHqAnFFtKmmTZmzkR7q7o98wa5OjUDyxxqtwLCcNZHzW1qLph6PfezZAyLuHbrmoBf49jqqpZnmlQyRHg9KawKFEp%2B7OX2QCrRShygJ3bbJg9pKtYqgSmayHDD%2B9jQI4coUTqW23jkjECQQSAaJJdYGUI0FzlGv9kziPoJDARiUIq7DcBcEonz1Y0IwyO92%2BW6psAMGL6Lm6T4ph1%2BiwEEPDIDfZPbJPPoooTtYbWzr64nPlgAqasUsMYBw=='}, 'workflow': 'WDL', 'tags': {'user_id': 'ian-fore-fasp-client', 'cromwell-workflow-id': 'cromwell-1d764abd-5c8f-4c89-ad2b-26a43b2025f1'}, 'workflow_engine_parameters': {'workflow_root': 'gs://workspaces-cromwell-execution/md5Sum/1d764abd-5c8f-4c89-ad2b-26a43b2025f1/'}, 'workflow_url': 'checksum.wdl'}, 'state': 'COMPLETE', 'run_log': {'name': 'md5Sum', 'start_time': '2021-01-22T20:50:05.642Z[UTC]', 'end_time': '2021-01-22T20:52:41.764Z[UTC]'}, 'task_logs': [{'name': 'md5Sum.calculateMd5Sum', 'cmd': \"gsutil hash -m /cromwell_root/storage.googleapis.com/fc-secure-ff8156a3-ddf3-42e4-9211-0fd89da62108/GTEx_Analysis_2017-06-05_v8_WGS_CRAM_files/GTEX-1B98T-0004-SM-7J38T.cram?GoogleAccessId=forei-598@anvilprod.iam.gserviceaccount.com&Expires=1611352202&Signature=iBZ0w6x2d0bnZ2n9GvX3rK%2F4dSksgm4%2Bl9KxnZ6q9n3Sv3FobysgIuhuT%2FXVfmfc54hVkz4D2K9EFHv0rGIJe9%2BqRPlaHqAnFFtKmmTZmzkR7q7o98wa5OjUDyxxqtwLCcNZHzW1qLph6PfezZAyLuHbrmoBf49jqqpZnmlQyRHg9KawKFEp%2B7OX2QCrRShygJ3bbJg9pKtYqgSmayHDD%2B9jQI4coUTqW23jkjECQQSAaJJdYGUI0FzlGv9kziPoJDARiUIq7DcBcEonz1Y0IwyO92%2BW6psAMGL6Lm6T4ph1%2BiwEEPDIDfZPbJPPoooTtYbWzr64nPlgAqasUsMYBw== | grep -E 'Hash \\\\(md5\\\\):\\\\s' | cut -f4 > output.md5\", 'start_time': '2021-01-22T20:50:07.784Z[UTC]', 'end_time': '2021-01-22T20:52:40.025Z[UTC]', 'stdout': 'https://workspaces-wes.prod.dnastack.com/ga4gh/wes/v1/runs/1d764abd-5c8f-4c89-ad2b-26a43b2025f1/logs/task/md5Sum.calculateMd5Sum/0/stdout', 'stderr': 'https://workspaces-wes.prod.dnastack.com/ga4gh/wes/v1/runs/1d764abd-5c8f-4c89-ad2b-26a43b2025f1/logs/task/md5Sum.calculateMd5Sum/0/stderr', 'exit_code': 0}], 'outputs': {'md5Sum.md5': ''}}\n",
      "1d764abd-5c8f-4c89-ad2b-26a43b2025f1\n",
      "COMPLETE\n",
      "{'md5Sum.md5': ''}\n"
     ]
    }
   ],
   "source": [
    "from fasp.workflow import DNAStackWESClient\n",
    "wesClient = DNAStackWESClient('~/.keys/dnastack_wes_credentials.json')\n",
    "run_id = '1d764abd-5c8f-4c89-ad2b-26a43b2025f1'\n",
    "getMinimalRunLog(wesClient, run_id)"
   ]
  },
  {
   "cell_type": "markdown",
   "metadata": {},
   "source": [
    "That indicates an empty response. Though the task appeared to complete successfully we have no result. How can we check what happened? Links to stdout and stderr are available in the response."
   ]
  },
  {
   "cell_type": "code",
   "execution_count": 6,
   "metadata": {},
   "outputs": [
    {
     "name": "stdout",
     "output_type": "stream",
     "text": [
      "stdout is at https://workspaces-wes.prod.dnastack.com/ga4gh/wes/v1/runs/1d764abd-5c8f-4c89-ad2b-26a43b2025f1/logs/task/md5Sum.calculateMd5Sum/0/stdout\n",
      "\n",
      "stderr is at https://workspaces-wes.prod.dnastack.com/ga4gh/wes/v1/runs/1d764abd-5c8f-4c89-ad2b-26a43b2025f1/logs/task/md5Sum.calculateMd5Sum/0/stderr\n",
      "\n"
     ]
    }
   ],
   "source": [
    "rundetails = wesClient.GetRunLog(run_id)\n",
    "log = rundetails['task_logs'][0]\n",
    "for stdx in ['stdout','stderr']:\n",
    "    print('{} is at {}\\n'.format(stdx, log[stdx]))\n"
   ]
  },
  {
   "cell_type": "markdown",
   "metadata": {},
   "source": [
    "Following those links downloads empty files. That is the same as the previous version of the server. It was suggested that DRS would be a suitable way to make the files available.\n",
    "\n",
    "The absence of the files means we don't have access to information that would be useful for troubleshooting. The guess is that it is the same problem as previously.\n",
    "\n",
    "Trying another workflow. \n",
    "\n",
    "The function runGWASWorkflowTest encapsulates the GWAS Workflow from the 2020 GA4GH Plenary. It runs it on files accessed via Google Cloud URIs rather than DRS. This lets us check a known workflow."
   ]
  },
  {
   "cell_type": "code",
   "execution_count": 7,
   "metadata": {},
   "outputs": [
    {
     "data": {
      "text/plain": [
       "'d07bcf66-893a-4151-83ab-339acbf5c5ef'"
      ]
     },
     "execution_count": 7,
     "metadata": {},
     "output_type": "execute_result"
    }
   ],
   "source": [
    "wesClient.runGWASWorkflowTest()"
   ]
  },
  {
   "cell_type": "code",
   "execution_count": 8,
   "metadata": {},
   "outputs": [
    {
     "name": "stdout",
     "output_type": "stream",
     "text": [
      "{'run_id': '48749bf2-9d73-447f-8c7e-977229270578', 'request': {'workflow_params': {'gwas.vcf': 'gs://fc-56ac46ea-efc4-4683-b6d5-6d95bed41c5e/CCDG_13607/Project_CCDG_13607_B01_GRM_WGS.JGVariants.2019-04-04/CCDG_13607_B01_GRM_WGS_2019-02-19_chr21.recalibrated_variants.vcf.gz', 'gwas.metadata_csv': 'gs://dnastack-public-bucket/thousand_genomes_meta.csv'}, 'workflow': 'WDL', 'tags': {'user_id': 'ian-fore-fasp-client', 'cromwell-workflow-id': 'cromwell-48749bf2-9d73-447f-8c7e-977229270578'}, 'workflow_engine_parameters': {'workflow_root': 'gs://workspaces-cromwell-execution/gwas/48749bf2-9d73-447f-8c7e-977229270578/'}, 'workflow_url': 'gwas.wdl'}, 'state': 'COMPLETE', 'run_log': {'name': 'gwas', 'start_time': '2021-02-24T00:29:14.958Z[UTC]', 'end_time': '2021-02-24T00:55:10.332Z[UTC]'}, 'task_logs': [{'name': 'gwas.parse_metadata', 'cmd': 'parse_metadata.sh \\\\\\n\\t-c /cromwell_root/dnastack-public-bucket/thousand_genomes_meta.csv', 'start_time': '2021-02-24T00:29:17.163Z[UTC]', 'end_time': '2021-02-24T00:33:09.012Z[UTC]', 'stdout': 'https://workspaces-wes.prod.dnastack.com/ga4gh/wes/v1/runs/48749bf2-9d73-447f-8c7e-977229270578/logs/task/gwas.parse_metadata/0/stdout', 'stderr': 'https://workspaces-wes.prod.dnastack.com/ga4gh/wes/v1/runs/48749bf2-9d73-447f-8c7e-977229270578/logs/task/gwas.parse_metadata/0/stderr', 'exit_code': 0}, {'name': 'gwas.create_plot', 'cmd': 'manhattan_plot.py \\\\\\n\\t-i /cromwell_root/workspaces-cromwell-execution/gwas/48749bf2-9d73-447f-8c7e-977229270578/call-run_gwas/CCDG_13607_B01_GRM_WGS_2019-02-19_chr21.recalibrated_variants.assoc.logistic \\\\\\n\\t-o CCDG_13607_B01_GRM_WGS_2019-02-19_chr21.recalibrated_variants.png', 'start_time': '2021-02-24T00:50:36.011Z[UTC]', 'end_time': '2021-02-24T00:55:09.026Z[UTC]', 'stdout': 'https://workspaces-wes.prod.dnastack.com/ga4gh/wes/v1/runs/48749bf2-9d73-447f-8c7e-977229270578/logs/task/gwas.create_plot/0/stdout', 'stderr': 'https://workspaces-wes.prod.dnastack.com/ga4gh/wes/v1/runs/48749bf2-9d73-447f-8c7e-977229270578/logs/task/gwas.create_plot/0/stderr', 'exit_code': 0}, {'name': 'gwas.run_gwas', 'cmd': \"plink \\\\\\n\\t--vcf /cromwell_root/fc-56ac46ea-efc4-4683-b6d5-6d95bed41c5e/CCDG_13607/Project_CCDG_13607_B01_GRM_WGS.JGVariants.2019-04-04/CCDG_13607_B01_GRM_WGS_2019-02-19_chr21.recalibrated_variants.vcf.gz \\\\\\n\\t--maf 0.10 \\\\\\n\\t--update-ids /cromwell_root/workspaces-cromwell-execution/gwas/48749bf2-9d73-447f-8c7e-977229270578/call-parse_metadata/ids.txt \\\\\\n\\t--make-bed \\\\\\n\\t--out CCDG_13607_B01_GRM_WGS_2019-02-19_chr21.recalibrated_variants\\n\\nplink \\\\\\n\\t--bfile CCDG_13607_B01_GRM_WGS_2019-02-19_chr21.recalibrated_variants \\\\\\n\\t--update-sex /cromwell_root/workspaces-cromwell-execution/gwas/48749bf2-9d73-447f-8c7e-977229270578/call-parse_metadata/sex.txt \\\\\\n\\t--pheno /cromwell_root/workspaces-cromwell-execution/gwas/48749bf2-9d73-447f-8c7e-977229270578/call-parse_metadata/phenotypes.txt \\\\\\n\\t--make-bed \\\\\\n\\t--out CCDG_13607_B01_GRM_WGS_2019-02-19_chr21.recalibrated_variants\\n\\n# Recode covariates to binary\\nplink \\\\\\n\\t--bfile CCDG_13607_B01_GRM_WGS_2019-02-19_chr21.recalibrated_variants \\\\\\n\\t--covar /cromwell_root/workspaces-cromwell-execution/gwas/48749bf2-9d73-447f-8c7e-977229270578/call-parse_metadata/covariates.txt \\\\\\n\\t--dummy-coding \\\\\\n\\t--write-covar\\n\\nplink \\\\\\n\\t--bfile CCDG_13607_B01_GRM_WGS_2019-02-19_chr21.recalibrated_variants \\\\\\n\\t--logistic \\\\\\n\\t--covar plink.cov \\\\\\n\\t--out CCDG_13607_B01_GRM_WGS_2019-02-19_chr21.recalibrated_variants\\n\\nsed -i -e 's/\\\\s\\\\+/,/g' -e 's/^,//g' -e 's/,$//g' CCDG_13607_B01_GRM_WGS_2019-02-19_chr21.recalibrated_variants.assoc.logistic\", 'start_time': '2021-02-24T00:33:10.721Z[UTC]', 'end_time': '2021-02-24T00:50:34.010Z[UTC]', 'stdout': 'https://workspaces-wes.prod.dnastack.com/ga4gh/wes/v1/runs/48749bf2-9d73-447f-8c7e-977229270578/logs/task/gwas.run_gwas/0/stdout', 'stderr': 'https://workspaces-wes.prod.dnastack.com/ga4gh/wes/v1/runs/48749bf2-9d73-447f-8c7e-977229270578/logs/task/gwas.run_gwas/0/stderr', 'exit_code': 0}], 'outputs': {'gwas.manhattan_plot': 'gs://workspaces-cromwell-execution/gwas/48749bf2-9d73-447f-8c7e-977229270578/call-create_plot/CCDG_13607_B01_GRM_WGS_2019-02-19_chr21.recalibrated_variants.png', 'gwas.logistic': 'gs://workspaces-cromwell-execution/gwas/48749bf2-9d73-447f-8c7e-977229270578/call-run_gwas/CCDG_13607_B01_GRM_WGS_2019-02-19_chr21.recalibrated_variants.assoc.logistic'}}\n",
      "48749bf2-9d73-447f-8c7e-977229270578\n",
      "COMPLETE\n",
      "{'gwas.manhattan_plot': 'gs://workspaces-cromwell-execution/gwas/48749bf2-9d73-447f-8c7e-977229270578/call-create_plot/CCDG_13607_B01_GRM_WGS_2019-02-19_chr21.recalibrated_variants.png', 'gwas.logistic': 'gs://workspaces-cromwell-execution/gwas/48749bf2-9d73-447f-8c7e-977229270578/call-run_gwas/CCDG_13607_B01_GRM_WGS_2019-02-19_chr21.recalibrated_variants.assoc.logistic'}\n"
     ]
    }
   ],
   "source": [
    "getMinimalRunLog(wesClient, '48749bf2-9d73-447f-8c7e-977229270578')"
   ]
  },
  {
   "cell_type": "code",
   "execution_count": 9,
   "metadata": {},
   "outputs": [
    {
     "data": {
      "text/plain": [
       "{'run_id': '37589a82-536f-4b13-9199-7589d86884b2',\n",
       " 'request': {'workflow_params': {'md5Sum.inputFile': 'https://storage.googleapis.com/genomics-public-data/ftp-trace.ncbi.nih.gov/1000genomes/ftp/phase3/data/HG00556/exome_alignment/HG00556.mapped.ILLUMINA.bwa.CHS.exome.20121211.bam'},\n",
       "  'workflow': 'WDL',\n",
       "  'tags': {'user_id': 'ian-fore-fasp-client',\n",
       "   'cromwell-workflow-id': 'cromwell-37589a82-536f-4b13-9199-7589d86884b2'},\n",
       "  'workflow_engine_parameters': {'workflow_root': 'gs://workspaces-cromwell-execution/md5Sum/37589a82-536f-4b13-9199-7589d86884b2/'},\n",
       "  'workflow_url': 'checksum.wdl'},\n",
       " 'state': 'COMPLETE',\n",
       " 'run_log': {'name': 'md5Sum',\n",
       "  'start_time': '2021-02-24T03:09:43.996Z[UTC]',\n",
       "  'end_time': '2021-02-24T03:17:41.353Z[UTC]'},\n",
       " 'task_logs': [{'name': 'md5Sum.calculateMd5Sum',\n",
       "   'cmd': \"gsutil hash -m /cromwell_root/storage.googleapis.com/genomics-public-data/ftp-trace.ncbi.nih.gov/1000genomes/ftp/phase3/data/HG00556/exome_alignment/HG00556.mapped.ILLUMINA.bwa.CHS.exome.20121211.bam | grep -E 'Hash \\\\(md5\\\\):\\\\s' | cut -f4 > output.md5\",\n",
       "   'start_time': '2021-02-24T03:09:46.113Z[UTC]',\n",
       "   'end_time': '2021-02-24T03:17:40.023Z[UTC]',\n",
       "   'stdout': 'https://workspaces-wes.prod.dnastack.com/ga4gh/wes/v1/runs/37589a82-536f-4b13-9199-7589d86884b2/logs/task/md5Sum.calculateMd5Sum/0/stdout',\n",
       "   'stderr': 'https://workspaces-wes.prod.dnastack.com/ga4gh/wes/v1/runs/37589a82-536f-4b13-9199-7589d86884b2/logs/task/md5Sum.calculateMd5Sum/0/stderr',\n",
       "   'exit_code': 0}],\n",
       " 'outputs': {'md5Sum.md5': 'qFYc+Q2Tj9zYUif52Gw+MA=='}}"
      ]
     },
     "execution_count": 9,
     "metadata": {},
     "output_type": "execute_result"
    }
   ],
   "source": [
    "run_id = '37589a82-536f-4b13-9199-7589d86884b2'\n",
    "#rundetails = wesClient.getOutputs(run_id)\n",
    "\n",
    "rundetails = wesClient.GetRunLog(run_id)\n",
    "\n",
    "rundetails"
   ]
  },
  {
   "cell_type": "markdown",
   "metadata": {},
   "source": [
    "In this case the run has produced some output files which look promising. How we access those files is still an open question. See discussion elsewhere about whether a companion DRS server, or even a DRS server accessed via the WES server and accessed under the same credentials would be a useful addition to WES."
   ]
  }
 ],
 "metadata": {
  "kernelspec": {
   "display_name": "Python 3",
   "language": "python",
   "name": "python3"
  },
  "language_info": {
   "codemirror_mode": {
    "name": "ipython",
    "version": 3
   },
   "file_extension": ".py",
   "mimetype": "text/x-python",
   "name": "python",
   "nbconvert_exporter": "python",
   "pygments_lexer": "ipython3",
   "version": "3.7.3"
  }
 },
 "nbformat": 4,
 "nbformat_minor": 4
}
