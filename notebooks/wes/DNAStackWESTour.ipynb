{
 "cells": [
  {
   "cell_type": "markdown",
   "metadata": {},
   "source": [
    "##  A tour of using the revised DNAStack WES Server\n",
    "\n",
    "This will work with Thousand Genomes bam files. Even though the Thousand Genomes bam files are publically available care was taken in the following not to show the whole contents of the run details returned by the WES server. The response contains signed URLs. In other cases that would allow access to controlled access data - albeit for a limited time.\n",
    "\n",
    "This function shows some details of the run, but not the possibly sensitive stuff."
   ]
  },
  {
   "cell_type": "code",
   "execution_count": 5,
   "metadata": {},
   "outputs": [],
   "source": [
    "def getMinimalRunLog(wesClient, run_id):\n",
    "    rundetails = wesClient.GetRunLog(run_id)\n",
    "    print(rundetails['run_id'])\n",
    "    print(rundetails['state'])\n",
    "    print(rundetails['outputs'])"
   ]
  },
  {
   "cell_type": "markdown",
   "metadata": {},
   "source": [
    "We can now use that function to minimal details of a run submitted via FASPScript4.py. That script submits a workflow to run an MD5 checksum on a Thousand Genomes bam file. It's output should just be that checksum."
   ]
  },
  {
   "cell_type": "code",
   "execution_count": 11,
   "metadata": {},
   "outputs": [
    {
     "name": "stdout",
     "output_type": "stream",
     "text": [
      "523abb68-44bd-4040-b7b0-bfc2164f8917\n",
      "COMPLETE\n",
      "{'md5Sum.md5': ''}\n"
     ]
    }
   ],
   "source": [
    "from fasp.workflow import DNAStackWESClient\n",
    "wesClient = DNAStackWESClient('~/.keys/dnastack_wes_credentials.json')\n",
    "run_id = '523abb68-44bd-4040-b7b0-bfc2164f8917'\n",
    "getMinimalRunLog(wesClient, run_id)"
   ]
  },
  {
   "cell_type": "markdown",
   "metadata": {},
   "source": [
    "That indicates an empty response. Though the task appeared to complete successfully we have no result. How can we check what happened? Links to stdout and stderr are available in the response."
   ]
  },
  {
   "cell_type": "code",
   "execution_count": 8,
   "metadata": {},
   "outputs": [
    {
     "name": "stdout",
     "output_type": "stream",
     "text": [
      "stdout is at https://workspaces-wes.prod.dnastack.com/ga4gh/wes/v1/runs/523abb68-44bd-4040-b7b0-bfc2164f8917/logs/task/md5Sum.calculateMd5Sum/0/stdout\n",
      "\n",
      "stderr is at https://workspaces-wes.prod.dnastack.com/ga4gh/wes/v1/runs/523abb68-44bd-4040-b7b0-bfc2164f8917/logs/task/md5Sum.calculateMd5Sum/0/stderr\n",
      "\n"
     ]
    }
   ],
   "source": [
    "rundetails = wesClient.GetRunLog(run_id)\n",
    "log = rundetails['task_logs'][0]\n",
    "for stdx in ['stdout','stderr']:\n",
    "    print('{} is at {}\\n'.format(stdx, log[stdx]))\n"
   ]
  },
  {
   "cell_type": "markdown",
   "metadata": {},
   "source": [
    "Following those links downloads empty files. That is the same as the previous version of the server. It was suggested that DRS would be a suitable way to make the files available.\n",
    "\n",
    "The absence of the files means we don't have access to information that would be useful for troubleshooting. The guess is that it is the same problem as previously.\n",
    "\n",
    "Trying another workflow. \n",
    "\n",
    "The function runGWASWorkflowTest encapsulates the GWAS Workflow from the 2020 GA4GH Plenary. It runs it on files accessed via Google Cloud URIs rather than DRS. This lets us check a known workflow."
   ]
  },
  {
   "cell_type": "code",
   "execution_count": 9,
   "metadata": {},
   "outputs": [
    {
     "data": {
      "text/plain": [
       "'eaf4ff6a-e229-47b9-9e4c-558dbb2c16be'"
      ]
     },
     "execution_count": 9,
     "metadata": {},
     "output_type": "execute_result"
    }
   ],
   "source": [
    "wesClient.runGWASWorkflowTest()"
   ]
  },
  {
   "cell_type": "code",
   "execution_count": 12,
   "metadata": {},
   "outputs": [
    {
     "name": "stdout",
     "output_type": "stream",
     "text": [
      "eaf4ff6a-e229-47b9-9e4c-558dbb2c16be\n",
      "RUNNING\n",
      "{}\n"
     ]
    }
   ],
   "source": [
    "getMinimalRunLog(wesClient, 'eaf4ff6a-e229-47b9-9e4c-558dbb2c16be')"
   ]
  },
  {
   "cell_type": "markdown",
   "metadata": {},
   "source": [
    "In this case the run has produced some output files which look promising. How we access those files is still an open question. See discussion elsewhere about whether a companion DRS server, or even a DRS server accessed via the WES server and accessed under the same credentials would be a useful addition to WES."
   ]
  }
 ],
 "metadata": {
  "kernelspec": {
   "display_name": "Python 3",
   "language": "python",
   "name": "python3"
  },
  "language_info": {
   "codemirror_mode": {
    "name": "ipython",
    "version": 3
   },
   "file_extension": ".py",
   "mimetype": "text/x-python",
   "name": "python",
   "nbconvert_exporter": "python",
   "pygments_lexer": "ipython3",
   "version": "3.7.3"
  }
 },
 "nbformat": 4,
 "nbformat_minor": 4
}
