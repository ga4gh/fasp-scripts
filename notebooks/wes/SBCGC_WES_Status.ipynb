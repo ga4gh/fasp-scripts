{
 "cells": [
  {
   "cell_type": "markdown",
   "metadata": {},
   "source": [
    "## Checking status and getting results via DRS\n",
    "\n"
   ]
  },
  {
   "cell_type": "code",
   "execution_count": 38,
   "metadata": {},
   "outputs": [],
   "source": [
    "#from fasp.workflow import sbWESClient\n",
    "from fasp.workflow import sbcgcWESClient\n",
    "\n",
    "cl = sbcgcWESClient('forei/gecco')"
   ]
  },
  {
   "cell_type": "markdown",
   "metadata": {},
   "source": [
    "The above instantiates a client for the SevenBridges Cancer Genomics Cloud (CGC ). \n",
    "\n",
    "### Checking a previous run\n",
    "The getTaskStatus function below is simply a wrapper around https://cgc-ga4gh-api.sbgenomics.com/ga4gh/wes/v1/runs/{run_id} which deals with authentication, passing and retrieving the request."
   ]
  },
  {
   "cell_type": "code",
   "execution_count": 41,
   "metadata": {},
   "outputs": [
    {
     "name": "stdout",
     "output_type": "stream",
     "text": [
      "Get request sent to: https://cgc-ga4gh-api.sbgenomics.com/ga4gh/wes/v1/runs/4d796341-87c4-4cbc-b7fe-5f7cf2510161\n",
      "{\n",
      "  \"request\": {\n",
      "    \"tags\": {},\n",
      "    \"workflow_params\": {\n",
      "      \"name\": \"SAMtools Stats 1.8 run - 02-04-21 12:39:44\",\n",
      "      \"project\": \"forei/gecco\",\n",
      "      \"inputs\": {\n",
      "        \"total_memory_GB\": null,\n",
      "        \"coverage_limit\": null,\n",
      "        \"include_only_read_group\": null,\n",
      "        \"remove_duplicates\": null,\n",
      "        \"max_insert_size\": null,\n",
      "        \"reference_file\": {\n",
      "          \"path\": \"drs://cgc-ga4gh-api.sbgenomics.com/5bad6c83e4b0abc138917143\",\n",
      "          \"name\": \"references-hs37d5-hs37d5.fasta\",\n",
      "          \"class\": \"File\"\n",
      "        },\n",
      "        \"output_file_path\": \"COPDGene_N95128.txt\",\n",
      "        \"alignment_file_url\": \"https://storage.googleapis.com/topmed-irc-share/genomes/NWD224269.b38.irc.v1.cram?GoogleAccessId=forei-968@dcpstage-210518.iam.gserviceaccount.com&Expires=1612445983&Signature=pdei8vSrVhAXDqLMAQrGL6nzZh3G5zYOWxq%2B3%2Fsv4eyy8LCK1Cb%2FiobHJGObhmpubuUwLJYAE3pWAeChwtpNmmecGnyb%2BWbcWwMhrazUWXzvIuYojdEHqIhmogRVRLLMW3oYLq%2BQaXXQQzu1F9yCEYk6UojJro88dRAVVLRSlqhqS%2F9KtSMf8%2FPQgjPIJP69mUJoJM3x0pQC3rz7uyEGRuX57eJJnqaUacG7wgef7C%2FVz6sNdY23aoDGISMKg51%2BKxsIq6fPGBD6dRPk8kvQWzt9fYQdFLs7gqqhaUUjPaVgRsujMS025c0BiuSr2IqzgIlMT8D2KC10diOMBxbthA==&userProject=dcpstage-billing\"\n",
      "      }\n",
      "    },\n",
      "    \"workflow_type\": \"CWL\",\n",
      "    \"workflow_engine_params\": {},\n",
      "    \"workflow_url\": \"sbg://forei/gecco/samtools-stats-1-8-url\"\n",
      "  },\n",
      "  \"state\": \"COMPLETE\",\n",
      "  \"outputs\": {\n",
      "    \"statistics\": {\n",
      "      \"path\": \"drs://cgc-ga4gh-api.sbgenomics.com/601bff910a9d98531cd03715\",\n",
      "      \"name\": \"_3_COPDGene_N95128.txt\",\n",
      "      \"class\": \"File\"\n",
      "    }\n",
      "  },\n",
      "  \"run_id\": \"4d796341-87c4-4cbc-b7fe-5f7cf2510161\",\n",
      "  \"run_log\": {\n",
      "    \"name\": \"SAMtools Stats 1.8 run - 02-04-21 12:39:44\",\n",
      "    \"cmd\": null,\n",
      "    \"start_time\": \"2021-02-04T12:39:44Z\",\n",
      "    \"end_time\": \"2021-02-04T14:07:14Z\",\n",
      "    \"stdout\": null,\n",
      "    \"stderr\": null,\n",
      "    \"exit_code\": 0\n",
      "  },\n",
      "  \"task_logs\": [\n",
      "    {\n",
      "      \"name\": \"samtools-stats-1-8-url\",\n",
      "      \"cmd\": \"/opt/samtools-1.8/samtools stats --reference /sbgenomics/Projects/d79e71c3-242f-4825-aae2-47b887466f6a/references-hs37d5-hs37d5.fasta \\\"https://storage.googleapis.com/topmed-irc-share/genomes/NWD224269.b38.irc.v1.cram?GoogleAccessId=forei-968@dcpstage-210518.iam.gserviceaccount.com&Expires=1612445983&Signature=pdei8vSrVhAXDqLMAQrGL6nzZh3G5zYOWxq%2B3%2Fsv4eyy8LCK1Cb%2FiobHJGObhmpubuUwLJYAE3pWAeChwtpNmmecGnyb%2BWbcWwMhrazUWXzvIuYojdEHqIhmogRVRLLMW3oYLq%2BQaXXQQzu1F9yCEYk6UojJro88dRAVVLRSlqhqS%2F9KtSMf8%2FPQgjPIJP69mUJoJM3x0pQC3rz7uyEGRuX57eJJnqaUacG7wgef7C%2FVz6sNdY23aoDGISMKg51%2BKxsIq6fPGBD6dRPk8kvQWzt9fYQdFLs7gqqhaUUjPaVgRsujMS025c0BiuSr2IqzgIlMT8D2KC10diOMBxbthA==&userProject=dcpstage-billing\\\" > COPDGene_N95128.txt\",\n",
      "      \"start_time\": \"2021-02-04T12:41:39Z\",\n",
      "      \"end_time\": \"2021-02-04T14:07:11Z\",\n",
      "      \"stdout\": \"drs://cgc-ga4gh-api.sbgenomics.com/601bff8d0a9d98531cd03707\",\n",
      "      \"stderr\": \"drs://cgc-ga4gh-api.sbgenomics.com/601bff8d0a9d98531cd03707\",\n",
      "      \"exit_code\": 0\n",
      "    }\n",
      "  ]\n",
      "}\n"
     ]
    },
    {
     "data": {
      "text/plain": [
       "'COMPLETE'"
      ]
     },
     "execution_count": 41,
     "metadata": {},
     "output_type": "execute_result"
    }
   ],
   "source": [
    "run_id = '4d796341-87c4-4cbc-b7fe-5f7cf2510161'\n",
    "cl.getTaskStatus(run_id, verbose=True)"
   ]
  },
  {
   "cell_type": "code",
   "execution_count": 43,
   "metadata": {},
   "outputs": [
    {
     "data": {
      "text/plain": [
       "'COMPLETE'"
      ]
     },
     "execution_count": 43,
     "metadata": {},
     "output_type": "execute_result"
    }
   ],
   "source": [
    "cl.getTaskStatus(run_id)"
   ]
  },
  {
   "cell_type": "markdown",
   "metadata": {},
   "source": [
    "## Getting the results - via DRS\n",
    "Once the run is complete, further steps can use DRS to obtain the file output from the workflow."
   ]
  },
  {
   "cell_type": "code",
   "execution_count": 44,
   "metadata": {},
   "outputs": [
    {
     "data": {
      "text/plain": [
       "{'statistics': {'path': 'drs://cgc-ga4gh-api.sbgenomics.com/601bff910a9d98531cd03715',\n",
       "  'name': '_3_COPDGene_N95128.txt',\n",
       "  'class': 'File'}}"
      ]
     },
     "execution_count": 44,
     "metadata": {},
     "output_type": "execute_result"
    }
   ],
   "source": [
    "runLog = cl.GetRunLog(run_id)\n",
    "runLog['outputs']"
   ]
  },
  {
   "cell_type": "code",
   "execution_count": 45,
   "metadata": {},
   "outputs": [
    {
     "data": {
      "text/plain": [
       "'drs://cgc-ga4gh-api.sbgenomics.com/601bff910a9d98531cd03715'"
      ]
     },
     "execution_count": 45,
     "metadata": {},
     "output_type": "execute_result"
    }
   ],
   "source": [
    "resultsDRSID = runLog['outputs']['statistics']['path']\n",
    "resultsDRSID"
   ]
  },
  {
   "cell_type": "markdown",
   "metadata": {},
   "source": [
    "### DRS GetObject\n",
    "Here's how we then get details of the file. Note that here only the id portion of the DRS URI is being passed. \n"
   ]
  },
  {
   "cell_type": "code",
   "execution_count": 46,
   "metadata": {},
   "outputs": [
    {
     "name": "stdout",
     "output_type": "stream",
     "text": [
      "Searching the GA4GH registry for org.ga4gh:drs services\n",
      "id:601bff910a9d98531cd03715\n",
      "sending to: sbcgcDRSClient\n"
     ]
    },
    {
     "data": {
      "text/plain": [
       "{'id': '601bff910a9d98531cd03715',\n",
       " 'name': '_3_COPDGene_N95128.txt',\n",
       " 'size': 113472,\n",
       " 'checksums': [{'type': 'etag',\n",
       "   'checksum': '8ac7477b148bc880ce74091ad69d5ef6-1'}],\n",
       " 'self_uri': 'drs://cgc-ga4gh-api.sbgenomics.com/601bff910a9d98531cd03715',\n",
       " 'created_time': '2021-02-04T14:07:13Z',\n",
       " 'updated_time': '2021-02-04T14:07:13Z',\n",
       " 'mime_type': 'application/json',\n",
       " 'access_methods': [{'type': 's3',\n",
       "   'region': 'us-east-1',\n",
       "   'access_id': 'aws-us-east-1'}]}"
      ]
     },
     "execution_count": 46,
     "metadata": {},
     "output_type": "execute_result"
    }
   ],
   "source": [
    "from fasp.loc import DRSMetaResolver\n",
    "mr = DRSMetaResolver()\n",
    "fileDetails = mr.getObject2(resultsDRSID)\n",
    "fileDetails"
   ]
  },
  {
   "cell_type": "code",
   "execution_count": 47,
   "metadata": {},
   "outputs": [],
   "source": [
    "url = mr.getAccessURL2(resultsDRSID,'s3')"
   ]
  },
  {
   "cell_type": "markdown",
   "metadata": {},
   "source": [
    "### Downloading the file\n",
    "Now we can use the url obtained to download the file. We'll create a small function to encapsulate the download."
   ]
  },
  {
   "cell_type": "code",
   "execution_count": 48,
   "metadata": {},
   "outputs": [],
   "source": [
    "import requests\n",
    "import os\n",
    "def download(url, file_path):\n",
    "    with open(os.path.expanduser(file_path), \"wb\") as file:\n",
    "        response = requests.get(url)\n",
    "        file.write(response.content)"
   ]
  },
  {
   "cell_type": "code",
   "execution_count": 49,
   "metadata": {},
   "outputs": [],
   "source": [
    "fullPath = '~/Downloads/' + fileDetails['name']\n",
    "download(url, fullPath)"
   ]
  },
  {
   "cell_type": "code",
   "execution_count": null,
   "metadata": {},
   "outputs": [],
   "source": []
  }
 ],
 "metadata": {
  "kernelspec": {
   "display_name": "Python 3",
   "language": "python",
   "name": "python3"
  },
  "language_info": {
   "codemirror_mode": {
    "name": "ipython",
    "version": 3
   },
   "file_extension": ".py",
   "mimetype": "text/x-python",
   "name": "python",
   "nbconvert_exporter": "python",
   "pygments_lexer": "ipython3",
   "version": "3.7.3"
  }
 },
 "nbformat": 4,
 "nbformat_minor": 4
}
