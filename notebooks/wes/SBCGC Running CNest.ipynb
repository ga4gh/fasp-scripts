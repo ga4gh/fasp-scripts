{
 "cells": [
  {
   "cell_type": "markdown",
   "metadata": {},
   "source": [
    "## Running a Workflow on a Seven Bridges WES server\n",
    "I'm setting out to use the SevenBridges WES client to run samtools stats on a cram file. The instructions described here https://docs.cancergenomicscloud.org/docs/run-a-workflow are the starting point for how to do this.\n"
   ]
  },
  {
   "cell_type": "code",
   "execution_count": 7,
   "metadata": {},
   "outputs": [],
   "source": [
    "#from fasp.workflow import sbWESClient\n",
    "from fasp.workflow import sbcgcWESClient\n",
    "\n",
    "cl = sbcgcWESClient('forei/CNest', debug=True)"
   ]
  },
  {
   "cell_type": "markdown",
   "metadata": {},
   "source": [
    "The above instantiates a client for the SevenBridges Cancer Genomics Cloud (CGC ). \n",
    "\n",
    "### Checking a previous run\n",
    "For information we'll first use the client to get the details of a task that was run from the CGC user interface\n",
    "The getTaskStatus function below is simply a wrapper around https://cgc-ga4gh-api.sbgenomics.com/ga4gh/wes/v1/runs/{run_id} which deals with authentication, passing and retrieving the request. That  gives some clues about how to fill out a request to submit the same task via WES instead of the UI.\n",
    "\n",
    "It's worth noting that though DRS was not used at all to create the task within the UI the file paths in the WES response do use a DRS notation for them."
   ]
  },
  {
   "cell_type": "code",
   "execution_count": 3,
   "metadata": {},
   "outputs": [
    {
     "name": "stdout",
     "output_type": "stream",
     "text": [
      "Get request sent to: https://cgc-ga4gh-api.sbgenomics.com/ga4gh/wes/v1/runs/266de7e2-613f-4545-9dec-67fe89fc43b8\n",
      "{\n",
      "  \"request\": {\n",
      "    \"tags\": {},\n",
      "    \"workflow_params\": {\n",
      "      \"name\": \"cnest-step1 run - 05-12-22 15:11:14\",\n",
      "      \"project\": \"forei/cnest\",\n",
      "      \"inputs\": {\n",
      "        \"bed\": {\n",
      "          \"path\": \"drs://cgc-ga4gh-api.sbgenomics.com/626bfb1bf26c93517368984e\",\n",
      "          \"basename\": \"hg38.1kb.baits.bed\",\n",
      "          \"nameext\": \".bed\",\n",
      "          \"class\": \"File\",\n",
      "          \"nameroot\": \"hg38.1kb.baits\"\n",
      "        },\n",
      "        \"project\": \"test_proj10\"\n",
      "      }\n",
      "    },\n",
      "    \"workflow_type\": \"CWL\",\n",
      "    \"workflow_engine_params\": {}\n",
      "  },\n",
      "  \"state\": \"COMPLETE\",\n",
      "  \"outputs\": {\n",
      "    \"output\": {\n",
      "      \"path\": \"drs://cgc-ga4gh-api.sbgenomics.com/627d244df26c935173c4201c\",\n",
      "      \"basename\": \"test_proj10\",\n",
      "      \"class\": \"File\",\n",
      "      \"nameroot\": \"test_proj10\"\n",
      "    }\n",
      "  },\n",
      "  \"run_id\": \"266de7e2-613f-4545-9dec-67fe89fc43b8\",\n",
      "  \"run_log\": {\n",
      "    \"name\": \"cnest-step1 run - 05-12-22 15:11:14\",\n",
      "    \"cmd\": null,\n",
      "    \"start_time\": \"2022-05-12T15:11:52Z\",\n",
      "    \"end_time\": \"2022-05-12T15:14:22Z\",\n",
      "    \"stdout\": null,\n",
      "    \"stderr\": null,\n",
      "    \"exit_code\": 0\n",
      "  },\n",
      "  \"task_logs\": [\n",
      "    {\n",
      "      \"name\": \"cnest-step1\",\n",
      "      \"cmd\": \"python3.8 /resources/cnest.py step1 --bed /sbgenomics/Projects/555d1ef7-e777-4ba7-b169-f581486044fb/hg38.1kb.baits.bed --project test_proj10\",\n",
      "      \"start_time\": \"2022-05-12T15:14:02Z\",\n",
      "      \"end_time\": \"2022-05-12T15:14:17Z\",\n",
      "      \"stdout\": \"drs://cgc-ga4gh-api.sbgenomics.com/627d2448f26c935173c41fe0\",\n",
      "      \"stderr\": \"drs://cgc-ga4gh-api.sbgenomics.com/627d2448f26c935173c41fe0\",\n",
      "      \"exit_code\": 0\n",
      "    }\n",
      "  ]\n",
      "}\n"
     ]
    },
    {
     "data": {
      "text/plain": [
       "'COMPLETE'"
      ]
     },
     "execution_count": 3,
     "metadata": {},
     "output_type": "execute_result"
    }
   ],
   "source": [
    "cl.getTaskStatus('266de7e2-613f-4545-9dec-67fe89fc43b8', verbose=True)"
   ]
  },
  {
   "cell_type": "markdown",
   "metadata": {},
   "source": [
    "### CNest Step 1 via WES\n",
    "Reverse engineering what we can see above we can run CNest via WES as follows:"
   ]
  },
  {
   "cell_type": "code",
   "execution_count": 5,
   "metadata": {},
   "outputs": [],
   "source": [
    "params = {\n",
    "    \"project\": \"forei/cnest\",\n",
    "        \"inputs\": {\n",
    "        \"bed\": {\n",
    "          \"path\": \"drs://cgc-ga4gh-api.sbgenomics.com/626bfb1bf26c93517368984e\",\n",
    "          \"name\": \"hg38.1kb.baits.bed\",\n",
    "          \"class\": \"File\"\n",
    "        },\n",
    "        \"project\": \"test_proj\"\n",
    "      }\n",
    " \n",
    "    }\n"
   ]
  },
  {
   "cell_type": "markdown",
   "metadata": {},
   "source": [
    "Now we have formulated the body in the way that it can be passed to a client function as follows."
   ]
  },
  {
   "cell_type": "code",
   "execution_count": 6,
   "metadata": {},
   "outputs": [
    {
     "data": {
      "text/plain": [
       "'1c344a90-0e97-4309-baeb-1b367a4098af'"
      ]
     },
     "execution_count": 6,
     "metadata": {},
     "output_type": "execute_result"
    }
   ],
   "source": [
    "import json\n",
    "run_id= cl.runGenericWorkflow(\n",
    "    workflow_url='sbg://forei/cnest/cnest-step1',\n",
    "    workflow_params = json.dumps(params),\n",
    "    workflow_type = \"CWL\",\n",
    "    workflow_type_version = \"v1.1\",\n",
    "    verbose=False\n",
    ")\n",
    "run_id"
   ]
  },
  {
   "cell_type": "code",
   "execution_count": 11,
   "metadata": {},
   "outputs": [
    {
     "data": {
      "text/plain": [
       "'QUEUED'"
      ]
     },
     "execution_count": 11,
     "metadata": {},
     "output_type": "execute_result"
    }
   ],
   "source": [
    "cl.getTaskStatus(run_id)"
   ]
  },
  {
   "cell_type": "markdown",
   "metadata": {},
   "source": [
    "### Running Step 2\n",
    "Get the details of the manual run of step 2"
   ]
  },
  {
   "cell_type": "code",
   "execution_count": 8,
   "metadata": {},
   "outputs": [
    {
     "name": "stdout",
     "output_type": "stream",
     "text": [
      "Get request sent to: https://cgc-ga4gh-api.sbgenomics.com/ga4gh/wes/v1/runs/84904f51-04a0-426d-850d-9fb0f1b0b331\n",
      "{\n",
      "  \"request\": {\n",
      "    \"tags\": {},\n",
      "    \"workflow_params\": {\n",
      "      \"name\": \"CNest step2 run - 05-08-22 21:38:11\",\n",
      "      \"project\": \"forei/cnest\",\n",
      "      \"inputs\": {\n",
      "        \"index_txt\": {\n",
      "          \"path\": \"drs://cgc-ga4gh-api.sbgenomics.com/627653faf26c9351737f92ac\",\n",
      "          \"name\": \"index.txt\",\n",
      "          \"class\": \"File\"\n",
      "        },\n",
      "        \"index_bed\": {\n",
      "          \"path\": \"drs://cgc-ga4gh-api.sbgenomics.com/627653faf26c9351737f92ae\",\n",
      "          \"name\": \"index.bed\",\n",
      "          \"class\": \"File\"\n",
      "        },\n",
      "        \"project\": \"test_proj\",\n",
      "        \"index_tab\": {\n",
      "          \"path\": \"drs://cgc-ga4gh-api.sbgenomics.com/627653faf26c9351737f92af\",\n",
      "          \"name\": \"index_tab.txt\",\n",
      "          \"class\": \"File\"\n",
      "        },\n",
      "        \"sample\": \"test_bam2\",\n",
      "        \"bam\": {\n",
      "          \"path\": \"drs://cgc-ga4gh-api.sbgenomics.com/6272e873d125a52cff9b0247\",\n",
      "          \"name\": \"TCGA-3X-AAVA-01A-11R-A41D-13_mirna_gdc_realn.bam\",\n",
      "          \"secondaryFiles\": [\n",
      "            {\n",
      "              \"path\": \"drs://cgc-ga4gh-api.sbgenomics.com/6272ec5df26c93517378730b\",\n",
      "              \"name\": \"TCGA-3X-AAVA-01A-11R-A41D-13_mirna_gdc_realn.bam.bai\",\n",
      "              \"class\": \"File\"\n",
      "            }\n",
      "          ],\n",
      "          \"class\": \"File\"\n",
      "        }\n",
      "      }\n",
      "    },\n",
      "    \"workflow_type\": \"CWL\",\n",
      "    \"workflow_engine_params\": {}\n",
      "  },\n",
      "  \"state\": \"COMPLETE\",\n",
      "  \"outputs\": {\n",
      "    \"output\": {\n",
      "      \"path\": \"drs://cgc-ga4gh-api.sbgenomics.com/62783a6af26c93517381162b\",\n",
      "      \"name\": \"test_bam2\",\n",
      "      \"class\": \"File\"\n",
      "    },\n",
      "    \"testfile\": {\n",
      "      \"path\": \"drs://cgc-ga4gh-api.sbgenomics.com/62783a6af26c93517381162d\",\n",
      "      \"name\": \"_4_testcmds.txt\",\n",
      "      \"class\": \"File\"\n",
      "    }\n",
      "  },\n",
      "  \"run_id\": \"84904f51-04a0-426d-850d-9fb0f1b0b331\",\n",
      "  \"run_log\": {\n",
      "    \"name\": \"CNest step2 run - 05-08-22 21:38:11\",\n",
      "    \"cmd\": null,\n",
      "    \"start_time\": \"2022-05-08T21:39:27Z\",\n",
      "    \"end_time\": \"2022-05-08T21:47:22Z\",\n",
      "    \"stdout\": null,\n",
      "    \"stderr\": null,\n",
      "    \"exit_code\": 0\n",
      "  },\n",
      "  \"task_logs\": [\n",
      "    {\n",
      "      \"name\": \"cnest-step2\",\n",
      "      \"cmd\": \"python3.8 /resources/cnest.py step2 --input /sbgenomics/Projects/555d1ef7-e777-4ba7-b169-f581486044fb/TCGA-3X-AAVA-01A-11R-A41D-13_mirna_gdc_realn.bam --project test_proj --sample test_bam2\",\n",
      "      \"start_time\": \"2022-05-08T21:41:23Z\",\n",
      "      \"end_time\": \"2022-05-08T21:47:18Z\",\n",
      "      \"stdout\": \"drs://cgc-ga4gh-api.sbgenomics.com/62783a64f26c935173811617\",\n",
      "      \"stderr\": \"drs://cgc-ga4gh-api.sbgenomics.com/62783a64f26c935173811617\",\n",
      "      \"exit_code\": 0\n",
      "    }\n",
      "  ]\n",
      "}\n"
     ]
    },
    {
     "data": {
      "text/plain": [
       "'COMPLETE'"
      ]
     },
     "execution_count": 8,
     "metadata": {},
     "output_type": "execute_result"
    }
   ],
   "source": [
    "cl.getTaskStatus('84904f51-04a0-426d-850d-9fb0f1b0b331', verbose=True)"
   ]
  },
  {
   "cell_type": "markdown",
   "metadata": {},
   "source": [
    "### Run CNest Step 2 via WES"
   ]
  },
  {
   "cell_type": "markdown",
   "metadata": {},
   "source": [
    "Set up the paramters as above"
   ]
  },
  {
   "cell_type": "code",
   "execution_count": 9,
   "metadata": {},
   "outputs": [],
   "source": [
    "params = {\n",
    "    \"project\": \"forei/cnest\",\n",
    "    \"inputs\": {\n",
    "        \"index_txt\": {\n",
    "          \"path\": \"drs://cgc-ga4gh-api.sbgenomics.com/627653faf26c9351737f92ac\",\n",
    "          \"name\": \"index.txt\",\n",
    "          \"class\": \"File\"\n",
    "        },\n",
    "        \"index_bed\": {\n",
    "          \"path\": \"drs://cgc-ga4gh-api.sbgenomics.com/627653faf26c9351737f92ae\",\n",
    "          \"name\": \"index.bed\",\n",
    "          \"class\": \"File\"\n",
    "        },\n",
    "        \"project\": \"test_proj\",\n",
    "        \"index_tab\": {\n",
    "          \"path\": \"drs://cgc-ga4gh-api.sbgenomics.com/627653faf26c9351737f92af\",\n",
    "          \"name\": \"index_tab.txt\",\n",
    "          \"class\": \"File\"\n",
    "        },\n",
    "        \"sample\": \"test_bam\",\n",
    "        \"bam\": {\n",
    "          \"path\": \"drs://cgc-ga4gh-api.sbgenomics.com/6272e873d125a52cff9b0247\",\n",
    "          \"name\": \"TCGA-3X-AAVA-01A-11R-A41D-13_mirna_gdc_realn.bam\",\n",
    "          \"secondaryFiles\": [\n",
    "            {\n",
    "              \"path\": \"drs://cgc-ga4gh-api.sbgenomics.com/6272ec5df26c93517378730b\",\n",
    "              \"name\": \"TCGA-3X-AAVA-01A-11R-A41D-13_mirna_gdc_realn.bam.bai\",\n",
    "              \"class\": \"File\"\n",
    "            }\n",
    "          ],\n",
    "          \"class\": \"File\"\n",
    "        }\n",
    "      }\n",
    "    }\n",
    "\n"
   ]
  },
  {
   "cell_type": "code",
   "execution_count": 10,
   "metadata": {
    "scrolled": true
   },
   "outputs": [
    {
     "data": {
      "text/plain": [
       "'1bb836cb-7905-476d-8dbf-278a8fbf6394'"
      ]
     },
     "execution_count": 10,
     "metadata": {},
     "output_type": "execute_result"
    }
   ],
   "source": [
    "#import json\n",
    "run_id= cl.runGenericWorkflow(\n",
    "    workflow_url='sbg://forei/cnest/cnest-step2/14',\n",
    "    workflow_params = json.dumps(params),\n",
    "    workflow_type = \"CWL\",\n",
    "    workflow_type_version = \"sbg:draft-2\",\n",
    "    verbose=False\n",
    ")\n",
    "run_id"
   ]
  },
  {
   "cell_type": "markdown",
   "metadata": {},
   "source": [
    "Can we access the BioDataCatalyst file directly via DRS?"
   ]
  },
  {
   "cell_type": "code",
   "execution_count": 13,
   "metadata": {},
   "outputs": [],
   "source": [
    "params['inputs']['bam'] = {\n",
    "          \"path\": \"drs://ga4gh-api.sb.biodatacatalyst.nhlbi.nih.gov/626c079e645ccb7324c671d1\",\n",
    "          \"name\": \"HG00445.final.cram\",\n",
    "          \"secondaryFiles\": [\n",
    "            {\n",
    "              \"path\": \"drs://ga4gh-api.sb.biodatacatalyst.nhlbi.nih.gov/626c079e645ccb7324c671cf\",\n",
    "              \"name\": \"HG00445.final.cram.crai\",\n",
    "              \"class\": \"File\"\n",
    "            }\n",
    "          ],\n",
    "          \"class\": \"File\"\n",
    "        }"
   ]
  },
  {
   "cell_type": "code",
   "execution_count": 14,
   "metadata": {},
   "outputs": [
    {
     "data": {
      "text/plain": [
       "{'project': 'forei/cnest',\n",
       " 'inputs': {'index_txt': {'path': 'drs://cgc-ga4gh-api.sbgenomics.com/627653faf26c9351737f92ac',\n",
       "   'name': 'index.txt',\n",
       "   'class': 'File'},\n",
       "  'index_bed': {'path': 'drs://cgc-ga4gh-api.sbgenomics.com/627653faf26c9351737f92ae',\n",
       "   'name': 'index.bed',\n",
       "   'class': 'File'},\n",
       "  'project': 'test_proj',\n",
       "  'index_tab': {'path': 'drs://cgc-ga4gh-api.sbgenomics.com/627653faf26c9351737f92af',\n",
       "   'name': 'index_tab.txt',\n",
       "   'class': 'File'},\n",
       "  'sample': 'test_bam',\n",
       "  'bam': {'path': 'drs://ga4gh-api.sb.biodatacatalyst.nhlbi.nih.gov/626c079e645ccb7324c671d1',\n",
       "   'name': 'HG00445.final.cram',\n",
       "   'secondaryFiles': [{'path': 'drs://ga4gh-api.sb.biodatacatalyst.nhlbi.nih.gov/626c079e645ccb7324c671cf',\n",
       "     'name': 'HG00445.final.cram.crai',\n",
       "     'class': 'File'}],\n",
       "   'class': 'File'}}}"
      ]
     },
     "execution_count": 14,
     "metadata": {},
     "output_type": "execute_result"
    }
   ],
   "source": [
    "params"
   ]
  },
  {
   "cell_type": "code",
   "execution_count": 15,
   "metadata": {},
   "outputs": [
    {
     "name": "stdout",
     "output_type": "stream",
     "text": [
      "Full response status:\n",
      "<Response [400]>\n",
      "Full response content:\n",
      "b'{\"msg\":\"Following file references can not be resolved: drs://ga4gh-api.sb.biodatacatalyst.nhlbi.nih.gov/626c079e645ccb7324c671d1\",\"status_code\":400}'\n",
      "Full response headers:\n",
      "{'Server': 'nginx', 'Date': 'Wed, 18 May 2022 12:54:11 GMT', 'Content-Type': 'application/json', 'Content-Length': '148', 'Connection': 'keep-alive', 'X-Frame-Options': 'DENY', 'X-Xss-Protection': '1; mode=block', 'X-Content-Type-Options': 'nosniff', 'X-Download-Options': 'noopen', 'Content-Security-Policy': \"frame-ancestors 'none'; report-uri https://sbgenomics.report-uri.com/r/d/csp/enforce\", 'Strict-Transport-Security': 'max-age=63072000'}\n"
     ]
    },
    {
     "ename": "RuntimeError",
     "evalue": "WES run submission failed. Response status:400",
     "output_type": "error",
     "traceback": [
      "\u001b[0;31m---------------------------------------------------------------------------\u001b[0m",
      "\u001b[0;31mRuntimeError\u001b[0m                              Traceback (most recent call last)",
      "\u001b[0;32m/var/folders/wz/jjbxsnr13v7dkw2jkbpmqd_dly65gq/T/ipykernel_1589/375741769.py\u001b[0m in \u001b[0;36m<module>\u001b[0;34m\u001b[0m\n\u001b[0;32m----> 1\u001b[0;31m run_id= cl.runGenericWorkflow(\n\u001b[0m\u001b[1;32m      2\u001b[0m     \u001b[0mworkflow_url\u001b[0m\u001b[0;34m=\u001b[0m\u001b[0;34m'sbg://forei/cnest/cnest-step2/14'\u001b[0m\u001b[0;34m,\u001b[0m\u001b[0;34m\u001b[0m\u001b[0;34m\u001b[0m\u001b[0m\n\u001b[1;32m      3\u001b[0m     \u001b[0mworkflow_params\u001b[0m \u001b[0;34m=\u001b[0m \u001b[0mjson\u001b[0m\u001b[0;34m.\u001b[0m\u001b[0mdumps\u001b[0m\u001b[0;34m(\u001b[0m\u001b[0mparams\u001b[0m\u001b[0;34m)\u001b[0m\u001b[0;34m,\u001b[0m\u001b[0;34m\u001b[0m\u001b[0;34m\u001b[0m\u001b[0m\n\u001b[1;32m      4\u001b[0m     \u001b[0mworkflow_type\u001b[0m \u001b[0;34m=\u001b[0m \u001b[0;34m\"CWL\"\u001b[0m\u001b[0;34m,\u001b[0m\u001b[0;34m\u001b[0m\u001b[0;34m\u001b[0m\u001b[0m\n\u001b[1;32m      5\u001b[0m     \u001b[0mworkflow_type_version\u001b[0m \u001b[0;34m=\u001b[0m \u001b[0;34m\"sbg:draft-2\"\u001b[0m\u001b[0;34m,\u001b[0m\u001b[0;34m\u001b[0m\u001b[0;34m\u001b[0m\u001b[0m\n",
      "\u001b[0;32m~/imfenvs/fasp/lib/python3.9/site-packages/fasp/workflow/wesclient.py\u001b[0m in \u001b[0;36mrunGenericWorkflow\u001b[0;34m(self, workflow_url, workflow_params, workflow_engine_params, workflow_type, workflow_type_version, tags, workflow_attachment, verbose)\u001b[0m\n\u001b[1;32m    115\u001b[0m                         \u001b[0mprint\u001b[0m\u001b[0;34m(\u001b[0m\u001b[0;34m\"Full response content:\\n{}\"\u001b[0m\u001b[0;34m.\u001b[0m\u001b[0mformat\u001b[0m\u001b[0;34m(\u001b[0m\u001b[0mresponse\u001b[0m\u001b[0;34m.\u001b[0m\u001b[0mcontent\u001b[0m\u001b[0;34m)\u001b[0m\u001b[0;34m)\u001b[0m\u001b[0;34m\u001b[0m\u001b[0;34m\u001b[0m\u001b[0m\n\u001b[1;32m    116\u001b[0m                         \u001b[0mprint\u001b[0m\u001b[0;34m(\u001b[0m\u001b[0;34m\"Full response headers:\\n{}\"\u001b[0m\u001b[0;34m.\u001b[0m\u001b[0mformat\u001b[0m\u001b[0;34m(\u001b[0m\u001b[0mresponse\u001b[0m\u001b[0;34m.\u001b[0m\u001b[0mheaders\u001b[0m\u001b[0;34m)\u001b[0m\u001b[0;34m)\u001b[0m\u001b[0;34m\u001b[0m\u001b[0;34m\u001b[0m\u001b[0m\n\u001b[0;32m--> 117\u001b[0;31m                         \u001b[0;32mraise\u001b[0m \u001b[0mRuntimeError\u001b[0m\u001b[0;34m(\u001b[0m\u001b[0;34m\"WES run submission failed. Response status:{}\"\u001b[0m\u001b[0;34m.\u001b[0m\u001b[0mformat\u001b[0m\u001b[0;34m(\u001b[0m\u001b[0mresponse\u001b[0m\u001b[0;34m.\u001b[0m\u001b[0mstatus_code\u001b[0m\u001b[0;34m)\u001b[0m\u001b[0;34m)\u001b[0m\u001b[0;34m\u001b[0m\u001b[0;34m\u001b[0m\u001b[0m\n\u001b[0m\u001b[1;32m    118\u001b[0m \u001b[0;34m\u001b[0m\u001b[0m\n\u001b[1;32m    119\u001b[0m         \u001b[0;32mdef\u001b[0m \u001b[0mgetInfo\u001b[0m\u001b[0;34m(\u001b[0m\u001b[0mself\u001b[0m\u001b[0;34m)\u001b[0m\u001b[0;34m:\u001b[0m\u001b[0;34m\u001b[0m\u001b[0;34m\u001b[0m\u001b[0m\n",
      "\u001b[0;31mRuntimeError\u001b[0m: WES run submission failed. Response status:400"
     ]
    }
   ],
   "source": [
    "run_id= cl.runGenericWorkflow(\n",
    "    workflow_url='sbg://forei/cnest/cnest-step2/14',\n",
    "    workflow_params = json.dumps(params),\n",
    "    workflow_type = \"CWL\",\n",
    "    workflow_type_version = \"sbg:draft-2\",\n",
    "    verbose=False\n",
    ")\n",
    "run_id"
   ]
  },
  {
   "cell_type": "markdown",
   "metadata": {},
   "source": [
    "So we cannot pass a BDC drs id to a WES task run on CGC. \n",
    "\n",
    "Validated that CGC is capable of \"importing\" the file using the same DRS id as above. It is validating that I have access to the file (though note this is a public file) It's just passing at as WES that doesn't work."
   ]
  },
  {
   "cell_type": "markdown",
   "metadata": {},
   "source": [
    "### Running via a signed URL obtained from DRS"
   ]
  },
  {
   "cell_type": "code",
   "execution_count": null,
   "metadata": {},
   "outputs": [],
   "source": [
    "drs://ga4gh-api.sb.biodatacatalyst.nhlbi.nih.gov/626c079e645ccb7324c671d1"
   ]
  },
  {
   "cell_type": "markdown",
   "metadata": {},
   "source": [
    "Can we run the above with a bam file from a URL obtained via DRS?\n",
    "\n",
    "We'll try with the Gen3 id of the same file as above\n",
    "\n"
   ]
  },
  {
   "cell_type": "code",
   "execution_count": 20,
   "metadata": {},
   "outputs": [],
   "source": [
    "params['inputs']['bam'] = {\n",
    "          \"path\": \"drs://ga4gh-api.sb.biodatacatalyst.nhlbi.nih.gov/626c079e645ccb7324c671d1\",\n",
    "          \"name\": \"HG00445.final.cram\",\n",
    "          \"secondaryFiles\": [\n",
    "            {\n",
    "              \"path\": \"drs://ga4gh-api.sb.biodatacatalyst.nhlbi.nih.gov/626c079e645ccb7324c671cf\",\n",
    "              \"name\": \"HG00445.final.cram.crai\",\n",
    "              \"class\": \"File\"\n",
    "            }\n",
    "          ],\n",
    "          \"class\": \"File\"\n",
    "        }\n"
   ]
  },
  {
   "cell_type": "code",
   "execution_count": 21,
   "metadata": {},
   "outputs": [
    {
     "data": {
      "text/plain": [
       "{'project': 'forei/cnest',\n",
       " 'inputs': {'index_txt': {'path': 'drs://cgc-ga4gh-api.sbgenomics.com/627653faf26c9351737f92ac',\n",
       "   'name': 'index.txt',\n",
       "   'class': 'File'},\n",
       "  'index_bed': {'path': 'drs://cgc-ga4gh-api.sbgenomics.com/627653faf26c9351737f92ae',\n",
       "   'name': 'index.bed',\n",
       "   'class': 'File'},\n",
       "  'project': 'test_proj',\n",
       "  'index_tab': {'path': 'drs://cgc-ga4gh-api.sbgenomics.com/627653faf26c9351737f92af',\n",
       "   'name': 'index_tab.txt',\n",
       "   'class': 'File'},\n",
       "  'sample': 'test_bam2',\n",
       "  'bam': {'path': 'drs://cgc-ga4gh-api.sbgenomics.com/6272e873d125a52cff9b0247',\n",
       "   'name': 'TCGA-3X-AAVA-01A-11R-A41D-13_mirna_gdc_realn.bam',\n",
       "   'secondaryFiles': [{'path': 'drs://cgc-ga4gh-api.sbgenomics.com/6272ec5df26c93517378730b',\n",
       "     'name': 'TCGA-3X-AAVA-01A-11R-A41D-13_mirna_gdc_realn.bam.bai',\n",
       "     'class': 'File'}],\n",
       "   'class': 'File'}},\n",
       " 'bam': {'path': 'drs://cgc-ga4gh-api.sbgenomics.com/6272e873d125a52cff9b0247',\n",
       "  'name': 'TCGA-3X-AAVA-01A-11R-A41D-13_mirna_gdc_realn.bam',\n",
       "  'secondaryFiles': [{'path': 'drs://cgc-ga4gh-api.sbgenomics.com/6272ec5df26c93517378730b',\n",
       "    'name': 'TCGA-3X-AAVA-01A-11R-A41D-13_mirna_gdc_realn.bam.bai',\n",
       "    'class': 'File'}],\n",
       "  'class': 'File'}}"
      ]
     },
     "execution_count": 21,
     "metadata": {},
     "output_type": "execute_result"
    }
   ],
   "source": [
    "params"
   ]
  },
  {
   "cell_type": "code",
   "execution_count": 2,
   "metadata": {},
   "outputs": [],
   "source": [
    "from fasp.loc import bdcDRSClient\n",
    "drs_client = bdcDRSClient(\"/Users/forei/.keys/bdc_credentials.json\")"
   ]
  },
  {
   "cell_type": "code",
   "execution_count": 5,
   "metadata": {},
   "outputs": [
    {
     "name": "stdout",
     "output_type": "stream",
     "text": [
      "{\"msg\":\"No bundle found\",\"status_code\":404}\n",
      "\n"
     ]
    },
    {
     "data": {
      "text/plain": [
       "404"
      ]
     },
     "execution_count": 5,
     "metadata": {},
     "output_type": "execute_result"
    }
   ],
   "source": [
    "drs_id = '626c079e645ccb7324c671d1'\n",
    "drs_client.getObject(drs_id)"
   ]
  },
  {
   "cell_type": "code",
   "execution_count": null,
   "metadata": {},
   "outputs": [],
   "source": []
  }
 ],
 "metadata": {
  "kernelspec": {
   "display_name": "Python 3 (ipykernel)",
   "language": "python",
   "name": "python3"
  },
  "language_info": {
   "codemirror_mode": {
    "name": "ipython",
    "version": 3
   },
   "file_extension": ".py",
   "mimetype": "text/x-python",
   "name": "python",
   "nbconvert_exporter": "python",
   "pygments_lexer": "ipython3",
   "version": "3.9.7"
  }
 },
 "nbformat": 4,
 "nbformat_minor": 4
}
