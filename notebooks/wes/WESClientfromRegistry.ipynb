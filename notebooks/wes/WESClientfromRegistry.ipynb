{
 "cells": [
  {
   "cell_type": "markdown",
   "metadata": {},
   "source": [
    "### Getting a WES Client\n",
    "fasp.workflow provides several ways to create a WES Client"
   ]
  },
  {
   "cell_type": "code",
   "execution_count": 4,
   "metadata": {},
   "outputs": [],
   "source": [
    "from fasp.workflow import WESClient\n",
    "cl1 =  WESClient('https://cgc-ga4gh-api.sbgenomics.com/ga4gh/wes/v1')"
   ]
  },
  {
   "cell_type": "markdown",
   "metadata": {},
   "source": [
    "This provides a way to instantiate a specific implementation and passes details for authentication. It does not require the caller to know the specific url."
   ]
  },
  {
   "cell_type": "code",
   "execution_count": null,
   "metadata": {},
   "outputs": [],
   "source": [
    "from fasp.workflow import samtoolsSBClient\n",
    "cl2 = sbWESClient('cgc','forei/gecco','~/.keys/sbcgc_key.json')"
   ]
  },
  {
   "cell_type": "markdown",
   "metadata": {},
   "source": [
    "This uses the GA4GH Registry, retreiving a client by its id. It's six of one, and half a dozen of the other, whether an id like this is any more convenient than the URL."
   ]
  },
  {
   "cell_type": "code",
   "execution_count": 1,
   "metadata": {},
   "outputs": [],
   "source": [
    "from fasp.workflow import WESClient\n",
    "cl = WESClient.fromRegistryByID('com.sbgenomics.cavatica-ga4gh-api.wes')"
   ]
  },
  {
   "cell_type": "markdown",
   "metadata": {},
   "source": [
    "Also note the following current limitation"
   ]
  },
  {
   "cell_type": "code",
   "execution_count": 5,
   "metadata": {},
   "outputs": [
    {
     "name": "stdout",
     "output_type": "stream",
     "text": [
      "Get a WES service from details in the GA4GH Registry. \n",
      "\t\tNote: Currently this method has limited utility as it does not yet address how authentication would be passed to the client\n"
     ]
    }
   ],
   "source": [
    "print(WESClient.fromRegistryByID.__doc__)"
   ]
  },
  {
   "cell_type": "code",
   "execution_count": null,
   "metadata": {},
   "outputs": [],
   "source": []
  }
 ],
 "metadata": {
  "kernelspec": {
   "display_name": "Python 3",
   "language": "python",
   "name": "python3"
  },
  "language_info": {
   "codemirror_mode": {
    "name": "ipython",
    "version": 3
   },
   "file_extension": ".py",
   "mimetype": "text/x-python",
   "name": "python",
   "nbconvert_exporter": "python",
   "pygments_lexer": "ipython3",
   "version": "3.7.3"
  }
 },
 "nbformat": 4,
 "nbformat_minor": 4
}
