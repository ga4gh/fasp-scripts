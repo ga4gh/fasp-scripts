{
 "cells": [
  {
   "cell_type": "markdown",
   "metadata": {},
   "source": [
    "Get info on an Elixir WES server"
   ]
  },
  {
   "cell_type": "code",
   "execution_count": 1,
   "metadata": {},
   "outputs": [
    {
     "data": {
      "text/plain": [
       "{'auth_instructions_url': 'https://www.elixir-europe.org/services/compute/aai',\n",
       " 'contact_info': 'https://github.com/elixir-cloud-aai/cwl-WES',\n",
       " 'default_workflow_engine_parameters': [{'default_value': 'some_string',\n",
       "   'type': 'string'},\n",
       "  {'default_value': '5', 'type': 'int'}],\n",
       " 'supported_file_system_protocols': ['http'],\n",
       " 'supported_wes_versions': ['0.3.0'],\n",
       " 'system_state_counts': {'CANCELED': 0,\n",
       "  'CANCELING': 0,\n",
       "  'COMPLETE': 117,\n",
       "  'EXECUTOR_ERROR': 41,\n",
       "  'INITIALIZING': 0,\n",
       "  'PAUSED': 0,\n",
       "  'QUEUED': 0,\n",
       "  'RUNNING': 21,\n",
       "  'SYSTEM_ERROR': 6,\n",
       "  'UNKNOWN': 15},\n",
       " 'tags': {'app_version': '0.15.0',\n",
       "  'current_time': '2021-03-01T01:38:52.090477',\n",
       "  'known_tes_endpoints': 'https://tes.tsi.ebi.ac.uk/|https://tes-dev.tsi.ebi.ac.uk/|https://csc-tesk.c03.k8s-popup.csc.fi/|https://tesk.c01.k8s-popup.csc.fi/',\n",
       "  'last_service_info_update': '2020-05-14T12:03:52+00:00'},\n",
       " 'workflow_engine_versions': {'cwl-tes': '0.2.0'},\n",
       " 'workflow_type_versions': {'CWL': {'workflow_type_version': ['v1.0']}}}"
      ]
     },
     "execution_count": 1,
     "metadata": {},
     "output_type": "execute_result"
    }
   ],
   "source": [
    "from fasp.workflow import WESClient\n",
    "\n",
    "cl = WESClient('https://wes.rahtiapp.fi/ga4gh/wes/v1')\n",
    "cl.getInfo()"
   ]
  },
  {
   "cell_type": "markdown",
   "metadata": {},
   "source": [
    "And for several that we know about"
   ]
  },
  {
   "cell_type": "code",
   "execution_count": 2,
   "metadata": {},
   "outputs": [
    {
     "name": "stdout",
     "output_type": "stream",
     "text": [
      "{\n",
      "   \"auth_instructions_url\": \"https://www.elixir-europe.org/services/compute/aai\",\n",
      "   \"contact_info\": \"https://github.com/elixir-cloud-aai/cwl-WES\",\n",
      "   \"default_workflow_engine_parameters\": [\n",
      "      {\n",
      "         \"default_value\": \"some_string\",\n",
      "         \"type\": \"string\"\n",
      "      },\n",
      "      {\n",
      "         \"default_value\": \"5\",\n",
      "         \"type\": \"int\"\n",
      "      }\n",
      "   ],\n",
      "   \"supported_file_system_protocols\": [\n",
      "      \"ftp\",\n",
      "      \"https\",\n",
      "      \"local\"\n",
      "   ],\n",
      "   \"supported_wes_versions\": [\n",
      "      \"1.0.0\"\n",
      "   ],\n",
      "   \"system_state_counts\": {\n",
      "      \"CANCELED\": 0,\n",
      "      \"CANCELING\": 0,\n",
      "      \"COMPLETE\": 23,\n",
      "      \"EXECUTOR_ERROR\": 22,\n",
      "      \"INITIALIZING\": 0,\n",
      "      \"PAUSED\": 0,\n",
      "      \"QUEUED\": 0,\n",
      "      \"RUNNING\": 1,\n",
      "      \"SYSTEM_ERROR\": 0,\n",
      "      \"UNKNOWN\": 0\n",
      "   },\n",
      "   \"tags\": {\n",
      "      \"app_version\": \"0.15.0\",\n",
      "      \"current_time\": \"2021-03-01T01:38:52.760599\",\n",
      "      \"known_tes_endpoints\": \"https://tes.tsi.ebi.ac.uk/|https://tes-dev.tsi.ebi.ac.uk/|https://csc-tesk.c03.k8s-popup.csc.fi/|https://tesk.c01.k8s-popup.csc.fi/\",\n",
      "      \"last_service_info_update\": \"2021-01-21T14:59:35+00:00\"\n",
      "   },\n",
      "   \"workflow_engine_versions\": {\n",
      "      \"cwl-tes\": \"0.2.0\"\n",
      "   },\n",
      "   \"workflow_type_versions\": {\n",
      "      \"CWL\": {\n",
      "         \"workflow_type_version\": [\n",
      "            \"v1.0\"\n",
      "         ]\n",
      "      }\n",
      "   }\n",
      "}\n",
      "{\n",
      "   \"auth_instructions_url\": \"https://www.elixir-europe.org/services/compute/aai\",\n",
      "   \"contact_info\": \"https://github.com/elixir-cloud-aai/cwl-WES\",\n",
      "   \"default_workflow_engine_parameters\": [\n",
      "      {\n",
      "         \"default_value\": \"some_string\",\n",
      "         \"type\": \"string\"\n",
      "      },\n",
      "      {\n",
      "         \"default_value\": \"5\",\n",
      "         \"type\": \"int\"\n",
      "      }\n",
      "   ],\n",
      "   \"supported_file_system_protocols\": [\n",
      "      \"http\"\n",
      "   ],\n",
      "   \"supported_wes_versions\": [\n",
      "      \"0.3.0\"\n",
      "   ],\n",
      "   \"system_state_counts\": {\n",
      "      \"CANCELED\": 0,\n",
      "      \"CANCELING\": 0,\n",
      "      \"COMPLETE\": 117,\n",
      "      \"EXECUTOR_ERROR\": 41,\n",
      "      \"INITIALIZING\": 0,\n",
      "      \"PAUSED\": 0,\n",
      "      \"QUEUED\": 0,\n",
      "      \"RUNNING\": 21,\n",
      "      \"SYSTEM_ERROR\": 6,\n",
      "      \"UNKNOWN\": 15\n",
      "   },\n",
      "   \"tags\": {\n",
      "      \"app_version\": \"0.15.0\",\n",
      "      \"current_time\": \"2021-03-01T01:38:53.371936\",\n",
      "      \"known_tes_endpoints\": \"https://tes.tsi.ebi.ac.uk/|https://tes-dev.tsi.ebi.ac.uk/|https://csc-tesk.c03.k8s-popup.csc.fi/|https://tesk.c01.k8s-popup.csc.fi/\",\n",
      "      \"last_service_info_update\": \"2020-05-14T12:03:52+00:00\"\n",
      "   },\n",
      "   \"workflow_engine_versions\": {\n",
      "      \"cwl-tes\": \"0.2.0\"\n",
      "   },\n",
      "   \"workflow_type_versions\": {\n",
      "      \"CWL\": {\n",
      "         \"workflow_type_version\": [\n",
      "            \"v1.0\"\n",
      "         ]\n",
      "      }\n",
      "   }\n",
      "}\n",
      "{\n",
      "   \"auth_instructions_url\": \"https://www.elixir-europe.org/services/compute/aai\",\n",
      "   \"contact_info\": \"https://github.com/elixir-cloud-aai/cwl-WES\",\n",
      "   \"default_workflow_engine_parameters\": [\n",
      "      {\n",
      "         \"default_value\": \"some_string\",\n",
      "         \"type\": \"string\"\n",
      "      },\n",
      "      {\n",
      "         \"default_value\": \"5\",\n",
      "         \"type\": \"int\"\n",
      "      }\n",
      "   ],\n",
      "   \"supported_file_system_protocols\": [\n",
      "      \"http\"\n",
      "   ],\n",
      "   \"supported_wes_versions\": [\n",
      "      \"0.3.0\"\n",
      "   ],\n",
      "   \"system_state_counts\": {\n",
      "      \"CANCELED\": 0,\n",
      "      \"CANCELING\": 0,\n",
      "      \"COMPLETE\": 117,\n",
      "      \"EXECUTOR_ERROR\": 41,\n",
      "      \"INITIALIZING\": 0,\n",
      "      \"PAUSED\": 0,\n",
      "      \"QUEUED\": 0,\n",
      "      \"RUNNING\": 21,\n",
      "      \"SYSTEM_ERROR\": 6,\n",
      "      \"UNKNOWN\": 15\n",
      "   },\n",
      "   \"tags\": {\n",
      "      \"app_version\": \"0.15.0\",\n",
      "      \"current_time\": \"2021-03-01T01:38:54.600009\",\n",
      "      \"known_tes_endpoints\": \"https://tes.tsi.ebi.ac.uk/|https://tes-dev.tsi.ebi.ac.uk/|https://csc-tesk.c03.k8s-popup.csc.fi/|https://tesk.c01.k8s-popup.csc.fi/\",\n",
      "      \"last_service_info_update\": \"2020-05-14T12:03:52+00:00\"\n",
      "   },\n",
      "   \"workflow_engine_versions\": {\n",
      "      \"cwl-tes\": \"0.2.0\"\n",
      "   },\n",
      "   \"workflow_type_versions\": {\n",
      "      \"CWL\": {\n",
      "         \"workflow_type_version\": [\n",
      "            \"v1.0\"\n",
      "         ]\n",
      "      }\n",
      "   }\n",
      "}\n"
     ]
    }
   ],
   "source": [
    "import json\n",
    "\n",
    "wesServices = ['https://wes-eu.egci-endpoints.imsi.athenarc.gr/ga4gh/wes/v1',\n",
    "               'https://wes.rahtiapp.fi/ga4gh/wes/v1',\n",
    "               'https://csc-wes.rahtiapp.fi/ga4gh/wes/v1']\n",
    "\n",
    "for srvcURL in wesServices:\n",
    "    cl = WESClient(srvcURL)\n",
    "    print(json.dumps(cl.getInfo(), indent=3))"
   ]
  },
  {
   "cell_type": "markdown",
   "metadata": {},
   "source": [
    "#### Run a workflow on an Elixir WES Server\n",
    "\n",
    "The following will run the hashsplitter workflow on an Elixir WES server"
   ]
  },
  {
   "cell_type": "code",
   "execution_count": 3,
   "metadata": {},
   "outputs": [
    {
     "name": "stdout",
     "output_type": "stream",
     "text": [
      "V0M4S0\n"
     ]
    }
   ],
   "source": [
    "from fasp.workflow import ElixirWESClient\n",
    "myClient = ElixirWESClient('https://wes-eu.egci-endpoints.imsi.athenarc.gr/ga4gh/wes/v1')\n",
    "\n",
    "\n",
    "run_id = myClient.runWorkflow('https://raw.githubusercontent.com/elixir-cloud-aai/demo-workflows/dev/cwl/hashsplitter_workflow/hashsplitter-workflow.cwl','')\n",
    "print(run_id)\n"
   ]
  },
  {
   "cell_type": "code",
   "execution_count": 8,
   "metadata": {},
   "outputs": [
    {
     "name": "stdout",
     "output_type": "stream",
     "text": [
      "COMPLETE\n"
     ]
    }
   ],
   "source": [
    "run_log = myClient.GetRunLog(run_id)\n",
    "run_state = run_log['state']\n",
    "print(run_state)"
   ]
  },
  {
   "cell_type": "markdown",
   "metadata": {},
   "source": [
    "#### Get the outputs\n",
    "If the run completed successfully obtain the location of the output file"
   ]
  },
  {
   "cell_type": "code",
   "execution_count": 9,
   "metadata": {},
   "outputs": [
    {
     "name": "stdout",
     "output_type": "stream",
     "text": [
      "ftp://ftp-private.ebi.ac.uk/upload/kostis/075809d3-3431-4f14-8559-99ba96803f4a/output_62f4c974-a582-40ef-bdfa-c788026a82cf/unify\n"
     ]
    }
   ],
   "source": [
    "if run_state == 'COMPLETE':\n",
    "    fileURL = run_log['outputs']['output']['location']\n",
    "    print(fileURL)"
   ]
  },
  {
   "cell_type": "code",
   "execution_count": null,
   "metadata": {},
   "outputs": [],
   "source": []
  }
 ],
 "metadata": {
  "kernelspec": {
   "display_name": "Python 3",
   "language": "python",
   "name": "python3"
  },
  "language_info": {
   "codemirror_mode": {
    "name": "ipython",
    "version": 3
   },
   "file_extension": ".py",
   "mimetype": "text/x-python",
   "name": "python",
   "nbconvert_exporter": "python",
   "pygments_lexer": "ipython3",
   "version": "3.7.3"
  }
 },
 "nbformat": 4,
 "nbformat_minor": 4
}
