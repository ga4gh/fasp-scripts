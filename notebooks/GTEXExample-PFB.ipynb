{
 "cells": [
  {
   "cell_type": "markdown",
   "metadata": {},
   "source": [
    "<img src=\"../fasp/runner/credits/images/GTEXExample.jpg\" style=\"float: right;\">\n",
    "\n",
    "### GTEX Example using PFB in BigQuery\n",
    "This notebook computes on the freely available GTEX version 8 files on Amazon AWS using the Seven Bridges Cancer Genomics Cloud WES service. \n",
    "\n",
    "In this case the DRS ids of the GTEX files are available via a client which acccess a local manifest file. The manifest file is obtained from Anvil as follows.\n",
    "https://anvilproject.org/learn/reference/gtex-v8-free-egress-instructions\n",
    "\n",
    "Rather than use the Gen3 Downloader described in the egress instructions, this example uses the Anvil DRS service to obtain URLs which can be passed to the Seven Bridges CGC WES Service.\n",
    "\n",
    "The following step demonstrates a query run against that file. "
   ]
  },
  {
   "cell_type": "code",
   "execution_count": 1,
   "metadata": {},
   "outputs": [
    {
     "data": {
      "text/plain": [
       "[Row(('1653e867-769a-4f4b-a17a-6d78602372b7', 'dg.ANV0/ddd1a258-99f4-4e53-b60c-43b470a49834'), {'subject_id': 0, 'drsID': 1}),\n",
       " Row(('175e71c9-62aa-4947-8ff9-bac4f912f323', 'dg.ANV0/06308d6e-da39-4af7-b1bb-3d80920d783d'), {'subject_id': 0, 'drsID': 1}),\n",
       " Row(('175e71c9-62aa-4947-8ff9-bac4f912f323', 'dg.ANV0/79e36910-51fc-4a3a-a41b-84ad5006d52d'), {'subject_id': 0, 'drsID': 1})]"
      ]
     },
     "execution_count": 1,
     "metadata": {},
     "output_type": "execute_result"
    }
   ],
   "source": [
    "from fasp.runner import FASPRunner\n",
    "\n",
    "# The implementations we're using\n",
    "from fasp.search import BigQuerySearchClient\n",
    "from fasp.loc import anvilDRSClient\n",
    "from fasp.workflow import sbcgcWESClient\n",
    "\n",
    "faspRunner = FASPRunner(program='GTEXExample')\n",
    "\n",
    "# Step 1 - Discovery\n",
    "# query for relevant DRS objects\n",
    "searchClient = BigQuerySearchClient()\n",
    "query = '''select su.id subject_id, sq.object_id drsID \n",
    "from `isbcgc-216220.gtex8.sequencing` sq \n",
    "join `isbcgc-216220.gtex8.sample` sa on sq.parent_id = sa.id \n",
    "join `isbcgc-216220.gtex8.subject` su on sa.parent_id = su.id \n",
    "where su.body_mass_index between 22.0 and 25.0 \n",
    "and data_type = 'Aligned Reads' and data_format = 'bam'\n",
    "limit 3'''\n",
    "res = searchClient.runQuery(query)\n",
    "res"
   ]
  },
  {
   "cell_type": "code",
   "execution_count": 2,
   "metadata": {},
   "outputs": [
    {
     "data": {
      "text/plain": [
       "{'access_methods': [{'access_id': 'gs',\n",
       "   'access_url': {'url': 'gs://fc-secure-ff8156a3-ddf3-42e4-9211-0fd89da62108/GTEx_Analysis_2017-06-05_v8_ChIPseq_BAM_files/GTEX-1LGOU-5007-SM-AN49H.H3K27ac.GRCh37.duplicate_marked.bam'},\n",
       "   'region': '',\n",
       "   'type': 'gs'},\n",
       "  {'access_id': 's3',\n",
       "   'access_url': {'url': 's3://AnVIL/GTEx_Analysis_2017-06-05_v8_ChIPseq_BAM_files/GTEX-1LGOU-5007-SM-AN49H.H3K27ac.GRCh37.duplicate_marked.bam'},\n",
       "   'region': '',\n",
       "   'type': 's3'}],\n",
       " 'aliases': [],\n",
       " 'checksums': [{'checksum': '34c053550bcd22833a3acc64934a138c',\n",
       "   'type': 'md5'}],\n",
       " 'contents': [],\n",
       " 'created_time': '2020-07-08T17:45:39.829456',\n",
       " 'description': None,\n",
       " 'form': 'object',\n",
       " 'id': 'dg.ANV0/79e36910-51fc-4a3a-a41b-84ad5006d52d',\n",
       " 'mime_type': 'application/json',\n",
       " 'name': 'GTEX-1LGOU-5007-SM-AN49H.H3K27ac.GRCh37.duplicate_marked.bam',\n",
       " 'self_uri': 'drs://gen3.theanvil.io/dg.ANV0/79e36910-51fc-4a3a-a41b-84ad5006d52d',\n",
       " 'size': 3765705144,\n",
       " 'updated_time': '2020-07-08T17:45:39.829462',\n",
       " 'version': 'fcdbdab8'}"
      ]
     },
     "execution_count": 2,
     "metadata": {},
     "output_type": "execute_result"
    }
   ],
   "source": [
    "drsClient = anvilDRSClient('~/.keys/anvil_credentials.json', access_id='s3')\n",
    "drsClient.getObject(res[2][1])"
   ]
  },
  {
   "cell_type": "code",
   "execution_count": 3,
   "metadata": {},
   "outputs": [],
   "source": [
    "url = drsClient.getAccessURL(res[2][1])"
   ]
  },
  {
   "cell_type": "code",
   "execution_count": 4,
   "metadata": {},
   "outputs": [
    {
     "name": "stdout",
     "output_type": "stream",
     "text": [
      "Running query\n",
      "select su.id subject_id, sq.object_id drsID \n",
      "from `isbcgc-216220.gtex8.sequencing` sq \n",
      "join `isbcgc-216220.gtex8.sample` sa on sq.parent_id = sa.id \n",
      "join `isbcgc-216220.gtex8.subject` su on sa.parent_id = su.id \n",
      "where su.body_mass_index between 22.0 and 25.0 \n",
      "and data_type = 'Aligned Reads' and data_format = 'bam'\n",
      "limit 3\n",
      "subject=1653e867-769a-4f4b-a17a-6d78602372b7, drsID=dg.ANV0/ddd1a258-99f4-4e53-b60c-43b470a49834\n",
      "https://cgc-ga4gh-api.sbgenomics.com/ga4gh/wes/v1\n",
      "workflow submitted, run:df73a45d-5ec3-4304-b86a-558363f81f3c\n",
      "____________________________________________________________\n",
      "subject=175e71c9-62aa-4947-8ff9-bac4f912f323, drsID=dg.ANV0/06308d6e-da39-4af7-b1bb-3d80920d783d\n",
      "https://cgc-ga4gh-api.sbgenomics.com/ga4gh/wes/v1\n",
      "workflow submitted, run:e8269863-2d02-43a2-9ef3-7f669ec6286d\n",
      "____________________________________________________________\n",
      "subject=175e71c9-62aa-4947-8ff9-bac4f912f323, drsID=dg.ANV0/79e36910-51fc-4a3a-a41b-84ad5006d52d\n",
      "https://cgc-ga4gh-api.sbgenomics.com/ga4gh/wes/v1\n",
      "workflow submitted, run:9b38b48b-b19d-4ce4-b161-c664b9ee0617\n",
      "____________________________________________________________\n"
     ]
    },
    {
     "data": {
      "text/plain": [
       "[{'subject': '1653e867-769a-4f4b-a17a-6d78602372b7',\n",
       "  'run_id': 'df73a45d-5ec3-4304-b86a-558363f81f3c'},\n",
       " {'subject': '175e71c9-62aa-4947-8ff9-bac4f912f323',\n",
       "  'run_id': 'e8269863-2d02-43a2-9ef3-7f669ec6286d'},\n",
       " {'subject': '175e71c9-62aa-4947-8ff9-bac4f912f323',\n",
       "  'run_id': '9b38b48b-b19d-4ce4-b161-c664b9ee0617'}]"
      ]
     },
     "execution_count": 4,
     "metadata": {},
     "output_type": "execute_result"
    }
   ],
   "source": [
    "settings = faspRunner.settings\n",
    "wesClient = sbcgcWESClient(settings['SevenBridgesProject'])\n",
    "\n",
    "faspRunner.configure(searchClient, drsClient, wesClient)\n",
    "\n",
    "faspRunner.runQuery(query, 'Anvil GTEX Test from notebook')"
   ]
  },
  {
   "cell_type": "code",
   "execution_count": null,
   "metadata": {},
   "outputs": [],
   "source": []
  }
 ],
 "metadata": {
  "kernelspec": {
   "display_name": "Python 3",
   "language": "python",
   "name": "python3"
  },
  "language_info": {
   "codemirror_mode": {
    "name": "ipython",
    "version": 3
   },
   "file_extension": ".py",
   "mimetype": "text/x-python",
   "name": "python",
   "nbconvert_exporter": "python",
   "pygments_lexer": "ipython3",
   "version": "3.7.3"
  }
 },
 "nbformat": 4,
 "nbformat_minor": 4
}
