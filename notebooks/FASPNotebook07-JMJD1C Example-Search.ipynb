{
 "cells": [
  {
   "cell_type": "markdown",
   "metadata": {},
   "source": [
    "<img src=\"../fasp/runner/credits/images/FASPNotebook07.jpg\" style=\"float: right;\">\n",
    "\n",
    "\n",
    "### Query for a specific variant\n"
   ]
  },
  {
   "cell_type": "code",
   "execution_count": 4,
   "metadata": {},
   "outputs": [
    {
     "name": "stdout",
     "output_type": "stream",
     "text": [
      "Running query\n",
      "\n",
      "SELECT mut.case_barcode subject, meta.file_gdc_id as drs_id, \n",
      "meta.file_gdc_url as tumor_bam_file_path,\n",
      "clin.demo__race, clin.diag__age_at_diagnosis, clin.demo__ethnicity \n",
      "FROM search_cloud.cshcodeathon.tcga_somatic_mutation_hg38_gdc_current as mut \n",
      "join search_cloud.cshcodeathon.tcga_clinical_gdc_current as clin \n",
      "on clin.case_id = mut.case_id \n",
      "join search_cloud.cshcodeathon.gdc_case_file_metadata_gdcfileid_to_gcsurl_current as meta \n",
      "on meta.file_gdc_id = mut.tumor_bam_uuid \n",
      "\n",
      "where mut.Hugo_Symbol = 'JMJD1C'  \n",
      "order by meta.file_gdc_id \n",
      "\n",
      "limit 3\n",
      "_Retrieving the query_\n",
      "____Page1_______________\n",
      "____Page2_______________\n",
      "____Page3_______________\n",
      "____Page4_______________\n",
      "____Page5_______________\n",
      "____Page6_______________\n",
      "____Page7_______________\n",
      "____Page8_______________\n",
      "____Page9_______________\n",
      "____Page10_______________\n",
      "____Page11_______________\n",
      "subject=TCGA-02-2466, drsID=00b7d61d-9169-4b17-899e-edc7a5cd7509\n",
      "workflow submitted, run:2c91e832-7a40-42b5-99d2-79bf4a6645fb\n",
      "____________________________________________________________\n",
      "subject=TCGA-02-2466, drsID=00b7d61d-9169-4b17-899e-edc7a5cd7509\n",
      "workflow submitted, run:264e3cda-1785-4e2e-88d2-d65f85dcbd96\n",
      "____________________________________________________________\n",
      "subject=TCGA-H7-A6C4, drsID=00e1676d-b6c5-4d72-b69c-0110e38f6aef\n",
      "workflow submitted, run:08a48643-77f3-488c-bd6e-e2d0df235128\n",
      "____________________________________________________________\n"
     ]
    },
    {
     "data": {
      "text/plain": [
       "[{'subject': 'TCGA-02-2466', 'run_id': '2c91e832-7a40-42b5-99d2-79bf4a6645fb'},\n",
       " {'subject': 'TCGA-02-2466', 'run_id': '264e3cda-1785-4e2e-88d2-d65f85dcbd96'},\n",
       " {'subject': 'TCGA-H7-A6C4', 'run_id': '08a48643-77f3-488c-bd6e-e2d0df235128'}]"
      ]
     },
     "execution_count": 4,
     "metadata": {},
     "output_type": "execute_result"
    }
   ],
   "source": [
    "from fasp.runner import FASPRunner\n",
    "\n",
    "# The implementations we're using\n",
    "from fasp.loc import crdcDRSClient\n",
    "from fasp.workflow import sbcgcWESClient\n",
    "from fasp.search import DiscoverySearchClient\n",
    "\n",
    "faspRunner = FASPRunner(program='FASPNotebook07')\n",
    "settings = faspRunner.settings\n",
    "\n",
    "searchClient = DiscoverySearchClient('https://ga4gh-search-adapter-presto-public.prod.dnastack.com')\n",
    "drsClient = crdcDRSClient('~/.keys/crdc_credentials.json','s3')\n",
    "mysam = sbcgcWESClient(settings['SevenBridgesProject'])\t\n",
    "\n",
    "faspRunner.configure(searchClient, drsClient, mysam)\n",
    "\n",
    "query = \"\"\"\n",
    "SELECT mut.case_barcode subject, meta.file_gdc_id as drs_id, \n",
    "meta.file_gdc_url as tumor_bam_file_path,\n",
    "clin.demo__race, clin.diag__age_at_diagnosis, clin.demo__ethnicity \n",
    "FROM search_cloud.cshcodeathon.tcga_somatic_mutation_hg38_gdc_current as mut \n",
    "join search_cloud.cshcodeathon.tcga_clinical_gdc_current as clin \n",
    "on clin.case_id = mut.case_id \n",
    "join search_cloud.cshcodeathon.gdc_case_file_metadata_gdcfileid_to_gcsurl_current as meta \n",
    "on meta.file_gdc_id = mut.tumor_bam_uuid \n",
    "\n",
    "where mut.Hugo_Symbol = 'JMJD1C'  \n",
    "order by meta.file_gdc_id \n",
    "\n",
    "limit 3\"\"\"\n",
    "\n",
    "faspRunner.runQuery(query, 'JMJD1C query ')"
   ]
  },
  {
   "cell_type": "code",
   "execution_count": 2,
   "metadata": {},
   "outputs": [
    {
     "data": {
      "image/png": "[encoded data removed]",
      "text/plain": [
       "<PIL.Image.Image image mode=RGB size=60x60 at 0x10B5CD080>"
      ]
     },
     "execution_count": 2,
     "metadata": {},
     "output_type": "execute_result"
    }
   ],
   "source": [
    "faspRunner.getFASPicon()"
   ]
  },
  {
   "cell_type": "code",
   "execution_count": 3,
   "metadata": {},
   "outputs": [
    {
     "data": {
      "text/plain": [
       "'RUNNING'"
      ]
     },
     "execution_count": 3,
     "metadata": {},
     "output_type": "execute_result"
    }
   ],
   "source": [
    "mysam.getTaskStatus('f45cdeab-60df-484a-acf5-a3287998f1cc')"
   ]
  },
  {
   "cell_type": "code",
   "execution_count": null,
   "metadata": {},
   "outputs": [],
   "source": []
  }
 ],
 "metadata": {
  "kernelspec": {
   "display_name": "Python 3",
   "language": "python",
   "name": "python3"
  },
  "language_info": {
   "codemirror_mode": {
    "name": "ipython",
    "version": 3
   },
   "file_extension": ".py",
   "mimetype": "text/x-python",
   "name": "python",
   "nbconvert_exporter": "python",
   "pygments_lexer": "ipython3",
   "version": "3.7.3"
  }
 },
 "nbformat": 4,
 "nbformat_minor": 4
}
