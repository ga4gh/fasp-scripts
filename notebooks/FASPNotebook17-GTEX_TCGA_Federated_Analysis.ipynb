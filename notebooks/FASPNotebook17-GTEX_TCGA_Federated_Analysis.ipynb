{
 "cells": [
  {
   "cell_type": "markdown",
   "metadata": {},
   "source": [
    "<img src=\"../fasp/runner/credits/images/nb1.jpg\" style=\"float: right;\">\n",
    "\n",
    "### TCGA and GTEx\n",
    "\n",
    "This variant of the GTEX TCGA workflow uses FASPRunner which is simply called twice in succession with the relevant Search and WES clients. As the DRS ids returned by the searches are prefixed with CURIEs, DRSMetaResolver can be used as the DRS Client in both cases.\n",
    "\n"
   ]
  },
  {
   "cell_type": "code",
   "execution_count": 8,
   "metadata": {},
   "outputs": [
    {
     "name": "stdout",
     "output_type": "stream",
     "text": [
      "Running FASPNotebook17-GTEX_TCGA_Federated_Analysis.ipynb\n"
     ]
    }
   ],
   "source": [
    "from fasp.search import DataConnectClient, Gen3ManifestClient\n",
    "from fasp.loc import DRSMetaResolver, anvilDRSClient\n",
    "\n",
    "\n",
    "from fasp.runner import FASPRunner\n",
    "\n",
    "faspRunner = FASPRunner()\n",
    "runNote = 'GTEX and TCGA via FASPRunner'"
   ]
  },
  {
   "cell_type": "markdown",
   "metadata": {},
   "source": [
    "The following sets clients to handle the TCGA data. Note that the DRS ids prefixed with CURIEs (crdc for the Cancer Research Data Commons and anv for Anvil). This indicates which namespace the ids come from and allows the referenced file to be retrieved from the correct DRS server. \n",
    "\n",
    "Note that for the data in the Google Cloud we are using GCPLSsamtools a fasp class which accesses Google Cloud's Life Science Pipeline API. The plan is to replace that with the DNA Stack WES server when that is updated. "
   ]
  },
  {
   "cell_type": "code",
   "execution_count": 9,
   "metadata": {},
   "outputs": [
    {
     "name": "stdout",
     "output_type": "stream",
     "text": [
      "Searching the GA4GH registry for org.ga4gh:drs services\n",
      "Running query\n",
      "\n",
      "    SELECT 'case_'||associated_entities__case_gdc_id case_id, 'crdc:'||file_id drs_id\n",
      "    FROM search_cloud.cshcodeathon.gdc_rel24_filedata_active \n",
      "    where data_format = 'BAM' \n",
      "    and project_disease_type = 'Breast Invasive Carcinoma'\n",
      "    limit 3\n",
      "_Retrieving the query_\n",
      "____Page1_______________\n",
      "____Page2_______________\n",
      "____Page3_______________\n",
      "____Page4_______________\n",
      "____Page5_______________\n",
      "subject=case_1b703058-e596-45bc-80fe-8b98d545c2e2, drsID=crdc:030e5e74-6461-4f05-a399-de8e470bc056\n",
      "workflow submitted, run:9458808130744346475\n",
      "____________________________________________________________\n",
      "subject=case_a947a945-4721-45cc-bc45-13b8ea41c10e, drsID=crdc:04c68898-ddac-4e15-9f9a-5bf278d55e4a\n",
      "workflow submitted, run:8831527384848446963\n",
      "____________________________________________________________\n",
      "subject=case_c462e422-eb8d-4daf-9897-2a9c6cbd783a, drsID=crdc:00589653-5840-4c11-8572-5aa7d00a73f8\n",
      "workflow submitted, run:17893721937011940625\n",
      "____________________________________________________________\n"
     ]
    }
   ],
   "source": [
    "# TCGA Query - CRDC\n",
    "crdcquery = \"\"\"\n",
    "    SELECT 'case_'||associated_entities__case_gdc_id case_id, 'crdc:'||file_id drs_id\n",
    "    FROM search_cloud.cshcodeathon.gdc_rel24_filedata_active \n",
    "    where data_format = 'BAM' \n",
    "    and project_disease_type = 'Breast Invasive Carcinoma'\n",
    "    limit 3\"\"\"\n",
    "\n",
    "searchClient = DataConnectClient('https://ga4gh-search-adapter-presto-public.prod.dnastack.com/')\n",
    "drsClient = DRSMetaResolver()\n",
    "\n",
    "from fasp.workflow import GCPLSsamtools\n",
    "settings = faspRunner.settings\n",
    "gcplocation = 'projects/{}/locations/{}'.format(settings['GCPProject'], settings['GCPPipelineRegion'])\n",
    "wesClient = GCPLSsamtools(gcplocation, settings['GCPOutputBucket'])\n",
    "\n",
    "faspRunner.configure(searchClient, drsClient, wesClient)\n",
    "runList = faspRunner.runQuery(crdcquery, runNote)\n"
   ]
  },
  {
   "cell_type": "markdown",
   "metadata": {},
   "source": [
    "A Search and WES client are then set up to work with the Anvil data\n",
    "\n",
    "The Search client here  is a placeholder to search a local file. That file contains file ids downloaded as a manifest from the Gen3 Anvil portal. That list of files in that manifest had already been filtered to relevant samples. The anv: DRS prefix was added in an edited version of the file.\n",
    "\n",
    "#Todo check what access_ids DRSMetaresolver is using for each run"
   ]
  },
  {
   "cell_type": "code",
   "execution_count": 10,
   "metadata": {},
   "outputs": [
    {
     "name": "stdout",
     "output_type": "stream",
     "text": [
      "Running query\n",
      "3\n",
      "subject=GTEX-1GTWX-0001-SM-7J3A5.cram, drsID=dg.ANV0/76bb893d-12da-41ca-8828-ff89551d3e15\n",
      "https://cgc-ga4gh-api.sbgenomics.com/ga4gh/wes/v1\n",
      "workflow submitted, run:d8835331-cb3c-4c0d-8278-22fd80dada40\n",
      "____________________________________________________________\n",
      "subject=GTEX-14PQA-0003-SM-7DLH4.cram, drsID=dg.ANV0/66352de8-4b50-4cae-881d-b76d03df5ac8\n",
      "https://cgc-ga4gh-api.sbgenomics.com/ga4gh/wes/v1\n",
      "workflow submitted, run:5b76c15c-b871-4611-afff-953bd378d54f\n",
      "____________________________________________________________\n",
      "subject=GTEX-1B98T-0004-SM-7J38T.cram, drsID=dg.ANV0/ed9ac9ae-02da-4e97-93da-ad86aa77d227\n",
      "https://cgc-ga4gh-api.sbgenomics.com/ga4gh/wes/v1\n",
      "workflow submitted, run:ef535d65-0f56-4397-a69a-aaa6faf89554\n",
      "____________________________________________________________\n"
     ]
    }
   ],
   "source": [
    "from fasp.workflow import sbcgcWESClient\n",
    "searchClient = Gen3ManifestClient('../fasp/data/gtex/gtex-cram-manifest.json')\n",
    "drsClient = anvilDRSClient('~/.keys/anvil_credentials.json', '', 's3')\n",
    "wesClient = sbcgcWESClient(settings['SevenBridgesProject'])\n",
    "\n",
    "faspRunner.configure(searchClient, drsClient, wesClient)\n",
    "runList2 = faspRunner.runQuery(3, runNote)\n"
   ]
  },
  {
   "cell_type": "code",
   "execution_count": 11,
   "metadata": {},
   "outputs": [
    {
     "data": {
      "image/png": "[encoded data removed]",
      "text/plain": [
       "<PIL.Image.Image image mode=RGB size=120x60 at 0x127632588>"
      ]
     },
     "execution_count": 11,
     "metadata": {},
     "output_type": "execute_result"
    }
   ],
   "source": [
    "faspRunner.getFASPicon()"
   ]
  },
  {
   "cell_type": "code",
   "execution_count": 12,
   "metadata": {},
   "outputs": [
    {
     "name": "stdout",
     "output_type": "stream",
     "text": [
      "DataConnectClient    Gen3ManifestClient       \n",
      "DRSMetaResolver          anvilDRSClient           \n",
      "GCPLSsamtools            sbcgcWESClient           \n"
     ]
    }
   ],
   "source": [
    "faspRunner.rollCredits()"
   ]
  },
  {
   "cell_type": "code",
   "execution_count": null,
   "metadata": {},
   "outputs": [],
   "source": []
  }
 ],
 "metadata": {
  "kernelspec": {
   "display_name": "Python 3",
   "language": "python",
   "name": "python3"
  },
  "language_info": {
   "codemirror_mode": {
    "name": "ipython",
    "version": 3
   },
   "file_extension": ".py",
   "mimetype": "text/x-python",
   "name": "python",
   "nbconvert_exporter": "python",
   "pygments_lexer": "ipython3",
   "version": "3.7.3"
  }
 },
 "nbformat": 4,
 "nbformat_minor": 4
}
