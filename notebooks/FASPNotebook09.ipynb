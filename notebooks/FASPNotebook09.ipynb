{
 "cells": [
  {
   "cell_type": "markdown",
   "metadata": {},
   "source": [
    "<img src=\"../fasp/runner/credits/images/FASPNotebook09.jpg\" style=\"float: right;\">\n",
    "\n",
    "### BioDataCatalyst and CRDC Search-Locate-Compute\n",
    "This script runs the same work as FASPScript2 and uses FASPRunner twice"
   ]
  },
  {
   "cell_type": "code",
   "execution_count": 1,
   "metadata": {},
   "outputs": [],
   "source": [
    "from fasp.runner import FASPRunner\n",
    "\n",
    "# The implementations we're using\n",
    "from fasp.loc import DRSMetaResolver\n",
    "from fasp.workflow import GCPLSsamtools, sbWESClient\n",
    "from fasp.search import BigQuerySearchClient, DiscoverySearchClient\n",
    "\n",
    "faspRunner = FASPRunner(program='FASPNotebook09.ipynb')\n",
    "runNote = 'Two dbGaP Sources, CRDC and BioDataCatalyst'"
   ]
  },
  {
   "cell_type": "markdown",
   "metadata": {},
   "source": [
    "### Step 1 - Discovery\n",
    "Query for relevant DRS objects"
   ]
  },
  {
   "cell_type": "code",
   "execution_count": 2,
   "metadata": {},
   "outputs": [
    {
     "name": "stdout",
     "output_type": "stream",
     "text": [
      "Running query\n",
      "SELECT sp.dbGaP_Subject_ID,\n",
      "'sbcgc:'||sb_drs_id FROM dbgap_demo.scr_gecco_susceptibility.subject_phenotypes_multi sp\n",
      "join dbgap_demo.scr_gecco_susceptibility.sample_multi sm on sm.dbgap_subject_id = sp.dbgap_subject_id\n",
      "join dbgap_demo.scr_gecco_susceptibility.sb_drs_index di on di.sample_id = sm.sample_id \n",
      "where AGE between 45 and 55 and sex = 'Female' and file_type = 'cram' limit 3\n",
      "_Retrieving the query_\n",
      "____Page1_______________\n",
      "____Page2_______________\n",
      "____Page3_______________\n",
      "____Page4_______________\n",
      "____Page5_______________\n",
      "____Page6_______________\n",
      "____Page7_______________\n",
      "subject=2474312, drsID=sbcgc:5baa8cece4b0db63859e6590\n",
      "sending id 5baa8cece4b0db63859e6590 to: sbcgcDRSClient\n",
      "workflow submitted, run:eef1b69e-1044-4158-b2dd-6a3e72c06fde\n",
      "____________________________________________________________\n",
      "subject=2473610, drsID=sbcgc:5baa8d0be4b0db63859e6843\n",
      "sending id 5baa8d0be4b0db63859e6843 to: sbcgcDRSClient\n",
      "workflow submitted, run:4ec3c148-f73a-4d4c-a679-1d77ebe8fd94\n",
      "____________________________________________________________\n",
      "subject=2474054, drsID=sbcgc:5baa8b9de4b0db63859e5f33\n",
      "sending id 5baa8b9de4b0db63859e5f33 to: sbcgcDRSClient\n",
      "workflow submitted, run:095777d1-7de3-4d25-935f-fb626bcec505\n",
      "____________________________________________________________\n"
     ]
    }
   ],
   "source": [
    "# TCGA Query - CRDC\n",
    "crdcquery = '''SELECT sp.dbGaP_Subject_ID,\n",
    "'sbcgc:'||sb_drs_id FROM dbgap_demo.scr_gecco_susceptibility.subject_phenotypes_multi sp\n",
    "join dbgap_demo.scr_gecco_susceptibility.sample_multi sm on sm.dbgap_subject_id = sp.dbgap_subject_id\n",
    "join dbgap_demo.scr_gecco_susceptibility.sb_drs_index di on di.sample_id = sm.sample_id \n",
    "where AGE between 45 and 55 and sex = 'Female' and file_type = 'cram' limit 3'''\n",
    "\n",
    "\n",
    "bdcquery = '''\n",
    "    SELECT sp.dbGaP_Subject_ID,  'bdc:'||read_drs_id\n",
    "    FROM `isbcgc-216220.COPDGene.Subject_MULTI` sm\n",
    "    join `isbcgc-216220.COPDGene.Subject_Phenotypes_HMB` sp on sp.dbgap_subject_id = sm.dbgap_subject_id\n",
    "    join `isbcgc-216220.COPDGene.COPD_DRS` drs on drs.su_submitter_id = sm.subject_id\n",
    "    where gender = '2'\n",
    "    and Age_Enroll between 45 and 55\n",
    "    LIMIT 3'''\n",
    "\n",
    "searchClient = DiscoverySearchClient('https://ga4gh-search-adapter-presto-public.prod.dnastack.com/')\n",
    "drsClient = DRSMetaResolver()\n",
    "\n",
    "# Step 3 - set up a class that runs samtools for us\n",
    "# providing the location for the resultssettings = faspRunner.settings\n",
    "settings = faspRunner.settings\n",
    "wesClient = sbWESClient(settings['SevenBridgesInstance'], settings['SevenBridgesProject'],\n",
    "                        '~/.keys/sbcgc_key.json')\n",
    "\n",
    "faspRunner.configure(searchClient, drsClient, wesClient)\n",
    "runList = faspRunner.runQuery(crdcquery, runNote)"
   ]
  },
  {
   "cell_type": "markdown",
   "metadata": {},
   "source": [
    "### BioDataCatalyst runs\t"
   ]
  },
  {
   "cell_type": "code",
   "execution_count": 3,
   "metadata": {},
   "outputs": [
    {
     "name": "stdout",
     "output_type": "stream",
     "text": [
      "Running query\n",
      "\n",
      "    SELECT sp.dbGaP_Subject_ID,  'bdc:'||read_drs_id\n",
      "    FROM `isbcgc-216220.COPDGene.Subject_MULTI` sm\n",
      "    join `isbcgc-216220.COPDGene.Subject_Phenotypes_HMB` sp on sp.dbgap_subject_id = sm.dbgap_subject_id\n",
      "    join `isbcgc-216220.COPDGene.COPD_DRS` drs on drs.su_submitter_id = sm.subject_id\n",
      "    where gender = '2'\n",
      "    and Age_Enroll between 45 and 55\n",
      "    LIMIT 3\n",
      "subject=593813, drsID=bdc:dg.4503/27ff623b-c509-4ee7-a1b8-aaaa70664fa6\n",
      "sending id dg.4503/27ff623b-c509-4ee7-a1b8-aaaa70664fa6 to: bdcDRSClient\n",
      "workflow submitted, run:5334615421176953153\n",
      "____________________________________________________________\n",
      "subject=434247, drsID=bdc:dg.4503/c0ee02ea-a94d-426c-9e44-91288216eae0\n",
      "sending id dg.4503/c0ee02ea-a94d-426c-9e44-91288216eae0 to: bdcDRSClient\n",
      "workflow submitted, run:312335234246004089\n",
      "____________________________________________________________\n",
      "subject=594619, drsID=bdc:dg.4503/c385fddb-b18e-40d1-806e-851d48ae96fa\n",
      "sending id dg.4503/c385fddb-b18e-40d1-806e-851d48ae96fa to: bdcDRSClient\n",
      "workflow submitted, run:4475946918398103413\n",
      "____________________________________________________________\n"
     ]
    }
   ],
   "source": [
    "searchClient = BigQuerySearchClient()\n",
    "gcplocation = 'projects/{}/locations/{}'.format(settings['GCPProject'], settings['GCPPipelineRegion'])\n",
    "wesClient = GCPLSsamtools(gcplocation, settings['GCPOutputBucket'])\n",
    "\n",
    "\n",
    "faspRunner.configure(searchClient, drsClient, wesClient)\n",
    "runList = faspRunner.runQuery(bdcquery, runNote)"
   ]
  },
  {
   "cell_type": "code",
   "execution_count": 6,
   "metadata": {},
   "outputs": [
    {
     "data": {
      "image/png": "[encoded data removed]",
      "text/plain": [
       "<PIL.Image.Image image mode=RGB size=120x60 at 0x11EF6E588>"
      ]
     },
     "execution_count": 6,
     "metadata": {},
     "output_type": "execute_result"
    }
   ],
   "source": [
    "faspRunner.getFASPicon()"
   ]
  },
  {
   "cell_type": "code",
   "execution_count": null,
   "metadata": {},
   "outputs": [],
   "source": []
  }
 ],
 "metadata": {
  "kernelspec": {
   "display_name": "Python 3",
   "language": "python",
   "name": "python3"
  },
  "language_info": {
   "codemirror_mode": {
    "name": "ipython",
    "version": 3
   },
   "file_extension": ".py",
   "mimetype": "text/x-python",
   "name": "python",
   "nbconvert_exporter": "python",
   "pygments_lexer": "ipython3",
   "version": "3.7.3"
  }
 },
 "nbformat": 4,
 "nbformat_minor": 4
}
