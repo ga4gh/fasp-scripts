{
 "cells": [
  {
   "cell_type": "markdown",
   "metadata": {},
   "source": [
    "<img src=\"../fasp/runner/credits/images/FASPNotebook15.png\" style=\"float: right;\">\n",
    "\n",
    "### GTEX Example - Google Cloud\n",
    "This notebook computes on GTEX version 8 files on Google Cloud Platform. \n",
    "\n",
    "In this case the DRS ids of the GTEX files are available via a client which access a local manifest file. The manifest file is obtained from Anvil as follows.\n",
    "https://anvilproject.org/learn/reference/gtex-v8-free-egress-instructions\n",
    "\n",
    "Rather than use the Gen3 Downloader described in the egress instructions, this example uses the Anvil DRS service to obtain URLs which can be passed to the Google Cloud Pipeline.\n",
    "\n",
    "Note also the instructions refer to free egress which is only possible via the AWS platform.\n",
    "\n",
    "In this case the compute is performed on the Google Cloud copy of the data using Google compute. No egress charges are incurred, however it is necessary to provide a billing project in order that a URL can be generated. "
   ]
  },
  {
   "cell_type": "code",
   "execution_count": 3,
   "metadata": {},
   "outputs": [
    {
     "name": "stdout",
     "output_type": "stream",
     "text": [
      "Running FASPNotebook15-GTEXExample-GCP.ipynb\n"
     ]
    }
   ],
   "source": [
    "from fasp.runner import FASPRunner\n",
    "\n",
    "# The implementations we're using\n",
    "from fasp.search import Gen3ManifestClient\n",
    "from fasp.loc import anvilDRSClient\n",
    "from fasp.workflow import GCPLSsamtools\n",
    "\n",
    "faspRunner = FASPRunner()\n",
    "\n",
    "# Step 1 - Discovery\n",
    "# Search client to access manifest downloaded from Anvil\n",
    "searchClient = Gen3ManifestClient('../fasp/data/gtex/gtex-cram-manifest.json')\n",
    "\n"
   ]
  },
  {
   "cell_type": "markdown",
   "metadata": {},
   "source": [
    "Note that the configuration of the Anvil DRS Client includes the billing project to which any charges would be applied."
   ]
  },
  {
   "cell_type": "code",
   "execution_count": 4,
   "metadata": {},
   "outputs": [
    {
     "name": "stdout",
     "output_type": "stream",
     "text": [
      "Running query\n",
      "3\n",
      "subject=GTEX-1GTWX-0001-SM-7J3A5.cram, drsID=dg.ANV0/76bb893d-12da-41ca-8828-ff89551d3e15\n",
      "workflow submitted, run:10465117703135878315\n",
      "____________________________________________________________\n",
      "subject=GTEX-14PQA-0003-SM-7DLH4.cram, drsID=dg.ANV0/66352de8-4b50-4cae-881d-b76d03df5ac8\n",
      "workflow submitted, run:14490116891816357479\n",
      "____________________________________________________________\n",
      "subject=GTEX-1B98T-0004-SM-7J38T.cram, drsID=dg.ANV0/ed9ac9ae-02da-4e97-93da-ad86aa77d227\n",
      "workflow submitted, run:2471317949033701719\n",
      "____________________________________________________________\n"
     ]
    },
    {
     "data": {
      "text/plain": [
       "[{'subject': 'GTEX-1GTWX-0001-SM-7J3A5.cram',\n",
       "  'run_id': '10465117703135878315'},\n",
       " {'subject': 'GTEX-14PQA-0003-SM-7DLH4.cram',\n",
       "  'run_id': '14490116891816357479'},\n",
       " {'subject': 'GTEX-1B98T-0004-SM-7J38T.cram', 'run_id': '2471317949033701719'}]"
      ]
     },
     "execution_count": 4,
     "metadata": {},
     "output_type": "execute_result"
    }
   ],
   "source": [
    "settings = faspRunner.settings\n",
    "\n",
    "drsClient = anvilDRSClient('~/.keys/anvil_credentials.json', settings['GCPProject'], 'gs')\n",
    "\n",
    "location = 'projects/{}/locations/{}'.format(settings['GCPProject'], settings['GCPPipelineRegion'])\n",
    "workflowClient = GCPLSsamtools(location, settings['GCPOutputBucket'])\n",
    "\n",
    "faspRunner.configure(searchClient, drsClient, workflowClient)\n",
    "\n",
    "faspRunner.runQuery(3, 'Anvil GTEX Test')\n"
   ]
  },
  {
   "cell_type": "code",
   "execution_count": 5,
   "metadata": {},
   "outputs": [
    {
     "data": {
      "image/png": "[encoded data removed]",
      "text/plain": [
       "<PIL.Image.Image image mode=RGB size=60x60 at 0x1104B9DD8>"
      ]
     },
     "execution_count": 5,
     "metadata": {},
     "output_type": "execute_result"
    }
   ],
   "source": [
    "faspRunner.getFASPicon()"
   ]
  },
  {
   "cell_type": "code",
   "execution_count": null,
   "metadata": {},
   "outputs": [],
   "source": []
  }
 ],
 "metadata": {
  "kernelspec": {
   "display_name": "Python 3",
   "language": "python",
   "name": "python3"
  },
  "language_info": {
   "codemirror_mode": {
    "name": "ipython",
    "version": 3
   },
   "file_extension": ".py",
   "mimetype": "text/x-python",
   "name": "python",
   "nbconvert_exporter": "python",
   "pygments_lexer": "ipython3",
   "version": "3.7.3"
  }
 },
 "nbformat": 4,
 "nbformat_minor": 4
}
