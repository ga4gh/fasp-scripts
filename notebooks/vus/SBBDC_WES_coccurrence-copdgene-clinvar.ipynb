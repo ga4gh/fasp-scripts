{
 "cells": [
  {
   "cell_type": "markdown",
   "metadata": {},
   "source": [
    "## Running the VUS cooccurence workflow via WES on TopMed COPDGene data\n",
    "Other than the COPDGene vcf file which was the target of the analysis, the files used in the example were uploaded to the BioDataCatalyst Seven Bridges server.\n",
    "\n",
    "Prior to the workflow the COPDGene_phs000951_TOPMed_WGS_freeze.8.chr13.hg38.c1.vcf was filtered down to the range of BRCA2 by using BCFTools."
   ]
  },
  {
   "cell_type": "code",
   "execution_count": 1,
   "metadata": {},
   "outputs": [
    {
     "name": "stderr",
     "output_type": "stream",
     "text": [
      "/Users/forei/imfenvs/fasp/lib/python3.9/site-packages/pandas/compat/__init__.py:124: UserWarning: Could not import the lzma module. Your installed Python is incomplete. Attempting to use lzma compression will result in a RuntimeError.\n",
      "  warnings.warn(msg)\n"
     ]
    }
   ],
   "source": [
    "from fasp.workflow import sbWESClient\n",
    "cl = sbWESClient('https://ga4gh-api.sb.biodatacatalyst.nhlbi.nih.gov/ga4gh/wes/v1', 'forei/fasp-vus',\n",
    "                     '~/.keys/sbbdc_key.json', debug=True)"
   ]
  },
  {
   "cell_type": "markdown",
   "metadata": {},
   "source": [
    "## Setting up the WES run"
   ]
  },
  {
   "cell_type": "code",
   "execution_count": 2,
   "metadata": {},
   "outputs": [],
   "source": [
    "params = {\n",
    "    \"project\": \"forei/fasp-vus\",\n",
    "    \"inputs\": {\n",
    "        'vcf_file': {'path': 'drs://ga4gh-api.sb.biodatacatalyst.nhlbi.nih.gov/617c77bce6261a31b6d12f0a',\n",
    "                     'name': 'COPDGene_phs000951_TOPMed_WGS_freeze.8.chr13.hg38.c1.filtered.vcf',\n",
    "                     'class': 'File'},\n",
    "\n",
    "        'pathogenicity_file': {'path': 'drs://ga4gh-api.sb.biodatacatalyst.nhlbi.nih.gov/619d2c405d45c457d555d398',\n",
    "                               'name': 'clinvar_20211120_13.vcf',\n",
    "                               'class': 'File'}\n",
    "        }\n",
    "    }\n",
    "\n"
   ]
  },
  {
   "cell_type": "markdown",
   "metadata": {},
   "source": [
    "Now we have formulated the body in the way that it can be passed to a client function as follows."
   ]
  },
  {
   "cell_type": "code",
   "execution_count": 3,
   "metadata": {},
   "outputs": [
    {
     "data": {
      "text/plain": [
       "'19f53635-f367-4dc3-b103-b38f980c42f5'"
      ]
     },
     "execution_count": 3,
     "metadata": {},
     "output_type": "execute_result"
    }
   ],
   "source": [
    "import json\n",
    "run_id= cl.runGenericWorkflow(\n",
    "    workflow_url=\"sbg://forei/fasp-vus/cooccurrence/5\",\n",
    "    workflow_params = json.dumps(params),\n",
    "    workflow_type = \"CWL\",\n",
    "    workflow_type_version = \"sbg:draft-2\"\n",
    ")\n",
    "run_id"
   ]
  },
  {
   "cell_type": "code",
   "execution_count": 5,
   "metadata": {
    "scrolled": true
   },
   "outputs": [
    {
     "name": "stdout",
     "output_type": "stream",
     "text": [
      "COMPLETE\n",
      "0:13:47\n"
     ]
    }
   ],
   "source": [
    "import dateutil.parser\n",
    "print(cl.getTaskStatus(run_id))\n",
    "log = cl.GetRunLog(run_id)\n",
    "if log['run_log']['start_time']:\n",
    "    start = dateutil.parser.isoparse(log['run_log']['start_time'])\n",
    "    end = dateutil.parser.isoparse(log['run_log']['end_time'])\n",
    "    duration = end - start\n",
    "    print(str(duration))"
   ]
  },
  {
   "cell_type": "code",
   "execution_count": 6,
   "metadata": {},
   "outputs": [
    {
     "data": {
      "text/plain": [
       "{'request': {'tags': {},\n",
       "  'workflow_params': {'name': 'cooccurrence run - 11-23-21 19:34:55',\n",
       "   'project': 'forei/fasp-vus',\n",
       "   'inputs': {'p2': None,\n",
       "    'save_files': None,\n",
       "    'gene': None,\n",
       "    'chromosome': None,\n",
       "    'data_directory': None,\n",
       "    'ensembl_release': None,\n",
       "    'pathology_file': None,\n",
       "    'gnomad_file': None,\n",
       "    'hg_version': None,\n",
       "    'vcf_file': {'path': 'drs://ga4gh-api.sb.biodatacatalyst.nhlbi.nih.gov/617f3fc9fe2ce002310283ba',\n",
       "     'name': '_1_COPDGene_phs000951_TOPMed_WGS_freeze.8.chr13.hg38.c1.filtered.vcf',\n",
       "     'class': 'File'},\n",
       "    'phased': None,\n",
       "    'pathogenicity_file': {'path': 'drs://ga4gh-api.sb.biodatacatalyst.nhlbi.nih.gov/619d425f35d6fb33b51ec7ca',\n",
       "     'name': 'clinvar_20211120_13.vcf',\n",
       "     'class': 'File'}}},\n",
       "  'workflow_type': 'CWL',\n",
       "  'workflow_engine_params': {},\n",
       "  'workflow_url': 'sbg://forei/fasp-vus/cooccurrence/5'},\n",
       " 'state': 'COMPLETE',\n",
       " 'outputs': {'vpi_file': {'path': 'drs://ga4gh-api.sb.biodatacatalyst.nhlbi.nih.gov/619d459b35d6fb33b51ec7e3',\n",
       "   'name': '_8_BRCA2-vpi.json',\n",
       "   'class': 'File'},\n",
       "  'pathology_output': None,\n",
       "  'all_file': {'path': 'drs://ga4gh-api.sb.biodatacatalyst.nhlbi.nih.gov/619d459b35d6fb33b51ec7df',\n",
       "   'name': '_8_BRCA2-all.json',\n",
       "   'class': 'File'},\n",
       "  'out_file': {'path': 'drs://ga4gh-api.sb.biodatacatalyst.nhlbi.nih.gov/619d459b35d6fb33b51ec7e7',\n",
       "   'name': '_10_BRCA2-cooccurrences.json',\n",
       "   'class': 'File'},\n",
       "  'ipv_file': {'path': 'drs://ga4gh-api.sb.biodatacatalyst.nhlbi.nih.gov/619d459b35d6fb33b51ec7e4',\n",
       "   'name': '_8_BRCA2-ipv.json',\n",
       "   'class': 'File'},\n",
       "  'tout_file': {'path': 'drs://ga4gh-api.sb.biodatacatalyst.nhlbi.nih.gov/619d459b35d6fb33b51ec7e1',\n",
       "   'name': '_8_BRCA2-tout.json',\n",
       "   'class': 'File'}},\n",
       " 'run_id': '19f53635-f367-4dc3-b103-b38f980c42f5',\n",
       " 'run_log': {'name': 'cooccurrence run - 11-23-21 19:34:55',\n",
       "  'cmd': None,\n",
       "  'start_time': '2021-11-23T19:34:56Z',\n",
       "  'end_time': '2021-11-23T19:48:43Z',\n",
       "  'stdout': None,\n",
       "  'stderr': None,\n",
       "  'exit_code': 0},\n",
       " 'task_logs': [{'name': 'cooccurrence',\n",
       "   'cmd': '/usr/bin/python3 /app/cooccurrence/cooccurrenceFinder.py --g BRCA2 --vcf /sbgenomics/Projects/2aa9e16d-ede5-43d6-9605-04fab05f34b3/_1_COPDGene_phs000951_TOPMed_WGS_freeze.8.chr13.hg38.c1.filtered.vcf --h 38 --e 99 --c 13 --p True --p2 0.001 --vpf /sbgenomics/Projects/2aa9e16d-ede5-43d6-9605-04fab05f34b3/clinvar_20211120_13.vcf --d /var/tmp/pyensembl-cache --save True',\n",
       "   'start_time': '2021-11-23T19:38:22Z',\n",
       "   'end_time': '2021-11-23T19:48:39Z',\n",
       "   'stdout': 'drs://ga4gh-api.sb.biodatacatalyst.nhlbi.nih.gov/619d45965d45c457d5560525',\n",
       "   'stderr': 'drs://ga4gh-api.sb.biodatacatalyst.nhlbi.nih.gov/619d45965d45c457d5560525',\n",
       "   'exit_code': 0}]}"
      ]
     },
     "execution_count": 6,
     "metadata": {},
     "output_type": "execute_result"
    }
   ],
   "source": [
    "cl.GetRunLog(run_id)"
   ]
  },
  {
   "cell_type": "markdown",
   "metadata": {},
   "source": [
    "## Getting the results - via DRS\n",
    "Once the run is complete, further steps can use DRS to obtain the file output from the workflow."
   ]
  },
  {
   "cell_type": "code",
   "execution_count": 7,
   "metadata": {},
   "outputs": [
    {
     "data": {
      "text/plain": [
       "{'vpi_file': {'path': 'drs://ga4gh-api.sb.biodatacatalyst.nhlbi.nih.gov/619d459b35d6fb33b51ec7e3',\n",
       "  'name': '_8_BRCA2-vpi.json',\n",
       "  'class': 'File'},\n",
       " 'pathology_output': None,\n",
       " 'all_file': {'path': 'drs://ga4gh-api.sb.biodatacatalyst.nhlbi.nih.gov/619d459b35d6fb33b51ec7df',\n",
       "  'name': '_8_BRCA2-all.json',\n",
       "  'class': 'File'},\n",
       " 'out_file': {'path': 'drs://ga4gh-api.sb.biodatacatalyst.nhlbi.nih.gov/619d459b35d6fb33b51ec7e7',\n",
       "  'name': '_10_BRCA2-cooccurrences.json',\n",
       "  'class': 'File'},\n",
       " 'ipv_file': {'path': 'drs://ga4gh-api.sb.biodatacatalyst.nhlbi.nih.gov/619d459b35d6fb33b51ec7e4',\n",
       "  'name': '_8_BRCA2-ipv.json',\n",
       "  'class': 'File'},\n",
       " 'tout_file': {'path': 'drs://ga4gh-api.sb.biodatacatalyst.nhlbi.nih.gov/619d459b35d6fb33b51ec7e1',\n",
       "  'name': '_8_BRCA2-tout.json',\n",
       "  'class': 'File'}}"
      ]
     },
     "execution_count": 7,
     "metadata": {},
     "output_type": "execute_result"
    }
   ],
   "source": [
    "runLog = cl.GetRunLog(run_id)\n",
    "runLog['outputs']"
   ]
  },
  {
   "cell_type": "code",
   "execution_count": 8,
   "metadata": {},
   "outputs": [
    {
     "data": {
      "text/plain": [
       "'drs://ga4gh-api.sb.biodatacatalyst.nhlbi.nih.gov/619d459b35d6fb33b51ec7e7'"
      ]
     },
     "execution_count": 8,
     "metadata": {},
     "output_type": "execute_result"
    }
   ],
   "source": [
    "resultsDRSID = runLog['outputs']['out_file']['path']\n",
    "resultsDRSID"
   ]
  },
  {
   "cell_type": "markdown",
   "metadata": {},
   "source": [
    "Use the BioDataCatalyst SB DRS Server to retrieve the results files"
   ]
  },
  {
   "cell_type": "code",
   "execution_count": 9,
   "metadata": {
    "scrolled": true
   },
   "outputs": [],
   "source": [
    "from fasp.loc import sbbdcDRSClient\n",
    "drsClient = sbbdcDRSClient('~/.keys/sevenbridges_keys.json', 's3')"
   ]
  },
  {
   "cell_type": "markdown",
   "metadata": {},
   "source": [
    "### DRS GetObject\n",
    "Here's how we then get details of the file. Note that here only the id portion of the DRS URI is being passed. It is the job of a metaresolver to look at that URI and to determine where to send the id. As noted, we are passing up on the opportunity to use a metaresolver and putting in the id manually."
   ]
  },
  {
   "cell_type": "code",
   "execution_count": 10,
   "metadata": {},
   "outputs": [
    {
     "data": {
      "text/plain": [
       "{'id': '619d459b35d6fb33b51ec7e7',\n",
       " 'name': '_10_BRCA2-cooccurrences.json',\n",
       " 'size': 19069,\n",
       " 'checksums': [{'type': 'etag',\n",
       "   'checksum': '746014d5b3bc71a68d40ebac0e101c6b-1'}],\n",
       " 'self_uri': 'drs://ga4gh-api.sb.biodatacatalyst.nhlbi.nih.gov/619d459b35d6fb33b51ec7e7',\n",
       " 'created_time': '2021-11-23T19:48:43Z',\n",
       " 'updated_time': '2021-11-23T19:48:43Z',\n",
       " 'mime_type': 'application/json',\n",
       " 'access_methods': [{'type': 's3',\n",
       "   'region': 'us-east-1',\n",
       "   'access_id': 'aws-us-east-1'}]}"
      ]
     },
     "execution_count": 10,
     "metadata": {},
     "output_type": "execute_result"
    }
   ],
   "source": [
    "sbDRSID = resultsDRSID.split('/')[-1]\n",
    "fileDetails = drsClient.getObject(sbDRSID)\n",
    "fileDetails"
   ]
  },
  {
   "cell_type": "code",
   "execution_count": 11,
   "metadata": {},
   "outputs": [],
   "source": [
    "url = drsClient.getAccessURL(sbDRSID,'s3')"
   ]
  },
  {
   "cell_type": "markdown",
   "metadata": {},
   "source": [
    "### Downloading the file\n",
    "Now we can use the url obtained to download the file. We'll create a small function to encapsulate the download."
   ]
  },
  {
   "cell_type": "code",
   "execution_count": 12,
   "metadata": {},
   "outputs": [],
   "source": [
    "import requests\n",
    "import os\n",
    "def download(url, file_path):\n",
    "    with open(os.path.expanduser(file_path), \"wb\") as file:\n",
    "        response = requests.get(url)\n",
    "        file.write(response.content)"
   ]
  },
  {
   "cell_type": "code",
   "execution_count": 13,
   "metadata": {},
   "outputs": [],
   "source": [
    "fullPath = fileDetails['name']\n",
    "download(url, fullPath)\n"
   ]
  },
  {
   "cell_type": "code",
   "execution_count": 14,
   "metadata": {},
   "outputs": [],
   "source": [
    "with open(fullPath) as json_file:\n",
    "    data = json.load(json_file)\n",
    "# delete the local copy of the file\n",
    "os.remove(fullPath)\n",
    "# and look at the contents\n",
    "# data"
   ]
  },
  {
   "cell_type": "code",
   "execution_count": 15,
   "metadata": {},
   "outputs": [
    {
     "data": {
      "text/html": [
       "<div>\n",
       "<style scoped>\n",
       "    .dataframe tbody tr th:only-of-type {\n",
       "        vertical-align: middle;\n",
       "    }\n",
       "\n",
       "    .dataframe tbody tr th {\n",
       "        vertical-align: top;\n",
       "    }\n",
       "\n",
       "    .dataframe thead th {\n",
       "        text-align: right;\n",
       "    }\n",
       "</style>\n",
       "<table border=\"1\" class=\"dataframe\">\n",
       "  <thead>\n",
       "    <tr style=\"text-align: right;\">\n",
       "      <th></th>\n",
       "      <th>vus</th>\n",
       "      <th>p1</th>\n",
       "      <th>p2</th>\n",
       "      <th>n</th>\n",
       "      <th>k</th>\n",
       "      <th>likelihood</th>\n",
       "      <th>maxPop</th>\n",
       "      <th>maxPopFreq</th>\n",
       "      <th>cohortFreq</th>\n",
       "      <th>no_pathogenic_coocurrs</th>\n",
       "    </tr>\n",
       "  </thead>\n",
       "  <tbody>\n",
       "    <tr>\n",
       "      <th>0</th>\n",
       "      <td>('13', 32342270, 'CA', 'C')</td>\n",
       "      <td>0.001077</td>\n",
       "      <td>0.001</td>\n",
       "      <td>5000</td>\n",
       "      <td>1</td>\n",
       "      <td>1.363553</td>\n",
       "      <td>NaN</td>\n",
       "      <td>NaN</td>\n",
       "      <td>0.489428</td>\n",
       "      <td>1</td>\n",
       "    </tr>\n",
       "    <tr>\n",
       "      <th>1</th>\n",
       "      <td>('13', 32344166, 'GAA', 'G')</td>\n",
       "      <td>0.001077</td>\n",
       "      <td>0.001</td>\n",
       "      <td>4192</td>\n",
       "      <td>1</td>\n",
       "      <td>1.281487</td>\n",
       "      <td>NaN</td>\n",
       "      <td>NaN</td>\n",
       "      <td>0.410337</td>\n",
       "      <td>1</td>\n",
       "    </tr>\n",
       "    <tr>\n",
       "      <th>2</th>\n",
       "      <td>('13', 32365109, 'C', 'CT')</td>\n",
       "      <td>0.001077</td>\n",
       "      <td>0.001</td>\n",
       "      <td>3444</td>\n",
       "      <td>1</td>\n",
       "      <td>1.209925</td>\n",
       "      <td>NaN</td>\n",
       "      <td>NaN</td>\n",
       "      <td>0.337118</td>\n",
       "      <td>1</td>\n",
       "    </tr>\n",
       "    <tr>\n",
       "      <th>3</th>\n",
       "      <td>('13', 32368001, 'CTTTTTTTTTT', 'C')</td>\n",
       "      <td>0.001077</td>\n",
       "      <td>0.001</td>\n",
       "      <td>6704</td>\n",
       "      <td>2</td>\n",
       "      <td>1.443371</td>\n",
       "      <td>NaN</td>\n",
       "      <td>NaN</td>\n",
       "      <td>0.656226</td>\n",
       "      <td>2</td>\n",
       "    </tr>\n",
       "    <tr>\n",
       "      <th>4</th>\n",
       "      <td>('13', 32392589, 'CAA', 'C')</td>\n",
       "      <td>0.001077</td>\n",
       "      <td>0.001</td>\n",
       "      <td>5432</td>\n",
       "      <td>2</td>\n",
       "      <td>1.309001</td>\n",
       "      <td>NaN</td>\n",
       "      <td>NaN</td>\n",
       "      <td>0.531715</td>\n",
       "      <td>2</td>\n",
       "    </tr>\n",
       "    <tr>\n",
       "      <th>5</th>\n",
       "      <td>('13', 32399786, 'C', 'CT')</td>\n",
       "      <td>0.001077</td>\n",
       "      <td>0.001</td>\n",
       "      <td>4495</td>\n",
       "      <td>1</td>\n",
       "      <td>1.311667</td>\n",
       "      <td>NaN</td>\n",
       "      <td>NaN</td>\n",
       "      <td>0.439996</td>\n",
       "      <td>1</td>\n",
       "    </tr>\n",
       "    <tr>\n",
       "      <th>6</th>\n",
       "      <td>('13', 32399885, 'C', 'A')</td>\n",
       "      <td>0.001077</td>\n",
       "      <td>0.001</td>\n",
       "      <td>10216</td>\n",
       "      <td>28</td>\n",
       "      <td>0.275916</td>\n",
       "      <td>NaN</td>\n",
       "      <td>NaN</td>\n",
       "      <td>1.000000</td>\n",
       "      <td>22</td>\n",
       "    </tr>\n",
       "    <tr>\n",
       "      <th>7</th>\n",
       "      <td>('13', 32400151, 'T', 'A')</td>\n",
       "      <td>0.001077</td>\n",
       "      <td>0.001</td>\n",
       "      <td>9620</td>\n",
       "      <td>16</td>\n",
       "      <td>0.640669</td>\n",
       "      <td>NaN</td>\n",
       "      <td>NaN</td>\n",
       "      <td>0.941660</td>\n",
       "      <td>13</td>\n",
       "    </tr>\n",
       "    <tr>\n",
       "      <th>8</th>\n",
       "      <td>('13', 32349814, 'C', 'CA')</td>\n",
       "      <td>0.001077</td>\n",
       "      <td>0.001</td>\n",
       "      <td>6475</td>\n",
       "      <td>1</td>\n",
       "      <td>1.527155</td>\n",
       "      <td>NaN</td>\n",
       "      <td>NaN</td>\n",
       "      <td>0.633810</td>\n",
       "      <td>1</td>\n",
       "    </tr>\n",
       "    <tr>\n",
       "      <th>9</th>\n",
       "      <td>('13', 32359222, 'GA', 'G')</td>\n",
       "      <td>0.001077</td>\n",
       "      <td>0.001</td>\n",
       "      <td>7084</td>\n",
       "      <td>1</td>\n",
       "      <td>1.600300</td>\n",
       "      <td>NaN</td>\n",
       "      <td>NaN</td>\n",
       "      <td>0.693422</td>\n",
       "      <td>1</td>\n",
       "    </tr>\n",
       "    <tr>\n",
       "      <th>10</th>\n",
       "      <td>('13', 32365109, 'CT', 'C')</td>\n",
       "      <td>0.001077</td>\n",
       "      <td>0.001</td>\n",
       "      <td>3739</td>\n",
       "      <td>1</td>\n",
       "      <td>1.237658</td>\n",
       "      <td>NaN</td>\n",
       "      <td>NaN</td>\n",
       "      <td>0.365995</td>\n",
       "      <td>1</td>\n",
       "    </tr>\n",
       "    <tr>\n",
       "      <th>11</th>\n",
       "      <td>('13', 32368798, 'GT', 'G')</td>\n",
       "      <td>0.001077</td>\n",
       "      <td>0.001</td>\n",
       "      <td>7722</td>\n",
       "      <td>2</td>\n",
       "      <td>1.560781</td>\n",
       "      <td>NaN</td>\n",
       "      <td>NaN</td>\n",
       "      <td>0.755873</td>\n",
       "      <td>2</td>\n",
       "    </tr>\n",
       "    <tr>\n",
       "      <th>12</th>\n",
       "      <td>('13', 32388666, 'C', 'CTT')</td>\n",
       "      <td>0.001077</td>\n",
       "      <td>0.001</td>\n",
       "      <td>5162</td>\n",
       "      <td>2</td>\n",
       "      <td>1.282129</td>\n",
       "      <td>NaN</td>\n",
       "      <td>NaN</td>\n",
       "      <td>0.505286</td>\n",
       "      <td>2</td>\n",
       "    </tr>\n",
       "    <tr>\n",
       "      <th>13</th>\n",
       "      <td>('13', 32388666, 'C', 'CTTT')</td>\n",
       "      <td>0.001077</td>\n",
       "      <td>0.001</td>\n",
       "      <td>4306</td>\n",
       "      <td>2</td>\n",
       "      <td>1.200529</td>\n",
       "      <td>NaN</td>\n",
       "      <td>NaN</td>\n",
       "      <td>0.421496</td>\n",
       "      <td>2</td>\n",
       "    </tr>\n",
       "    <tr>\n",
       "      <th>14</th>\n",
       "      <td>('13', 32353467, 'C', 'CAGAG')</td>\n",
       "      <td>0.001077</td>\n",
       "      <td>0.001</td>\n",
       "      <td>4156</td>\n",
       "      <td>1</td>\n",
       "      <td>1.277948</td>\n",
       "      <td>NaN</td>\n",
       "      <td>NaN</td>\n",
       "      <td>0.406813</td>\n",
       "      <td>1</td>\n",
       "    </tr>\n",
       "    <tr>\n",
       "      <th>15</th>\n",
       "      <td>('13', 32353470, 'A', 'C')</td>\n",
       "      <td>0.001077</td>\n",
       "      <td>0.001</td>\n",
       "      <td>4158</td>\n",
       "      <td>1</td>\n",
       "      <td>1.278145</td>\n",
       "      <td>NaN</td>\n",
       "      <td>NaN</td>\n",
       "      <td>0.407009</td>\n",
       "      <td>1</td>\n",
       "    </tr>\n",
       "    <tr>\n",
       "      <th>16</th>\n",
       "      <td>('13', 32353471, 'AAGC', 'A')</td>\n",
       "      <td>0.001077</td>\n",
       "      <td>0.001</td>\n",
       "      <td>4157</td>\n",
       "      <td>1</td>\n",
       "      <td>1.278046</td>\n",
       "      <td>NaN</td>\n",
       "      <td>NaN</td>\n",
       "      <td>0.406911</td>\n",
       "      <td>1</td>\n",
       "    </tr>\n",
       "    <tr>\n",
       "      <th>17</th>\n",
       "      <td>('13', 32359222, 'GAA', 'G')</td>\n",
       "      <td>0.001077</td>\n",
       "      <td>0.001</td>\n",
       "      <td>4411</td>\n",
       "      <td>1</td>\n",
       "      <td>1.303230</td>\n",
       "      <td>NaN</td>\n",
       "      <td>NaN</td>\n",
       "      <td>0.431774</td>\n",
       "      <td>1</td>\n",
       "    </tr>\n",
       "    <tr>\n",
       "      <th>18</th>\n",
       "      <td>('13', 32388121, 'CT', 'C')</td>\n",
       "      <td>0.001077</td>\n",
       "      <td>0.001</td>\n",
       "      <td>4800</td>\n",
       "      <td>3</td>\n",
       "      <td>1.158001</td>\n",
       "      <td>NaN</td>\n",
       "      <td>NaN</td>\n",
       "      <td>0.469851</td>\n",
       "      <td>3</td>\n",
       "    </tr>\n",
       "  </tbody>\n",
       "</table>\n",
       "</div>"
      ],
      "text/plain": [
       "                                     vus        p1     p2      n   k  \\\n",
       "0            ('13', 32342270, 'CA', 'C')  0.001077  0.001   5000   1   \n",
       "1           ('13', 32344166, 'GAA', 'G')  0.001077  0.001   4192   1   \n",
       "2            ('13', 32365109, 'C', 'CT')  0.001077  0.001   3444   1   \n",
       "3   ('13', 32368001, 'CTTTTTTTTTT', 'C')  0.001077  0.001   6704   2   \n",
       "4           ('13', 32392589, 'CAA', 'C')  0.001077  0.001   5432   2   \n",
       "5            ('13', 32399786, 'C', 'CT')  0.001077  0.001   4495   1   \n",
       "6             ('13', 32399885, 'C', 'A')  0.001077  0.001  10216  28   \n",
       "7             ('13', 32400151, 'T', 'A')  0.001077  0.001   9620  16   \n",
       "8            ('13', 32349814, 'C', 'CA')  0.001077  0.001   6475   1   \n",
       "9            ('13', 32359222, 'GA', 'G')  0.001077  0.001   7084   1   \n",
       "10           ('13', 32365109, 'CT', 'C')  0.001077  0.001   3739   1   \n",
       "11           ('13', 32368798, 'GT', 'G')  0.001077  0.001   7722   2   \n",
       "12          ('13', 32388666, 'C', 'CTT')  0.001077  0.001   5162   2   \n",
       "13         ('13', 32388666, 'C', 'CTTT')  0.001077  0.001   4306   2   \n",
       "14        ('13', 32353467, 'C', 'CAGAG')  0.001077  0.001   4156   1   \n",
       "15            ('13', 32353470, 'A', 'C')  0.001077  0.001   4158   1   \n",
       "16         ('13', 32353471, 'AAGC', 'A')  0.001077  0.001   4157   1   \n",
       "17          ('13', 32359222, 'GAA', 'G')  0.001077  0.001   4411   1   \n",
       "18           ('13', 32388121, 'CT', 'C')  0.001077  0.001   4800   3   \n",
       "\n",
       "    likelihood  maxPop  maxPopFreq  cohortFreq  no_pathogenic_coocurrs  \n",
       "0     1.363553     NaN         NaN    0.489428                       1  \n",
       "1     1.281487     NaN         NaN    0.410337                       1  \n",
       "2     1.209925     NaN         NaN    0.337118                       1  \n",
       "3     1.443371     NaN         NaN    0.656226                       2  \n",
       "4     1.309001     NaN         NaN    0.531715                       2  \n",
       "5     1.311667     NaN         NaN    0.439996                       1  \n",
       "6     0.275916     NaN         NaN    1.000000                      22  \n",
       "7     0.640669     NaN         NaN    0.941660                      13  \n",
       "8     1.527155     NaN         NaN    0.633810                       1  \n",
       "9     1.600300     NaN         NaN    0.693422                       1  \n",
       "10    1.237658     NaN         NaN    0.365995                       1  \n",
       "11    1.560781     NaN         NaN    0.755873                       2  \n",
       "12    1.282129     NaN         NaN    0.505286                       2  \n",
       "13    1.200529     NaN         NaN    0.421496                       2  \n",
       "14    1.277948     NaN         NaN    0.406813                       1  \n",
       "15    1.278145     NaN         NaN    0.407009                       1  \n",
       "16    1.278046     NaN         NaN    0.406911                       1  \n",
       "17    1.303230     NaN         NaN    0.431774                       1  \n",
       "18    1.158001     NaN         NaN    0.469851                       3  "
      ]
     },
     "execution_count": 15,
     "metadata": {},
     "output_type": "execute_result"
    }
   ],
   "source": [
    "# flatten cooccurrence output\n",
    "flat_vus = []\n",
    "for k, v in data['cooccurring vus'].items():\n",
    "    pathogenic_count = len(v['pathogenic variants'])\n",
    "    ## this is a pythonic way of merging dicts - it is cryptic\n",
    "    z = {**{\"vus\":k}, **v['likelihood data'], **v['allele frequencies'], **{\"no_pathogenic_coocurrs\":pathogenic_count}}\n",
    "    flat_vus.append(z)\n",
    "\n",
    "# turn the array of dicts into a data frame    \n",
    "import pandas as pd\n",
    "flat_df = pd.DataFrame(flat_vus)\n",
    "flat_df"
   ]
  },
  {
   "cell_type": "code",
   "execution_count": 16,
   "metadata": {},
   "outputs": [
    {
     "data": {
      "text/html": [
       "<div>\n",
       "<style scoped>\n",
       "    .dataframe tbody tr th:only-of-type {\n",
       "        vertical-align: middle;\n",
       "    }\n",
       "\n",
       "    .dataframe tbody tr th {\n",
       "        vertical-align: top;\n",
       "    }\n",
       "\n",
       "    .dataframe thead th {\n",
       "        text-align: right;\n",
       "    }\n",
       "</style>\n",
       "<table border=\"1\" class=\"dataframe\">\n",
       "  <thead>\n",
       "    <tr style=\"text-align: right;\">\n",
       "      <th></th>\n",
       "      <th>vus</th>\n",
       "      <th>count</th>\n",
       "      <th>cohortFreq</th>\n",
       "    </tr>\n",
       "  </thead>\n",
       "  <tbody>\n",
       "    <tr>\n",
       "      <th>0</th>\n",
       "      <td>('13', 32344166, 'GAA', 'G')</td>\n",
       "      <td>838</td>\n",
       "      <td>0.082028</td>\n",
       "    </tr>\n",
       "    <tr>\n",
       "      <th>1</th>\n",
       "      <td>('13', 32380534, 'C', 'CT')</td>\n",
       "      <td>689</td>\n",
       "      <td>0.067443</td>\n",
       "    </tr>\n",
       "    <tr>\n",
       "      <th>2</th>\n",
       "      <td>('13', 32399786, 'C', 'CT')</td>\n",
       "      <td>431</td>\n",
       "      <td>0.042189</td>\n",
       "    </tr>\n",
       "    <tr>\n",
       "      <th>3</th>\n",
       "      <td>('13', 32399885, 'C', 'A')</td>\n",
       "      <td>10199</td>\n",
       "      <td>0.998336</td>\n",
       "    </tr>\n",
       "    <tr>\n",
       "      <th>4</th>\n",
       "      <td>('13', 32400151, 'T', 'A')</td>\n",
       "      <td>6099</td>\n",
       "      <td>0.597005</td>\n",
       "    </tr>\n",
       "    <tr>\n",
       "      <th>...</th>\n",
       "      <td>...</td>\n",
       "      <td>...</td>\n",
       "      <td>...</td>\n",
       "    </tr>\n",
       "    <tr>\n",
       "      <th>142</th>\n",
       "      <td>('13', 32329935, 'C', 'T')</td>\n",
       "      <td>1</td>\n",
       "      <td>0.000098</td>\n",
       "    </tr>\n",
       "    <tr>\n",
       "      <th>143</th>\n",
       "      <td>('13', 32349878, 'G', 'A')</td>\n",
       "      <td>1</td>\n",
       "      <td>0.000098</td>\n",
       "    </tr>\n",
       "    <tr>\n",
       "      <th>144</th>\n",
       "      <td>('13', 32365109, 'C', 'CTT')</td>\n",
       "      <td>1</td>\n",
       "      <td>0.000098</td>\n",
       "    </tr>\n",
       "    <tr>\n",
       "      <th>145</th>\n",
       "      <td>('13', 32368001, 'C', 'CT')</td>\n",
       "      <td>1</td>\n",
       "      <td>0.000098</td>\n",
       "    </tr>\n",
       "    <tr>\n",
       "      <th>146</th>\n",
       "      <td>('13', 32364744, 'A', 'C')</td>\n",
       "      <td>1</td>\n",
       "      <td>0.000098</td>\n",
       "    </tr>\n",
       "  </tbody>\n",
       "</table>\n",
       "<p>147 rows × 3 columns</p>\n",
       "</div>"
      ],
      "text/plain": [
       "                              vus  count  cohortFreq\n",
       "0    ('13', 32344166, 'GAA', 'G')    838    0.082028\n",
       "1     ('13', 32380534, 'C', 'CT')    689    0.067443\n",
       "2     ('13', 32399786, 'C', 'CT')    431    0.042189\n",
       "3      ('13', 32399885, 'C', 'A')  10199    0.998336\n",
       "4      ('13', 32400151, 'T', 'A')   6099    0.597005\n",
       "..                            ...    ...         ...\n",
       "142    ('13', 32329935, 'C', 'T')      1    0.000098\n",
       "143    ('13', 32349878, 'G', 'A')      1    0.000098\n",
       "144  ('13', 32365109, 'C', 'CTT')      1    0.000098\n",
       "145   ('13', 32368001, 'C', 'CT')      1    0.000098\n",
       "146    ('13', 32364744, 'A', 'C')      1    0.000098\n",
       "\n",
       "[147 rows x 3 columns]"
      ]
     },
     "execution_count": 16,
     "metadata": {},
     "output_type": "execute_result"
    }
   ],
   "source": [
    "# homozygous vus output\n",
    "homozygous_vus = []\n",
    "for k, v in data['homozygous vus'].items():\n",
    "    ## this is a pythonic way of merging dicts - it is cryptic\n",
    "    z = {**{\"vus\":k}, **v}\n",
    "    homozygous_vus.append(z)\n",
    "\n",
    "# turn the array of dicts into a data frame    \n",
    "import pandas as pd\n",
    "hz_df = pd.DataFrame(homozygous_vus)\n",
    "hz_df"
   ]
  },
  {
   "cell_type": "markdown",
   "metadata": {},
   "source": [
    "## To do\n",
    "- Submit the pathogenicity file from the local system\n",
    "- Either  access the gnomad file from Gnomad, or supply it from the local system\n",
    "\n",
    "## Done\n",
    "- Make the container available to other WES servers by adding the Docker container to Docker Hub instead of the Seven Bridges docker repository\n"
   ]
  }
 ],
 "metadata": {
  "kernelspec": {
   "display_name": "Python 3 (ipykernel)",
   "language": "python",
   "name": "python3"
  },
  "language_info": {
   "codemirror_mode": {
    "name": "ipython",
    "version": 3
   },
   "file_extension": ".py",
   "mimetype": "text/x-python",
   "name": "python",
   "nbconvert_exporter": "python",
   "pygments_lexer": "ipython3",
   "version": "3.9.7"
  }
 },
 "nbformat": 4,
 "nbformat_minor": 4
}
