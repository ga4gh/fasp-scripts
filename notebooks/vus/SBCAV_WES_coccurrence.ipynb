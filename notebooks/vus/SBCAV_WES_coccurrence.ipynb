{
 "cells": [
  {
   "cell_type": "markdown",
   "metadata": {},
   "source": [
    "## Running the VUS cooccurence workflow via WES on Cavatica\n",
    "This notebook attempts nothing more complicated than running the readme example from the BRCA Challenge federated_analysis project at https://github.com/BRCAChallenge/federated-analysis.\n",
    "\n",
    "The files used in the example were uploaded to Cavatica."
   ]
  },
  {
   "cell_type": "code",
   "execution_count": 1,
   "metadata": {},
   "outputs": [],
   "source": [
    "input_files = {\n",
    "        \"gnomad_file\": {\n",
    "            \"drs_id\": \"616c15aa5dc80361090d275c\",\n",
    "            \"name\": \"gnomad_chr13_brca2.vcf\"\n",
    "        },\n",
    "        \"pathogenicity_file\": {\n",
    "            \"drs_id\": \"616c15ac5dc80361090d2764\",\n",
    "            \"name\": \"clinvar_brca2.tsv\"\n",
    "        },\n",
    "        \"vcf_file\": {\n",
    "            \"drs_id\": \"616c15ad5dc80361090d276c\",\n",
    "            \"name\": \"brca2.vcf\"\n",
    "        }\n",
    "    }\n"
   ]
  },
  {
   "cell_type": "code",
   "execution_count": 2,
   "metadata": {},
   "outputs": [
    {
     "name": "stderr",
     "output_type": "stream",
     "text": [
      "/Users/forei/imfenvs/fasp/lib/python3.9/site-packages/pandas/compat/__init__.py:124: UserWarning: Could not import the lzma module. Your installed Python is incomplete. Attempting to use lzma compression will result in a RuntimeError.\n",
      "  warnings.warn(msg)\n"
     ]
    }
   ],
   "source": [
    "from fasp.workflow import cavaticaWESClient\n",
    "\n",
    "cl = cavaticaWESClient('forei/fasp-vus', debug=True)"
   ]
  },
  {
   "cell_type": "markdown",
   "metadata": {},
   "source": [
    "## Setting up the WES run"
   ]
  },
  {
   "cell_type": "code",
   "execution_count": 6,
   "metadata": {},
   "outputs": [],
   "source": [
    "params = {\n",
    "    \"project\": \"forei/fasp-vus\",\n",
    "    \"inputs\": {\n",
    "    'gnomad_file': {'path': 'drs://cavatica-ga4gh-api.sbgenomics.com/6172de7c37cb3c07e42e4e7f',\n",
    "     'name': 'gnomad_chr13_brca2.vcf',\n",
    "     'class': 'File'},\n",
    "    'vcf_file': {'path': 'drs://cavatica-ga4gh-api.sbgenomics.com/6172de7f37cb3c07e42e4e91',\n",
    "     'name': 'brca2.vcf',\n",
    "     'class': 'File'},\n",
    "    'pathogenicity_file': {'path': 'drs://cavatica-ga4gh-api.sbgenomics.com/6172de7e37cb3c07e42e4e87',\n",
    "     'name': 'clinvar_brca2.tsv',\n",
    "     'class': 'File'}\n",
    "    }\n",
    "}\n",
    "\n"
   ]
  },
  {
   "cell_type": "markdown",
   "metadata": {},
   "source": [
    "Now we have formulated the body in the way that it can be passed to a client function as follows."
   ]
  },
  {
   "cell_type": "code",
   "execution_count": 7,
   "metadata": {},
   "outputs": [
    {
     "data": {
      "text/plain": [
       "'bd9fb271-19fb-472d-aa6f-95a0d946c9a0'"
      ]
     },
     "execution_count": 7,
     "metadata": {},
     "output_type": "execute_result"
    }
   ],
   "source": [
    "import json\n",
    "run_id= cl.runGenericWorkflow(\n",
    "    workflow_url=\"sbg://forei/fasp-vus/cooccurrence/1\",\n",
    "    workflow_params = json.dumps(params),\n",
    "    workflow_type = \"CWL\",\n",
    "    workflow_type_version = \"sbg:draft-2\",\n",
    "    verbose=False\n",
    ")\n",
    "run_id"
   ]
  },
  {
   "cell_type": "code",
   "execution_count": 10,
   "metadata": {},
   "outputs": [
    {
     "data": {
      "text/plain": [
       "'COMPLETE'"
      ]
     },
     "execution_count": 10,
     "metadata": {},
     "output_type": "execute_result"
    }
   ],
   "source": [
    "cl.getTaskStatus(run_id)"
   ]
  },
  {
   "cell_type": "code",
   "execution_count": 11,
   "metadata": {},
   "outputs": [
    {
     "data": {
      "text/plain": [
       "{'request': {'tags': {},\n",
       "  'workflow_params': {'name': 'cooccurrence run - 11-01-21 01:33:16',\n",
       "   'project': 'forei/fasp-vus',\n",
       "   'inputs': {'p2': None,\n",
       "    'save_files': None,\n",
       "    'gene': None,\n",
       "    'chromosome': None,\n",
       "    'data_directory': None,\n",
       "    'ensembl_release': None,\n",
       "    'pathology_file': None,\n",
       "    'gnomad_file': {'path': 'drs://cavatica-ga4gh-api.sbgenomics.com/6172de7c37cb3c07e42e4e7f',\n",
       "     'name': 'gnomad_chr13_brca2.vcf',\n",
       "     'class': 'File'},\n",
       "    'hg_version': None,\n",
       "    'vcf_file': {'path': 'drs://cavatica-ga4gh-api.sbgenomics.com/6172de7f37cb3c07e42e4e91',\n",
       "     'name': 'brca2.vcf',\n",
       "     'class': 'File'},\n",
       "    'phased': None,\n",
       "    'pathogenicity_file': {'path': 'drs://cavatica-ga4gh-api.sbgenomics.com/6172de7e37cb3c07e42e4e87',\n",
       "     'name': 'clinvar_brca2.tsv',\n",
       "     'class': 'File'}}},\n",
       "  'workflow_type': 'CWL',\n",
       "  'workflow_engine_params': {},\n",
       "  'workflow_url': 'sbg://forei/fasp-vus/cooccurrence/1'},\n",
       " 'state': 'COMPLETE',\n",
       " 'outputs': {'vpi_file': {'path': 'drs://cavatica-ga4gh-api.sbgenomics.com/617f44ead2f88b031e8fa6ad',\n",
       "   'name': '_2_BRCA2-vpi.json',\n",
       "   'class': 'File'},\n",
       "  'pathology_output': None,\n",
       "  'all_file': {'path': 'drs://cavatica-ga4gh-api.sbgenomics.com/617f44ead2f88b031e8fa6ab',\n",
       "   'name': '_2_BRCA2-all.json',\n",
       "   'class': 'File'},\n",
       "  'out_file': {'path': 'drs://cavatica-ga4gh-api.sbgenomics.com/617f44ead2f88b031e8fa6a9',\n",
       "   'name': '_2_BRCA2-cooccurrences.json',\n",
       "   'class': 'File'},\n",
       "  'ipv_file': {'path': 'drs://cavatica-ga4gh-api.sbgenomics.com/617f44ead2f88b031e8fa6af',\n",
       "   'name': '_2_BRCA2-ipv.json',\n",
       "   'class': 'File'},\n",
       "  'tout_file': {'path': 'drs://cavatica-ga4gh-api.sbgenomics.com/617f44ead2f88b031e8fa6b0',\n",
       "   'name': '_2_BRCA2-tout.json',\n",
       "   'class': 'File'}},\n",
       " 'run_id': 'bd9fb271-19fb-472d-aa6f-95a0d946c9a0',\n",
       " 'run_log': {'name': 'cooccurrence run - 11-01-21 01:33:16',\n",
       "  'cmd': None,\n",
       "  'start_time': '2021-11-01T01:33:18Z',\n",
       "  'end_time': '2021-11-01T01:37:47Z',\n",
       "  'stdout': None,\n",
       "  'stderr': None,\n",
       "  'exit_code': 0},\n",
       " 'task_logs': [{'name': 'cooccurrence',\n",
       "   'cmd': '/usr/bin/python3 /federated-analysis/app/cooccurrence/cooccurrenceFinder.py --g BRCA2 --vcf /sbgenomics/Projects/6c26b0ac-6f3b-4990-a431-b9f7f50955a7/brca2.vcf --h 38 --e 99 --c 13 --p True --p2 0.001 --vpf /sbgenomics/Projects/6c26b0ac-6f3b-4990-a431-b9f7f50955a7/clinvar_brca2.tsv --d /var/tmp/pyensembl-cache --save True --gf /sbgenomics/Projects/6c26b0ac-6f3b-4990-a431-b9f7f50955a7/gnomad_chr13_brca2.vcf',\n",
       "   'start_time': '2021-11-01T01:37:30Z',\n",
       "   'end_time': '2021-11-01T01:37:44Z',\n",
       "   'stdout': 'drs://cavatica-ga4gh-api.sbgenomics.com/617f44e7ffaaf83bfcc1571d',\n",
       "   'stderr': 'drs://cavatica-ga4gh-api.sbgenomics.com/617f44e7ffaaf83bfcc1571d',\n",
       "   'exit_code': 0}]}"
      ]
     },
     "execution_count": 11,
     "metadata": {},
     "output_type": "execute_result"
    }
   ],
   "source": [
    "cl.GetRunLog(run_id)"
   ]
  },
  {
   "cell_type": "markdown",
   "metadata": {},
   "source": [
    "## Getting the results - via DRS\n",
    "Once the run is complete, further steps can use DRS to obtain the file output from the workflow."
   ]
  },
  {
   "cell_type": "code",
   "execution_count": 12,
   "metadata": {},
   "outputs": [
    {
     "data": {
      "text/plain": [
       "{'vpi_file': {'path': 'drs://cavatica-ga4gh-api.sbgenomics.com/617f44ead2f88b031e8fa6ad',\n",
       "  'name': '_2_BRCA2-vpi.json',\n",
       "  'class': 'File'},\n",
       " 'pathology_output': None,\n",
       " 'all_file': {'path': 'drs://cavatica-ga4gh-api.sbgenomics.com/617f44ead2f88b031e8fa6ab',\n",
       "  'name': '_2_BRCA2-all.json',\n",
       "  'class': 'File'},\n",
       " 'out_file': {'path': 'drs://cavatica-ga4gh-api.sbgenomics.com/617f44ead2f88b031e8fa6a9',\n",
       "  'name': '_2_BRCA2-cooccurrences.json',\n",
       "  'class': 'File'},\n",
       " 'ipv_file': {'path': 'drs://cavatica-ga4gh-api.sbgenomics.com/617f44ead2f88b031e8fa6af',\n",
       "  'name': '_2_BRCA2-ipv.json',\n",
       "  'class': 'File'},\n",
       " 'tout_file': {'path': 'drs://cavatica-ga4gh-api.sbgenomics.com/617f44ead2f88b031e8fa6b0',\n",
       "  'name': '_2_BRCA2-tout.json',\n",
       "  'class': 'File'}}"
      ]
     },
     "execution_count": 12,
     "metadata": {},
     "output_type": "execute_result"
    }
   ],
   "source": [
    "runLog = cl.GetRunLog(run_id)\n",
    "runLog['outputs']"
   ]
  },
  {
   "cell_type": "code",
   "execution_count": 13,
   "metadata": {},
   "outputs": [
    {
     "data": {
      "text/plain": [
       "'drs://cavatica-ga4gh-api.sbgenomics.com/617f44ead2f88b031e8fa6a9'"
      ]
     },
     "execution_count": 13,
     "metadata": {},
     "output_type": "execute_result"
    }
   ],
   "source": [
    "resultsDRSID = runLog['outputs']['out_file']['path']\n",
    "resultsDRSID"
   ]
  },
  {
   "cell_type": "markdown",
   "metadata": {},
   "source": [
    "Use the Cavatica DRS Server to retrieve the results files"
   ]
  },
  {
   "cell_type": "code",
   "execution_count": 14,
   "metadata": {
    "scrolled": true
   },
   "outputs": [],
   "source": [
    "from fasp.loc import cavaticaDRSClient\n",
    "drsClient = cavaticaDRSClient('~/.keys/sevenbridges_keys.json', 's3')"
   ]
  },
  {
   "cell_type": "markdown",
   "metadata": {},
   "source": [
    "### DRS GetObject"
   ]
  },
  {
   "cell_type": "code",
   "execution_count": 15,
   "metadata": {},
   "outputs": [
    {
     "data": {
      "text/plain": [
       "{'id': '617f44ead2f88b031e8fa6a9',\n",
       " 'name': '_2_BRCA2-cooccurrences.json',\n",
       " 'size': 950,\n",
       " 'checksums': [{'type': 'etag',\n",
       "   'checksum': '70b9acfd3fe40187a8b5689f97003313-1'}],\n",
       " 'self_uri': 'drs://cavatica-ga4gh-api.sbgenomics.com/617f44ead2f88b031e8fa6a9',\n",
       " 'created_time': '2021-11-01T01:37:46Z',\n",
       " 'updated_time': '2021-11-01T01:37:46Z',\n",
       " 'mime_type': 'application/json',\n",
       " 'access_methods': [{'type': 's3',\n",
       "   'region': 'us-east-1',\n",
       "   'access_id': 'aws-us-east-1'}]}"
      ]
     },
     "execution_count": 15,
     "metadata": {},
     "output_type": "execute_result"
    }
   ],
   "source": [
    "sbDRSID = resultsDRSID.split('/')[-1]\n",
    "fileDetails = drsClient.getObject(sbDRSID)\n",
    "fileDetails"
   ]
  },
  {
   "cell_type": "code",
   "execution_count": 16,
   "metadata": {},
   "outputs": [],
   "source": [
    "url = drsClient.getAccessURL(sbDRSID,'s3')"
   ]
  },
  {
   "cell_type": "markdown",
   "metadata": {},
   "source": [
    "### Downloading the file\n",
    "Now we can use the url obtained to download the file. We'll create a small function to encapsulate the download."
   ]
  },
  {
   "cell_type": "code",
   "execution_count": 17,
   "metadata": {},
   "outputs": [],
   "source": [
    "import requests\n",
    "import os\n",
    "def download(url, file_path):\n",
    "    with open(os.path.expanduser(file_path), \"wb\") as file:\n",
    "        response = requests.get(url)\n",
    "        file.write(response.content)"
   ]
  },
  {
   "cell_type": "code",
   "execution_count": 19,
   "metadata": {},
   "outputs": [],
   "source": [
    "fullPath = fileDetails['name']\n",
    "download(url, fullPath)\n"
   ]
  },
  {
   "cell_type": "code",
   "execution_count": 20,
   "metadata": {},
   "outputs": [
    {
     "data": {
      "text/plain": [
       "{'cooccurring vus': {\"(13, 32355250, 'T', 'C')\": {'likelihood data': {'p1': 0.375,\n",
       "    'p2': 0.001,\n",
       "    'n': 2,\n",
       "    'k': 1,\n",
       "    'likelihood': 0.0042624},\n",
       "   'allele frequencies': {'maxPop': 'eas',\n",
       "    'maxPopFreq': '0.977087',\n",
       "    'cohortFreq': 0.5},\n",
       "   'pathogenic variants': [[13, 32316508, 'GAC', 'G']]},\n",
       "  \"(13, 32353519, 'A', 'G')\": {'likelihood data': {'p1': 0.375,\n",
       "    'p2': 0.001,\n",
       "    'n': 1,\n",
       "    'k': 1,\n",
       "    'likelihood': 0.0026666666666666666},\n",
       "   'allele frequencies': {'maxPop': 'afr',\n",
       "    'maxPopFreq': '0.00385267',\n",
       "    'cohortFreq': 0.25},\n",
       "   'pathogenic variants': [[13, 32338749, 'AATTAC', 'A']]},\n",
       "  \"(13, 32353470, 'A', 'C')\": {'likelihood data': {'p1': 0.375,\n",
       "    'p2': 0.001,\n",
       "    'n': 1,\n",
       "    'k': 1,\n",
       "    'likelihood': 0.0026666666666666666},\n",
       "   'allele frequencies': {'maxPop': 'eas',\n",
       "    'maxPopFreq': '0.383654',\n",
       "    'cohortFreq': 0.25},\n",
       "   'pathogenic variants': [[13, 32340836, 'GACAA', 'G']]}},\n",
       " 'homozygous vus': {\"(13, 32355250, 'T', 'C')\": {'count': 1,\n",
       "   'maxPop': 'eas',\n",
       "   'maxPopFreq': '0.977087',\n",
       "   'cohortFreq': 0.25}}}"
      ]
     },
     "execution_count": 20,
     "metadata": {},
     "output_type": "execute_result"
    }
   ],
   "source": [
    "with open(fullPath) as json_file:\n",
    "    data = json.load(json_file)\n",
    "# delete the local copy of the file\n",
    "os.remove(fullPath)\n",
    "# and look at the contents\n",
    "data"
   ]
  },
  {
   "cell_type": "code",
   "execution_count": 21,
   "metadata": {},
   "outputs": [
    {
     "data": {
      "text/html": [
       "<div>\n",
       "<style scoped>\n",
       "    .dataframe tbody tr th:only-of-type {\n",
       "        vertical-align: middle;\n",
       "    }\n",
       "\n",
       "    .dataframe tbody tr th {\n",
       "        vertical-align: top;\n",
       "    }\n",
       "\n",
       "    .dataframe thead th {\n",
       "        text-align: right;\n",
       "    }\n",
       "</style>\n",
       "<table border=\"1\" class=\"dataframe\">\n",
       "  <thead>\n",
       "    <tr style=\"text-align: right;\">\n",
       "      <th></th>\n",
       "      <th>vus</th>\n",
       "      <th>p1</th>\n",
       "      <th>p2</th>\n",
       "      <th>n</th>\n",
       "      <th>k</th>\n",
       "      <th>likelihood</th>\n",
       "      <th>maxPop</th>\n",
       "      <th>maxPopFreq</th>\n",
       "      <th>cohortFreq</th>\n",
       "      <th>no_pathogenic_coocurrs</th>\n",
       "    </tr>\n",
       "  </thead>\n",
       "  <tbody>\n",
       "    <tr>\n",
       "      <th>0</th>\n",
       "      <td>(13, 32355250, 'T', 'C')</td>\n",
       "      <td>0.375</td>\n",
       "      <td>0.001</td>\n",
       "      <td>2</td>\n",
       "      <td>1</td>\n",
       "      <td>0.004262</td>\n",
       "      <td>eas</td>\n",
       "      <td>0.977087</td>\n",
       "      <td>0.50</td>\n",
       "      <td>1</td>\n",
       "    </tr>\n",
       "    <tr>\n",
       "      <th>1</th>\n",
       "      <td>(13, 32353519, 'A', 'G')</td>\n",
       "      <td>0.375</td>\n",
       "      <td>0.001</td>\n",
       "      <td>1</td>\n",
       "      <td>1</td>\n",
       "      <td>0.002667</td>\n",
       "      <td>afr</td>\n",
       "      <td>0.00385267</td>\n",
       "      <td>0.25</td>\n",
       "      <td>1</td>\n",
       "    </tr>\n",
       "    <tr>\n",
       "      <th>2</th>\n",
       "      <td>(13, 32353470, 'A', 'C')</td>\n",
       "      <td>0.375</td>\n",
       "      <td>0.001</td>\n",
       "      <td>1</td>\n",
       "      <td>1</td>\n",
       "      <td>0.002667</td>\n",
       "      <td>eas</td>\n",
       "      <td>0.383654</td>\n",
       "      <td>0.25</td>\n",
       "      <td>1</td>\n",
       "    </tr>\n",
       "  </tbody>\n",
       "</table>\n",
       "</div>"
      ],
      "text/plain": [
       "                        vus     p1     p2  n  k  likelihood maxPop  \\\n",
       "0  (13, 32355250, 'T', 'C')  0.375  0.001  2  1    0.004262    eas   \n",
       "1  (13, 32353519, 'A', 'G')  0.375  0.001  1  1    0.002667    afr   \n",
       "2  (13, 32353470, 'A', 'C')  0.375  0.001  1  1    0.002667    eas   \n",
       "\n",
       "   maxPopFreq  cohortFreq  no_pathogenic_coocurrs  \n",
       "0    0.977087        0.50                       1  \n",
       "1  0.00385267        0.25                       1  \n",
       "2    0.383654        0.25                       1  "
      ]
     },
     "execution_count": 21,
     "metadata": {},
     "output_type": "execute_result"
    }
   ],
   "source": [
    "# flatten cooccurrence output\n",
    "flat_vus = []\n",
    "for k, v in data['cooccurring vus'].items():\n",
    "    pathogenic_count = len(v['pathogenic variants'])\n",
    "    ## this is a pythonic way of merging dicts - it is cryptic\n",
    "    z = {**{\"vus\":k}, **v['likelihood data'], **v['allele frequencies'], **{\"no_pathogenic_coocurrs\":pathogenic_count}}\n",
    "    flat_vus.append(z)\n",
    "\n",
    "# turn the array of dicts into a data frame    \n",
    "import pandas as pd\n",
    "flat_df = pd.DataFrame(flat_vus)\n",
    "flat_df"
   ]
  },
  {
   "cell_type": "markdown",
   "metadata": {},
   "source": [
    "## To do\n",
    "- Submit the pathogenicity file from the local system\n",
    "- Either  access the gnomad file from Gnomad, or supply it from the local system\n",
    "\n",
    "### Done\n",
    "- Make the container available to other WES servers by adding the Docker container to Docker Hub instead of the Seven Bridges docker repository\n"
   ]
  },
  {
   "cell_type": "code",
   "execution_count": null,
   "metadata": {},
   "outputs": [],
   "source": [
    "\n"
   ]
  }
 ],
 "metadata": {
  "kernelspec": {
   "display_name": "Python 3 (ipykernel)",
   "language": "python",
   "name": "python3"
  },
  "language_info": {
   "codemirror_mode": {
    "name": "ipython",
    "version": 3
   },
   "file_extension": ".py",
   "mimetype": "text/x-python",
   "name": "python",
   "nbconvert_exporter": "python",
   "pygments_lexer": "ipython3",
   "version": "3.9.7"
  }
 },
 "nbformat": 4,
 "nbformat_minor": 4
}
