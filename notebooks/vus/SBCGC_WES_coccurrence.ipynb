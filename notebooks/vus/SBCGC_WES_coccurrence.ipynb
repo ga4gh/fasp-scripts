{
 "cells": [
  {
   "cell_type": "markdown",
   "metadata": {},
   "source": [
    "## Running the VUS cooccurence workflow via WES on a Seven Bridges server\n",
    "This notebook attempts nothing more complicated than running the readme example from the BRCA Challenge federated_analysis project at https://github.com/BRCAChallenge/federated-analysis.\n",
    "\n",
    "The files used in the example were uploaded to the Seven Bridges Cancer Genomics Cloud server (part of the CRDC Driver project).\n",
    "\n",
    "A container was created from the Docker image provided and the federated_analysis project was cloned into it. This container was added to the docker repository on the Seven Bridges CGC server.  \n",
    "\n"
   ]
  },
  {
   "cell_type": "code",
   "execution_count": 43,
   "metadata": {},
   "outputs": [],
   "source": [
    "from fasp.workflow import sbcgcWESClient\n",
    "\n",
    "cl = sbcgcWESClient('forei/fasp-vus', debug=True)"
   ]
  },
  {
   "cell_type": "markdown",
   "metadata": {},
   "source": [
    "## Setting up the WES run"
   ]
  },
  {
   "cell_type": "code",
   "execution_count": 52,
   "metadata": {},
   "outputs": [],
   "source": [
    "params = {\n",
    "    \"project\": \"forei/fasp-vus\",\n",
    "    \"inputs\": {\n",
    "        \"gnomad_file\": {\n",
    "            \"path\": \"drs://cgc-ga4gh-api.sbgenomics.com/616c15aa5dc80361090d275c\",\n",
    "            \"name\": \"gnomad_chr13_brca2.vcf\",\n",
    "            \"class\": \"File\"\n",
    "        },\n",
    "        \"pathogenicity_file\": {\n",
    "            \"path\": \"drs://cgc-ga4gh-api.sbgenomics.com/616c15ac5dc80361090d2764\",\n",
    "            \"name\": \"clinvar_brca2.tsv\",\n",
    "            \"class\": \"File\"\n",
    "        },\n",
    "        \"pathology_file\": {\n",
    "            \"path\": \"drs://cgc-ga4gh-api.sbgenomics.com/616c15ac58aa9505ff6f91a4\",\n",
    "            \"name\": \"brca2-pathology.tsv\",\n",
    "            \"class\": \"File\"\n",
    "        },\n",
    "\n",
    "        \"vcf_file\": {\n",
    "            \"path\": \"drs://cgc-ga4gh-api.sbgenomics.com/616c15ad5dc80361090d276c\",\n",
    "            \"name\": \"brca2.vcf\",\n",
    "            \"class\": \"File\"\n",
    "        }\n",
    "    }\n",
    "}"
   ]
  },
  {
   "cell_type": "markdown",
   "metadata": {},
   "source": [
    "Now we have formulated the body in the way that it can be passed to a client function as follows."
   ]
  },
  {
   "cell_type": "code",
   "execution_count": 53,
   "metadata": {},
   "outputs": [
    {
     "data": {
      "text/plain": [
       "'a4690a05-83cf-437b-9746-5cc3e90a7e7b'"
      ]
     },
     "execution_count": 53,
     "metadata": {},
     "output_type": "execute_result"
    }
   ],
   "source": [
    "import json\n",
    "run_id= cl.runGenericWorkflow(\n",
    "    workflow_url=\"sbg://forei/fasp-vus/cooccurence2/4\",\n",
    "    workflow_params = json.dumps(params),\n",
    "    workflow_type = \"CWL\",\n",
    "    workflow_type_version = \"sbg:draft-2\",\n",
    "    verbose=False\n",
    ")\n",
    "run_id"
   ]
  },
  {
   "cell_type": "code",
   "execution_count": 118,
   "metadata": {},
   "outputs": [
    {
     "data": {
      "text/plain": [
       "'COMPLETE'"
      ]
     },
     "execution_count": 118,
     "metadata": {},
     "output_type": "execute_result"
    }
   ],
   "source": [
    "cl.getTaskStatus(run_id)"
   ]
  },
  {
   "cell_type": "markdown",
   "metadata": {},
   "source": [
    "## Getting the results - via DRS\n",
    "Once the run is complete, further steps can use DRS to obtain the file output from the workflow."
   ]
  },
  {
   "cell_type": "code",
   "execution_count": 2,
   "metadata": {},
   "outputs": [
    {
     "data": {
      "text/plain": [
       "{'vpi_file': {'path': 'drs://cgc-ga4gh-api.sbgenomics.com/61703ab5ae5e936aba7228e6',\n",
       "  'name': '_6_BRCA2-vpi.json',\n",
       "  'class': 'File'},\n",
       " 'pathology_output': None,\n",
       " 'all_file': {'path': 'drs://cgc-ga4gh-api.sbgenomics.com/61703ab5ae5e936aba7228ec',\n",
       "  'name': '_6_BRCA2-all.json',\n",
       "  'class': 'File'},\n",
       " 'out_file': {'path': 'drs://cgc-ga4gh-api.sbgenomics.com/61703ab5ae5e936aba7228e4',\n",
       "  'name': '_6_BRCA2-cooccurrences.json',\n",
       "  'class': 'File'},\n",
       " 'ipv_file': {'path': 'drs://cgc-ga4gh-api.sbgenomics.com/61703ab5ae5e936aba7228e5',\n",
       "  'name': '_6_BRCA2-ipv.json',\n",
       "  'class': 'File'},\n",
       " 'tout_file': {'path': 'drs://cgc-ga4gh-api.sbgenomics.com/61703ab5ae5e936aba7228ea',\n",
       "  'name': '_6_BRCA2-tout.json',\n",
       "  'class': 'File'}}"
      ]
     },
     "execution_count": 2,
     "metadata": {},
     "output_type": "execute_result"
    }
   ],
   "source": [
    "run_id = 'd16a014f-6723-4013-8b6d-e5731c1205e4'\n",
    "runLog = cl.GetRunLog(run_id)\n",
    "runLog['outputs']"
   ]
  },
  {
   "cell_type": "code",
   "execution_count": 7,
   "metadata": {},
   "outputs": [],
   "source": [
    "resultsDRSID = runLog['outputs']['out_file']['path']\n",
    "resultsDRSID"
   ]
  },
  {
   "cell_type": "markdown",
   "metadata": {},
   "source": [
    "Use the CGC DRS Server to retrieve the results files"
   ]
  },
  {
   "cell_type": "code",
   "execution_count": 28,
   "metadata": {
    "scrolled": true
   },
   "outputs": [],
   "source": [
    "from fasp.loc import sbcgcDRSClient\n",
    "drsClient = sbcgcDRSClient('~/.keys/sevenbridges_keys.json', 's3')"
   ]
  },
  {
   "cell_type": "markdown",
   "metadata": {},
   "source": [
    "### DRS GetObject\n",
    "Here's how we then get details of the file. Note that here only the id portion of the DRS URI is being passed. It is the job of a metaresolver to look at that URI and to determine where to send the id. As noted, we are passing up on the opportunity to use a metaresolver and putting in the id manually."
   ]
  },
  {
   "cell_type": "code",
   "execution_count": 9,
   "metadata": {},
   "outputs": [
    {
     "data": {
      "text/plain": [
       "{'id': '61703ab5ae5e936aba7228e4',\n",
       " 'name': '_6_BRCA2-cooccurrences.json',\n",
       " 'size': 950,\n",
       " 'checksums': [{'type': 'etag',\n",
       "   'checksum': '70b9acfd3fe40187a8b5689f97003313-1'}],\n",
       " 'self_uri': 'drs://cgc-ga4gh-api.sbgenomics.com/61703ab5ae5e936aba7228e4',\n",
       " 'created_time': '2021-10-20T15:50:13Z',\n",
       " 'updated_time': '2021-10-20T15:50:13Z',\n",
       " 'mime_type': 'application/json',\n",
       " 'access_methods': [{'type': 's3',\n",
       "   'region': 'us-east-1',\n",
       "   'access_id': 'aws-us-east-1'}]}"
      ]
     },
     "execution_count": 9,
     "metadata": {},
     "output_type": "execute_result"
    }
   ],
   "source": [
    "sbDRSID = resultsDRSID.split('/')[-1]\n",
    "fileDetails = drsClient.getObject(sbDRSID)\n",
    "fileDetails"
   ]
  },
  {
   "cell_type": "code",
   "execution_count": 10,
   "metadata": {},
   "outputs": [],
   "source": [
    "url = drsClient.getAccessURL(sbDRSID,'s3')"
   ]
  },
  {
   "cell_type": "markdown",
   "metadata": {},
   "source": [
    "### Downloading the file\n",
    "Now we can use the url obtained to download the file. We'll create a small function to encapsulate the download."
   ]
  },
  {
   "cell_type": "code",
   "execution_count": 31,
   "metadata": {},
   "outputs": [],
   "source": [
    "import requests\n",
    "import os\n",
    "def download(url, file_path):\n",
    "    with open(os.path.expanduser(file_path), \"wb\") as file:\n",
    "        response = requests.get(url)\n",
    "        file.write(response.content)"
   ]
  },
  {
   "cell_type": "code",
   "execution_count": 38,
   "metadata": {},
   "outputs": [],
   "source": [
    "fullPath = fileDetails['name']\n",
    "download(url, fullPath)\n"
   ]
  },
  {
   "cell_type": "code",
   "execution_count": 40,
   "metadata": {},
   "outputs": [
    {
     "data": {
      "text/plain": [
       "{'cooccurring vus': {\"(13, 32355250, 'T', 'C')\": {'likelihood data': {'p1': 0.375,\n",
       "    'p2': 0.001,\n",
       "    'n': 2,\n",
       "    'k': 1,\n",
       "    'likelihood': 0.0042624},\n",
       "   'allele frequencies': {'maxPop': 'eas',\n",
       "    'maxPopFreq': '0.977087',\n",
       "    'cohortFreq': 0.5},\n",
       "   'pathogenic variants': [[13, 32316508, 'GAC', 'G']]},\n",
       "  \"(13, 32353519, 'A', 'G')\": {'likelihood data': {'p1': 0.375,\n",
       "    'p2': 0.001,\n",
       "    'n': 1,\n",
       "    'k': 1,\n",
       "    'likelihood': 0.0026666666666666666},\n",
       "   'allele frequencies': {'maxPop': 'afr',\n",
       "    'maxPopFreq': '0.00385267',\n",
       "    'cohortFreq': 0.25},\n",
       "   'pathogenic variants': [[13, 32338749, 'AATTAC', 'A']]},\n",
       "  \"(13, 32353470, 'A', 'C')\": {'likelihood data': {'p1': 0.375,\n",
       "    'p2': 0.001,\n",
       "    'n': 1,\n",
       "    'k': 1,\n",
       "    'likelihood': 0.0026666666666666666},\n",
       "   'allele frequencies': {'maxPop': 'eas',\n",
       "    'maxPopFreq': '0.383654',\n",
       "    'cohortFreq': 0.25},\n",
       "   'pathogenic variants': [[13, 32340836, 'GACAA', 'G']]}},\n",
       " 'homozygous vus': {\"(13, 32355250, 'T', 'C')\": {'count': 1,\n",
       "   'maxPop': 'eas',\n",
       "   'maxPopFreq': '0.977087',\n",
       "   'cohortFreq': 0.25}}}"
      ]
     },
     "execution_count": 40,
     "metadata": {},
     "output_type": "execute_result"
    }
   ],
   "source": [
    "with open(fullPath) as json_file:\n",
    "    data = json.load(json_file)\n",
    "# delete the local copy of the file\n",
    "os.remove(fullPath)\n",
    "# and look at the contents\n",
    "data"
   ]
  },
  {
   "cell_type": "code",
   "execution_count": 37,
   "metadata": {},
   "outputs": [
    {
     "data": {
      "text/html": [
       "<div>\n",
       "<style scoped>\n",
       "    .dataframe tbody tr th:only-of-type {\n",
       "        vertical-align: middle;\n",
       "    }\n",
       "\n",
       "    .dataframe tbody tr th {\n",
       "        vertical-align: top;\n",
       "    }\n",
       "\n",
       "    .dataframe thead th {\n",
       "        text-align: right;\n",
       "    }\n",
       "</style>\n",
       "<table border=\"1\" class=\"dataframe\">\n",
       "  <thead>\n",
       "    <tr style=\"text-align: right;\">\n",
       "      <th></th>\n",
       "      <th>vus</th>\n",
       "      <th>p1</th>\n",
       "      <th>p2</th>\n",
       "      <th>n</th>\n",
       "      <th>k</th>\n",
       "      <th>likelihood</th>\n",
       "      <th>maxPop</th>\n",
       "      <th>maxPopFreq</th>\n",
       "      <th>cohortFreq</th>\n",
       "      <th>no_pathogenic_coocurrs</th>\n",
       "    </tr>\n",
       "  </thead>\n",
       "  <tbody>\n",
       "    <tr>\n",
       "      <th>0</th>\n",
       "      <td>(13, 32355250, 'T', 'C')</td>\n",
       "      <td>0.375</td>\n",
       "      <td>0.001</td>\n",
       "      <td>2</td>\n",
       "      <td>1</td>\n",
       "      <td>0.004262</td>\n",
       "      <td>eas</td>\n",
       "      <td>0.977087</td>\n",
       "      <td>0.50</td>\n",
       "      <td>1</td>\n",
       "    </tr>\n",
       "    <tr>\n",
       "      <th>1</th>\n",
       "      <td>(13, 32353519, 'A', 'G')</td>\n",
       "      <td>0.375</td>\n",
       "      <td>0.001</td>\n",
       "      <td>1</td>\n",
       "      <td>1</td>\n",
       "      <td>0.002667</td>\n",
       "      <td>afr</td>\n",
       "      <td>0.00385267</td>\n",
       "      <td>0.25</td>\n",
       "      <td>1</td>\n",
       "    </tr>\n",
       "    <tr>\n",
       "      <th>2</th>\n",
       "      <td>(13, 32353470, 'A', 'C')</td>\n",
       "      <td>0.375</td>\n",
       "      <td>0.001</td>\n",
       "      <td>1</td>\n",
       "      <td>1</td>\n",
       "      <td>0.002667</td>\n",
       "      <td>eas</td>\n",
       "      <td>0.383654</td>\n",
       "      <td>0.25</td>\n",
       "      <td>1</td>\n",
       "    </tr>\n",
       "  </tbody>\n",
       "</table>\n",
       "</div>"
      ],
      "text/plain": [
       "                        vus     p1     p2  n  k  likelihood maxPop  \\\n",
       "0  (13, 32355250, 'T', 'C')  0.375  0.001  2  1    0.004262    eas   \n",
       "1  (13, 32353519, 'A', 'G')  0.375  0.001  1  1    0.002667    afr   \n",
       "2  (13, 32353470, 'A', 'C')  0.375  0.001  1  1    0.002667    eas   \n",
       "\n",
       "   maxPopFreq  cohortFreq  no_pathogenic_coocurrs  \n",
       "0    0.977087        0.50                       1  \n",
       "1  0.00385267        0.25                       1  \n",
       "2    0.383654        0.25                       1  "
      ]
     },
     "execution_count": 37,
     "metadata": {},
     "output_type": "execute_result"
    }
   ],
   "source": [
    "# flatten cooccurrence output\n",
    "flat_vus = []\n",
    "for k, v in data['cooccurring vus'].items():\n",
    "    pathogenic_count = len(v['pathogenic variants'])\n",
    "    ## this is a pythonic way of merging dicts - it is cryptic\n",
    "    z = {**{\"vus\":k}, **v['likelihood data'], **v['allele frequencies'], **{\"no_pathogenic_coocurrs\":pathogenic_count}}\n",
    "    flat_vus.append(z)\n",
    "\n",
    "# turn the array of dicts into a data frame    \n",
    "import pandas as pd\n",
    "flat_df = pd.DataFrame(flat_vus)\n",
    "flat_df"
   ]
  },
  {
   "cell_type": "markdown",
   "metadata": {},
   "source": [
    "## To do\n",
    "- Submit the pathogenicity file from the local system\n",
    "- Either  access the gnomad file from Gnomad, or supply it from the local system\n",
    "\n",
    "## Done\n",
    "- Make the container available to other WES servers by adding the Docker container to Docker Hub instead of the Seven Bridges docker repository\n"
   ]
  }
 ],
 "metadata": {
  "kernelspec": {
   "display_name": "Python 3 (ipykernel)",
   "language": "python",
   "name": "python3"
  },
  "language_info": {
   "codemirror_mode": {
    "name": "ipython",
    "version": 3
   },
   "file_extension": ".py",
   "mimetype": "text/x-python",
   "name": "python",
   "nbconvert_exporter": "python",
   "pygments_lexer": "ipython3",
   "version": "3.9.7"
  }
 },
 "nbformat": 4,
 "nbformat_minor": 4
}
