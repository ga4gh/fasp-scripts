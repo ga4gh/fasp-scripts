{
 "cells": [
  {
   "cell_type": "markdown",
   "metadata": {},
   "source": [
    "## Run BCFTools Filter via WES on a Seven Bridges server\n",
    "\n",
    "This is a preparatory step to filter thw whole TCGA vcf to the region of BRCA2."
   ]
  },
  {
   "cell_type": "code",
   "execution_count": 1,
   "metadata": {},
   "outputs": [
    {
     "name": "stderr",
     "output_type": "stream",
     "text": [
      "/Users/forei/imfenvs/fasp/lib/python3.9/site-packages/pandas/compat/__init__.py:124: UserWarning: Could not import the lzma module. Your installed Python is incomplete. Attempting to use lzma compression will result in a RuntimeError.\n",
      "  warnings.warn(msg)\n"
     ]
    }
   ],
   "source": [
    "from fasp.workflow import sbcgcWESClient\n",
    "\n",
    "cl = sbcgcWESClient('forei/fasp-vus', debug=True)"
   ]
  },
  {
   "cell_type": "markdown",
   "metadata": {},
   "source": [
    "## Setting up the WES run"
   ]
  },
  {
   "cell_type": "code",
   "execution_count": 59,
   "metadata": {},
   "outputs": [
    {
     "name": "stdout",
     "output_type": "stream",
     "text": [
      "{\n",
      "   \"project\": \"forei/fasp-vus\",\n",
      "   \"inputs\": {\n",
      "      \"regions\": \"13:32889611-32973805\",\n",
      "      \"input_file\": [\n",
      "         {\n",
      "            \"path\": \"drs://cgc-ga4gh-api.sbgenomics.com/617bf640d1cbfe46093e1603\",\n",
      "            \"name\": \"_1_PCA.r1.TCGAbarcode.merge.tnSwapCorrected.10389.vcf.gz\",\n",
      "            \"class\": \"File\"\n",
      "         }\n",
      "      ]\n",
      "   }\n",
      "}\n"
     ]
    }
   ],
   "source": [
    "filterparams =  {\n",
    "    \"project\": \"forei/fasp-vus\",\n",
    "    'inputs': {\n",
    "        'regions': '13:32889611-32973805',\n",
    "        'input_file': \n",
    "        [{'path': 'drs://cgc-ga4gh-api.sbgenomics.com/617bf640d1cbfe46093e1603',\n",
    "     'name': '_1_PCA.r1.TCGAbarcode.merge.tnSwapCorrected.10389.vcf.gz',\n",
    "     'class': 'File'}]\n",
    "    }\n",
    "}\n",
    "print(json.dumps(filterparams, indent=3))\n"
   ]
  },
  {
   "cell_type": "code",
   "execution_count": 60,
   "metadata": {},
   "outputs": [
    {
     "data": {
      "text/plain": [
       "'99aab785-5b5b-49f3-9f77-c588a730b78c'"
      ]
     },
     "execution_count": 60,
     "metadata": {},
     "output_type": "execute_result"
    }
   ],
   "source": [
    "import json\n",
    "run_id= cl.runGenericWorkflow(\n",
    "    workflow_url=\"sbg://forei/fasp-vus/bcftools-filter/1\",\n",
    "    workflow_params = json.dumps(filterparams),\n",
    "    workflow_type = \"CWL\",\n",
    "    workflow_type_version = \"sbg:draft-2\",\n",
    "    verbose=False\n",
    ")\n",
    "run_id"
   ]
  },
  {
   "cell_type": "code",
   "execution_count": 8,
   "metadata": {},
   "outputs": [
    {
     "name": "stdout",
     "output_type": "stream",
     "text": [
      "COMPLETE\n",
      "2:11:36\n"
     ]
    }
   ],
   "source": [
    "import dateutil.parser\n",
    "print(cl.getTaskStatus(run_id))\n",
    "log = cl.GetRunLog(run_id)\n",
    "start = dateutil.parser.isoparse(log['task_logs'][0]['start_time'])\n",
    "end = dateutil.parser.isoparse(log['task_logs'][0]['end_time'])\n",
    "duration = end - start\n",
    "print(str(duration))"
   ]
  },
  {
   "cell_type": "code",
   "execution_count": 9,
   "metadata": {},
   "outputs": [
    {
     "data": {
      "text/plain": [
       "{'request': {'tags': {},\n",
       "  'workflow_params': {'name': 'Bcftools Filter run - 10-30-21 22:54:40',\n",
       "   'project': 'forei/fasp-vus',\n",
       "   'inputs': {'regions': '13:32889611-32973805',\n",
       "    'memory': None,\n",
       "    'output_type': None,\n",
       "    'no_version': None,\n",
       "    'include_expression': None,\n",
       "    'indel_gap': None,\n",
       "    'threads': None,\n",
       "    'cpu': None,\n",
       "    'regions_from_file': None,\n",
       "    'targets_file': None,\n",
       "    'targets': None,\n",
       "    'mode': None,\n",
       "    'output_name': None,\n",
       "    'input_file': [{'path': 'drs://cgc-ga4gh-api.sbgenomics.com/617bf640d1cbfe46093e1603',\n",
       "      'name': '_1_PCA.r1.TCGAbarcode.merge.tnSwapCorrected.10389.vcf.gz',\n",
       "      'class': 'File'}],\n",
       "    'snp_gap': None,\n",
       "    'soft_filter': None,\n",
       "    'set_gts': None,\n",
       "    'exclude_expression': None}},\n",
       "  'workflow_type': 'CWL',\n",
       "  'workflow_engine_params': {},\n",
       "  'workflow_url': 'sbg://forei/fasp-vus/bcftools-filter/1'},\n",
       " 'state': 'COMPLETE',\n",
       " 'outputs': {'output_file': {'path': 'drs://cgc-ga4gh-api.sbgenomics.com/617dede89c5e581c1b200dfa',\n",
       "   'name': '_1_PCA.r1.TCGAbarcode.merge.tnSwapCorrected.10389.filtered.vcf',\n",
       "   'class': 'File'}},\n",
       " 'run_id': '99aab785-5b5b-49f3-9f77-c588a730b78c',\n",
       " 'run_log': {'name': 'Bcftools Filter run - 10-30-21 22:54:40',\n",
       "  'cmd': None,\n",
       "  'start_time': '2021-10-30T22:54:42Z',\n",
       "  'end_time': '2021-10-31T01:14:16Z',\n",
       "  'stdout': None,\n",
       "  'stderr': None,\n",
       "  'exit_code': 0},\n",
       " 'task_logs': [{'name': 'bcftools-filter',\n",
       "   'cmd': 'bcftools index -t -f _1_PCA.r1.TCGAbarcode.merge.tnSwapCorrected.10389.vcf.gz && bcftools filter --output _1_PCA.r1.TCGAbarcode.merge.tnSwapCorrected.10389.filtered.vcf --regions 13:32889611-32973805 _1_PCA.r1.TCGAbarcode.merge.tnSwapCorrected.10389.vcf.gz',\n",
       "   'start_time': '2021-10-30T23:02:33Z',\n",
       "   'end_time': '2021-10-31T01:14:09Z',\n",
       "   'stdout': 'drs://cgc-ga4gh-api.sbgenomics.com/617dede0d1cbfe4609481186',\n",
       "   'stderr': 'drs://cgc-ga4gh-api.sbgenomics.com/617dede0d1cbfe4609481186',\n",
       "   'exit_code': 0}]}"
      ]
     },
     "execution_count": 9,
     "metadata": {},
     "output_type": "execute_result"
    }
   ],
   "source": [
    "runLog = cl.GetRunLog(run_id)\n",
    "runLog"
   ]
  },
  {
   "cell_type": "code",
   "execution_count": null,
   "metadata": {},
   "outputs": [],
   "source": []
  }
 ],
 "metadata": {
  "kernelspec": {
   "display_name": "Python 3 (ipykernel)",
   "language": "python",
   "name": "python3"
  },
  "language_info": {
   "codemirror_mode": {
    "name": "ipython",
    "version": 3
   },
   "file_extension": ".py",
   "mimetype": "text/x-python",
   "name": "python",
   "nbconvert_exporter": "python",
   "pygments_lexer": "ipython3",
   "version": "3.9.7"
  }
 },
 "nbformat": 4,
 "nbformat_minor": 4
}
