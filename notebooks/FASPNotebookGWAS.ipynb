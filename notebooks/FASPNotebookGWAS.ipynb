{
 "cells": [
  {
   "cell_type": "markdown",
   "metadata": {},
   "source": [
    "<img src=\"../fasp/runner/credits/images/FullHouse.png\" style=\"float: right;\">\n",
    "\n",
    "### Submit Plenary GWAS workflow using DRS ids from both Anvil and BioDataCatalyst DRS\n",
    "\n",
    "Job is submitted to DNAStack WES server. \n",
    "\n",
    "Submission is successful, but jobs fail.\n",
    "\n",
    "Current issue is with how the signed URLs are handled on the WES server."
   ]
  },
  {
   "cell_type": "code",
   "execution_count": 1,
   "metadata": {},
   "outputs": [
    {
     "name": "stdout",
     "output_type": "stream",
     "text": [
      "Running FASPNotebookGWAS.ipynb\n",
      "_Retrieving the query_\n",
      "____Page1_______________\n",
      "____Page2_______________\n",
      "____Page3_______________\n",
      "____Page4_______________\n",
      "____Page5_______________\n",
      "vcffile=CCDG_13607_B01_GRM_WGS_2019-02-19_chr21.recalibrated_variants.vcf.gz, compact drsID=bdc:dg.4503/dbd55e76-1100-40b3-b420-0eaeee478fbc\n",
      "submitted:387989d1-7cae-45a0-82ce-e15d53353ba3\n",
      "vcffile=CCDG_13607_B01_GRM_WGS_2019-02-19_chr21.recalibrated_variants.vcf.gz, compact drsID=anv:dg.ANV0/737247da-f5da-49a7-86ec-737978eb8293\n",
      "submitted:0c089b18-aa8c-4007-b131-485527a6a0eb\n"
     ]
    }
   ],
   "source": [
    "#  IMPORTS\n",
    "#import sys\n",
    "import datetime\n",
    "\n",
    "from fasp.runner import FASPRunner\n",
    "\n",
    "# The implementations we're using\n",
    "from fasp.search import DiscoverySearchClient\n",
    "from fasp.loc import DRSMetaResolver\n",
    "from fasp.workflow import DNAStackWESClient\n",
    "\n",
    "\n",
    "faspRunner = FASPRunner()\n",
    "\n",
    "# Step 1 - Discovery\n",
    "# query for relevant DRS objects\n",
    "searchClient = DiscoverySearchClient('https://ga4gh-search-adapter-presto-public.prod.dnastack.com/', debug=False)\n",
    "\n",
    "query = '''SELECT file_name, compact_drs_id, hostbased_drs_id, drs_id \n",
    "from thousand_genomes.onek_genomes.onek_recal_variants_drs \n",
    "where chromosome = 'chr21' and annotated = false'''\n",
    "\n",
    "query_job = searchClient.runQuery(query)  # Send the query\n",
    "\n",
    "drsResolver = DRSMetaResolver(getReg=False)\t\n",
    "\n",
    "wesClient = DNAStackWESClient('~/.keys/dnastack_wes_credentials.json')\n",
    "\n",
    "# repeat steps 2 and 3 for each row of the query\n",
    "# this example should find id's for the same file in both BioDataCatalyst and Anvil\n",
    "for row in query_job:\n",
    "    drs_id = row[1]\n",
    "    print(\"vcffile={}, compact drsID={}\".format(row[0], drs_id))\n",
    "\n",
    "    # Step 2 - Use DRS to get the URL\n",
    "    vcfurl = drsResolver.getAccessURL(drs_id, 'gs')\n",
    "    drsClient, localid = drsResolver.getClient(drs_id) \n",
    "    fileSize = drsResolver.getObject(drs_id)['size']\n",
    "    \n",
    "    # Step 3 - Run a pipeline on the file at the drs url\n",
    "    pipeline_id = wesClient.runGWASWorkflow(vcfurl, 'gs://dnastack-public-bucket/thousand_genomes_meta.csv')\n",
    "    print('submitted:{}'.format(pipeline_id))\n",
    "\n",
    "    outfile = ''\n",
    "    via = 'WES'\n",
    "    note = 'GWAS'\n",
    "\n",
    "    time = datetime.datetime.now().strftime(\"%Y-%m-%d %H:%M:%S\")\n",
    "    faspRunner.logRun(time, via, note,  pipeline_id, outfile, str(fileSize),\n",
    "        searchClient, drsClient, wesClient)"
   ]
  },
  {
   "cell_type": "code",
   "execution_count": null,
   "metadata": {},
   "outputs": [],
   "source": []
  },
  {
   "cell_type": "code",
   "execution_count": null,
   "metadata": {},
   "outputs": [],
   "source": []
  }
 ],
 "metadata": {
  "kernelspec": {
   "display_name": "Python 3",
   "language": "python",
   "name": "python3"
  },
  "language_info": {
   "codemirror_mode": {
    "name": "ipython",
    "version": 3
   },
   "file_extension": ".py",
   "mimetype": "text/x-python",
   "name": "python",
   "nbconvert_exporter": "python",
   "pygments_lexer": "ipython3",
   "version": "3.7.3"
  }
 },
 "nbformat": 4,
 "nbformat_minor": 4
}
