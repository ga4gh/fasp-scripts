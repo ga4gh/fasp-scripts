{
 "cells": [
  {
   "cell_type": "markdown",
   "metadata": {},
   "source": [
    "The FASPRunner class manages logging and settings/preferences for us"
   ]
  },
  {
   "cell_type": "code",
   "execution_count": 1,
   "metadata": {},
   "outputs": [
    {
     "name": "stdout",
     "output_type": "stream",
     "text": [
      "Running <ipython-input-1-bec338364b20>\n"
     ]
    }
   ],
   "source": [
    "from fasp.runner import FASPRunner\n",
    "\n",
    "faspRunner = FASPRunner()\n",
    "settings = faspRunner.settings"
   ]
  },
  {
   "cell_type": "markdown",
   "metadata": {},
   "source": [
    "The following sets up two Clients to Search data. Note that at the moment one of these is a placeholder to search a local file. That file contains file ids downloaded as a manifest from the Gen3 Anvil portal. That list of files in that manifest had already been filtered to relevant samples. Note that the DRS ids prefixed with CURIEs (crdc for the Cancer Research Data Commons and anv for Anvil). This indicates which namespace the ids come from and allows the referenced file to be retrieved from the correct DRS server. In the case of the gtex manifest file the anv: prefix was added in an edited version of the file."
   ]
  },
  {
   "cell_type": "code",
   "execution_count": 2,
   "metadata": {},
   "outputs": [
    {
     "data": {
      "text/plain": [
       "[['GTEX-1GTWX-0001-SM-7J3A5.cram',\n",
       "  'anv:dg.ANV0/76bb893d-12da-41ca-8828-ff89551d3e15'],\n",
       " ['GTEX-14PQA-0003-SM-7DLH4.cram',\n",
       "  'anv:dg.ANV0/66352de8-4b50-4cae-881d-b76d03df5ac8'],\n",
       " ['GTEX-1B98T-0004-SM-7J38T.cram',\n",
       "  'anv:dg.ANV0/ed9ac9ae-02da-4e97-93da-ad86aa77d227'],\n",
       " Row(('case_1b703058-e596-45bc-80fe-8b98d545c2e2', 'crdc:030e5e74-6461-4f05-a399-de8e470bc056'), {'f0_': 0, 'f1_': 1}),\n",
       " Row(('case_a6edb6ca-ae9f-4da7-8ebe-92d83d2987fb', 'crdc:0329fa7e-d768-4bbe-940e-36f0b9829d7c'), {'f0_': 0, 'f1_': 1}),\n",
       " Row(('case_a947a945-4721-45cc-bc45-13b8ea41c10e', 'crdc:04c68898-ddac-4e15-9f9a-5bf278d55e4a'), {'f0_': 0, 'f1_': 1})]"
      ]
     },
     "execution_count": 2,
     "metadata": {},
     "output_type": "execute_result"
    }
   ],
   "source": [
    "from fasp.search import BigQuerySearchClient, Gen3ManifestClient\n",
    "\n",
    "# Step 1 - Discovery\n",
    "# query for relevant DRS objects\n",
    "discoveryClients = {\n",
    "    \"crdc\": BigQuerySearchClient(),\n",
    "    \"anv\": Gen3ManifestClient('../fasp/data/gtex/gtex-cram-manifest_wCuries.json')\n",
    "}\n",
    "\n",
    "\n",
    "# TCGA Query - CRDC\n",
    "crdcquery = \"\"\"\n",
    "    SELECT 'case_'||associated_entities__case_gdc_id , 'crdc:'||file_id\n",
    "    FROM `isb-cgc.GDC_metadata.rel24_fileData_active` \n",
    "    where data_format = 'BAM' \n",
    "    and project_disease_type = 'Breast Invasive Carcinoma'\n",
    "    limit 3\"\"\"\t\t\n",
    "\n",
    "\n",
    "# Run both queries and aggregate results\n",
    "results = discoveryClients['anv'].runQuery(3)  # Send the query for the first three items\n",
    "results += discoveryClients['crdc'].runQuery(crdcquery) \n",
    "results\n"
   ]
  },
  {
   "cell_type": "markdown",
   "metadata": {},
   "source": [
    "The next step sets up two DRS clients to handle DRS requests based on the CURIE prefix of each individual DRS id. Note that the crdc data will be accessed on Google Cloud (gs) and the Anvil data on Amazon Web Services (s3)"
   ]
  },
  {
   "cell_type": "code",
   "execution_count": 5,
   "metadata": {},
   "outputs": [],
   "source": [
    "from fasp.loc import crdcDRSClient, anvilDRSClient\n",
    "\n",
    "drsClients = {\n",
    "    \"crdc\": crdcDRSClient('~/.keys/crdc_credentials.json', access_id='gs'),\n",
    "    \"anv\": anvilDRSClient('~/.keys/anvil_credentials.json', access_id='s3')\n",
    "}"
   ]
  },
  {
   "cell_type": "markdown",
   "metadata": {},
   "source": [
    "Similarly we set up two WES clients. Note that for the data in the Google Cloud we are using GCPLSsamtools a fasp class which accesses Google Cloud's Life Science Pipeline API. The plan is to replace that with the DNA Stack WES server when that is updated. "
   ]
  },
  {
   "cell_type": "code",
   "execution_count": 6,
   "metadata": {},
   "outputs": [],
   "source": [
    "from fasp.workflow import GCPLSsamtools, sbWESClient\n",
    "\n",
    "gcplocation = 'projects/{}/locations/{}'.format(settings['GCPProject'], settings['GCPPipelineRegion'])\n",
    "wesClients = {\n",
    "    \"crdc\": GCPLSsamtools(gcplocation, settings['GCPOutputBucket']),\n",
    "    \"anv\": sbWESClient(settings['SevenBridgesInstance'], settings['SevenBridgesProject'],\n",
    "                    '~/.keys/sbcgc_key.json')\n",
    "}"
   ]
  },
  {
   "cell_type": "markdown",
   "metadata": {},
   "source": [
    "The following loops through each result of the query. For each drs_id it retrieves an authorized URL to access the file and submits it for analysis to the appropriate server.\n",
    "\n",
    "In non-federated scenarios, where all requests go to the same WES server, FASPRunner deals with running this loop. This example shows the process in detail as well as handlign our federated use case. "
   ]
  },
  {
   "cell_type": "code",
   "execution_count": 7,
   "metadata": {},
   "outputs": [
    {
     "name": "stdout",
     "output_type": "stream",
     "text": [
      "file=GTEX-1GTWX-0001-SM-7J3A5.cram, drsID=anv:dg.ANV0/76bb893d-12da-41ca-8828-ff89551d3e15\n",
      "Sending id dg.ANV0/76bb893d-12da-41ca-8828-ff89551d3e15 to anvilDRSClient\n",
      "Submitted 63e4d845-d1e3-48a6-9950-882e93dc8185\n",
      "_________________________________________________________________________\n",
      "file=GTEX-14PQA-0003-SM-7DLH4.cram, drsID=anv:dg.ANV0/66352de8-4b50-4cae-881d-b76d03df5ac8\n",
      "Sending id dg.ANV0/66352de8-4b50-4cae-881d-b76d03df5ac8 to anvilDRSClient\n",
      "Submitted 82b931fc-d04b-4ff3-8bf4-d5392aa6ac82\n",
      "_________________________________________________________________________\n",
      "file=GTEX-1B98T-0004-SM-7J38T.cram, drsID=anv:dg.ANV0/ed9ac9ae-02da-4e97-93da-ad86aa77d227\n",
      "Sending id dg.ANV0/ed9ac9ae-02da-4e97-93da-ad86aa77d227 to anvilDRSClient\n",
      "Submitted 1fd5cf3f-f6e0-4b84-b1c8-849447e419d8\n",
      "_________________________________________________________________________\n",
      "file=case_1b703058-e596-45bc-80fe-8b98d545c2e2, drsID=crdc:030e5e74-6461-4f05-a399-de8e470bc056\n",
      "Sending id 030e5e74-6461-4f05-a399-de8e470bc056 to crdcDRSClient\n",
      "Submitted 10842751602426510292\n",
      "_________________________________________________________________________\n",
      "file=case_a6edb6ca-ae9f-4da7-8ebe-92d83d2987fb, drsID=crdc:0329fa7e-d768-4bbe-940e-36f0b9829d7c\n",
      "Sending id 0329fa7e-d768-4bbe-940e-36f0b9829d7c to crdcDRSClient\n",
      "Submitted 1439445217965301715\n",
      "_________________________________________________________________________\n",
      "file=case_a947a945-4721-45cc-bc45-13b8ea41c10e, drsID=crdc:04c68898-ddac-4e15-9f9a-5bf278d55e4a\n",
      "Sending id 04c68898-ddac-4e15-9f9a-5bf278d55e4a to crdcDRSClient\n",
      "Submitted 228186563165630506\n",
      "_________________________________________________________________________\n"
     ]
    }
   ],
   "source": [
    "import datetime\n",
    "\n",
    "# repeat steps 2 and 3 for each row of the query\n",
    "for row in results:\n",
    "\n",
    "    print(\"file={}, drsID={}\".format(row[0], row[1]))\n",
    "    resRow = [row[0], row[1]]\n",
    "    # Step 2 - Use DRS to get the URL\n",
    "    # This is a local solution to resolve prefixed DRS ids, DRS Metarolver would be better\n",
    "    # get the prefix\n",
    "    prefix, drsid = row[1].split(\":\", 1)\n",
    "    drsClient = drsClients[prefix]\n",
    "    print ('Sending id {} to {}'.format(drsid, drsClient.__class__.__name__))\n",
    "\n",
    "    url = drsClient.getAccessURL(drsid)\n",
    "    objInfo = drsClient.getObject(drsid)\n",
    "    fileSize = objInfo['size']\n",
    "\n",
    "    # Step 3 - Run a pipeline on the file at the drs url\n",
    "    if url != None:\n",
    "        outfile = \"{}.txt\".format(row[0])\n",
    "        via = 'sh'\n",
    "        note = 'GTEx and TCGA - federated analysis'\n",
    "        time = datetime.datetime.now().strftime(\"%m/%d/%Y, %H:%M:%S\")\n",
    "        wesClient = wesClients[prefix]\n",
    "        run_id = wesClient.runWorkflow(url, outfile)\n",
    "        print('Submitted {}'.format(run_id))\n",
    "        searchClient = discoveryClients[prefix]\n",
    "        faspRunner.logRun(time, via, note,  run_id, outfile, fileSize,\n",
    "            searchClient, drsClient, wesClient)\n",
    "        resRow.append('OK')\n",
    "    else:\n",
    "        print('could not get DRS url')\n",
    "        resRow.append('unauthorized')\n",
    "    print('_________________________________________________________________________')\n",
    "\n"
   ]
  },
  {
   "cell_type": "code",
   "execution_count": null,
   "metadata": {},
   "outputs": [],
   "source": []
  }
 ],
 "metadata": {
  "kernelspec": {
   "display_name": "Python 3",
   "language": "python",
   "name": "python3"
  },
  "language_info": {
   "codemirror_mode": {
    "name": "ipython",
    "version": 3
   },
   "file_extension": ".py",
   "mimetype": "text/x-python",
   "name": "python",
   "nbconvert_exporter": "python",
   "pygments_lexer": "ipython3",
   "version": "3.7.3"
  }
 },
 "nbformat": 4,
 "nbformat_minor": 4
}
