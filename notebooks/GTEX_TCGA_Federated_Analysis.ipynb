{
 "cells": [
  {
   "cell_type": "markdown",
   "metadata": {},
   "source": [
    "The FASPRunner class manages logging and settings/preferences for us"
   ]
  },
  {
   "cell_type": "code",
   "execution_count": 8,
   "metadata": {},
   "outputs": [
    {
     "name": "stdout",
     "output_type": "stream",
     "text": [
      "Running <ipython-input-8-bec338364b20>\n"
     ]
    }
   ],
   "source": [
    "from fasp.runner import FASPRunner\n",
    "\n",
    "faspRunner = FASPRunner()\n",
    "settings = faspRunner.settings"
   ]
  },
  {
   "cell_type": "markdown",
   "metadata": {},
   "source": [
    "The following sets up two Clients to Search data. Note that at the moment one of these is a placeholder to search a local file. That file contains file ids downloaded as a manifest from the Gen3 Anvil portal. Note that DRS ids are prefixed with CURIEs (crdc for the Cancer Research Data Commons and anv for Anvil). This indicates which namespace the ids come from and allows the referenced file to be retrieved from the correct DRS server. "
   ]
  },
  {
   "cell_type": "code",
   "execution_count": 4,
   "metadata": {},
   "outputs": [
    {
     "data": {
      "text/plain": [
       "[['GTEX-1GTWX-0001-SM-7J3A5.cram',\n",
       "  'anv:dg.ANV0/76bb893d-12da-41ca-8828-ff89551d3e15'],\n",
       " ['GTEX-14PQA-0003-SM-7DLH4.cram',\n",
       "  'anv:dg.ANV0/66352de8-4b50-4cae-881d-b76d03df5ac8'],\n",
       " ['GTEX-1B98T-0004-SM-7J38T.cram',\n",
       "  'anv:dg.ANV0/ed9ac9ae-02da-4e97-93da-ad86aa77d227'],\n",
       " Row(('case_b9c6c069-2a2b-4cc7-a398-dc45c132d979', 'crdc:03b2f263-0567-4524-9116-4f7aa4f5f645'), {'f0_': 0, 'f1_': 1}),\n",
       " Row(('case_eb93df3d-9e25-4e4c-9a5d-350f296e5acf', 'crdc:04bd94e2-78d1-4dac-b365-13833eccf467'), {'f0_': 0, 'f1_': 1}),\n",
       " Row(('case_c462e422-eb8d-4daf-9897-2a9c6cbd783a', 'crdc:00589653-5840-4c11-8572-5aa7d00a73f8'), {'f0_': 0, 'f1_': 1})]"
      ]
     },
     "execution_count": 4,
     "metadata": {},
     "output_type": "execute_result"
    }
   ],
   "source": [
    "from fasp.search import BigQuerySearchClient, Gen3ManifestClient\n",
    "\n",
    "# Step 1 - Discovery\n",
    "# query for relevant DRS objects\n",
    "discoveryClients = {\n",
    "    \"crdc\": BigQuerySearchClient(),\n",
    "    \"anv\": Gen3ManifestClient('../fasp/data/gtex/gtex-cram-manifest_wCuries.json')\n",
    "}\n",
    "\n",
    "\n",
    "# TCGA Query - CRDC\n",
    "crdcquery = \"\"\"\n",
    "    SELECT 'case_'||associated_entities__case_gdc_id , 'crdc:'||file_id\n",
    "    FROM `isb-cgc.GDC_metadata.rel24_fileData_active` \n",
    "    where data_format = 'BAM' \n",
    "    and project_disease_type = 'Breast Invasive Carcinoma'\n",
    "    limit 3\"\"\"\t\t\n",
    "\n",
    "\n",
    "# Run both queriues and aggregate results\n",
    "results = discoveryClients['anv'].runQuery(3)  # Send the query\n",
    "results += discoveryClients['crdc'].runQuery(crdcquery) \n",
    "results\n"
   ]
  },
  {
   "cell_type": "markdown",
   "metadata": {},
   "source": [
    "The next step sets up two DRS clients to handle DRS requests based on the CURIE prefix of each individual DRS id. Note that the crdc data will be accessed on Google Cloud (gs) and the Anvil data on Amazon Web Services (s3)"
   ]
  },
  {
   "cell_type": "code",
   "execution_count": 11,
   "metadata": {},
   "outputs": [],
   "source": [
    "from fasp.loc import crdcDRSClient, anvilDRSClient\n",
    "\n",
    "drsClients = {\n",
    "    \"crdc\": crdcDRSClient('~/.keys/crdc_credentials.json', access_id='gs'),\n",
    "    \"anv\": anvilDRSClient('~/.keys/anvil_credentials.json', access_id='s3')\n",
    "}"
   ]
  },
  {
   "cell_type": "markdown",
   "metadata": {},
   "source": [
    "Similarly we set up two WES clients. Note that for the data in the Google Cloud we are using GCPLSsamtools a fasp class which accesses Google Cloud's Life Science Pipeline API. The plan is to replace that with the DNA Stack WES server when that is updated. "
   ]
  },
  {
   "cell_type": "code",
   "execution_count": 9,
   "metadata": {},
   "outputs": [],
   "source": [
    "from fasp.workflow import GCPLSsamtools, sbWESClient\n",
    "\n",
    "gcplocation = 'projects/{}/locations/{}'.format(settings['GCPProject'], settings['GCPPipelineRegion'])\n",
    "wesClients = {\n",
    "    \"crdc\": GCPLSsamtools(gcplocation, settings['GCPOutputBucket']),\n",
    "    \"anv\": sbWESClient(settings['SevenBridgesInstance'], settings['SevenBridgesProject'],\n",
    "                    '~/.keys/sbcgc_key.json')\n",
    "}"
   ]
  },
  {
   "cell_type": "markdown",
   "metadata": {},
   "source": [
    "The following loops through each result of the query. For each drs_id it retrieves an authorized URL to access the file and submits it for analysis to the appropriate server.\n",
    "\n",
    "In non-federated scenarios, where all requests go to the same WES server, FASPRunner deals with running this loop. This example shows the process in detail as well as handlign our federated use case. "
   ]
  },
  {
   "cell_type": "code",
   "execution_count": 13,
   "metadata": {},
   "outputs": [
    {
     "name": "stdout",
     "output_type": "stream",
     "text": [
      "subject=GTEX-1GTWX-0001-SM-7J3A5.cram, drsID=anv:dg.ANV0/76bb893d-12da-41ca-8828-ff89551d3e15\n",
      "Sending id dg.ANV0/76bb893d-12da-41ca-8828-ff89551d3e15 to anvilDRSClient\n",
      "Submitted d99f53c4-7511-45d6-a8ca-ef68eac88ce2\n",
      "_________________________________________________________________________\n",
      "subject=GTEX-14PQA-0003-SM-7DLH4.cram, drsID=anv:dg.ANV0/66352de8-4b50-4cae-881d-b76d03df5ac8\n",
      "Sending id dg.ANV0/66352de8-4b50-4cae-881d-b76d03df5ac8 to anvilDRSClient\n",
      "Submitted 32eb12a1-f439-4faa-a001-e205f3778759\n",
      "_________________________________________________________________________\n",
      "subject=GTEX-1B98T-0004-SM-7J38T.cram, drsID=anv:dg.ANV0/ed9ac9ae-02da-4e97-93da-ad86aa77d227\n",
      "Sending id dg.ANV0/ed9ac9ae-02da-4e97-93da-ad86aa77d227 to anvilDRSClient\n",
      "Submitted 606b6a42-b65a-4395-b496-e2fa807d2241\n",
      "_________________________________________________________________________\n",
      "subject=case_b9c6c069-2a2b-4cc7-a398-dc45c132d979, drsID=crdc:03b2f263-0567-4524-9116-4f7aa4f5f645\n",
      "Sending id 03b2f263-0567-4524-9116-4f7aa4f5f645 to crdcDRSClient\n",
      "Submitted 10508535475882348784\n",
      "_________________________________________________________________________\n",
      "subject=case_eb93df3d-9e25-4e4c-9a5d-350f296e5acf, drsID=crdc:04bd94e2-78d1-4dac-b365-13833eccf467\n",
      "Sending id 04bd94e2-78d1-4dac-b365-13833eccf467 to crdcDRSClient\n",
      "Submitted 14789110072649781291\n",
      "_________________________________________________________________________\n",
      "subject=case_c462e422-eb8d-4daf-9897-2a9c6cbd783a, drsID=crdc:00589653-5840-4c11-8572-5aa7d00a73f8\n",
      "Sending id 00589653-5840-4c11-8572-5aa7d00a73f8 to crdcDRSClient\n",
      "Submitted 13223038286573547670\n",
      "_________________________________________________________________________\n"
     ]
    }
   ],
   "source": [
    "import datetime\n",
    "\n",
    "# repeat steps 2 and 3 for each row of the query\n",
    "for row in results:\n",
    "\n",
    "    print(\"file={}, drsID={}\".format(row[0], row[1]))\n",
    "    resRow = [row[0], row[1]]\n",
    "    # Step 2 - Use DRS to get the URL\n",
    "    # This is a local solution to resolve prefixed DRS ids, DRS Metarolver would be better\n",
    "    # get the prefix\n",
    "    prefix, drsid = row[1].split(\":\", 1)\n",
    "    drsClient = drsClients[prefix]\n",
    "    print ('Sending id {} to {}'.format(drsid, drsClient.__class__.__name__))\n",
    "\n",
    "    url = drsClient.getAccessURL(drsid)\n",
    "    objInfo = drsClient.getObject(drsid)\n",
    "    fileSize = objInfo['size']\n",
    "\n",
    "    # Step 3 - Run a pipeline on the file at the drs url\n",
    "    if url != None:\n",
    "        outfile = \"{}.txt\".format(row[0])\n",
    "        via = 'sh'\n",
    "        note = 'GTEx and TCGA - federated analysis'\n",
    "        time = datetime.datetime.now().strftime(\"%m/%d/%Y, %H:%M:%S\")\n",
    "        wesClient = wesClients[prefix]\n",
    "        run_id = wesClient.runWorkflow(url, outfile)\n",
    "        print('Submitted {}'.format(run_id))\n",
    "        searchClient = discoveryClients[prefix]\n",
    "        faspRunner.logRun(time, via, note,  run_id, outfile, fileSize,\n",
    "            searchClient, drsClient, wesClient)\n",
    "        resRow.append('OK')\n",
    "    else:\n",
    "        print('could not get DRS url')\n",
    "        resRow.append('unauthorized')\n",
    "    print('_________________________________________________________________________')\n",
    "\n"
   ]
  },
  {
   "cell_type": "code",
   "execution_count": null,
   "metadata": {},
   "outputs": [],
   "source": []
  }
 ],
 "metadata": {
  "kernelspec": {
   "display_name": "Python 3",
   "language": "python",
   "name": "python3"
  },
  "language_info": {
   "codemirror_mode": {
    "name": "ipython",
    "version": 3
   },
   "file_extension": ".py",
   "mimetype": "text/x-python",
   "name": "python",
   "nbconvert_exporter": "python",
   "pygments_lexer": "ipython3",
   "version": "3.7.3"
  }
 },
 "nbformat": 4,
 "nbformat_minor": 4
}
