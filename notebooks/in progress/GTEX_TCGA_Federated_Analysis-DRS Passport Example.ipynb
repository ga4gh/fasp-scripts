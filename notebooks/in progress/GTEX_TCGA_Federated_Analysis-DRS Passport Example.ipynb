{
 "cells": [
  {
   "cell_type": "markdown",
   "metadata": {},
   "source": [
    "### Generate examples for DRS Passport revisions"
   ]
  },
  {
   "cell_type": "code",
   "execution_count": 25,
   "metadata": {},
   "outputs": [],
   "source": [
    "from fasp.search import DiscoverySearchClient, Gen3ManifestClient\n",
    "from fasp.loc import DRSMetaResolver\n",
    "\n",
    "\n",
    "from fasp.runner import FASPRunner\n",
    "\n",
    "faspRunner = FASPRunner(program='GTEX_TCGA_Federated_Analysis.ipynb')\n",
    "runNote = 'GTEX and TCGA via FASPRunner'"
   ]
  },
  {
   "cell_type": "markdown",
   "metadata": {},
   "source": [
    "Add comments"
   ]
  },
  {
   "cell_type": "code",
   "execution_count": 26,
   "metadata": {},
   "outputs": [
    {
     "name": "stdout",
     "output_type": "stream",
     "text": [
      "_Retrieving the query_\n",
      "____Page1_______________\n",
      "____Page2_______________\n",
      "____Page3_______________\n",
      "____Page4_______________\n",
      "____Page5_______________\n",
      "____Page6_______________\n",
      "{\n",
      "    \"selection\": [\n",
      "        \"crdc:030e5e74-6461-4f05-a399-de8e470bc056\",\n",
      "        \"crdc:04c68898-ddac-4e15-9f9a-5bf278d55e4a\",\n",
      "        \"crdc:00589653-5840-4c11-8572-5aa7d00a73f8\"\n",
      "    ]\n",
      "}\n",
      "_Retrieving the query_\n",
      "____Page1_______________\n",
      "____Page2_______________\n",
      "____Page3_______________\n",
      "____Page4_______________\n",
      "____Page5_______________\n",
      "{\n",
      "    \"selection\": [\n",
      "        \"030e5e74-6461-4f05-a399-de8e470bc056\",\n",
      "        \"04c68898-ddac-4e15-9f9a-5bf278d55e4a\",\n",
      "        \"00589653-5840-4c11-8572-5aa7d00a73f8\"\n",
      "    ]\n",
      "}\n"
     ]
    }
   ],
   "source": [
    "import json\n",
    "# TCGA Query - CRDC\n",
    "searchClient = DiscoverySearchClient('https://ga4gh-search-adapter-presto-public.prod.dnastack.com/')\n",
    "\n",
    "queries = [\"\"\"\n",
    "    SELECT  'crdc:'||file_id drs_id\n",
    "    FROM search_cloud.cshcodeathon.gdc_rel24_filedata_active \n",
    "    where data_format = 'BAM' \n",
    "    and project_disease_type = 'Breast Invasive Carcinoma'\n",
    "    limit 3\"\"\",\n",
    "\"\"\"\n",
    "    SELECT  file_id drs_id\n",
    "    FROM search_cloud.cshcodeathon.gdc_rel24_filedata_active \n",
    "    where data_format = 'BAM' \n",
    "    and project_disease_type = 'Breast Invasive Carcinoma'\n",
    "    limit 3\"\"\"]\n",
    "\n",
    "\n",
    "def getSeln(query):\n",
    "    res = searchClient.runQuery(query)\n",
    "    seln = []\n",
    "    for r in res:\n",
    "        seln.append(r[0])\n",
    "    #print(json.dumps(res[0:3][0], indent=4))\n",
    "    selection = {\"selection\":seln}\n",
    "    print(json.dumps(selection, indent=4))\n",
    "\n",
    "for q in queries:\n",
    "    getSeln(q)\n"
   ]
  },
  {
   "cell_type": "code",
   "execution_count": 23,
   "metadata": {},
   "outputs": [
    {
     "name": "stdout",
     "output_type": "stream",
     "text": [
      "_Retrieving the query_\n",
      "____Page1_______________\n",
      "____Page2_______________\n",
      "____Page3_______________\n",
      "____Page4_______________\n",
      "____Page5_______________\n",
      "____Page6_______________\n",
      "{\n",
      "    \"selection\": [\n",
      "        \"crdc:dg.4DFC/89c68e80-0f5b-47de-b01b-8eb789a1061b\",\n",
      "        \"crdc:dg.4DFC/fea9649e-1750-43c3-9b87-b314219eb840\",\n",
      "        \"crdc:dg.4DFC/8ff3df8b-671e-42e3-a684-0dfa49c20e35\"\n",
      "    ]\n",
      "}\n"
     ]
    }
   ],
   "source": [
    "query = '''select 'crdc:'||drs_id\n",
    "from search_cloud.cshcodeathon.gecco_gen3_drs_index i\n",
    "join dbgap_demo.scr_gecco_susceptibility.sample_multi sa on sa.sample_id = i.sample_id\n",
    "join dbgap_demo.scr_gecco_susceptibility.subject_phenotypes_multi su on su.dbgap_subject_id = sa.dbgap_subject_id\n",
    "where age between 50 and 55\n",
    "and affection_status = 'Case'\n",
    "and file_type = 'cram' limit 3'''\n",
    "getSeln(query)"
   ]
  },
  {
   "cell_type": "code",
   "execution_count": 24,
   "metadata": {},
   "outputs": [
    {
     "name": "stdout",
     "output_type": "stream",
     "text": [
      "_Retrieving the query_\n",
      "____Page1_______________\n",
      "____Page2_______________\n",
      "____Page3_______________\n",
      "____Page4_______________\n",
      "____Page5_______________\n",
      "____Page6_______________\n",
      "____Page7_______________\n",
      "{\n",
      "    \"selection\": [\n",
      "        \"sradrs:4083cc9baac81657edb627635fcfbeb0\",\n",
      "        \"sradrs:eb765677453c85f573d744be63a4530e\",\n",
      "        \"sradrs:2b070565053062762fed8a1f61fd5c91\",\n",
      "        \"sradrs:9324abd1277f50472208dfb6ac15af64\",\n",
      "        \"sradrs:3c6840438950a0cdd0fa072dd35854cf\",\n",
      "        \"sradrs:4ea5d13b1ede2a4c1578b27853df23d5\",\n",
      "        \"sradrs:9e3c1dc17119d6037b14e8269f41f359\",\n",
      "        \"sradrs:b4b831b0d4af57754817ef18bc1d4ab3\",\n",
      "        \"sradrs:650c2f4f184b040497e0822fe4460874\",\n",
      "        \"sradrs:f806c96f31b51747334681a85128eee2\"\n",
      "    ]\n",
      "}\n"
     ]
    }
   ],
   "source": [
    "query = '''select 'sradrs:'||sra_drs_id, sex, age\n",
    "from search_cloud.cshcodeathon.gecco_sra_drs_index i\n",
    "join dbgap_demo.scr_gecco_susceptibility.sample_multi sa on sa.sample_id = i.sample_id\n",
    "join dbgap_demo.scr_gecco_susceptibility.subject_phenotypes_multi su on su.dbgap_subject_id = sa.dbgap_subject_id\n",
    "where age between 50 and 55\n",
    "and affection_status = 'Case'\n",
    "and file_type = 'cram' limit 10'''\n",
    "getSeln(query)"
   ]
  },
  {
   "cell_type": "code",
   "execution_count": 30,
   "metadata": {},
   "outputs": [
    {
     "name": "stdout",
     "output_type": "stream",
     "text": [
      "_Retrieving the query_\n",
      "____Page1_______________\n",
      "____Page2_______________\n",
      "____Page3_______________\n",
      "____Page4_______________\n",
      "____Page5_______________\n",
      "____Page6_______________\n",
      "{\n",
      "    \"selection\": [\n",
      "        \"egadrs:EGAF00001554155\",\n",
      "        \"egadrs:EGAF00001554156\",\n",
      "        \"egadrs:EGAF00001554157\"\n",
      "    ]\n",
      "}\n"
     ]
    }
   ],
   "source": [
    "elixirQuery = \"SELECT 'egadrs:'||fileid, filename FROM dbgap_demo.scr_ega.scr_egapancreatic_sample_multi p join dbgap_demo.scr_ega.scr_egapancreatic_files f on f.sample_primary_id = p.sample_primary_id where phenotype = 'pancreatic adenocarcinoma' limit 3\"\n",
    "getSeln(elixirQuery)\n"
   ]
  },
  {
   "cell_type": "markdown",
   "metadata": {},
   "source": [
    "A Search and WES client are then set up to work with the Anvil data\n",
    "\n",
    "The Search client here  is a placeholder to search a local file. That file contains file ids downloaded as a manifest from the Gen3 Anvil portal. That list of files in that manifest had already been filtered to relevant samples. The anv: DRS prefix was added in an edited version of the file.\n",
    "\n",
    "#Todo check what access_ids DRSMetaresolver is using for each run"
   ]
  },
  {
   "cell_type": "code",
   "execution_count": 4,
   "metadata": {},
   "outputs": [
    {
     "name": "stdout",
     "output_type": "stream",
     "text": [
      "Running query\n",
      "3\n",
      "subject=GTEX-1GTWX-0001-SM-7J3A5.cram, drsID=anv:dg.ANV0/76bb893d-12da-41ca-8828-ff89551d3e15\n",
      "sending id dg.ANV0/76bb893d-12da-41ca-8828-ff89551d3e15 to: anvilDRSClient\n",
      "workflow submitted, run:37c14324-4e81-413d-9b86-0eca72c9e24d\n",
      "____________________________________________________________\n",
      "subject=GTEX-14PQA-0003-SM-7DLH4.cram, drsID=anv:dg.ANV0/66352de8-4b50-4cae-881d-b76d03df5ac8\n",
      "sending id dg.ANV0/66352de8-4b50-4cae-881d-b76d03df5ac8 to: anvilDRSClient\n",
      "workflow submitted, run:92d21ed2-53ba-402a-b077-32cb12ac9beb\n",
      "____________________________________________________________\n",
      "subject=GTEX-1B98T-0004-SM-7J38T.cram, drsID=anv:dg.ANV0/ed9ac9ae-02da-4e97-93da-ad86aa77d227\n",
      "sending id dg.ANV0/ed9ac9ae-02da-4e97-93da-ad86aa77d227 to: anvilDRSClient\n",
      "workflow submitted, run:7dc06985-3e58-4466-9b00-a799b99759f0\n",
      "____________________________________________________________\n"
     ]
    }
   ],
   "source": [
    "from fasp.workflow import sbcgcWESClient\n",
    "searchClient = Gen3ManifestClient('../fasp/data/gtex/gtex-cram-manifest_wCuries.json')\n",
    "# drsClient No need to reset this. DRS Metasolver will pick the right client\n",
    "#wesClient = sbWESClient(settings['SevenBridgesInstance'], settings['SevenBridgesProject'],\n",
    "                    #'~/.keys/sbcgc_key.json')\n",
    "\n",
    "wesClient = sbcgcWESClient(settings['SevenBridgesProject'])\n",
    "\n",
    "faspRunner.configure(searchClient, drsClient, wesClient)\n",
    "runList2 = faspRunner.runQuery(3, runNote)\n"
   ]
  },
  {
   "cell_type": "code",
   "execution_count": null,
   "metadata": {},
   "outputs": [],
   "source": []
  }
 ],
 "metadata": {
  "kernelspec": {
   "display_name": "Python 3",
   "language": "python",
   "name": "python3"
  },
  "language_info": {
   "codemirror_mode": {
    "name": "ipython",
    "version": 3
   },
   "file_extension": ".py",
   "mimetype": "text/x-python",
   "name": "python",
   "nbconvert_exporter": "python",
   "pygments_lexer": "ipython3",
   "version": "3.7.3"
  }
 },
 "nbformat": 4,
 "nbformat_minor": 4
}
