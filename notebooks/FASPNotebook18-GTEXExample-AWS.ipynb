{
 "cells": [
  {
   "cell_type": "markdown",
   "metadata": {},
   "source": [
    "<img src=\"../fasp/runner/credits/images/GTEXExample.jpg\" style=\"float: right;\">\n",
    "\n",
    "### GTEX Example - AWS compute via Seven Bridges WES\n",
    "This notebook computes on the freely available GTEX version 8 files on Amazon AWS using the Seven Bridges Cancer Genomics Cloud WES service. \n",
    "\n",
    "In this case the DRS ids of the GTEX files are available via a client which acccess a local manifest file. The manifest file is obtained from Anvil as follows.\n",
    "https://anvilproject.org/learn/reference/gtex-v8-free-egress-instructions\n",
    "\n",
    "Rather than use the Gen3 Downloader described in the egress instructions, this example uses the Anvil DRS service to obtain URLs which can be passed to the Seven Bridges CGC WES Service.\n",
    "\n",
    "The following step demonstrates a query run against that file. "
   ]
  },
  {
   "cell_type": "code",
   "execution_count": 9,
   "metadata": {},
   "outputs": [
    {
     "name": "stdout",
     "output_type": "stream",
     "text": [
      "Running FASPNotebook18-GTEXExample-AWS.ipynb\n"
     ]
    }
   ],
   "source": [
    "from fasp.runner import FASPRunner\n",
    "\n",
    "# The implementations we're using\n",
    "from fasp.search import Gen3ManifestClient\n",
    "from fasp.loc import anvilDRSClient\n",
    "from fasp.workflow import sbcgcWESClient\n",
    "\n",
    "faspRunner = FASPRunner()\n",
    "\n",
    "# Step 1 - Discovery\n",
    "# query for relevant DRS objects\n",
    "searchClient = Gen3ManifestClient('../fasp/data/gtex/gtex-cram-manifest.json')\n",
    "res = searchClient.runQuery(3)\n"
   ]
  },
  {
   "cell_type": "code",
   "execution_count": 10,
   "metadata": {},
   "outputs": [
    {
     "data": {
      "text/plain": [
       "{'access_methods': [{'access_id': 'gs',\n",
       "   'access_url': {'url': 'gs://fc-secure-ff8156a3-ddf3-42e4-9211-0fd89da62108/GTEx_Analysis_2017-06-05_v8_WGS_CRAM_files/GTEX-1B98T-0004-SM-7J38T.cram'},\n",
       "   'region': '',\n",
       "   'type': 'gs'},\n",
       "  {'access_id': 's3',\n",
       "   'access_url': {'url': 's3://AnVIL/GTEx_Analysis_2017-06-05_v8_WGS_CRAM_files/GTEX-1B98T-0004-SM-7J38T.cram'},\n",
       "   'region': '',\n",
       "   'type': 's3'}],\n",
       " 'aliases': [],\n",
       " 'checksums': [{'checksum': 'cfd2f4cde4aa3e0cf9f726f0c1255fcd',\n",
       "   'type': 'md5'}],\n",
       " 'contents': [],\n",
       " 'created_time': '2020-07-08T18:53:27.860156',\n",
       " 'description': None,\n",
       " 'form': 'object',\n",
       " 'id': 'dg.ANV0/ed9ac9ae-02da-4e97-93da-ad86aa77d227',\n",
       " 'mime_type': 'application/json',\n",
       " 'name': 'GTEX-1B98T-0004-SM-7J38T.cram',\n",
       " 'self_uri': 'drs://gen3.theanvil.io/dg.ANV0/ed9ac9ae-02da-4e97-93da-ad86aa77d227',\n",
       " 'size': 38379493977,\n",
       " 'updated_time': '2020-07-08T18:53:27.860163',\n",
       " 'version': '64acd5a6'}"
      ]
     },
     "execution_count": 10,
     "metadata": {},
     "output_type": "execute_result"
    }
   ],
   "source": [
    "drsClient = anvilDRSClient('~/.keys/anvil_credentials.json', access_id='s3')\n",
    "drsClient.getObject(res[2][1])"
   ]
  },
  {
   "cell_type": "code",
   "execution_count": 11,
   "metadata": {},
   "outputs": [],
   "source": [
    "url = drsClient.getAccessURL(res[2][1])"
   ]
  },
  {
   "cell_type": "code",
   "execution_count": 12,
   "metadata": {},
   "outputs": [
    {
     "name": "stdout",
     "output_type": "stream",
     "text": [
      "Running query\n",
      "3\n",
      "subject=GTEX-1GTWX-0001-SM-7J3A5.cram, drsID=dg.ANV0/76bb893d-12da-41ca-8828-ff89551d3e15\n",
      "https://cgc-ga4gh-api.sbgenomics.com/ga4gh/wes/v1\n",
      "workflow submitted, run:ce9b48c4-6e62-48fb-8c59-23e34c7c471c\n",
      "____________________________________________________________\n",
      "subject=GTEX-14PQA-0003-SM-7DLH4.cram, drsID=dg.ANV0/66352de8-4b50-4cae-881d-b76d03df5ac8\n",
      "https://cgc-ga4gh-api.sbgenomics.com/ga4gh/wes/v1\n",
      "workflow submitted, run:020c7ec1-2c89-4840-99fd-387bb7dada49\n",
      "____________________________________________________________\n",
      "subject=GTEX-1B98T-0004-SM-7J38T.cram, drsID=dg.ANV0/ed9ac9ae-02da-4e97-93da-ad86aa77d227\n",
      "https://cgc-ga4gh-api.sbgenomics.com/ga4gh/wes/v1\n",
      "workflow submitted, run:47cdc1d6-826b-47d4-af25-5303857411e5\n",
      "____________________________________________________________\n"
     ]
    },
    {
     "data": {
      "text/plain": [
       "[{'subject': 'GTEX-1GTWX-0001-SM-7J3A5.cram',\n",
       "  'run_id': 'ce9b48c4-6e62-48fb-8c59-23e34c7c471c'},\n",
       " {'subject': 'GTEX-14PQA-0003-SM-7DLH4.cram',\n",
       "  'run_id': '020c7ec1-2c89-4840-99fd-387bb7dada49'},\n",
       " {'subject': 'GTEX-1B98T-0004-SM-7J38T.cram',\n",
       "  'run_id': '47cdc1d6-826b-47d4-af25-5303857411e5'}]"
      ]
     },
     "execution_count": 12,
     "metadata": {},
     "output_type": "execute_result"
    }
   ],
   "source": [
    "settings = faspRunner.settings\n",
    "wesClient = sbcgcWESClient( settings['SevenBridgesProject'], '~/.keys/sbcgc_key.json')\n",
    "\n",
    "faspRunner.configure(searchClient, drsClient, wesClient)\n",
    "\n",
    "faspRunner.runQuery(3, 'Anvil GTEX Test from notebook')"
   ]
  },
  {
   "cell_type": "code",
   "execution_count": 14,
   "metadata": {},
   "outputs": [
    {
     "data": {
      "image/png": "[encoded data removed]",
      "text/plain": [
       "<PIL.Image.Image image mode=RGB size=60x60 at 0x1285706D8>"
      ]
     },
     "execution_count": 14,
     "metadata": {},
     "output_type": "execute_result"
    }
   ],
   "source": [
    "faspRunner.getFASPicon()"
   ]
  },
  {
   "cell_type": "code",
   "execution_count": null,
   "metadata": {},
   "outputs": [],
   "source": []
  }
 ],
 "metadata": {
  "kernelspec": {
   "display_name": "Python 3",
   "language": "python",
   "name": "python3"
  },
  "language_info": {
   "codemirror_mode": {
    "name": "ipython",
    "version": 3
   },
   "file_extension": ".py",
   "mimetype": "text/x-python",
   "name": "python",
   "nbconvert_exporter": "python",
   "pygments_lexer": "ipython3",
   "version": "3.7.3"
  }
 },
 "nbformat": 4,
 "nbformat_minor": 4
}
