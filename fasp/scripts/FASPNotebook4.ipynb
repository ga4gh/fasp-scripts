{
 "cells": [
  {
   "cell_type": "markdown",
   "metadata": {},
   "source": [
    "This notebook runs the same set of clients as FASPScript4"
   ]
  },
  {
   "cell_type": "code",
   "execution_count": 1,
   "metadata": {},
   "outputs": [],
   "source": [
    "#  IMPORTS\n",
    "import sys \n",
    "\n",
    "from fasp.runner import FASPRunner\n",
    "\n",
    "# The implementations we're using\n",
    "from fasp.loc import DRSMetaResolver\n",
    "from fasp.search import DiscoverySearchClient\n",
    "from fasp.workflow import sbWESClient"
   ]
  },
  {
   "cell_type": "code",
   "execution_count": 2,
   "metadata": {},
   "outputs": [],
   "source": [
    "pp_dbgap_join = \"SELECT sp.dbGaP_Subject_ID,  'sbcgc:'||sb_drs_id FROM dbgap_demo.scr_gecco_susceptibility.subject_phenotypes_multi sp join dbgap_demo.scr_gecco_susceptibility.sample_multi sm on sm.dbgap_subject_id = sp.dbgap_subject_id join dbgap_demo.scr_gecco_susceptibility.sb_drs_index di on di.sample_id = sm.sample_id join sample_phenopackets.ga4gh_tables.gecco_phenopackets pp on pp.id = sm.biosample_accession where  json_extract_scalar(pp.phenopacket, '$.subject.sex') = 'MALE' and file_type = 'cram' limit 1\"\n",
    "\n",
    "# Step 1 - Discovery\n",
    "# query for relevant DRS objects\n",
    "searchClient = DiscoverySearchClient('https://ga4gh-search-adapter-presto-public.prod.dnastack.com/')\n",
    "\n"
   ]
  },
  {
   "cell_type": "code",
   "execution_count": 6,
   "metadata": {},
   "outputs": [],
   "source": [
    "# Step 2 - DRS - a metaresolver will deal with which drs server is required\n",
    "drsClient = DRSMetaResolver()\n",
    "\n"
   ]
  },
  {
   "cell_type": "code",
   "execution_count": null,
   "metadata": {},
   "outputs": [],
   "source": []
  },
  {
   "cell_type": "code",
   "execution_count": 4,
   "metadata": {},
   "outputs": [],
   "source": [
    "# Step 3 - set up a class that run a compute for us\n",
    "wesClient = sbWESClient('cgc','forei/gecco','~/.keys/sbcgc_key.json')"
   ]
  },
  {
   "cell_type": "code",
   "execution_count": 5,
   "metadata": {},
   "outputs": [
    {
     "name": "stdout",
     "output_type": "stream",
     "text": [
      "Running <ipython-input-5-094491e71c09>\n",
      "Which is running in/as jupyter\n",
      "Running query\n",
      "SELECT sp.dbGaP_Subject_ID,  'sbcgc:'||sb_drs_id FROM dbgap_demo.scr_gecco_susceptibility.subject_phenotypes_multi sp join dbgap_demo.scr_gecco_susceptibility.sample_multi sm on sm.dbgap_subject_id = sp.dbgap_subject_id join dbgap_demo.scr_gecco_susceptibility.sb_drs_index di on di.sample_id = sm.sample_id join sample_phenopackets.ga4gh_tables.gecco_phenopackets pp on pp.id = sm.biosample_accession where  json_extract_scalar(pp.phenopacket, '$.subject.sex') = 'MALE' and file_type = 'cram' limit 1\n",
      "_Retrieving the query_\n",
      "____Page1_______________\n",
      "____Page2_______________\n",
      "____Page3_______________\n",
      "____Page4_______________\n",
      "____Page5_______________\n",
      "____Page6_______________\n",
      "____Page7_______________\n",
      "____Page8_______________\n",
      "subject=2474312, drsID=sbcgc:5baa8cece4b0db63859e6590\n",
      "sending id 5baa8cece4b0db63859e6590 to: sbcgcDRSClient\n",
      "workflow submitted, run:3c80ce8b-6dd7-443a-9f24-361c5e5f18a6\n"
     ]
    }
   ],
   "source": [
    "faspRunner = FASPRunner(pauseSecs=0, program='FASPNotebook4')\n",
    "faspRunner.configure(searchClient, drsClient, wesClient)\n",
    "\n",
    "faspRunner.runQuery(pp_dbgap_join, 'Phenopacket Gecco')"
   ]
  },
  {
   "cell_type": "code",
   "execution_count": null,
   "metadata": {},
   "outputs": [],
   "source": []
  },
  {
   "cell_type": "code",
   "execution_count": null,
   "metadata": {},
   "outputs": [],
   "source": []
  }
 ],
 "metadata": {
  "kernelspec": {
   "display_name": "Python 3",
   "language": "python",
   "name": "python3"
  },
  "language_info": {
   "codemirror_mode": {
    "name": "ipython",
    "version": 3
   },
   "file_extension": ".py",
   "mimetype": "text/x-python",
   "name": "python",
   "nbconvert_exporter": "python",
   "pygments_lexer": "ipython3",
   "version": "3.7.3"
  }
 },
 "nbformat": 4,
 "nbformat_minor": 4
}
