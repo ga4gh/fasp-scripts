{
 "cells": [
  {
   "cell_type": "markdown",
   "metadata": {},
   "source": [
    "## Running a Workflow on a Seven Bridges WES server\n",
    "I'm setting out to use the SevenBridges WES client to run samtools stats on a cram file. The instructions described here https://docs.cancergenomicscloud.org/docs/run-a-workflow are the starting point for how to do this.\n"
   ]
  },
  {
   "cell_type": "code",
   "execution_count": 1,
   "metadata": {},
   "outputs": [],
   "source": [
    "from fasp.workflow import sbWESClient\n",
    "cl = sbWESClient('cgc','forei/gecco','~/.keys/sbcgc_key.json')"
   ]
  },
  {
   "cell_type": "markdown",
   "metadata": {},
   "source": [
    "The above instantiates a client for the SevenBridges Cancer Genomics Cloud (CGC ). \n",
    "\n",
    "### Checking a previous run\n",
    "For information we'll first use the client to get the details of a task that was run from the CGC user interface\n",
    "The getTaskStatus function below is simply a wrapper around https://cgc-ga4gh-api.sbgenomics.com/ga4gh/wes/v1/runs/{run_id} which deals with authentication, passing and retrieving the request. That  gives some clues about how to fill out a request to submit the same task via WES instead of the UI.\n",
    "\n",
    "It's worth noting that though DRS was not used at all to create the task within the UI the file paths in the WES response do use a DRS notation for them."
   ]
  },
  {
   "cell_type": "code",
   "execution_count": 2,
   "metadata": {},
   "outputs": [
    {
     "name": "stdout",
     "output_type": "stream",
     "text": [
      "Get request sent to: https://cgc-ga4gh-api.sbgenomics.com/ga4gh/wes/v1/runs/0a528553-1292-493c-8db6-db1c3ce7831b\n",
      "{\n",
      "  \"request\": {\n",
      "    \"tags\": {},\n",
      "    \"workflow_params\": {\n",
      "      \"name\": \"SAMtools Stats 1.8 run - 01-09-21 17:44:31\",\n",
      "      \"project\": \"forei/gecco\",\n",
      "      \"inputs\": {\n",
      "        \"total_memory_GB\": null,\n",
      "        \"coverage_limit\": null,\n",
      "        \"include_only_read_group\": null,\n",
      "        \"remove_duplicates\": null,\n",
      "        \"max_insert_size\": null,\n",
      "        \"reference_file\": {\n",
      "          \"path\": \"drs://cgc-ga4gh-api.sbgenomics.com/5bad6c83e4b0abc138917143\",\n",
      "          \"name\": \"references-hs37d5-hs37d5.fasta\",\n",
      "          \"class\": \"File\"\n",
      "        },\n",
      "        \"alignment_input_file\": {\n",
      "          \"path\": \"drs://cgc-ga4gh-api.sbgenomics.com/5ba9223ee4b0abc138883360\",\n",
      "          \"name\": \"117438.recal.cram\",\n",
      "          \"class\": \"File\"\n",
      "        }\n",
      "      }\n",
      "    },\n",
      "    \"workflow_type\": \"CWL\",\n",
      "    \"workflow_engine_params\": {}\n",
      "  },\n",
      "  \"state\": \"COMPLETE\",\n",
      "  \"outputs\": {\n",
      "    \"statistics\": {\n",
      "      \"path\": \"drs://cgc-ga4gh-api.sbgenomics.com/5ff9fa39e4b0eeecd987e902\",\n",
      "      \"name\": \"117438.recal.cram.stats.txt\",\n",
      "      \"class\": \"File\"\n",
      "    }\n",
      "  },\n",
      "  \"run_id\": \"0a528553-1292-493c-8db6-db1c3ce7831b\",\n",
      "  \"run_log\": {\n",
      "    \"name\": \"SAMtools Stats 1.8 run - 01-09-21 17:44:31\",\n",
      "    \"cmd\": null,\n",
      "    \"start_time\": \"2021-01-09T17:45:20Z\",\n",
      "    \"end_time\": \"2021-01-09T18:47:23Z\",\n",
      "    \"stdout\": null,\n",
      "    \"stderr\": null,\n",
      "    \"exit_code\": 0\n",
      "  },\n",
      "  \"task_logs\": [\n",
      "    {\n",
      "      \"name\": \"samtools-stats-1-8\",\n",
      "      \"cmd\": \"/opt/samtools-1.8/samtools stats --reference /sbgenomics/Projects/d79e71c3-242f-4825-aae2-47b887466f6a/references-hs37d5-hs37d5.fasta 117438.recal.cram  > 117438.recal.cram.stats.txt\",\n",
      "      \"start_time\": \"2021-01-09T17:52:41Z\",\n",
      "      \"end_time\": \"2021-01-09T18:47:20Z\",\n",
      "      \"stdout\": \"drs://cgc-ga4gh-api.sbgenomics.com/5ff9fa36e4b0bf4a7dec7f05\",\n",
      "      \"stderr\": \"drs://cgc-ga4gh-api.sbgenomics.com/5ff9fa36e4b0bf4a7dec7f05\",\n",
      "      \"exit_code\": 0\n",
      "    }\n",
      "  ]\n",
      "}\n"
     ]
    },
    {
     "data": {
      "text/plain": [
       "'COMPLETE'"
      ]
     },
     "execution_count": 2,
     "metadata": {},
     "output_type": "execute_result"
    }
   ],
   "source": [
    "cl.getTaskStatus('0a528553-1292-493c-8db6-db1c3ce7831b', verbose=True)"
   ]
  },
  {
   "cell_type": "markdown",
   "metadata": {},
   "source": [
    "Looking at that response gives some clues about how to edit the example provided in the documentation.\n",
    "\n",
    "How the task looks in the UI is also helpful.\n",
    "![alt text](SAMToolsTask.png \"samtools task as shown in SevenBridges CGC UI\")\n",
    "\n",
    "## Running the same compute via the WES API\n",
    "Filling out the body for a WES request to run the same thing, the project information is easy to work out. Inputs too seem pretty straightforward. Even though it's not present in the status above it's also pretty obvious that workflow_url should be the URI for the samtools stats app in my gecco project. The only tricky one was workflow_type_version. The log for the task run via the UI gives us a clue for that; job.json contains \"cwlVersion\" : \"sbg:draft-2\".\n",
    "\n",
    "With all that we come up with the following body for the request."
   ]
  },
  {
   "cell_type": "code",
   "execution_count": 3,
   "metadata": {},
   "outputs": [],
   "source": [
    "body = {\n",
    "  \"workflow_params\": {\n",
    "    \"project\": \"forei/gecco\",\n",
    "    \"inputs\": {\n",
    "      \"alignment_input_file\":\n",
    "        {\n",
    "          \"path\": \"drs://cgc-ga4gh-api.sbgenomics.com/5ba9223ee4b0abc138883360\",\n",
    "          \"name\": \"117438.recal.cram\",\n",
    "          \"class\": \"File\"\n",
    "        },\n",
    "      \"reference_file\": {\n",
    "          \"path\": \"drs://cgc-ga4gh-api.sbgenomics.com/5bad6c83e4b0abc138917143\",\n",
    "          \"name\": \"references-hs37d5-hs37d5.fasta\",\n",
    "        \"class\": \"File\"\n",
    "      }\n",
    "    }\n",
    "  },\n",
    "  \"workflow_type\": \"CWL\",\n",
    "  \"workflow_type_version\": \"sbg:draft-2\",\n",
    "  \"workflow_url\": \"sbg://forei/gecco/samtools-stats-1-8/10\"\n",
    "}"
   ]
  },
  {
   "cell_type": "markdown",
   "metadata": {},
   "source": [
    "## Calling WES from Python\n",
    "The WES request has to be passed to the WES server as a multipart/form. The following approach proved necessary to structure the request body to make use of the way Python the requests module constructs multipart forms. The way the  requests module does so is quite compact but somewhat obscure. It might be better to deal with than in the WES client. For now we'll do it outside the client to maintain transparency and for the purpose of learning how to do this."
   ]
  },
  {
   "cell_type": "code",
   "execution_count": 4,
   "metadata": {},
   "outputs": [],
   "source": [
    "import json\n",
    "\n",
    "params = {\n",
    "    \"project\": \"forei/gecco\",\n",
    "    \"inputs\": {\n",
    "      \"alignment_input_file\":\n",
    "        {\n",
    "          \"path\": \"drs://cgc-ga4gh-api.sbgenomics.com/5ba9223ee4b0abc138883360\",\n",
    "          \"name\": \"117438.recal.cram\",\n",
    "          \"class\": \"File\"\n",
    "        },\n",
    "      \"reference_file\": {\n",
    "          \"path\": \"drs://cgc-ga4gh-api.sbgenomics.com/5bad6c83e4b0abc138917143\",\n",
    "          \"name\": \"references-hs37d5-hs37d5.fasta\",\n",
    "        \"class\": \"File\"\n",
    "      }\n",
    "    }\n",
    "  }\n",
    "body = {\n",
    "  \"workflow_params\": (None, json.dumps(params), 'application/json'),\n",
    "  \"workflow_type\": \"CWL\",\n",
    "  \"workflow_type_version\": \"sbg:draft-2\",\n",
    "  \"workflow_url\": \"sbg://forei/gecco/samtools-stats-1-8/10\"\n",
    "}"
   ]
  },
  {
   "cell_type": "markdown",
   "metadata": {},
   "source": [
    "Now we have formulated the body in the way that it can be passed as a multipart/form we will run it."
   ]
  },
  {
   "cell_type": "code",
   "execution_count": 5,
   "metadata": {},
   "outputs": [],
   "source": [
    "run_id = cl.runGenericWorkflow(body)"
   ]
  },
  {
   "cell_type": "code",
   "execution_count": 9,
   "metadata": {},
   "outputs": [
    {
     "data": {
      "text/plain": [
       "'COMPLETE'"
      ]
     },
     "execution_count": 9,
     "metadata": {},
     "output_type": "execute_result"
    }
   ],
   "source": [
    "cl.getTaskStatus(run_id)"
   ]
  },
  {
   "cell_type": "markdown",
   "metadata": {},
   "source": [
    "## Getting the results - via DRS\n",
    "Once the run is complete, further steps can use DRS to obtain the file output from the workflow."
   ]
  },
  {
   "cell_type": "code",
   "execution_count": 10,
   "metadata": {},
   "outputs": [
    {
     "data": {
      "text/plain": [
       "{'statistics': {'path': 'drs://cgc-ga4gh-api.sbgenomics.com/60034a99e4b09cae722a78d0',\n",
       "  'name': '_11_117438.recal.cram.stats.txt',\n",
       "  'class': 'File'}}"
      ]
     },
     "execution_count": 10,
     "metadata": {},
     "output_type": "execute_result"
    }
   ],
   "source": [
    "runLog = cl.GetRunLog(run_id)\n",
    "runLog['outputs']"
   ]
  },
  {
   "cell_type": "code",
   "execution_count": 11,
   "metadata": {},
   "outputs": [
    {
     "data": {
      "text/plain": [
       "'drs://cgc-ga4gh-api.sbgenomics.com/60034a99e4b09cae722a78d0'"
      ]
     },
     "execution_count": 11,
     "metadata": {},
     "output_type": "execute_result"
    }
   ],
   "source": [
    "resultsDRSID = runLog['outputs']['statistics']['path']\n",
    "resultsDRSID"
   ]
  },
  {
   "cell_type": "markdown",
   "metadata": {},
   "source": [
    "We'll pass over the question of how one would determine which DRS server that URI needs to be sent to because\n",
    "* In this case it's fairly obvious - it's the CGC DRS Server\n",
    "* We want to get something up and working\n",
    "* There are other things we should consider when dealing with metaresolvers\n",
    "\n",
    "Add to to-do list: a notebook on Metaresolvers"
   ]
  },
  {
   "cell_type": "code",
   "execution_count": 12,
   "metadata": {
    "scrolled": true
   },
   "outputs": [],
   "source": [
    "from fasp.loc import sbcgcDRSClient\n",
    "drsClient = sbcgcDRSClient('~/.keys/sevenbridges_keys.json', 's3')"
   ]
  },
  {
   "cell_type": "markdown",
   "metadata": {},
   "source": [
    "### DRS GetObject\n",
    "Here's how we then get details of the file. Note that here only the id portion of the DRS URI is being passed. It is the job of a metaresolver to look at that URI and to determine where to send the id. As noted, we are passing up on the opportunity to use a metaresolver and putting in the id manually."
   ]
  },
  {
   "cell_type": "code",
   "execution_count": 13,
   "metadata": {},
   "outputs": [
    {
     "data": {
      "text/plain": [
       "{'id': '5ffe65dee4b0eeecd99a2b39',\n",
       " 'name': '_3_117438.recal.cram.stats.txt',\n",
       " 'size': 111394,\n",
       " 'checksums': [{'type': 'etag',\n",
       "   'checksum': '347d17ba60392492bff1689cae4355b5-1'}],\n",
       " 'self_uri': 'drs://cgc-ga4gh-api.sbgenomics.com/5ffe65dee4b0eeecd99a2b39',\n",
       " 'created_time': '2021-01-13T03:15:42Z',\n",
       " 'updated_time': '2021-01-13T03:15:42Z',\n",
       " 'mime_type': 'application/json',\n",
       " 'access_methods': [{'type': 's3',\n",
       "   'region': 'us-east-1',\n",
       "   'access_id': 'aws-us-east-1'}]}"
      ]
     },
     "execution_count": 13,
     "metadata": {},
     "output_type": "execute_result"
    }
   ],
   "source": [
    "fileDetails = drsClient.getObject('5ffe65dee4b0eeecd99a2b39')\n",
    "fileDetails"
   ]
  },
  {
   "cell_type": "code",
   "execution_count": 14,
   "metadata": {},
   "outputs": [],
   "source": [
    "url = drsClient.getAccessURL('5ffe65dee4b0eeecd99a2b39','s3')"
   ]
  },
  {
   "cell_type": "markdown",
   "metadata": {},
   "source": [
    "### Downloading the file\n",
    "Now we can use the url obtained to download the file. We'll create a small function to encapsulate the download."
   ]
  },
  {
   "cell_type": "code",
   "execution_count": 15,
   "metadata": {},
   "outputs": [],
   "source": [
    "import requests\n",
    "import os\n",
    "def download(url, file_path):\n",
    "    with open(os.path.expanduser(file_path), \"wb\") as file:\n",
    "        response = requests.get(url)\n",
    "        file.write(response.content)"
   ]
  },
  {
   "cell_type": "code",
   "execution_count": 16,
   "metadata": {},
   "outputs": [],
   "source": [
    "fullPath = '~/Downloads/' + fileDetails['name']\n",
    "download(url, fullPath)"
   ]
  },
  {
   "cell_type": "markdown",
   "metadata": {},
   "source": [
    "## Why we need a Metaresolver\n",
    "Just to prove that to use DRS URIs we need a metaresolver. Here's what happens when we try asking the DRS Server to resolve the full DRS URI."
   ]
  },
  {
   "cell_type": "code",
   "execution_count": null,
   "metadata": {},
   "outputs": [],
   "source": [
    "drsClient.getObject('drs://cgc-ga4gh-api.sbgenomics.com/5ffe65dee4b0eeecd99a2b39')"
   ]
  },
  {
   "cell_type": "markdown",
   "metadata": {},
   "source": [
    "That we get an error (404) might seem weird or obtuse behavior for at least couple of reasons:\n",
    "* The DRS server clearly knows that is the URI for that file. It tells us so in the self_uri attribute\n",
    "* The WES server from the same organization was quite happy with the full URI\n",
    "\n",
    "However this behavior is correct according to the spec (double check that). A DRS Server resolves only the identifiers that are local to it.\n",
    "\n",
    "A metaresolver would be needed for resolving compact URIs too."
   ]
  },
  {
   "cell_type": "code",
   "execution_count": null,
   "metadata": {},
   "outputs": [],
   "source": []
  }
 ],
 "metadata": {
  "kernelspec": {
   "display_name": "Python 3",
   "language": "python",
   "name": "python3"
  },
  "language_info": {
   "codemirror_mode": {
    "name": "ipython",
    "version": 3
   },
   "file_extension": ".py",
   "mimetype": "text/x-python",
   "name": "python",
   "nbconvert_exporter": "python",
   "pygments_lexer": "ipython3",
   "version": "3.7.3"
  }
 },
 "nbformat": 4,
 "nbformat_minor": 4
}
