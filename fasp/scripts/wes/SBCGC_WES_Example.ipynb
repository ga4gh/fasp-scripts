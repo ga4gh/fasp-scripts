{
 "cells": [
  {
   "cell_type": "markdown",
   "metadata": {},
   "source": [
    "I'm setting out to use the SevenBridges WES client to run samtools stats on a cram file. The instructions described here https://docs.cancergenomicscloud.org/docs/run-a-workflow are the starting point for how to do this.\n"
   ]
  },
  {
   "cell_type": "code",
   "execution_count": 1,
   "metadata": {},
   "outputs": [],
   "source": [
    "from fasp.workflow import sbWESClient\n",
    "cl = sbWESClient('cgc','forei/gecco','~/.keys/sbcgc_key.json')"
   ]
  },
  {
   "cell_type": "markdown",
   "metadata": {},
   "source": [
    "The above uses a client to get the details of a task that was run from the SevenBridges CGC user interface. \n",
    "\n",
    "The getTaskStatus function below is simply a wrapper around https://cgc-ga4gh-api.sbgenomics.com/ga4gh/wes/v1/runs/{run_id} which deals with authentication, passing and retrieving the request. That  gives some clues about how to fill out a request to submit the same task via WES instead of the UI.\n",
    "\n",
    "It's worth noting that though DRS was not used at all to create the task within the UI the file paths in the WES response do use a DRS notation for them."
   ]
  },
  {
   "cell_type": "code",
   "execution_count": 2,
   "metadata": {},
   "outputs": [
    {
     "name": "stdout",
     "output_type": "stream",
     "text": [
      "Get request sent to: https://cgc-ga4gh-api.sbgenomics.com/ga4gh/wes/v1/runs/0a528553-1292-493c-8db6-db1c3ce7831b\n",
      "{\n",
      "  \"request\": {\n",
      "    \"tags\": {},\n",
      "    \"workflow_params\": {\n",
      "      \"name\": \"SAMtools Stats 1.8 run - 01-09-21 17:44:31\",\n",
      "      \"project\": \"forei/gecco\",\n",
      "      \"inputs\": {\n",
      "        \"total_memory_GB\": null,\n",
      "        \"coverage_limit\": null,\n",
      "        \"include_only_read_group\": null,\n",
      "        \"remove_duplicates\": null,\n",
      "        \"max_insert_size\": null,\n",
      "        \"reference_file\": {\n",
      "          \"path\": \"drs://cgc-ga4gh-api.sbgenomics.com/5bad6c83e4b0abc138917143\",\n",
      "          \"name\": \"references-hs37d5-hs37d5.fasta\",\n",
      "          \"class\": \"File\"\n",
      "        },\n",
      "        \"alignment_input_file\": {\n",
      "          \"path\": \"drs://cgc-ga4gh-api.sbgenomics.com/5ba9223ee4b0abc138883360\",\n",
      "          \"name\": \"117438.recal.cram\",\n",
      "          \"class\": \"File\"\n",
      "        }\n",
      "      }\n",
      "    },\n",
      "    \"workflow_type\": \"CWL\",\n",
      "    \"workflow_engine_params\": {}\n",
      "  },\n",
      "  \"state\": \"COMPLETE\",\n",
      "  \"outputs\": {\n",
      "    \"statistics\": {\n",
      "      \"path\": \"drs://cgc-ga4gh-api.sbgenomics.com/5ff9fa39e4b0eeecd987e902\",\n",
      "      \"name\": \"117438.recal.cram.stats.txt\",\n",
      "      \"class\": \"File\"\n",
      "    }\n",
      "  },\n",
      "  \"run_id\": \"0a528553-1292-493c-8db6-db1c3ce7831b\",\n",
      "  \"run_log\": {\n",
      "    \"name\": \"SAMtools Stats 1.8 run - 01-09-21 17:44:31\",\n",
      "    \"cmd\": null,\n",
      "    \"start_time\": \"2021-01-09T17:45:20Z\",\n",
      "    \"end_time\": \"2021-01-09T18:47:23Z\",\n",
      "    \"stdout\": null,\n",
      "    \"stderr\": null,\n",
      "    \"exit_code\": 0\n",
      "  },\n",
      "  \"task_logs\": [\n",
      "    {\n",
      "      \"name\": \"samtools-stats-1-8\",\n",
      "      \"cmd\": \"/opt/samtools-1.8/samtools stats --reference /sbgenomics/Projects/d79e71c3-242f-4825-aae2-47b887466f6a/references-hs37d5-hs37d5.fasta 117438.recal.cram  > 117438.recal.cram.stats.txt\",\n",
      "      \"start_time\": \"2021-01-09T17:52:41Z\",\n",
      "      \"end_time\": \"2021-01-09T18:47:20Z\",\n",
      "      \"stdout\": \"drs://cgc-ga4gh-api.sbgenomics.com/5ff9fa36e4b0bf4a7dec7f05\",\n",
      "      \"stderr\": \"drs://cgc-ga4gh-api.sbgenomics.com/5ff9fa36e4b0bf4a7dec7f05\",\n",
      "      \"exit_code\": 0\n",
      "    }\n",
      "  ]\n",
      "}\n"
     ]
    },
    {
     "data": {
      "text/plain": [
       "'COMPLETE'"
      ]
     },
     "execution_count": 2,
     "metadata": {},
     "output_type": "execute_result"
    }
   ],
   "source": [
    "cl.getTaskStatus('0a528553-1292-493c-8db6-db1c3ce7831b', verbose=True)"
   ]
  },
  {
   "cell_type": "markdown",
   "metadata": {},
   "source": [
    "Looking at that response gives some clues about how to edit the example provided in the documentation.\n",
    "\n",
    "How the task looks in the UI is also helpful.\n",
    "![alt text](SAMToolsTask.png \"samtools task as shown in SevenBridges CGC UI\")\n",
    "\n",
    "\n",
    "Filling out the body for a WES request to run the same thing, the project information is easy to work out. Inputs too seem pretty straightforward. Even though it's not present in the status above it's also pretty obvious that workflow_url should be the URI for the samtools stats app in my gecco project. The only tricky one was workflow_type_version. The log for the task run via the UI gives us a clue for that; job.json contains \"cwlVersion\" : \"sbg:draft-2\".\n",
    "\n",
    "With all that we come up with the following body for the request."
   ]
  },
  {
   "cell_type": "code",
   "execution_count": 4,
   "metadata": {},
   "outputs": [],
   "source": [
    "body = {\n",
    "  \"workflow_params\": {\n",
    "    \"project\": \"forei/gecco\",\n",
    "    \"inputs\": {\n",
    "      \"alignment_input_file\":\n",
    "        {\n",
    "          \"path\": \"drs://cgc-ga4gh-api.sbgenomics.com/5ba9223ee4b0abc138883360\",\n",
    "          \"name\": \"117438.recal.cram\",\n",
    "          \"class\": \"File\"\n",
    "        },\n",
    "      \"reference_file\": {\n",
    "          \"path\": \"drs://cgc-ga4gh-api.sbgenomics.com/5bad6c83e4b0abc138917143\",\n",
    "          \"name\": \"references-hs37d5-hs37d5.fasta\",\n",
    "        \"class\": \"File\"\n",
    "      }\n",
    "    }\n",
    "  },\n",
    "  \"workflow_type\": \"CWL\",\n",
    "  \"workflow_type_version\": \"sbg:draft-2\",\n",
    "  \"workflow_url\": \"sbg://forei/gecco/samtools-stats-1-8/10\"\n",
    "}"
   ]
  },
  {
   "cell_type": "code",
   "execution_count": 5,
   "metadata": {},
   "outputs": [
    {
     "name": "stdout",
     "output_type": "stream",
     "text": [
      "sending to https://cgc-ga4gh-api.sbgenomics.com/ga4gh/wes/v1/runs\n",
      "{\"status\":\"UNKNOWN\",\"message\":\"HTTP 415 Unsupported Media Type\"}\n",
      "<Response [415]>\n",
      "WES run submission failed. Response status:415\n"
     ]
    },
    {
     "ename": "SystemExit",
     "evalue": "1",
     "output_type": "error",
     "traceback": [
      "An exception has occurred, use %tb to see the full traceback.\n",
      "\u001b[0;31mSystemExit\u001b[0m\u001b[0;31m:\u001b[0m 1\n"
     ]
    },
    {
     "name": "stderr",
     "output_type": "stream",
     "text": [
      "/usr/local/lib/python3.7/site-packages/IPython/core/interactiveshell.py:3425: UserWarning: To exit: use 'exit', 'quit', or Ctrl-D.\n",
      "  warn(\"To exit: use 'exit', 'quit', or Ctrl-D.\", stacklevel=1)\n"
     ]
    }
   ],
   "source": [
    "response = cl.runWorkflow(body,verbose=True)\n",
    "print(response)"
   ]
  },
  {
   "cell_type": "markdown",
   "metadata": {},
   "source": [
    "For confirmation, the same 415 response is obtained if I submit the same details via Postman. In both cases the content-type is application/json."
   ]
  },
  {
   "cell_type": "code",
   "execution_count": null,
   "metadata": {},
   "outputs": [],
   "source": []
  }
 ],
 "metadata": {
  "kernelspec": {
   "display_name": "Python 3",
   "language": "python",
   "name": "python3"
  },
  "language_info": {
   "codemirror_mode": {
    "name": "ipython",
    "version": 3
   },
   "file_extension": ".py",
   "mimetype": "text/x-python",
   "name": "python",
   "nbconvert_exporter": "python",
   "pygments_lexer": "ipython3",
   "version": "3.7.3"
  }
 },
 "nbformat": 4,
 "nbformat_minor": 4
}
